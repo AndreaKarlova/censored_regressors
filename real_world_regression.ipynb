{
  "nbformat": 4,
  "nbformat_minor": 0,
  "metadata": {
    "colab": {
      "provenance": [],
      "toc_visible": true,
      "authorship_tag": "ABX9TyO0u9pdNhqR/76BvrNcck0d",
      "include_colab_link": true
    },
    "kernelspec": {
      "name": "python3",
      "display_name": "Python 3"
    },
    "language_info": {
      "name": "python"
    }
  },
  "cells": [
    {
      "cell_type": "markdown",
      "metadata": {
        "id": "view-in-github",
        "colab_type": "text"
      },
      "source": [
        "<a href=\"https://colab.research.google.com/github/AndreaKarlova/censored_regressors/blob/main/real_world_regression.ipynb\" target=\"_parent\"><img src=\"https://colab.research.google.com/assets/colab-badge.svg\" alt=\"Open In Colab\"/></a>"
      ]
    },
    {
      "cell_type": "code",
      "execution_count": 1,
      "metadata": {
        "id": "Gh_fxrApqlBl",
        "colab": {
          "base_uri": "https://localhost:8080/"
        },
        "outputId": "a5160968-a679-4642-bf24-0a5670614076"
      },
      "outputs": [
        {
          "output_type": "stream",
          "name": "stdout",
          "text": [
            "\u001b[2K     \u001b[90m━━━━━━━━━━━━━━━━━━━━━━━━━━━━━━━━━━━━━━━━\u001b[0m \u001b[32m266.1/266.1 kB\u001b[0m \u001b[31m3.2 MB/s\u001b[0m eta \u001b[36m0:00:00\u001b[0m\n",
            "\u001b[2K     \u001b[90m━━━━━━━━━━━━━━━━━━━━━━━━━━━━━━━━━━━━━━━━\u001b[0m \u001b[32m175.6/175.6 kB\u001b[0m \u001b[31m10.6 MB/s\u001b[0m eta \u001b[36m0:00:00\u001b[0m\n",
            "\u001b[2K     \u001b[90m━━━━━━━━━━━━━━━━━━━━━━━━━━━━━━━━━━━━━━━━\u001b[0m \u001b[32m40.7/40.7 kB\u001b[0m \u001b[31m2.2 MB/s\u001b[0m eta \u001b[36m0:00:00\u001b[0m\n",
            "\u001b[?25h"
          ]
        }
      ],
      "source": [
        "!pip install -Uq gpytorch"
      ]
    },
    {
      "cell_type": "code",
      "source": [
        "!pip install -Uq botorch"
      ],
      "metadata": {
        "id": "s7Ud1cd0o5ie",
        "colab": {
          "base_uri": "https://localhost:8080/"
        },
        "outputId": "84531d98-4f01-4afa-fd1f-f04ec896df34"
      },
      "execution_count": 2,
      "outputs": [
        {
          "output_type": "stream",
          "name": "stdout",
          "text": [
            "\u001b[2K     \u001b[90m━━━━━━━━━━━━━━━━━━━━━━━━━━━━━━━━━━━━━━━━\u001b[0m \u001b[32m625.0/625.0 kB\u001b[0m \u001b[31m7.0 MB/s\u001b[0m eta \u001b[36m0:00:00\u001b[0m\n",
            "\u001b[2K     \u001b[90m━━━━━━━━━━━━━━━━━━━━━━━━━━━━━━━━━━━━━━━━\u001b[0m \u001b[32m745.2/745.2 kB\u001b[0m \u001b[31m12.4 MB/s\u001b[0m eta \u001b[36m0:00:00\u001b[0m\n",
            "\u001b[2K     \u001b[90m━━━━━━━━━━━━━━━━━━━━━━━━━━━━━━━━━━━━━━━━\u001b[0m \u001b[32m174.5/174.5 kB\u001b[0m \u001b[31m8.8 MB/s\u001b[0m eta \u001b[36m0:00:00\u001b[0m\n",
            "\u001b[?25h"
          ]
        }
      ]
    },
    {
      "cell_type": "code",
      "execution_count": 3,
      "metadata": {
        "colab": {
          "base_uri": "https://localhost:8080/"
        },
        "id": "jYInCMPn6Xf6",
        "outputId": "d01c4ea6-e769-4477-9fba-af86f20e9ff9"
      },
      "outputs": [
        {
          "output_type": "stream",
          "name": "stdout",
          "text": [
            "Cloning into 'censored_regressors'...\n",
            "remote: Enumerating objects: 176, done.\u001b[K\n",
            "remote: Counting objects: 100% (176/176), done.\u001b[K\n",
            "remote: Compressing objects: 100% (138/138), done.\u001b[K\n",
            "remote: Total 176 (delta 82), reused 119 (delta 34), pack-reused 0\u001b[K\n",
            "Receiving objects: 100% (176/176), 33.54 MiB | 24.15 MiB/s, done.\n",
            "Resolving deltas: 100% (82/82), done.\n"
          ]
        }
      ],
      "source": [
        "!rm -rf censored_regressors\n",
        "!git clone https://github.com/AndreaKarlova/censored_regressors.git"
      ]
    },
    {
      "cell_type": "code",
      "execution_count": 1,
      "metadata": {
        "id": "EfRwvQMpttWI"
      },
      "outputs": [],
      "source": [
        "import tqdm\n",
        "import math\n",
        "import torch\n",
        "import numpy as np\n",
        "import gpytorch\n",
        "import pandas as pd\n",
        "from matplotlib import pyplot as plt"
      ]
    },
    {
      "cell_type": "code",
      "execution_count": 2,
      "metadata": {
        "id": "w4MUmvskLP0w"
      },
      "outputs": [],
      "source": [
        "import math\n",
        "from numbers import Number, Real\n",
        "\n",
        "import botorch\n",
        "import torch\n",
        "from torch.distributions import constraints\n",
        "from torch.distributions.exp_family import ExponentialFamily\n",
        "from torch.distributions.utils import _standard_normal, broadcast_all\n",
        "\n",
        "import importlib\n",
        "from censored_regressors.src.censored_normal import CensoredNormal\n",
        "from censored_regressors.src.censored_likelihood import CensoredGaussianLikelihood, CensoredGaussianLikelihoodAnalytic, CensoredGaussianLikelihoodMathematica"
      ]
    },
    {
      "cell_type": "code",
      "execution_count": 3,
      "metadata": {
        "id": "roc6L9a_To9F"
      },
      "outputs": [],
      "source": [
        "import warnings\n",
        "from typing import Any\n",
        "\n",
        "import torch\n",
        "from linear_operator.operators import LinearOperator, ZeroLinearOperator\n",
        "from torch import Tensor\n",
        "from torch.distributions import Distribution, Normal\n",
        "\n",
        "from gpytorch.constraints import Interval\n",
        "from gpytorch.distributions import base_distributions, MultivariateNormal\n",
        "from gpytorch.priors import Prior\n",
        "from gpytorch.utils.warnings import GPInputWarning\n",
        "from gpytorch.likelihoods.likelihood import _Likelihood, _OneDimensionalLikelihood"
      ]
    },
    {
      "cell_type": "code",
      "execution_count": 4,
      "metadata": {
        "id": "dQUyEobiw9sZ"
      },
      "outputs": [],
      "source": [
        "import pandas as pd\n",
        "from gpytorch.models import ApproximateGP # handles basic variational inference\n",
        "from gpytorch.variational import MeanFieldVariationalDistribution, CholeskyVariationalDistribution # distribution of the approximation q(f)\n",
        "from gpytorch.variational import VariationalStrategy # use when larger sample - transform q(u) to q(f) over inducing points\n",
        "\n",
        "class GPModel(ApproximateGP):\n",
        "    def __init__(self, inducing_points, covariance_type='cholesky', kernel='rbf'):\n",
        "        # defines approximation\n",
        "        if covariance_type == 'cholesky':\n",
        "          variational_distribution = CholeskyVariationalDistribution(inducing_points.size(0))\n",
        "        elif covariance_type == 'mean_field':\n",
        "          variational_distribution = MeanFieldVariationalDistribution(inducing_points.size(0))\n",
        "        else:\n",
        "          raise ValueError(\"Unknown covariance_type.\")\n",
        "        variational_strategy = VariationalStrategy(self, inducing_points,\n",
        "                                                   variational_distribution, learn_inducing_locations=False)\n",
        "        super(GPModel, self).__init__(variational_strategy)\n",
        "        # defines the GP prior\n",
        "        self.mean_module = gpytorch.means.ConstantMean()\n",
        "        if kernel == 'rbf':\n",
        "          self.covar_module = gpytorch.kernels.ScaleKernel(gpytorch.kernels.RBFKernel())\n",
        "        elif kernel == 'matern':\n",
        "          self.covar_module = gpytorch.kernels.ScaleKernel(gpytorch.kernels.MaternKernel())\n",
        "\n",
        "    def forward(self, x):\n",
        "        # for line in traceback.format_stack():\n",
        "        #   print(line.strip())\n",
        "        mean_x = self.mean_module(x)\n",
        "        covar_x = self.covar_module(x)\n",
        "        return gpytorch.distributions.MultivariateNormal(mean_x, covar_x)"
      ]
    },
    {
      "cell_type": "markdown",
      "source": [
        "# Dataset 1: Credit Risk"
      ],
      "metadata": {
        "id": "n5UAa-tnyTTv"
      }
    },
    {
      "cell_type": "code",
      "source": [
        "df = pd.read_csv('https://github.com/square/pysurvival/raw/master/pysurvival/datasets/credit_risk.csv')"
      ],
      "metadata": {
        "id": "g6lVqkGNxBXs"
      },
      "execution_count": 45,
      "outputs": []
    },
    {
      "cell_type": "code",
      "source": [
        "ax = df['duration'].plot(kind='hist')\n",
        "ax.set_xlabel(\"Duration from credit risk dataset\")\n",
        "ax.set_title('Histogram')"
      ],
      "metadata": {
        "colab": {
          "base_uri": "https://localhost:8080/",
          "height": 490
        },
        "id": "EXA9kohUxC3D",
        "outputId": "d8b56981-c132-47c6-e611-8b6985cde170"
      },
      "execution_count": 46,
      "outputs": [
        {
          "output_type": "execute_result",
          "data": {
            "text/plain": [
              "Text(0.5, 1.0, 'Histogram')"
            ]
          },
          "metadata": {},
          "execution_count": 46
        },
        {
          "output_type": "display_data",
          "data": {
            "text/plain": [
              "<Figure size 640x480 with 1 Axes>"
            ],
            "image/png": "[encoded data removed]"
          },
          "metadata": {}
        }
      ]
    },
    {
      "cell_type": "code",
      "source": [
        "category_columns = [\n",
        "    'checking_account_status', 'credit_history', 'purpose',\n",
        "    'savings_account_status', 'employment_years', 'personal_status',\n",
        "    'other_debtors', 'property', 'other_installment_plans', 'housing', 'job']\n",
        "dataset = pd.get_dummies(df, columns=category_columns, drop_first=True)\n",
        "\n",
        "# Creating the time and event columns\n",
        "time_column = 'duration'\n",
        "event_column = 'full_repaid'\n",
        "\n",
        "# Creating the features\n",
        "features = np.setdiff1d(dataset.columns, [time_column, event_column] ).tolist()"
      ],
      "metadata": {
        "id": "Co1w0ohkxd88"
      },
      "execution_count": 47,
      "outputs": []
    },
    {
      "cell_type": "code",
      "source": [
        "# Checking for null values\n",
        "N_null = sum(dataset[features].isnull().sum())\n",
        "print(\"The raw_dataset contains {} null values\".format(N_null)) #0 null values\n",
        "\n",
        "# Removing duplicates if there exist\n",
        "N_dupli = sum(dataset.duplicated(keep='first'))\n",
        "dataset = dataset.drop_duplicates(keep='first').reset_index(drop=True)\n",
        "print(\"The raw_dataset contains {} duplicates\".format(N_dupli))\n",
        "\n",
        "# Number of samples in the dataset\n",
        "N = dataset.shape[0]"
      ],
      "metadata": {
        "colab": {
          "base_uri": "https://localhost:8080/"
        },
        "id": "Uy9Q337RyAhE",
        "outputId": "d43d0b87-5cbd-4361-81e5-dbc14eb64243"
      },
      "execution_count": 48,
      "outputs": [
        {
          "output_type": "stream",
          "name": "stdout",
          "text": [
            "The raw_dataset contains 0 null values\n",
            "The raw_dataset contains 0 duplicates\n"
          ]
        }
      ]
    },
    {
      "cell_type": "code",
      "source": [
        "from sklearn.model_selection import train_test_split\n",
        "\n",
        "to_remove = ['credit_history_existing_credit_paid', 'housing_own']\n",
        "features = np.setdiff1d(features, to_remove).tolist()\n",
        "index_train, index_test = train_test_split( range(N), test_size = 0.4)\n",
        "data_train = dataset.loc[index_train].reset_index( drop = True )\n",
        "data_test  = dataset.loc[index_test].reset_index( drop = True )\n",
        "\n",
        "# Creating the X, T and E inputs\n",
        "X_train, X_test = data_train[features], data_test[features]\n",
        "T_train, T_test = data_train[time_column], data_test[time_column]\n",
        "E_train, E_test = data_train[event_column], data_test[event_column]"
      ],
      "metadata": {
        "id": "EUFSh0_uksWN"
      },
      "execution_count": 49,
      "outputs": []
    },
    {
      "cell_type": "markdown",
      "source": [
        "## Censored Regressor"
      ],
      "metadata": {
        "id": "8r8YExgCuWEq"
      }
    },
    {
      "cell_type": "code",
      "source": [
        "x = torch.FloatTensor(X_train.values.astype(np.float32))\n",
        "y = torch.FloatTensor(T_train)\n",
        "MIN_VALUE, MAX_VALUE = y.min(), 100.\n",
        "\n",
        "censored_model = GPModel(inducing_points=x, covariance_type='cholesky')\n",
        "censored_likelihood = CensoredGaussianLikelihoodAnalytic(low=MIN_VALUE-1e-6, high=MAX_VALUE+1e-6,\n",
        "                                                              alpha=1., gamma=1., dzeta=1.)\n",
        "\n",
        "if torch.cuda.is_available():\n",
        "    censored_model = censored_model.cuda()\n",
        "    censored_likelihood = censored_likelihood.cuda()\n",
        "\n",
        "lmbd = 4 # lmbd in [1,10], 1 -> very linear, 10 -> very non-linear\n",
        "kappa = 3 # kappa in [2,100], this is the signal to noise ratio. kappa = 2 -> signal = 2*noise\n",
        "# censored_model.covar_module.base_kernel.initialize(lengthscale=x.std()/lmbd)\n",
        "censored_model.covar_module.initialize(outputscale=y.var());\n",
        "censored_model.mean_module.initialize(constant=y.mean())\n",
        "censored_likelihood.noise.initialize(noise=(y.std()/kappa).square());\n",
        "\n",
        "censored_model.train()\n",
        "censored_likelihood.train()\n",
        "censored_model.train_inputs = (x,)\n",
        "censored_model.train_targets = y\n",
        "mll = gpytorch.mlls.VariationalELBO(censored_likelihood, censored_model, num_data=y.size(0))\n",
        "res = botorch.fit.fit_gpytorch_mll_scipy(mll)\n",
        "print(res)\n"
      ],
      "metadata": {
        "colab": {
          "base_uri": "https://localhost:8080/"
        },
        "id": "JvFfAKWpy_u5",
        "outputId": "180dcc7d-6425-4566-c5f2-15ff50e9ad9e"
      },
      "execution_count": 51,
      "outputs": [
        {
          "output_type": "stream",
          "name": "stdout",
          "text": [
            "OptimizationResult(step=87, fval=3.611569404602051, status=<OptimizationStatus.SUCCESS: 2>, runtime=32.21549607399902, message='CONVERGENCE: REL_REDUCTION_OF_F_<=_FACTR*EPSMCH')\n"
          ]
        }
      ]
    },
    {
      "cell_type": "markdown",
      "source": [
        "### Evaluate on training data"
      ],
      "metadata": {
        "id": "ThAcFhSvubY9"
      }
    },
    {
      "cell_type": "code",
      "source": [
        "censored_model.eval()\n",
        "censored_likelihood.eval()\n",
        "with gpytorch.settings.num_likelihood_samples(200):\n",
        "  censored_posterior_f = censored_model(x)\n",
        "  censored_posterior_y = censored_likelihood(censored_posterior_f)\n",
        "expected_y_pred = censored_posterior_y.sample_n(200).mean([0,1])\n",
        "print('Log prob of training data:', censored_posterior_y.log_prob(y).mean())\n",
        "print('MAE of training data:', (expected_y_pred - y).abs().mean())"
      ],
      "metadata": {
        "colab": {
          "base_uri": "https://localhost:8080/"
        },
        "outputId": "cc3a634f-7b28-466e-b214-b5205cbc1dbc",
        "id": "UTKHZq8Nr-D6"
      },
      "execution_count": 52,
      "outputs": [
        {
          "output_type": "stream",
          "name": "stderr",
          "text": [
            "/usr/local/lib/python3.10/dist-packages/torch/distributions/distribution.py:179: UserWarning: sample_n will be deprecated. Use .sample((n,)) instead\n",
            "  warnings.warn(\n"
          ]
        },
        {
          "output_type": "stream",
          "name": "stdout",
          "text": [
            "Log prob of training data: tensor(-4.6526, grad_fn=<MeanBackward0>)\n",
            "MAE of training data: tensor(1.0412)\n"
          ]
        }
      ]
    },
    {
      "cell_type": "code",
      "source": [
        "print('MAE of training data (censored):', (expected_y_pred - y)[y == y.max()].abs().mean())"
      ],
      "metadata": {
        "colab": {
          "base_uri": "https://localhost:8080/"
        },
        "outputId": "52994464-f567-4246-ed87-27a813e5224c",
        "id": "XFAa1SGQr-D7"
      },
      "execution_count": null,
      "outputs": [
        {
          "output_type": "stream",
          "name": "stdout",
          "text": [
            "MAE of training data (censored): tensor(3.5917)\n"
          ]
        }
      ]
    },
    {
      "cell_type": "markdown",
      "source": [
        "### Evaluate on test data"
      ],
      "metadata": {
        "id": "2ZrImCdFuhuX"
      }
    },
    {
      "cell_type": "code",
      "source": [
        "# Test data\n",
        "domain = torch.FloatTensor(X_test.values.astype(np.float32))\n",
        "y_test = torch.FloatTensor(T_test)\n",
        "\n",
        "\n",
        "with gpytorch.settings.num_likelihood_samples(200):\n",
        "  censored_posterior_f = censored_model(domain)\n",
        "  censored_posterior_y = censored_likelihood(censored_posterior_f)\n",
        "expected_y_pred = censored_posterior_y.sample_n(200).mean([0,1])\n",
        "\n",
        "print('Log prob of test data:', censored_posterior_y.log_prob(y_test).mean())\n",
        "print('MAE of test data:', (expected_y_pred - y_test).abs().mean())\n",
        "print('MSE of test data:', (expected_y_pred - y_test).square().mean())"
      ],
      "metadata": {
        "colab": {
          "base_uri": "https://localhost:8080/"
        },
        "outputId": "c582b3f4-ea60-4193-f892-fbb370019e80",
        "id": "tzn5llosr-D7"
      },
      "execution_count": 53,
      "outputs": [
        {
          "output_type": "stream",
          "name": "stderr",
          "text": [
            "/usr/local/lib/python3.10/dist-packages/torch/distributions/distribution.py:179: UserWarning: sample_n will be deprecated. Use .sample((n,)) instead\n",
            "  warnings.warn(\n"
          ]
        },
        {
          "output_type": "stream",
          "name": "stdout",
          "text": [
            "Log prob of test data: tensor(-25.3787, grad_fn=<MeanBackward0>)\n",
            "MAE of test data: tensor(9.5663)\n",
            "MSE of test data: tensor(155.1663)\n"
          ]
        }
      ]
    },
    {
      "cell_type": "markdown",
      "source": [
        "Set up copy for likelihood surgery later"
      ],
      "metadata": {
        "id": "Kdpcipn3umHT"
      }
    },
    {
      "cell_type": "code",
      "source": [
        "import copy\n",
        "censored_likelihood_replacement = copy.deepcopy(censored_likelihood)"
      ],
      "metadata": {
        "id": "N-gA83xhA3ih"
      },
      "execution_count": 55,
      "outputs": []
    },
    {
      "cell_type": "markdown",
      "source": [
        "## Uncensored Regressor"
      ],
      "metadata": {
        "id": "isLYE_DF7Fkj"
      }
    },
    {
      "cell_type": "code",
      "source": [
        "x = torch.FloatTensor(X_train.values.astype(np.float32))\n",
        "y = torch.FloatTensor(T_train)\n",
        "# MIN_VALUE, MAX_VALUE = y.min(), 72.\n",
        "\n",
        "uncensored_model = GPModel(inducing_points=x, covariance_type='cholesky')\n",
        "lmbd = 4 # lmbd in [1,10], 1 -> very linear, 10 -> very non-linear\n",
        "kappa = 3 # kappa in [2,100], this is the signal to noise ratio. kappa = 2 -> signal = 2*noise\n",
        "# uncensored_model.covar_module.base_kernel.initialize(lengthscale=x.std()/lmbd)\n",
        "uncensored_model.covar_module.initialize(outputscale=y.var());\n",
        "uncensored_model.mean_module.initialize(constant=y.mean())\n",
        "uncensored_likelihood = gpytorch.likelihoods.GaussianLikelihood(noise_prior=gpytorch.priors.NormalPrior(loc=(y.std()/kappa).square(), scale=1))\n",
        "# uncensored_likelihood.noise.initialize(noise=(y.std()/kappa).square());\n",
        "\n",
        "if torch.cuda.is_available():\n",
        "    uncensored_model = uncensored_model.cuda()\n",
        "    uncensored_likelihood = uncensored_likelihood.cuda()\n",
        "\n",
        "\n",
        "uncensored_model.train()\n",
        "uncensored_likelihood.train()\n",
        "uncensored_model.train_inputs = (x,)\n",
        "uncensored_model.train_targets = y\n",
        "mll = gpytorch.mlls.VariationalELBO(uncensored_likelihood, uncensored_model, num_data=y.size(0))\n",
        "res = botorch.fit.fit_gpytorch_mll_scipy(mll)\n",
        "print(res)\n"
      ],
      "metadata": {
        "colab": {
          "base_uri": "https://localhost:8080/"
        },
        "id": "qZ2L2gjs67WA",
        "outputId": "4ba7b929-595e-4dcd-c3d8-52bb3ad1cfce"
      },
      "execution_count": 56,
      "outputs": [
        {
          "output_type": "stream",
          "name": "stdout",
          "text": [
            "OptimizationResult(step=35, fval=3.8981165885925293, status=<OptimizationStatus.SUCCESS: 2>, runtime=12.414356868999675, message='CONVERGENCE: NORM_OF_PROJECTED_GRADIENT_<=_PGTOL')\n",
            "Log prob of training data: tensor(-1587.6707, grad_fn=<MeanBackward0>)\n",
            "MAE of training data: tensor(1.0385, grad_fn=<MeanBackward0>)\n"
          ]
        }
      ]
    },
    {
      "cell_type": "markdown",
      "source": [
        "### Evaluate on training data"
      ],
      "metadata": {
        "id": "RNGspvHzuuWs"
      }
    },
    {
      "cell_type": "markdown",
      "source": [
        "\n",
        "uncensored_model.eval()\n",
        "uncensored_likelihood.eval()\n",
        "\n",
        "uncensored_posterior_f = uncensored_model(x)\n",
        "uncensored_posterior_y = uncensored_likelihood(uncensored_posterior_f)\n",
        "print('Log prob of training data:', uncensored_posterior_y.log_prob(y).mean())\n",
        "print('MAE of training data:', (uncensored_posterior_y.loc - y).abs().mean())"
      ],
      "metadata": {
        "id": "MZ0rpjhfut6w"
      }
    },
    {
      "cell_type": "markdown",
      "source": [
        "### Evaluate on test data"
      ],
      "metadata": {
        "id": "PWUagvSBuzS7"
      }
    },
    {
      "cell_type": "code",
      "source": [
        "domain = torch.FloatTensor(X_test.values.astype(np.float32))\n",
        "y_test = torch.FloatTensor(T_test)\n",
        "\n",
        "uncensored_posterior_f = uncensored_model(domain)\n",
        "uncensored_posterior_y = uncensored_likelihood(censored_posterior_f)\n",
        "\n",
        "print('Log prob of test data:', uncensored_posterior_y.log_prob(y_test).mean())\n",
        "print('MAE of test data:', (uncensored_posterior_y.loc - y_test).abs().mean())"
      ],
      "metadata": {
        "colab": {
          "base_uri": "https://localhost:8080/"
        },
        "id": "Lr5PWtm57Xs8",
        "outputId": "9c20b782-95f1-4c62-da8b-0ef3f7dcfef5"
      },
      "execution_count": 57,
      "outputs": [
        {
          "output_type": "stream",
          "name": "stdout",
          "text": [
            "Log prob of test data: tensor(-1603.4954, grad_fn=<MeanBackward0>)\n",
            "MAE of test data: tensor(9.5690, grad_fn=<MeanBackward0>)\n"
          ]
        }
      ]
    },
    {
      "cell_type": "markdown",
      "source": [
        "### Likelihood surgery"
      ],
      "metadata": {
        "id": "XI2mK1G_vYqm"
      }
    },
    {
      "cell_type": "code",
      "source": [
        "censored_likelihood_replacement.noise.noise = uncensored_likelihood.noise\n",
        "print('Check noise replacement: ',\n",
        "      uncensored_likelihood.noise.detach().numpy(),\n",
        "      censored_likelihood_replacement.variance.detach().numpy(),\n",
        "      censored_likelihood.variance.detach().numpy())\n",
        "\n",
        "censored_posterior_y = censored_likelihood(censored_posterior_f)\n",
        "uncensored_posterior_y_diff_lik = censored_likelihood_replacement(uncensored_posterior_f)\n",
        "\n",
        "# print('Censored NLPD: ', -censored_posterior_y.log_prob(y_test).mean())\n",
        "print('Uncensored NLPD: ', -uncensored_posterior_y_diff_lik.log_prob(y_test).mean())"
      ],
      "metadata": {
        "colab": {
          "base_uri": "https://localhost:8080/"
        },
        "id": "qL1LPOVdAgUv",
        "outputId": "fb2c8515-56e2-4f91-c61c-ce229e28d722"
      },
      "execution_count": 58,
      "outputs": [
        {
          "output_type": "stream",
          "name": "stdout",
          "text": [
            "Check noise replacement:  [15.792379] [15.792379] [8.529441]\n",
            "Censored NLPD:  tensor(24.9924, grad_fn=<NegBackward0>)\n",
            "Uncensored NLPD:  tensor(11.1385, grad_fn=<NegBackward0>)\n"
          ]
        }
      ]
    },
    {
      "cell_type": "markdown",
      "source": [
        "# Dataset 2: Survival analysis"
      ],
      "metadata": {
        "id": "xogHGjrwyVOo"
      }
    },
    {
      "cell_type": "code",
      "source": [
        "!wget https://github.com/jaredleekatzman/DeepSurv/raw/master/experiments/data/gbsg/gbsg_cancer_train_test.h5"
      ],
      "metadata": {
        "colab": {
          "base_uri": "https://localhost:8080/"
        },
        "id": "aOzHsRAxyjL0",
        "outputId": "26df74b2-2ead-4245-d30d-0489dcc2ae56"
      },
      "execution_count": 5,
      "outputs": [
        {
          "output_type": "stream",
          "name": "stdout",
          "text": [
            "--2024-05-21 13:57:31--  https://github.com/jaredleekatzman/DeepSurv/raw/master/experiments/data/gbsg/gbsg_cancer_train_test.h5\n",
            "Resolving github.com (github.com)... 140.82.116.4\n",
            "Connecting to github.com (github.com)|140.82.116.4|:443... connected.\n",
            "HTTP request sent, awaiting response... 302 Found\n",
            "Location: https://raw.githubusercontent.com/jaredleekatzman/DeepSurv/master/experiments/data/gbsg/gbsg_cancer_train_test.h5 [following]\n",
            "--2024-05-21 13:57:31--  https://raw.githubusercontent.com/jaredleekatzman/DeepSurv/master/experiments/data/gbsg/gbsg_cancer_train_test.h5\n",
            "Resolving raw.githubusercontent.com (raw.githubusercontent.com)... 185.199.108.133, 185.199.109.133, 185.199.110.133, ...\n",
            "Connecting to raw.githubusercontent.com (raw.githubusercontent.com)|185.199.108.133|:443... connected.\n",
            "HTTP request sent, awaiting response... 200 OK\n",
            "Length: 86592 (85K) [application/octet-stream]\n",
            "Saving to: ‘gbsg_cancer_train_test.h5.2’\n",
            "\n",
            "gbsg_cancer_train_t 100%[===================>]  84.56K  --.-KB/s    in 0.02s   \n",
            "\n",
            "2024-05-21 13:57:31 (4.89 MB/s) - ‘gbsg_cancer_train_test.h5.2’ saved [86592/86592]\n",
            "\n"
          ]
        }
      ]
    },
    {
      "cell_type": "code",
      "source": [
        "import h5py\n",
        "from collections import defaultdict\n",
        "datasets = defaultdict(dict)\n",
        "with h5py.File(\"gbsg_cancer_train_test.h5\", 'r') as fp:\n",
        "    for ds in fp:\n",
        "        for array in fp[ds]:\n",
        "            datasets[ds][array] = fp[ds][array][:]"
      ],
      "metadata": {
        "id": "7DsBGF4QyiKk"
      },
      "execution_count": 6,
      "outputs": []
    },
    {
      "cell_type": "code",
      "source": [
        "{k: v.shape for k,v in datasets['train'].items()}"
      ],
      "metadata": {
        "colab": {
          "base_uri": "https://localhost:8080/"
        },
        "id": "MsFzZYP7y9hB",
        "outputId": "4eaf6b16-bc6d-4a35-c184-760bae4a0e9a"
      },
      "execution_count": 7,
      "outputs": [
        {
          "output_type": "execute_result",
          "data": {
            "text/plain": [
              "{'e': (1546,), 't': (1546,), 'x': (1546, 7)}"
            ]
          },
          "metadata": {},
          "execution_count": 7
        }
      ]
    },
    {
      "cell_type": "code",
      "source": [
        "ax = pd.Series(datasets['train']['t']).plot(kind='hist')\n",
        "ax.set_xlabel(\"Dependent variable `t` from gbsg_cancer_train_test.h5\")\n",
        "ax.set_title(\"Histogram\")"
      ],
      "metadata": {
        "colab": {
          "base_uri": "https://localhost:8080/",
          "height": 490
        },
        "id": "AvzqdF1-zICo",
        "outputId": "05d014be-488f-444c-ddf0-2c36fb8fad6f"
      },
      "execution_count": 8,
      "outputs": [
        {
          "output_type": "execute_result",
          "data": {
            "text/plain": [
              "Text(0.5, 1.0, 'Histogram')"
            ]
          },
          "metadata": {},
          "execution_count": 8
        },
        {
          "output_type": "display_data",
          "data": {
            "text/plain": [
              "<Figure size 640x480 with 1 Axes>"
            ],
            "image/png": "[encoded data removed]"
          },
          "metadata": {}
        }
      ]
    },
    {
      "cell_type": "code",
      "source": [],
      "metadata": {
        "id": "ga3__dDWzmCd"
      },
      "execution_count": null,
      "outputs": []
    },
    {
      "cell_type": "code",
      "source": [
        "ax = pd.Series(datasets['train']['e']).plot(kind='hist')\n",
        "ax.set_xlabel(\"Binary variable `e` from gbsg_cancer_train_test.h5\")\n",
        "ax.set_title(\"Histogram\")"
      ],
      "metadata": {
        "colab": {
          "base_uri": "https://localhost:8080/",
          "height": 490
        },
        "id": "GL1m3V9vzPbt",
        "outputId": "ac55bf2c-d3c3-4a1f-ae51-3b160a59aefa"
      },
      "execution_count": 12,
      "outputs": [
        {
          "output_type": "execute_result",
          "data": {
            "text/plain": [
              "Text(0.5, 1.0, 'Histogram')"
            ]
          },
          "metadata": {},
          "execution_count": 12
        },
        {
          "output_type": "display_data",
          "data": {
            "text/plain": [
              "<Figure size 640x480 with 1 Axes>"
            ],
            "image/png": "[encoded data removed]"
          },
          "metadata": {}
        }
      ]
    },
    {
      "cell_type": "code",
      "source": [
        "# previous [0, 100]\n",
        "model_rbf, likelihood_rbf = censored_model, censored_likelihood"
      ],
      "metadata": {
        "id": "z06wPe1hEzSv"
      },
      "execution_count": 40,
      "outputs": []
    },
    {
      "cell_type": "markdown",
      "source": [
        "## Censored Regressor"
      ],
      "metadata": {
        "id": "hHe3TpITvBvM"
      }
    },
    {
      "cell_type": "code",
      "source": [
        "x = torch.FloatTensor(datasets['train']['x'])\n",
        "y = torch.FloatTensor(datasets['train']['t'])\n",
        "MIN_VALUE, MAX_VALUE = 0, 88\n",
        "\n",
        "censored_model = GPModel(inducing_points=x, covariance_type='cholesky', kernel='matern')\n",
        "censored_likelihood = CensoredGaussianLikelihoodAnalytic(low=MIN_VALUE-1e-6, high=MAX_VALUE+1e-6,\n",
        "                                                              alpha=1., gamma=1., dzeta=1.)\n",
        "\n",
        "if torch.cuda.is_available():\n",
        "    censored_model = censored_model.cuda()\n",
        "    censored_likelihood = censored_likelihood.cuda()\n",
        "\n",
        "lmbd = 4 # lmbd in [1,10], 1 -> very linear, 10 -> very non-linear\n",
        "kappa = 10 # kappa in [2,100], this is the signal to noise ratio. kappa = 2 -> signal = 2*noise\n",
        "# censored_model.covar_module.base_kernel.initialize(lengthscale=x.std()/lmbd)\n",
        "censored_model.covar_module.initialize(outputscale=y.var());\n",
        "censored_model.mean_module.initialize(constant=y.mean())\n",
        "censored_likelihood.noise.initialize(noise=(y.std()/kappa).square());\n",
        "\n",
        "censored_model.train()\n",
        "censored_likelihood.train()\n",
        "censored_model.train_inputs = (x,)\n",
        "censored_model.train_targets = y\n",
        "mll = gpytorch.mlls.VariationalELBO(censored_likelihood, censored_model, num_data=y.size(0))\n",
        "res = botorch.fit.fit_gpytorch_mll_scipy(mll)\n",
        "print(res)"
      ],
      "metadata": {
        "colab": {
          "base_uri": "https://localhost:8080/"
        },
        "id": "aw1KhQA__k1N",
        "outputId": "2cbf3346-809f-465f-f1f7-74c2615bb575"
      },
      "execution_count": 41,
      "outputs": [
        {
          "output_type": "stream",
          "name": "stdout",
          "text": [
            "OptimizationResult(step=31, fval=3.905782699584961, status=<OptimizationStatus.SUCCESS: 2>, runtime=458.13182784699893, message='CONVERGENCE: REL_REDUCTION_OF_F_<=_FACTR*EPSMCH')\n"
          ]
        }
      ]
    },
    {
      "cell_type": "markdown",
      "source": [
        "### Evaluate on training data"
      ],
      "metadata": {
        "id": "OCDi3El9vDaA"
      }
    },
    {
      "cell_type": "code",
      "source": [
        "censored_model.eval()\n",
        "censored_likelihood.eval()\n",
        "with gpytorch.settings.num_likelihood_samples(200):\n",
        "  censored_posterior_f = censored_model(x)\n",
        "  censored_posterior_y = censored_likelihood(censored_posterior_f)\n",
        "expected_y_pred = censored_posterior_y.sample_n(200).mean([0,1])\n",
        "print('Log prob of training data:', censored_posterior_y.log_prob(y).mean())\n",
        "print('MAE of training data:', (expected_y_pred - y).abs().mean())"
      ],
      "metadata": {
        "colab": {
          "base_uri": "https://localhost:8080/"
        },
        "id": "l6u86-PvHUe2",
        "outputId": "f402d808-c7fd-4244-ec7e-0d939b6daea1"
      },
      "execution_count": 42,
      "outputs": [
        {
          "output_type": "stream",
          "name": "stderr",
          "text": [
            "/usr/local/lib/python3.10/dist-packages/torch/distributions/distribution.py:179: UserWarning: sample_n will be deprecated. Use .sample((n,)) instead\n",
            "  warnings.warn(\n"
          ]
        },
        {
          "output_type": "stream",
          "name": "stdout",
          "text": [
            "Log prob of training data: tensor(-5.3203, grad_fn=<MeanBackward0>)\n",
            "MAE of training data: tensor(2.9438)\n"
          ]
        }
      ]
    },
    {
      "cell_type": "markdown",
      "source": [
        "### Evaluate on test data"
      ],
      "metadata": {
        "id": "aZMVSRTovIgq"
      }
    },
    {
      "cell_type": "code",
      "source": [
        "# Test data\n",
        "domain = torch.FloatTensor(datasets['test']['x'])\n",
        "y_test = torch.FloatTensor(datasets['test']['t'])\n",
        "\n",
        "with gpytorch.settings.num_likelihood_samples(200):\n",
        "  censored_posterior_f = censored_model(domain)\n",
        "  censored_posterior_y = censored_likelihood(censored_posterior_f)\n",
        "expected_y_pred = censored_posterior_y.sample_n(200).mean([0,1])\n",
        "\n",
        "print('Log prob of test data:', censored_posterior_y.log_prob(y_test).mean())\n",
        "print('MAE of test data:', (expected_y_pred - y_test).abs().mean())\n",
        "print('MSE of test data:', (expected_y_pred - y_test).square().mean())"
      ],
      "metadata": {
        "colab": {
          "base_uri": "https://localhost:8080/"
        },
        "id": "UpNDYoJQD_XA",
        "outputId": "374c385c-f35c-40a3-d4b3-58b58164df73"
      },
      "execution_count": 44,
      "outputs": [
        {
          "output_type": "stream",
          "name": "stdout",
          "text": [
            "Log prob of test data: tensor(-17.8265, grad_fn=<MeanBackward0>)\n",
            "MAE of test data: tensor(21.1881)\n",
            "MSE of test data: tensor(614.4673)\n"
          ]
        }
      ]
    },
    {
      "cell_type": "markdown",
      "source": [
        "## Uncensored Regressor"
      ],
      "metadata": {
        "id": "Vdrnm3dU_ju0"
      }
    },
    {
      "cell_type": "code",
      "source": [
        "x = torch.FloatTensor(datasets['train']['x'])\n",
        "y = torch.FloatTensor(datasets['train']['t'])\n",
        "MIN_VALUE, MAX_VALUE = 0, 100\n",
        "\n",
        "uncensored_model = GPModel(inducing_points=x, covariance_type='cholesky')\n",
        "lmbd = 4 # lmbd in [1,10], 1 -> very linear, 10 -> very non-linear\n",
        "kappa = 5 # kappa in [2,100], this is the signal to noise ratio. kappa = 2 -> signal = 2*noise\n",
        "# uncensored_model.covar_module.base_kernel.initialize(lengthscale=x.std()/lmbd)\n",
        "uncensored_model.covar_module.initialize(outputscale=y.var());\n",
        "uncensored_model.mean_module.initialize(constant=y.mean())\n",
        "uncensored_likelihood = gpytorch.likelihoods.GaussianLikelihood(noise_prior=gpytorch.priors.NormalPrior(loc=(y.std()/kappa).square(), scale=1))\n",
        "# uncensored_likelihood.noise.initialize(noise=(y.std()/kappa).square());\n",
        "\n",
        "if torch.cuda.is_available():\n",
        "    uncensored_model = uncensored_model.cuda()\n",
        "    uncensored_likelihood = uncensored_likelihood.cuda()\n",
        "\n",
        "\n",
        "uncensored_model.train()\n",
        "uncensored_likelihood.train()\n",
        "uncensored_model.train_inputs = (x,)\n",
        "uncensored_model.train_targets = y\n",
        "mll = gpytorch.mlls.VariationalELBO(uncensored_likelihood, uncensored_model, num_data=y.size(0))\n",
        "res = botorch.fit.fit_gpytorch_mll_scipy(mll)\n",
        "print(res)\n",
        "\n"
      ],
      "metadata": {
        "id": "XFVOPCZezT-Y",
        "colab": {
          "base_uri": "https://localhost:8080/"
        },
        "outputId": "012fb6f5-df1a-4d0b-f2b0-b4a8b230ddae"
      },
      "execution_count": 26,
      "outputs": [
        {
          "output_type": "stream",
          "name": "stdout",
          "text": [
            "OptimizationResult(step=29, fval=4.92753791809082, status=<OptimizationStatus.SUCCESS: 2>, runtime=258.689208482, message='CONVERGENCE: REL_REDUCTION_OF_F_<=_FACTR*EPSMCH')\n",
            "Log prob of training data: tensor(-4240.1587, grad_fn=<MeanBackward0>)\n",
            "MAE of training data: tensor(0.7827, grad_fn=<MeanBackward0>)\n"
          ]
        }
      ]
    },
    {
      "cell_type": "markdown",
      "source": [
        "### Evaluate on training data"
      ],
      "metadata": {
        "id": "JQjQs1H8vMxL"
      }
    },
    {
      "cell_type": "code",
      "source": [
        "uncensored_model.eval()\n",
        "uncensored_likelihood.eval()\n",
        "\n",
        "uncensored_posterior_f = uncensored_model(x)\n",
        "uncensored_posterior_y = uncensored_likelihood(uncensored_posterior_f)\n",
        "print('Log prob of training data:', uncensored_posterior_y.log_prob(y).mean())\n",
        "print('MAE of training data:', (uncensored_posterior_y.loc - y).abs().mean())"
      ],
      "metadata": {
        "id": "RcwP20OxvRi_"
      },
      "execution_count": null,
      "outputs": []
    },
    {
      "cell_type": "markdown",
      "source": [
        "### Evaluate on test data"
      ],
      "metadata": {
        "id": "FTFSmNO2vORC"
      }
    },
    {
      "cell_type": "code",
      "source": [
        "domain = torch.FloatTensor(datasets['test']['x'])\n",
        "y_test = torch.FloatTensor(datasets['test']['t'])\n",
        "\n",
        "uncensored_posterior_f = uncensored_model(domain)\n",
        "uncensored_posterior_y = uncensored_likelihood(censored_posterior_f)\n",
        "\n",
        "# print('Log prob of test data:', uncensored_posterior_y.log_prob(y_test).mean())\n",
        "print('MAE of test data:', (uncensored_posterior_y.loc - y_test).abs().mean())\n",
        "print('MSE of test data:', (uncensored_posterior_y.loc - y_test).square().mean())"
      ],
      "metadata": {
        "colab": {
          "base_uri": "https://localhost:8080/"
        },
        "outputId": "80f4a4f5-aef3-4a5d-ed9d-7550e4c15891",
        "id": "i1IrfsmTBDlI"
      },
      "execution_count": 40,
      "outputs": [
        {
          "output_type": "stream",
          "name": "stdout",
          "text": [
            "Log prob of test data: tensor(-3172.7085, grad_fn=<MeanBackward0>)\n",
            "MAE of test data: tensor(19.8403, grad_fn=<MeanBackward0>)\n",
            "MSE of test data: tensor(529.7117, grad_fn=<MeanBackward0>)\n"
          ]
        }
      ]
    },
    {
      "cell_type": "markdown",
      "source": [
        "### Likelihood surgery"
      ],
      "metadata": {
        "id": "EHbckpuYvTGi"
      }
    },
    {
      "cell_type": "code",
      "source": [
        "import copy\n",
        "censored_likelihood_replacement = copy.deepcopy(censored_likelihood)"
      ],
      "metadata": {
        "id": "rzbQ1qtHDCOB"
      },
      "execution_count": 30,
      "outputs": []
    },
    {
      "cell_type": "code",
      "source": [
        "censored_likelihood_replacement.noise.noise = uncensored_likelihood.noise\n",
        "print('Check noise replacement: ',\n",
        "      uncensored_likelihood.noise.detach().numpy(),\n",
        "      censored_likelihood_replacement.variance.detach().numpy(),\n",
        "      censored_likelihood.variance.detach().numpy())\n",
        "\n",
        "censored_posterior_y = censored_likelihood(censored_posterior_f)\n",
        "uncensored_posterior_y_diff_lik = censored_likelihood_replacement(uncensored_posterior_f)\n",
        "\n",
        "# print('Censored NLPD: ', -censored_posterior_y.log_prob(y_test).mean())\n",
        "print('Uncensored NLPD: ', -uncensored_posterior_y_diff_lik.log_prob(y_test).mean())"
      ],
      "metadata": {
        "colab": {
          "base_uri": "https://localhost:8080/"
        },
        "outputId": "c029b17c-b6c8-45fd-f89f-0c98c31efd73",
        "id": "xXj3Fi73BDlM"
      },
      "execution_count": 31,
      "outputs": [
        {
          "output_type": "stream",
          "name": "stdout",
          "text": [
            "Check noise replacement:  [17.461466] [17.461466] [44.32917]\n",
            "Censored NLPD:  tensor(18.5854, grad_fn=<NegBackward0>)\n",
            "Uncensored NLPD:  tensor(42.9532, grad_fn=<NegBackward0>)\n"
          ]
        }
      ]
    },
    {
      "cell_type": "code",
      "source": [],
      "metadata": {
        "id": "NCzjUFuBDxJB"
      },
      "execution_count": null,
      "outputs": []
    }
  ]
}