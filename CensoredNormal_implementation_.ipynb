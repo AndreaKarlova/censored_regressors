{
  "nbformat": 4,
  "nbformat_minor": 0,
  "metadata": {
    "colab": {
      "provenance": [],
      "machine_shape": "hm"
    },
    "kernelspec": {
      "name": "python3",
      "display_name": "Python 3"
    },
    "language_info": {
      "name": "python"
    },
    "widgets": {
      "application/vnd.jupyter.widget-state+json": {
        "3a2d295c18d14fe885196f488f666d1c": {
          "model_module": "@jupyter-widgets/controls",
          "model_name": "HBoxModel",
          "model_module_version": "1.5.0",
          "state": {
            "_dom_classes": [],
            "_model_module": "@jupyter-widgets/controls",
            "_model_module_version": "1.5.0",
            "_model_name": "HBoxModel",
            "_view_count": null,
            "_view_module": "@jupyter-widgets/controls",
            "_view_module_version": "1.5.0",
            "_view_name": "HBoxView",
            "box_style": "",
            "children": [
              "IPY_MODEL_5052c5d88d08498ebe7bfdbaebda8357",
              "IPY_MODEL_0fcdfd683e354b2fb6530054f0edd5f6",
              "IPY_MODEL_901a343790c0470a9631a1eed8741cf7"
            ],
            "layout": "IPY_MODEL_491d31732d924686a4b16b29b2153337"
          }
        },
        "5052c5d88d08498ebe7bfdbaebda8357": {
          "model_module": "@jupyter-widgets/controls",
          "model_name": "HTMLModel",
          "model_module_version": "1.5.0",
          "state": {
            "_dom_classes": [],
            "_model_module": "@jupyter-widgets/controls",
            "_model_module_version": "1.5.0",
            "_model_name": "HTMLModel",
            "_view_count": null,
            "_view_module": "@jupyter-widgets/controls",
            "_view_module_version": "1.5.0",
            "_view_name": "HTMLView",
            "description": "",
            "description_tooltip": null,
            "layout": "IPY_MODEL_0ea66ac5f4504d7192001f97f1472ea0",
            "placeholder": "​",
            "style": "IPY_MODEL_0418c1f271d8401aab020871e91ac842",
            "value": "100%"
          }
        },
        "0fcdfd683e354b2fb6530054f0edd5f6": {
          "model_module": "@jupyter-widgets/controls",
          "model_name": "FloatProgressModel",
          "model_module_version": "1.5.0",
          "state": {
            "_dom_classes": [],
            "_model_module": "@jupyter-widgets/controls",
            "_model_module_version": "1.5.0",
            "_model_name": "FloatProgressModel",
            "_view_count": null,
            "_view_module": "@jupyter-widgets/controls",
            "_view_module_version": "1.5.0",
            "_view_name": "ProgressView",
            "bar_style": "success",
            "description": "",
            "description_tooltip": null,
            "layout": "IPY_MODEL_c1e51204919e448c90f0f280d22c3c85",
            "max": 10000,
            "min": 0,
            "orientation": "horizontal",
            "style": "IPY_MODEL_613e48415a1144a9b8f0e019ae470ea1",
            "value": 10000
          }
        },
        "901a343790c0470a9631a1eed8741cf7": {
          "model_module": "@jupyter-widgets/controls",
          "model_name": "HTMLModel",
          "model_module_version": "1.5.0",
          "state": {
            "_dom_classes": [],
            "_model_module": "@jupyter-widgets/controls",
            "_model_module_version": "1.5.0",
            "_model_name": "HTMLModel",
            "_view_count": null,
            "_view_module": "@jupyter-widgets/controls",
            "_view_module_version": "1.5.0",
            "_view_name": "HTMLView",
            "description": "",
            "description_tooltip": null,
            "layout": "IPY_MODEL_a292ebe9fb034d9791d978148cbb9d86",
            "placeholder": "​",
            "style": "IPY_MODEL_c64dfd7af4134f1f93a49aff09ef6781",
            "value": " 10000/10000 [00:11&lt;00:00, 905.22it/s]"
          }
        },
        "491d31732d924686a4b16b29b2153337": {
          "model_module": "@jupyter-widgets/base",
          "model_name": "LayoutModel",
          "model_module_version": "1.2.0",
          "state": {
            "_model_module": "@jupyter-widgets/base",
            "_model_module_version": "1.2.0",
            "_model_name": "LayoutModel",
            "_view_count": null,
            "_view_module": "@jupyter-widgets/base",
            "_view_module_version": "1.2.0",
            "_view_name": "LayoutView",
            "align_content": null,
            "align_items": null,
            "align_self": null,
            "border": null,
            "bottom": null,
            "display": null,
            "flex": null,
            "flex_flow": null,
            "grid_area": null,
            "grid_auto_columns": null,
            "grid_auto_flow": null,
            "grid_auto_rows": null,
            "grid_column": null,
            "grid_gap": null,
            "grid_row": null,
            "grid_template_areas": null,
            "grid_template_columns": null,
            "grid_template_rows": null,
            "height": null,
            "justify_content": null,
            "justify_items": null,
            "left": null,
            "margin": null,
            "max_height": null,
            "max_width": null,
            "min_height": null,
            "min_width": null,
            "object_fit": null,
            "object_position": null,
            "order": null,
            "overflow": null,
            "overflow_x": null,
            "overflow_y": null,
            "padding": null,
            "right": null,
            "top": null,
            "visibility": null,
            "width": null
          }
        },
        "0ea66ac5f4504d7192001f97f1472ea0": {
          "model_module": "@jupyter-widgets/base",
          "model_name": "LayoutModel",
          "model_module_version": "1.2.0",
          "state": {
            "_model_module": "@jupyter-widgets/base",
            "_model_module_version": "1.2.0",
            "_model_name": "LayoutModel",
            "_view_count": null,
            "_view_module": "@jupyter-widgets/base",
            "_view_module_version": "1.2.0",
            "_view_name": "LayoutView",
            "align_content": null,
            "align_items": null,
            "align_self": null,
            "border": null,
            "bottom": null,
            "display": null,
            "flex": null,
            "flex_flow": null,
            "grid_area": null,
            "grid_auto_columns": null,
            "grid_auto_flow": null,
            "grid_auto_rows": null,
            "grid_column": null,
            "grid_gap": null,
            "grid_row": null,
            "grid_template_areas": null,
            "grid_template_columns": null,
            "grid_template_rows": null,
            "height": null,
            "justify_content": null,
            "justify_items": null,
            "left": null,
            "margin": null,
            "max_height": null,
            "max_width": null,
            "min_height": null,
            "min_width": null,
            "object_fit": null,
            "object_position": null,
            "order": null,
            "overflow": null,
            "overflow_x": null,
            "overflow_y": null,
            "padding": null,
            "right": null,
            "top": null,
            "visibility": null,
            "width": null
          }
        },
        "0418c1f271d8401aab020871e91ac842": {
          "model_module": "@jupyter-widgets/controls",
          "model_name": "DescriptionStyleModel",
          "model_module_version": "1.5.0",
          "state": {
            "_model_module": "@jupyter-widgets/controls",
            "_model_module_version": "1.5.0",
            "_model_name": "DescriptionStyleModel",
            "_view_count": null,
            "_view_module": "@jupyter-widgets/base",
            "_view_module_version": "1.2.0",
            "_view_name": "StyleView",
            "description_width": ""
          }
        },
        "c1e51204919e448c90f0f280d22c3c85": {
          "model_module": "@jupyter-widgets/base",
          "model_name": "LayoutModel",
          "model_module_version": "1.2.0",
          "state": {
            "_model_module": "@jupyter-widgets/base",
            "_model_module_version": "1.2.0",
            "_model_name": "LayoutModel",
            "_view_count": null,
            "_view_module": "@jupyter-widgets/base",
            "_view_module_version": "1.2.0",
            "_view_name": "LayoutView",
            "align_content": null,
            "align_items": null,
            "align_self": null,
            "border": null,
            "bottom": null,
            "display": null,
            "flex": null,
            "flex_flow": null,
            "grid_area": null,
            "grid_auto_columns": null,
            "grid_auto_flow": null,
            "grid_auto_rows": null,
            "grid_column": null,
            "grid_gap": null,
            "grid_row": null,
            "grid_template_areas": null,
            "grid_template_columns": null,
            "grid_template_rows": null,
            "height": null,
            "justify_content": null,
            "justify_items": null,
            "left": null,
            "margin": null,
            "max_height": null,
            "max_width": null,
            "min_height": null,
            "min_width": null,
            "object_fit": null,
            "object_position": null,
            "order": null,
            "overflow": null,
            "overflow_x": null,
            "overflow_y": null,
            "padding": null,
            "right": null,
            "top": null,
            "visibility": null,
            "width": null
          }
        },
        "613e48415a1144a9b8f0e019ae470ea1": {
          "model_module": "@jupyter-widgets/controls",
          "model_name": "ProgressStyleModel",
          "model_module_version": "1.5.0",
          "state": {
            "_model_module": "@jupyter-widgets/controls",
            "_model_module_version": "1.5.0",
            "_model_name": "ProgressStyleModel",
            "_view_count": null,
            "_view_module": "@jupyter-widgets/base",
            "_view_module_version": "1.2.0",
            "_view_name": "StyleView",
            "bar_color": null,
            "description_width": ""
          }
        },
        "a292ebe9fb034d9791d978148cbb9d86": {
          "model_module": "@jupyter-widgets/base",
          "model_name": "LayoutModel",
          "model_module_version": "1.2.0",
          "state": {
            "_model_module": "@jupyter-widgets/base",
            "_model_module_version": "1.2.0",
            "_model_name": "LayoutModel",
            "_view_count": null,
            "_view_module": "@jupyter-widgets/base",
            "_view_module_version": "1.2.0",
            "_view_name": "LayoutView",
            "align_content": null,
            "align_items": null,
            "align_self": null,
            "border": null,
            "bottom": null,
            "display": null,
            "flex": null,
            "flex_flow": null,
            "grid_area": null,
            "grid_auto_columns": null,
            "grid_auto_flow": null,
            "grid_auto_rows": null,
            "grid_column": null,
            "grid_gap": null,
            "grid_row": null,
            "grid_template_areas": null,
            "grid_template_columns": null,
            "grid_template_rows": null,
            "height": null,
            "justify_content": null,
            "justify_items": null,
            "left": null,
            "margin": null,
            "max_height": null,
            "max_width": null,
            "min_height": null,
            "min_width": null,
            "object_fit": null,
            "object_position": null,
            "order": null,
            "overflow": null,
            "overflow_x": null,
            "overflow_y": null,
            "padding": null,
            "right": null,
            "top": null,
            "visibility": null,
            "width": null
          }
        },
        "c64dfd7af4134f1f93a49aff09ef6781": {
          "model_module": "@jupyter-widgets/controls",
          "model_name": "DescriptionStyleModel",
          "model_module_version": "1.5.0",
          "state": {
            "_model_module": "@jupyter-widgets/controls",
            "_model_module_version": "1.5.0",
            "_model_name": "DescriptionStyleModel",
            "_view_count": null,
            "_view_module": "@jupyter-widgets/base",
            "_view_module_version": "1.2.0",
            "_view_name": "StyleView",
            "description_width": ""
          }
        },
        "a839d80423934b7c9aa159ed4aa65bc5": {
          "model_module": "@jupyter-widgets/controls",
          "model_name": "HBoxModel",
          "model_module_version": "1.5.0",
          "state": {
            "_dom_classes": [],
            "_model_module": "@jupyter-widgets/controls",
            "_model_module_version": "1.5.0",
            "_model_name": "HBoxModel",
            "_view_count": null,
            "_view_module": "@jupyter-widgets/controls",
            "_view_module_version": "1.5.0",
            "_view_name": "HBoxView",
            "box_style": "",
            "children": [
              "IPY_MODEL_e87d0aaf9bf949c69d5978ca65510f03",
              "IPY_MODEL_18b16ac8d402471a828b7ba3a23dd75a",
              "IPY_MODEL_582b4b5d317642d3999046b7f9e3a9d3"
            ],
            "layout": "IPY_MODEL_9d7af3ffaece4db1a3ebbc8ac59156ef"
          }
        },
        "e87d0aaf9bf949c69d5978ca65510f03": {
          "model_module": "@jupyter-widgets/controls",
          "model_name": "HTMLModel",
          "model_module_version": "1.5.0",
          "state": {
            "_dom_classes": [],
            "_model_module": "@jupyter-widgets/controls",
            "_model_module_version": "1.5.0",
            "_model_name": "HTMLModel",
            "_view_count": null,
            "_view_module": "@jupyter-widgets/controls",
            "_view_module_version": "1.5.0",
            "_view_name": "HTMLView",
            "description": "",
            "description_tooltip": null,
            "layout": "IPY_MODEL_b30230d7b46042859cac456250ebc632",
            "placeholder": "​",
            "style": "IPY_MODEL_5ac9412dfcb94ebc9749f5187f41e0f5",
            "value": "100%"
          }
        },
        "18b16ac8d402471a828b7ba3a23dd75a": {
          "model_module": "@jupyter-widgets/controls",
          "model_name": "FloatProgressModel",
          "model_module_version": "1.5.0",
          "state": {
            "_dom_classes": [],
            "_model_module": "@jupyter-widgets/controls",
            "_model_module_version": "1.5.0",
            "_model_name": "FloatProgressModel",
            "_view_count": null,
            "_view_module": "@jupyter-widgets/controls",
            "_view_module_version": "1.5.0",
            "_view_name": "ProgressView",
            "bar_style": "success",
            "description": "",
            "description_tooltip": null,
            "layout": "IPY_MODEL_8a3fb013879e472d82c3b957aae1d947",
            "max": 10000,
            "min": 0,
            "orientation": "horizontal",
            "style": "IPY_MODEL_ac75c899884b4a9db7e58ff4fd5dd42a",
            "value": 10000
          }
        },
        "582b4b5d317642d3999046b7f9e3a9d3": {
          "model_module": "@jupyter-widgets/controls",
          "model_name": "HTMLModel",
          "model_module_version": "1.5.0",
          "state": {
            "_dom_classes": [],
            "_model_module": "@jupyter-widgets/controls",
            "_model_module_version": "1.5.0",
            "_model_name": "HTMLModel",
            "_view_count": null,
            "_view_module": "@jupyter-widgets/controls",
            "_view_module_version": "1.5.0",
            "_view_name": "HTMLView",
            "description": "",
            "description_tooltip": null,
            "layout": "IPY_MODEL_8d7c2668c45b4343a1cb5d8a5a615528",
            "placeholder": "​",
            "style": "IPY_MODEL_7a1e4a969dfa4fe9a0d5643fd77aaca4",
            "value": " 10000/10000 [00:10&lt;00:00, 951.62it/s]"
          }
        },
        "9d7af3ffaece4db1a3ebbc8ac59156ef": {
          "model_module": "@jupyter-widgets/base",
          "model_name": "LayoutModel",
          "model_module_version": "1.2.0",
          "state": {
            "_model_module": "@jupyter-widgets/base",
            "_model_module_version": "1.2.0",
            "_model_name": "LayoutModel",
            "_view_count": null,
            "_view_module": "@jupyter-widgets/base",
            "_view_module_version": "1.2.0",
            "_view_name": "LayoutView",
            "align_content": null,
            "align_items": null,
            "align_self": null,
            "border": null,
            "bottom": null,
            "display": null,
            "flex": null,
            "flex_flow": null,
            "grid_area": null,
            "grid_auto_columns": null,
            "grid_auto_flow": null,
            "grid_auto_rows": null,
            "grid_column": null,
            "grid_gap": null,
            "grid_row": null,
            "grid_template_areas": null,
            "grid_template_columns": null,
            "grid_template_rows": null,
            "height": null,
            "justify_content": null,
            "justify_items": null,
            "left": null,
            "margin": null,
            "max_height": null,
            "max_width": null,
            "min_height": null,
            "min_width": null,
            "object_fit": null,
            "object_position": null,
            "order": null,
            "overflow": null,
            "overflow_x": null,
            "overflow_y": null,
            "padding": null,
            "right": null,
            "top": null,
            "visibility": null,
            "width": null
          }
        },
        "b30230d7b46042859cac456250ebc632": {
          "model_module": "@jupyter-widgets/base",
          "model_name": "LayoutModel",
          "model_module_version": "1.2.0",
          "state": {
            "_model_module": "@jupyter-widgets/base",
            "_model_module_version": "1.2.0",
            "_model_name": "LayoutModel",
            "_view_count": null,
            "_view_module": "@jupyter-widgets/base",
            "_view_module_version": "1.2.0",
            "_view_name": "LayoutView",
            "align_content": null,
            "align_items": null,
            "align_self": null,
            "border": null,
            "bottom": null,
            "display": null,
            "flex": null,
            "flex_flow": null,
            "grid_area": null,
            "grid_auto_columns": null,
            "grid_auto_flow": null,
            "grid_auto_rows": null,
            "grid_column": null,
            "grid_gap": null,
            "grid_row": null,
            "grid_template_areas": null,
            "grid_template_columns": null,
            "grid_template_rows": null,
            "height": null,
            "justify_content": null,
            "justify_items": null,
            "left": null,
            "margin": null,
            "max_height": null,
            "max_width": null,
            "min_height": null,
            "min_width": null,
            "object_fit": null,
            "object_position": null,
            "order": null,
            "overflow": null,
            "overflow_x": null,
            "overflow_y": null,
            "padding": null,
            "right": null,
            "top": null,
            "visibility": null,
            "width": null
          }
        },
        "5ac9412dfcb94ebc9749f5187f41e0f5": {
          "model_module": "@jupyter-widgets/controls",
          "model_name": "DescriptionStyleModel",
          "model_module_version": "1.5.0",
          "state": {
            "_model_module": "@jupyter-widgets/controls",
            "_model_module_version": "1.5.0",
            "_model_name": "DescriptionStyleModel",
            "_view_count": null,
            "_view_module": "@jupyter-widgets/base",
            "_view_module_version": "1.2.0",
            "_view_name": "StyleView",
            "description_width": ""
          }
        },
        "8a3fb013879e472d82c3b957aae1d947": {
          "model_module": "@jupyter-widgets/base",
          "model_name": "LayoutModel",
          "model_module_version": "1.2.0",
          "state": {
            "_model_module": "@jupyter-widgets/base",
            "_model_module_version": "1.2.0",
            "_model_name": "LayoutModel",
            "_view_count": null,
            "_view_module": "@jupyter-widgets/base",
            "_view_module_version": "1.2.0",
            "_view_name": "LayoutView",
            "align_content": null,
            "align_items": null,
            "align_self": null,
            "border": null,
            "bottom": null,
            "display": null,
            "flex": null,
            "flex_flow": null,
            "grid_area": null,
            "grid_auto_columns": null,
            "grid_auto_flow": null,
            "grid_auto_rows": null,
            "grid_column": null,
            "grid_gap": null,
            "grid_row": null,
            "grid_template_areas": null,
            "grid_template_columns": null,
            "grid_template_rows": null,
            "height": null,
            "justify_content": null,
            "justify_items": null,
            "left": null,
            "margin": null,
            "max_height": null,
            "max_width": null,
            "min_height": null,
            "min_width": null,
            "object_fit": null,
            "object_position": null,
            "order": null,
            "overflow": null,
            "overflow_x": null,
            "overflow_y": null,
            "padding": null,
            "right": null,
            "top": null,
            "visibility": null,
            "width": null
          }
        },
        "ac75c899884b4a9db7e58ff4fd5dd42a": {
          "model_module": "@jupyter-widgets/controls",
          "model_name": "ProgressStyleModel",
          "model_module_version": "1.5.0",
          "state": {
            "_model_module": "@jupyter-widgets/controls",
            "_model_module_version": "1.5.0",
            "_model_name": "ProgressStyleModel",
            "_view_count": null,
            "_view_module": "@jupyter-widgets/base",
            "_view_module_version": "1.2.0",
            "_view_name": "StyleView",
            "bar_color": null,
            "description_width": ""
          }
        },
        "8d7c2668c45b4343a1cb5d8a5a615528": {
          "model_module": "@jupyter-widgets/base",
          "model_name": "LayoutModel",
          "model_module_version": "1.2.0",
          "state": {
            "_model_module": "@jupyter-widgets/base",
            "_model_module_version": "1.2.0",
            "_model_name": "LayoutModel",
            "_view_count": null,
            "_view_module": "@jupyter-widgets/base",
            "_view_module_version": "1.2.0",
            "_view_name": "LayoutView",
            "align_content": null,
            "align_items": null,
            "align_self": null,
            "border": null,
            "bottom": null,
            "display": null,
            "flex": null,
            "flex_flow": null,
            "grid_area": null,
            "grid_auto_columns": null,
            "grid_auto_flow": null,
            "grid_auto_rows": null,
            "grid_column": null,
            "grid_gap": null,
            "grid_row": null,
            "grid_template_areas": null,
            "grid_template_columns": null,
            "grid_template_rows": null,
            "height": null,
            "justify_content": null,
            "justify_items": null,
            "left": null,
            "margin": null,
            "max_height": null,
            "max_width": null,
            "min_height": null,
            "min_width": null,
            "object_fit": null,
            "object_position": null,
            "order": null,
            "overflow": null,
            "overflow_x": null,
            "overflow_y": null,
            "padding": null,
            "right": null,
            "top": null,
            "visibility": null,
            "width": null
          }
        },
        "7a1e4a969dfa4fe9a0d5643fd77aaca4": {
          "model_module": "@jupyter-widgets/controls",
          "model_name": "DescriptionStyleModel",
          "model_module_version": "1.5.0",
          "state": {
            "_model_module": "@jupyter-widgets/controls",
            "_model_module_version": "1.5.0",
            "_model_name": "DescriptionStyleModel",
            "_view_count": null,
            "_view_module": "@jupyter-widgets/base",
            "_view_module_version": "1.2.0",
            "_view_name": "StyleView",
            "description_width": ""
          }
        },
        "eb11e2c9cb744cd5a3257701db3aa948": {
          "model_module": "@jupyter-widgets/controls",
          "model_name": "HBoxModel",
          "model_module_version": "1.5.0",
          "state": {
            "_dom_classes": [],
            "_model_module": "@jupyter-widgets/controls",
            "_model_module_version": "1.5.0",
            "_model_name": "HBoxModel",
            "_view_count": null,
            "_view_module": "@jupyter-widgets/controls",
            "_view_module_version": "1.5.0",
            "_view_name": "HBoxView",
            "box_style": "",
            "children": [
              "IPY_MODEL_6305988406584af59f889830b4216769",
              "IPY_MODEL_64fa37ea612640a49433ba3590594ea1",
              "IPY_MODEL_2d9a447406b645e6ae2e81e27b131adc"
            ],
            "layout": "IPY_MODEL_dbb5934bea6840ada01a4684b07ae0dc"
          }
        },
        "6305988406584af59f889830b4216769": {
          "model_module": "@jupyter-widgets/controls",
          "model_name": "HTMLModel",
          "model_module_version": "1.5.0",
          "state": {
            "_dom_classes": [],
            "_model_module": "@jupyter-widgets/controls",
            "_model_module_version": "1.5.0",
            "_model_name": "HTMLModel",
            "_view_count": null,
            "_view_module": "@jupyter-widgets/controls",
            "_view_module_version": "1.5.0",
            "_view_name": "HTMLView",
            "description": "",
            "description_tooltip": null,
            "layout": "IPY_MODEL_9f19e36c2f2e4e75a48bbb2ce05c2f11",
            "placeholder": "​",
            "style": "IPY_MODEL_4d150b332f704411b9d212b7b3e5c237",
            "value": "100%"
          }
        },
        "64fa37ea612640a49433ba3590594ea1": {
          "model_module": "@jupyter-widgets/controls",
          "model_name": "FloatProgressModel",
          "model_module_version": "1.5.0",
          "state": {
            "_dom_classes": [],
            "_model_module": "@jupyter-widgets/controls",
            "_model_module_version": "1.5.0",
            "_model_name": "FloatProgressModel",
            "_view_count": null,
            "_view_module": "@jupyter-widgets/controls",
            "_view_module_version": "1.5.0",
            "_view_name": "ProgressView",
            "bar_style": "success",
            "description": "",
            "description_tooltip": null,
            "layout": "IPY_MODEL_75780008cdfd42ce9b71b14e69fe6ba7",
            "max": 10000,
            "min": 0,
            "orientation": "horizontal",
            "style": "IPY_MODEL_c3b4b97226ab4460b7e679e36bdb0bcb",
            "value": 10000
          }
        },
        "2d9a447406b645e6ae2e81e27b131adc": {
          "model_module": "@jupyter-widgets/controls",
          "model_name": "HTMLModel",
          "model_module_version": "1.5.0",
          "state": {
            "_dom_classes": [],
            "_model_module": "@jupyter-widgets/controls",
            "_model_module_version": "1.5.0",
            "_model_name": "HTMLModel",
            "_view_count": null,
            "_view_module": "@jupyter-widgets/controls",
            "_view_module_version": "1.5.0",
            "_view_name": "HTMLView",
            "description": "",
            "description_tooltip": null,
            "layout": "IPY_MODEL_7d1216fa657f44f38fbcf223a0a66287",
            "placeholder": "​",
            "style": "IPY_MODEL_3ea0a7ce0ef2496f9a3ad6390a22ba1f",
            "value": " 10000/10000 [00:10&lt;00:00, 892.97it/s]"
          }
        },
        "dbb5934bea6840ada01a4684b07ae0dc": {
          "model_module": "@jupyter-widgets/base",
          "model_name": "LayoutModel",
          "model_module_version": "1.2.0",
          "state": {
            "_model_module": "@jupyter-widgets/base",
            "_model_module_version": "1.2.0",
            "_model_name": "LayoutModel",
            "_view_count": null,
            "_view_module": "@jupyter-widgets/base",
            "_view_module_version": "1.2.0",
            "_view_name": "LayoutView",
            "align_content": null,
            "align_items": null,
            "align_self": null,
            "border": null,
            "bottom": null,
            "display": null,
            "flex": null,
            "flex_flow": null,
            "grid_area": null,
            "grid_auto_columns": null,
            "grid_auto_flow": null,
            "grid_auto_rows": null,
            "grid_column": null,
            "grid_gap": null,
            "grid_row": null,
            "grid_template_areas": null,
            "grid_template_columns": null,
            "grid_template_rows": null,
            "height": null,
            "justify_content": null,
            "justify_items": null,
            "left": null,
            "margin": null,
            "max_height": null,
            "max_width": null,
            "min_height": null,
            "min_width": null,
            "object_fit": null,
            "object_position": null,
            "order": null,
            "overflow": null,
            "overflow_x": null,
            "overflow_y": null,
            "padding": null,
            "right": null,
            "top": null,
            "visibility": null,
            "width": null
          }
        },
        "9f19e36c2f2e4e75a48bbb2ce05c2f11": {
          "model_module": "@jupyter-widgets/base",
          "model_name": "LayoutModel",
          "model_module_version": "1.2.0",
          "state": {
            "_model_module": "@jupyter-widgets/base",
            "_model_module_version": "1.2.0",
            "_model_name": "LayoutModel",
            "_view_count": null,
            "_view_module": "@jupyter-widgets/base",
            "_view_module_version": "1.2.0",
            "_view_name": "LayoutView",
            "align_content": null,
            "align_items": null,
            "align_self": null,
            "border": null,
            "bottom": null,
            "display": null,
            "flex": null,
            "flex_flow": null,
            "grid_area": null,
            "grid_auto_columns": null,
            "grid_auto_flow": null,
            "grid_auto_rows": null,
            "grid_column": null,
            "grid_gap": null,
            "grid_row": null,
            "grid_template_areas": null,
            "grid_template_columns": null,
            "grid_template_rows": null,
            "height": null,
            "justify_content": null,
            "justify_items": null,
            "left": null,
            "margin": null,
            "max_height": null,
            "max_width": null,
            "min_height": null,
            "min_width": null,
            "object_fit": null,
            "object_position": null,
            "order": null,
            "overflow": null,
            "overflow_x": null,
            "overflow_y": null,
            "padding": null,
            "right": null,
            "top": null,
            "visibility": null,
            "width": null
          }
        },
        "4d150b332f704411b9d212b7b3e5c237": {
          "model_module": "@jupyter-widgets/controls",
          "model_name": "DescriptionStyleModel",
          "model_module_version": "1.5.0",
          "state": {
            "_model_module": "@jupyter-widgets/controls",
            "_model_module_version": "1.5.0",
            "_model_name": "DescriptionStyleModel",
            "_view_count": null,
            "_view_module": "@jupyter-widgets/base",
            "_view_module_version": "1.2.0",
            "_view_name": "StyleView",
            "description_width": ""
          }
        },
        "75780008cdfd42ce9b71b14e69fe6ba7": {
          "model_module": "@jupyter-widgets/base",
          "model_name": "LayoutModel",
          "model_module_version": "1.2.0",
          "state": {
            "_model_module": "@jupyter-widgets/base",
            "_model_module_version": "1.2.0",
            "_model_name": "LayoutModel",
            "_view_count": null,
            "_view_module": "@jupyter-widgets/base",
            "_view_module_version": "1.2.0",
            "_view_name": "LayoutView",
            "align_content": null,
            "align_items": null,
            "align_self": null,
            "border": null,
            "bottom": null,
            "display": null,
            "flex": null,
            "flex_flow": null,
            "grid_area": null,
            "grid_auto_columns": null,
            "grid_auto_flow": null,
            "grid_auto_rows": null,
            "grid_column": null,
            "grid_gap": null,
            "grid_row": null,
            "grid_template_areas": null,
            "grid_template_columns": null,
            "grid_template_rows": null,
            "height": null,
            "justify_content": null,
            "justify_items": null,
            "left": null,
            "margin": null,
            "max_height": null,
            "max_width": null,
            "min_height": null,
            "min_width": null,
            "object_fit": null,
            "object_position": null,
            "order": null,
            "overflow": null,
            "overflow_x": null,
            "overflow_y": null,
            "padding": null,
            "right": null,
            "top": null,
            "visibility": null,
            "width": null
          }
        },
        "c3b4b97226ab4460b7e679e36bdb0bcb": {
          "model_module": "@jupyter-widgets/controls",
          "model_name": "ProgressStyleModel",
          "model_module_version": "1.5.0",
          "state": {
            "_model_module": "@jupyter-widgets/controls",
            "_model_module_version": "1.5.0",
            "_model_name": "ProgressStyleModel",
            "_view_count": null,
            "_view_module": "@jupyter-widgets/base",
            "_view_module_version": "1.2.0",
            "_view_name": "StyleView",
            "bar_color": null,
            "description_width": ""
          }
        },
        "7d1216fa657f44f38fbcf223a0a66287": {
          "model_module": "@jupyter-widgets/base",
          "model_name": "LayoutModel",
          "model_module_version": "1.2.0",
          "state": {
            "_model_module": "@jupyter-widgets/base",
            "_model_module_version": "1.2.0",
            "_model_name": "LayoutModel",
            "_view_count": null,
            "_view_module": "@jupyter-widgets/base",
            "_view_module_version": "1.2.0",
            "_view_name": "LayoutView",
            "align_content": null,
            "align_items": null,
            "align_self": null,
            "border": null,
            "bottom": null,
            "display": null,
            "flex": null,
            "flex_flow": null,
            "grid_area": null,
            "grid_auto_columns": null,
            "grid_auto_flow": null,
            "grid_auto_rows": null,
            "grid_column": null,
            "grid_gap": null,
            "grid_row": null,
            "grid_template_areas": null,
            "grid_template_columns": null,
            "grid_template_rows": null,
            "height": null,
            "justify_content": null,
            "justify_items": null,
            "left": null,
            "margin": null,
            "max_height": null,
            "max_width": null,
            "min_height": null,
            "min_width": null,
            "object_fit": null,
            "object_position": null,
            "order": null,
            "overflow": null,
            "overflow_x": null,
            "overflow_y": null,
            "padding": null,
            "right": null,
            "top": null,
            "visibility": null,
            "width": null
          }
        },
        "3ea0a7ce0ef2496f9a3ad6390a22ba1f": {
          "model_module": "@jupyter-widgets/controls",
          "model_name": "DescriptionStyleModel",
          "model_module_version": "1.5.0",
          "state": {
            "_model_module": "@jupyter-widgets/controls",
            "_model_module_version": "1.5.0",
            "_model_name": "DescriptionStyleModel",
            "_view_count": null,
            "_view_module": "@jupyter-widgets/base",
            "_view_module_version": "1.2.0",
            "_view_name": "StyleView",
            "description_width": ""
          }
        },
        "7f3213906b0c49e2944bf1c68120e67d": {
          "model_module": "@jupyter-widgets/controls",
          "model_name": "HBoxModel",
          "model_module_version": "1.5.0",
          "state": {
            "_dom_classes": [],
            "_model_module": "@jupyter-widgets/controls",
            "_model_module_version": "1.5.0",
            "_model_name": "HBoxModel",
            "_view_count": null,
            "_view_module": "@jupyter-widgets/controls",
            "_view_module_version": "1.5.0",
            "_view_name": "HBoxView",
            "box_style": "",
            "children": [
              "IPY_MODEL_de00841d2340418987518a568f855544",
              "IPY_MODEL_4235d8468d57442898cd8a1787fc80d3",
              "IPY_MODEL_4088f6047dd047c0864448d299ff7d55"
            ],
            "layout": "IPY_MODEL_3a79842caeee41d7a43d7887e1973ed9"
          }
        },
        "de00841d2340418987518a568f855544": {
          "model_module": "@jupyter-widgets/controls",
          "model_name": "HTMLModel",
          "model_module_version": "1.5.0",
          "state": {
            "_dom_classes": [],
            "_model_module": "@jupyter-widgets/controls",
            "_model_module_version": "1.5.0",
            "_model_name": "HTMLModel",
            "_view_count": null,
            "_view_module": "@jupyter-widgets/controls",
            "_view_module_version": "1.5.0",
            "_view_name": "HTMLView",
            "description": "",
            "description_tooltip": null,
            "layout": "IPY_MODEL_da6ee22402ef474bbf7d1a103b454960",
            "placeholder": "​",
            "style": "IPY_MODEL_3b8a55c0e1a848b6975651ed29f65042",
            "value": "100%"
          }
        },
        "4235d8468d57442898cd8a1787fc80d3": {
          "model_module": "@jupyter-widgets/controls",
          "model_name": "FloatProgressModel",
          "model_module_version": "1.5.0",
          "state": {
            "_dom_classes": [],
            "_model_module": "@jupyter-widgets/controls",
            "_model_module_version": "1.5.0",
            "_model_name": "FloatProgressModel",
            "_view_count": null,
            "_view_module": "@jupyter-widgets/controls",
            "_view_module_version": "1.5.0",
            "_view_name": "ProgressView",
            "bar_style": "success",
            "description": "",
            "description_tooltip": null,
            "layout": "IPY_MODEL_828818ba7f2d416a92b15064ca9750d3",
            "max": 10000,
            "min": 0,
            "orientation": "horizontal",
            "style": "IPY_MODEL_fc4af4b5fc444c78a891ea06549fe281",
            "value": 10000
          }
        },
        "4088f6047dd047c0864448d299ff7d55": {
          "model_module": "@jupyter-widgets/controls",
          "model_name": "HTMLModel",
          "model_module_version": "1.5.0",
          "state": {
            "_dom_classes": [],
            "_model_module": "@jupyter-widgets/controls",
            "_model_module_version": "1.5.0",
            "_model_name": "HTMLModel",
            "_view_count": null,
            "_view_module": "@jupyter-widgets/controls",
            "_view_module_version": "1.5.0",
            "_view_name": "HTMLView",
            "description": "",
            "description_tooltip": null,
            "layout": "IPY_MODEL_666863c8d9af4c50b04e306f620af232",
            "placeholder": "​",
            "style": "IPY_MODEL_681c51a6fecd4b30a65936f3c34861bc",
            "value": " 10000/10000 [00:21&lt;00:00, 478.20it/s]"
          }
        },
        "3a79842caeee41d7a43d7887e1973ed9": {
          "model_module": "@jupyter-widgets/base",
          "model_name": "LayoutModel",
          "model_module_version": "1.2.0",
          "state": {
            "_model_module": "@jupyter-widgets/base",
            "_model_module_version": "1.2.0",
            "_model_name": "LayoutModel",
            "_view_count": null,
            "_view_module": "@jupyter-widgets/base",
            "_view_module_version": "1.2.0",
            "_view_name": "LayoutView",
            "align_content": null,
            "align_items": null,
            "align_self": null,
            "border": null,
            "bottom": null,
            "display": null,
            "flex": null,
            "flex_flow": null,
            "grid_area": null,
            "grid_auto_columns": null,
            "grid_auto_flow": null,
            "grid_auto_rows": null,
            "grid_column": null,
            "grid_gap": null,
            "grid_row": null,
            "grid_template_areas": null,
            "grid_template_columns": null,
            "grid_template_rows": null,
            "height": null,
            "justify_content": null,
            "justify_items": null,
            "left": null,
            "margin": null,
            "max_height": null,
            "max_width": null,
            "min_height": null,
            "min_width": null,
            "object_fit": null,
            "object_position": null,
            "order": null,
            "overflow": null,
            "overflow_x": null,
            "overflow_y": null,
            "padding": null,
            "right": null,
            "top": null,
            "visibility": null,
            "width": null
          }
        },
        "da6ee22402ef474bbf7d1a103b454960": {
          "model_module": "@jupyter-widgets/base",
          "model_name": "LayoutModel",
          "model_module_version": "1.2.0",
          "state": {
            "_model_module": "@jupyter-widgets/base",
            "_model_module_version": "1.2.0",
            "_model_name": "LayoutModel",
            "_view_count": null,
            "_view_module": "@jupyter-widgets/base",
            "_view_module_version": "1.2.0",
            "_view_name": "LayoutView",
            "align_content": null,
            "align_items": null,
            "align_self": null,
            "border": null,
            "bottom": null,
            "display": null,
            "flex": null,
            "flex_flow": null,
            "grid_area": null,
            "grid_auto_columns": null,
            "grid_auto_flow": null,
            "grid_auto_rows": null,
            "grid_column": null,
            "grid_gap": null,
            "grid_row": null,
            "grid_template_areas": null,
            "grid_template_columns": null,
            "grid_template_rows": null,
            "height": null,
            "justify_content": null,
            "justify_items": null,
            "left": null,
            "margin": null,
            "max_height": null,
            "max_width": null,
            "min_height": null,
            "min_width": null,
            "object_fit": null,
            "object_position": null,
            "order": null,
            "overflow": null,
            "overflow_x": null,
            "overflow_y": null,
            "padding": null,
            "right": null,
            "top": null,
            "visibility": null,
            "width": null
          }
        },
        "3b8a55c0e1a848b6975651ed29f65042": {
          "model_module": "@jupyter-widgets/controls",
          "model_name": "DescriptionStyleModel",
          "model_module_version": "1.5.0",
          "state": {
            "_model_module": "@jupyter-widgets/controls",
            "_model_module_version": "1.5.0",
            "_model_name": "DescriptionStyleModel",
            "_view_count": null,
            "_view_module": "@jupyter-widgets/base",
            "_view_module_version": "1.2.0",
            "_view_name": "StyleView",
            "description_width": ""
          }
        },
        "828818ba7f2d416a92b15064ca9750d3": {
          "model_module": "@jupyter-widgets/base",
          "model_name": "LayoutModel",
          "model_module_version": "1.2.0",
          "state": {
            "_model_module": "@jupyter-widgets/base",
            "_model_module_version": "1.2.0",
            "_model_name": "LayoutModel",
            "_view_count": null,
            "_view_module": "@jupyter-widgets/base",
            "_view_module_version": "1.2.0",
            "_view_name": "LayoutView",
            "align_content": null,
            "align_items": null,
            "align_self": null,
            "border": null,
            "bottom": null,
            "display": null,
            "flex": null,
            "flex_flow": null,
            "grid_area": null,
            "grid_auto_columns": null,
            "grid_auto_flow": null,
            "grid_auto_rows": null,
            "grid_column": null,
            "grid_gap": null,
            "grid_row": null,
            "grid_template_areas": null,
            "grid_template_columns": null,
            "grid_template_rows": null,
            "height": null,
            "justify_content": null,
            "justify_items": null,
            "left": null,
            "margin": null,
            "max_height": null,
            "max_width": null,
            "min_height": null,
            "min_width": null,
            "object_fit": null,
            "object_position": null,
            "order": null,
            "overflow": null,
            "overflow_x": null,
            "overflow_y": null,
            "padding": null,
            "right": null,
            "top": null,
            "visibility": null,
            "width": null
          }
        },
        "fc4af4b5fc444c78a891ea06549fe281": {
          "model_module": "@jupyter-widgets/controls",
          "model_name": "ProgressStyleModel",
          "model_module_version": "1.5.0",
          "state": {
            "_model_module": "@jupyter-widgets/controls",
            "_model_module_version": "1.5.0",
            "_model_name": "ProgressStyleModel",
            "_view_count": null,
            "_view_module": "@jupyter-widgets/base",
            "_view_module_version": "1.2.0",
            "_view_name": "StyleView",
            "bar_color": null,
            "description_width": ""
          }
        },
        "666863c8d9af4c50b04e306f620af232": {
          "model_module": "@jupyter-widgets/base",
          "model_name": "LayoutModel",
          "model_module_version": "1.2.0",
          "state": {
            "_model_module": "@jupyter-widgets/base",
            "_model_module_version": "1.2.0",
            "_model_name": "LayoutModel",
            "_view_count": null,
            "_view_module": "@jupyter-widgets/base",
            "_view_module_version": "1.2.0",
            "_view_name": "LayoutView",
            "align_content": null,
            "align_items": null,
            "align_self": null,
            "border": null,
            "bottom": null,
            "display": null,
            "flex": null,
            "flex_flow": null,
            "grid_area": null,
            "grid_auto_columns": null,
            "grid_auto_flow": null,
            "grid_auto_rows": null,
            "grid_column": null,
            "grid_gap": null,
            "grid_row": null,
            "grid_template_areas": null,
            "grid_template_columns": null,
            "grid_template_rows": null,
            "height": null,
            "justify_content": null,
            "justify_items": null,
            "left": null,
            "margin": null,
            "max_height": null,
            "max_width": null,
            "min_height": null,
            "min_width": null,
            "object_fit": null,
            "object_position": null,
            "order": null,
            "overflow": null,
            "overflow_x": null,
            "overflow_y": null,
            "padding": null,
            "right": null,
            "top": null,
            "visibility": null,
            "width": null
          }
        },
        "681c51a6fecd4b30a65936f3c34861bc": {
          "model_module": "@jupyter-widgets/controls",
          "model_name": "DescriptionStyleModel",
          "model_module_version": "1.5.0",
          "state": {
            "_model_module": "@jupyter-widgets/controls",
            "_model_module_version": "1.5.0",
            "_model_name": "DescriptionStyleModel",
            "_view_count": null,
            "_view_module": "@jupyter-widgets/base",
            "_view_module_version": "1.2.0",
            "_view_name": "StyleView",
            "description_width": ""
          }
        },
        "d6a2b60b2e584180a0cde48ee3428051": {
          "model_module": "@jupyter-widgets/controls",
          "model_name": "HBoxModel",
          "model_module_version": "1.5.0",
          "state": {
            "_dom_classes": [],
            "_model_module": "@jupyter-widgets/controls",
            "_model_module_version": "1.5.0",
            "_model_name": "HBoxModel",
            "_view_count": null,
            "_view_module": "@jupyter-widgets/controls",
            "_view_module_version": "1.5.0",
            "_view_name": "HBoxView",
            "box_style": "",
            "children": [
              "IPY_MODEL_9a6856ecfbc84efebedd81fec6acffe3",
              "IPY_MODEL_469d1cd9c0e5437f999e462ab538b49e",
              "IPY_MODEL_541dcdc6072a4981a4a38739f342b692"
            ],
            "layout": "IPY_MODEL_dd567954bf8f4edaad0044fed1167ffb"
          }
        },
        "9a6856ecfbc84efebedd81fec6acffe3": {
          "model_module": "@jupyter-widgets/controls",
          "model_name": "HTMLModel",
          "model_module_version": "1.5.0",
          "state": {
            "_dom_classes": [],
            "_model_module": "@jupyter-widgets/controls",
            "_model_module_version": "1.5.0",
            "_model_name": "HTMLModel",
            "_view_count": null,
            "_view_module": "@jupyter-widgets/controls",
            "_view_module_version": "1.5.0",
            "_view_name": "HTMLView",
            "description": "",
            "description_tooltip": null,
            "layout": "IPY_MODEL_8460ec2409c44087b37d37b43c671310",
            "placeholder": "​",
            "style": "IPY_MODEL_23bac02296764554947827a7d41f3f4e",
            "value": "100%"
          }
        },
        "469d1cd9c0e5437f999e462ab538b49e": {
          "model_module": "@jupyter-widgets/controls",
          "model_name": "FloatProgressModel",
          "model_module_version": "1.5.0",
          "state": {
            "_dom_classes": [],
            "_model_module": "@jupyter-widgets/controls",
            "_model_module_version": "1.5.0",
            "_model_name": "FloatProgressModel",
            "_view_count": null,
            "_view_module": "@jupyter-widgets/controls",
            "_view_module_version": "1.5.0",
            "_view_name": "ProgressView",
            "bar_style": "success",
            "description": "",
            "description_tooltip": null,
            "layout": "IPY_MODEL_d76e25464fdb42e7bd011a17e3f19e37",
            "max": 10000,
            "min": 0,
            "orientation": "horizontal",
            "style": "IPY_MODEL_5c69a7def1cf4143a9f68465a25362c0",
            "value": 10000
          }
        },
        "541dcdc6072a4981a4a38739f342b692": {
          "model_module": "@jupyter-widgets/controls",
          "model_name": "HTMLModel",
          "model_module_version": "1.5.0",
          "state": {
            "_dom_classes": [],
            "_model_module": "@jupyter-widgets/controls",
            "_model_module_version": "1.5.0",
            "_model_name": "HTMLModel",
            "_view_count": null,
            "_view_module": "@jupyter-widgets/controls",
            "_view_module_version": "1.5.0",
            "_view_name": "HTMLView",
            "description": "",
            "description_tooltip": null,
            "layout": "IPY_MODEL_5c86772fd51140a7bab52dc8acb46217",
            "placeholder": "​",
            "style": "IPY_MODEL_13237bf1d10845fa80abecf25d84e11a",
            "value": " 10000/10000 [00:11&lt;00:00, 890.78it/s]"
          }
        },
        "dd567954bf8f4edaad0044fed1167ffb": {
          "model_module": "@jupyter-widgets/base",
          "model_name": "LayoutModel",
          "model_module_version": "1.2.0",
          "state": {
            "_model_module": "@jupyter-widgets/base",
            "_model_module_version": "1.2.0",
            "_model_name": "LayoutModel",
            "_view_count": null,
            "_view_module": "@jupyter-widgets/base",
            "_view_module_version": "1.2.0",
            "_view_name": "LayoutView",
            "align_content": null,
            "align_items": null,
            "align_self": null,
            "border": null,
            "bottom": null,
            "display": null,
            "flex": null,
            "flex_flow": null,
            "grid_area": null,
            "grid_auto_columns": null,
            "grid_auto_flow": null,
            "grid_auto_rows": null,
            "grid_column": null,
            "grid_gap": null,
            "grid_row": null,
            "grid_template_areas": null,
            "grid_template_columns": null,
            "grid_template_rows": null,
            "height": null,
            "justify_content": null,
            "justify_items": null,
            "left": null,
            "margin": null,
            "max_height": null,
            "max_width": null,
            "min_height": null,
            "min_width": null,
            "object_fit": null,
            "object_position": null,
            "order": null,
            "overflow": null,
            "overflow_x": null,
            "overflow_y": null,
            "padding": null,
            "right": null,
            "top": null,
            "visibility": null,
            "width": null
          }
        },
        "8460ec2409c44087b37d37b43c671310": {
          "model_module": "@jupyter-widgets/base",
          "model_name": "LayoutModel",
          "model_module_version": "1.2.0",
          "state": {
            "_model_module": "@jupyter-widgets/base",
            "_model_module_version": "1.2.0",
            "_model_name": "LayoutModel",
            "_view_count": null,
            "_view_module": "@jupyter-widgets/base",
            "_view_module_version": "1.2.0",
            "_view_name": "LayoutView",
            "align_content": null,
            "align_items": null,
            "align_self": null,
            "border": null,
            "bottom": null,
            "display": null,
            "flex": null,
            "flex_flow": null,
            "grid_area": null,
            "grid_auto_columns": null,
            "grid_auto_flow": null,
            "grid_auto_rows": null,
            "grid_column": null,
            "grid_gap": null,
            "grid_row": null,
            "grid_template_areas": null,
            "grid_template_columns": null,
            "grid_template_rows": null,
            "height": null,
            "justify_content": null,
            "justify_items": null,
            "left": null,
            "margin": null,
            "max_height": null,
            "max_width": null,
            "min_height": null,
            "min_width": null,
            "object_fit": null,
            "object_position": null,
            "order": null,
            "overflow": null,
            "overflow_x": null,
            "overflow_y": null,
            "padding": null,
            "right": null,
            "top": null,
            "visibility": null,
            "width": null
          }
        },
        "23bac02296764554947827a7d41f3f4e": {
          "model_module": "@jupyter-widgets/controls",
          "model_name": "DescriptionStyleModel",
          "model_module_version": "1.5.0",
          "state": {
            "_model_module": "@jupyter-widgets/controls",
            "_model_module_version": "1.5.0",
            "_model_name": "DescriptionStyleModel",
            "_view_count": null,
            "_view_module": "@jupyter-widgets/base",
            "_view_module_version": "1.2.0",
            "_view_name": "StyleView",
            "description_width": ""
          }
        },
        "d76e25464fdb42e7bd011a17e3f19e37": {
          "model_module": "@jupyter-widgets/base",
          "model_name": "LayoutModel",
          "model_module_version": "1.2.0",
          "state": {
            "_model_module": "@jupyter-widgets/base",
            "_model_module_version": "1.2.0",
            "_model_name": "LayoutModel",
            "_view_count": null,
            "_view_module": "@jupyter-widgets/base",
            "_view_module_version": "1.2.0",
            "_view_name": "LayoutView",
            "align_content": null,
            "align_items": null,
            "align_self": null,
            "border": null,
            "bottom": null,
            "display": null,
            "flex": null,
            "flex_flow": null,
            "grid_area": null,
            "grid_auto_columns": null,
            "grid_auto_flow": null,
            "grid_auto_rows": null,
            "grid_column": null,
            "grid_gap": null,
            "grid_row": null,
            "grid_template_areas": null,
            "grid_template_columns": null,
            "grid_template_rows": null,
            "height": null,
            "justify_content": null,
            "justify_items": null,
            "left": null,
            "margin": null,
            "max_height": null,
            "max_width": null,
            "min_height": null,
            "min_width": null,
            "object_fit": null,
            "object_position": null,
            "order": null,
            "overflow": null,
            "overflow_x": null,
            "overflow_y": null,
            "padding": null,
            "right": null,
            "top": null,
            "visibility": null,
            "width": null
          }
        },
        "5c69a7def1cf4143a9f68465a25362c0": {
          "model_module": "@jupyter-widgets/controls",
          "model_name": "ProgressStyleModel",
          "model_module_version": "1.5.0",
          "state": {
            "_model_module": "@jupyter-widgets/controls",
            "_model_module_version": "1.5.0",
            "_model_name": "ProgressStyleModel",
            "_view_count": null,
            "_view_module": "@jupyter-widgets/base",
            "_view_module_version": "1.2.0",
            "_view_name": "StyleView",
            "bar_color": null,
            "description_width": ""
          }
        },
        "5c86772fd51140a7bab52dc8acb46217": {
          "model_module": "@jupyter-widgets/base",
          "model_name": "LayoutModel",
          "model_module_version": "1.2.0",
          "state": {
            "_model_module": "@jupyter-widgets/base",
            "_model_module_version": "1.2.0",
            "_model_name": "LayoutModel",
            "_view_count": null,
            "_view_module": "@jupyter-widgets/base",
            "_view_module_version": "1.2.0",
            "_view_name": "LayoutView",
            "align_content": null,
            "align_items": null,
            "align_self": null,
            "border": null,
            "bottom": null,
            "display": null,
            "flex": null,
            "flex_flow": null,
            "grid_area": null,
            "grid_auto_columns": null,
            "grid_auto_flow": null,
            "grid_auto_rows": null,
            "grid_column": null,
            "grid_gap": null,
            "grid_row": null,
            "grid_template_areas": null,
            "grid_template_columns": null,
            "grid_template_rows": null,
            "height": null,
            "justify_content": null,
            "justify_items": null,
            "left": null,
            "margin": null,
            "max_height": null,
            "max_width": null,
            "min_height": null,
            "min_width": null,
            "object_fit": null,
            "object_position": null,
            "order": null,
            "overflow": null,
            "overflow_x": null,
            "overflow_y": null,
            "padding": null,
            "right": null,
            "top": null,
            "visibility": null,
            "width": null
          }
        },
        "13237bf1d10845fa80abecf25d84e11a": {
          "model_module": "@jupyter-widgets/controls",
          "model_name": "DescriptionStyleModel",
          "model_module_version": "1.5.0",
          "state": {
            "_model_module": "@jupyter-widgets/controls",
            "_model_module_version": "1.5.0",
            "_model_name": "DescriptionStyleModel",
            "_view_count": null,
            "_view_module": "@jupyter-widgets/base",
            "_view_module_version": "1.2.0",
            "_view_name": "StyleView",
            "description_width": ""
          }
        }
      }
    }
  },
  "cells": [
    {
      "cell_type": "markdown",
      "source": [
        "# CensoredNormal_Implementation\n",
        "\n",
        "This notebook demostrates the impact of the censoring and truncation on the Linear Bayesian Regression.\n"
      ],
      "metadata": {
        "id": "Iopc07LJzwND"
      }
    },
    {
      "cell_type": "code",
      "execution_count": null,
      "metadata": {
        "id": "vmM3Rp0ZazQf",
        "colab": {
          "base_uri": "https://localhost:8080/"
        },
        "outputId": "8568cd99-90c1-471b-8f4b-0eb9a0b6e848"
      },
      "outputs": [
        {
          "output_type": "stream",
          "name": "stdout",
          "text": [
            "\u001b[2K     \u001b[90m━━━━━━━━━━━━━━━━━━━━━━━━━━━━━━━━━━━━━━━━\u001b[0m \u001b[32m732.8/732.8 kB\u001b[0m \u001b[31m6.7 MB/s\u001b[0m eta \u001b[36m0:00:00\u001b[0m\n",
            "\u001b[?25h"
          ]
        }
      ],
      "source": [
        "!pip install -q pyro-ppl"
      ]
    },
    {
      "cell_type": "code",
      "source": [
        "import os\n",
        "from functools import partial\n",
        "\n",
        "import torch\n",
        "import torch.nn as nn\n",
        "import torch.distributions.constraints as constraints\n",
        "\n",
        "import numpy as np\n",
        "\n",
        "import pyro\n",
        "import pyro\n",
        "import pyro.infer\n",
        "import pyro.optim\n",
        "import pyro.distributions as dist\n",
        "from pyro.nn import PyroModule, PyroSample\n",
        "from pyro.infer.autoguide import AutoDiagonalNormal\n",
        "from pyro.infer import SVI, Trace_ELBO, Predictive\n",
        "from tqdm.auto import trange, tqdm\n",
        "\n",
        "import matplotlib.pyplot as plt\n",
        "from mpl_toolkits.axes_grid1 import make_axes_locatable\n",
        "import seaborn as sns\n",
        "\n",
        "smoke_test = \"CI\" in os.environ  # ignore; used to check code integrity in the Pyro repo\n",
        "assert pyro.__version__.startswith('1.8.6')\n",
        "pyro.set_rng_seed(0)\n",
        "torch.set_default_tensor_type(torch.DoubleTensor)"
      ],
      "metadata": {
        "id": "c-dBX_WLfuxa",
        "colab": {
          "base_uri": "https://localhost:8080/"
        },
        "outputId": "d684c20c-9212-4607-dffd-ebd062f3d989"
      },
      "execution_count": null,
      "outputs": [
        {
          "output_type": "stream",
          "name": "stderr",
          "text": [
            "/usr/local/lib/python3.10/dist-packages/torch/__init__.py:614: UserWarning: torch.set_default_tensor_type() is deprecated as of PyTorch 2.1, please use torch.set_default_dtype() and torch.set_default_device() as alternatives. (Triggered internally at ../torch/csrc/tensor/python_tensor.cpp:451.)\n",
            "  _C._set_default_tensor_type(t)\n"
          ]
        }
      ]
    },
    {
      "cell_type": "markdown",
      "source": [
        "## Sampling From Normal Distribution\n",
        "\n",
        "* likelihood estimation of the parameters of censored and truncated distribution to demonstrate the impact of the transformations on the underlying normal distribution"
      ],
      "metadata": {
        "id": "UwrkEGZXNb6u"
      }
    },
    {
      "cell_type": "code",
      "source": [
        "def optimise_likelihood(x, num_iterations=1000):\n",
        "    pyro.clear_param_store()\n",
        "    loc_ = torch.tensor([0.], requires_grad=True)\n",
        "    scale_ = torch.tensor([1.], requires_grad=True)\n",
        "    optimizer = torch.optim.Adam([loc_, scale_], lr=0.05)\n",
        "\n",
        "    pbar = tqdm(range(num_iterations), position=0, leave=True)\n",
        "\n",
        "    losses = []\n",
        "    for epoch in pbar:\n",
        "        optimizer.zero_grad()\n",
        "        pX = dist.Normal( loc_, scale_)\n",
        "        loss = -pX.log_prob(x).mean()     # \"forward\" compute the loss (neg avg log-likelihood)\n",
        "        loss.backward()\n",
        "        optimizer.step()\n",
        "        optimizer.zero_grad()                   # \"backward\" compute the gradient (& unfortunately clear stuff)\n",
        "        losses.append(loss.item())\n",
        "    res = {\n",
        "        'loc': loc_.item(),\n",
        "        'scale' : scale_.item()\n",
        "        }\n",
        "    return res"
      ],
      "metadata": {
        "id": "J6M4-B55QbFl"
      },
      "execution_count": null,
      "outputs": []
    },
    {
      "cell_type": "code",
      "source": [
        "N = 500\n",
        "true_sigma = 5.0\n",
        "true_loc = 13.\n",
        "\n",
        "\n",
        "# generate the data\n",
        "X = dist.Uniform(torch.tensor([-5.]), torch.tensor([35.0]))\n",
        "Y = dist.Normal(torch.tensor([true_loc]), torch.tensor([true_sigma]))\n",
        "\n",
        "x = X.sample(sample_shape=(N,))\n",
        "y = Y.sample(sample_shape=(N,))\n",
        "\n",
        "# censor the data\n",
        "lower_bound = 3.\n",
        "upper_bound = 16.\n",
        "\n",
        "y_censored = torch.clamp(y, min=lower_bound, max=upper_bound)\n",
        "mask = (y < lower_bound)  | (y > upper_bound)\n",
        "y_censored_indices = torch.nonzero(mask, as_tuple=True)[0]\n",
        "y_truncated_indices = torch.nonzero(~mask, as_tuple=True)[0]\n",
        "\n",
        "x_truncated = x[y_truncated_indices]\n",
        "y_truncated = y[y_truncated_indices]"
      ],
      "metadata": {
        "id": "Bea5mjOC_E_A"
      },
      "execution_count": null,
      "outputs": []
    },
    {
      "cell_type": "code",
      "source": [
        "# Visualize uncensored, censored and truncated data\n",
        "_, ax = plt.subplots(1,2, figsize=(12, 4))\n",
        "edges = np.linspace(-5, 35, 30)\n",
        "for ax_ in ax:\n",
        "  ax_.hist(y.numpy(), bins=edges, density=True, histtype=\"stepfilled\", alpha=0.4, label=\"Data\")\n",
        "  [ax_.axvline(x=x, c=\"k\", ls=\"--\") for x in [lower_bound, upper_bound]]\n",
        "\n",
        "ax[0].hist(y_censored.numpy(), bins=edges, density=True, histtype=\"stepfilled\", alpha=0.4, label=\"Censored\")\n",
        "ax[0].legend()\n",
        "_ = ax[0].set(title=\"Censored data\")\n",
        "\n",
        "ax[1].hist(y_truncated.numpy(), bins=edges, density=True, histtype=\"stepfilled\", alpha=0.4, label=\"Truncated\")\n",
        "ax[1].legend()\n",
        "_ = ax[1].set(title=\"Truncated data\")\n",
        "\n",
        "#plt.savefig('dists.pdf', format='pdf')"
      ],
      "metadata": {
        "colab": {
          "base_uri": "https://localhost:8080/",
          "height": 391
        },
        "id": "DgwE2RGvAo5A",
        "outputId": "6fc4b17d-752d-4139-92dc-7c06a9d9813d"
      },
      "execution_count": null,
      "outputs": [
        {
          "output_type": "display_data",
          "data": {
            "text/plain": [
              "<Figure size 1200x400 with 2 Axes>"
            ],
            "image/png": "[encoded data removed]"
          },
          "metadata": {}
        }
      ]
    },
    {
      "cell_type": "code",
      "source": [
        "# parameters for non-censored data are: loc = 13., scale =5.\n",
        "print(\" all data\")\n",
        "print(optimise_likelihood(y, 10000))\n",
        "print('sample mean: {: .5f}, sample std: {: .5f}'.format(y.mean().item(), y.std().item()))"
      ],
      "metadata": {
        "colab": {
          "base_uri": "https://localhost:8080/",
          "height": 104,
          "referenced_widgets": [
            "3a2d295c18d14fe885196f488f666d1c",
            "5052c5d88d08498ebe7bfdbaebda8357",
            "0fcdfd683e354b2fb6530054f0edd5f6",
            "901a343790c0470a9631a1eed8741cf7",
            "491d31732d924686a4b16b29b2153337",
            "0ea66ac5f4504d7192001f97f1472ea0",
            "0418c1f271d8401aab020871e91ac842",
            "c1e51204919e448c90f0f280d22c3c85",
            "613e48415a1144a9b8f0e019ae470ea1",
            "a292ebe9fb034d9791d978148cbb9d86",
            "c64dfd7af4134f1f93a49aff09ef6781"
          ]
        },
        "id": "ut0Nnu2lhTof",
        "outputId": "b798d472-9db1-4ebf-bfff-74f35e5d0e59"
      },
      "execution_count": null,
      "outputs": [
        {
          "output_type": "stream",
          "name": "stdout",
          "text": [
            " all data\n"
          ]
        },
        {
          "output_type": "display_data",
          "data": {
            "text/plain": [
              "  0%|          | 0/10000 [00:00<?, ?it/s]"
            ],
            "application/vnd.jupyter.widget-view+json": {
              "version_major": 2,
              "version_minor": 0,
              "model_id": "3a2d295c18d14fe885196f488f666d1c"
            }
          },
          "metadata": {}
        },
        {
          "output_type": "stream",
          "name": "stdout",
          "text": [
            "{'loc': 13.122341681801878, 'scale': 4.893409110161722}\n",
            "sample mean:  13.12234, sample std:  4.89831\n"
          ]
        }
      ]
    },
    {
      "cell_type": "code",
      "source": [
        "# parameters for non-censored data are: loc = 13., scale =5.\n",
        "print(\"censored\")\n",
        "print(optimise_likelihood(y_censored, 10000))\n",
        "print('sample mean: {: .5f}, sample std: {: .5f}'.format(y_censored.mean().item(), y_censored.std().item()))"
      ],
      "metadata": {
        "colab": {
          "base_uri": "https://localhost:8080/",
          "height": 104,
          "referenced_widgets": [
            "a839d80423934b7c9aa159ed4aa65bc5",
            "e87d0aaf9bf949c69d5978ca65510f03",
            "18b16ac8d402471a828b7ba3a23dd75a",
            "582b4b5d317642d3999046b7f9e3a9d3",
            "9d7af3ffaece4db1a3ebbc8ac59156ef",
            "b30230d7b46042859cac456250ebc632",
            "5ac9412dfcb94ebc9749f5187f41e0f5",
            "8a3fb013879e472d82c3b957aae1d947",
            "ac75c899884b4a9db7e58ff4fd5dd42a",
            "8d7c2668c45b4343a1cb5d8a5a615528",
            "7a1e4a969dfa4fe9a0d5643fd77aaca4"
          ]
        },
        "id": "BJ3nCOhOh__3",
        "outputId": "6e453451-bcd9-4426-9e6f-a076401905a1"
      },
      "execution_count": null,
      "outputs": [
        {
          "output_type": "stream",
          "name": "stdout",
          "text": [
            "censored\n"
          ]
        },
        {
          "output_type": "display_data",
          "data": {
            "text/plain": [
              "  0%|          | 0/10000 [00:00<?, ?it/s]"
            ],
            "application/vnd.jupyter.widget-view+json": {
              "version_major": 2,
              "version_minor": 0,
              "model_id": "a839d80423934b7c9aa159ed4aa65bc5"
            }
          },
          "metadata": {}
        },
        {
          "output_type": "stream",
          "name": "stdout",
          "text": [
            "{'loc': 12.325456260768043, 'scale': 3.6089050675481102}\n",
            "sample mean:  12.32546, sample std:  3.61252\n"
          ]
        }
      ]
    },
    {
      "cell_type": "code",
      "source": [
        "# parameters for non-censored data are: loc = 13., scale =5.\n",
        "print(\"truncated\")\n",
        "print(optimise_likelihood(y_truncated, 10000))\n",
        "print('sample mean: {: .5f}, sample std: {: .5f}'.format(y_truncated.mean().item(), y_truncated.std().item()))"
      ],
      "metadata": {
        "colab": {
          "base_uri": "https://localhost:8080/",
          "height": 104,
          "referenced_widgets": [
            "eb11e2c9cb744cd5a3257701db3aa948",
            "6305988406584af59f889830b4216769",
            "64fa37ea612640a49433ba3590594ea1",
            "2d9a447406b645e6ae2e81e27b131adc",
            "dbb5934bea6840ada01a4684b07ae0dc",
            "9f19e36c2f2e4e75a48bbb2ce05c2f11",
            "4d150b332f704411b9d212b7b3e5c237",
            "75780008cdfd42ce9b71b14e69fe6ba7",
            "c3b4b97226ab4460b7e679e36bdb0bcb",
            "7d1216fa657f44f38fbcf223a0a66287",
            "3ea0a7ce0ef2496f9a3ad6390a22ba1f"
          ]
        },
        "id": "SvrqXDDmiCVY",
        "outputId": "0c0bd660-4d1a-4a3d-f53c-cd3d752c55e3"
      },
      "execution_count": null,
      "outputs": [
        {
          "output_type": "stream",
          "name": "stdout",
          "text": [
            "truncated\n"
          ]
        },
        {
          "output_type": "display_data",
          "data": {
            "text/plain": [
              "  0%|          | 0/10000 [00:00<?, ?it/s]"
            ],
            "application/vnd.jupyter.widget-view+json": {
              "version_major": 2,
              "version_minor": 0,
              "model_id": "eb11e2c9cb744cd5a3257701db3aa948"
            }
          },
          "metadata": {}
        },
        {
          "output_type": "stream",
          "name": "stdout",
          "text": [
            "{'loc': 11.277326208943881, 'scale': 3.0423671043590765}\n",
            "sample mean:  11.27733, sample std:  3.04665\n"
          ]
        }
      ]
    },
    {
      "cell_type": "markdown",
      "source": [
        "## Implementing Censored Normal"
      ],
      "metadata": {
        "id": "5Slcy7CDNQ7b"
      }
    },
    {
      "cell_type": "code",
      "source": [
        "import math\n",
        "from numbers import Number, Real\n",
        "\n",
        "import torch\n",
        "from torch.distributions import constraints\n",
        "from torch.distributions.exp_family import ExponentialFamily\n",
        "from torch.distributions.utils import _standard_normal, broadcast_all\n",
        "\n",
        "__all__ = [\"CensoredNormal\"]\n",
        "\n",
        "\n",
        "class CensoredNormal(ExponentialFamily):\n",
        "    r\"\"\"\n",
        "    Creates a censored normal (also called Gaussian) distribution parameterized by\n",
        "    :attr:`loc` and :attr:`scale` and :attr:`low`  and :attr:`high`\n",
        "\n",
        "    Example::\n",
        "\n",
        "        >>> # xdoctest: +IGNORE_WANT(\"non-deterministic\")\n",
        "        >>> m = CensorNormal(\n",
        "          torch.tensor([0.0]), torch.tensor([1.0]),\n",
        "          torch.tensor([-0.5]), torch.tensor([0.5])\n",
        "          )\n",
        "        >>> m.sample(sample_shape=(3,1))\n",
        "        tensor([[0.5000],\n",
        "            [0.5000],\n",
        "            [0.1836]])\n",
        "        tensor([ 0.1046])\n",
        "\n",
        "    Args:\n",
        "        loc (float or Tensor): mean of the base normal distribution (often referred to as mu) to which the censoring is applied\n",
        "        scale (float or Tensor): standard deviation of the base normal distribution to which the censoring is applied\n",
        "        low (float or Tensor): lower censoring boundary\n",
        "        high (float or Tensor): upper censoring boundary\n",
        "    \"\"\"\n",
        "    arg_constraints = {\n",
        "        \"loc\": constraints.real,\n",
        "        \"scale\": constraints.positive,\n",
        "        \"low\": constraints.dependent(is_discrete=False, event_dim=0),\n",
        "        \"high\": constraints.dependent(is_discrete=False, event_dim=0)}\n",
        "    has_rsample = True\n",
        "    _mean_carrier_measure = 0\n",
        "\n",
        "    @property\n",
        "    def mean(self):\n",
        "      # adjust the moments such that it fits the censored normal\n",
        "        return self.loc\n",
        "\n",
        "    @property\n",
        "    def stddev(self):\n",
        "        return self.scale\n",
        "\n",
        "    @property\n",
        "    def variance(self):\n",
        "        return self.stddev.pow(2)\n",
        "\n",
        "    def __init__(self, loc, scale, low, high, validate_args=None):\n",
        "        self.loc, self.scale, self.low, self.high = broadcast_all(loc, scale, low, high)\n",
        "        if isinstance(loc, Number) and isinstance(scale, Number) and isinstance(low, Number) and isinstance(high, Number):\n",
        "            batch_shape = torch.Size()\n",
        "        else:\n",
        "            batch_shape = self.loc.size()\n",
        "        support = constraints.interval(low, high)\n",
        "        super().__init__(batch_shape, validate_args=validate_args)\n",
        "\n",
        "    def expand(self, batch_shape, _instance=None):\n",
        "        new = self._get_checked_instance(CensoredNormal, _instance)\n",
        "        batch_shape = torch.Size(batch_shape)\n",
        "        new.loc = self.loc.expand(batch_shape)\n",
        "        new.scale = self.scale.expand(batch_shape)\n",
        "        new.lower = self.low.expand(batch_shape)\n",
        "        new.high = self.high.expand(batch_shape)\n",
        "        super(CensoredNormal, new).__init__(batch_shape, validate_args=False)\n",
        "        new._validate_args = self._validate_args\n",
        "        return new\n",
        "\n",
        "    # @constraints.dependent_property(is_discrete=False, event_dim=0)\n",
        "    # def support(self):\n",
        "    #     return constraints.interval(self.low, self.high)\n",
        "\n",
        "\n",
        "    def sample(self, sample_shape=torch.Size()):\n",
        "        shape = self._extended_shape(sample_shape)\n",
        "        with torch.no_grad():\n",
        "            samples = torch.normal(self.loc.expand(shape), self.scale.expand(shape))\n",
        "            return samples.clamp(min=self.low, max=self.high)\n",
        "\n",
        "\n",
        "    def rsample(self, sample_shape=torch.Size()):\n",
        "        shape = self._extended_shape(sample_shape)\n",
        "        eps = _standard_normal(shape, dtype=self.loc.dtype, device=self.loc.device)\n",
        "        rsamples =  self.loc + eps * self.scale\n",
        "        return rsamples.clamp(min=self.low, max=self.high)\n",
        "\n",
        "\n",
        "    def log_prob(self, value):\n",
        "        if self._validate_args:\n",
        "            self._validate_sample(value)\n",
        "        # compute the variance\n",
        "        var = self.scale**2\n",
        "        log_scale = (\n",
        "            math.log(self.scale) if isinstance(self.scale, Real) else self.scale.log()\n",
        "        )\n",
        "        log_probs = (\n",
        "            -((value - self.loc) ** 2) / (2 * var)\n",
        "            - log_scale\n",
        "            - math.log(math.sqrt(2 * math.pi))\n",
        "         )\n",
        "\n",
        "        lower_cdf_mass = math.log(self._normal_cdf(self.low) + 1e-6) if isinstance(self._normal_cdf(self.low) + 1e-16,\n",
        "                                                                                                Number) else (self._normal_cdf(self.low) + 1e-6).log()\n",
        "        upper_cdf_mass = math.log(1 - self._normal_cdf(self.high) + 1e-6) if isinstance(1 - self._normal_cdf(self.high) + 1e-16,\n",
        "                                                                                                    Number) else (1 - self._normal_cdf(self.high) + 1e-6).log()\n",
        "        log_probs = torch.where(value <= self.low, lower_cdf_mass, log_probs)\n",
        "        log_probs = torch.where(value >= self.high, upper_cdf_mass, log_probs)\n",
        "        return log_probs\n",
        "\n",
        "    def _normal_cdf(self, value):\n",
        "        if self._validate_args:\n",
        "            self._validate_sample(value)\n",
        "        return 0.5 * (\n",
        "            1 + torch.erf((value - self.loc) * self.scale.reciprocal() / math.sqrt(2))\n",
        "        )\n",
        "\n",
        "    def _normal_icdf(self, value):\n",
        "        return self.loc + self.scale * torch.erfinv(2 * value - 1) * math.sqrt(2)\n",
        "\n",
        "    def _normal_entropy(self):\n",
        "        return 0.5 + 0.5 * math.log(2 * math.pi) + torch.log(self.scale)\n",
        "\n",
        "    @property\n",
        "    def _normal_natural_params(self):\n",
        "        return (self.loc / self.scale.pow(2), -0.5 * self.scale.pow(2).reciprocal())\n",
        "\n",
        "    def _log_normalizer(self, x, y):\n",
        "        return -0.25 * x.pow(2) / y + 0.5 * torch.log(-math.pi / y)"
      ],
      "metadata": {
        "id": "vdl3_5FvP322"
      },
      "execution_count": 122,
      "outputs": []
    },
    {
      "cell_type": "code",
      "source": [
        "m = CensoredNormal(\n",
        "          torch.tensor([0.0]), torch.tensor([1.0]), torch.tensor([-0.5]), torch.tensor([0.5]))\n",
        "\n",
        "m.sample(sample_shape=(3,))\n",
        "m.log_prob(m.sample(sample_shape=(3,)))"
      ],
      "metadata": {
        "id": "VvNSIeitdQyZ",
        "colab": {
          "base_uri": "https://localhost:8080/"
        },
        "outputId": "10ea9a86-22dc-454c-e81c-a3a8c9287852"
      },
      "execution_count": 123,
      "outputs": [
        {
          "output_type": "stream",
          "name": "stderr",
          "text": [
            "/usr/local/lib/python3.10/dist-packages/torch/distributions/distribution.py:303: UserWarning: <class '__main__.CensoredNormal'> does not define `support` to enable sample validation. Please initialize the distribution with `validate_args=False` to turn off validation.\n",
            "  warnings.warn(\n"
          ]
        },
        {
          "output_type": "execute_result",
          "data": {
            "text/plain": [
              "tensor([[-0.9261],\n",
              "        [-0.9212],\n",
              "        [-0.9833]])"
            ]
          },
          "metadata": {},
          "execution_count": 123
        }
      ]
    },
    {
      "cell_type": "code",
      "source": [
        "N = 500\n",
        "true_sigma = 5.0\n",
        "true_loc = 13.\n",
        "\n",
        "# censor the data\n",
        "lower_bound = 3.\n",
        "upper_bound = 16.\n",
        "\n",
        "torch.Generator().manual_seed(42)\n",
        "\n",
        "# generate the data\n",
        "X = dist.Uniform(torch.tensor([-5.]), torch.tensor([35.0]))\n",
        "\n",
        "torch.manual_seed(42)\n",
        "Y = dist.Normal(torch.Tensor([true_loc]), torch.Tensor([true_sigma]))\n",
        "\n",
        "torch.manual_seed(42)\n",
        "Z = CensoredNormal(torch.Tensor([true_loc]), torch.Tensor([true_sigma]),\n",
        "                   torch.tensor([lower_bound]), high=torch.tensor([upper_bound]))\n",
        "\n",
        "x = X.sample(sample_shape=(N,))\n",
        "\n",
        "torch.manual_seed(42)\n",
        "y = Y.sample(sample_shape=(N,))\n",
        "\n",
        "torch.manual_seed(42)\n",
        "z = Z.sample(sample_shape=(N,))\n",
        "\n",
        "\n",
        "\n",
        "y_censored = torch.clamp(y, min=lower_bound, max=upper_bound)\n",
        "mask = (y < lower_bound)  | (y > upper_bound)\n",
        "y_censored_indices = torch.nonzero(mask, as_tuple=True)[0]\n",
        "y_truncated_indices = torch.nonzero(~mask, as_tuple=True)[0]\n",
        "\n",
        "x_truncated = x[y_truncated_indices]\n",
        "y_truncated = y[y_truncated_indices]"
      ],
      "metadata": {
        "id": "XpQT8kKENzET"
      },
      "execution_count": 126,
      "outputs": []
    },
    {
      "cell_type": "code",
      "source": [
        "# Visualize uncensored, censored and truncated data\n",
        "_, ax = plt.subplots(1,2, figsize=(12, 4))\n",
        "edges = np.linspace(-5, 35, 30)\n",
        "for ax_ in ax:\n",
        "  ax_.hist(y.numpy(), bins=edges, density=True, histtype=\"stepfilled\", alpha=0.4, label=\"Data\")\n",
        "  [ax_.axvline(x=x, c=\"k\", ls=\"--\") for x in [lower_bound, upper_bound]]\n",
        "\n",
        "ax[0].hist(y_censored.numpy(), bins=edges, density=True, histtype=\"stepfilled\", alpha=0.4, label=\"Censored\")\n",
        "ax[0].legend()\n",
        "_ = ax[0].set(title=\"Censored data\")\n",
        "\n",
        "ax[1].hist(z.numpy(), bins=edges, density=True, histtype=\"stepfilled\", alpha=0.4, label=\"Censored - Pytorch\")\n",
        "ax[1].legend()\n",
        "_ = ax[1].set(title=\"Censored - Pytorch\")\n",
        "\n",
        "#plt.savefig('dists.pdf', format='pdf')"
      ],
      "metadata": {
        "id": "B_aNxww3NGC9",
        "outputId": "88767f41-a61e-4b51-ad66-49900c11e6b4",
        "colab": {
          "base_uri": "https://localhost:8080/",
          "height": 391
        }
      },
      "execution_count": 127,
      "outputs": [
        {
          "output_type": "display_data",
          "data": {
            "text/plain": [
              "<Figure size 1200x400 with 2 Axes>"
            ],
            "image/png": "[encoded data removed]"
          },
          "metadata": {}
        }
      ]
    },
    {
      "cell_type": "code",
      "source": [
        "def optimise_likelihood_censored(x, num_iterations=1000):\n",
        "    pyro.clear_param_store()\n",
        "    loc_ = torch.tensor([0.], requires_grad=True)\n",
        "    scale_ = torch.tensor([3.], requires_grad=True)\n",
        "    lower_ = torch.tensor([3.], requires_grad=True)\n",
        "    upper_ = torch.tensor([16.], requires_grad=True)\n",
        "    optimizer = torch.optim.Adam([loc_, scale_], lr=0.05)\n",
        "\n",
        "    pbar = tqdm(range(num_iterations), position=0, leave=True)\n",
        "\n",
        "    losses = []\n",
        "    for epoch in pbar:\n",
        "        optimizer.zero_grad()\n",
        "        pX = CensoredNormal(loc_, scale_,lower_, upper_)\n",
        "        loss = -pX.log_prob(x).mean()     # \"forward\" compute the loss (neg avg log-likelihood)\n",
        "        loss.backward()\n",
        "        optimizer.step()\n",
        "        optimizer.zero_grad()                   # \"backward\" compute the gradient (& unfortunately clear stuff)\n",
        "        losses.append(loss.item())\n",
        "    res = {\n",
        "        'loc': loc_.item(),\n",
        "        'scale' : scale_.item()\n",
        "        }\n",
        "    return res"
      ],
      "metadata": {
        "id": "GrsfTwguQDoC"
      },
      "execution_count": 128,
      "outputs": []
    },
    {
      "cell_type": "code",
      "source": [
        "print(\"optimised with censored likelihood\")\n",
        "print(optimise_likelihood_censored(z, 10000))\n",
        "print('sample mean: {: .5f}, sample std: {: .5f}'.format(z.mean().item(), z.std().item()))"
      ],
      "metadata": {
        "id": "0UhnuZX8VVL7",
        "outputId": "b42b214d-aaf6-414c-c9b8-4261dc6292fc",
        "colab": {
          "base_uri": "https://localhost:8080/",
          "height": 104,
          "referenced_widgets": [
            "7f3213906b0c49e2944bf1c68120e67d",
            "de00841d2340418987518a568f855544",
            "4235d8468d57442898cd8a1787fc80d3",
            "4088f6047dd047c0864448d299ff7d55",
            "3a79842caeee41d7a43d7887e1973ed9",
            "da6ee22402ef474bbf7d1a103b454960",
            "3b8a55c0e1a848b6975651ed29f65042",
            "828818ba7f2d416a92b15064ca9750d3",
            "fc4af4b5fc444c78a891ea06549fe281",
            "666863c8d9af4c50b04e306f620af232",
            "681c51a6fecd4b30a65936f3c34861bc"
          ]
        }
      },
      "execution_count": 129,
      "outputs": [
        {
          "output_type": "stream",
          "name": "stdout",
          "text": [
            "optimised with censored likelihood\n"
          ]
        },
        {
          "output_type": "display_data",
          "data": {
            "text/plain": [
              "  0%|          | 0/10000 [00:00<?, ?it/s]"
            ],
            "application/vnd.jupyter.widget-view+json": {
              "version_major": 2,
              "version_minor": 0,
              "model_id": "7f3213906b0c49e2944bf1c68120e67d"
            }
          },
          "metadata": {}
        },
        {
          "output_type": "stream",
          "name": "stdout",
          "text": [
            "{'loc': 13.456268725122657, 'scale': 4.880958053447654}\n",
            "sample mean:  12.49092, sample std:  3.51098\n"
          ]
        }
      ]
    },
    {
      "cell_type": "code",
      "source": [
        "print(\"censored with normal likelihood\")\n",
        "print(optimise_likelihood(y_censored, 10000))\n",
        "print('sample mean: {: .5f}, sample std: {: .5f}'.format(z.mean().item(), z.std().item()))"
      ],
      "metadata": {
        "id": "a8mKQhxgVYBX",
        "outputId": "d7b36979-109e-4292-d0de-4fb3dd8b35f2",
        "colab": {
          "base_uri": "https://localhost:8080/",
          "height": 104,
          "referenced_widgets": [
            "d6a2b60b2e584180a0cde48ee3428051",
            "9a6856ecfbc84efebedd81fec6acffe3",
            "469d1cd9c0e5437f999e462ab538b49e",
            "541dcdc6072a4981a4a38739f342b692",
            "dd567954bf8f4edaad0044fed1167ffb",
            "8460ec2409c44087b37d37b43c671310",
            "23bac02296764554947827a7d41f3f4e",
            "d76e25464fdb42e7bd011a17e3f19e37",
            "5c69a7def1cf4143a9f68465a25362c0",
            "5c86772fd51140a7bab52dc8acb46217",
            "13237bf1d10845fa80abecf25d84e11a"
          ]
        }
      },
      "execution_count": 130,
      "outputs": [
        {
          "output_type": "stream",
          "name": "stdout",
          "text": [
            "censored with normal likelihood\n"
          ]
        },
        {
          "output_type": "display_data",
          "data": {
            "text/plain": [
              "  0%|          | 0/10000 [00:00<?, ?it/s]"
            ],
            "application/vnd.jupyter.widget-view+json": {
              "version_major": 2,
              "version_minor": 0,
              "model_id": "d6a2b60b2e584180a0cde48ee3428051"
            }
          },
          "metadata": {}
        },
        {
          "output_type": "stream",
          "name": "stdout",
          "text": [
            "{'loc': 12.49092096218689, 'scale': 3.507464647638215}\n",
            "sample mean:  12.49092, sample std:  3.51098\n"
          ]
        }
      ]
    },
    {
      "cell_type": "code",
      "source": [
        "math.log(Z._normal_cdf(torch.Tensor([lower_bound]))), math.log(1. - Z._normal_cdf(torch.Tensor([upper_bound])))"
      ],
      "metadata": {
        "id": "s_03GD3Ocn9s",
        "outputId": "0064a6fb-a39b-4f9b-d00e-2d627952f2b2",
        "colab": {
          "base_uri": "https://localhost:8080/"
        }
      },
      "execution_count": 131,
      "outputs": [
        {
          "output_type": "execute_result",
          "data": {
            "text/plain": [
              "(-3.783184333682032, -1.2937038116140283)"
            ]
          },
          "metadata": {},
          "execution_count": 131
        }
      ]
    },
    {
      "cell_type": "code",
      "source": [
        "_ = plt.hist(Z.log_prob(z).numpy()), Z.log_prob(z).numpy().mean()"
      ],
      "metadata": {
        "id": "CPXP5BWyZaMc",
        "outputId": "48a378f7-d379-4777-9491-c918f4f10765",
        "colab": {
          "base_uri": "https://localhost:8080/",
          "height": 430
        }
      },
      "execution_count": 133,
      "outputs": [
        {
          "output_type": "display_data",
          "data": {
            "text/plain": [
              "<Figure size 640x480 with 1 Axes>"
            ],
            "image/png": "[encoded data removed]"
          },
          "metadata": {}
        }
      ]
    },
    {
      "cell_type": "code",
      "source": [
        "_ = plt.hist(Y.log_prob(y).numpy()), Y.log_prob(y).numpy().mean()"
      ],
      "metadata": {
        "id": "DITTLkc5dDNo",
        "outputId": "5748cf9f-6797-4600-b183-a3ee09e7b4c7",
        "colab": {
          "base_uri": "https://localhost:8080/",
          "height": 430
        }
      },
      "execution_count": 88,
      "outputs": [
        {
          "output_type": "display_data",
          "data": {
            "text/plain": [
              "<Figure size 640x480 with 1 Axes>"
            ],
            "image/png": "[encoded data removed]"
          },
          "metadata": {}
        }
      ]
    },
    {
      "cell_type": "code",
      "source": [],
      "metadata": {
        "id": "mPVChzdEmNLx"
      },
      "execution_count": null,
      "outputs": []
    }
  ]
}