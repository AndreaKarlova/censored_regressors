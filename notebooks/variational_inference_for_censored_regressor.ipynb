{
  "nbformat": 4,
  "nbformat_minor": 0,
  "metadata": {
    "colab": {
      "provenance": []
    },
    "kernelspec": {
      "name": "python3",
      "display_name": "Python 3"
    },
    "language_info": {
      "name": "python"
    }
  },
  "cells": [
    {
      "cell_type": "code",
      "execution_count": null,
      "metadata": {
        "colab": {
          "base_uri": "https://localhost:8080/"
        },
        "id": "Gh_fxrApqlBl",
        "outputId": "8240a357-de1d-453b-b20e-716254fc4598"
      },
      "outputs": [
        {
          "output_type": "stream",
          "name": "stdout",
          "text": [
            "\u001b[?25l     \u001b[90m━━━━━━━━━━━━━━━━━━━━━━━━━━━━━━━━━━━━━━━━\u001b[0m \u001b[32m0.0/266.1 kB\u001b[0m \u001b[31m?\u001b[0m eta \u001b[36m-:--:--\u001b[0m\r\u001b[2K     \u001b[91m━━━━━━━━━━━━━━━━━━━━━━━━━━\u001b[0m\u001b[90m╺\u001b[0m\u001b[90m━━━━━━━━━━━━━\u001b[0m \u001b[32m174.1/266.1 kB\u001b[0m \u001b[31m5.1 MB/s\u001b[0m eta \u001b[36m0:00:01\u001b[0m\r\u001b[2K     \u001b[90m━━━━━━━━━━━━━━━━━━━━━━━━━━━━━━━━━━━━━━━━\u001b[0m \u001b[32m266.1/266.1 kB\u001b[0m \u001b[31m4.9 MB/s\u001b[0m eta \u001b[36m0:00:00\u001b[0m\n",
            "\u001b[2K     \u001b[90m━━━━━━━━━━━━━━━━━━━━━━━━━━━━━━━━━━━━━━━━\u001b[0m \u001b[32m175.6/175.6 kB\u001b[0m \u001b[31m6.8 MB/s\u001b[0m eta \u001b[36m0:00:00\u001b[0m\n",
            "\u001b[2K     \u001b[90m━━━━━━━━━━━━━━━━━━━━━━━━━━━━━━━━━━━━━━━━\u001b[0m \u001b[32m40.7/40.7 kB\u001b[0m \u001b[31m4.9 MB/s\u001b[0m eta \u001b[36m0:00:00\u001b[0m\n",
            "\u001b[?25h"
          ]
        }
      ],
      "source": [
        "!pip install -Uq gpytorch"
      ]
    },
    {
      "cell_type": "code",
      "source": [
        "import tqdm\n",
        "import math\n",
        "import torch\n",
        "import numpy as np\n",
        "\n",
        "import torch.distributions as dist\n",
        "\n",
        "import gpytorch\n",
        "import pandas as pd\n",
        "from matplotlib import pyplot as plt"
      ],
      "metadata": {
        "id": "EfRwvQMpttWI"
      },
      "execution_count": null,
      "outputs": []
    },
    {
      "cell_type": "code",
      "source": [
        "import math\n",
        "from numbers import Number, Real\n",
        "\n",
        "import torch\n",
        "from torch.distributions import constraints\n",
        "from torch.distributions.exp_family import ExponentialFamily\n",
        "from torch.distributions.utils import _standard_normal, broadcast_all\n",
        "\n",
        "\n",
        "class CensoredNormal(ExponentialFamily):\n",
        "    \"\"\"\n",
        "    Creates a censored normal (also called Gaussian) distribution parameterized by\n",
        "    :attr:`loc` and :attr:`scale` and :attr:`low`  and :attr:`high`\n",
        "\n",
        "    Example::\n",
        "\n",
        "        >>> # xdoctest: +IGNORE_WANT(\"non-deterministic\")\n",
        "        >>> m = CensoredNormal(\n",
        "          torch.tensor([0.0]), torch.tensor([1.0]),\n",
        "          torch.tensor([-0.5]), torch.tensor([0.5])\n",
        "          )\n",
        "        >>> m.sample(sample_shape=(3,1))\n",
        "        tensor([[0.5000],\n",
        "            [0.5000],\n",
        "            [0.1836]])\n",
        "        tensor([ 0.1046])\n",
        "\n",
        "    Args:\n",
        "        loc (float or Tensor): mean of the base normal distribution (often referred to as mu) to which the censoring is applied\n",
        "        scale (float or Tensor): standard deviation of the base normal distribution to which the censoring is applied\n",
        "        low (float or Tensor): lower censoring boundary\n",
        "        high (float or Tensor): upper censoring boundary\n",
        "    \"\"\"\n",
        "    arg_constraints = {\n",
        "        \"loc\": constraints.real,\n",
        "        \"scale\": constraints.positive,\n",
        "        \"low\": constraints.dependent(is_discrete=False, event_dim=0),\n",
        "        \"high\": constraints.dependent(is_discrete=False, event_dim=0)}\n",
        "    has_rsample = True\n",
        "    _mean_carrier_measure = 0\n",
        "\n",
        "    @property\n",
        "    def mean(self):\n",
        "        x_high = (self.high - self.loc)/self.scale\n",
        "        cdf_high = self._normal_cdf(self.high)\n",
        "        pdf_high = math.exp(self._normal_log_prob(self.high))\n",
        "        x_low = (self.low - self.loc)/self.scale\n",
        "        cdf_low = self._normal_cdf(self.low)\n",
        "        pdf_low = math.exp(self._normal_log_prob(self.low))\n",
        "        term1 = cdf_high - cdf_low\n",
        "        term2 = pdf_high - pdf_low\n",
        "        return self.loc * term1 - self.scale * term2\n",
        "\n",
        "    @property\n",
        "    def stddev(self):\n",
        "        return self.variance.sqrt()\n",
        "\n",
        "    @property\n",
        "    def variance(self):\n",
        "        x_high = (self.high - self.loc)/self.scale\n",
        "        cdf_high = self._normal_cdf(self.high)\n",
        "        pdf_high = math.exp(self._normal_log_prob(self.high))\n",
        "        x_low = (self.low - self.loc)/self.scale\n",
        "        cdf_low = self._normal_cdf(self.low)\n",
        "        pdf_low = math.exp(self._normal_log_prob(self.low))\n",
        "        term1 = cdf_high - cdf_low\n",
        "        term2 = x_high * pdf_high - x_low * pdf_low\n",
        "        return  (self.scale ** 2) * (term1 - term2)\n",
        "\n",
        "\n",
        "    def __init__(self, loc, scale, low, high, validate_args=None):\n",
        "        self.loc, self.scale, self.low, self.high = broadcast_all(loc, scale, low, high)\n",
        "        if isinstance(loc, Number) and isinstance(scale, Number) and isinstance(low, Number) and isinstance(high, Number):\n",
        "            batch_shape = torch.Size()\n",
        "        else:\n",
        "            batch_shape = self.loc.size()\n",
        "        support = constraints.interval(low, high)\n",
        "        super().__init__(batch_shape, validate_args=validate_args)\n",
        "\n",
        "    def expand(self, batch_shape, _instance=None):\n",
        "        new = self._get_checked_instance(CensoredNormal, _instance)\n",
        "        batch_shape = torch.Size(batch_shape)\n",
        "        new.loc = self.loc.expand(batch_shape)\n",
        "        new.scale = self.scale.expand(batch_shape)\n",
        "        new.low = self.low.expand(batch_shape)\n",
        "        new.high = self.high.expand(batch_shape)\n",
        "        super(CensoredNormal, new).__init__(batch_shape, validate_args=False)\n",
        "        new._validate_args = self._validate_args\n",
        "        return new\n",
        "\n",
        "    @constraints.dependent_property(is_discrete=False, event_dim=0)\n",
        "    def support(self):\n",
        "        return constraints.interval(self.low, self.high)\n",
        "\n",
        "\n",
        "    def sample(self, sample_shape=torch.Size()):\n",
        "        shape = self._extended_shape(sample_shape)\n",
        "        with torch.no_grad():\n",
        "            samples = torch.normal(self.loc.expand(shape), self.scale.expand(shape))\n",
        "            return samples.clamp(min=self.low, max=self.high)\n",
        "\n",
        "\n",
        "    def rsample(self, sample_shape=torch.Size()):\n",
        "        shape = self._extended_shape(sample_shape)\n",
        "        eps = _standard_normal(shape, dtype=self.loc.dtype, device=self.loc.device)\n",
        "        rsamples =  self.loc + eps * self.scale\n",
        "        return rsamples.clamp(min=self.low, max=self.high)\n",
        "\n",
        "    def pdf(self, value):\n",
        "        if self._validate_args:\n",
        "            self._validate_sample(value)\n",
        "        probs = torch.exp(self.log_prob(value))\n",
        "        lower_cdf_mass = self._normal_cdf(self.low)\n",
        "        upper_cdf_mass = 1 - self._normal_cdf(self.high)\n",
        "        probs = torch.where(value <= self.low, lower_cdf_mass, probs)\n",
        "        probs = torch.where(value >= self.high, upper_cdf_mass, probs)\n",
        "        return probs\n",
        "\n",
        "    def log_prob(self, value, jitter=1e-12):\n",
        "        \"\"\"jitter: used to bounce off NormCDF from 0 before applying log \"\"\"\n",
        "        if self._validate_args:\n",
        "            self._validate_sample(value)\n",
        "        log_probs = self._normal_log_prob(value)\n",
        "        lower_log_cdf_mass = math.log(self._normal_cdf(self.low) + jitter) if isinstance(self._normal_cdf(self.low) + jitter,\n",
        "                                                                                                Number) else (self._normal_cdf(self.low) + jitter).log()\n",
        "        upper_log_cdf_mass = math.log(1 - self._normal_cdf(self.high) + jitter) if isinstance(1 - self._normal_cdf(self.high) + jitter,\n",
        "                                                                                                    Number) else (1 - self._normal_cdf(self.high) + jitter).log()\n",
        "        log_probs = torch.where(value <= self.low, lower_log_cdf_mass, log_probs)\n",
        "        log_probs = torch.where(value >= self.high, upper_log_cdf_mass, log_probs)\n",
        "        return log_probs\n",
        "\n",
        "    def cdf(self, value):\n",
        "        if self._validate_args:\n",
        "            self._validate_sample(value)\n",
        "        cdf_ = self._normal_cdf(value)\n",
        "        cdf_ = torch.where(value < self.low, 0, cdf_)\n",
        "        cdf_ = torch.where(value > self.high, 1, cdf_)\n",
        "        return cdf_\n",
        "\n",
        "    def icdf(self, value):\n",
        "        result = self._normal_icdf(value)\n",
        "        return result.clamp(min=self.low, max=self.high)\n",
        "\n",
        "    def entropy(self, jitter=1e-12):\n",
        "        x_low = (self.low - self.loc)/self.scale\n",
        "        x_high = (self.high - self.loc)/self.scale\n",
        "\n",
        "        logcdf_x_low = math.log(self._normal_cdf(self.low) + jitter) if isinstance(self._normal_cdf(self.low) + jitter,\n",
        "                                                                                                  Number) else (self._normal_cdf(self.low) + jitter).log()\n",
        "        logcdf_x_high = math.log(self._normal_cdf_standardized(-x_high) + jitter) if isinstance(self._normal_cdf_standardized(x_high) + jitter,\n",
        "                                                                                                      Number) else (self._normal_cdf_standardized(-x_high) + jitter).log()\n",
        "\n",
        "        term1 = self._normal_entropy() * (self._normal_cdf(self.high)- self._normal_cdf(self.low))\n",
        "        term2 = 0.5 * (x_high * torch.exp(self._normal_log_prob(self.high)) - x_low * torch.exp(self._normal_log_prob(self.low)))\n",
        "        term3 = logcdf_x_low * self._normal_cdf(self.low)\n",
        "        term4 = logcdf_x_high * (self._normal_cdf_standardized(-x_high))\n",
        "        return term1 - term2 - term3 - term4\n",
        "\n",
        "\n",
        "    def _normal_log_prob(self, value):\n",
        "            # compute the variance\n",
        "            var = self.scale**2\n",
        "            log_scale = (\n",
        "                math.log(self.scale) if isinstance(self.scale, Real) else self.scale.log()\n",
        "            )\n",
        "            return (\n",
        "                -((value - self.loc) ** 2) / (2 * var)\n",
        "                - log_scale\n",
        "                - math.log(math.sqrt(2 * math.pi))\n",
        "            )\n",
        "\n",
        "    def _normal_cdf(self, value):\n",
        "        return 0.5 * (\n",
        "            1 + torch.erf((value - self.loc) * self.scale.reciprocal() / math.sqrt(2))\n",
        "        )\n",
        "\n",
        "    def _normal_cdf_standardized(self, z):\n",
        "        return 0.5 * (\n",
        "            1 + torch.erf(z / math.sqrt(2))\n",
        "        )\n",
        "\n",
        "    def _normal_icdf(self, value):\n",
        "        return self.loc + self.scale * torch.erfinv(2 * value - 1) * math.sqrt(2)\n",
        "\n",
        "\n",
        "    def _normal_entropy(self):\\\n",
        "        # log(sqrt(2 pi e) * sigma) = 0.5 * log(2 pi e) + log(sigma) = 0.5 + 0.5 (log(2 pi)) + log(sigma)\n",
        "        return 0.5 + 0.5 * math.log(2 * math.pi) + torch.log(self.scale)\n",
        "\n",
        "    @property\n",
        "    def _normal_natural_params(self):\n",
        "        return (self.loc / self.scale.pow(2), -0.5 * self.scale.pow(2).reciprocal())\n",
        "\n",
        "    def _log_normalizer(self, x, y):\n",
        "        return -0.25 * x.pow(2) / y + 0.5 * torch.log(-math.pi / y)"
      ],
      "metadata": {
        "id": "w4MUmvskLP0w"
      },
      "execution_count": 142,
      "outputs": []
    },
    {
      "cell_type": "code",
      "source": [
        "import warnings\n",
        "from typing import Any\n",
        "\n",
        "import torch\n",
        "from linear_operator.operators import LinearOperator, ZeroLinearOperator\n",
        "from torch import Tensor\n",
        "from torch.distributions import Distribution, Normal\n",
        "\n",
        "from gpytorch.constraints import Interval\n",
        "from gpytorch.distributions import base_distributions, MultivariateNormal\n",
        "from gpytorch.priors import Prior\n",
        "from gpytorch.utils.warnings import GPInputWarning\n",
        "from gpytorch.likelihoods.likelihood import _Likelihood, _OneDimensionalLikelihood\n",
        "\n",
        "\n",
        "class CensoredGaussianLikelihood(_Likelihood):\n",
        "    \"\"\"Base class for Censored Gaussian Likelihoods.\"\"\"\n",
        "    def __init__(self, variance=None, low=None, high=None) -> None:\n",
        "        super().__init__()\n",
        "\n",
        "        variance = torch.tensor(1.) if variance is None else variance\n",
        "        self.noise = gpytorch.likelihoods.noise_models.HomoskedasticNoise()\n",
        "        self.noise.initialize(noise=variance)\n",
        "        self.low = low\n",
        "        self.high = high\n",
        "\n",
        "    @property\n",
        "    def variance(self):\n",
        "      return self.noise.noise\n",
        "\n",
        "    def forward(self, function_samples: Tensor, *params: Any, **kwargs: Any):\n",
        "        return CensoredNormal(function_samples, scale=self.variance.sqrt(), low=self.low, high=self.high)\n",
        "\n",
        "class CensoredGaussianLikelihoodMathematica(CensoredGaussianLikelihood):\n",
        "    def __init__(self, variance=None, low=None, high=None) -> None:\n",
        "        super().__init__(variance, low, high)\n",
        "\n",
        "    def expected_log_prob(self, target: Tensor, input: MultivariateNormal, *params: Any, **kwargs: Any) -> Tensor:\n",
        "        noise = self.variance # likelihood\n",
        "        mean, variance = input.mean, input.variance # approximate posterior\n",
        "\n",
        "        jitter_=1e-16\n",
        "\n",
        "        upper_censor = lambda x, s: (self.high - x) / s\n",
        "        lower_censor = lambda x, s: (self.low - x) / s\n",
        "\n",
        "        standard_normal = dist.Normal(0,1)\n",
        "         # Gaussian term\n",
        "        term1 = 2. + torch.log(noise) + math.log(2 * math.pi)\n",
        "        term2 = ((target - mean).square() + variance) * noise.reciprocal()\n",
        "        term3 = standard_normal.cdf(upper_censor(mean, variance.sqrt())) - standard_normal.cdf(lower_censor(mean, variance.sqrt()))\n",
        "        normal_part_unscaled = (term1 - term2).mul(0.5)\n",
        "        normal_part = normal_part_unscaled * term3\n",
        "\n",
        "        # upper term\n",
        "        x1 = (self.high - 2*target + mean) * variance.sqrt()\n",
        "        term4 = torch.clamp_min(standard_normal.cdf(-upper_censor(target, variance.sqrt())), jitter_).log() + 0.5 * x1 * noise.reciprocal()\n",
        "        upper_censored_part = term4 * standard_normal.log_prob(upper_censor(mean, variance.sqrt())).exp()\n",
        "\n",
        "        # lower term\n",
        "        x2 = (self.low - 2*target + mean) * variance.sqrt()\n",
        "        term5 = torch.clamp_min(standard_normal.cdf(lower_censor(target, variance.sqrt())), jitter_).log() - 0.5 * x2 * noise.reciprocal()\n",
        "        lower_censored_part = term5 * standard_normal.log_prob(lower_censor(mean, variance.sqrt())).exp()\n",
        "\n",
        "        res = normal_part - lower_censored_part - upper_censored_part\n",
        "        return res\n",
        "\n",
        "class CensoredGaussianLikelihoodAnalytic(CensoredGaussianLikelihood):\n",
        "    def __init__(self, variance=None, low=None, high=None, alpha=1., gamma=1., dzeta=1., jitter_=1e-16) -> None:\n",
        "        super().__init__(variance, low, high)\n",
        "        self.alpha = alpha\n",
        "        self.gamma = gamma\n",
        "        self.dzeta = dzeta\n",
        "        self.jitter_ = jitter_\n",
        "\n",
        "    def expected_log_prob(self, target: Tensor, input: MultivariateNormal, *params: Any, **kwargs: Any) -> Tensor:\n",
        "        noise = self.variance # likelihood\n",
        "        mean, variance = input.mean, input.variance # approximate posterior\n",
        "\n",
        "        upper_censor = lambda x, s: (self.high - x) / s\n",
        "        lower_censor = lambda x, s: (self.low - x) / s\n",
        "\n",
        "        standard_normal = dist.Normal(0,1)\n",
        "         # Gaussian term\n",
        "        term1 = torch.log(noise) + math.log(2 * math.pi)\n",
        "        term2 = ((target - mean).square() + variance) * noise.reciprocal()\n",
        "        term3 = standard_normal.cdf(upper_censor(mean, variance.sqrt())) - standard_normal.cdf(lower_censor(mean, variance.sqrt()))\n",
        "        normal_part_unscaled = (term1 - term2).mul(0.5)\n",
        "        normal_part = normal_part_unscaled * term3\n",
        "\n",
        "        # upper term\n",
        "        x1 = (self.high - 2*target + mean) * variance.sqrt()\n",
        "        term4 = torch.clamp_min(standard_normal.cdf(-upper_censor(target, variance.sqrt())), self.jitter_).log() + 0.5 * x1 * noise.reciprocal()\n",
        "        upper_censored_part = term4 * standard_normal.log_prob(upper_censor(mean, variance.sqrt())).exp()\n",
        "\n",
        "        # lower term\n",
        "        x2 = (self.low - 2*target + mean) * variance.sqrt()\n",
        "        term5 = torch.clamp_min(standard_normal.cdf(lower_censor(target, variance.sqrt())), self.jitter_).log() - 0.5 * x2 * noise.reciprocal()\n",
        "        lower_censored_part = term5 * standard_normal.log_prob(lower_censor(mean, variance.sqrt())).exp()\n",
        "\n",
        "        res = self.alpha * normal_part - self.gamma * upper_censored_part - self.dzeta * lower_censored_part\n",
        "        return res"
      ],
      "metadata": {
        "id": "roc6L9a_To9F"
      },
      "execution_count": 253,
      "outputs": []
    },
    {
      "cell_type": "code",
      "source": [
        "print('\\nMathematica:')\n",
        "print(torch.as_tensor([\n",
        "    CensoredGaussianLikelihoodMathematica(variance=1,low=-1,high=1).expected_log_prob(\n",
        "        y[None],\n",
        "        MultivariateNormal(y[None], torch.diag(torch.ones(1)))\n",
        "    )\n",
        "    for y in torch.as_tensor([-1, -0.5, 0, 0.5, 1])\n",
        "]).numpy(force=True).round(6))\n",
        "\n",
        "print('\\nAnalytic:')\n",
        "print(torch.as_tensor([\n",
        "    CensoredGaussianLikelihoodAnalytic(variance=1,low=-1,high=1).expected_log_prob(\n",
        "        y[None],\n",
        "        MultivariateNormal(y[None], torch.diag(torch.ones(1)))\n",
        "    )\n",
        "    for y in torch.as_tensor([-1, -0.5, 0, 0.5, 1])\n",
        "]).numpy(force=True).round(6))\n",
        "\n",
        "print('\\nAnalytic - Mathematica:')\n",
        "print(torch.as_tensor([\n",
        "    CensoredGaussianLikelihoodAnalytic(variance=1,low=-1,high=1).expected_log_prob(\n",
        "        y[None],\n",
        "        MultivariateNormal(y[None], torch.diag(torch.ones(1)))\n",
        "    )\n",
        "    for y in torch.as_tensor([-1, -0.5, 0, 0.5, 1])\n",
        "]).numpy(force=True).round(6) - np.array([1.103980, 1.465660, 1.617670, 1.465660, 1.103980]))"
      ],
      "metadata": {
        "colab": {
          "base_uri": "https://localhost:8080/"
        },
        "id": "A9Rai-2RlDUB",
        "outputId": "f89e67c8-deb6-4f6e-e4db-c21f9d0f8fe9"
      },
      "execution_count": 252,
      "outputs": [
        {
          "output_type": "stream",
          "name": "stdout",
          "text": [
            "\n",
            "Mathematica:\n",
            "[1.103981 1.465658 1.61767  1.465658 1.103981]\n",
            "\n",
            "Analytic:\n",
            "[0.626731 0.841003 0.934981 0.841003 0.626731]\n",
            "\n",
            "Analytic - Mathematica:\n",
            "[-0.47724902 -0.624657   -0.68268901 -0.624657   -0.47724902]\n"
          ]
        }
      ]
    },
    {
      "cell_type": "code",
      "source": [
        "for y_i in torch.linspace(-1., 1., 10):\n",
        "    print('y',y_i)\n",
        "    lik_i = CensoredGaussianLikelihoodAnalytic(0.1,y_i,y_i+1)\n",
        "    print('lik',(0.1,y_i,y_i+1))\n",
        "    f_i = MultivariateNormal(y_i[None], torch.diag(torch.ones(1)))\n",
        "    print('f',f_i)\n",
        "    print(lik_i.expected_log_prob(y_i[None],f_i))\n",
        "    print('='*40)"
      ],
      "metadata": {
        "colab": {
          "base_uri": "https://localhost:8080/"
        },
        "id": "nyj-VCxDX2Dh",
        "outputId": "fa46da40-caf0-474e-f0b4-97c4f06a0dbd"
      },
      "execution_count": 254,
      "outputs": [
        {
          "output_type": "stream",
          "name": "stdout",
          "text": [
            "y tensor(-1.)\n",
            "lik (0.1, tensor(-1.), tensor(0.))\n",
            "f MultivariateNormal(loc: tensor([-1.]), covariance_matrix: tensor([[1.]]))\n",
            "tensor([-2.2739], grad_fn=<SubBackward0>)\n",
            "========================================\n",
            "y tensor(-0.7778)\n",
            "lik (0.1, tensor(-0.7778), tensor(0.2222))\n",
            "f MultivariateNormal(loc: tensor([-0.7778]), covariance_matrix: tensor([[1.]]))\n",
            "tensor([-2.2739], grad_fn=<SubBackward0>)\n",
            "========================================\n",
            "y tensor(-0.5556)\n",
            "lik (0.1, tensor(-0.5556), tensor(0.4444))\n",
            "f MultivariateNormal(loc: tensor([-0.5556]), covariance_matrix: tensor([[1.]]))\n",
            "tensor([-2.2739], grad_fn=<SubBackward0>)\n",
            "========================================\n",
            "y tensor(-0.3333)\n",
            "lik (0.1, tensor(-0.3333), tensor(0.6667))\n",
            "f MultivariateNormal(loc: tensor([-0.3333]), covariance_matrix: tensor([[1.]]))\n",
            "tensor([-2.2739], grad_fn=<SubBackward0>)\n",
            "========================================\n",
            "y tensor(-0.1111)\n",
            "lik (0.1, tensor(-0.1111), tensor(0.8889))\n",
            "f MultivariateNormal(loc: tensor([-0.1111]), covariance_matrix: tensor([[1.]]))\n",
            "tensor([-2.2739], grad_fn=<SubBackward0>)\n",
            "========================================\n",
            "y tensor(0.1111)\n",
            "lik (0.1, tensor(0.1111), tensor(1.1111))\n",
            "f MultivariateNormal(loc: tensor([0.1111]), covariance_matrix: tensor([[1.]]))\n",
            "tensor([-2.2739], grad_fn=<SubBackward0>)\n",
            "========================================\n",
            "y tensor(0.3333)\n",
            "lik (0.1, tensor(0.3333), tensor(1.3333))\n",
            "f MultivariateNormal(loc: tensor([0.3333]), covariance_matrix: tensor([[1.]]))\n",
            "tensor([-2.2739], grad_fn=<SubBackward0>)\n",
            "========================================\n",
            "y tensor(0.5556)\n",
            "lik (0.1, tensor(0.5556), tensor(1.5556))\n",
            "f MultivariateNormal(loc: tensor([0.5556]), covariance_matrix: tensor([[1.]]))\n",
            "tensor([-2.2739], grad_fn=<SubBackward0>)\n",
            "========================================\n",
            "y tensor(0.7778)\n",
            "lik (0.1, tensor(0.7778), tensor(1.7778))\n",
            "f MultivariateNormal(loc: tensor([0.7778]), covariance_matrix: tensor([[1.]]))\n",
            "tensor([-2.2739], grad_fn=<SubBackward0>)\n",
            "========================================\n",
            "y tensor(1.)\n",
            "lik (0.1, tensor(1.), tensor(2.))\n",
            "f MultivariateNormal(loc: tensor([1.]), covariance_matrix: tensor([[1.]]))\n",
            "tensor([-2.2739], grad_fn=<SubBackward0>)\n",
            "========================================\n"
          ]
        }
      ]
    },
    {
      "cell_type": "code",
      "source": [
        "def rgetattr(o, k_list):\n",
        "  for k in k_list:\n",
        "    o = getattr(o,k)\n",
        "  return o\n",
        "\n",
        "def print_module(module):\n",
        "  with torch.no_grad():\n",
        "    for name, _ in module.named_parameters():\n",
        "      name = name.replace('raw_','')\n",
        "      param = rgetattr(module, name.split('.'))\n",
        "      print(f'{name:35} {tuple(param.shape)}\\n{param.numpy().round(10)}')\n",
        "\n",
        "def get_module(module):\n",
        "  ret = {}\n",
        "  with torch.no_grad():\n",
        "    for name, _ in module.named_parameters():\n",
        "      name = name.replace('raw_','')\n",
        "      param = rgetattr(module, name.split('.'))\n",
        "      ret[name] = param.numpy()\n",
        "  return ret"
      ],
      "metadata": {
        "id": "AsaHG4UbHapk"
      },
      "execution_count": 274,
      "outputs": []
    },
    {
      "cell_type": "markdown",
      "source": [
        "# Synthetic 1D"
      ],
      "metadata": {
        "id": "s2QOhsPCB1AS"
      }
    },
    {
      "cell_type": "code",
      "source": [
        "MAX_VALUE = 0.0\n",
        "\n",
        "def noise_free_target(x):\n",
        "    y = (x-2)*10\n",
        "    return y * torch.sin(y) / 2\n",
        "\n",
        "def oracle(x):\n",
        "    return torch.clamp_max(noise_free_target(x) + torch.randn(x.shape) , 0.0)"
      ],
      "metadata": {
        "id": "3GMFcYiDpYry"
      },
      "execution_count": 275,
      "outputs": []
    },
    {
      "cell_type": "code",
      "source": [
        "N_init = 15\n",
        "np.random.seed(0)\n",
        "x = torch.FloatTensor(np.random.rand(N_init))\n",
        "torch.sort(x)\n",
        "y = oracle(x)\n",
        "\n",
        "domain = torch.linspace(0, 1, 500)\n",
        "plt.plot(domain, noise_free_target(domain), '--');\n",
        "plt.plot(domain, torch.clamp_max(noise_free_target(domain), 0), '-');\n",
        "plt.plot(x, y, 'k.')"
      ],
      "metadata": {
        "colab": {
          "base_uri": "https://localhost:8080/",
          "height": 453
        },
        "id": "VGn55MQYqAum",
        "outputId": "b09a85b0-f6c1-4dcc-9025-0fd62929c55c"
      },
      "execution_count": 276,
      "outputs": [
        {
          "output_type": "execute_result",
          "data": {
            "text/plain": [
              "[<matplotlib.lines.Line2D at 0x78f6282f4df0>]"
            ]
          },
          "metadata": {},
          "execution_count": 276
        },
        {
          "output_type": "display_data",
          "data": {
            "text/plain": [
              "<Figure size 640x480 with 1 Axes>"
            ],
            "image/png": "[encoded data removed]"
          },
          "metadata": {}
        }
      ]
    },
    {
      "cell_type": "markdown",
      "source": [
        "# ELBO Implementation"
      ],
      "metadata": {
        "id": "83pBrXgS8zcm"
      }
    },
    {
      "cell_type": "code",
      "source": [
        "from gpytorch.models import ApproximateGP # handles basic variational inference\n",
        "from gpytorch.variational import CholeskyVariationalDistribution # distribution of the approximation q(f)\n",
        "from gpytorch.variational import VariationalStrategy # use when larger sample - transform q(u) to q(f) over inducing points\n",
        "\n",
        "class GPModel(ApproximateGP):\n",
        "    def __init__(self, inducing_points):\n",
        "        # defines approximation\n",
        "        variational_distribution = CholeskyVariationalDistribution(inducing_points.size(0))\n",
        "        variational_strategy = VariationalStrategy(self, inducing_points,\n",
        "                                                   variational_distribution, learn_inducing_locations=False)\n",
        "        super(GPModel, self).__init__(variational_strategy)\n",
        "        # defines the GP\n",
        "        self.mean_module = gpytorch.means.ConstantMean()\n",
        "        self.covar_module = gpytorch.kernels.ScaleKernel(gpytorch.kernels.RBFKernel())\n",
        "\n",
        "    def forward(self, x):\n",
        "        mean_x = self.mean_module(x)\n",
        "        covar_x = self.covar_module(x)\n",
        "        return gpytorch.distributions.MultivariateNormal(mean_x, covar_x)\n",
        "\n",
        "\n",
        "model = GPModel(inducing_points=x[:,None])\n",
        "likelihood = CensoredGaussianLikelihoodAnalytic(low=-100., high=MAX_VALUE, alpha=5., gamma=0., dzeta=0.)\n",
        "\n",
        "if torch.cuda.is_available():\n",
        "    model = model.cuda()\n",
        "    likelihood = likelihood.cuda()"
      ],
      "metadata": {
        "id": "SN0H6-34CUqY"
      },
      "execution_count": 314,
      "outputs": []
    },
    {
      "cell_type": "code",
      "source": [
        "# model.covar_module.base_kernel.initialize(lengthscale=0.5)\n",
        "# model.covar_module.initialize(outputscale=5);\n",
        "# model.mean_module.initialize(constant=0.1)\n",
        "# likelihood.noise.initialize(noise=.5);"
      ],
      "metadata": {
        "id": "lImNW7RWfqw-"
      },
      "execution_count": 261,
      "outputs": []
    },
    {
      "cell_type": "code",
      "source": [
        "print_module(likelihood)\n",
        "print_module(model)"
      ],
      "metadata": {
        "colab": {
          "base_uri": "https://localhost:8080/"
        },
        "id": "RQvx3Q_cIF4Y",
        "outputId": "49dbe416-8991-4ec5-999f-a9d7b345c28f"
      },
      "execution_count": 315,
      "outputs": [
        {
          "output_type": "stream",
          "name": "stdout",
          "text": [
            "noise.noise                         (1,)\n",
            "[1.]\n",
            "variational_strategy._variational_distribution.variational_mean (15,)\n",
            "[0. 0. 0. 0. 0. 0. 0. 0. 0. 0. 0. 0. 0. 0. 0.]\n",
            "variational_strategy._variational_distribution.chol_variational_covar (15, 15)\n",
            "[[1. 0. 0. 0. 0. 0. 0. 0. 0. 0. 0. 0. 0. 0. 0.]\n",
            " [0. 1. 0. 0. 0. 0. 0. 0. 0. 0. 0. 0. 0. 0. 0.]\n",
            " [0. 0. 1. 0. 0. 0. 0. 0. 0. 0. 0. 0. 0. 0. 0.]\n",
            " [0. 0. 0. 1. 0. 0. 0. 0. 0. 0. 0. 0. 0. 0. 0.]\n",
            " [0. 0. 0. 0. 1. 0. 0. 0. 0. 0. 0. 0. 0. 0. 0.]\n",
            " [0. 0. 0. 0. 0. 1. 0. 0. 0. 0. 0. 0. 0. 0. 0.]\n",
            " [0. 0. 0. 0. 0. 0. 1. 0. 0. 0. 0. 0. 0. 0. 0.]\n",
            " [0. 0. 0. 0. 0. 0. 0. 1. 0. 0. 0. 0. 0. 0. 0.]\n",
            " [0. 0. 0. 0. 0. 0. 0. 0. 1. 0. 0. 0. 0. 0. 0.]\n",
            " [0. 0. 0. 0. 0. 0. 0. 0. 0. 1. 0. 0. 0. 0. 0.]\n",
            " [0. 0. 0. 0. 0. 0. 0. 0. 0. 0. 1. 0. 0. 0. 0.]\n",
            " [0. 0. 0. 0. 0. 0. 0. 0. 0. 0. 0. 1. 0. 0. 0.]\n",
            " [0. 0. 0. 0. 0. 0. 0. 0. 0. 0. 0. 0. 1. 0. 0.]\n",
            " [0. 0. 0. 0. 0. 0. 0. 0. 0. 0. 0. 0. 0. 1. 0.]\n",
            " [0. 0. 0. 0. 0. 0. 0. 0. 0. 0. 0. 0. 0. 0. 1.]]\n",
            "mean_module.constant                ()\n",
            "0.0\n",
            "covar_module.outputscale            ()\n",
            "0.6931471824645996\n",
            "covar_module.base_kernel.lengthscale (1, 1)\n",
            "[[0.6931472]]\n"
          ]
        }
      ]
    },
    {
      "cell_type": "code",
      "source": [
        "num_epochs = 5_000\n",
        "pbar = tqdm.tqdm(range(num_epochs), position=0, leave=True)\n",
        "\n",
        "model.train()\n",
        "likelihood.train()\n",
        "\n",
        "optimizer = torch.optim.Adam([\n",
        "    {'params': model.parameters()},\n",
        "    {'params': likelihood.parameters()},\n",
        "], lr=0.001)\n",
        "\n",
        "mll = gpytorch.mlls.VariationalELBO(likelihood, model, num_data=y.size(0))\n",
        "\n",
        "params_log = dict()\n",
        "for iter in pbar:\n",
        "    optimizer.zero_grad();\n",
        "    y_pred = model(x[:,None])\n",
        "    loss = -mll(y_pred, y)\n",
        "    loss.backward()\n",
        "    optimizer.step()\n",
        "    params_log[iter] = {\n",
        "        'loss': loss.item(),\n",
        "        'outscale': model.covar_module.outputscale.item(),\n",
        "        'mean_module': model.mean_module.constant.item(),\n",
        "        'noise': likelihood.noise.noise.item()\n",
        "        }\n",
        "\n",
        "    if iter%100==0:\n",
        "      for key, val in param_log[iter].items():\n",
        "        print(key, val)"
      ],
      "metadata": {
        "colab": {
          "base_uri": "https://localhost:8080/"
        },
        "id": "IEzI4NA027bQ",
        "outputId": "06cf0302-7b1c-406a-b44f-0bdebe9055ea"
      },
      "execution_count": 316,
      "outputs": [
        {
          "output_type": "stream",
          "name": "stderr",
          "text": [
            "  0%|          | 20/5000 [00:00<00:51, 95.85it/s]"
          ]
        },
        {
          "output_type": "stream",
          "name": "stdout",
          "text": [
            "loss 1.8592976331710815\n",
            "outscale 0.6926472783088684\n",
            "mean_module 0.0009999998146668077\n",
            "noise 1.0006321668624878\n"
          ]
        },
        {
          "output_type": "stream",
          "name": "stderr",
          "text": [
            "  2%|▏         | 110/5000 [00:01<01:12, 67.33it/s]"
          ]
        },
        {
          "output_type": "stream",
          "name": "stdout",
          "text": [
            "loss 1.3199800252914429\n",
            "outscale 0.6425414085388184\n",
            "mean_module 0.11251594871282578\n",
            "noise 1.0614951848983765\n"
          ]
        },
        {
          "output_type": "stream",
          "name": "stderr",
          "text": [
            "  4%|▍         | 211/5000 [00:03<01:16, 62.91it/s]"
          ]
        },
        {
          "output_type": "stream",
          "name": "stdout",
          "text": [
            "loss 0.38027673959732056\n",
            "outscale 0.5919874906539917\n",
            "mean_module 0.237984299659729\n",
            "noise 1.104710340499878\n"
          ]
        },
        {
          "output_type": "stream",
          "name": "stderr",
          "text": [
            "  6%|▌         | 312/5000 [00:04<00:52, 89.36it/s]"
          ]
        },
        {
          "output_type": "stream",
          "name": "stdout",
          "text": [
            "loss 0.15738683938980103\n",
            "outscale 0.5651132464408875\n",
            "mean_module 0.28506556153297424\n",
            "noise 1.1227127313613892\n"
          ]
        },
        {
          "output_type": "stream",
          "name": "stderr",
          "text": [
            "  8%|▊         | 412/5000 [00:05<00:48, 94.91it/s]"
          ]
        },
        {
          "output_type": "stream",
          "name": "stdout",
          "text": [
            "loss 0.13118717074394226\n",
            "outscale 0.5484321117401123\n",
            "mean_module 0.30070605874061584\n",
            "noise 1.1368082761764526\n"
          ]
        },
        {
          "output_type": "stream",
          "name": "stderr",
          "text": [
            " 10%|█         | 514/5000 [00:06<00:49, 91.49it/s]"
          ]
        },
        {
          "output_type": "stream",
          "name": "stdout",
          "text": [
            "loss 0.1175428032875061\n",
            "outscale 0.5336617231369019\n",
            "mean_module 0.3117842376232147\n",
            "noise 1.1505435705184937\n"
          ]
        },
        {
          "output_type": "stream",
          "name": "stderr",
          "text": [
            " 12%|█▏        | 598/5000 [00:07<00:44, 98.96it/s]"
          ]
        },
        {
          "output_type": "stream",
          "name": "stdout",
          "text": [
            "loss 0.10744714736938477\n",
            "outscale 0.5196858048439026\n",
            "mean_module 0.321880578994751\n",
            "noise 1.1641143560409546\n"
          ]
        },
        {
          "output_type": "stream",
          "name": "stderr",
          "text": [
            " 14%|█▍        | 710/5000 [00:09<00:47, 91.18it/s]"
          ]
        },
        {
          "output_type": "stream",
          "name": "stdout",
          "text": [
            "loss 0.09911759942770004\n",
            "outscale 0.5061945915222168\n",
            "mean_module 0.332123339176178\n",
            "noise 1.1774414777755737\n"
          ]
        },
        {
          "output_type": "stream",
          "name": "stderr",
          "text": [
            " 16%|█▌        | 810/5000 [00:10<00:59, 69.99it/s]"
          ]
        },
        {
          "output_type": "stream",
          "name": "stdout",
          "text": [
            "loss 0.09195821732282639\n",
            "outscale 0.4930979609489441\n",
            "mean_module 0.34292441606521606\n",
            "noise 1.1903915405273438\n"
          ]
        },
        {
          "output_type": "stream",
          "name": "stderr",
          "text": [
            " 18%|█▊        | 909/5000 [00:12<01:10, 58.44it/s]"
          ]
        },
        {
          "output_type": "stream",
          "name": "stdout",
          "text": [
            "loss 0.08571383357048035\n",
            "outscale 0.480385959148407\n",
            "mean_module 0.35436540842056274\n",
            "noise 1.2028424739837646\n"
          ]
        },
        {
          "output_type": "stream",
          "name": "stderr",
          "text": [
            " 20%|██        | 1012/5000 [00:13<00:43, 91.74it/s]"
          ]
        },
        {
          "output_type": "stream",
          "name": "stdout",
          "text": [
            "loss 0.08025448769330978\n",
            "outscale 0.4680710434913635\n",
            "mean_module 0.3663468658924103\n",
            "noise 1.214720368385315\n"
          ]
        },
        {
          "output_type": "stream",
          "name": "stderr",
          "text": [
            " 22%|██▏       | 1114/5000 [00:14<00:39, 98.87it/s]"
          ]
        },
        {
          "output_type": "stream",
          "name": "stdout",
          "text": [
            "loss 0.07549148052930832\n",
            "outscale 0.4561566114425659\n",
            "mean_module 0.3786783814430237\n",
            "noise 1.226019263267517\n"
          ]
        },
        {
          "output_type": "stream",
          "name": "stderr",
          "text": [
            " 24%|██▍       | 1219/5000 [00:15<00:39, 95.74it/s]"
          ]
        },
        {
          "output_type": "stream",
          "name": "stdout",
          "text": [
            "loss 0.07133327424526215\n",
            "outscale 0.4446205198764801\n",
            "mean_module 0.39114782214164734\n",
            "noise 1.2368028163909912\n"
          ]
        },
        {
          "output_type": "stream",
          "name": "stderr",
          "text": [
            " 26%|██▌       | 1311/5000 [00:16<00:38, 95.91it/s]"
          ]
        },
        {
          "output_type": "stream",
          "name": "stdout",
          "text": [
            "loss 0.06767050921916962\n",
            "outscale 0.4334132671356201\n",
            "mean_module 0.40356916189193726\n",
            "noise 1.2471896409988403\n"
          ]
        },
        {
          "output_type": "stream",
          "name": "stderr",
          "text": [
            " 28%|██▊       | 1411/5000 [00:17<00:37, 95.92it/s]"
          ]
        },
        {
          "output_type": "stream",
          "name": "stdout",
          "text": [
            "loss 0.0643831193447113\n",
            "outscale 0.42246800661087036\n",
            "mean_module 0.41579440236091614\n",
            "noise 1.2573298215866089\n"
          ]
        },
        {
          "output_type": "stream",
          "name": "stderr",
          "text": [
            " 30%|███       | 1513/5000 [00:18<00:36, 96.36it/s]"
          ]
        },
        {
          "output_type": "stream",
          "name": "stdout",
          "text": [
            "loss 0.06135719269514084\n",
            "outscale 0.4117175340652466\n",
            "mean_module 0.4276934266090393\n",
            "noise 1.2673842906951904\n"
          ]
        },
        {
          "output_type": "stream",
          "name": "stderr",
          "text": [
            " 32%|███▏      | 1617/5000 [00:19<00:34, 98.94it/s]"
          ]
        },
        {
          "output_type": "stream",
          "name": "stdout",
          "text": [
            "loss 0.05849311500787735\n",
            "outscale 0.40111005306243896\n",
            "mean_module 0.4391164481639862\n",
            "noise 1.2775124311447144\n"
          ]
        },
        {
          "output_type": "stream",
          "name": "stderr",
          "text": [
            " 34%|███▍      | 1719/5000 [00:20<00:33, 98.68it/s]"
          ]
        },
        {
          "output_type": "stream",
          "name": "stdout",
          "text": [
            "loss 0.05570495128631592\n",
            "outscale 0.39061975479125977\n",
            "mean_module 0.4498511254787445\n",
            "noise 1.2878741025924683\n"
          ]
        },
        {
          "output_type": "stream",
          "name": "stderr",
          "text": [
            " 36%|███▌      | 1810/5000 [00:21<00:34, 92.30it/s]"
          ]
        },
        {
          "output_type": "stream",
          "name": "stdout",
          "text": [
            "loss 0.052909716963768005\n",
            "outscale 0.3802538216114044\n",
            "mean_module 0.4595726430416107\n",
            "noise 1.2986377477645874\n"
          ]
        },
        {
          "output_type": "stream",
          "name": "stderr",
          "text": [
            " 38%|███▊      | 1914/5000 [00:23<00:43, 70.49it/s]"
          ]
        },
        {
          "output_type": "stream",
          "name": "stdout",
          "text": [
            "loss 0.05000600963830948\n",
            "outscale 0.3700593411922455\n",
            "mean_module 0.46777403354644775\n",
            "noise 1.3099993467330933\n"
          ]
        },
        {
          "output_type": "stream",
          "name": "stderr",
          "text": [
            " 40%|████      | 2006/5000 [00:24<00:46, 64.01it/s]"
          ]
        },
        {
          "output_type": "stream",
          "name": "stdout",
          "text": [
            "loss 0.04683546721935272\n",
            "outscale 0.3601350784301758\n",
            "mean_module 0.47364962100982666\n",
            "noise 1.3222136497497559\n"
          ]
        },
        {
          "output_type": "stream",
          "name": "stderr",
          "text": [
            " 42%|████▏     | 2114/5000 [00:26<00:33, 85.34it/s]"
          ]
        },
        {
          "output_type": "stream",
          "name": "stdout",
          "text": [
            "loss 0.043099433183670044\n",
            "outscale 0.35065385699272156\n",
            "mean_module 0.47587713599205017\n",
            "noise 1.3356508016586304\n"
          ]
        },
        {
          "output_type": "stream",
          "name": "stderr",
          "text": [
            " 44%|████▍     | 2215/5000 [00:27<00:28, 96.90it/s]"
          ]
        },
        {
          "output_type": "stream",
          "name": "stdout",
          "text": [
            "loss 0.038153618574142456\n",
            "outscale 0.3419056534767151\n",
            "mean_module 0.4721936285495758\n",
            "noise 1.350898265838623\n"
          ]
        },
        {
          "output_type": "stream",
          "name": "stderr",
          "text": [
            " 46%|████▋     | 2318/5000 [00:28<00:27, 98.87it/s]"
          ]
        },
        {
          "output_type": "stream",
          "name": "stdout",
          "text": [
            "loss 0.03045976161956787\n",
            "outscale 0.33436593413352966\n",
            "mean_module 0.4585619270801544\n",
            "noise 1.3689700365066528\n"
          ]
        },
        {
          "output_type": "stream",
          "name": "stderr",
          "text": [
            " 48%|████▊     | 2420/5000 [00:29<00:26, 97.04it/s]"
          ]
        },
        {
          "output_type": "stream",
          "name": "stdout",
          "text": [
            "loss 0.01608552411198616\n",
            "outscale 0.3287453055381775\n",
            "mean_module 0.4277079105377197\n",
            "noise 1.391721248626709\n"
          ]
        },
        {
          "output_type": "stream",
          "name": "stderr",
          "text": [
            " 50%|█████     | 2512/5000 [00:30<00:25, 99.12it/s]"
          ]
        },
        {
          "output_type": "stream",
          "name": "stdout",
          "text": [
            "loss -0.014827556908130646\n",
            "outscale 0.32569602131843567\n",
            "mean_module 0.36790475249290466\n",
            "noise 1.4225504398345947\n"
          ]
        },
        {
          "output_type": "stream",
          "name": "stderr",
          "text": [
            " 52%|█████▏    | 2613/5000 [00:31<00:27, 86.35it/s]"
          ]
        },
        {
          "output_type": "stream",
          "name": "stdout",
          "text": [
            "loss -0.08184777945280075\n",
            "outscale 0.32438164949417114\n",
            "mean_module 0.2676032483577728\n",
            "noise 1.4665430784225464\n"
          ]
        },
        {
          "output_type": "stream",
          "name": "stderr",
          "text": [
            " 54%|█████▍    | 2719/5000 [00:32<00:24, 92.71it/s]"
          ]
        },
        {
          "output_type": "stream",
          "name": "stdout",
          "text": [
            "loss -0.20277339220046997\n",
            "outscale 0.3203337490558624\n",
            "mean_module 0.1287737637758255\n",
            "noise 1.527866244316101\n"
          ]
        },
        {
          "output_type": "stream",
          "name": "stderr",
          "text": [
            " 56%|█████▌    | 2807/5000 [00:34<00:38, 57.38it/s]"
          ]
        },
        {
          "output_type": "stream",
          "name": "stdout",
          "text": [
            "loss -0.3745148777961731\n",
            "outscale 0.30416181683540344\n",
            "mean_module -0.019245069473981857\n",
            "noise 1.6105834245681763\n"
          ]
        },
        {
          "output_type": "stream",
          "name": "stderr",
          "text": [
            " 58%|█████▊    | 2904/5000 [00:38<01:02, 33.69it/s]"
          ]
        },
        {
          "output_type": "stream",
          "name": "stdout",
          "text": [
            "loss -0.5562418103218079\n",
            "outscale 0.2752363979816437\n",
            "mean_module -0.1296377331018448\n",
            "noise 1.7150278091430664\n"
          ]
        },
        {
          "output_type": "stream",
          "name": "stderr",
          "text": [
            " 60%|██████    | 3005/5000 [00:42<00:52, 37.91it/s]"
          ]
        },
        {
          "output_type": "stream",
          "name": "stdout",
          "text": [
            "loss -0.6444119215011597\n",
            "outscale 0.25055280327796936\n",
            "mean_module -0.1424199938774109\n",
            "noise 1.82982337474823\n"
          ]
        },
        {
          "output_type": "stream",
          "name": "stderr",
          "text": [
            " 62%|██████▏   | 3105/5000 [00:45<00:59, 31.64it/s]"
          ]
        },
        {
          "output_type": "stream",
          "name": "stdout",
          "text": [
            "loss -0.6940411329269409\n",
            "outscale 0.23264047503471375\n",
            "mean_module -0.12371421605348587\n",
            "noise 1.9417455196380615\n"
          ]
        },
        {
          "output_type": "stream",
          "name": "stderr",
          "text": [
            " 64%|██████▍   | 3203/5000 [00:48<00:37, 48.49it/s]"
          ]
        },
        {
          "output_type": "stream",
          "name": "stdout",
          "text": [
            "loss -0.7324622869491577\n",
            "outscale 0.21774010360240936\n",
            "mean_module -0.10815620422363281\n",
            "noise 2.0492961406707764\n"
          ]
        },
        {
          "output_type": "stream",
          "name": "stderr",
          "text": [
            " 66%|██████▋   | 3314/5000 [00:50<00:25, 67.13it/s]"
          ]
        },
        {
          "output_type": "stream",
          "name": "stdout",
          "text": [
            "loss -0.766925573348999\n",
            "outscale 0.20447905361652374\n",
            "mean_module -0.09786365181207657\n",
            "noise 2.1539745330810547\n"
          ]
        },
        {
          "output_type": "stream",
          "name": "stderr",
          "text": [
            " 68%|██████▊   | 3414/5000 [00:53<00:31, 50.16it/s]"
          ]
        },
        {
          "output_type": "stream",
          "name": "stdout",
          "text": [
            "loss -0.8025763034820557\n",
            "outscale 0.19192983210086823\n",
            "mean_module -0.09552889317274094\n",
            "noise 2.258941411972046\n"
          ]
        },
        {
          "output_type": "stream",
          "name": "stderr",
          "text": [
            " 70%|███████   | 3516/5000 [00:55<00:23, 63.56it/s]"
          ]
        },
        {
          "output_type": "stream",
          "name": "stdout",
          "text": [
            "loss -0.881184458732605\n",
            "outscale 0.17888949811458588\n",
            "mean_module -0.12565158307552338\n",
            "noise 2.3766629695892334\n"
          ]
        },
        {
          "output_type": "stream",
          "name": "stderr",
          "text": [
            " 72%|███████▏  | 3612/5000 [00:57<00:15, 88.12it/s]"
          ]
        },
        {
          "output_type": "stream",
          "name": "stdout",
          "text": [
            "loss -0.9524562954902649\n",
            "outscale 0.1696673035621643\n",
            "mean_module -0.14940018951892853\n",
            "noise 2.4978015422821045\n"
          ]
        },
        {
          "output_type": "stream",
          "name": "stderr",
          "text": [
            " 74%|███████▍  | 3714/5000 [00:58<00:13, 93.96it/s]"
          ]
        },
        {
          "output_type": "stream",
          "name": "stdout",
          "text": [
            "loss -1.0099008083343506\n",
            "outscale 0.16345158219337463\n",
            "mean_module -0.16864517331123352\n",
            "noise 2.6148977279663086\n"
          ]
        },
        {
          "output_type": "stream",
          "name": "stderr",
          "text": [
            " 76%|███████▋  | 3815/5000 [00:59<00:12, 95.02it/s]"
          ]
        },
        {
          "output_type": "stream",
          "name": "stdout",
          "text": [
            "loss -1.057241439819336\n",
            "outscale 0.15918880701065063\n",
            "mean_module -0.18306180834770203\n",
            "noise 2.7270333766937256\n"
          ]
        },
        {
          "output_type": "stream",
          "name": "stderr",
          "text": [
            " 78%|███████▊  | 3915/5000 [01:00<00:11, 95.33it/s]"
          ]
        },
        {
          "output_type": "stream",
          "name": "stdout",
          "text": [
            "loss -1.0973763465881348\n",
            "outscale 0.15622495114803314\n",
            "mean_module -0.19338731467723846\n",
            "noise 2.8345236778259277\n"
          ]
        },
        {
          "output_type": "stream",
          "name": "stderr",
          "text": [
            " 80%|████████  | 4013/5000 [01:01<00:12, 78.35it/s]"
          ]
        },
        {
          "output_type": "stream",
          "name": "stdout",
          "text": [
            "loss -1.1324639320373535\n",
            "outscale 0.15417368710041046\n",
            "mean_module -0.200747549533844\n",
            "noise 2.9379780292510986\n"
          ]
        },
        {
          "output_type": "stream",
          "name": "stderr",
          "text": [
            " 82%|████████▏ | 4106/5000 [01:04<00:28, 31.62it/s]"
          ]
        },
        {
          "output_type": "stream",
          "name": "stdout",
          "text": [
            "loss -1.1639814376831055\n",
            "outscale 0.15278837084770203\n",
            "mean_module -0.20620405673980713\n",
            "noise 3.038015842437744\n"
          ]
        },
        {
          "output_type": "stream",
          "name": "stderr",
          "text": [
            " 84%|████████▍ | 4209/5000 [01:07<00:11, 68.40it/s]"
          ]
        },
        {
          "output_type": "stream",
          "name": "stdout",
          "text": [
            "loss -1.1929056644439697\n",
            "outscale 0.1518925577402115\n",
            "mean_module -0.21052920818328857\n",
            "noise 3.1352062225341797\n"
          ]
        },
        {
          "output_type": "stream",
          "name": "stderr",
          "text": [
            " 86%|████████▋ | 4319/5000 [01:09<00:08, 83.26it/s]"
          ]
        },
        {
          "output_type": "stream",
          "name": "stdout",
          "text": [
            "loss -1.2198797464370728\n",
            "outscale 0.15135037899017334\n",
            "mean_module -0.2141829878091812\n",
            "noise 3.230038642883301\n"
          ]
        },
        {
          "output_type": "stream",
          "name": "stderr",
          "text": [
            " 88%|████████▊ | 4416/5000 [01:10<00:07, 81.78it/s]"
          ]
        },
        {
          "output_type": "stream",
          "name": "stdout",
          "text": [
            "loss -1.245330572128296\n",
            "outscale 0.1510549932718277\n",
            "mean_module -0.21739600598812103\n",
            "noise 3.322920799255371\n"
          ]
        },
        {
          "output_type": "stream",
          "name": "stderr",
          "text": [
            " 90%|█████████ | 4507/5000 [01:12<00:07, 68.35it/s]"
          ]
        },
        {
          "output_type": "stream",
          "name": "stdout",
          "text": [
            "loss -1.2695434093475342\n",
            "outscale 0.15092286467552185\n",
            "mean_module -0.22026559710502625\n",
            "noise 3.4141862392425537\n"
          ]
        },
        {
          "output_type": "stream",
          "name": "stderr",
          "text": [
            " 92%|█████████▏| 4616/5000 [01:13<00:05, 72.51it/s]"
          ]
        },
        {
          "output_type": "stream",
          "name": "stdout",
          "text": [
            "loss -1.2927172183990479\n",
            "outscale 0.15089036524295807\n",
            "mean_module -0.22282926738262177\n",
            "noise 3.504108428955078\n"
          ]
        },
        {
          "output_type": "stream",
          "name": "stderr",
          "text": [
            " 94%|█████████▍| 4717/5000 [01:14<00:03, 81.56it/s]"
          ]
        },
        {
          "output_type": "stream",
          "name": "stdout",
          "text": [
            "loss -1.314995288848877\n",
            "outscale 0.1509096920490265\n",
            "mean_module -0.22510623931884766\n",
            "noise 3.592911958694458\n"
          ]
        },
        {
          "output_type": "stream",
          "name": "stderr",
          "text": [
            " 96%|█████████▌| 4803/5000 [01:16<00:02, 67.11it/s]"
          ]
        },
        {
          "output_type": "stream",
          "name": "stdout",
          "text": [
            "loss -1.3364874124526978\n",
            "outscale 0.1509455442428589\n",
            "mean_module -0.2271178662776947\n",
            "noise 3.6807823181152344\n"
          ]
        },
        {
          "output_type": "stream",
          "name": "stderr",
          "text": [
            " 98%|█████████▊| 4907/5000 [01:19<00:02, 45.91it/s]"
          ]
        },
        {
          "output_type": "stream",
          "name": "stdout",
          "text": [
            "loss -1.357282280921936\n",
            "outscale 0.15097151696681976\n",
            "mean_module -0.22889401018619537\n",
            "noise 3.767875909805298\n"
          ]
        },
        {
          "output_type": "stream",
          "name": "stderr",
          "text": [
            "100%|██████████| 5000/5000 [01:21<00:00, 61.37it/s]\n"
          ]
        }
      ]
    },
    {
      "cell_type": "code",
      "source": [
        "params_elbo = pd.DataFrame(params_log).T\n",
        "print(params_elbo.columns)\n",
        "fig, axis = plt.subplots(1,2, figsize=(12,5))\n",
        "col_ = 'noise'\n",
        "params_elbo[col_].plot(title='ELBO: %s: %.6f'%(col_, params_elbo[col_].tail(1).values[0]), ax=axis[0])\n",
        "params_mc_benchmark[col_].plot(title='MC benchmark: %s: %.6f'%(col_, params_mc_benchmark[col_].tail(1).values[0]), ax=axis[1])"
      ],
      "metadata": {
        "colab": {
          "base_uri": "https://localhost:8080/",
          "height": 505
        },
        "id": "kxb82XRUeDF9",
        "outputId": "4db6bbd3-6708-46f9-bce8-a9ec8a0aa925"
      },
      "execution_count": 331,
      "outputs": [
        {
          "output_type": "stream",
          "name": "stdout",
          "text": [
            "Index(['loss', 'outscale', 'mean_module', 'noise'], dtype='object')\n"
          ]
        },
        {
          "output_type": "execute_result",
          "data": {
            "text/plain": [
              "<Axes: title={'center': 'MC benchmark: noise: 1.264826'}>"
            ]
          },
          "metadata": {},
          "execution_count": 331
        },
        {
          "output_type": "display_data",
          "data": {
            "text/plain": [
              "<Figure size 1200x500 with 2 Axes>"
            ],
            "image/png": "[encoded data removed]"
          },
          "metadata": {}
        }
      ]
    },
    {
      "cell_type": "code",
      "source": [
        "# MC benchmark\n",
        "# noise.noise : 1.1169327\n",
        "# mean_module.constant:  -0.2968234121799469\n",
        "# covar_module.outputscale: 14.430706024169922\n",
        "# covar_module.base_kernel.lengthscale: 0.09698801"
      ],
      "metadata": {
        "id": "-fhqXiHMclq4"
      },
      "execution_count": null,
      "outputs": []
    },
    {
      "cell_type": "code",
      "source": [
        "print_module(likelihood)\n",
        "print_module(model)"
      ],
      "metadata": {
        "colab": {
          "base_uri": "https://localhost:8080/"
        },
        "id": "swjwR2Z6KcDL",
        "outputId": "f0bcb0aa-f514-4c46-ec14-df129e359108"
      },
      "execution_count": 318,
      "outputs": [
        {
          "output_type": "stream",
          "name": "stdout",
          "text": [
            "noise.noise                         (1,)\n",
            "[3.6260552]\n",
            "variational_strategy._variational_distribution.variational_mean (15,)\n",
            "[-4.5387995e-01 -9.3477167e-02 -1.2209936e+00  1.4531179e-01\n",
            "  5.3794366e-01 -2.4914984e-01 -1.0723885e-01  1.0060805e+00\n",
            "  2.5194019e-01  6.4620078e-02 -1.4599733e-01 -9.2287838e-02\n",
            " -6.6617440e-04  5.1596124e-02 -7.8108919e-01]\n",
            "variational_strategy._variational_distribution.chol_variational_covar (15, 15)\n",
            "[[ 2.45412737e-01  0.00000000e+00  0.00000000e+00  0.00000000e+00\n",
            "   0.00000000e+00  0.00000000e+00  0.00000000e+00  0.00000000e+00\n",
            "   0.00000000e+00  0.00000000e+00  0.00000000e+00  0.00000000e+00\n",
            "   0.00000000e+00  0.00000000e+00  0.00000000e+00]\n",
            " [ 1.41142718e-02  3.06569606e-01  0.00000000e+00  0.00000000e+00\n",
            "   0.00000000e+00  0.00000000e+00  0.00000000e+00  0.00000000e+00\n",
            "   0.00000000e+00  0.00000000e+00  0.00000000e+00  0.00000000e+00\n",
            "   0.00000000e+00  0.00000000e+00  0.00000000e+00]\n",
            " [ 3.69338363e-01  1.51620749e-02  4.43052143e-01  0.00000000e+00\n",
            "   0.00000000e+00  0.00000000e+00  0.00000000e+00  0.00000000e+00\n",
            "   0.00000000e+00  0.00000000e+00  0.00000000e+00  0.00000000e+00\n",
            "   0.00000000e+00  0.00000000e+00  0.00000000e+00]\n",
            " [-1.20654039e-01  7.48202950e-02  2.97467232e-01  9.36598718e-01\n",
            "   0.00000000e+00  0.00000000e+00  0.00000000e+00  0.00000000e+00\n",
            "   0.00000000e+00  0.00000000e+00  0.00000000e+00  0.00000000e+00\n",
            "   0.00000000e+00  0.00000000e+00  0.00000000e+00]\n",
            " [-3.77189852e-02  3.03311169e-01  4.68127578e-01 -2.41818547e-01\n",
            "   1.87286735e-01  0.00000000e+00  0.00000000e+00  0.00000000e+00\n",
            "   0.00000000e+00  0.00000000e+00  0.00000000e+00  0.00000000e+00\n",
            "   0.00000000e+00  0.00000000e+00  0.00000000e+00]\n",
            " [ 1.42535996e-02  1.35775298e-01 -2.61881381e-01  7.59511665e-02\n",
            "  -1.36212915e-01  8.98587525e-01  0.00000000e+00  0.00000000e+00\n",
            "   0.00000000e+00  0.00000000e+00  0.00000000e+00  0.00000000e+00\n",
            "   0.00000000e+00  0.00000000e+00  0.00000000e+00]\n",
            " [-9.89551395e-02  7.86236078e-02  3.73235233e-02 -2.95288991e-02\n",
            "  -1.49993166e-01 -3.75722684e-02  9.66143310e-01  0.00000000e+00\n",
            "   0.00000000e+00  0.00000000e+00  0.00000000e+00  0.00000000e+00\n",
            "   0.00000000e+00  0.00000000e+00  0.00000000e+00]\n",
            " [ 1.81967437e-01 -2.35970259e-01  4.15979832e-01 -1.02692746e-01\n",
            "  -1.10589573e-02  3.52223903e-01  9.64248478e-02  2.81902403e-01\n",
            "   0.00000000e+00  0.00000000e+00  0.00000000e+00  0.00000000e+00\n",
            "   0.00000000e+00  0.00000000e+00  0.00000000e+00]\n",
            " [ 4.50154906e-03  1.82630733e-01 -5.56043722e-02  7.87535496e-03\n",
            "   3.45590599e-02 -1.76943075e-02 -2.83069396e-03 -2.13185996e-01\n",
            "   9.00924325e-01  0.00000000e+00  0.00000000e+00  0.00000000e+00\n",
            "   0.00000000e+00  0.00000000e+00  0.00000000e+00]\n",
            " [ 1.80769101e-01 -8.66518542e-02 -9.32591408e-02  4.90916371e-02\n",
            "  -4.84434992e-01 -1.09426357e-01  8.40128306e-03 -3.90401445e-02\n",
            "   3.94482501e-02  7.26652861e-01  0.00000000e+00  0.00000000e+00\n",
            "   0.00000000e+00  0.00000000e+00  0.00000000e+00]\n",
            " [-3.33231203e-02 -6.83517978e-02  2.82665193e-02 -7.29042571e-03\n",
            "   1.31162228e-02  1.98317952e-02  7.65942177e-03 -4.95024808e-02\n",
            "   1.52772674e-02 -1.00317234e-02  9.91678476e-01  0.00000000e+00\n",
            "   0.00000000e+00  0.00000000e+00  0.00000000e+00]\n",
            " [-3.75335179e-02  1.45476852e-02  1.15009574e-02 -7.51896016e-03\n",
            "   4.72262874e-03  7.24758580e-03  4.53609187e-04  9.15998884e-04\n",
            "   1.15258619e-03 -6.28679001e-04 -4.96634608e-03  9.96902585e-01\n",
            "   0.00000000e+00  0.00000000e+00  0.00000000e+00]\n",
            " [ 1.61394523e-03 -2.55029788e-03 -6.72230637e-03  2.87121488e-03\n",
            "   7.36714946e-03 -2.49626290e-04  5.14217839e-03 -3.86839872e-03\n",
            "   4.14639799e-04 -8.68746918e-03 -1.13925163e-03 -8.25612922e-04\n",
            "   9.99601960e-01  0.00000000e+00  0.00000000e+00]\n",
            " [ 9.26823355e-03 -2.07750406e-03  1.40109491e-02 -3.74163245e-03\n",
            "  -4.58574214e-04  1.02362633e-02  8.20337795e-04 -7.87931979e-02\n",
            "  -1.54069075e-02  2.89297313e-03 -2.52220966e-03  1.01528189e-03\n",
            "  -9.21712999e-05  9.96054232e-01  0.00000000e+00]\n",
            " [-4.66787741e-02 -2.03345604e-02 -1.11322723e-01  4.14053686e-02\n",
            "   1.19143158e-01  5.75031107e-03  1.17449418e-01 -1.29106799e-02\n",
            "   3.14733759e-02 -3.04289758e-01 -5.72244301e-02 -5.03539070e-02\n",
            "  -2.10555997e-02  1.35968421e-02  4.18250322e-01]]\n",
            "mean_module.constant                ()\n",
            "-0.17836494743824005\n",
            "covar_module.outputscale            ()\n",
            "0.1708327680826187\n",
            "covar_module.base_kernel.lengthscale (1, 1)\n",
            "[[0.19102025]]\n"
          ]
        }
      ]
    },
    {
      "cell_type": "code",
      "source": [
        "model.variational_strategy._variational_distribution.variational_mean"
      ],
      "metadata": {
        "colab": {
          "base_uri": "https://localhost:8080/"
        },
        "id": "nIn363-JV8kC",
        "outputId": "f3d44ae3-708f-4910-b340-a68d154d50bd"
      },
      "execution_count": 319,
      "outputs": [
        {
          "output_type": "execute_result",
          "data": {
            "text/plain": [
              "Parameter containing:\n",
              "tensor([-4.5388e-01, -9.3477e-02, -1.2210e+00,  1.4531e-01,  5.3794e-01,\n",
              "        -2.4915e-01, -1.0724e-01,  1.0061e+00,  2.5194e-01,  6.4620e-02,\n",
              "        -1.4600e-01, -9.2288e-02, -6.6617e-04,  5.1596e-02, -7.8109e-01],\n",
              "       requires_grad=True)"
            ]
          },
          "metadata": {},
          "execution_count": 319
        }
      ]
    },
    {
      "cell_type": "code",
      "source": [
        "model.eval()\n",
        "likelihood.eval()\n",
        "\n",
        "f_preds = model(domain[:,None])\n",
        "y_preds = likelihood(f_preds)\n",
        "\n",
        "f_mean = f_preds.loc\n",
        "f_var = f_preds.variance\n",
        "f_covar = f_preds.covariance_matrix\n",
        "\n",
        "N_samples = 1000\n",
        "breakpoints = torch.linspace(0, 1, N_samples+1)[:-1]\n",
        "breakpoints = breakpoints + breakpoints[1] * torch.rand_like(breakpoints)\n",
        "\n",
        "with torch.no_grad():\n",
        "    pred_samples = torch.distributions.Normal(f_mean, f_var.sqrt()).icdf(breakpoints[:,None])"
      ],
      "metadata": {
        "id": "L2hHuNav8cYE"
      },
      "execution_count": 320,
      "outputs": []
    },
    {
      "cell_type": "code",
      "source": [
        "def plot_result(pred_samples, censored=False):\n",
        "    if censored:\n",
        "        c_pred = pred_samples > MAX_VALUE\n",
        "        pred_samples[c_pred] = MAX_VALUE\n",
        "    with torch.no_grad(), gpytorch.settings.fast_pred_var():\n",
        "      pred_median = np.median(pred_samples, axis=0)\n",
        "      pred_quantiles = np.quantile(pred_samples, [0.025, 0.15, 0.85, 0.975], axis=0)\n",
        "\n",
        "      plt.figure(figsize=(6, 4))\n",
        "      plt.plot(domain, pred_median)\n",
        "\n",
        "      plt.fill_between(domain, pred_quantiles[0], pred_quantiles[-1], alpha=0.1, color='#33c');\n",
        "      plt.fill_between(domain, pred_quantiles[1], pred_quantiles[-2], alpha=0.1, color='#33c');\n",
        "      plt.plot(domain, y_preds.sample_n(n=100).mean([0,1]).numpy(force=True), 'r--')\n",
        "\n",
        "      plt.plot(x, y, 'k.');\n",
        "      plt.plot(domain, noise_free_target(domain).clamp_max(MAX_VALUE), 'k--', alpha=0.5);\n",
        "      plt.xlim(0, 1);\n",
        "      plt.ylim(-15, 5);\n",
        "      plt.title(\"Estimated function\")\n",
        "\n",
        "      plt.figure(figsize=(6, 2))\n",
        "      plt.title(\"Expected improvement\")\n",
        "      EI =  -(pred_samples*(pred_samples < y.min()).float()).mean(0)\n",
        "      plt.plot(domain, EI, 'r');\n",
        "      plt.fill_between(domain, torch.zeros_like(domain), EI, color='r', alpha=0.5)\n",
        "\n",
        "   # return f_covar, pred_samples\n",
        "\n",
        "plot_result(pred_samples)"
      ],
      "metadata": {
        "colab": {
          "base_uri": "https://localhost:8080/",
          "height": 648
        },
        "id": "qB1ZjUAr-e0c",
        "outputId": "ca436ba7-90e1-4473-a272-e7854f7d6a93"
      },
      "execution_count": 321,
      "outputs": [
        {
          "output_type": "stream",
          "name": "stderr",
          "text": [
            "/usr/local/lib/python3.10/dist-packages/torch/distributions/distribution.py:179: UserWarning: sample_n will be deprecated. Use .sample((n,)) instead\n",
            "  warnings.warn(\n"
          ]
        },
        {
          "output_type": "display_data",
          "data": {
            "text/plain": [
              "<Figure size 600x400 with 1 Axes>"
            ],
            "image/png": "[encoded data removed]"
          },
          "metadata": {}
        },
        {
          "output_type": "display_data",
          "data": {
            "text/plain": [
              "<Figure size 600x200 with 1 Axes>"
            ],
            "image/png": "[encoded data removed]"
          },
          "metadata": {}
        }
      ]
    },
    {
      "cell_type": "code",
      "source": [
        "# u,d = f_preds.confidence_region()\n",
        "# plt.plot(domain, f_preds.loc.numpy(force=True))\n",
        "# plt.fill_between(domain, u.numpy(force=True), d.numpy(force=True), alpha=0.1, color='#33c')\n",
        "# plt.plot(domain, y_preds.sample_n(n=100).mean([0,1]).numpy(force=True), 'r--')\n",
        "# plt.plot(x, y, 'k.');\n",
        "# plt.plot(domain, noise_free_target(domain).clamp_max(MAX_VALUE), 'k--', alpha=0.5);"
      ],
      "metadata": {
        "id": "NMXNNMQ4EzWm"
      },
      "execution_count": null,
      "outputs": []
    },
    {
      "cell_type": "markdown",
      "source": [
        "# MC Simulation"
      ],
      "metadata": {
        "id": "zAjpySlO8qql"
      }
    },
    {
      "cell_type": "code",
      "source": [
        "from gpytorch.models import ApproximateGP # handles basic variational inference\n",
        "from gpytorch.variational import CholeskyVariationalDistribution # distribution of the approximation q(f)\n",
        "from gpytorch.variational import VariationalStrategy # use when larger sample - transform q(u) to q(f) over inducing points\n",
        "\n",
        "class GPModel(ApproximateGP):\n",
        "    def __init__(self, inducing_points):\n",
        "        # defines approximation\n",
        "        variational_distribution = CholeskyVariationalDistribution(inducing_points.size(0))\n",
        "        variational_strategy = VariationalStrategy(self, inducing_points,\n",
        "                                                   variational_distribution, learn_inducing_locations=False)\n",
        "        super(GPModel, self).__init__(variational_strategy)\n",
        "        # defines the GP\n",
        "        self.mean_module = gpytorch.means.ConstantMean()\n",
        "        self.covar_module = gpytorch.kernels.ScaleKernel(gpytorch.kernels.RBFKernel())\n",
        "\n",
        "    def forward(self, x):\n",
        "        mean_x = self.mean_module(x)\n",
        "        covar_x = self.covar_module(x)\n",
        "        return gpytorch.distributions.MultivariateNormal(mean_x, covar_x)\n",
        "\n",
        "\n",
        "model = GPModel(inducing_points=x[:,None])\n",
        "# ElBO Likelihood\n",
        "likelihood = CensoredGaussianLikelihood(low=-1000., high=MAX_VALUE)\n",
        "\n",
        "if torch.cuda.is_available():\n",
        "    model = model.cuda()\n",
        "    likelihood = likelihood.cuda()"
      ],
      "metadata": {
        "id": "ytV96p1a8yv-"
      },
      "execution_count": 295,
      "outputs": []
    },
    {
      "cell_type": "code",
      "source": [
        "print_module(model)"
      ],
      "metadata": {
        "colab": {
          "base_uri": "https://localhost:8080/"
        },
        "id": "QXlcTwmv9Wd0",
        "outputId": "83b02fd0-2024-4f54-b9a4-17780ea2fb60"
      },
      "execution_count": 296,
      "outputs": [
        {
          "output_type": "stream",
          "name": "stdout",
          "text": [
            "variational_strategy._variational_distribution.variational_mean (15,)\n",
            "[0. 0. 0. 0. 0. 0. 0. 0. 0. 0. 0. 0. 0. 0. 0.]\n",
            "variational_strategy._variational_distribution.chol_variational_covar (15, 15)\n",
            "[[1. 0. 0. 0. 0. 0. 0. 0. 0. 0. 0. 0. 0. 0. 0.]\n",
            " [0. 1. 0. 0. 0. 0. 0. 0. 0. 0. 0. 0. 0. 0. 0.]\n",
            " [0. 0. 1. 0. 0. 0. 0. 0. 0. 0. 0. 0. 0. 0. 0.]\n",
            " [0. 0. 0. 1. 0. 0. 0. 0. 0. 0. 0. 0. 0. 0. 0.]\n",
            " [0. 0. 0. 0. 1. 0. 0. 0. 0. 0. 0. 0. 0. 0. 0.]\n",
            " [0. 0. 0. 0. 0. 1. 0. 0. 0. 0. 0. 0. 0. 0. 0.]\n",
            " [0. 0. 0. 0. 0. 0. 1. 0. 0. 0. 0. 0. 0. 0. 0.]\n",
            " [0. 0. 0. 0. 0. 0. 0. 1. 0. 0. 0. 0. 0. 0. 0.]\n",
            " [0. 0. 0. 0. 0. 0. 0. 0. 1. 0. 0. 0. 0. 0. 0.]\n",
            " [0. 0. 0. 0. 0. 0. 0. 0. 0. 1. 0. 0. 0. 0. 0.]\n",
            " [0. 0. 0. 0. 0. 0. 0. 0. 0. 0. 1. 0. 0. 0. 0.]\n",
            " [0. 0. 0. 0. 0. 0. 0. 0. 0. 0. 0. 1. 0. 0. 0.]\n",
            " [0. 0. 0. 0. 0. 0. 0. 0. 0. 0. 0. 0. 1. 0. 0.]\n",
            " [0. 0. 0. 0. 0. 0. 0. 0. 0. 0. 0. 0. 0. 1. 0.]\n",
            " [0. 0. 0. 0. 0. 0. 0. 0. 0. 0. 0. 0. 0. 0. 1.]]\n",
            "mean_module.constant                ()\n",
            "0.0\n",
            "covar_module.outputscale            ()\n",
            "0.6931471824645996\n",
            "covar_module.base_kernel.lengthscale (1, 1)\n",
            "[[0.6931472]]\n"
          ]
        }
      ]
    },
    {
      "cell_type": "code",
      "source": [
        "num_epochs = 30000\n",
        "pbar = tqdm.tqdm(range(num_epochs), position=0, leave=True)\n",
        "\n",
        "model.train()\n",
        "likelihood.train()\n",
        "\n",
        "optimizer = torch.optim.Adam([\n",
        "    {'params': model.parameters()},\n",
        "    {'params': likelihood.parameters()},\n",
        "], lr=0.001)\n",
        "\n",
        "mll = gpytorch.mlls.VariationalELBO(likelihood, model, beta=1., num_data=y.size(0))\n",
        "\n",
        "params_log = dict()\n",
        "for iter in pbar:\n",
        "    optimizer.zero_grad();\n",
        "    y_pred = model(x[:,None])\n",
        "    loss = -mll(y_pred, y)\n",
        "    loss.backward()\n",
        "    optimizer.step()\n",
        "    params_log[iter] = {\n",
        "        'loss': loss.item(),\n",
        "        'outscale': model.covar_module.outputscale.item(),\n",
        "        'mean_module': model.mean_module.constant.item(),\n",
        "        'noise': likelihood.noise.noise.item()\n",
        "        }\n",
        "\n",
        "    if iter%100==0:\n",
        "      for key, val in params_log[iter].items():\n",
        "        print(key, val)"
      ],
      "metadata": {
        "colab": {
          "base_uri": "https://localhost:8080/",
          "height": 1000
        },
        "id": "NjzLE17S9W82",
        "outputId": "d86c4aa7-0ad1-4ee6-c621-52b1f5671cf4"
      },
      "execution_count": 297,
      "outputs": [
        {
          "output_type": "stream",
          "name": "stderr",
          "text": [
            "  0%|          | 20/30000 [00:00<05:04, 98.33it/s]"
          ]
        },
        {
          "output_type": "stream",
          "name": "stdout",
          "text": [
            "loss 1.8592976331710815\n",
            "outscale 0.6926472783088684\n",
            "mean_module 0.0009999998146668077\n",
            "noise 1.0006321668624878\n"
          ]
        },
        {
          "output_type": "stream",
          "name": "stderr",
          "text": [
            "  0%|          | 121/30000 [00:01<04:49, 103.32it/s]"
          ]
        },
        {
          "output_type": "stream",
          "name": "stdout",
          "text": [
            "loss 1.3199800252914429\n",
            "outscale 0.6425414085388184\n",
            "mean_module 0.11251594871282578\n",
            "noise 1.0614951848983765\n"
          ]
        },
        {
          "output_type": "stream",
          "name": "stderr",
          "text": [
            "  1%|          | 207/30000 [00:02<06:42, 74.07it/s]"
          ]
        },
        {
          "output_type": "stream",
          "name": "stdout",
          "text": [
            "loss 0.38027673959732056\n",
            "outscale 0.5919874906539917\n",
            "mean_module 0.237984299659729\n",
            "noise 1.104710340499878\n"
          ]
        },
        {
          "output_type": "stream",
          "name": "stderr",
          "text": [
            "  1%|          | 313/30000 [00:03<06:58, 71.01it/s]"
          ]
        },
        {
          "output_type": "stream",
          "name": "stdout",
          "text": [
            "loss 0.15738683938980103\n",
            "outscale 0.5651132464408875\n",
            "mean_module 0.28506556153297424\n",
            "noise 1.1227127313613892\n"
          ]
        },
        {
          "output_type": "stream",
          "name": "stderr",
          "text": [
            "  1%|▏         | 411/30000 [00:04<05:12, 94.80it/s]"
          ]
        },
        {
          "output_type": "stream",
          "name": "stdout",
          "text": [
            "loss 0.13118717074394226\n",
            "outscale 0.5484321117401123\n",
            "mean_module 0.30070605874061584\n",
            "noise 1.1368082761764526\n"
          ]
        },
        {
          "output_type": "stream",
          "name": "stderr",
          "text": [
            "  2%|▏         | 514/30000 [00:05<04:29, 109.31it/s]"
          ]
        },
        {
          "output_type": "stream",
          "name": "stdout",
          "text": [
            "loss 0.1175428032875061\n",
            "outscale 0.5336617231369019\n",
            "mean_module 0.3117842376232147\n",
            "noise 1.1505435705184937\n"
          ]
        },
        {
          "output_type": "stream",
          "name": "stderr",
          "text": [
            "  2%|▏         | 620/30000 [00:06<04:25, 110.52it/s]"
          ]
        },
        {
          "output_type": "stream",
          "name": "stdout",
          "text": [
            "loss 0.10744714736938477\n",
            "outscale 0.5196858048439026\n",
            "mean_module 0.321880578994751\n",
            "noise 1.1641143560409546\n"
          ]
        },
        {
          "output_type": "stream",
          "name": "stderr",
          "text": [
            "  2%|▏         | 712/30000 [00:07<04:31, 107.94it/s]"
          ]
        },
        {
          "output_type": "stream",
          "name": "stdout",
          "text": [
            "loss 0.09911759942770004\n",
            "outscale 0.5061945915222168\n",
            "mean_module 0.332123339176178\n",
            "noise 1.1774414777755737\n"
          ]
        },
        {
          "output_type": "stream",
          "name": "stderr",
          "text": [
            "  3%|▎         | 813/30000 [00:08<04:47, 101.59it/s]"
          ]
        },
        {
          "output_type": "stream",
          "name": "stdout",
          "text": [
            "loss 0.09195821732282639\n",
            "outscale 0.4930979609489441\n",
            "mean_module 0.34292441606521606\n",
            "noise 1.1903915405273438\n"
          ]
        },
        {
          "output_type": "stream",
          "name": "stderr",
          "text": [
            "  3%|▎         | 912/30000 [00:09<04:38, 104.46it/s]"
          ]
        },
        {
          "output_type": "stream",
          "name": "stdout",
          "text": [
            "loss 0.08571383357048035\n",
            "outscale 0.480385959148407\n",
            "mean_module 0.35436540842056274\n",
            "noise 1.2028424739837646\n"
          ]
        },
        {
          "output_type": "stream",
          "name": "stderr",
          "text": [
            "  3%|▎         | 1013/30000 [00:10<04:31, 106.83it/s]"
          ]
        },
        {
          "output_type": "stream",
          "name": "stdout",
          "text": [
            "loss 0.08025448769330978\n",
            "outscale 0.4680710434913635\n",
            "mean_module 0.3663468658924103\n",
            "noise 1.214720368385315\n"
          ]
        },
        {
          "output_type": "stream",
          "name": "stderr",
          "text": [
            "  4%|▎         | 1113/30000 [00:11<04:51, 98.96it/s] "
          ]
        },
        {
          "output_type": "stream",
          "name": "stdout",
          "text": [
            "loss 0.07549148052930832\n",
            "outscale 0.4561566114425659\n",
            "mean_module 0.3786783814430237\n",
            "noise 1.226019263267517\n"
          ]
        },
        {
          "output_type": "stream",
          "name": "stderr",
          "text": [
            "  4%|▍         | 1221/30000 [00:12<04:36, 103.90it/s]"
          ]
        },
        {
          "output_type": "stream",
          "name": "stdout",
          "text": [
            "loss 0.07133327424526215\n",
            "outscale 0.4446205198764801\n",
            "mean_module 0.39114782214164734\n",
            "noise 1.2368028163909912\n"
          ]
        },
        {
          "output_type": "stream",
          "name": "stderr",
          "text": [
            "  4%|▍         | 1321/30000 [00:13<04:26, 107.52it/s]"
          ]
        },
        {
          "output_type": "stream",
          "name": "stdout",
          "text": [
            "loss 0.06767050921916962\n",
            "outscale 0.4334132671356201\n",
            "mean_module 0.40356916189193726\n",
            "noise 1.2471896409988403\n"
          ]
        },
        {
          "output_type": "stream",
          "name": "stderr",
          "text": [
            "  5%|▍         | 1409/30000 [00:14<05:25, 87.95it/s]"
          ]
        },
        {
          "output_type": "stream",
          "name": "stdout",
          "text": [
            "loss 0.0643831193447113\n",
            "outscale 0.42246800661087036\n",
            "mean_module 0.41579440236091614\n",
            "noise 1.2573298215866089\n"
          ]
        },
        {
          "output_type": "stream",
          "name": "stderr",
          "text": [
            "  5%|▌         | 1506/30000 [00:15<07:31, 63.13it/s]"
          ]
        },
        {
          "output_type": "stream",
          "name": "stdout",
          "text": [
            "loss 0.06135719269514084\n",
            "outscale 0.4117175340652466\n",
            "mean_module 0.4276934266090393\n",
            "noise 1.2673842906951904\n"
          ]
        },
        {
          "output_type": "stream",
          "name": "stderr",
          "text": [
            "  5%|▌         | 1608/30000 [00:17<08:19, 56.82it/s]"
          ]
        },
        {
          "output_type": "stream",
          "name": "stdout",
          "text": [
            "loss 0.05849311500787735\n",
            "outscale 0.40111005306243896\n",
            "mean_module 0.4391164481639862\n",
            "noise 1.2775124311447144\n"
          ]
        },
        {
          "output_type": "stream",
          "name": "stderr",
          "text": [
            "  6%|▌         | 1710/30000 [00:19<06:54, 68.24it/s]"
          ]
        },
        {
          "output_type": "stream",
          "name": "stdout",
          "text": [
            "loss 0.05570495128631592\n",
            "outscale 0.39061975479125977\n",
            "mean_module 0.4498511254787445\n",
            "noise 1.2878741025924683\n"
          ]
        },
        {
          "output_type": "stream",
          "name": "stderr",
          "text": [
            "  6%|▌         | 1818/30000 [00:20<04:31, 103.95it/s]"
          ]
        },
        {
          "output_type": "stream",
          "name": "stdout",
          "text": [
            "loss 0.052909716963768005\n",
            "outscale 0.3802538216114044\n",
            "mean_module 0.4595726430416107\n",
            "noise 1.2986377477645874\n"
          ]
        },
        {
          "output_type": "stream",
          "name": "stderr",
          "text": [
            "  6%|▋         | 1919/30000 [00:21<04:24, 105.99it/s]"
          ]
        },
        {
          "output_type": "stream",
          "name": "stdout",
          "text": [
            "loss 0.05000600963830948\n",
            "outscale 0.3700593411922455\n",
            "mean_module 0.46777403354644775\n",
            "noise 1.3099993467330933\n"
          ]
        },
        {
          "output_type": "stream",
          "name": "stderr",
          "text": [
            "  7%|▋         | 2016/30000 [00:22<06:27, 72.21it/s]"
          ]
        },
        {
          "output_type": "stream",
          "name": "stdout",
          "text": [
            "loss 0.04683546721935272\n",
            "outscale 0.3601350784301758\n",
            "mean_module 0.47364962100982666\n",
            "noise 1.3222136497497559\n"
          ]
        },
        {
          "output_type": "stream",
          "name": "stderr",
          "text": [
            "  7%|▋         | 2107/30000 [00:24<08:11, 56.76it/s]"
          ]
        },
        {
          "output_type": "stream",
          "name": "stdout",
          "text": [
            "loss 0.043099433183670044\n",
            "outscale 0.35065385699272156\n",
            "mean_module 0.47587713599205017\n",
            "noise 1.3356508016586304\n"
          ]
        },
        {
          "output_type": "stream",
          "name": "stderr",
          "text": [
            "  7%|▋         | 2220/30000 [00:25<04:30, 102.84it/s]"
          ]
        },
        {
          "output_type": "stream",
          "name": "stdout",
          "text": [
            "loss 0.038153618574142456\n",
            "outscale 0.3419056534767151\n",
            "mean_module 0.4721936285495758\n",
            "noise 1.350898265838623\n"
          ]
        },
        {
          "output_type": "stream",
          "name": "stderr",
          "text": [
            "  8%|▊         | 2321/30000 [00:26<04:21, 105.97it/s]"
          ]
        },
        {
          "output_type": "stream",
          "name": "stdout",
          "text": [
            "loss 0.03045976161956787\n",
            "outscale 0.33436593413352966\n",
            "mean_module 0.4585619270801544\n",
            "noise 1.3689700365066528\n"
          ]
        },
        {
          "output_type": "stream",
          "name": "stderr",
          "text": [
            "  8%|▊         | 2420/30000 [00:27<04:27, 103.20it/s]"
          ]
        },
        {
          "output_type": "stream",
          "name": "stdout",
          "text": [
            "loss 0.01608552411198616\n",
            "outscale 0.3287453055381775\n",
            "mean_module 0.4277079105377197\n",
            "noise 1.391721248626709\n"
          ]
        },
        {
          "output_type": "stream",
          "name": "stderr",
          "text": [
            "  8%|▊         | 2508/30000 [00:28<05:56, 77.21it/s]"
          ]
        },
        {
          "output_type": "stream",
          "name": "stdout",
          "text": [
            "loss -0.014827556908130646\n",
            "outscale 0.32569602131843567\n",
            "mean_module 0.36790475249290466\n",
            "noise 1.4225504398345947\n"
          ]
        },
        {
          "output_type": "stream",
          "name": "stderr",
          "text": [
            "  9%|▊         | 2606/30000 [00:30<13:41, 33.35it/s]"
          ]
        },
        {
          "output_type": "stream",
          "name": "stdout",
          "text": [
            "loss -0.08184777945280075\n",
            "outscale 0.32438164949417114\n",
            "mean_module 0.2676032483577728\n",
            "noise 1.4665430784225464\n"
          ]
        },
        {
          "output_type": "stream",
          "name": "stderr",
          "text": [
            "  9%|▉         | 2705/30000 [00:32<07:26, 61.20it/s]"
          ]
        },
        {
          "output_type": "stream",
          "name": "stdout",
          "text": [
            "loss -0.20277339220046997\n",
            "outscale 0.3203337490558624\n",
            "mean_module 0.1287737637758255\n",
            "noise 1.527866244316101\n"
          ]
        },
        {
          "output_type": "stream",
          "name": "stderr",
          "text": [
            "  9%|▉         | 2804/30000 [00:33<06:42, 67.60it/s]"
          ]
        },
        {
          "output_type": "stream",
          "name": "stdout",
          "text": [
            "loss -0.3745148777961731\n",
            "outscale 0.30416181683540344\n",
            "mean_module -0.019245069473981857\n",
            "noise 1.6105834245681763\n"
          ]
        },
        {
          "output_type": "stream",
          "name": "stderr",
          "text": [
            " 10%|▉         | 2912/30000 [00:35<04:43, 95.50it/s]"
          ]
        },
        {
          "output_type": "stream",
          "name": "stdout",
          "text": [
            "loss -0.5562418103218079\n",
            "outscale 0.2752363979816437\n",
            "mean_module -0.1296377331018448\n",
            "noise 1.7150278091430664\n"
          ]
        },
        {
          "output_type": "stream",
          "name": "stderr",
          "text": [
            " 10%|█         | 3023/30000 [00:36<04:12, 107.03it/s]"
          ]
        },
        {
          "output_type": "stream",
          "name": "stdout",
          "text": [
            "loss -0.6444119215011597\n",
            "outscale 0.25055280327796936\n",
            "mean_module -0.1424199938774109\n",
            "noise 1.82982337474823\n"
          ]
        },
        {
          "output_type": "stream",
          "name": "stderr",
          "text": [
            " 10%|█         | 3114/30000 [00:37<04:21, 102.80it/s]"
          ]
        },
        {
          "output_type": "stream",
          "name": "stdout",
          "text": [
            "loss -0.6940411329269409\n",
            "outscale 0.23264047503471375\n",
            "mean_module -0.12371421605348587\n",
            "noise 1.9417455196380615\n"
          ]
        },
        {
          "output_type": "stream",
          "name": "stderr",
          "text": [
            " 11%|█         | 3216/30000 [00:38<04:14, 105.31it/s]"
          ]
        },
        {
          "output_type": "stream",
          "name": "stdout",
          "text": [
            "loss -0.7324622869491577\n",
            "outscale 0.21774010360240936\n",
            "mean_module -0.10815620422363281\n",
            "noise 2.0492961406707764\n"
          ]
        },
        {
          "output_type": "stream",
          "name": "stderr",
          "text": [
            " 11%|█         | 3322/30000 [00:39<04:10, 106.62it/s]"
          ]
        },
        {
          "output_type": "stream",
          "name": "stdout",
          "text": [
            "loss -0.766925573348999\n",
            "outscale 0.20447905361652374\n",
            "mean_module -0.09786365181207657\n",
            "noise 2.1539745330810547\n"
          ]
        },
        {
          "output_type": "stream",
          "name": "stderr",
          "text": [
            " 11%|█▏        | 3413/30000 [00:40<04:17, 103.33it/s]"
          ]
        },
        {
          "output_type": "stream",
          "name": "stdout",
          "text": [
            "loss -0.8025763034820557\n",
            "outscale 0.19192983210086823\n",
            "mean_module -0.09552889317274094\n",
            "noise 2.258941411972046\n"
          ]
        },
        {
          "output_type": "stream",
          "name": "stderr",
          "text": [
            " 12%|█▏        | 3517/30000 [00:41<04:06, 107.47it/s]"
          ]
        },
        {
          "output_type": "stream",
          "name": "stdout",
          "text": [
            "loss -0.881184458732605\n",
            "outscale 0.17888949811458588\n",
            "mean_module -0.12565158307552338\n",
            "noise 2.3766629695892334\n"
          ]
        },
        {
          "output_type": "stream",
          "name": "stderr",
          "text": [
            " 12%|█▏        | 3611/30000 [00:42<03:57, 111.27it/s]"
          ]
        },
        {
          "output_type": "stream",
          "name": "stdout",
          "text": [
            "loss -0.9524562954902649\n",
            "outscale 0.1696673035621643\n",
            "mean_module -0.14940018951892853\n",
            "noise 2.4978015422821045\n"
          ]
        },
        {
          "output_type": "stream",
          "name": "stderr",
          "text": [
            " 12%|█▏        | 3715/30000 [00:43<05:47, 75.71it/s]"
          ]
        },
        {
          "output_type": "stream",
          "name": "stdout",
          "text": [
            "loss -1.0099008083343506\n",
            "outscale 0.16345158219337463\n",
            "mean_module -0.16864517331123352\n",
            "noise 2.6148977279663086\n"
          ]
        },
        {
          "output_type": "stream",
          "name": "stderr",
          "text": [
            " 13%|█▎        | 3808/30000 [00:44<06:24, 68.05it/s]"
          ]
        },
        {
          "output_type": "stream",
          "name": "stdout",
          "text": [
            "loss -1.057241439819336\n",
            "outscale 0.15918880701065063\n",
            "mean_module -0.18306180834770203\n",
            "noise 2.7270333766937256\n"
          ]
        },
        {
          "output_type": "stream",
          "name": "stderr",
          "text": [
            " 13%|█▎        | 3918/30000 [00:45<04:27, 97.67it/s]"
          ]
        },
        {
          "output_type": "stream",
          "name": "stdout",
          "text": [
            "loss -1.0973763465881348\n",
            "outscale 0.15622495114803314\n",
            "mean_module -0.19338731467723846\n",
            "noise 2.8345236778259277\n"
          ]
        },
        {
          "output_type": "stream",
          "name": "stderr",
          "text": [
            " 13%|█▎        | 4019/30000 [00:46<04:05, 105.77it/s]"
          ]
        },
        {
          "output_type": "stream",
          "name": "stdout",
          "text": [
            "loss -1.1324639320373535\n",
            "outscale 0.15417368710041046\n",
            "mean_module -0.200747549533844\n",
            "noise 2.9379780292510986\n"
          ]
        },
        {
          "output_type": "stream",
          "name": "stderr",
          "text": [
            " 14%|█▎        | 4112/30000 [00:47<04:01, 107.26it/s]"
          ]
        },
        {
          "output_type": "stream",
          "name": "stdout",
          "text": [
            "loss -1.1639814376831055\n",
            "outscale 0.15278837084770203\n",
            "mean_module -0.20620405673980713\n",
            "noise 3.038015842437744\n"
          ]
        },
        {
          "output_type": "stream",
          "name": "stderr",
          "text": [
            " 14%|█▍        | 4214/30000 [00:48<04:00, 107.11it/s]"
          ]
        },
        {
          "output_type": "stream",
          "name": "stdout",
          "text": [
            "loss -1.1929056644439697\n",
            "outscale 0.1518925577402115\n",
            "mean_module -0.21052920818328857\n",
            "noise 3.1352062225341797\n"
          ]
        },
        {
          "output_type": "stream",
          "name": "stderr",
          "text": [
            " 14%|█▍        | 4313/30000 [00:49<04:12, 101.92it/s]"
          ]
        },
        {
          "output_type": "stream",
          "name": "stdout",
          "text": [
            "loss -1.2198797464370728\n",
            "outscale 0.15135037899017334\n",
            "mean_module -0.2141829878091812\n",
            "noise 3.230038642883301\n"
          ]
        },
        {
          "output_type": "stream",
          "name": "stderr",
          "text": [
            " 15%|█▍        | 4415/30000 [00:50<04:23, 96.99it/s] "
          ]
        },
        {
          "output_type": "stream",
          "name": "stdout",
          "text": [
            "loss -1.245330572128296\n",
            "outscale 0.1510549932718277\n",
            "mean_module -0.21739600598812103\n",
            "noise 3.322920799255371\n"
          ]
        },
        {
          "output_type": "stream",
          "name": "stderr",
          "text": [
            " 15%|█▌        | 4513/30000 [00:51<04:07, 102.99it/s]"
          ]
        },
        {
          "output_type": "stream",
          "name": "stdout",
          "text": [
            "loss -1.2695434093475342\n",
            "outscale 0.15092286467552185\n",
            "mean_module -0.22026559710502625\n",
            "noise 3.4141862392425537\n"
          ]
        },
        {
          "output_type": "stream",
          "name": "stderr",
          "text": [
            " 15%|█▌        | 4616/30000 [00:52<03:50, 110.07it/s]"
          ]
        },
        {
          "output_type": "stream",
          "name": "stdout",
          "text": [
            "loss -1.2927172183990479\n",
            "outscale 0.15089036524295807\n",
            "mean_module -0.22282926738262177\n",
            "noise 3.504108428955078\n"
          ]
        },
        {
          "output_type": "stream",
          "name": "stderr",
          "text": [
            " 16%|█▌        | 4717/30000 [00:53<04:13, 99.66it/s] "
          ]
        },
        {
          "output_type": "stream",
          "name": "stdout",
          "text": [
            "loss -1.314995288848877\n",
            "outscale 0.1509096920490265\n",
            "mean_module -0.22510623931884766\n",
            "noise 3.592911958694458\n"
          ]
        },
        {
          "output_type": "stream",
          "name": "stderr",
          "text": [
            " 16%|█▌        | 4821/30000 [00:54<03:56, 106.45it/s]"
          ]
        },
        {
          "output_type": "stream",
          "name": "stdout",
          "text": [
            "loss -1.3364874124526978\n",
            "outscale 0.1509455442428589\n",
            "mean_module -0.2271178662776947\n",
            "noise 3.6807823181152344\n"
          ]
        },
        {
          "output_type": "stream",
          "name": "stderr",
          "text": [
            " 16%|█▋        | 4916/30000 [00:55<05:02, 83.03it/s]"
          ]
        },
        {
          "output_type": "stream",
          "name": "stdout",
          "text": [
            "loss -1.357282280921936\n",
            "outscale 0.15097151696681976\n",
            "mean_module -0.22889401018619537\n",
            "noise 3.767875909805298\n"
          ]
        },
        {
          "output_type": "stream",
          "name": "stderr",
          "text": [
            " 17%|█▋        | 5008/30000 [00:56<05:53, 70.73it/s]"
          ]
        },
        {
          "output_type": "stream",
          "name": "stdout",
          "text": [
            "loss -1.377456545829773\n",
            "outscale 0.15096691250801086\n",
            "mean_module -0.23047246038913727\n",
            "noise 3.8543312549591064\n"
          ]
        },
        {
          "output_type": "stream",
          "name": "stderr",
          "text": [
            " 17%|█▋        | 5116/30000 [00:58<04:26, 93.24it/s]"
          ]
        },
        {
          "output_type": "stream",
          "name": "stdout",
          "text": [
            "loss -1.3970781564712524\n",
            "outscale 0.15091447532176971\n",
            "mean_module -0.23189513385295868\n",
            "noise 3.9402735233306885\n"
          ]
        },
        {
          "output_type": "stream",
          "name": "stderr",
          "text": [
            " 17%|█▋        | 5214/30000 [00:59<03:53, 106.07it/s]"
          ]
        },
        {
          "output_type": "stream",
          "name": "stdout",
          "text": [
            "loss -1.416210412979126\n",
            "outscale 0.15079739689826965\n",
            "mean_module -0.23320633172988892\n",
            "noise 4.025818824768066\n"
          ]
        },
        {
          "output_type": "stream",
          "name": "stderr",
          "text": [
            " 18%|█▊        | 5316/30000 [01:00<03:47, 108.29it/s]"
          ]
        },
        {
          "output_type": "stream",
          "name": "stdout",
          "text": [
            "loss -1.4349141120910645\n",
            "outscale 0.1505986899137497\n",
            "mean_module -0.2344493865966797\n",
            "noise 4.111082077026367\n"
          ]
        },
        {
          "output_type": "stream",
          "name": "stderr",
          "text": [
            " 18%|█▊        | 5421/30000 [01:01<03:49, 107.27it/s]"
          ]
        },
        {
          "output_type": "stream",
          "name": "stdout",
          "text": [
            "loss -1.4532490968704224\n",
            "outscale 0.1502981185913086\n",
            "mean_module -0.2356686294078827\n",
            "noise 4.196177005767822\n"
          ]
        },
        {
          "output_type": "stream",
          "name": "stderr",
          "text": [
            " 18%|█▊        | 5511/30000 [01:01<03:53, 104.91it/s]"
          ]
        },
        {
          "output_type": "stream",
          "name": "stdout",
          "text": [
            "loss -1.4712786674499512\n",
            "outscale 0.1498710662126541\n",
            "mean_module -0.23691028356552124\n",
            "noise 4.281227111816406\n"
          ]
        },
        {
          "output_type": "stream",
          "name": "stderr",
          "text": [
            " 19%|█▊        | 5610/30000 [01:02<04:25, 91.75it/s]"
          ]
        },
        {
          "output_type": "stream",
          "name": "stdout",
          "text": [
            "loss -1.4890741109848022\n",
            "outscale 0.14928482472896576\n",
            "mean_module -0.2382308542728424\n",
            "noise 4.3663787841796875\n"
          ]
        },
        {
          "output_type": "stream",
          "name": "stderr",
          "text": [
            " 19%|█▉        | 5719/30000 [01:03<04:00, 100.78it/s]"
          ]
        },
        {
          "output_type": "stream",
          "name": "stdout",
          "text": [
            "loss -1.5067229270935059\n",
            "outscale 0.14849406480789185\n",
            "mean_module -0.2397100031375885\n",
            "noise 4.451816558837891\n"
          ]
        },
        {
          "output_type": "stream",
          "name": "stderr",
          "text": [
            " 19%|█▉        | 5820/30000 [01:04<03:39, 110.34it/s]"
          ]
        },
        {
          "output_type": "stream",
          "name": "stdout",
          "text": [
            "loss -1.5243477821350098\n",
            "outscale 0.14742860198020935\n",
            "mean_module -0.24149541556835175\n",
            "noise 4.537800312042236\n"
          ]
        },
        {
          "output_type": "stream",
          "name": "stderr",
          "text": [
            " 20%|█▉        | 5912/30000 [01:05<03:42, 108.50it/s]"
          ]
        },
        {
          "output_type": "stream",
          "name": "stdout",
          "text": [
            "loss -1.5421655178070068\n",
            "outscale 0.14595729112625122\n",
            "mean_module -0.24398094415664673\n",
            "noise 4.624783992767334\n"
          ]
        },
        {
          "output_type": "stream",
          "name": "stderr",
          "text": [
            " 20%|██        | 6013/30000 [01:06<04:06, 97.40it/s] "
          ]
        },
        {
          "output_type": "stream",
          "name": "stdout",
          "text": [
            "loss -1.5608859062194824\n",
            "outscale 0.143626406788826\n",
            "mean_module -0.2497662454843521\n",
            "noise 4.714029788970947\n"
          ]
        },
        {
          "output_type": "stream",
          "name": "stderr",
          "text": [
            " 20%|██        | 6114/30000 [01:07<03:40, 108.09it/s]"
          ]
        },
        {
          "output_type": "stream",
          "name": "stdout",
          "text": [
            "loss -1.6522818803787231\n",
            "outscale 0.12954674661159515\n",
            "mean_module -0.3974211812019348\n",
            "noise 4.818987846374512\n"
          ]
        },
        {
          "output_type": "stream",
          "name": "stderr",
          "text": [
            " 21%|██        | 6217/30000 [01:09<04:58, 79.73it/s]"
          ]
        },
        {
          "output_type": "stream",
          "name": "stdout",
          "text": [
            "loss -1.8524740934371948\n",
            "outscale 0.10846606642007828\n",
            "mean_module -0.7047200202941895\n",
            "noise 4.945995807647705\n"
          ]
        },
        {
          "output_type": "stream",
          "name": "stderr",
          "text": [
            " 21%|██        | 6310/30000 [01:10<05:47, 68.23it/s]"
          ]
        },
        {
          "output_type": "stream",
          "name": "stdout",
          "text": [
            "loss -1.9412764310836792\n",
            "outscale 0.09976157546043396\n",
            "mean_module -0.8789413571357727\n",
            "noise 5.062871932983398\n"
          ]
        },
        {
          "output_type": "stream",
          "name": "stderr",
          "text": [
            " 21%|██▏       | 6420/30000 [01:11<03:42, 106.16it/s]"
          ]
        },
        {
          "output_type": "stream",
          "name": "stdout",
          "text": [
            "loss -1.9973840713500977\n",
            "outscale 0.0939430445432663\n",
            "mean_module -0.9985512495040894\n",
            "noise 5.172107696533203\n"
          ]
        },
        {
          "output_type": "stream",
          "name": "stderr",
          "text": [
            " 22%|██▏       | 6515/30000 [01:12<03:36, 108.59it/s]"
          ]
        },
        {
          "output_type": "stream",
          "name": "stdout",
          "text": [
            "loss -2.040004253387451\n",
            "outscale 0.08911553770303726\n",
            "mean_module -1.0897419452667236\n",
            "noise 5.276218891143799\n"
          ]
        },
        {
          "output_type": "stream",
          "name": "stderr",
          "text": [
            " 22%|██▏       | 6622/30000 [01:13<03:35, 108.46it/s]"
          ]
        },
        {
          "output_type": "stream",
          "name": "stdout",
          "text": [
            "loss -2.0751543045043945\n",
            "outscale 0.08496051281690598\n",
            "mean_module -1.1626417636871338\n",
            "noise 5.37654447555542\n"
          ]
        },
        {
          "output_type": "stream",
          "name": "stderr",
          "text": [
            " 22%|██▏       | 6717/30000 [01:14<03:28, 111.62it/s]"
          ]
        },
        {
          "output_type": "stream",
          "name": "stdout",
          "text": [
            "loss -2.105492353439331\n",
            "outscale 0.08140791952610016\n",
            "mean_module -1.2224087715148926\n",
            "noise 5.473931789398193\n"
          ]
        },
        {
          "output_type": "stream",
          "name": "stderr",
          "text": [
            " 23%|██▎       | 6813/30000 [01:15<03:26, 112.07it/s]"
          ]
        },
        {
          "output_type": "stream",
          "name": "stdout",
          "text": [
            "loss -2.1324615478515625\n",
            "outscale 0.07842537015676498\n",
            "mean_module -1.2720863819122314\n",
            "noise 5.568966388702393\n"
          ]
        },
        {
          "output_type": "stream",
          "name": "stderr",
          "text": [
            " 23%|██▎       | 6920/30000 [01:16<03:26, 111.87it/s]"
          ]
        },
        {
          "output_type": "stream",
          "name": "stdout",
          "text": [
            "loss -2.1569576263427734\n",
            "outscale 0.07598273456096649\n",
            "mean_module -1.3136662244796753\n",
            "noise 5.662075996398926\n"
          ]
        },
        {
          "output_type": "stream",
          "name": "stderr",
          "text": [
            " 23%|██▎       | 7016/30000 [01:16<03:25, 111.81it/s]"
          ]
        },
        {
          "output_type": "stream",
          "name": "stdout",
          "text": [
            "loss -2.179584264755249\n",
            "outscale 0.07405047118663788\n",
            "mean_module -1.3485589027404785\n",
            "noise 5.753589153289795\n"
          ]
        },
        {
          "output_type": "stream",
          "name": "stderr",
          "text": [
            " 24%|██▎       | 7120/30000 [01:17<03:31, 108.39it/s]"
          ]
        },
        {
          "output_type": "stream",
          "name": "stdout",
          "text": [
            "loss -2.2007713317871094\n",
            "outscale 0.07260319590568542\n",
            "mean_module -1.3778314590454102\n",
            "noise 5.843764305114746\n"
          ]
        },
        {
          "output_type": "stream",
          "name": "stderr",
          "text": [
            " 24%|██▍       | 7215/30000 [01:18<03:27, 109.91it/s]"
          ]
        },
        {
          "output_type": "stream",
          "name": "stdout",
          "text": [
            "loss -2.220829725265503\n",
            "outscale 0.07162363827228546\n",
            "mean_module -1.4023330211639404\n",
            "noise 5.932808876037598\n"
          ]
        },
        {
          "output_type": "stream",
          "name": "stderr",
          "text": [
            " 24%|██▍       | 7316/30000 [01:19<03:45, 100.40it/s]"
          ]
        },
        {
          "output_type": "stream",
          "name": "stdout",
          "text": [
            "loss -2.2399909496307373\n",
            "outscale 0.07110577821731567\n",
            "mean_module -1.422766089439392\n",
            "noise 6.020890712738037\n"
          ]
        },
        {
          "output_type": "stream",
          "name": "stderr",
          "text": [
            " 25%|██▍       | 7419/30000 [01:20<03:26, 109.17it/s]"
          ]
        },
        {
          "output_type": "stream",
          "name": "stdout",
          "text": [
            "loss -2.258430242538452\n",
            "outscale 0.07105868309736252\n",
            "mean_module -1.4397302865982056\n",
            "noise 6.108144760131836\n"
          ]
        },
        {
          "output_type": "stream",
          "name": "stderr",
          "text": [
            " 25%|██▌       | 7511/30000 [01:21<04:40, 80.27it/s]"
          ]
        },
        {
          "output_type": "stream",
          "name": "stdout",
          "text": [
            "loss -2.2762808799743652\n",
            "outscale 0.07151109725236893\n",
            "mean_module -1.4537463188171387\n",
            "noise 6.1946892738342285\n"
          ]
        },
        {
          "output_type": "stream",
          "name": "stderr",
          "text": [
            " 25%|██▌       | 7612/30000 [01:23<05:26, 68.62it/s]"
          ]
        },
        {
          "output_type": "stream",
          "name": "stdout",
          "text": [
            "loss -2.2936501502990723\n",
            "outscale 0.07251767814159393\n",
            "mean_module -1.4652739763259888\n",
            "noise 6.28061580657959\n"
          ]
        },
        {
          "output_type": "stream",
          "name": "stderr",
          "text": [
            " 26%|██▌       | 7718/30000 [01:24<03:28, 106.90it/s]"
          ]
        },
        {
          "output_type": "stream",
          "name": "stdout",
          "text": [
            "loss -2.31062650680542\n",
            "outscale 0.0741690918803215\n",
            "mean_module -1.4747231006622314\n",
            "noise 6.366003036499023\n"
          ]
        },
        {
          "output_type": "stream",
          "name": "stderr",
          "text": [
            " 26%|██▌       | 7822/30000 [01:25<03:24, 108.59it/s]"
          ]
        },
        {
          "output_type": "stream",
          "name": "stdout",
          "text": [
            "loss -2.3272900581359863\n",
            "outscale 0.07660673558712006\n",
            "mean_module -1.4824601411819458\n",
            "noise 6.450915336608887\n"
          ]
        },
        {
          "output_type": "stream",
          "name": "stderr",
          "text": [
            " 26%|██▋       | 7912/30000 [01:26<03:28, 106.13it/s]"
          ]
        },
        {
          "output_type": "stream",
          "name": "stdout",
          "text": [
            "loss -2.343719959259033\n",
            "outscale 0.08004435151815414\n",
            "mean_module -1.4888169765472412\n",
            "noise 6.535400867462158\n"
          ]
        },
        {
          "output_type": "stream",
          "name": "stderr",
          "text": [
            " 27%|██▋       | 8011/30000 [01:27<03:49, 95.81it/s]"
          ]
        },
        {
          "output_type": "stream",
          "name": "stdout",
          "text": [
            "loss -2.360001802444458\n",
            "outscale 0.08480064570903778\n",
            "mean_module -1.4940946102142334\n",
            "noise 6.61949348449707\n"
          ]
        },
        {
          "output_type": "stream",
          "name": "stderr",
          "text": [
            " 27%|██▋       | 8114/30000 [01:28<03:21, 108.39it/s]"
          ]
        },
        {
          "output_type": "stream",
          "name": "stdout",
          "text": [
            "loss -2.3762338161468506\n",
            "outscale 0.09134282171726227\n",
            "mean_module -1.4985793828964233\n",
            "noise 6.703213214874268\n"
          ]
        },
        {
          "output_type": "stream",
          "name": "stderr",
          "text": [
            " 27%|██▋       | 8217/30000 [01:29<03:30, 103.27it/s]"
          ]
        },
        {
          "output_type": "stream",
          "name": "stdout",
          "text": [
            "loss -2.392534017562866\n",
            "outscale 0.10033983737230301\n",
            "mean_module -1.5025634765625\n",
            "noise 6.786563396453857\n"
          ]
        },
        {
          "output_type": "stream",
          "name": "stderr",
          "text": [
            " 28%|██▊       | 8316/30000 [01:30<03:29, 103.72it/s]"
          ]
        },
        {
          "output_type": "stream",
          "name": "stdout",
          "text": [
            "loss -2.4090206623077393\n",
            "outscale 0.11268268525600433\n",
            "mean_module -1.5063936710357666\n",
            "noise 6.869529724121094\n"
          ]
        },
        {
          "output_type": "stream",
          "name": "stderr",
          "text": [
            " 28%|██▊       | 8420/30000 [01:31<03:23, 106.08it/s]"
          ]
        },
        {
          "output_type": "stream",
          "name": "stdout",
          "text": [
            "loss -2.4257423877716064\n",
            "outscale 0.12932339310646057\n",
            "mean_module -1.5105797052383423\n",
            "noise 6.952077388763428\n"
          ]
        },
        {
          "output_type": "stream",
          "name": "stderr",
          "text": [
            " 28%|██▊       | 8520/30000 [01:32<03:23, 105.42it/s]"
          ]
        },
        {
          "output_type": "stream",
          "name": "stdout",
          "text": [
            "loss -2.4425840377807617\n",
            "outscale 0.15077975392341614\n",
            "mean_module -1.516050100326538\n",
            "noise 7.034163475036621\n"
          ]
        },
        {
          "output_type": "stream",
          "name": "stderr",
          "text": [
            " 29%|██▊       | 8620/30000 [01:33<03:31, 101.19it/s]"
          ]
        },
        {
          "output_type": "stream",
          "name": "stdout",
          "text": [
            "loss -2.4592416286468506\n",
            "outscale 0.17652584612369537\n",
            "mean_module -1.524507761001587\n",
            "noise 7.115753173828125\n"
          ]
        },
        {
          "output_type": "stream",
          "name": "stderr",
          "text": [
            " 29%|██▉       | 8711/30000 [01:34<04:31, 78.35it/s]"
          ]
        },
        {
          "output_type": "stream",
          "name": "stdout",
          "text": [
            "loss -2.4753072261810303\n",
            "outscale 0.20497187972068787\n",
            "mean_module -1.5379475355148315\n",
            "noise 7.196846008300781\n"
          ]
        },
        {
          "output_type": "stream",
          "name": "stderr",
          "text": [
            " 29%|██▉       | 8810/30000 [01:35<04:55, 71.67it/s]"
          ]
        },
        {
          "output_type": "stream",
          "name": "stdout",
          "text": [
            "loss -2.490501880645752\n",
            "outscale 0.2343991994857788\n",
            "mean_module -1.5568517446517944\n",
            "noise 7.277501583099365\n"
          ]
        },
        {
          "output_type": "stream",
          "name": "stderr",
          "text": [
            " 30%|██▉       | 8919/30000 [01:37<03:35, 97.96it/s] "
          ]
        },
        {
          "output_type": "stream",
          "name": "stdout",
          "text": [
            "loss -2.5047755241394043\n",
            "outscale 0.26360589265823364\n",
            "mean_module -1.5797773599624634\n",
            "noise 7.357824325561523\n"
          ]
        },
        {
          "output_type": "stream",
          "name": "stderr",
          "text": [
            " 30%|███       | 9019/30000 [01:38<03:23, 102.96it/s]"
          ]
        },
        {
          "output_type": "stream",
          "name": "stdout",
          "text": [
            "loss -2.518209934234619\n",
            "outscale 0.29177263379096985\n",
            "mean_module -1.6046898365020752\n",
            "noise 7.437938690185547\n"
          ]
        },
        {
          "output_type": "stream",
          "name": "stderr",
          "text": [
            " 30%|███       | 9123/30000 [01:39<03:11, 109.25it/s]"
          ]
        },
        {
          "output_type": "stream",
          "name": "stdout",
          "text": [
            "loss -2.5309298038482666\n",
            "outscale 0.3183126151561737\n",
            "mean_module -1.629841923713684\n",
            "noise 7.5179595947265625\n"
          ]
        },
        {
          "output_type": "stream",
          "name": "stderr",
          "text": [
            " 31%|███       | 9218/30000 [01:39<03:08, 110.32it/s]"
          ]
        },
        {
          "output_type": "stream",
          "name": "stdout",
          "text": [
            "loss -2.5430634021759033\n",
            "outscale 0.3428122401237488\n",
            "mean_module -1.6539839506149292\n",
            "noise 7.597981929779053\n"
          ]
        },
        {
          "output_type": "stream",
          "name": "stderr",
          "text": [
            " 31%|███       | 9324/30000 [01:40<03:00, 114.30it/s]"
          ]
        },
        {
          "output_type": "stream",
          "name": "stdout",
          "text": [
            "loss -2.5547258853912354\n",
            "outscale 0.3649882376194\n",
            "mean_module -1.6763216257095337\n",
            "noise 7.6780877113342285\n"
          ]
        },
        {
          "output_type": "stream",
          "name": "stderr",
          "text": [
            " 31%|███▏      | 9418/30000 [01:41<03:04, 111.51it/s]"
          ]
        },
        {
          "output_type": "stream",
          "name": "stdout",
          "text": [
            "loss -2.5660130977630615\n",
            "outscale 0.3846556544303894\n",
            "mean_module -1.696403980255127\n",
            "noise 7.758340835571289\n"
          ]
        },
        {
          "output_type": "stream",
          "name": "stderr",
          "text": [
            " 32%|███▏      | 9518/30000 [01:42<03:13, 105.89it/s]"
          ]
        },
        {
          "output_type": "stream",
          "name": "stdout",
          "text": [
            "loss -2.5770034790039062\n",
            "outscale 0.4017055928707123\n",
            "mean_module -1.7140172719955444\n",
            "noise 7.838797569274902\n"
          ]
        },
        {
          "output_type": "stream",
          "name": "stderr",
          "text": [
            " 32%|███▏      | 9619/30000 [01:43<03:32, 95.69it/s]"
          ]
        },
        {
          "output_type": "stream",
          "name": "stdout",
          "text": [
            "loss -2.5877578258514404\n",
            "outscale 0.41608986258506775\n",
            "mean_module -1.7290998697280884\n",
            "noise 7.919500350952148\n"
          ]
        },
        {
          "output_type": "stream",
          "name": "stderr",
          "text": [
            " 32%|███▏      | 9719/30000 [01:44<03:09, 106.97it/s]"
          ]
        },
        {
          "output_type": "stream",
          "name": "stdout",
          "text": [
            "loss -2.598323106765747\n",
            "outscale 0.4278104901313782\n",
            "mean_module -1.7416930198669434\n",
            "noise 8.000481605529785\n"
          ]
        },
        {
          "output_type": "stream",
          "name": "stderr",
          "text": [
            " 33%|███▎      | 9818/30000 [01:45<03:39, 92.11it/s]"
          ]
        },
        {
          "output_type": "stream",
          "name": "stdout",
          "text": [
            "loss -2.6087353229522705\n",
            "outscale 0.4369123578071594\n",
            "mean_module -1.7518984079360962\n",
            "noise 8.081765174865723\n"
          ]
        },
        {
          "output_type": "stream",
          "name": "stderr",
          "text": [
            " 33%|███▎      | 9908/30000 [01:46<03:42, 90.10it/s] "
          ]
        },
        {
          "output_type": "stream",
          "name": "stdout",
          "text": [
            "loss -2.619020938873291\n",
            "outscale 0.4434788227081299\n",
            "mean_module -1.7598549127578735\n",
            "noise 8.163376808166504\n"
          ]
        },
        {
          "output_type": "stream",
          "name": "stderr",
          "text": [
            " 33%|███▎      | 10009/30000 [01:48<04:22, 76.06it/s]"
          ]
        },
        {
          "output_type": "stream",
          "name": "stdout",
          "text": [
            "loss -2.629202365875244\n",
            "outscale 0.4476277828216553\n",
            "mean_module -1.765722393989563\n",
            "noise 8.245325088500977\n"
          ]
        },
        {
          "output_type": "stream",
          "name": "stderr",
          "text": [
            " 34%|███▎      | 10112/30000 [01:49<04:49, 68.60it/s]"
          ]
        },
        {
          "output_type": "stream",
          "name": "stdout",
          "text": [
            "loss -2.639293670654297\n",
            "outscale 0.44950971007347107\n",
            "mean_module -1.7696690559387207\n",
            "noise 8.327625274658203\n"
          ]
        },
        {
          "output_type": "stream",
          "name": "stderr",
          "text": [
            " 34%|███▍      | 10212/30000 [01:50<03:09, 104.34it/s]"
          ]
        },
        {
          "output_type": "stream",
          "name": "stdout",
          "text": [
            "loss -2.649306058883667\n",
            "outscale 0.44930243492126465\n",
            "mean_module -1.771867275238037\n",
            "noise 8.41027545928955\n"
          ]
        },
        {
          "output_type": "stream",
          "name": "stderr",
          "text": [
            " 34%|███▍      | 10313/30000 [01:51<03:04, 106.59it/s]"
          ]
        },
        {
          "output_type": "stream",
          "name": "stdout",
          "text": [
            "loss -2.6592493057250977\n",
            "outscale 0.4472072720527649\n",
            "mean_module -1.7724874019622803\n",
            "noise 8.49328327178955\n"
          ]
        },
        {
          "output_type": "stream",
          "name": "stderr",
          "text": [
            " 35%|███▍      | 10415/30000 [01:52<03:22, 96.56it/s] "
          ]
        },
        {
          "output_type": "stream",
          "name": "stdout",
          "text": [
            "loss -2.669128656387329\n",
            "outscale 0.4434430003166199\n",
            "mean_module -1.771697998046875\n",
            "noise 8.576650619506836\n"
          ]
        },
        {
          "output_type": "stream",
          "name": "stderr",
          "text": [
            " 35%|███▌      | 10516/30000 [01:53<03:03, 106.43it/s]"
          ]
        },
        {
          "output_type": "stream",
          "name": "stdout",
          "text": [
            "loss -2.6789474487304688\n",
            "outscale 0.438238263130188\n",
            "mean_module -1.76966392993927\n",
            "noise 8.66036605834961\n"
          ]
        },
        {
          "output_type": "stream",
          "name": "stderr",
          "text": [
            " 35%|███▌      | 10618/30000 [01:54<02:57, 109.50it/s]"
          ]
        },
        {
          "output_type": "stream",
          "name": "stdout",
          "text": [
            "loss -2.688706874847412\n",
            "outscale 0.43182551860809326\n",
            "mean_module -1.7665469646453857\n",
            "noise 8.744426727294922\n"
          ]
        },
        {
          "output_type": "stream",
          "name": "stderr",
          "text": [
            " 36%|███▌      | 10721/30000 [01:55<02:54, 110.43it/s]"
          ]
        },
        {
          "output_type": "stream",
          "name": "stdout",
          "text": [
            "loss -2.69840931892395\n",
            "outscale 0.424433171749115\n",
            "mean_module -1.7625025510787964\n",
            "noise 8.828826904296875\n"
          ]
        },
        {
          "output_type": "stream",
          "name": "stderr",
          "text": [
            " 36%|███▌      | 10813/30000 [01:56<03:00, 106.53it/s]"
          ]
        },
        {
          "output_type": "stream",
          "name": "stdout",
          "text": [
            "loss -2.70805287361145\n",
            "outscale 0.416279137134552\n",
            "mean_module -1.7576806545257568\n",
            "noise 8.913553237915039\n"
          ]
        },
        {
          "output_type": "stream",
          "name": "stderr",
          "text": [
            " 36%|███▋      | 10918/30000 [01:57<02:54, 109.42it/s]"
          ]
        },
        {
          "output_type": "stream",
          "name": "stdout",
          "text": [
            "loss -2.717637538909912\n",
            "outscale 0.40756654739379883\n",
            "mean_module -1.7522238492965698\n",
            "noise 8.998594284057617\n"
          ]
        },
        {
          "output_type": "stream",
          "name": "stderr",
          "text": [
            " 37%|███▋      | 11023/30000 [01:57<02:56, 107.32it/s]"
          ]
        },
        {
          "output_type": "stream",
          "name": "stdout",
          "text": [
            "loss -2.7271616458892822\n",
            "outscale 0.39847928285598755\n",
            "mean_module -1.7462658882141113\n",
            "noise 9.083943367004395\n"
          ]
        },
        {
          "output_type": "stream",
          "name": "stderr",
          "text": [
            " 37%|███▋      | 11118/30000 [01:58<02:50, 110.75it/s]"
          ]
        },
        {
          "output_type": "stream",
          "name": "stdout",
          "text": [
            "loss -2.7366232872009277\n",
            "outscale 0.38917970657348633\n",
            "mean_module -1.7399307489395142\n",
            "noise 9.16958236694336\n"
          ]
        },
        {
          "output_type": "stream",
          "name": "stderr",
          "text": [
            " 37%|███▋      | 11211/30000 [01:59<03:51, 81.08it/s]"
          ]
        },
        {
          "output_type": "stream",
          "name": "stdout",
          "text": [
            "loss -2.7460219860076904\n",
            "outscale 0.3798075020313263\n",
            "mean_module -1.7333310842514038\n",
            "noise 9.255500793457031\n"
          ]
        },
        {
          "output_type": "stream",
          "name": "stderr",
          "text": [
            " 38%|███▊      | 11308/30000 [02:01<03:54, 79.82it/s]"
          ]
        },
        {
          "output_type": "stream",
          "name": "stdout",
          "text": [
            "loss -2.7553555965423584\n",
            "outscale 0.3704797029495239\n",
            "mean_module -1.7265666723251343\n",
            "noise 9.341686248779297\n"
          ]
        },
        {
          "output_type": "stream",
          "name": "stderr",
          "text": [
            " 38%|███▊      | 11414/30000 [02:02<03:57, 78.33it/s]"
          ]
        },
        {
          "output_type": "stream",
          "name": "stdout",
          "text": [
            "loss -2.7646219730377197\n",
            "outscale 0.3612912893295288\n",
            "mean_module -1.7197246551513672\n",
            "noise 9.42811393737793\n"
          ]
        },
        {
          "output_type": "stream",
          "name": "stderr",
          "text": [
            " 38%|███▊      | 11517/30000 [02:03<02:49, 108.84it/s]"
          ]
        },
        {
          "output_type": "stream",
          "name": "stdout",
          "text": [
            "loss -2.7738208770751953\n",
            "outscale 0.35231685638427734\n",
            "mean_module -1.7128808498382568\n",
            "noise 9.514784812927246\n"
          ]
        },
        {
          "output_type": "stream",
          "name": "stderr",
          "text": [
            " 39%|███▊      | 11619/30000 [02:04<02:51, 106.91it/s]"
          ]
        },
        {
          "output_type": "stream",
          "name": "stdout",
          "text": [
            "loss -2.7829506397247314\n",
            "outscale 0.3436126708984375\n",
            "mean_module -1.706096887588501\n",
            "noise 9.60167407989502\n"
          ]
        },
        {
          "output_type": "stream",
          "name": "stderr",
          "text": [
            " 39%|███▉      | 11710/30000 [02:05<02:53, 105.70it/s]"
          ]
        },
        {
          "output_type": "stream",
          "name": "stdout",
          "text": [
            "loss -2.792010545730591\n",
            "outscale 0.335218608379364\n",
            "mean_module -1.6994224786758423\n",
            "noise 9.68877124786377\n"
          ]
        },
        {
          "output_type": "stream",
          "name": "stderr",
          "text": [
            " 39%|███▉      | 11812/30000 [02:06<02:50, 106.76it/s]"
          ]
        },
        {
          "output_type": "stream",
          "name": "stdout",
          "text": [
            "loss -2.800999879837036\n",
            "outscale 0.3271603584289551\n",
            "mean_module -1.6928973197937012\n",
            "noise 9.776067733764648\n"
          ]
        },
        {
          "output_type": "stream",
          "name": "stderr",
          "text": [
            " 40%|███▉      | 11919/30000 [02:07<02:49, 106.84it/s]"
          ]
        },
        {
          "output_type": "stream",
          "name": "stdout",
          "text": [
            "loss -2.809918165206909\n",
            "outscale 0.31945204734802246\n",
            "mean_module -1.6865507364273071\n",
            "noise 9.863550186157227\n"
          ]
        },
        {
          "output_type": "stream",
          "name": "stderr",
          "text": [
            " 40%|████      | 12020/30000 [02:08<02:58, 100.84it/s]"
          ]
        },
        {
          "output_type": "stream",
          "name": "stdout",
          "text": [
            "loss -2.8187649250030518\n",
            "outscale 0.31209826469421387\n",
            "mean_module -1.6804022789001465\n",
            "noise 9.95120620727539\n"
          ]
        },
        {
          "output_type": "stream",
          "name": "stderr",
          "text": [
            " 40%|████      | 12112/30000 [02:09<04:25, 67.41it/s]"
          ]
        },
        {
          "output_type": "stream",
          "name": "stdout",
          "text": [
            "loss -2.8275399208068848\n",
            "outscale 0.3050961494445801\n",
            "mean_module -1.6744651794433594\n",
            "noise 10.039021492004395\n"
          ]
        },
        {
          "output_type": "stream",
          "name": "stderr",
          "text": [
            " 41%|████      | 12207/30000 [02:10<04:32, 65.19it/s]"
          ]
        },
        {
          "output_type": "stream",
          "name": "stdout",
          "text": [
            "loss -2.8362433910369873\n",
            "outscale 0.2984371483325958\n",
            "mean_module -1.668745756149292\n",
            "noise 10.126993179321289\n"
          ]
        },
        {
          "output_type": "stream",
          "name": "stderr",
          "text": [
            " 41%|████      | 12316/30000 [02:11<02:51, 103.32it/s]"
          ]
        },
        {
          "output_type": "stream",
          "name": "stdout",
          "text": [
            "loss -2.8448750972747803\n",
            "outscale 0.2921087145805359\n",
            "mean_module -1.663245677947998\n",
            "noise 10.215108871459961\n"
          ]
        },
        {
          "output_type": "stream",
          "name": "stderr",
          "text": [
            " 41%|████▏     | 12414/30000 [02:13<03:47, 77.27it/s]"
          ]
        },
        {
          "output_type": "stream",
          "name": "stdout",
          "text": [
            "loss -2.853435754776001\n",
            "outscale 0.28609538078308105\n",
            "mean_module -1.6579625606536865\n",
            "noise 10.303363800048828\n"
          ]
        },
        {
          "output_type": "stream",
          "name": "stderr",
          "text": [
            " 42%|████▏     | 12514/30000 [02:14<04:11, 69.54it/s]"
          ]
        },
        {
          "output_type": "stream",
          "name": "stdout",
          "text": [
            "loss -2.8619253635406494\n",
            "outscale 0.2803802788257599\n",
            "mean_module -1.6528910398483276\n",
            "noise 10.391738891601562\n"
          ]
        },
        {
          "output_type": "stream",
          "name": "stderr",
          "text": [
            " 42%|████▏     | 12621/30000 [02:15<02:52, 100.99it/s]"
          ]
        },
        {
          "output_type": "stream",
          "name": "stdout",
          "text": [
            "loss -2.8703439235687256\n",
            "outscale 0.2749457359313965\n",
            "mean_module -1.648024082183838\n",
            "noise 10.480247497558594\n"
          ]
        },
        {
          "output_type": "stream",
          "name": "stderr",
          "text": [
            " 42%|████▏     | 12712/30000 [02:16<02:40, 107.69it/s]"
          ]
        },
        {
          "output_type": "stream",
          "name": "stdout",
          "text": [
            "loss -2.8786938190460205\n",
            "outscale 0.2697736322879791\n",
            "mean_module -1.6433522701263428\n",
            "noise 10.56887149810791\n"
          ]
        },
        {
          "output_type": "stream",
          "name": "stderr",
          "text": [
            " 43%|████▎     | 12814/30000 [02:17<02:42, 105.82it/s]"
          ]
        },
        {
          "output_type": "stream",
          "name": "stdout",
          "text": [
            "loss -2.886972188949585\n",
            "outscale 0.26484671235084534\n",
            "mean_module -1.6388672590255737\n",
            "noise 10.657605171203613\n"
          ]
        },
        {
          "output_type": "stream",
          "name": "stderr",
          "text": [
            " 43%|████▎     | 12916/30000 [02:18<02:39, 106.94it/s]"
          ]
        },
        {
          "output_type": "stream",
          "name": "stdout",
          "text": [
            "loss -2.8951821327209473\n",
            "outscale 0.26014792919158936\n",
            "mean_module -1.6345592737197876\n",
            "noise 10.746443748474121\n"
          ]
        },
        {
          "output_type": "stream",
          "name": "stderr",
          "text": [
            " 43%|████▎     | 13018/30000 [02:19<02:41, 105.13it/s]"
          ]
        },
        {
          "output_type": "stream",
          "name": "stdout",
          "text": [
            "loss -2.9033236503601074\n",
            "outscale 0.2556615471839905\n",
            "mean_module -1.630418300628662\n",
            "noise 10.835383415222168\n"
          ]
        },
        {
          "output_type": "stream",
          "name": "stderr",
          "text": [
            " 44%|████▎     | 13113/30000 [02:20<02:33, 109.81it/s]"
          ]
        },
        {
          "output_type": "stream",
          "name": "stdout",
          "text": [
            "loss -2.9113972187042236\n",
            "outscale 0.2513728141784668\n",
            "mean_module -1.6264355182647705\n",
            "noise 10.924421310424805\n"
          ]
        },
        {
          "output_type": "stream",
          "name": "stderr",
          "text": [
            " 44%|████▍     | 13218/30000 [02:21<02:31, 110.90it/s]"
          ]
        },
        {
          "output_type": "stream",
          "name": "stdout",
          "text": [
            "loss -2.919403314590454\n",
            "outscale 0.24726775288581848\n",
            "mean_module -1.6226019859313965\n",
            "noise 11.013554573059082\n"
          ]
        },
        {
          "output_type": "stream",
          "name": "stderr",
          "text": [
            " 44%|████▍     | 13319/30000 [02:22<02:39, 104.47it/s]"
          ]
        },
        {
          "output_type": "stream",
          "name": "stdout",
          "text": [
            "loss -2.9273438453674316\n",
            "outscale 0.24333368241786957\n",
            "mean_module -1.618909239768982\n",
            "noise 11.102779388427734\n"
          ]
        },
        {
          "output_type": "stream",
          "name": "stderr",
          "text": [
            " 45%|████▍     | 13416/30000 [02:23<02:44, 100.61it/s]"
          ]
        },
        {
          "output_type": "stream",
          "name": "stdout",
          "text": [
            "loss -2.935218095779419\n",
            "outscale 0.2395588606595993\n",
            "mean_module -1.615349292755127\n",
            "noise 11.192091941833496\n"
          ]
        },
        {
          "output_type": "stream",
          "name": "stderr",
          "text": [
            " 45%|████▌     | 13517/30000 [02:24<03:03, 90.01it/s]"
          ]
        },
        {
          "output_type": "stream",
          "name": "stdout",
          "text": [
            "loss -2.9430270195007324\n",
            "outscale 0.2359325885772705\n",
            "mean_module -1.6119149923324585\n",
            "noise 11.281489372253418\n"
          ]
        },
        {
          "output_type": "stream",
          "name": "stderr",
          "text": [
            " 45%|████▌     | 13610/30000 [02:25<03:10, 86.25it/s]"
          ]
        },
        {
          "output_type": "stream",
          "name": "stdout",
          "text": [
            "loss -2.9507715702056885\n",
            "outscale 0.23244492709636688\n",
            "mean_module -1.6085991859436035\n",
            "noise 11.37096881866455\n"
          ]
        },
        {
          "output_type": "stream",
          "name": "stderr",
          "text": [
            " 46%|████▌     | 13709/30000 [02:26<03:33, 76.25it/s]"
          ]
        },
        {
          "output_type": "stream",
          "name": "stdout",
          "text": [
            "loss -2.9584522247314453\n",
            "outscale 0.229086771607399\n",
            "mean_module -1.605396032333374\n",
            "noise 11.460525512695312\n"
          ]
        },
        {
          "output_type": "stream",
          "name": "stderr",
          "text": [
            " 46%|████▌     | 13815/30000 [02:28<03:39, 73.77it/s]"
          ]
        },
        {
          "output_type": "stream",
          "name": "stdout",
          "text": [
            "loss -2.9660720825195312\n",
            "outscale 0.22584986686706543\n",
            "mean_module -1.6022993326187134\n",
            "noise 11.550169944763184\n"
          ]
        },
        {
          "output_type": "stream",
          "name": "stderr",
          "text": [
            " 46%|████▋     | 13918/30000 [02:29<02:36, 102.90it/s]"
          ]
        },
        {
          "output_type": "stream",
          "name": "stdout",
          "text": [
            "loss -2.973628520965576\n",
            "outscale 0.22272653877735138\n",
            "mean_module -1.5993038415908813\n",
            "noise 11.639897346496582\n"
          ]
        },
        {
          "output_type": "stream",
          "name": "stderr",
          "text": [
            " 47%|████▋     | 14012/30000 [02:30<02:39, 100.18it/s]"
          ]
        },
        {
          "output_type": "stream",
          "name": "stdout",
          "text": [
            "loss -2.9811251163482666\n",
            "outscale 0.21970966458320618\n",
            "mean_module -1.5964040756225586\n",
            "noise 11.729696273803711\n"
          ]
        },
        {
          "output_type": "stream",
          "name": "stderr",
          "text": [
            " 47%|████▋     | 14113/30000 [02:31<02:33, 103.49it/s]"
          ]
        },
        {
          "output_type": "stream",
          "name": "stdout",
          "text": [
            "loss -2.9885599613189697\n",
            "outscale 0.2167927324771881\n",
            "mean_module -1.5935956239700317\n",
            "noise 11.819565773010254\n"
          ]
        },
        {
          "output_type": "stream",
          "name": "stderr",
          "text": [
            " 47%|████▋     | 14214/30000 [02:32<02:27, 106.69it/s]"
          ]
        },
        {
          "output_type": "stream",
          "name": "stdout",
          "text": [
            "loss -2.9959349632263184\n",
            "outscale 0.21396952867507935\n",
            "mean_module -1.5908734798431396\n",
            "noise 11.909501075744629\n"
          ]
        },
        {
          "output_type": "stream",
          "name": "stderr",
          "text": [
            " 48%|████▊     | 14318/30000 [02:33<02:26, 107.09it/s]"
          ]
        },
        {
          "output_type": "stream",
          "name": "stdout",
          "text": [
            "loss -3.003253221511841\n",
            "outscale 0.21123459935188293\n",
            "mean_module -1.588234305381775\n",
            "noise 11.999526977539062\n"
          ]
        },
        {
          "output_type": "stream",
          "name": "stderr",
          "text": [
            " 48%|████▊     | 14421/30000 [02:34<02:25, 107.04it/s]"
          ]
        },
        {
          "output_type": "stream",
          "name": "stdout",
          "text": [
            "loss -3.010512351989746\n",
            "outscale 0.20858293771743774\n",
            "mean_module -1.5856738090515137\n",
            "noise 12.089621543884277\n"
          ]
        },
        {
          "output_type": "stream",
          "name": "stderr",
          "text": [
            " 48%|████▊     | 14514/30000 [02:34<02:17, 112.53it/s]"
          ]
        },
        {
          "output_type": "stream",
          "name": "stdout",
          "text": [
            "loss -3.017714023590088\n",
            "outscale 0.20600944757461548\n",
            "mean_module -1.5831882953643799\n",
            "noise 12.179777145385742\n"
          ]
        },
        {
          "output_type": "stream",
          "name": "stderr",
          "text": [
            " 49%|████▊     | 14621/30000 [02:35<02:18, 111.04it/s]"
          ]
        },
        {
          "output_type": "stream",
          "name": "stdout",
          "text": [
            "loss -3.0248587131500244\n",
            "outscale 0.2035095989704132\n",
            "mean_module -1.5807745456695557\n",
            "noise 12.269994735717773\n"
          ]
        },
        {
          "output_type": "stream",
          "name": "stderr",
          "text": [
            " 49%|████▉     | 14713/30000 [02:36<02:19, 109.54it/s]"
          ]
        },
        {
          "output_type": "stream",
          "name": "stdout",
          "text": [
            "loss -3.031949520111084\n",
            "outscale 0.2010793685913086\n",
            "mean_module -1.5784296989440918\n",
            "noise 12.360304832458496\n"
          ]
        },
        {
          "output_type": "stream",
          "name": "stderr",
          "text": [
            " 49%|████▉     | 14816/30000 [02:37<02:20, 107.89it/s]"
          ]
        },
        {
          "output_type": "stream",
          "name": "stdout",
          "text": [
            "loss -3.0389842987060547\n",
            "outscale 0.19871483743190765\n",
            "mean_module -1.5761500597000122\n",
            "noise 12.45067024230957\n"
          ]
        },
        {
          "output_type": "stream",
          "name": "stderr",
          "text": [
            " 50%|████▉     | 14910/30000 [02:38<03:01, 82.92it/s]"
          ]
        },
        {
          "output_type": "stream",
          "name": "stdout",
          "text": [
            "loss -3.045963764190674\n",
            "outscale 0.19641220569610596\n",
            "mean_module -1.5739333629608154\n",
            "noise 12.541090965270996\n"
          ]
        },
        {
          "output_type": "stream",
          "name": "stderr",
          "text": [
            " 50%|█████     | 15015/30000 [02:40<03:19, 75.05it/s]"
          ]
        },
        {
          "output_type": "stream",
          "name": "stdout",
          "text": [
            "loss -3.052891254425049\n",
            "outscale 0.19416792690753937\n",
            "mean_module -1.5717765092849731\n",
            "noise 12.631593704223633\n"
          ]
        },
        {
          "output_type": "stream",
          "name": "stderr",
          "text": [
            " 50%|█████     | 15119/30000 [02:41<02:44, 90.45it/s]"
          ]
        },
        {
          "output_type": "stream",
          "name": "stdout",
          "text": [
            "loss -3.059765338897705\n",
            "outscale 0.19197909533977509\n",
            "mean_module -1.5696778297424316\n",
            "noise 12.722161293029785\n"
          ]
        },
        {
          "output_type": "stream",
          "name": "stderr",
          "text": [
            " 51%|█████     | 15220/30000 [02:42<02:20, 105.32it/s]"
          ]
        },
        {
          "output_type": "stream",
          "name": "stdout",
          "text": [
            "loss -3.066586494445801\n",
            "outscale 0.18984244763851166\n",
            "mean_module -1.5676343441009521\n",
            "noise 12.81277847290039\n"
          ]
        },
        {
          "output_type": "stream",
          "name": "stderr",
          "text": [
            " 51%|█████     | 15311/30000 [02:43<02:18, 105.94it/s]"
          ]
        },
        {
          "output_type": "stream",
          "name": "stdout",
          "text": [
            "loss -3.073357105255127\n",
            "outscale 0.18775498867034912\n",
            "mean_module -1.5656436681747437\n",
            "noise 12.903472900390625\n"
          ]
        },
        {
          "output_type": "stream",
          "name": "stderr",
          "text": [
            " 51%|█████▏    | 15412/30000 [02:44<02:17, 105.85it/s]"
          ]
        },
        {
          "output_type": "stream",
          "name": "stdout",
          "text": [
            "loss -3.0800766944885254\n",
            "outscale 0.1857142150402069\n",
            "mean_module -1.5637038946151733\n",
            "noise 12.994232177734375\n"
          ]
        },
        {
          "output_type": "stream",
          "name": "stderr",
          "text": [
            " 52%|█████▏    | 15514/30000 [02:45<02:15, 107.19it/s]"
          ]
        },
        {
          "output_type": "stream",
          "name": "stdout",
          "text": [
            "loss -3.0867457389831543\n",
            "outscale 0.18371747434139252\n",
            "mean_module -1.561813235282898\n",
            "noise 13.085037231445312\n"
          ]
        },
        {
          "output_type": "stream",
          "name": "stderr",
          "text": [
            " 52%|█████▏    | 15618/30000 [02:46<02:11, 109.50it/s]"
          ]
        },
        {
          "output_type": "stream",
          "name": "stdout",
          "text": [
            "loss -3.0933661460876465\n",
            "outscale 0.18176217377185822\n",
            "mean_module -1.5599700212478638\n",
            "noise 13.175922393798828\n"
          ]
        },
        {
          "output_type": "stream",
          "name": "stderr",
          "text": [
            " 52%|█████▏    | 15711/30000 [02:47<02:10, 109.68it/s]"
          ]
        },
        {
          "output_type": "stream",
          "name": "stdout",
          "text": [
            "loss -3.0999372005462646\n",
            "outscale 0.1798461377620697\n",
            "mean_module -1.5581722259521484\n",
            "noise 13.266865730285645\n"
          ]
        },
        {
          "output_type": "stream",
          "name": "stderr",
          "text": [
            " 53%|█████▎    | 15812/30000 [02:47<02:13, 105.98it/s]"
          ]
        },
        {
          "output_type": "stream",
          "name": "stdout",
          "text": [
            "loss -3.106459379196167\n",
            "outscale 0.1779671162366867\n",
            "mean_module -1.5564173460006714\n",
            "noise 13.357850074768066\n"
          ]
        },
        {
          "output_type": "stream",
          "name": "stderr",
          "text": [
            " 53%|█████▎    | 15915/30000 [02:48<02:09, 108.40it/s]"
          ]
        },
        {
          "output_type": "stream",
          "name": "stdout",
          "text": [
            "loss -3.11293625831604\n",
            "outscale 0.17612287402153015\n",
            "mean_module -1.5547051429748535\n",
            "noise 13.448925971984863\n"
          ]
        },
        {
          "output_type": "stream",
          "name": "stderr",
          "text": [
            " 53%|█████▎    | 16014/30000 [02:49<02:14, 103.97it/s]"
          ]
        },
        {
          "output_type": "stream",
          "name": "stdout",
          "text": [
            "loss -3.1193645000457764\n",
            "outscale 0.17431163787841797\n",
            "mean_module -1.5530328750610352\n",
            "noise 13.540043830871582\n"
          ]
        },
        {
          "output_type": "stream",
          "name": "stderr",
          "text": [
            " 54%|█████▎    | 16113/30000 [02:50<02:22, 97.15it/s]"
          ]
        },
        {
          "output_type": "stream",
          "name": "stdout",
          "text": [
            "loss -3.125746488571167\n",
            "outscale 0.17253097891807556\n",
            "mean_module -1.551400065422058\n",
            "noise 13.63121509552002\n"
          ]
        },
        {
          "output_type": "stream",
          "name": "stderr",
          "text": [
            " 54%|█████▍    | 16212/30000 [02:52<02:53, 79.37it/s]"
          ]
        },
        {
          "output_type": "stream",
          "name": "stdout",
          "text": [
            "loss -3.1320841312408447\n",
            "outscale 0.17077931761741638\n",
            "mean_module -1.5498051643371582\n",
            "noise 13.722465515136719\n"
          ]
        },
        {
          "output_type": "stream",
          "name": "stderr",
          "text": [
            " 54%|█████▍    | 16313/30000 [02:53<03:20, 68.34it/s]"
          ]
        },
        {
          "output_type": "stream",
          "name": "stdout",
          "text": [
            "loss -3.1383743286132812\n",
            "outscale 0.16905498504638672\n",
            "mean_module -1.548246145248413\n",
            "noise 13.813750267028809\n"
          ]
        },
        {
          "output_type": "stream",
          "name": "stderr",
          "text": [
            " 55%|█████▍    | 16417/30000 [02:54<02:14, 101.02it/s]"
          ]
        },
        {
          "output_type": "stream",
          "name": "stdout",
          "text": [
            "loss -3.144622325897217\n",
            "outscale 0.1673557609319687\n",
            "mean_module -1.5467222929000854\n",
            "noise 13.905112266540527\n"
          ]
        },
        {
          "output_type": "stream",
          "name": "stderr",
          "text": [
            " 55%|█████▌    | 16518/30000 [02:55<02:08, 105.07it/s]"
          ]
        },
        {
          "output_type": "stream",
          "name": "stdout",
          "text": [
            "loss -3.150824785232544\n",
            "outscale 0.16568034887313843\n",
            "mean_module -1.5452326536178589\n",
            "noise 13.9965238571167\n"
          ]
        },
        {
          "output_type": "stream",
          "name": "stderr",
          "text": [
            " 55%|█████▌    | 16612/30000 [02:56<02:35, 86.17it/s] "
          ]
        },
        {
          "output_type": "stream",
          "name": "stdout",
          "text": [
            "loss -3.156984567642212\n",
            "outscale 0.16402661800384521\n",
            "mean_module -1.5437755584716797\n",
            "noise 14.087981224060059\n"
          ]
        },
        {
          "output_type": "stream",
          "name": "stderr",
          "text": [
            " 56%|█████▌    | 16719/30000 [02:58<02:10, 102.00it/s]"
          ]
        },
        {
          "output_type": "stream",
          "name": "stdout",
          "text": [
            "loss -3.1631019115448\n",
            "outscale 0.16239327192306519\n",
            "mean_module -1.5423502922058105\n",
            "noise 14.17951774597168\n"
          ]
        },
        {
          "output_type": "stream",
          "name": "stderr",
          "text": [
            " 56%|█████▌    | 16823/30000 [02:59<02:01, 108.89it/s]"
          ]
        },
        {
          "output_type": "stream",
          "name": "stdout",
          "text": [
            "loss -3.169175386428833\n",
            "outscale 0.16077867150306702\n",
            "mean_module -1.5409551858901978\n",
            "noise 14.27108097076416\n"
          ]
        },
        {
          "output_type": "stream",
          "name": "stderr",
          "text": [
            " 56%|█████▋    | 16916/30000 [02:59<02:02, 107.03it/s]"
          ]
        },
        {
          "output_type": "stream",
          "name": "stdout",
          "text": [
            "loss -3.1752090454101562\n",
            "outscale 0.1591806411743164\n",
            "mean_module -1.539589524269104\n",
            "noise 14.3627290725708\n"
          ]
        },
        {
          "output_type": "stream",
          "name": "stderr",
          "text": [
            " 57%|█████▋    | 17021/30000 [03:00<02:02, 106.13it/s]"
          ]
        },
        {
          "output_type": "stream",
          "name": "stdout",
          "text": [
            "loss -3.1812000274658203\n",
            "outscale 0.15759842097759247\n",
            "mean_module -1.5382529497146606\n",
            "noise 14.454412460327148\n"
          ]
        },
        {
          "output_type": "stream",
          "name": "stderr",
          "text": [
            " 57%|█████▋    | 17122/30000 [03:01<01:58, 108.34it/s]"
          ]
        },
        {
          "output_type": "stream",
          "name": "stdout",
          "text": [
            "loss -3.187150716781616\n",
            "outscale 0.15602938830852509\n",
            "mean_module -1.5369431972503662\n",
            "noise 14.54615592956543\n"
          ]
        },
        {
          "output_type": "stream",
          "name": "stderr",
          "text": [
            " 57%|█████▋    | 17213/30000 [03:02<02:00, 106.51it/s]"
          ]
        },
        {
          "output_type": "stream",
          "name": "stdout",
          "text": [
            "loss -3.193061351776123\n",
            "outscale 0.15447282791137695\n",
            "mean_module -1.535660743713379\n",
            "noise 14.637955665588379\n"
          ]
        },
        {
          "output_type": "stream",
          "name": "stderr",
          "text": [
            " 58%|█████▊    | 17317/30000 [03:03<01:55, 109.34it/s]"
          ]
        },
        {
          "output_type": "stream",
          "name": "stdout",
          "text": [
            "loss -3.1989316940307617\n",
            "outscale 0.15292654931545258\n",
            "mean_module -1.5344041585922241\n",
            "noise 14.729793548583984\n"
          ]
        },
        {
          "output_type": "stream",
          "name": "stderr",
          "text": [
            " 58%|█████▊    | 17412/30000 [03:04<02:35, 81.05it/s]"
          ]
        },
        {
          "output_type": "stream",
          "name": "stdout",
          "text": [
            "loss -3.204763412475586\n",
            "outscale 0.15138903260231018\n",
            "mean_module -1.5331721305847168\n",
            "noise 14.821707725524902\n"
          ]
        },
        {
          "output_type": "stream",
          "name": "stderr",
          "text": [
            " 58%|█████▊    | 17514/30000 [03:06<02:47, 74.49it/s]"
          ]
        },
        {
          "output_type": "stream",
          "name": "stdout",
          "text": [
            "loss -3.2105555534362793\n",
            "outscale 0.1498585045337677\n",
            "mean_module -1.531964659690857\n",
            "noise 14.913641929626465\n"
          ]
        },
        {
          "output_type": "stream",
          "name": "stderr",
          "text": [
            " 59%|█████▊    | 17617/30000 [03:07<02:19, 88.64it/s]"
          ]
        },
        {
          "output_type": "stream",
          "name": "stdout",
          "text": [
            "loss -3.216310739517212\n",
            "outscale 0.14833305776119232\n",
            "mean_module -1.5307804346084595\n",
            "noise 15.005667686462402\n"
          ]
        },
        {
          "output_type": "stream",
          "name": "stderr",
          "text": [
            " 59%|█████▉    | 17718/30000 [03:08<01:55, 106.34it/s]"
          ]
        },
        {
          "output_type": "stream",
          "name": "stdout",
          "text": [
            "loss -3.2220261096954346\n",
            "outscale 0.1468110978603363\n",
            "mean_module -1.5296186208724976\n",
            "noise 15.09770679473877\n"
          ]
        },
        {
          "output_type": "stream",
          "name": "stderr",
          "text": [
            " 59%|█████▉    | 17812/30000 [03:09<01:54, 106.55it/s]"
          ]
        },
        {
          "output_type": "stream",
          "name": "stdout",
          "text": [
            "loss -3.227705955505371\n",
            "outscale 0.14529021084308624\n",
            "mean_module -1.5284783840179443\n",
            "noise 15.189831733703613\n"
          ]
        },
        {
          "output_type": "stream",
          "name": "stderr",
          "text": [
            " 60%|█████▉    | 17917/30000 [03:10<01:56, 103.66it/s]"
          ]
        },
        {
          "output_type": "stream",
          "name": "stdout",
          "text": [
            "loss -3.2333481311798096\n",
            "outscale 0.1437690258026123\n",
            "mean_module -1.5273593664169312\n",
            "noise 15.281975746154785\n"
          ]
        },
        {
          "output_type": "stream",
          "name": "stderr",
          "text": [
            " 60%|██████    | 18021/30000 [03:11<01:53, 105.68it/s]"
          ]
        },
        {
          "output_type": "stream",
          "name": "stdout",
          "text": [
            "loss -3.2389540672302246\n",
            "outscale 0.1422443985939026\n",
            "mean_module -1.526260495185852\n",
            "noise 15.37419605255127\n"
          ]
        },
        {
          "output_type": "stream",
          "name": "stderr",
          "text": [
            " 60%|██████    | 18115/30000 [03:12<01:47, 110.22it/s]"
          ]
        },
        {
          "output_type": "stream",
          "name": "stdout",
          "text": [
            "loss -3.244523763656616\n",
            "outscale 0.14071498811244965\n",
            "mean_module -1.5251812934875488\n",
            "noise 15.466443061828613\n"
          ]
        },
        {
          "output_type": "stream",
          "name": "stderr",
          "text": [
            " 61%|██████    | 18218/30000 [03:13<01:48, 108.55it/s]"
          ]
        },
        {
          "output_type": "stream",
          "name": "stdout",
          "text": [
            "loss -3.25005841255188\n",
            "outscale 0.13917715847492218\n",
            "mean_module -1.5241206884384155\n",
            "noise 15.558758735656738\n"
          ]
        },
        {
          "output_type": "stream",
          "name": "stderr",
          "text": [
            " 61%|██████    | 18323/30000 [03:14<01:45, 110.55it/s]"
          ]
        },
        {
          "output_type": "stream",
          "name": "stdout",
          "text": [
            "loss -3.255556344985962\n",
            "outscale 0.13762922585010529\n",
            "mean_module -1.523078203201294\n",
            "noise 15.651104927062988\n"
          ]
        },
        {
          "output_type": "stream",
          "name": "stderr",
          "text": [
            " 61%|██████▏   | 18414/30000 [03:14<01:47, 107.79it/s]"
          ]
        },
        {
          "output_type": "stream",
          "name": "stdout",
          "text": [
            "loss -3.2610208988189697\n",
            "outscale 0.13606689870357513\n",
            "mean_module -1.5220526456832886\n",
            "noise 15.743515968322754\n"
          ]
        },
        {
          "output_type": "stream",
          "name": "stderr",
          "text": [
            " 62%|██████▏   | 18516/30000 [03:15<01:46, 108.25it/s]"
          ]
        },
        {
          "output_type": "stream",
          "name": "stdout",
          "text": [
            "loss -3.2664499282836914\n",
            "outscale 0.13448789715766907\n",
            "mean_module -1.5210437774658203\n",
            "noise 15.835958480834961\n"
          ]
        },
        {
          "output_type": "stream",
          "name": "stderr",
          "text": [
            " 62%|██████▏   | 18618/30000 [03:16<01:44, 108.80it/s]"
          ]
        },
        {
          "output_type": "stream",
          "name": "stdout",
          "text": [
            "loss -3.2718467712402344\n",
            "outscale 0.13288728892803192\n",
            "mean_module -1.5200501680374146\n",
            "noise 15.928464889526367\n"
          ]
        },
        {
          "output_type": "stream",
          "name": "stderr",
          "text": [
            " 62%|██████▏   | 18712/30000 [03:17<02:20, 80.57it/s]"
          ]
        },
        {
          "output_type": "stream",
          "name": "stdout",
          "text": [
            "loss -3.277207136154175\n",
            "outscale 0.13126182556152344\n",
            "mean_module -1.5190719366073608\n",
            "noise 16.020977020263672\n"
          ]
        },
        {
          "output_type": "stream",
          "name": "stderr",
          "text": [
            " 63%|██████▎   | 18807/30000 [03:19<02:32, 73.39it/s]"
          ]
        },
        {
          "output_type": "stream",
          "name": "stdout",
          "text": [
            "loss -3.28253436088562\n",
            "outscale 0.12960661947727203\n",
            "mean_module -1.5181076526641846\n",
            "noise 16.113536834716797\n"
          ]
        },
        {
          "output_type": "stream",
          "name": "stderr",
          "text": [
            " 63%|██████▎   | 18917/30000 [03:20<01:59, 92.81it/s]"
          ]
        },
        {
          "output_type": "stream",
          "name": "stdout",
          "text": [
            "loss -3.2878336906433105\n",
            "outscale 0.12791310250759125\n",
            "mean_module -1.517155647277832\n",
            "noise 16.206233978271484\n"
          ]
        },
        {
          "output_type": "stream",
          "name": "stderr",
          "text": [
            " 63%|██████▎   | 19020/30000 [03:21<01:41, 107.72it/s]"
          ]
        },
        {
          "output_type": "stream",
          "name": "stdout",
          "text": [
            "loss -3.293097972869873\n",
            "outscale 0.12617707252502441\n",
            "mean_module -1.516215205192566\n",
            "noise 16.298931121826172\n"
          ]
        },
        {
          "output_type": "stream",
          "name": "stderr",
          "text": [
            " 64%|██████▎   | 19122/30000 [03:22<01:39, 109.29it/s]"
          ]
        },
        {
          "output_type": "stream",
          "name": "stdout",
          "text": [
            "loss -3.2983288764953613\n",
            "outscale 0.12439076602458954\n",
            "mean_module -1.5152862071990967\n",
            "noise 16.39162826538086\n"
          ]
        },
        {
          "output_type": "stream",
          "name": "stderr",
          "text": [
            " 64%|██████▍   | 19212/30000 [03:23<01:40, 107.20it/s]"
          ]
        },
        {
          "output_type": "stream",
          "name": "stdout",
          "text": [
            "loss -3.303525686264038\n",
            "outscale 0.12254481017589569\n",
            "mean_module -1.5143669843673706\n",
            "noise 16.484342575073242\n"
          ]
        },
        {
          "output_type": "stream",
          "name": "stderr",
          "text": [
            " 64%|██████▍   | 19312/30000 [03:24<01:39, 107.47it/s]"
          ]
        },
        {
          "output_type": "stream",
          "name": "stdout",
          "text": [
            "loss -3.3086986541748047\n",
            "outscale 0.12062487751245499\n",
            "mean_module -1.5134549140930176\n",
            "noise 16.57723045349121\n"
          ]
        },
        {
          "output_type": "stream",
          "name": "stderr",
          "text": [
            " 65%|██████▍   | 19415/30000 [03:25<01:40, 105.30it/s]"
          ]
        },
        {
          "output_type": "stream",
          "name": "stdout",
          "text": [
            "loss -3.313838005065918\n",
            "outscale 0.11861821264028549\n",
            "mean_module -1.512548565864563\n",
            "noise 16.67011833190918\n"
          ]
        },
        {
          "output_type": "stream",
          "name": "stderr",
          "text": [
            " 65%|██████▌   | 19517/30000 [03:26<01:36, 108.32it/s]"
          ]
        },
        {
          "output_type": "stream",
          "name": "stdout",
          "text": [
            "loss -3.3189446926116943\n",
            "outscale 0.1165081337094307\n",
            "mean_module -1.5116467475891113\n",
            "noise 16.76300621032715\n"
          ]
        },
        {
          "output_type": "stream",
          "name": "stderr",
          "text": [
            " 65%|██████▌   | 19618/30000 [03:27<01:37, 106.50it/s]"
          ]
        },
        {
          "output_type": "stream",
          "name": "stdout",
          "text": [
            "loss -3.3240180015563965\n",
            "outscale 0.1142723485827446\n",
            "mean_module -1.5107465982437134\n",
            "noise 16.855894088745117\n"
          ]
        },
        {
          "output_type": "stream",
          "name": "stderr",
          "text": [
            " 66%|██████▌   | 19721/30000 [03:28<01:35, 107.81it/s]"
          ]
        },
        {
          "output_type": "stream",
          "name": "stdout",
          "text": [
            "loss -3.329068899154663\n",
            "outscale 0.11188046634197235\n",
            "mean_module -1.509844422340393\n",
            "noise 16.948936462402344\n"
          ]
        },
        {
          "output_type": "stream",
          "name": "stderr",
          "text": [
            " 66%|██████▌   | 19812/30000 [03:28<01:35, 106.35it/s]"
          ]
        },
        {
          "output_type": "stream",
          "name": "stdout",
          "text": [
            "loss -3.3340890407562256\n",
            "outscale 0.10929390043020248\n",
            "mean_module -1.508935809135437\n",
            "noise 17.042015075683594\n"
          ]
        },
        {
          "output_type": "stream",
          "name": "stderr",
          "text": [
            " 66%|██████▋   | 19913/30000 [03:29<01:36, 104.15it/s]"
          ]
        },
        {
          "output_type": "stream",
          "name": "stdout",
          "text": [
            "loss -3.339078187942505\n",
            "outscale 0.1064659133553505\n",
            "mean_module -1.5080163478851318\n",
            "noise 17.135093688964844\n"
          ]
        },
        {
          "output_type": "stream",
          "name": "stderr",
          "text": [
            " 67%|██████▋   | 20000/30000 [03:30<01:45, 94.80it/s]\n"
          ]
        },
        {
          "output_type": "error",
          "ename": "KeyError",
          "evalue": "20000",
          "traceback": [
            "\u001b[0;31m---------------------------------------------------------------------------\u001b[0m",
            "\u001b[0;31mKeyError\u001b[0m                                  Traceback (most recent call last)",
            "\u001b[0;32m<ipython-input-297-f0838d94dcc9>\u001b[0m in \u001b[0;36m<cell line: 15>\u001b[0;34m()\u001b[0m\n\u001b[1;32m     27\u001b[0m \u001b[0;34m\u001b[0m\u001b[0m\n\u001b[1;32m     28\u001b[0m     \u001b[0;32mif\u001b[0m \u001b[0miter\u001b[0m\u001b[0;34m%\u001b[0m\u001b[0;36m100\u001b[0m\u001b[0;34m==\u001b[0m\u001b[0;36m0\u001b[0m\u001b[0;34m:\u001b[0m\u001b[0;34m\u001b[0m\u001b[0;34m\u001b[0m\u001b[0m\n\u001b[0;32m---> 29\u001b[0;31m       \u001b[0;32mfor\u001b[0m \u001b[0mkey\u001b[0m\u001b[0;34m,\u001b[0m \u001b[0mval\u001b[0m \u001b[0;32min\u001b[0m \u001b[0mparam_log\u001b[0m\u001b[0;34m[\u001b[0m\u001b[0miter\u001b[0m\u001b[0;34m]\u001b[0m\u001b[0;34m.\u001b[0m\u001b[0mitems\u001b[0m\u001b[0;34m(\u001b[0m\u001b[0;34m)\u001b[0m\u001b[0;34m:\u001b[0m\u001b[0;34m\u001b[0m\u001b[0;34m\u001b[0m\u001b[0m\n\u001b[0m\u001b[1;32m     30\u001b[0m         \u001b[0mprint\u001b[0m\u001b[0;34m(\u001b[0m\u001b[0mkey\u001b[0m\u001b[0;34m,\u001b[0m \u001b[0mval\u001b[0m\u001b[0;34m)\u001b[0m\u001b[0;34m\u001b[0m\u001b[0;34m\u001b[0m\u001b[0m\n",
            "\u001b[0;31mKeyError\u001b[0m: 20000"
          ]
        }
      ]
    },
    {
      "cell_type": "code",
      "source": [
        "params_mc_benchmark = pd.DataFrame(params_log).T\n",
        "print(params_mc_benchmark.columns)\n",
        "col_ = 'loss'\n",
        "_ = params_mc_benchmark[col_].plot(title='MC benchmark: %s: %.6f'%(col_, params_mc_benchmark[col_].tail(1).values[0]))"
      ],
      "metadata": {
        "colab": {
          "base_uri": "https://localhost:8080/",
          "height": 470
        },
        "id": "hkspPd7fnchT",
        "outputId": "45a1905b-363a-4137-f6ef-8bf44a232307"
      },
      "execution_count": 312,
      "outputs": [
        {
          "output_type": "stream",
          "name": "stdout",
          "text": [
            "Index(['loss', 'outscale', 'mean_module', 'noise'], dtype='object')\n"
          ]
        },
        {
          "output_type": "display_data",
          "data": {
            "text/plain": [
              "<Figure size 640x480 with 1 Axes>"
            ],
            "image/png": "[encoded data removed]"
          },
          "metadata": {}
        }
      ]
    },
    {
      "cell_type": "code",
      "source": [
        "print_module(likelihood)\n",
        "print_module(model)"
      ],
      "metadata": {
        "colab": {
          "base_uri": "https://localhost:8080/"
        },
        "id": "_El5d8Ry5Nrc",
        "outputId": "8d3831b9-3928-4760-ca38-ba4a73fc81e5"
      },
      "execution_count": 299,
      "outputs": [
        {
          "output_type": "stream",
          "name": "stdout",
          "text": [
            "noise.noise                         (1,)\n",
            "[1.2648256]\n",
            "variational_strategy._variational_distribution.variational_mean (15,)\n",
            "[ 1.3539947   0.15470818  0.59779644 -0.08530366 -1.2822264   0.7443424\n",
            "  0.31710383 -1.2823901   0.07766872 -0.0547276  -0.00525524 -0.0196104\n",
            "  0.01006527 -0.06143653  0.88809514]\n",
            "variational_strategy._variational_distribution.chol_variational_covar (15, 15)\n",
            "[[ 4.77326989e-01  0.00000000e+00  0.00000000e+00  0.00000000e+00\n",
            "   0.00000000e+00  0.00000000e+00  0.00000000e+00  0.00000000e+00\n",
            "   0.00000000e+00  0.00000000e+00  0.00000000e+00  0.00000000e+00\n",
            "   0.00000000e+00  0.00000000e+00  0.00000000e+00]\n",
            " [-1.06341504e-01  3.90044242e-01  0.00000000e+00  0.00000000e+00\n",
            "   0.00000000e+00  0.00000000e+00  0.00000000e+00  0.00000000e+00\n",
            "   0.00000000e+00  0.00000000e+00  0.00000000e+00  0.00000000e+00\n",
            "   0.00000000e+00  0.00000000e+00  0.00000000e+00]\n",
            " [ 1.37400970e-01  1.45951360e-01  6.46087229e-01  0.00000000e+00\n",
            "   0.00000000e+00  0.00000000e+00  0.00000000e+00  0.00000000e+00\n",
            "   0.00000000e+00  0.00000000e+00  0.00000000e+00  0.00000000e+00\n",
            "   0.00000000e+00  0.00000000e+00  0.00000000e+00]\n",
            " [-2.78776318e-01  2.57752448e-01  1.93556190e-01  6.39109969e-01\n",
            "   0.00000000e+00  0.00000000e+00  0.00000000e+00  0.00000000e+00\n",
            "   0.00000000e+00  0.00000000e+00  0.00000000e+00  0.00000000e+00\n",
            "   0.00000000e+00  0.00000000e+00  0.00000000e+00]\n",
            " [-6.17254190e-02 -3.84370424e-02  3.13550562e-01 -5.34257591e-01\n",
            "   3.53969842e-01  0.00000000e+00  0.00000000e+00  0.00000000e+00\n",
            "   0.00000000e+00  0.00000000e+00  0.00000000e+00  0.00000000e+00\n",
            "   0.00000000e+00  0.00000000e+00  0.00000000e+00]\n",
            " [-5.79251014e-02  2.30908439e-01 -2.63564140e-01 -2.40201220e-01\n",
            "   7.49410093e-02  7.89871097e-01  0.00000000e+00  0.00000000e+00\n",
            "   0.00000000e+00  0.00000000e+00  0.00000000e+00  0.00000000e+00\n",
            "   0.00000000e+00  0.00000000e+00  0.00000000e+00]\n",
            " [-9.72379148e-02 -3.34806629e-02  1.87155262e-01  8.66145734e-03\n",
            "   2.74286419e-01  8.62794220e-02  8.52714539e-01  0.00000000e+00\n",
            "   0.00000000e+00  0.00000000e+00  0.00000000e+00  0.00000000e+00\n",
            "   0.00000000e+00  0.00000000e+00  0.00000000e+00]\n",
            " [ 3.17806471e-03  1.80291906e-02  6.41532764e-02  9.69472304e-02\n",
            "  -4.03340086e-02  2.97455043e-01 -1.11331262e-01  2.57601440e-01\n",
            "   0.00000000e+00  0.00000000e+00  0.00000000e+00  0.00000000e+00\n",
            "   0.00000000e+00  0.00000000e+00  0.00000000e+00]\n",
            " [-1.40745472e-02  6.99376017e-02 -1.15014695e-01 -1.09449252e-01\n",
            "   3.70376371e-02 -2.32207507e-01  7.73104206e-02 -3.71816069e-01\n",
            "   4.78734434e-01  0.00000000e+00  0.00000000e+00  0.00000000e+00\n",
            "   0.00000000e+00  0.00000000e+00  0.00000000e+00]\n",
            " [ 3.11589055e-02 -5.26027717e-02  1.78679451e-02  3.89643200e-02\n",
            "  -9.99716967e-02  6.44227043e-02  6.23250827e-02 -2.30261777e-02\n",
            "   2.66711265e-02  9.77575600e-01  0.00000000e+00  0.00000000e+00\n",
            "   0.00000000e+00  0.00000000e+00  0.00000000e+00]\n",
            " [ 1.44997500e-02 -1.21924758e-01  1.14085592e-01  8.04246441e-02\n",
            "  -1.38182510e-02  1.39081270e-01 -4.60664220e-02 -2.88481545e-02\n",
            "   8.46231878e-02 -3.50755043e-02  9.46170270e-01  0.00000000e+00\n",
            "   0.00000000e+00  0.00000000e+00  0.00000000e+00]\n",
            " [-5.25904179e-04  1.01692975e-03 -9.28117428e-04  6.56553966e-05\n",
            "   3.43425607e-04 -5.78601786e-04 -4.74899192e-04 -4.71709389e-03\n",
            "  -3.03671556e-03  1.18195068e-03  1.16026157e-03  9.99881208e-01\n",
            "   0.00000000e+00  0.00000000e+00  0.00000000e+00]\n",
            " [-1.05599349e-03 -1.90568593e-04  2.31211903e-04  2.84012291e-04\n",
            "   7.25865029e-05  7.20866024e-04 -1.38949894e-04  2.07571778e-03\n",
            "   1.49741443e-03 -1.21387083e-03 -9.09488590e-04  2.10096099e-04\n",
            "   9.99981046e-01  0.00000000e+00  0.00000000e+00]\n",
            " [-9.25340515e-04  2.01290660e-03 -2.54181121e-03 -1.61838066e-03\n",
            "   5.15918982e-05 -2.81705800e-03  1.06296246e-03 -3.48076411e-02\n",
            "  -2.33309381e-02  1.82787003e-03  8.23191181e-03 -1.67073170e-03\n",
            "   5.24113420e-04  9.98011112e-01  0.00000000e+00]\n",
            " [-3.33694275e-03  1.17372593e-03  2.09958409e-03  3.24535510e-03\n",
            "   7.53846625e-03 -2.84763775e-03  1.22270528e-02 -1.07383658e-03\n",
            "   6.80753903e-04 -6.46315217e-02  1.23134702e-02  1.18471095e-02\n",
            "  -6.66651176e-03  5.22995973e-03  5.40187836e-01]]\n",
            "mean_module.constant                ()\n",
            "-0.6259799003601074\n",
            "covar_module.outputscale            ()\n",
            "13.636192321777344\n",
            "covar_module.base_kernel.lengthscale (1, 1)\n",
            "[[0.11086004]]\n"
          ]
        }
      ]
    },
    {
      "cell_type": "code",
      "source": [
        "model.eval()\n",
        "likelihood.eval()\n",
        "\n",
        "f_preds = model(domain[:,None])\n",
        "y_preds = likelihood(f_preds)\n",
        "\n",
        "f_mean = f_preds.loc\n",
        "f_var = f_preds.variance\n",
        "f_covar = f_preds.covariance_matrix\n",
        "\n",
        "N_samples = 1000\n",
        "breakpoints = torch.linspace(0, 1, N_samples+1)[:-1]\n",
        "breakpoints = breakpoints + breakpoints[1] * torch.rand_like(breakpoints)\n",
        "\n",
        "with torch.no_grad():\n",
        "    pred_samples = torch.distributions.Normal(f_mean, f_var.sqrt()).icdf(breakpoints[:,None])\n",
        "\n",
        "plot_result(pred_samples)"
      ],
      "metadata": {
        "colab": {
          "base_uri": "https://localhost:8080/",
          "height": 648
        },
        "id": "IuxWy3fT9ktf",
        "outputId": "40aa6278-6e09-48c7-f0f2-72a220ff8f7a"
      },
      "execution_count": 300,
      "outputs": [
        {
          "output_type": "stream",
          "name": "stderr",
          "text": [
            "/usr/local/lib/python3.10/dist-packages/torch/distributions/distribution.py:179: UserWarning: sample_n will be deprecated. Use .sample((n,)) instead\n",
            "  warnings.warn(\n"
          ]
        },
        {
          "output_type": "display_data",
          "data": {
            "text/plain": [
              "<Figure size 600x400 with 1 Axes>"
            ],
            "image/png": "[encoded data removed]"
          },
          "metadata": {}
        },
        {
          "output_type": "display_data",
          "data": {
            "text/plain": [
              "<Figure size 600x200 with 1 Axes>"
            ],
            "image/png": "[encoded data removed]"
          },
          "metadata": {}
        }
      ]
    }
  ]
}