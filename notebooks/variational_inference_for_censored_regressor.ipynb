{
  "nbformat": 4,
  "nbformat_minor": 0,
  "metadata": {
    "colab": {
      "provenance": [],
      "toc_visible": true
    },
    "kernelspec": {
      "name": "python3",
      "display_name": "Python 3"
    },
    "language_info": {
      "name": "python"
    }
  },
  "cells": [
    {
      "cell_type": "code",
      "execution_count": 1,
      "metadata": {
        "colab": {
          "base_uri": "https://localhost:8080/"
        },
        "id": "Gh_fxrApqlBl",
        "outputId": "d2f2ca55-12e2-4cc7-f56f-7f76f33f89f0"
      },
      "outputs": [
        {
          "output_type": "stream",
          "name": "stdout",
          "text": [
            "\u001b[2K     \u001b[90m━━━━━━━━━━━━━━━━━━━━━━━━━━━━━━━━━━━━━━━━\u001b[0m \u001b[32m266.1/266.1 kB\u001b[0m \u001b[31m2.8 MB/s\u001b[0m eta \u001b[36m0:00:00\u001b[0m\n",
            "\u001b[2K     \u001b[90m━━━━━━━━━━━━━━━━━━━━━━━━━━━━━━━━━━━━━━━━\u001b[0m \u001b[32m175.6/175.6 kB\u001b[0m \u001b[31m7.5 MB/s\u001b[0m eta \u001b[36m0:00:00\u001b[0m\n",
            "\u001b[2K     \u001b[90m━━━━━━━━━━━━━━━━━━━━━━━━━━━━━━━━━━━━━━━━\u001b[0m \u001b[32m40.7/40.7 kB\u001b[0m \u001b[31m3.2 MB/s\u001b[0m eta \u001b[36m0:00:00\u001b[0m\n",
            "\u001b[?25h"
          ]
        }
      ],
      "source": [
        "!pip install -Uq gpytorch"
      ]
    },
    {
      "cell_type": "code",
      "source": [
        "import tqdm\n",
        "import math\n",
        "import torch\n",
        "import numpy as np\n",
        "\n",
        "import torch.distributions as dist\n",
        "\n",
        "import gpytorch\n",
        "import pandas as pd\n",
        "from matplotlib import pyplot as plt"
      ],
      "metadata": {
        "id": "EfRwvQMpttWI"
      },
      "execution_count": 8,
      "outputs": []
    },
    {
      "cell_type": "code",
      "source": [
        "import math\n",
        "from numbers import Number, Real\n",
        "\n",
        "import torch\n",
        "from torch.distributions import constraints\n",
        "from torch.distributions.exp_family import ExponentialFamily\n",
        "from torch.distributions.utils import _standard_normal, broadcast_all\n",
        "\n",
        "class CensoredNormal(ExponentialFamily):\n",
        "    \"\"\"\n",
        "    Creates a censored normal (also called Gaussian) distribution parameterized by\n",
        "    :attr:`loc` and :attr:`scale` and :attr:`low`  and :attr:`high`\n",
        "\n",
        "    Example::\n",
        "\n",
        "        >>> # xdoctest: +IGNORE_WANT(\"non-deterministic\")\n",
        "        >>> m = CensoredNormal(\n",
        "          torch.tensor([0.0]), torch.tensor([1.0]),\n",
        "          torch.tensor([-0.5]), torch.tensor([0.5])\n",
        "          )\n",
        "        >>> m.sample(sample_shape=(3,1))\n",
        "        tensor([[0.5000],\n",
        "            [0.5000],\n",
        "            [0.1836]])\n",
        "        tensor([ 0.1046])\n",
        "\n",
        "    Args:\n",
        "        loc (float or Tensor): mean of the base normal distribution (often referred to as mu) to which the censoring is applied\n",
        "        scale (float or Tensor): standard deviation of the base normal distribution to which the censoring is applied\n",
        "        low (float or Tensor): lower censoring boundary\n",
        "        high (float or Tensor): upper censoring boundary\n",
        "    \"\"\"\n",
        "    arg_constraints = {\n",
        "        \"loc\": constraints.real,\n",
        "        \"scale\": constraints.positive,\n",
        "        \"low\": constraints.dependent(is_discrete=False, event_dim=0),\n",
        "        \"high\": constraints.dependent(is_discrete=False, event_dim=0)}\n",
        "    has_rsample = True\n",
        "    _mean_carrier_measure = 0\n",
        "\n",
        "    @property\n",
        "    def mean(self):\n",
        "        x_high = (self.high - self.loc)/self.scale\n",
        "        cdf_high = self._normal_cdf(self.high)\n",
        "        pdf_high = math.exp(self._normal_log_prob(self.high))\n",
        "        x_low = (self.low - self.loc)/self.scale\n",
        "        cdf_low = self._normal_cdf(self.low)\n",
        "        pdf_low = math.exp(self._normal_log_prob(self.low))\n",
        "        term1 = cdf_high - cdf_low\n",
        "        term2 = pdf_high - pdf_low\n",
        "        return self.loc * term1 - self.scale * term2\n",
        "\n",
        "    @property\n",
        "    def stddev(self):\n",
        "        return self.variance.sqrt()\n",
        "\n",
        "    @property\n",
        "    def variance(self):\n",
        "        x_high = (self.high - self.loc)/self.scale\n",
        "        cdf_high = self._normal_cdf(self.high)\n",
        "        pdf_high = math.exp(self._normal_log_prob(self.high))\n",
        "        x_low = (self.low - self.loc)/self.scale\n",
        "        cdf_low = self._normal_cdf(self.low)\n",
        "        pdf_low = math.exp(self._normal_log_prob(self.low))\n",
        "        term1 = cdf_high - cdf_low\n",
        "        term2 = x_high * pdf_high - x_low * pdf_low\n",
        "        return  (self.scale ** 2) * (term1 - term2)\n",
        "\n",
        "\n",
        "    def __init__(self, loc, scale, low, high, validate_args=None):\n",
        "        self.loc, self.scale, self.low, self.high = broadcast_all(loc, scale, low, high)\n",
        "        if isinstance(loc, Number) and isinstance(scale, Number) and isinstance(low, Number) and isinstance(high, Number):\n",
        "            batch_shape = torch.Size()\n",
        "        else:\n",
        "            batch_shape = self.loc.size()\n",
        "        support = constraints.interval(low, high)\n",
        "        super().__init__(batch_shape, validate_args=validate_args)\n",
        "\n",
        "    def expand(self, batch_shape, _instance=None):\n",
        "        new = self._get_checked_instance(CensoredNormal, _instance)\n",
        "        batch_shape = torch.Size(batch_shape)\n",
        "        new.loc = self.loc.expand(batch_shape)\n",
        "        new.scale = self.scale.expand(batch_shape)\n",
        "        new.low = self.low.expand(batch_shape)\n",
        "        new.high = self.high.expand(batch_shape)\n",
        "        super(CensoredNormal, new).__init__(batch_shape, validate_args=False)\n",
        "        new._validate_args = self._validate_args\n",
        "        return new\n",
        "\n",
        "    @constraints.dependent_property(is_discrete=False, event_dim=0)\n",
        "    def support(self):\n",
        "        return constraints.interval(self.low, self.high)\n",
        "\n",
        "\n",
        "    def sample(self, sample_shape=torch.Size()):\n",
        "        shape = self._extended_shape(sample_shape)\n",
        "        with torch.no_grad():\n",
        "            samples = torch.normal(self.loc.expand(shape), self.scale.expand(shape))\n",
        "            return samples.clamp(min=self.low, max=self.high)\n",
        "\n",
        "\n",
        "    def rsample(self, sample_shape=torch.Size()):\n",
        "        shape = self._extended_shape(sample_shape)\n",
        "        eps = _standard_normal(shape, dtype=self.loc.dtype, device=self.loc.device)\n",
        "        rsamples =  self.loc + eps * self.scale\n",
        "        return rsamples.clamp(min=self.low, max=self.high)\n",
        "\n",
        "    def pdf(self, value):\n",
        "        if self._validate_args:\n",
        "            self._validate_sample(value)\n",
        "        probs = torch.exp(self.log_prob(value))\n",
        "        lower_cdf_mass = self._normal_cdf(self.low)\n",
        "        upper_cdf_mass = self._normal_cdf(-self.high)\n",
        "        probs = torch.where(value <= self.low, lower_cdf_mass, probs)\n",
        "        probs = torch.where(value >= self.high, upper_cdf_mass, probs)\n",
        "        return probs\n",
        "\n",
        "    def log_prob(self, value, jitter=1e-12):\n",
        "        \"\"\"jitter: used to bounce off NormCDF from 0 before applying log \"\"\"\n",
        "        if self._validate_args:\n",
        "            self._validate_sample(value)\n",
        "        log_probs = self._normal_log_prob(value)\n",
        "        lower_log_cdf_mass = math.log(self._normal_cdf(self.low) + jitter) if isinstance(self._normal_cdf(self.low) + jitter,\n",
        "                                                                                                Number) else (self._normal_cdf(self.low) + jitter).log()\n",
        "        upper_log_cdf_mass = math.log(self._normal_cdf(-self.high) + jitter) if isinstance(self._normal_cdf(-self.high) + jitter,\n",
        "                                                                                                    Number) else (self._normal_cdf(-self.high) + jitter).log()\n",
        "        log_probs = torch.where(value <= self.low, lower_log_cdf_mass, log_probs)\n",
        "        log_probs = torch.where(value >= self.high, upper_log_cdf_mass, log_probs)\n",
        "        return log_probs\n",
        "\n",
        "    def cdf(self, value):\n",
        "        if self._validate_args:\n",
        "            self._validate_sample(value)\n",
        "        cdf_ = self._normal_cdf(value)\n",
        "        cdf_ = torch.where(value < self.low, 0, cdf_)\n",
        "        cdf_ = torch.where(value > self.high, 1, cdf_)\n",
        "        return cdf_\n",
        "\n",
        "    def icdf(self, value):\n",
        "        result = self._normal_icdf(value)\n",
        "        return result.clamp(min=self.low, max=self.high)\n",
        "\n",
        "    def entropy(self, jitter=1e-12):\n",
        "        x_low = (self.low - self.loc)/self.scale\n",
        "        x_high = (self.high - self.loc)/self.scale\n",
        "        logcdf_x_low = math.log(self._normal_cdf(self.low) + jitter) if isinstance(self._normal_cdf(self.low) + jitter,\n",
        "                                                                                                  Number) else (self._normal_cdf(self.low) + jitter).log()\n",
        "        logcdf_x_high = math.log(self._normal_cdf(-self.high) + jitter) if isinstance(self._normal_cdf(-self.high) + jitter,\n",
        "                                                                                                      Number) else (self._normal_cdf(-self.high) + jitter).log()\n",
        "\n",
        "        term1 = self._normal_entropy() * (self._normal_cdf(self.high)- self._normal_cdf(self.low))\n",
        "        term2 = 0.5 * (x_high * torch.exp(self._normal_log_prob(self.high)) - x_low * torch.exp(self._normal_log_prob(self.low)))\n",
        "        term3 = logcdf_x_high * (self._normal_cdf(-self.high)) -  logcdf_x_low * self._normal_cdf(self.low)\n",
        "        return term1 - term2 - term3\n",
        "\n",
        "\n",
        "    def _normal_log_prob(self, value):\n",
        "            # compute the variance\n",
        "            var = self.scale**2\n",
        "            log_scale = (\n",
        "                math.log(self.scale) if isinstance(self.scale, Real) else self.scale.log()\n",
        "            )\n",
        "            return (\n",
        "                -((value - self.loc) ** 2) / (2 * var)\n",
        "                - log_scale\n",
        "                - math.log(math.sqrt(2 * math.pi))\n",
        "            )\n",
        "\n",
        "    def _normal_cdf(self, value):\n",
        "        return 0.5 * (\n",
        "            1 + torch.erf((value - self.loc) * self.scale.reciprocal() / math.sqrt(2))\n",
        "        )\n",
        "\n",
        "    def _normal_icdf(self, value):\n",
        "        return self.loc + self.scale * torch.erfinv(2 * value - 1) * math.sqrt(2)\n",
        "\n",
        "\n",
        "    def _normal_entropy(self):\n",
        "        return 0.5 + 0.5 * math.log(2 * math.pi) + torch.log(self.scale)\n",
        "\n",
        "    @property\n",
        "    def _normal_natural_params(self):\n",
        "        return (self.loc / self.scale.pow(2), -0.5 * self.scale.pow(2).reciprocal())\n",
        "\n",
        "    def _log_normalizer(self, x, y):\n",
        "        return -0.25 * x.pow(2) / y + 0.5 * torch.log(-math.pi / y)"
      ],
      "metadata": {
        "id": "CtD-IF9LlYhh"
      },
      "execution_count": 9,
      "outputs": []
    },
    {
      "cell_type": "code",
      "source": [
        "import warnings\n",
        "from typing import Any\n",
        "\n",
        "import torch\n",
        "from linear_operator.operators import LinearOperator, ZeroLinearOperator\n",
        "from torch import Tensor\n",
        "from torch.distributions import Distribution, Normal\n",
        "\n",
        "from gpytorch.constraints import Interval\n",
        "from gpytorch.distributions import base_distributions, MultivariateNormal\n",
        "from gpytorch.priors import Prior\n",
        "from gpytorch.utils.warnings import GPInputWarning\n",
        "from gpytorch.likelihoods.likelihood import _Likelihood, _OneDimensionalLikelihood\n",
        "\n",
        "\n",
        "class CensoredGaussianLikelihood(_Likelihood):\n",
        "    \"\"\"Base class for Censored Gaussian Likelihoods.\"\"\"\n",
        "    def __init__(self, variance=None, low=None, high=None) -> None:\n",
        "        super().__init__()\n",
        "\n",
        "        variance = torch.tensor(1.) if variance is None else variance\n",
        "        self.noise = gpytorch.likelihoods.noise_models.HomoskedasticNoise()\n",
        "        self.noise.initialize(noise=variance)\n",
        "        self.low = low\n",
        "        self.high = high\n",
        "\n",
        "    @property\n",
        "    def variance(self):\n",
        "      return self.noise.noise\n",
        "\n",
        "    def forward(self, function_samples: Tensor, *params: Any, **kwargs: Any):\n",
        "        return CensoredNormal(function_samples, scale=self.variance.sqrt(), low=self.low, high=self.high)\n",
        "\n",
        "class CensoredGaussianLikelihoodAnalytic(CensoredGaussianLikelihood):\n",
        "    def __init__(self, variance=None, low=None, high=None) -> None:\n",
        "        super().__init__(variance, low, high)\n",
        "\n",
        "    def expected_log_prob(self, target: Tensor, input: MultivariateNormal, *params: Any, **kwargs: Any) -> Tensor:\n",
        "        noise = self.variance # likelihood\n",
        "        mean, variance = input.mean, input.variance # approximate posterior\n",
        "\n",
        "        upper_censor = lambda x, s: (self.high - x) / s\n",
        "        lower_censor = lambda x, s: (self.low - x) / s\n",
        "\n",
        "        standard_normal = dist.Normal(0,1)\n",
        "         # Gaussian term\n",
        "        term1 = torch.log(noise) + math.log(2 * math.pi)\n",
        "        term2 = ((target - mean).square() + variance) / noise\n",
        "        term3 = standard_normal.cdf(upper_censor(mean, variance.sqrt())) - standard_normal.cdf(lower_censor(mean, variance.sqrt()))\n",
        "        normal_part = (term1 - term2 * term3).mul(0.5)\n",
        "        # upper term\n",
        "        x1 = (self.high - target + mean) * variance.sqrt()\n",
        "        term4 = torch.clamp_min(standard_normal.cdf(-upper_censor(target, variance.sqrt())), 1e-12).log() + 0.5 * x1 * noise.reciprocal()\n",
        "        upper_censored_part = term4 * standard_normal.log_prob(upper_censor(mean, variance.sqrt())).exp()\n",
        "\n",
        "        # lower term\n",
        "        x2 = (self.low - target + mean) * variance.sqrt()\n",
        "        term5 = torch.clamp_min(standard_normal.cdf(lower_censor(target, variance.sqrt())), 1e-12).log() - 0.5 * x2 * noise.reciprocal()\n",
        "        lower_censored_part = term5 * standard_normal.log_prob(lower_censor(mean, variance.sqrt())).exp()\n",
        "\n",
        "        res = normal_part - lower_censored_part - upper_censored_part\n",
        "        return res"
      ],
      "metadata": {
        "id": "roc6L9a_To9F"
      },
      "execution_count": 47,
      "outputs": []
    },
    {
      "cell_type": "code",
      "source": [
        "def rgetattr(o, k_list):\n",
        "  for k in k_list:\n",
        "    o = getattr(o,k)\n",
        "  return o\n",
        "\n",
        "def print_module(module):\n",
        "  with torch.no_grad():\n",
        "    for name, _ in module.named_parameters():\n",
        "      name = name.replace('raw_','')\n",
        "      param = rgetattr(module, name.split('.'))\n",
        "      print(f'{name:35} {tuple(param.shape)}\\n{param.numpy().round(10)}')\n",
        "\n",
        "def get_module(module):\n",
        "  ret = {}\n",
        "  with torch.no_grad():\n",
        "    for name, _ in module.named_parameters():\n",
        "      name = name.replace('raw_','')\n",
        "      param = rgetattr(module, name.split('.'))\n",
        "      ret[name] = param.numpy()\n",
        "  return ret"
      ],
      "metadata": {
        "id": "AsaHG4UbHapk"
      },
      "execution_count": 48,
      "outputs": []
    },
    {
      "cell_type": "markdown",
      "source": [
        "# Synthetic 1D"
      ],
      "metadata": {
        "id": "s2QOhsPCB1AS"
      }
    },
    {
      "cell_type": "code",
      "source": [
        "MAX_VALUE = 0.0\n",
        "\n",
        "def noise_free_target(x):\n",
        "    y = (x-2)*10\n",
        "    return y * torch.sin(y) / 2\n",
        "\n",
        "def oracle(x):\n",
        "    return torch.clamp_max(noise_free_target(x) + torch.randn(x.shape) , 0.0)"
      ],
      "metadata": {
        "id": "3GMFcYiDpYry"
      },
      "execution_count": 30,
      "outputs": []
    },
    {
      "cell_type": "code",
      "source": [
        "N_init = 15\n",
        "np.random.seed(0)\n",
        "x = torch.FloatTensor(np.random.rand(N_init))\n",
        "torch.sort(x)\n",
        "y = oracle(x)\n",
        "\n",
        "domain = torch.linspace(0, 1, 500)\n",
        "plt.plot(domain, noise_free_target(domain), '--');\n",
        "plt.plot(domain, torch.clamp_max(noise_free_target(domain), 0), '-');\n",
        "plt.plot(x, y, 'k.')"
      ],
      "metadata": {
        "colab": {
          "base_uri": "https://localhost:8080/",
          "height": 453
        },
        "id": "VGn55MQYqAum",
        "outputId": "dc7e4652-be3b-4cd7-b9db-e8129d0de87b"
      },
      "execution_count": 31,
      "outputs": [
        {
          "output_type": "execute_result",
          "data": {
            "text/plain": [
              "[<matplotlib.lines.Line2D at 0x795fb8a2c220>]"
            ]
          },
          "metadata": {},
          "execution_count": 31
        },
        {
          "output_type": "display_data",
          "data": {
            "text/plain": [
              "<Figure size 640x480 with 1 Axes>"
            ],
            "image/png": "[encoded data removed]"
          },
          "metadata": {}
        }
      ]
    },
    {
      "cell_type": "markdown",
      "source": [
        "# ELBO Implementation"
      ],
      "metadata": {
        "id": "83pBrXgS8zcm"
      }
    },
    {
      "cell_type": "code",
      "source": [
        "from gpytorch.models import ApproximateGP # handles basic variational inference\n",
        "from gpytorch.variational import CholeskyVariationalDistribution # distribution of the approximation q(f)\n",
        "from gpytorch.variational import VariationalStrategy # use when larger sample - transform q(u) to q(f) over inducing points\n",
        "\n",
        "class GPModel(ApproximateGP):\n",
        "    def __init__(self, inducing_points):\n",
        "        # defines approximation\n",
        "        variational_distribution = CholeskyVariationalDistribution(inducing_points.size(0))\n",
        "        variational_strategy = VariationalStrategy(self, inducing_points,\n",
        "                                                   variational_distribution, learn_inducing_locations=False)\n",
        "        super(GPModel, self).__init__(variational_strategy)\n",
        "        # defines the GP\n",
        "        self.mean_module = gpytorch.means.ConstantMean()\n",
        "        self.covar_module = gpytorch.kernels.ScaleKernel(gpytorch.kernels.RBFKernel())\n",
        "\n",
        "    def forward(self, x):\n",
        "        mean_x = self.mean_module(x)\n",
        "        covar_x = self.covar_module(x)\n",
        "        return gpytorch.distributions.MultivariateNormal(mean_x, covar_x)\n",
        "\n",
        "\n",
        "model = GPModel(inducing_points=x[:,None])\n",
        "likelihood = CensoredGaussianLikelihoodAnalytic(low=-100., high=MAX_VALUE)\n",
        "\n",
        "if torch.cuda.is_available():\n",
        "    model = model.cuda()\n",
        "    likelihood = likelihood.cuda()"
      ],
      "metadata": {
        "id": "SN0H6-34CUqY"
      },
      "execution_count": 49,
      "outputs": []
    },
    {
      "cell_type": "code",
      "source": [
        "model.covar_module.base_kernel.initialize(lengthscale=0.5);\n",
        "# model.covar_module.initialize(outputscale=1);\n",
        "model.mean_module.initialize(constant=0)\n",
        "#likelihood.noise.initialize(noise=1/10);"
      ],
      "metadata": {
        "colab": {
          "base_uri": "https://localhost:8080/"
        },
        "id": "lImNW7RWfqw-",
        "outputId": "1232d14c-084e-4653-d86e-5225e446eafc"
      },
      "execution_count": 50,
      "outputs": [
        {
          "output_type": "execute_result",
          "data": {
            "text/plain": [
              "ConstantMean()"
            ]
          },
          "metadata": {},
          "execution_count": 50
        }
      ]
    },
    {
      "cell_type": "code",
      "source": [
        "print_module(likelihood)\n",
        "print_module(model)"
      ],
      "metadata": {
        "colab": {
          "base_uri": "https://localhost:8080/"
        },
        "id": "RQvx3Q_cIF4Y",
        "outputId": "686190d5-68fe-4ab4-8571-858fd1ba87aa"
      },
      "execution_count": 51,
      "outputs": [
        {
          "output_type": "stream",
          "name": "stdout",
          "text": [
            "noise.noise                         (1,)\n",
            "[1.]\n",
            "variational_strategy._variational_distribution.variational_mean (15,)\n",
            "[0. 0. 0. 0. 0. 0. 0. 0. 0. 0. 0. 0. 0. 0. 0.]\n",
            "variational_strategy._variational_distribution.chol_variational_covar (15, 15)\n",
            "[[1. 0. 0. 0. 0. 0. 0. 0. 0. 0. 0. 0. 0. 0. 0.]\n",
            " [0. 1. 0. 0. 0. 0. 0. 0. 0. 0. 0. 0. 0. 0. 0.]\n",
            " [0. 0. 1. 0. 0. 0. 0. 0. 0. 0. 0. 0. 0. 0. 0.]\n",
            " [0. 0. 0. 1. 0. 0. 0. 0. 0. 0. 0. 0. 0. 0. 0.]\n",
            " [0. 0. 0. 0. 1. 0. 0. 0. 0. 0. 0. 0. 0. 0. 0.]\n",
            " [0. 0. 0. 0. 0. 1. 0. 0. 0. 0. 0. 0. 0. 0. 0.]\n",
            " [0. 0. 0. 0. 0. 0. 1. 0. 0. 0. 0. 0. 0. 0. 0.]\n",
            " [0. 0. 0. 0. 0. 0. 0. 1. 0. 0. 0. 0. 0. 0. 0.]\n",
            " [0. 0. 0. 0. 0. 0. 0. 0. 1. 0. 0. 0. 0. 0. 0.]\n",
            " [0. 0. 0. 0. 0. 0. 0. 0. 0. 1. 0. 0. 0. 0. 0.]\n",
            " [0. 0. 0. 0. 0. 0. 0. 0. 0. 0. 1. 0. 0. 0. 0.]\n",
            " [0. 0. 0. 0. 0. 0. 0. 0. 0. 0. 0. 1. 0. 0. 0.]\n",
            " [0. 0. 0. 0. 0. 0. 0. 0. 0. 0. 0. 0. 1. 0. 0.]\n",
            " [0. 0. 0. 0. 0. 0. 0. 0. 0. 0. 0. 0. 0. 1. 0.]\n",
            " [0. 0. 0. 0. 0. 0. 0. 0. 0. 0. 0. 0. 0. 0. 1.]]\n",
            "mean_module.constant                ()\n",
            "0.0\n",
            "covar_module.outputscale            ()\n",
            "0.6931471824645996\n",
            "covar_module.base_kernel.lengthscale (1, 1)\n",
            "[[0.5]]\n"
          ]
        }
      ]
    },
    {
      "cell_type": "code",
      "source": [
        "num_epochs = 20_000\n",
        "pbar = tqdm.tqdm(range(num_epochs), position=0, leave=True)\n",
        "\n",
        "model.train()\n",
        "likelihood.train()\n",
        "\n",
        "optimizer = torch.optim.Adam([\n",
        "    {'params': model.parameters()},\n",
        "    {'params': likelihood.parameters()},\n",
        "], lr=0.01)\n",
        "\n",
        "mll = gpytorch.mlls.VariationalELBO(likelihood, model, num_data=y.size(0))\n",
        "\n",
        "loss_list = list()\n",
        "params_list = list()\n",
        "\n",
        "for iter in pbar:\n",
        "    optimizer.zero_grad();\n",
        "    y_pred = model(x[:,None])\n",
        "    loss = -mll(y_pred, y)\n",
        "    loss.backward()\n",
        "    optimizer.step()\n",
        "    loss_list.append(loss.item())\n",
        "    params_list.append(params_list)\n",
        "plt.plot(loss_list)"
      ],
      "metadata": {
        "colab": {
          "base_uri": "https://localhost:8080/",
          "height": 467
        },
        "id": "IEzI4NA027bQ",
        "outputId": "3fa22901-f887-47f0-eb5d-d0f71f8d9f98"
      },
      "execution_count": 52,
      "outputs": [
        {
          "output_type": "stream",
          "name": "stderr",
          "text": [
            "100%|██████████| 20000/20000 [04:00<00:00, 83.19it/s]\n"
          ]
        },
        {
          "output_type": "execute_result",
          "data": {
            "text/plain": [
              "[<matplotlib.lines.Line2D at 0x795fb7badff0>]"
            ]
          },
          "metadata": {},
          "execution_count": 52
        },
        {
          "output_type": "display_data",
          "data": {
            "text/plain": [
              "<Figure size 640x480 with 1 Axes>"
            ],
            "image/png": "[encoded data removed]"
          },
          "metadata": {}
        }
      ]
    },
    {
      "cell_type": "code",
      "source": [
        "print_module(likelihood)\n",
        "print_module(model)"
      ],
      "metadata": {
        "colab": {
          "base_uri": "https://localhost:8080/"
        },
        "id": "swjwR2Z6KcDL",
        "outputId": "87726ce2-258f-4c1a-9296-8ffd19e6b356"
      },
      "execution_count": 53,
      "outputs": [
        {
          "output_type": "stream",
          "name": "stdout",
          "text": [
            "noise.noise                         (1,)\n",
            "[141.8055]\n",
            "variational_strategy._variational_distribution.variational_mean (15,)\n",
            "[-2.0312872e-03  1.3416060e-04 -6.6177169e-04 -3.0265190e-04\n",
            "  6.0041889e-04 -5.1279081e-04  7.7224402e-05  1.8055158e-03\n",
            "  6.3507038e-04  2.6307100e-05 -2.6323710e-04 -2.6652240e-04\n",
            " -2.1627580e-04  1.5188160e-04 -4.0765011e-04]\n",
            "variational_strategy._variational_distribution.chol_variational_covar (15, 15)\n",
            "[[ 9.9988389e-01  0.0000000e+00  0.0000000e+00  0.0000000e+00\n",
            "   0.0000000e+00  0.0000000e+00  0.0000000e+00  0.0000000e+00\n",
            "   0.0000000e+00  0.0000000e+00  0.0000000e+00  0.0000000e+00\n",
            "   0.0000000e+00  0.0000000e+00  0.0000000e+00]\n",
            " [-1.7137550e-04  9.9988848e-01  0.0000000e+00  0.0000000e+00\n",
            "   0.0000000e+00  0.0000000e+00  0.0000000e+00  0.0000000e+00\n",
            "   0.0000000e+00  0.0000000e+00  0.0000000e+00  0.0000000e+00\n",
            "   0.0000000e+00  0.0000000e+00  0.0000000e+00]\n",
            " [ 1.1698800e-05  4.9019000e-06  1.0000027e+00  0.0000000e+00\n",
            "   0.0000000e+00  0.0000000e+00  0.0000000e+00  0.0000000e+00\n",
            "   0.0000000e+00  0.0000000e+00  0.0000000e+00  0.0000000e+00\n",
            "   0.0000000e+00  0.0000000e+00  0.0000000e+00]\n",
            " [-2.0730999e-06  2.2447401e-05  3.3278000e-06  1.0000024e+00\n",
            "   0.0000000e+00  0.0000000e+00  0.0000000e+00  0.0000000e+00\n",
            "   0.0000000e+00  0.0000000e+00  0.0000000e+00  0.0000000e+00\n",
            "   0.0000000e+00  0.0000000e+00  0.0000000e+00]\n",
            " [-5.4426400e-05 -1.0135200e-05  5.0184999e-06 -3.1897000e-06\n",
            "   9.9999458e-01  0.0000000e+00  0.0000000e+00  0.0000000e+00\n",
            "   0.0000000e+00  0.0000000e+00  0.0000000e+00  0.0000000e+00\n",
            "   0.0000000e+00  0.0000000e+00  0.0000000e+00]\n",
            " [-1.9039001e-06  1.0353400e-05 -1.5226000e-06 -2.5117999e-06\n",
            "  -2.4712999e-06  1.0000067e+00  0.0000000e+00  0.0000000e+00\n",
            "   0.0000000e+00  0.0000000e+00  0.0000000e+00  0.0000000e+00\n",
            "   0.0000000e+00  0.0000000e+00  0.0000000e+00]\n",
            " [-1.1335800e-05 -4.2785000e-06  3.1932000e-06  2.6436001e-06\n",
            "  -1.7249000e-06 -1.4092000e-06  1.0000024e+00  0.0000000e+00\n",
            "   0.0000000e+00  0.0000000e+00  0.0000000e+00  0.0000000e+00\n",
            "   0.0000000e+00  0.0000000e+00  0.0000000e+00]\n",
            " [-7.1831200e-05 -1.6376970e-04 -2.5792001e-06 -4.8677998e-06\n",
            "   3.4090001e-06  9.6289996e-06  2.7922999e-06  9.9996239e-01\n",
            "   0.0000000e+00  0.0000000e+00  0.0000000e+00  0.0000000e+00\n",
            "   0.0000000e+00  0.0000000e+00  0.0000000e+00]\n",
            " [ 9.6940005e-07 -2.4383400e-05 -7.4930999e-06 -1.4617800e-05\n",
            "   6.3785001e-06  2.2739399e-05  3.0921999e-06 -1.7441500e-05\n",
            "   1.0000120e+00  0.0000000e+00  0.0000000e+00  0.0000000e+00\n",
            "   0.0000000e+00  0.0000000e+00  0.0000000e+00]\n",
            " [-8.6746004e-06 -3.2411001e-06  3.0803999e-06  3.0018000e-06\n",
            "  -6.6970000e-07 -1.1681000e-06  3.0208000e-06  1.8424000e-06\n",
            "   1.7166000e-06  1.0000026e+00  0.0000000e+00  0.0000000e+00\n",
            "   0.0000000e+00  0.0000000e+00  0.0000000e+00]\n",
            " [ 5.6135000e-06  1.0699000e-05 -2.0934999e-06 -3.3038000e-06\n",
            "  -1.1560001e-06  5.0605999e-05 -7.4090002e-07  9.3971003e-06\n",
            "   1.3652400e-05 -1.6529999e-07  1.0000088e+00  0.0000000e+00\n",
            "   0.0000000e+00  0.0000000e+00  0.0000000e+00]\n",
            " [ 3.6895001e-06 -2.0606001e-06  1.0940000e-06  1.7888000e-06\n",
            "   2.0351999e-06 -1.1337000e-06  1.2290000e-06 -7.4458999e-06\n",
            "  -3.2675500e-05  9.7320003e-07 -6.9409002e-06  1.0000005e+00\n",
            "   0.0000000e+00  0.0000000e+00  0.0000000e+00]\n",
            " [ 2.6952000e-06 -6.7690002e-07  8.3480001e-07  7.4290000e-07\n",
            "   7.8919999e-07 -5.2790000e-07  3.6930001e-07 -3.0393980e-04\n",
            "  -7.7164996e-06  2.3900000e-07  5.2893702e-05  2.3974001e-06\n",
            "   1.0000008e+00  0.0000000e+00  0.0000000e+00]\n",
            " [ 1.0556400e-05  1.7823000e-06 -8.9210998e-06 -1.1414900e-05\n",
            "   2.9974999e-06  8.2075501e-05  3.6865999e-06  3.0998001e-06\n",
            "   1.1017700e-05  8.6330001e-06  4.7964699e-05 -6.0143159e-04\n",
            "  -6.1351998e-06  1.0000672e+00  0.0000000e+00]\n",
            " [ 5.9416002e-06 -2.0995001e-06  1.1329000e-06  3.2267999e-06\n",
            "   5.9417998e-06  6.5190000e-07  2.7055000e-06 -1.0013800e-05\n",
            "   1.2095640e-04  3.2874000e-06 -1.0101400e-04 -1.9303000e-06\n",
            "   6.4470019e-04 -4.6732998e-06  1.0000132e+00]]\n",
            "mean_module.constant                ()\n",
            "-0.0001410550030414015\n",
            "covar_module.outputscale            ()\n",
            "0.0013440889306366444\n",
            "covar_module.base_kernel.lengthscale (1, 1)\n",
            "[[0.26119697]]\n"
          ]
        }
      ]
    },
    {
      "cell_type": "code",
      "source": [
        "model.variational_strategy._variational_distribution.variational_mean"
      ],
      "metadata": {
        "colab": {
          "base_uri": "https://localhost:8080/"
        },
        "id": "nIn363-JV8kC",
        "outputId": "f44d282c-77cc-4dab-ae96-ca3d2c30530d"
      },
      "execution_count": 54,
      "outputs": [
        {
          "output_type": "execute_result",
          "data": {
            "text/plain": [
              "Parameter containing:\n",
              "tensor([-2.0313e-03,  1.3416e-04, -6.6177e-04, -3.0265e-04,  6.0042e-04,\n",
              "        -5.1279e-04,  7.7224e-05,  1.8055e-03,  6.3507e-04,  2.6307e-05,\n",
              "        -2.6324e-04, -2.6652e-04, -2.1628e-04,  1.5188e-04, -4.0765e-04],\n",
              "       requires_grad=True)"
            ]
          },
          "metadata": {},
          "execution_count": 54
        }
      ]
    },
    {
      "cell_type": "code",
      "source": [
        "model.eval()\n",
        "likelihood.eval()\n",
        "\n",
        "f_preds = model(domain[:,None])\n",
        "y_preds = likelihood(f_preds)\n",
        "\n",
        "f_mean = f_preds.loc\n",
        "f_var = f_preds.variance\n",
        "f_covar = f_preds.covariance_matrix\n",
        "\n",
        "N_samples = 1000\n",
        "breakpoints = torch.linspace(0, 1, N_samples+1)[:-1]\n",
        "breakpoints = breakpoints + breakpoints[1] * torch.rand_like(breakpoints)\n",
        "\n",
        "with torch.no_grad():\n",
        "    pred_samples = torch.distributions.Normal(f_mean, f_var.sqrt()).icdf(breakpoints[:,None])"
      ],
      "metadata": {
        "id": "L2hHuNav8cYE"
      },
      "execution_count": 55,
      "outputs": []
    },
    {
      "cell_type": "code",
      "source": [
        "def plot_result(pred_samples, censored=False):\n",
        "    if censored:\n",
        "        c_pred = pred_samples > MAX_VALUE\n",
        "        pred_samples[c_pred] = MAX_VALUE\n",
        "    with torch.no_grad(), gpytorch.settings.fast_pred_var():\n",
        "      pred_median = np.median(pred_samples, axis=0)\n",
        "      pred_quantiles = np.quantile(pred_samples, [0.025, 0.15, 0.85, 0.975], axis=0)\n",
        "\n",
        "      plt.figure(figsize=(6, 4))\n",
        "      plt.plot(domain, pred_median)\n",
        "\n",
        "      plt.fill_between(domain, pred_quantiles[0], pred_quantiles[-1], alpha=0.1, color='#33c');\n",
        "      plt.fill_between(domain, pred_quantiles[1], pred_quantiles[-2], alpha=0.1, color='#33c');\n",
        "      plt.plot(domain, y_preds.sample_n(n=100).mean([0,1]).numpy(force=True), 'r--')\n",
        "\n",
        "      plt.plot(x, y, 'k.');\n",
        "      plt.plot(domain, noise_free_target(domain).clamp_max(MAX_VALUE), 'k--', alpha=0.5);\n",
        "      plt.xlim(0, 1);\n",
        "      plt.ylim(-15, 5);\n",
        "      plt.title(\"Estimated function\")\n",
        "\n",
        "      plt.figure(figsize=(6, 2))\n",
        "      plt.title(\"Expected improvement\")\n",
        "      EI =  -(pred_samples*(pred_samples < y.min()).float()).mean(0)\n",
        "      plt.plot(domain, EI, 'r');\n",
        "      plt.fill_between(domain, torch.zeros_like(domain), EI, color='r', alpha=0.5)\n",
        "\n",
        "   # return f_covar, pred_samples\n",
        "\n",
        "plot_result(pred_samples)"
      ],
      "metadata": {
        "colab": {
          "base_uri": "https://localhost:8080/",
          "height": 648
        },
        "id": "qB1ZjUAr-e0c",
        "outputId": "1cdda155-c1ff-48d8-dbf5-414c3e309d59"
      },
      "execution_count": 56,
      "outputs": [
        {
          "output_type": "stream",
          "name": "stderr",
          "text": [
            "/usr/local/lib/python3.10/dist-packages/torch/distributions/distribution.py:179: UserWarning: sample_n will be deprecated. Use .sample((n,)) instead\n",
            "  warnings.warn(\n"
          ]
        },
        {
          "output_type": "display_data",
          "data": {
            "text/plain": [
              "<Figure size 600x400 with 1 Axes>"
            ],
            "image/png": "[encoded data removed]"
          },
          "metadata": {}
        },
        {
          "output_type": "display_data",
          "data": {
            "text/plain": [
              "<Figure size 600x200 with 1 Axes>"
            ],
            "image/png": "[encoded data removed]"
          },
          "metadata": {}
        }
      ]
    },
    {
      "cell_type": "code",
      "source": [
        "# u,d = f_preds.confidence_region()\n",
        "# plt.plot(domain, f_preds.loc.numpy(force=True))\n",
        "# plt.fill_between(domain, u.numpy(force=True), d.numpy(force=True), alpha=0.1, color='#33c')\n",
        "# plt.plot(domain, y_preds.sample_n(n=100).mean([0,1]).numpy(force=True), 'r--')\n",
        "# plt.plot(x, y, 'k.');\n",
        "# plt.plot(domain, noise_free_target(domain).clamp_max(MAX_VALUE), 'k--', alpha=0.5);"
      ],
      "metadata": {
        "id": "NMXNNMQ4EzWm"
      },
      "execution_count": 207,
      "outputs": []
    },
    {
      "cell_type": "markdown",
      "source": [
        "# MC Simulation"
      ],
      "metadata": {
        "id": "zAjpySlO8qql"
      }
    },
    {
      "cell_type": "code",
      "source": [
        "from gpytorch.models import ApproximateGP # handles basic variational inference\n",
        "from gpytorch.variational import CholeskyVariationalDistribution # distribution of the approximation q(f)\n",
        "from gpytorch.variational import VariationalStrategy # use when larger sample - transform q(u) to q(f) over inducing points\n",
        "\n",
        "class GPModel(ApproximateGP):\n",
        "    def __init__(self, inducing_points):\n",
        "        # defines approximation\n",
        "        variational_distribution = CholeskyVariationalDistribution(inducing_points.size(0))\n",
        "        variational_strategy = VariationalStrategy(self, inducing_points,\n",
        "                                                   variational_distribution, learn_inducing_locations=False)\n",
        "        super(GPModel, self).__init__(variational_strategy)\n",
        "        # defines the GP\n",
        "        self.mean_module = gpytorch.means.ConstantMean()\n",
        "        self.covar_module = gpytorch.kernels.ScaleKernel(gpytorch.kernels.RBFKernel())\n",
        "\n",
        "    def forward(self, x):\n",
        "        mean_x = self.mean_module(x)\n",
        "        covar_x = self.covar_module(x)\n",
        "        return gpytorch.distributions.MultivariateNormal(mean_x, covar_x)\n",
        "\n",
        "\n",
        "model = GPModel(inducing_points=x[:,None])\n",
        "# ElBO Likelihood\n",
        "likelihood = CensoredGaussianLikelihood(low=-1000., high=MAX_VALUE)\n",
        "\n",
        "if torch.cuda.is_available():\n",
        "    model = model.cuda()\n",
        "    likelihood = likelihood.cuda()"
      ],
      "metadata": {
        "id": "ytV96p1a8yv-"
      },
      "execution_count": 17,
      "outputs": []
    },
    {
      "cell_type": "code",
      "source": [
        "print_module(model)"
      ],
      "metadata": {
        "colab": {
          "base_uri": "https://localhost:8080/"
        },
        "id": "QXlcTwmv9Wd0",
        "outputId": "4d833ad3-183d-4631-c1a1-bd5db68d24ba"
      },
      "execution_count": 18,
      "outputs": [
        {
          "output_type": "stream",
          "name": "stdout",
          "text": [
            "variational_strategy._variational_distribution.variational_mean (15,)\n",
            "[0. 0. 0. 0. 0. 0. 0. 0. 0. 0. 0. 0. 0. 0. 0.]\n",
            "variational_strategy._variational_distribution.chol_variational_covar (15, 15)\n",
            "[[1. 0. 0. 0. 0. 0. 0. 0. 0. 0. 0. 0. 0. 0. 0.]\n",
            " [0. 1. 0. 0. 0. 0. 0. 0. 0. 0. 0. 0. 0. 0. 0.]\n",
            " [0. 0. 1. 0. 0. 0. 0. 0. 0. 0. 0. 0. 0. 0. 0.]\n",
            " [0. 0. 0. 1. 0. 0. 0. 0. 0. 0. 0. 0. 0. 0. 0.]\n",
            " [0. 0. 0. 0. 1. 0. 0. 0. 0. 0. 0. 0. 0. 0. 0.]\n",
            " [0. 0. 0. 0. 0. 1. 0. 0. 0. 0. 0. 0. 0. 0. 0.]\n",
            " [0. 0. 0. 0. 0. 0. 1. 0. 0. 0. 0. 0. 0. 0. 0.]\n",
            " [0. 0. 0. 0. 0. 0. 0. 1. 0. 0. 0. 0. 0. 0. 0.]\n",
            " [0. 0. 0. 0. 0. 0. 0. 0. 1. 0. 0. 0. 0. 0. 0.]\n",
            " [0. 0. 0. 0. 0. 0. 0. 0. 0. 1. 0. 0. 0. 0. 0.]\n",
            " [0. 0. 0. 0. 0. 0. 0. 0. 0. 0. 1. 0. 0. 0. 0.]\n",
            " [0. 0. 0. 0. 0. 0. 0. 0. 0. 0. 0. 1. 0. 0. 0.]\n",
            " [0. 0. 0. 0. 0. 0. 0. 0. 0. 0. 0. 0. 1. 0. 0.]\n",
            " [0. 0. 0. 0. 0. 0. 0. 0. 0. 0. 0. 0. 0. 1. 0.]\n",
            " [0. 0. 0. 0. 0. 0. 0. 0. 0. 0. 0. 0. 0. 0. 1.]]\n",
            "mean_module.constant                ()\n",
            "0.0\n",
            "covar_module.outputscale            ()\n",
            "0.6931471824645996\n",
            "covar_module.base_kernel.lengthscale (1, 1)\n",
            "[[0.6931472]]\n"
          ]
        }
      ]
    },
    {
      "cell_type": "code",
      "source": [
        "num_epochs = 30000\n",
        "pbar = tqdm.tqdm(range(num_epochs), position=0, leave=True)\n",
        "\n",
        "model.train()\n",
        "likelihood.train()\n",
        "\n",
        "optimizer = torch.optim.Adam([\n",
        "    {'params': model.parameters()},\n",
        "    {'params': likelihood.parameters()},\n",
        "], lr=0.01)\n",
        "\n",
        "mll = gpytorch.mlls.VariationalELBO(likelihood, model, num_data=y.size(0))\n",
        "\n",
        "mae_list = list()\n",
        "loss_list = list()\n",
        "\n",
        "for iter in pbar:\n",
        "    optimizer.zero_grad();\n",
        "    y_pred = model(x[:,None])\n",
        "    loss = -mll(y_pred, y)\n",
        "    loss.backward()\n",
        "    optimizer.step()\n",
        "    loss_list.append(loss.item())"
      ],
      "metadata": {
        "colab": {
          "base_uri": "https://localhost:8080/"
        },
        "id": "NjzLE17S9W82",
        "outputId": "5eb78ff9-29e7-4b3c-86b7-ccc97fc744ec"
      },
      "execution_count": null,
      "outputs": [
        {
          "output_type": "stream",
          "name": "stderr",
          "text": [
            " 51%|█████▏    | 15407/30000 [03:11<02:20, 103.62it/s]"
          ]
        }
      ]
    },
    {
      "cell_type": "code",
      "source": [
        "model.eval()\n",
        "likelihood.eval()\n",
        "\n",
        "f_preds = model(domain[:,None])\n",
        "y_preds = likelihood(f_preds)\n",
        "\n",
        "f_mean = f_preds.loc\n",
        "f_var = f_preds.variance\n",
        "f_covar = f_preds.covariance_matrix\n",
        "\n",
        "N_samples = 1000\n",
        "breakpoints = torch.linspace(0, 1, N_samples+1)[:-1]\n",
        "breakpoints = breakpoints + breakpoints[1] * torch.rand_like(breakpoints)\n",
        "\n",
        "with torch.no_grad():\n",
        "    pred_samples = torch.distributions.Normal(f_mean, f_var.sqrt()).icdf(breakpoints[:,None])\n",
        "\n",
        "plot_result(pred_samples)"
      ],
      "metadata": {
        "id": "IuxWy3fT9ktf"
      },
      "execution_count": null,
      "outputs": []
    }
  ]
}