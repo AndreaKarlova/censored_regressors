{
  "nbformat": 4,
  "nbformat_minor": 0,
  "metadata": {
    "colab": {
      "provenance": []
    },
    "kernelspec": {
      "name": "python3",
      "display_name": "Python 3"
    },
    "language_info": {
      "name": "python"
    }
  },
  "cells": [
    {
      "cell_type": "code",
      "execution_count": null,
      "metadata": {
        "colab": {
          "base_uri": "https://localhost:8080/"
        },
        "id": "Gh_fxrApqlBl",
        "outputId": "8240a357-de1d-453b-b20e-716254fc4598"
      },
      "outputs": [
        {
          "output_type": "stream",
          "name": "stdout",
          "text": [
            "\u001b[?25l     \u001b[90m━━━━━━━━━━━━━━━━━━━━━━━━━━━━━━━━━━━━━━━━\u001b[0m \u001b[32m0.0/266.1 kB\u001b[0m \u001b[31m?\u001b[0m eta \u001b[36m-:--:--\u001b[0m\r\u001b[2K     \u001b[91m━━━━━━━━━━━━━━━━━━━━━━━━━━\u001b[0m\u001b[90m╺\u001b[0m\u001b[90m━━━━━━━━━━━━━\u001b[0m \u001b[32m174.1/266.1 kB\u001b[0m \u001b[31m5.1 MB/s\u001b[0m eta \u001b[36m0:00:01\u001b[0m\r\u001b[2K     \u001b[90m━━━━━━━━━━━━━━━━━━━━━━━━━━━━━━━━━━━━━━━━\u001b[0m \u001b[32m266.1/266.1 kB\u001b[0m \u001b[31m4.9 MB/s\u001b[0m eta \u001b[36m0:00:00\u001b[0m\n",
            "\u001b[2K     \u001b[90m━━━━━━━━━━━━━━━━━━━━━━━━━━━━━━━━━━━━━━━━\u001b[0m \u001b[32m175.6/175.6 kB\u001b[0m \u001b[31m6.8 MB/s\u001b[0m eta \u001b[36m0:00:00\u001b[0m\n",
            "\u001b[2K     \u001b[90m━━━━━━━━━━━━━━━━━━━━━━━━━━━━━━━━━━━━━━━━\u001b[0m \u001b[32m40.7/40.7 kB\u001b[0m \u001b[31m4.9 MB/s\u001b[0m eta \u001b[36m0:00:00\u001b[0m\n",
            "\u001b[?25h"
          ]
        }
      ],
      "source": [
        "!pip install -Uq gpytorch"
      ]
    },
    {
      "cell_type": "code",
      "source": [
        "import tqdm\n",
        "import math\n",
        "import torch\n",
        "import numpy as np\n",
        "\n",
        "import torch.distributions as dist\n",
        "\n",
        "import gpytorch\n",
        "import pandas as pd\n",
        "from matplotlib import pyplot as plt"
      ],
      "metadata": {
        "id": "EfRwvQMpttWI"
      },
      "execution_count": null,
      "outputs": []
    },
    {
      "cell_type": "code",
      "source": [
        "import math\n",
        "from numbers import Number, Real\n",
        "\n",
        "import torch\n",
        "from torch.distributions import constraints\n",
        "from torch.distributions.exp_family import ExponentialFamily\n",
        "from torch.distributions.utils import _standard_normal, broadcast_all\n",
        "\n",
        "\n",
        "class CensoredNormal(ExponentialFamily):\n",
        "    \"\"\"\n",
        "    Creates a censored normal (also called Gaussian) distribution parameterized by\n",
        "    :attr:`loc` and :attr:`scale` and :attr:`low`  and :attr:`high`\n",
        "\n",
        "    Example::\n",
        "\n",
        "        >>> # xdoctest: +IGNORE_WANT(\"non-deterministic\")\n",
        "        >>> m = CensoredNormal(\n",
        "          torch.tensor([0.0]), torch.tensor([1.0]),\n",
        "          torch.tensor([-0.5]), torch.tensor([0.5])\n",
        "          )\n",
        "        >>> m.sample(sample_shape=(3,1))\n",
        "        tensor([[0.5000],\n",
        "            [0.5000],\n",
        "            [0.1836]])\n",
        "        tensor([ 0.1046])\n",
        "\n",
        "    Args:\n",
        "        loc (float or Tensor): mean of the base normal distribution (often referred to as mu) to which the censoring is applied\n",
        "        scale (float or Tensor): standard deviation of the base normal distribution to which the censoring is applied\n",
        "        low (float or Tensor): lower censoring boundary\n",
        "        high (float or Tensor): upper censoring boundary\n",
        "    \"\"\"\n",
        "    arg_constraints = {\n",
        "        \"loc\": constraints.real,\n",
        "        \"scale\": constraints.positive,\n",
        "        \"low\": constraints.dependent(is_discrete=False, event_dim=0),\n",
        "        \"high\": constraints.dependent(is_discrete=False, event_dim=0)}\n",
        "    has_rsample = True\n",
        "    _mean_carrier_measure = 0\n",
        "\n",
        "    @property\n",
        "    def mean(self):\n",
        "        x_high = (self.high - self.loc)/self.scale\n",
        "        cdf_high = self._normal_cdf(self.high)\n",
        "        pdf_high = math.exp(self._normal_log_prob(self.high))\n",
        "        x_low = (self.low - self.loc)/self.scale\n",
        "        cdf_low = self._normal_cdf(self.low)\n",
        "        pdf_low = math.exp(self._normal_log_prob(self.low))\n",
        "        term1 = cdf_high - cdf_low\n",
        "        term2 = pdf_high - pdf_low\n",
        "        return self.loc * term1 - self.scale * term2\n",
        "\n",
        "    @property\n",
        "    def stddev(self):\n",
        "        return self.variance.sqrt()\n",
        "\n",
        "    @property\n",
        "    def variance(self):\n",
        "        x_high = (self.high - self.loc)/self.scale\n",
        "        cdf_high = self._normal_cdf(self.high)\n",
        "        pdf_high = math.exp(self._normal_log_prob(self.high))\n",
        "        x_low = (self.low - self.loc)/self.scale\n",
        "        cdf_low = self._normal_cdf(self.low)\n",
        "        pdf_low = math.exp(self._normal_log_prob(self.low))\n",
        "        term1 = cdf_high - cdf_low\n",
        "        term2 = x_high * pdf_high - x_low * pdf_low\n",
        "        return  (self.scale ** 2) * (term1 - term2)\n",
        "\n",
        "\n",
        "    def __init__(self, loc, scale, low, high, validate_args=None):\n",
        "        self.loc, self.scale, self.low, self.high = broadcast_all(loc, scale, low, high)\n",
        "        if isinstance(loc, Number) and isinstance(scale, Number) and isinstance(low, Number) and isinstance(high, Number):\n",
        "            batch_shape = torch.Size()\n",
        "        else:\n",
        "            batch_shape = self.loc.size()\n",
        "        support = constraints.interval(low, high)\n",
        "        super().__init__(batch_shape, validate_args=validate_args)\n",
        "\n",
        "    def expand(self, batch_shape, _instance=None):\n",
        "        new = self._get_checked_instance(CensoredNormal, _instance)\n",
        "        batch_shape = torch.Size(batch_shape)\n",
        "        new.loc = self.loc.expand(batch_shape)\n",
        "        new.scale = self.scale.expand(batch_shape)\n",
        "        new.low = self.low.expand(batch_shape)\n",
        "        new.high = self.high.expand(batch_shape)\n",
        "        super(CensoredNormal, new).__init__(batch_shape, validate_args=False)\n",
        "        new._validate_args = self._validate_args\n",
        "        return new\n",
        "\n",
        "    @constraints.dependent_property(is_discrete=False, event_dim=0)\n",
        "    def support(self):\n",
        "        return constraints.interval(self.low, self.high)\n",
        "\n",
        "\n",
        "    def sample(self, sample_shape=torch.Size()):\n",
        "        shape = self._extended_shape(sample_shape)\n",
        "        with torch.no_grad():\n",
        "            samples = torch.normal(self.loc.expand(shape), self.scale.expand(shape))\n",
        "            return samples.clamp(min=self.low, max=self.high)\n",
        "\n",
        "\n",
        "    def rsample(self, sample_shape=torch.Size()):\n",
        "        shape = self._extended_shape(sample_shape)\n",
        "        eps = _standard_normal(shape, dtype=self.loc.dtype, device=self.loc.device)\n",
        "        rsamples =  self.loc + eps * self.scale\n",
        "        return rsamples.clamp(min=self.low, max=self.high)\n",
        "\n",
        "    def pdf(self, value):\n",
        "        if self._validate_args:\n",
        "            self._validate_sample(value)\n",
        "        probs = torch.exp(self.log_prob(value))\n",
        "        lower_cdf_mass = self._normal_cdf(self.low)\n",
        "        upper_cdf_mass = 1 - self._normal_cdf(self.high)\n",
        "        probs = torch.where(value <= self.low, lower_cdf_mass, probs)\n",
        "        probs = torch.where(value >= self.high, upper_cdf_mass, probs)\n",
        "        return probs\n",
        "\n",
        "    def log_prob(self, value, jitter=1e-12):\n",
        "        \"\"\"jitter: used to bounce off NormCDF from 0 before applying log \"\"\"\n",
        "        if self._validate_args:\n",
        "            self._validate_sample(value)\n",
        "        log_probs = self._normal_log_prob(value)\n",
        "        lower_log_cdf_mass = math.log(self._normal_cdf(self.low) + jitter) if isinstance(self._normal_cdf(self.low) + jitter,\n",
        "                                                                                                Number) else (self._normal_cdf(self.low) + jitter).log()\n",
        "        upper_log_cdf_mass = math.log(1 - self._normal_cdf(self.high) + jitter) if isinstance(1 - self._normal_cdf(self.high) + jitter,\n",
        "                                                                                                    Number) else (1 - self._normal_cdf(self.high) + jitter).log()\n",
        "        log_probs = torch.where(value <= self.low, lower_log_cdf_mass, log_probs)\n",
        "        log_probs = torch.where(value >= self.high, upper_log_cdf_mass, log_probs)\n",
        "        return log_probs\n",
        "\n",
        "    def cdf(self, value):\n",
        "        if self._validate_args:\n",
        "            self._validate_sample(value)\n",
        "        cdf_ = self._normal_cdf(value)\n",
        "        cdf_ = torch.where(value < self.low, 0, cdf_)\n",
        "        cdf_ = torch.where(value > self.high, 1, cdf_)\n",
        "        return cdf_\n",
        "\n",
        "    def icdf(self, value):\n",
        "        result = self._normal_icdf(value)\n",
        "        return result.clamp(min=self.low, max=self.high)\n",
        "\n",
        "    def entropy(self, jitter=1e-12):\n",
        "        x_low = (self.low - self.loc)/self.scale\n",
        "        x_high = (self.high - self.loc)/self.scale\n",
        "\n",
        "        logcdf_x_low = math.log(self._normal_cdf(self.low) + jitter) if isinstance(self._normal_cdf(self.low) + jitter,\n",
        "                                                                                                  Number) else (self._normal_cdf(self.low) + jitter).log()\n",
        "        logcdf_x_high = math.log(self._normal_cdf_standardized(-x_high) + jitter) if isinstance(self._normal_cdf_standardized(x_high) + jitter,\n",
        "                                                                                                      Number) else (self._normal_cdf_standardized(-x_high) + jitter).log()\n",
        "\n",
        "        term1 = self._normal_entropy() * (self._normal_cdf(self.high)- self._normal_cdf(self.low))\n",
        "        term2 = 0.5 * (x_high * torch.exp(self._normal_log_prob(self.high)) - x_low * torch.exp(self._normal_log_prob(self.low)))\n",
        "        term3 = logcdf_x_low * self._normal_cdf(self.low)\n",
        "        term4 = logcdf_x_high * (self._normal_cdf_standardized(-x_high))\n",
        "        return term1 - term2 - term3 - term4\n",
        "\n",
        "\n",
        "    def _normal_log_prob(self, value):\n",
        "            # compute the variance\n",
        "            var = self.scale**2\n",
        "            log_scale = (\n",
        "                math.log(self.scale) if isinstance(self.scale, Real) else self.scale.log()\n",
        "            )\n",
        "            return (\n",
        "                -((value - self.loc) ** 2) / (2 * var)\n",
        "                - log_scale\n",
        "                - math.log(math.sqrt(2 * math.pi))\n",
        "            )\n",
        "\n",
        "    def _normal_cdf(self, value):\n",
        "        return 0.5 * (\n",
        "            1 + torch.erf((value - self.loc) * self.scale.reciprocal() / math.sqrt(2))\n",
        "        )\n",
        "\n",
        "    def _normal_cdf_standardized(self, z):\n",
        "        return 0.5 * (\n",
        "            1 + torch.erf(z / math.sqrt(2))\n",
        "        )\n",
        "\n",
        "    def _normal_icdf(self, value):\n",
        "        return self.loc + self.scale * torch.erfinv(2 * value - 1) * math.sqrt(2)\n",
        "\n",
        "\n",
        "    def _normal_entropy(self):\\\n",
        "        # log(sqrt(2 pi e) * sigma) = 0.5 * log(2 pi e) + log(sigma) = 0.5 + 0.5 (log(2 pi)) + log(sigma)\n",
        "        return 0.5 + 0.5 * math.log(2 * math.pi) + torch.log(self.scale)\n",
        "\n",
        "    @property\n",
        "    def _normal_natural_params(self):\n",
        "        return (self.loc / self.scale.pow(2), -0.5 * self.scale.pow(2).reciprocal())\n",
        "\n",
        "    def _log_normalizer(self, x, y):\n",
        "        return -0.25 * x.pow(2) / y + 0.5 * torch.log(-math.pi / y)"
      ],
      "metadata": {
        "id": "w4MUmvskLP0w"
      },
      "execution_count": 142,
      "outputs": []
    },
    {
      "cell_type": "code",
      "source": [
        "import warnings\n",
        "from typing import Any\n",
        "\n",
        "import torch\n",
        "from linear_operator.operators import LinearOperator, ZeroLinearOperator\n",
        "from torch import Tensor\n",
        "from torch.distributions import Distribution, Normal\n",
        "\n",
        "from gpytorch.constraints import Interval\n",
        "from gpytorch.distributions import base_distributions, MultivariateNormal\n",
        "from gpytorch.priors import Prior\n",
        "from gpytorch.utils.warnings import GPInputWarning\n",
        "from gpytorch.likelihoods.likelihood import _Likelihood, _OneDimensionalLikelihood\n",
        "\n",
        "\n",
        "class CensoredGaussianLikelihood(_Likelihood):\n",
        "    \"\"\"Base class for Censored Gaussian Likelihoods.\"\"\"\n",
        "    def __init__(self, variance=None, low=None, high=None) -> None:\n",
        "        super().__init__()\n",
        "\n",
        "        variance = torch.tensor(1.) if variance is None else variance\n",
        "        self.noise = gpytorch.likelihoods.noise_models.HomoskedasticNoise()\n",
        "        self.noise.initialize(noise=variance)\n",
        "        self.low = low\n",
        "        self.high = high\n",
        "\n",
        "    @property\n",
        "    def variance(self):\n",
        "      return self.noise.noise\n",
        "\n",
        "    def forward(self, function_samples: Tensor, *params: Any, **kwargs: Any):\n",
        "        return CensoredNormal(function_samples, scale=self.variance.sqrt(), low=self.low, high=self.high)\n",
        "\n",
        "class CensoredGaussianLikelihoodMathematica(CensoredGaussianLikelihood):\n",
        "    def __init__(self, variance=None, low=None, high=None) -> None:\n",
        "        super().__init__(variance, low, high)\n",
        "\n",
        "    def expected_log_prob(self, target: Tensor, input: MultivariateNormal, *params: Any, **kwargs: Any) -> Tensor:\n",
        "        noise = self.variance # likelihood\n",
        "        mean, variance = input.mean, input.variance # approximate posterior\n",
        "\n",
        "        jitter_=1e-16\n",
        "\n",
        "        upper_censor = lambda x, s: (self.high - x) / s\n",
        "        lower_censor = lambda x, s: (self.low - x) / s\n",
        "\n",
        "        standard_normal = dist.Normal(0,1)\n",
        "         # Gaussian term\n",
        "        term1 = 2. + torch.log(noise) + math.log(2 * math.pi)\n",
        "        term2 = ((target - mean).square() + variance) * noise.reciprocal()\n",
        "        term3 = standard_normal.cdf(upper_censor(mean, variance.sqrt())) - standard_normal.cdf(lower_censor(mean, variance.sqrt()))\n",
        "        normal_part_unscaled = (term1 - term2).mul(0.5)\n",
        "        normal_part = normal_part_unscaled * term3\n",
        "\n",
        "        # upper term\n",
        "        x1 = (self.high - 2*target + mean) * variance.sqrt()\n",
        "        term4 = torch.clamp_min(standard_normal.cdf(-upper_censor(target, variance.sqrt())), jitter_).log() + 0.5 * x1 * noise.reciprocal()\n",
        "        upper_censored_part = term4 * standard_normal.log_prob(upper_censor(mean, variance.sqrt())).exp()\n",
        "\n",
        "        # lower term\n",
        "        x2 = (self.low - 2*target + mean) * variance.sqrt()\n",
        "        term5 = torch.clamp_min(standard_normal.cdf(lower_censor(target, variance.sqrt())), jitter_).log() - 0.5 * x2 * noise.reciprocal()\n",
        "        lower_censored_part = term5 * standard_normal.log_prob(lower_censor(mean, variance.sqrt())).exp()\n",
        "\n",
        "        res = normal_part - lower_censored_part - upper_censored_part\n",
        "        return res\n",
        "\n",
        "class CensoredGaussianLikelihoodAnalytic(CensoredGaussianLikelihood):\n",
        "    def __init__(self, variance=None, low=None, high=None) -> None:\n",
        "        super().__init__(variance, low, high)\n",
        "\n",
        "    def expected_log_prob(self, target: Tensor, input: MultivariateNormal, *params: Any, **kwargs: Any) -> Tensor:\n",
        "        noise = self.variance # likelihood\n",
        "        mean, variance = input.mean, input.variance # approximate posterior\n",
        "\n",
        "        jitter_=1e-16\n",
        "\n",
        "        upper_censor = lambda x, s: (self.high - x) / s\n",
        "        lower_censor = lambda x, s: (self.low - x) / s\n",
        "\n",
        "        standard_normal = dist.Normal(0,1)\n",
        "         # Gaussian term\n",
        "        term1 = torch.log(noise) + math.log(2 * math.pi)\n",
        "        term2 = ((target - mean).square() + variance) * noise.reciprocal()\n",
        "        term3 = standard_normal.cdf(upper_censor(mean, variance.sqrt())) - standard_normal.cdf(lower_censor(mean, variance.sqrt()))\n",
        "        normal_part_unscaled = (term1 - term2).mul(0.5)\n",
        "        normal_part = normal_part_unscaled * term3\n",
        "\n",
        "        # upper term\n",
        "        x1 = (self.high - 2*target + mean) * variance.sqrt()\n",
        "        term4 = torch.clamp_min(standard_normal.cdf(-upper_censor(target, variance.sqrt())), jitter_).log() + 0.5 * x1 * noise.reciprocal()\n",
        "        upper_censored_part = term4 * standard_normal.log_prob(upper_censor(mean, variance.sqrt())).exp()\n",
        "\n",
        "        # lower term\n",
        "        x2 = (self.low - 2*target + mean) * variance.sqrt()\n",
        "        term5 = torch.clamp_min(standard_normal.cdf(lower_censor(target, variance.sqrt())), jitter_).log() - 0.5 * x2 * noise.reciprocal()\n",
        "        lower_censored_part = term5 * standard_normal.log_prob(lower_censor(mean, variance.sqrt())).exp()\n",
        "\n",
        "        res = normal_part - lower_censored_part - upper_censored_part\n",
        "        return res"
      ],
      "metadata": {
        "id": "roc6L9a_To9F"
      },
      "execution_count": 251,
      "outputs": []
    },
    {
      "cell_type": "code",
      "source": [
        "print('\\nMathematica:')\n",
        "print(torch.as_tensor([\n",
        "    CensoredGaussianLikelihoodMathematica(variance=1,low=-1,high=1).expected_log_prob(\n",
        "        y[None],\n",
        "        MultivariateNormal(y[None], torch.diag(torch.ones(1)))\n",
        "    )\n",
        "    for y in torch.as_tensor([-1, -0.5, 0, 0.5, 1])\n",
        "]).numpy(force=True).round(6))\n",
        "\n",
        "print('\\nAnalytic:')\n",
        "print(torch.as_tensor([\n",
        "    CensoredGaussianLikelihoodAnalytic(variance=1,low=-1,high=1).expected_log_prob(\n",
        "        y[None],\n",
        "        MultivariateNormal(y[None], torch.diag(torch.ones(1)))\n",
        "    )\n",
        "    for y in torch.as_tensor([-1, -0.5, 0, 0.5, 1])\n",
        "]).numpy(force=True).round(6))\n",
        "\n",
        "print('\\nAnalytic - Mathematica:')\n",
        "print(torch.as_tensor([\n",
        "    CensoredGaussianLikelihoodAnalytic(variance=1,low=-1,high=1).expected_log_prob(\n",
        "        y[None],\n",
        "        MultivariateNormal(y[None], torch.diag(torch.ones(1)))\n",
        "    )\n",
        "    for y in torch.as_tensor([-1, -0.5, 0, 0.5, 1])\n",
        "]).numpy(force=True).round(6) - np.array([1.103980, 1.465660, 1.617670, 1.465660, 1.103980]))"
      ],
      "metadata": {
        "colab": {
          "base_uri": "https://localhost:8080/"
        },
        "id": "A9Rai-2RlDUB",
        "outputId": "f89e67c8-deb6-4f6e-e4db-c21f9d0f8fe9"
      },
      "execution_count": 252,
      "outputs": [
        {
          "output_type": "stream",
          "name": "stdout",
          "text": [
            "\n",
            "Mathematica:\n",
            "[1.103981 1.465658 1.61767  1.465658 1.103981]\n",
            "\n",
            "Analytic:\n",
            "[0.626731 0.841003 0.934981 0.841003 0.626731]\n",
            "\n",
            "Analytic - Mathematica:\n",
            "[-0.47724902 -0.624657   -0.68268901 -0.624657   -0.47724902]\n"
          ]
        }
      ]
    },
    {
      "cell_type": "code",
      "source": [
        "for y_i in torch.linspace(-1., 1., 10):\n",
        "    print('y',y_i)\n",
        "    lik_i = CensoredGaussianLikelihoodAnalytic(0.1,y_i,y_i+1)\n",
        "    print('lik',(0.1,y_i,y_i+1))\n",
        "    f_i = MultivariateNormal(y_i[None], torch.diag(torch.ones(1)))\n",
        "    print('f',f_i)\n",
        "    print(lik_i.expected_log_prob(y_i[None],f_i))\n",
        "    print('='*40)"
      ],
      "metadata": {
        "colab": {
          "base_uri": "https://localhost:8080/"
        },
        "id": "nyj-VCxDX2Dh",
        "outputId": "715c3bb0-fc60-4b5f-dbc5-6c09f6687f4d"
      },
      "execution_count": 238,
      "outputs": [
        {
          "output_type": "stream",
          "name": "stdout",
          "text": [
            "y tensor(-1.)\n",
            "lik (0.1, tensor(-1.), tensor(0.))\n",
            "f MultivariateNormal(loc: tensor([-1.]), covariance_matrix: tensor([[1.]]))\n",
            "tensor([-2.2739], grad_fn=<SubBackward0>)\n",
            "========================================\n",
            "y tensor(-0.7778)\n",
            "lik (0.1, tensor(-0.7778), tensor(0.2222))\n",
            "f MultivariateNormal(loc: tensor([-0.7778]), covariance_matrix: tensor([[1.]]))\n",
            "tensor([-2.2739], grad_fn=<SubBackward0>)\n",
            "========================================\n",
            "y tensor(-0.5556)\n",
            "lik (0.1, tensor(-0.5556), tensor(0.4444))\n",
            "f MultivariateNormal(loc: tensor([-0.5556]), covariance_matrix: tensor([[1.]]))\n",
            "tensor([-2.2739], grad_fn=<SubBackward0>)\n",
            "========================================\n",
            "y tensor(-0.3333)\n",
            "lik (0.1, tensor(-0.3333), tensor(0.6667))\n",
            "f MultivariateNormal(loc: tensor([-0.3333]), covariance_matrix: tensor([[1.]]))\n",
            "tensor([-2.2739], grad_fn=<SubBackward0>)\n",
            "========================================\n",
            "y tensor(-0.1111)\n",
            "lik (0.1, tensor(-0.1111), tensor(0.8889))\n",
            "f MultivariateNormal(loc: tensor([-0.1111]), covariance_matrix: tensor([[1.]]))\n",
            "tensor([-2.2739], grad_fn=<SubBackward0>)\n",
            "========================================\n",
            "y tensor(0.1111)\n",
            "lik (0.1, tensor(0.1111), tensor(1.1111))\n",
            "f MultivariateNormal(loc: tensor([0.1111]), covariance_matrix: tensor([[1.]]))\n",
            "tensor([-2.2739], grad_fn=<SubBackward0>)\n",
            "========================================\n",
            "y tensor(0.3333)\n",
            "lik (0.1, tensor(0.3333), tensor(1.3333))\n",
            "f MultivariateNormal(loc: tensor([0.3333]), covariance_matrix: tensor([[1.]]))\n",
            "tensor([-2.2739], grad_fn=<SubBackward0>)\n",
            "========================================\n",
            "y tensor(0.5556)\n",
            "lik (0.1, tensor(0.5556), tensor(1.5556))\n",
            "f MultivariateNormal(loc: tensor([0.5556]), covariance_matrix: tensor([[1.]]))\n",
            "tensor([-2.2739], grad_fn=<SubBackward0>)\n",
            "========================================\n",
            "y tensor(0.7778)\n",
            "lik (0.1, tensor(0.7778), tensor(1.7778))\n",
            "f MultivariateNormal(loc: tensor([0.7778]), covariance_matrix: tensor([[1.]]))\n",
            "tensor([-2.2739], grad_fn=<SubBackward0>)\n",
            "========================================\n",
            "y tensor(1.)\n",
            "lik (0.1, tensor(1.), tensor(2.))\n",
            "f MultivariateNormal(loc: tensor([1.]), covariance_matrix: tensor([[1.]]))\n",
            "tensor([-2.2739], grad_fn=<SubBackward0>)\n",
            "========================================\n"
          ]
        }
      ]
    },
    {
      "cell_type": "code",
      "source": [
        "def rgetattr(o, k_list):\n",
        "  for k in k_list:\n",
        "    o = getattr(o,k)\n",
        "  return o\n",
        "\n",
        "def print_module(module):\n",
        "  with torch.no_grad():\n",
        "    for name, _ in module.named_parameters():\n",
        "      name = name.replace('raw_','')\n",
        "      param = rgetattr(module, name.split('.'))\n",
        "      print(f'{name:35} {tuple(param.shape)}\\n{param.numpy().round(10)}')\n",
        "\n",
        "def get_module(module):\n",
        "  ret = {}\n",
        "  with torch.no_grad():\n",
        "    for name, _ in module.named_parameters():\n",
        "      name = name.replace('raw_','')\n",
        "      param = rgetattr(module, name.split('.'))\n",
        "      ret[name] = param.numpy()\n",
        "  return ret"
      ],
      "metadata": {
        "id": "AsaHG4UbHapk"
      },
      "execution_count": 239,
      "outputs": []
    },
    {
      "cell_type": "markdown",
      "source": [
        "# Synthetic 1D"
      ],
      "metadata": {
        "id": "s2QOhsPCB1AS"
      }
    },
    {
      "cell_type": "code",
      "source": [
        "MAX_VALUE = 0.0\n",
        "\n",
        "def noise_free_target(x):\n",
        "    y = (x-2)*10\n",
        "    return y * torch.sin(y) / 2\n",
        "\n",
        "def oracle(x):\n",
        "    return torch.clamp_max(noise_free_target(x) + torch.randn(x.shape) , 0.0)"
      ],
      "metadata": {
        "id": "3GMFcYiDpYry"
      },
      "execution_count": 224,
      "outputs": []
    },
    {
      "cell_type": "code",
      "source": [
        "N_init = 15\n",
        "np.random.seed(0)\n",
        "x = torch.FloatTensor(np.random.rand(N_init))\n",
        "torch.sort(x)\n",
        "y = oracle(x)\n",
        "\n",
        "domain = torch.linspace(0, 1, 500)\n",
        "plt.plot(domain, noise_free_target(domain), '--');\n",
        "plt.plot(domain, torch.clamp_max(noise_free_target(domain), 0), '-');\n",
        "plt.plot(x, y, 'k.')"
      ],
      "metadata": {
        "colab": {
          "base_uri": "https://localhost:8080/",
          "height": 453
        },
        "id": "VGn55MQYqAum",
        "outputId": "70ea0757-5348-4ecf-8d96-adcfc06d8f0c"
      },
      "execution_count": 225,
      "outputs": [
        {
          "output_type": "execute_result",
          "data": {
            "text/plain": [
              "[<matplotlib.lines.Line2D at 0x78f6281df010>]"
            ]
          },
          "metadata": {},
          "execution_count": 225
        },
        {
          "output_type": "display_data",
          "data": {
            "text/plain": [
              "<Figure size 640x480 with 1 Axes>"
            ],
            "image/png": "[encoded data removed]"
          },
          "metadata": {}
        }
      ]
    },
    {
      "cell_type": "markdown",
      "source": [
        "# ELBO Implementation"
      ],
      "metadata": {
        "id": "83pBrXgS8zcm"
      }
    },
    {
      "cell_type": "code",
      "source": [
        "from gpytorch.models import ApproximateGP # handles basic variational inference\n",
        "from gpytorch.variational import CholeskyVariationalDistribution # distribution of the approximation q(f)\n",
        "from gpytorch.variational import VariationalStrategy # use when larger sample - transform q(u) to q(f) over inducing points\n",
        "\n",
        "class GPModel(ApproximateGP):\n",
        "    def __init__(self, inducing_points):\n",
        "        # defines approximation\n",
        "        variational_distribution = CholeskyVariationalDistribution(inducing_points.size(0))\n",
        "        variational_strategy = VariationalStrategy(self, inducing_points,\n",
        "                                                   variational_distribution, learn_inducing_locations=False)\n",
        "        super(GPModel, self).__init__(variational_strategy)\n",
        "        # defines the GP\n",
        "        self.mean_module = gpytorch.means.ConstantMean()\n",
        "        self.covar_module = gpytorch.kernels.ScaleKernel(gpytorch.kernels.RBFKernel())\n",
        "\n",
        "    def forward(self, x):\n",
        "        mean_x = self.mean_module(x)\n",
        "        covar_x = self.covar_module(x)\n",
        "        return gpytorch.distributions.MultivariateNormal(mean_x, covar_x)\n",
        "\n",
        "\n",
        "model = GPModel(inducing_points=x[:,None])\n",
        "likelihood = CensoredGaussianLikelihoodAnalytic(low=-100., high=MAX_VALUE)\n",
        "\n",
        "if torch.cuda.is_available():\n",
        "    model = model.cuda()\n",
        "    likelihood = likelihood.cuda()"
      ],
      "metadata": {
        "id": "SN0H6-34CUqY"
      },
      "execution_count": 240,
      "outputs": []
    },
    {
      "cell_type": "code",
      "source": [
        "model.covar_module.base_kernel.initialize(lengthscale=0.5)\n",
        "model.covar_module.initialize(outputscale=5);\n",
        "model.mean_module.initialize(constant=0.1)\n",
        "likelihood.noise.initialize(noise=.5);"
      ],
      "metadata": {
        "id": "lImNW7RWfqw-"
      },
      "execution_count": 241,
      "outputs": []
    },
    {
      "cell_type": "code",
      "source": [
        "print_module(likelihood)\n",
        "print_module(model)"
      ],
      "metadata": {
        "colab": {
          "base_uri": "https://localhost:8080/"
        },
        "id": "RQvx3Q_cIF4Y",
        "outputId": "f6a46228-373a-42a4-9ded-68922d0037df"
      },
      "execution_count": 242,
      "outputs": [
        {
          "output_type": "stream",
          "name": "stdout",
          "text": [
            "noise.noise                         (1,)\n",
            "[0.49999994]\n",
            "variational_strategy._variational_distribution.variational_mean (15,)\n",
            "[0. 0. 0. 0. 0. 0. 0. 0. 0. 0. 0. 0. 0. 0. 0.]\n",
            "variational_strategy._variational_distribution.chol_variational_covar (15, 15)\n",
            "[[1. 0. 0. 0. 0. 0. 0. 0. 0. 0. 0. 0. 0. 0. 0.]\n",
            " [0. 1. 0. 0. 0. 0. 0. 0. 0. 0. 0. 0. 0. 0. 0.]\n",
            " [0. 0. 1. 0. 0. 0. 0. 0. 0. 0. 0. 0. 0. 0. 0.]\n",
            " [0. 0. 0. 1. 0. 0. 0. 0. 0. 0. 0. 0. 0. 0. 0.]\n",
            " [0. 0. 0. 0. 1. 0. 0. 0. 0. 0. 0. 0. 0. 0. 0.]\n",
            " [0. 0. 0. 0. 0. 1. 0. 0. 0. 0. 0. 0. 0. 0. 0.]\n",
            " [0. 0. 0. 0. 0. 0. 1. 0. 0. 0. 0. 0. 0. 0. 0.]\n",
            " [0. 0. 0. 0. 0. 0. 0. 1. 0. 0. 0. 0. 0. 0. 0.]\n",
            " [0. 0. 0. 0. 0. 0. 0. 0. 1. 0. 0. 0. 0. 0. 0.]\n",
            " [0. 0. 0. 0. 0. 0. 0. 0. 0. 1. 0. 0. 0. 0. 0.]\n",
            " [0. 0. 0. 0. 0. 0. 0. 0. 0. 0. 1. 0. 0. 0. 0.]\n",
            " [0. 0. 0. 0. 0. 0. 0. 0. 0. 0. 0. 1. 0. 0. 0.]\n",
            " [0. 0. 0. 0. 0. 0. 0. 0. 0. 0. 0. 0. 1. 0. 0.]\n",
            " [0. 0. 0. 0. 0. 0. 0. 0. 0. 0. 0. 0. 0. 1. 0.]\n",
            " [0. 0. 0. 0. 0. 0. 0. 0. 0. 0. 0. 0. 0. 0. 1.]]\n",
            "mean_module.constant                ()\n",
            "0.10000000149011612\n",
            "covar_module.outputscale            ()\n",
            "5.0\n",
            "covar_module.base_kernel.lengthscale (1, 1)\n",
            "[[0.5]]\n"
          ]
        }
      ]
    },
    {
      "cell_type": "code",
      "source": [
        "num_epochs = 20_000\n",
        "pbar = tqdm.tqdm(range(num_epochs), position=0, leave=True)\n",
        "\n",
        "model.train()\n",
        "likelihood.train()\n",
        "\n",
        "optimizer = torch.optim.Adam([\n",
        "    {'params': model.parameters()},\n",
        "    {'params': likelihood.parameters()},\n",
        "], lr=0.001)\n",
        "\n",
        "mll = gpytorch.mlls.VariationalELBO(likelihood, model, num_data=y.size(0))\n",
        "\n",
        "params_log = dict()\n",
        "for iter in pbar:\n",
        "    optimizer.zero_grad();\n",
        "    y_pred = model(x[:,None])\n",
        "    loss = -mll(y_pred, y)\n",
        "    loss.backward()\n",
        "    optimizer.step()\n",
        "    param_log[iter] = {\n",
        "        'loss': loss.item(),\n",
        "        'outscale': model.covar_module.outputscale.item(),\n",
        "        'mean_module': model.mean_module.constant.item(),\n",
        "        'noise': likelihood.noise.noise.item()\n",
        "        }\n",
        "\n",
        "    if iter%100==0:\n",
        "      for key, val in param_log[iter].items():\n",
        "        print(key, val)"
      ],
      "metadata": {
        "colab": {
          "base_uri": "https://localhost:8080/"
        },
        "id": "IEzI4NA027bQ",
        "outputId": "68d3a6d1-e6ed-47aa-9178-8fc35fcafdbf"
      },
      "execution_count": 245,
      "outputs": [
        {
          "output_type": "stream",
          "name": "stderr",
          "text": [
            "  0%|          | 20/20000 [00:00<03:33, 93.72it/s]"
          ]
        },
        {
          "output_type": "stream",
          "name": "stdout",
          "text": [
            "loss -0.1829809546470642\n",
            "outscale 4.617129802703857\n",
            "mean_module 0.05851111561059952\n",
            "noise 0.6546681523323059\n"
          ]
        },
        {
          "output_type": "stream",
          "name": "stderr",
          "text": [
            "  1%|          | 109/20000 [00:01<05:39, 58.64it/s]"
          ]
        },
        {
          "output_type": "stream",
          "name": "stdout",
          "text": [
            "loss -1.6538199186325073\n",
            "outscale 4.519364833831787\n",
            "mean_module 0.028847884386777878\n",
            "noise 0.7022887468338013\n"
          ]
        },
        {
          "output_type": "stream",
          "name": "stderr",
          "text": [
            "  1%|          | 207/20000 [00:03<05:43, 57.70it/s]"
          ]
        },
        {
          "output_type": "stream",
          "name": "stdout",
          "text": [
            "loss -2.12290096282959\n",
            "outscale 4.455609321594238\n",
            "mean_module 0.014229019172489643\n",
            "noise 0.748451828956604\n"
          ]
        },
        {
          "output_type": "stream",
          "name": "stderr",
          "text": [
            "  2%|▏         | 317/20000 [00:04<03:49, 85.64it/s]"
          ]
        },
        {
          "output_type": "stream",
          "name": "stdout",
          "text": [
            "loss -2.865480899810791\n",
            "outscale 4.412744998931885\n",
            "mean_module 0.013636047020554543\n",
            "noise 0.794700026512146\n"
          ]
        },
        {
          "output_type": "stream",
          "name": "stderr",
          "text": [
            "  2%|▏         | 417/20000 [00:05<03:32, 92.34it/s]"
          ]
        },
        {
          "output_type": "stream",
          "name": "stdout",
          "text": [
            "loss -3.05292010307312\n",
            "outscale 4.371828079223633\n",
            "mean_module 0.0086263632401824\n",
            "noise 0.8412878513336182\n"
          ]
        },
        {
          "output_type": "stream",
          "name": "stderr",
          "text": [
            "  3%|▎         | 511/20000 [00:07<04:50, 67.20it/s]"
          ]
        },
        {
          "output_type": "stream",
          "name": "stdout",
          "text": [
            "loss -3.215165615081787\n",
            "outscale 4.332889556884766\n",
            "mean_module 0.0025912451092153788\n",
            "noise 0.8883125185966492\n"
          ]
        },
        {
          "output_type": "stream",
          "name": "stderr",
          "text": [
            "  3%|▎         | 610/20000 [00:08<05:06, 63.18it/s]"
          ]
        },
        {
          "output_type": "stream",
          "name": "stdout",
          "text": [
            "loss -3.360915422439575\n",
            "outscale 4.295382976531982\n",
            "mean_module -0.0036116663832217455\n",
            "noise 0.9358510375022888\n"
          ]
        },
        {
          "output_type": "stream",
          "name": "stderr",
          "text": [
            "  4%|▎         | 716/20000 [00:10<03:40, 87.41it/s]"
          ]
        },
        {
          "output_type": "stream",
          "name": "stdout",
          "text": [
            "loss -3.499683380126953\n",
            "outscale 4.257944583892822\n",
            "mean_module -0.009738387539982796\n",
            "noise 0.9839527010917664\n"
          ]
        },
        {
          "output_type": "stream",
          "name": "stderr",
          "text": [
            "  4%|▍         | 814/20000 [00:11<03:34, 89.39it/s]"
          ]
        },
        {
          "output_type": "stream",
          "name": "stdout",
          "text": [
            "loss -3.682373285293579\n",
            "outscale 4.215899467468262\n",
            "mean_module -0.015598221682012081\n",
            "noise 1.0325722694396973\n"
          ]
        },
        {
          "output_type": "stream",
          "name": "stderr",
          "text": [
            "  5%|▍         | 913/20000 [00:12<03:34, 88.93it/s]"
          ]
        },
        {
          "output_type": "stream",
          "name": "stdout",
          "text": [
            "loss -4.615475654602051\n",
            "outscale 4.167793273925781\n",
            "mean_module -0.013473504222929478\n",
            "noise 1.0806500911712646\n"
          ]
        },
        {
          "output_type": "stream",
          "name": "stderr",
          "text": [
            "  5%|▌         | 1011/20000 [00:13<03:20, 94.94it/s]"
          ]
        },
        {
          "output_type": "stream",
          "name": "stdout",
          "text": [
            "loss -5.480659008026123\n",
            "outscale 4.120007514953613\n",
            "mean_module -0.007683712523430586\n",
            "noise 1.1296652555465698\n"
          ]
        },
        {
          "output_type": "stream",
          "name": "stderr",
          "text": [
            "  6%|▌         | 1108/20000 [00:14<04:28, 70.37it/s]"
          ]
        },
        {
          "output_type": "stream",
          "name": "stdout",
          "text": [
            "loss -5.567956924438477\n",
            "outscale 4.090256690979004\n",
            "mean_module -0.00721919909119606\n",
            "noise 1.1789100170135498\n"
          ]
        },
        {
          "output_type": "stream",
          "name": "stderr",
          "text": [
            "  6%|▌         | 1211/20000 [00:16<05:04, 61.72it/s]"
          ]
        },
        {
          "output_type": "stream",
          "name": "stdout",
          "text": [
            "loss -5.643444061279297\n",
            "outscale 4.061012268066406\n",
            "mean_module -0.00706460839137435\n",
            "noise 1.2288185358047485\n"
          ]
        },
        {
          "output_type": "stream",
          "name": "stderr",
          "text": [
            "  7%|▋         | 1313/20000 [00:17<03:47, 82.10it/s]"
          ]
        },
        {
          "output_type": "stream",
          "name": "stdout",
          "text": [
            "loss -5.203963756561279\n",
            "outscale 4.031274318695068\n",
            "mean_module -0.0067205787636339664\n",
            "noise 1.2794115543365479\n"
          ]
        },
        {
          "output_type": "stream",
          "name": "stderr",
          "text": [
            "  7%|▋         | 1412/20000 [00:18<03:32, 87.65it/s]"
          ]
        },
        {
          "output_type": "stream",
          "name": "stdout",
          "text": [
            "loss -5.777662754058838\n",
            "outscale 4.000421524047852\n",
            "mean_module -0.00691930390894413\n",
            "noise 1.3306481838226318\n"
          ]
        },
        {
          "output_type": "stream",
          "name": "stderr",
          "text": [
            "  8%|▊         | 1510/20000 [00:19<03:19, 92.84it/s]"
          ]
        },
        {
          "output_type": "stream",
          "name": "stdout",
          "text": [
            "loss -5.841091632843018\n",
            "outscale 3.9689507484436035\n",
            "mean_module -0.0064410250633955\n",
            "noise 1.3824673891067505\n"
          ]
        },
        {
          "output_type": "stream",
          "name": "stderr",
          "text": [
            "  8%|▊         | 1618/20000 [00:21<03:23, 90.23it/s]"
          ]
        },
        {
          "output_type": "stream",
          "name": "stdout",
          "text": [
            "loss -5.899316310882568\n",
            "outscale 3.9363698959350586\n",
            "mean_module -0.007121111731976271\n",
            "noise 1.4348077774047852\n"
          ]
        },
        {
          "output_type": "stream",
          "name": "stderr",
          "text": [
            "  9%|▊         | 1714/20000 [00:22<03:29, 87.35it/s]"
          ]
        },
        {
          "output_type": "stream",
          "name": "stdout",
          "text": [
            "loss -5.441889762878418\n",
            "outscale 3.902958869934082\n",
            "mean_module -0.006782461889088154\n",
            "noise 1.4876289367675781\n"
          ]
        },
        {
          "output_type": "stream",
          "name": "stderr",
          "text": [
            "  9%|▉         | 1815/20000 [00:23<03:15, 93.02it/s]"
          ]
        },
        {
          "output_type": "stream",
          "name": "stdout",
          "text": [
            "loss -5.500196933746338\n",
            "outscale 3.868177890777588\n",
            "mean_module -0.007280957885086536\n",
            "noise 1.5408681631088257\n"
          ]
        },
        {
          "output_type": "stream",
          "name": "stderr",
          "text": [
            " 10%|▉         | 1915/20000 [00:24<03:10, 94.95it/s]"
          ]
        },
        {
          "output_type": "stream",
          "name": "stdout",
          "text": [
            "loss -6.061595916748047\n",
            "outscale 3.832458734512329\n",
            "mean_module -0.007148432079702616\n",
            "noise 1.5944987535476685\n"
          ]
        },
        {
          "output_type": "stream",
          "name": "stderr",
          "text": [
            " 10%|█         | 2015/20000 [00:25<03:25, 87.53it/s]"
          ]
        },
        {
          "output_type": "stream",
          "name": "stdout",
          "text": [
            "loss -6.10963773727417\n",
            "outscale 3.795449733734131\n",
            "mean_module -0.0071677216328680515\n",
            "noise 1.6484826803207397\n"
          ]
        },
        {
          "output_type": "stream",
          "name": "stderr",
          "text": [
            " 11%|█         | 2113/20000 [00:26<03:27, 86.20it/s]"
          ]
        },
        {
          "output_type": "stream",
          "name": "stdout",
          "text": [
            "loss -6.155845642089844\n",
            "outscale 3.7574610710144043\n",
            "mean_module -0.007048117462545633\n",
            "noise 1.702791690826416\n"
          ]
        },
        {
          "output_type": "stream",
          "name": "stderr",
          "text": [
            " 11%|█         | 2208/20000 [00:27<04:25, 67.05it/s]"
          ]
        },
        {
          "output_type": "stream",
          "name": "stdout",
          "text": [
            "loss -5.684562683105469\n",
            "outscale 3.718341827392578\n",
            "mean_module -0.006928225979208946\n",
            "noise 1.7574070692062378\n"
          ]
        },
        {
          "output_type": "stream",
          "name": "stderr",
          "text": [
            " 12%|█▏        | 2308/20000 [00:29<04:39, 63.28it/s]"
          ]
        },
        {
          "output_type": "stream",
          "name": "stdout",
          "text": [
            "loss -5.727395057678223\n",
            "outscale 3.67781662940979\n",
            "mean_module -0.0066421073861420155\n",
            "noise 1.81230628490448\n"
          ]
        },
        {
          "output_type": "stream",
          "name": "stderr",
          "text": [
            " 12%|█▏        | 2412/20000 [00:30<03:40, 79.67it/s]"
          ]
        },
        {
          "output_type": "stream",
          "name": "stdout",
          "text": [
            "loss -6.281661510467529\n",
            "outscale 3.6364548206329346\n",
            "mean_module -0.007091036532074213\n",
            "noise 1.8674688339233398\n"
          ]
        },
        {
          "output_type": "stream",
          "name": "stderr",
          "text": [
            " 13%|█▎        | 2515/20000 [00:31<03:08, 92.69it/s]"
          ]
        },
        {
          "output_type": "stream",
          "name": "stdout",
          "text": [
            "loss -6.320084571838379\n",
            "outscale 3.5937490463256836\n",
            "mean_module -0.006884951610118151\n",
            "noise 1.922892689704895\n"
          ]
        },
        {
          "output_type": "stream",
          "name": "stderr",
          "text": [
            " 13%|█▎        | 2615/20000 [00:33<03:07, 92.71it/s]"
          ]
        },
        {
          "output_type": "stream",
          "name": "stdout",
          "text": [
            "loss -6.357935428619385\n",
            "outscale 3.5506107807159424\n",
            "mean_module -0.006861971691250801\n",
            "noise 1.978562831878662\n"
          ]
        },
        {
          "output_type": "stream",
          "name": "stderr",
          "text": [
            " 14%|█▎        | 2715/20000 [00:34<03:11, 90.44it/s]"
          ]
        },
        {
          "output_type": "stream",
          "name": "stdout",
          "text": [
            "loss -6.392910480499268\n",
            "outscale 3.505835771560669\n",
            "mean_module -0.007037414237856865\n",
            "noise 2.0344741344451904\n"
          ]
        },
        {
          "output_type": "stream",
          "name": "stderr",
          "text": [
            " 14%|█▍        | 2815/20000 [00:35<03:02, 94.03it/s]"
          ]
        },
        {
          "output_type": "stream",
          "name": "stdout",
          "text": [
            "loss -5.9173479080200195\n",
            "outscale 3.460278272628784\n",
            "mean_module -0.0073522585444152355\n",
            "noise 2.0906271934509277\n"
          ]
        },
        {
          "output_type": "stream",
          "name": "stderr",
          "text": [
            " 15%|█▍        | 2916/20000 [00:36<03:04, 92.50it/s]"
          ]
        },
        {
          "output_type": "stream",
          "name": "stdout",
          "text": [
            "loss -6.460793972015381\n",
            "outscale 3.413717746734619\n",
            "mean_module -0.006721205543726683\n",
            "noise 2.1470184326171875\n"
          ]
        },
        {
          "output_type": "stream",
          "name": "stderr",
          "text": [
            " 15%|█▌        | 3017/20000 [00:37<02:58, 94.96it/s]"
          ]
        },
        {
          "output_type": "stream",
          "name": "stdout",
          "text": [
            "loss -6.49196720123291\n",
            "outscale 3.3660430908203125\n",
            "mean_module -0.007059250958263874\n",
            "noise 2.203636884689331\n"
          ]
        },
        {
          "output_type": "stream",
          "name": "stderr",
          "text": [
            " 16%|█▌        | 3117/20000 [00:38<03:04, 91.29it/s]"
          ]
        },
        {
          "output_type": "stream",
          "name": "stdout",
          "text": [
            "loss -6.5212016105651855\n",
            "outscale 3.317288637161255\n",
            "mean_module -0.0068713161163032055\n",
            "noise 2.2604920864105225\n"
          ]
        },
        {
          "output_type": "stream",
          "name": "stderr",
          "text": [
            " 16%|█▌        | 3217/20000 [00:39<03:07, 89.41it/s]"
          ]
        },
        {
          "output_type": "stream",
          "name": "stdout",
          "text": [
            "loss -6.552323341369629\n",
            "outscale 3.2684473991394043\n",
            "mean_module -0.006790620274841785\n",
            "noise 2.3175811767578125\n"
          ]
        },
        {
          "output_type": "stream",
          "name": "stderr",
          "text": [
            " 17%|█▋        | 3309/20000 [00:40<04:03, 68.46it/s]"
          ]
        },
        {
          "output_type": "stream",
          "name": "stdout",
          "text": [
            "loss -6.0671467781066895\n",
            "outscale 3.2185680866241455\n",
            "mean_module -0.0067533995024859905\n",
            "noise 2.3749043941497803\n"
          ]
        },
        {
          "output_type": "stream",
          "name": "stderr",
          "text": [
            " 17%|█▋        | 3407/20000 [00:42<04:39, 59.30it/s]"
          ]
        },
        {
          "output_type": "stream",
          "name": "stdout",
          "text": [
            "loss -6.6086745262146\n",
            "outscale 3.168111562728882\n",
            "mean_module -0.006779822055250406\n",
            "noise 2.4324660301208496\n"
          ]
        },
        {
          "output_type": "stream",
          "name": "stderr",
          "text": [
            " 18%|█▊        | 3514/20000 [00:43<03:04, 89.14it/s]"
          ]
        },
        {
          "output_type": "stream",
          "name": "stdout",
          "text": [
            "loss -6.6349406242370605\n",
            "outscale 3.116870880126953\n",
            "mean_module -0.006424473598599434\n",
            "noise 2.4902732372283936\n"
          ]
        },
        {
          "output_type": "stream",
          "name": "stderr",
          "text": [
            " 18%|█▊        | 3612/20000 [00:44<02:53, 94.27it/s]"
          ]
        },
        {
          "output_type": "stream",
          "name": "stdout",
          "text": [
            "loss -6.661242485046387\n",
            "outscale 3.0655245780944824\n",
            "mean_module -0.006430980749428272\n",
            "noise 2.5483219623565674\n"
          ]
        },
        {
          "output_type": "stream",
          "name": "stderr",
          "text": [
            " 19%|█▊        | 3712/20000 [00:46<03:00, 90.46it/s]"
          ]
        },
        {
          "output_type": "stream",
          "name": "stdout",
          "text": [
            "loss -6.686678409576416\n",
            "outscale 3.013850212097168\n",
            "mean_module -0.006293387617915869\n",
            "noise 2.606621026992798\n"
          ]
        },
        {
          "output_type": "stream",
          "name": "stderr",
          "text": [
            " 19%|█▉        | 3811/20000 [00:47<02:51, 94.29it/s]"
          ]
        },
        {
          "output_type": "stream",
          "name": "stdout",
          "text": [
            "loss -6.202572345733643\n",
            "outscale 2.961407423019409\n",
            "mean_module -0.006146484520286322\n",
            "noise 2.6651771068573\n"
          ]
        },
        {
          "output_type": "stream",
          "name": "stderr",
          "text": [
            " 20%|█▉        | 3911/20000 [00:48<03:00, 89.15it/s]"
          ]
        },
        {
          "output_type": "stream",
          "name": "stdout",
          "text": [
            "loss -6.735076904296875\n",
            "outscale 2.9084842205047607\n",
            "mean_module -0.005981320049613714\n",
            "noise 2.7239925861358643\n"
          ]
        },
        {
          "output_type": "stream",
          "name": "stderr",
          "text": [
            " 20%|██        | 4017/20000 [00:49<03:00, 88.44it/s]"
          ]
        },
        {
          "output_type": "stream",
          "name": "stdout",
          "text": [
            "loss -6.757784366607666\n",
            "outscale 2.8552284240722656\n",
            "mean_module -0.005299987271428108\n",
            "noise 2.7830724716186523\n"
          ]
        },
        {
          "output_type": "stream",
          "name": "stderr",
          "text": [
            " 21%|██        | 4117/20000 [00:50<02:55, 90.27it/s]"
          ]
        },
        {
          "output_type": "stream",
          "name": "stdout",
          "text": [
            "loss -6.780363082885742\n",
            "outscale 2.802088737487793\n",
            "mean_module -0.005655947141349316\n",
            "noise 2.842416763305664\n"
          ]
        },
        {
          "output_type": "stream",
          "name": "stderr",
          "text": [
            " 21%|██        | 4217/20000 [00:51<02:50, 92.83it/s]"
          ]
        },
        {
          "output_type": "stream",
          "name": "stdout",
          "text": [
            "loss -6.286593437194824\n",
            "outscale 2.747830390930176\n",
            "mean_module -0.005237491335719824\n",
            "noise 2.9020397663116455\n"
          ]
        },
        {
          "output_type": "stream",
          "name": "stderr",
          "text": [
            " 22%|██▏       | 4316/20000 [00:52<02:51, 91.52it/s]"
          ]
        },
        {
          "output_type": "stream",
          "name": "stdout",
          "text": [
            "loss -6.8244099617004395\n",
            "outscale 2.6951324939727783\n",
            "mean_module -0.005439172964543104\n",
            "noise 2.9619271755218506\n"
          ]
        },
        {
          "output_type": "stream",
          "name": "stderr",
          "text": [
            " 22%|██▏       | 4409/20000 [00:53<03:44, 69.43it/s]"
          ]
        },
        {
          "output_type": "stream",
          "name": "stdout",
          "text": [
            "loss -6.845015525817871\n",
            "outscale 2.641608476638794\n",
            "mean_module -0.005001865793019533\n",
            "noise 3.022116184234619\n"
          ]
        },
        {
          "output_type": "stream",
          "name": "stderr",
          "text": [
            " 23%|██▎       | 4508/20000 [00:55<04:26, 58.21it/s]"
          ]
        },
        {
          "output_type": "stream",
          "name": "stdout",
          "text": [
            "loss -6.348708629608154\n",
            "outscale 2.58797550201416\n",
            "mean_module -0.004360545426607132\n",
            "noise 3.0825936794281006\n"
          ]
        },
        {
          "output_type": "stream",
          "name": "stderr",
          "text": [
            " 23%|██▎       | 4613/20000 [00:56<02:55, 87.92it/s]"
          ]
        },
        {
          "output_type": "stream",
          "name": "stdout",
          "text": [
            "loss -6.884432315826416\n",
            "outscale 2.534111261367798\n",
            "mean_module -0.004877891391515732\n",
            "noise 3.1433513164520264\n"
          ]
        },
        {
          "output_type": "stream",
          "name": "stderr",
          "text": [
            " 24%|██▎       | 4713/20000 [00:57<02:46, 91.98it/s]"
          ]
        },
        {
          "output_type": "stream",
          "name": "stdout",
          "text": [
            "loss -6.903935432434082\n",
            "outscale 2.48128604888916\n",
            "mean_module -0.004007152281701565\n",
            "noise 3.204416513442993\n"
          ]
        },
        {
          "output_type": "stream",
          "name": "stderr",
          "text": [
            " 24%|██▍       | 4813/20000 [00:59<02:44, 92.15it/s]"
          ]
        },
        {
          "output_type": "stream",
          "name": "stdout",
          "text": [
            "loss -6.920356750488281\n",
            "outscale 2.427946090698242\n",
            "mean_module -0.0049496605060994625\n",
            "noise 3.2657673358917236\n"
          ]
        },
        {
          "output_type": "stream",
          "name": "stderr",
          "text": [
            " 25%|██▍       | 4913/20000 [01:00<02:38, 95.12it/s]"
          ]
        },
        {
          "output_type": "stream",
          "name": "stdout",
          "text": [
            "loss -6.939951419830322\n",
            "outscale 2.3748250007629395\n",
            "mean_module -0.003586627310141921\n",
            "noise 3.327449083328247\n"
          ]
        },
        {
          "output_type": "stream",
          "name": "stderr",
          "text": [
            " 25%|██▌       | 5013/20000 [01:01<02:46, 90.23it/s]"
          ]
        },
        {
          "output_type": "stream",
          "name": "stdout",
          "text": [
            "loss -6.453826427459717\n",
            "outscale 2.3242592811584473\n",
            "mean_module -0.004247843753546476\n",
            "noise 3.3894150257110596\n"
          ]
        },
        {
          "output_type": "stream",
          "name": "stderr",
          "text": [
            " 26%|██▌       | 5112/20000 [01:02<02:45, 89.82it/s]"
          ]
        },
        {
          "output_type": "stream",
          "name": "stdout",
          "text": [
            "loss -6.977767467498779\n",
            "outscale 2.272545576095581\n",
            "mean_module -0.003651689039543271\n",
            "noise 3.4517130851745605\n"
          ]
        },
        {
          "output_type": "stream",
          "name": "stderr",
          "text": [
            " 26%|██▌       | 5216/20000 [01:03<02:44, 89.85it/s]"
          ]
        },
        {
          "output_type": "stream",
          "name": "stdout",
          "text": [
            "loss -6.99373722076416\n",
            "outscale 2.220608949661255\n",
            "mean_module -0.00291314790956676\n",
            "noise 3.5143258571624756\n"
          ]
        },
        {
          "output_type": "stream",
          "name": "stderr",
          "text": [
            " 27%|██▋       | 5317/20000 [01:04<02:35, 94.66it/s]"
          ]
        },
        {
          "output_type": "stream",
          "name": "stdout",
          "text": [
            "loss -7.012003421783447\n",
            "outscale 2.170091152191162\n",
            "mean_module -0.003296752693131566\n",
            "noise 3.577244520187378\n"
          ]
        },
        {
          "output_type": "stream",
          "name": "stderr",
          "text": [
            " 27%|██▋       | 5417/20000 [01:05<02:39, 91.65it/s]"
          ]
        },
        {
          "output_type": "stream",
          "name": "stdout",
          "text": [
            "loss -6.008632183074951\n",
            "outscale 2.119765520095825\n",
            "mean_module -0.0033484874293208122\n",
            "noise 3.6404917240142822\n"
          ]
        },
        {
          "output_type": "stream",
          "name": "stderr",
          "text": [
            " 28%|██▊       | 5513/20000 [01:07<03:39, 66.04it/s]"
          ]
        },
        {
          "output_type": "stream",
          "name": "stdout",
          "text": [
            "loss -6.540960311889648\n",
            "outscale 2.069221258163452\n",
            "mean_module -0.0038597439415752888\n",
            "noise 3.7040765285491943\n"
          ]
        },
        {
          "output_type": "stream",
          "name": "stderr",
          "text": [
            " 28%|██▊       | 5612/20000 [01:08<03:52, 61.86it/s]"
          ]
        },
        {
          "output_type": "stream",
          "name": "stdout",
          "text": [
            "loss -6.548635482788086\n",
            "outscale 2.020026922225952\n",
            "mean_module -0.0027287763077765703\n",
            "noise 3.76798152923584\n"
          ]
        },
        {
          "output_type": "stream",
          "name": "stderr",
          "text": [
            " 29%|██▊       | 5711/20000 [01:10<03:11, 74.66it/s]"
          ]
        },
        {
          "output_type": "stream",
          "name": "stdout",
          "text": [
            "loss -7.076651573181152\n",
            "outscale 1.9708774089813232\n",
            "mean_module -0.0028134160675108433\n",
            "noise 3.832231283187866\n"
          ]
        },
        {
          "output_type": "stream",
          "name": "stderr",
          "text": [
            " 29%|██▉       | 5814/20000 [01:11<02:51, 82.69it/s]"
          ]
        },
        {
          "output_type": "stream",
          "name": "stdout",
          "text": [
            "loss -7.090860366821289\n",
            "outscale 1.9214164018630981\n",
            "mean_module -0.0022566961124539375\n",
            "noise 3.896815538406372\n"
          ]
        },
        {
          "output_type": "stream",
          "name": "stderr",
          "text": [
            " 30%|██▉       | 5914/20000 [01:12<02:29, 93.98it/s]"
          ]
        },
        {
          "output_type": "stream",
          "name": "stdout",
          "text": [
            "loss -6.603604316711426\n",
            "outscale 1.8751155138015747\n",
            "mean_module -0.0025953834410756826\n",
            "noise 3.9617197513580322\n"
          ]
        },
        {
          "output_type": "stream",
          "name": "stderr",
          "text": [
            " 30%|███       | 6014/20000 [01:13<02:33, 91.24it/s]"
          ]
        },
        {
          "output_type": "stream",
          "name": "stdout",
          "text": [
            "loss -7.121878623962402\n",
            "outscale 1.827392578125\n",
            "mean_module -0.002191671170294285\n",
            "noise 4.026987075805664\n"
          ]
        },
        {
          "output_type": "stream",
          "name": "stderr",
          "text": [
            " 31%|███       | 6115/20000 [01:14<02:31, 91.91it/s]"
          ]
        },
        {
          "output_type": "stream",
          "name": "stdout",
          "text": [
            "loss -7.136079788208008\n",
            "outscale 1.7801239490509033\n",
            "mean_module -0.0011844041291624308\n",
            "noise 4.092587471008301\n"
          ]
        },
        {
          "output_type": "stream",
          "name": "stderr",
          "text": [
            " 31%|███       | 6216/20000 [01:15<02:26, 94.37it/s]"
          ]
        },
        {
          "output_type": "stream",
          "name": "stdout",
          "text": [
            "loss -7.150267124176025\n",
            "outscale 1.7335065603256226\n",
            "mean_module -0.0013998094946146011\n",
            "noise 4.15852689743042\n"
          ]
        },
        {
          "output_type": "stream",
          "name": "stderr",
          "text": [
            " 32%|███▏      | 6314/20000 [01:17<04:20, 52.50it/s]"
          ]
        },
        {
          "output_type": "stream",
          "name": "stdout",
          "text": [
            "loss -7.164820671081543\n",
            "outscale 1.6885626316070557\n",
            "mean_module -0.0008633016841486096\n",
            "noise 4.224812030792236\n"
          ]
        },
        {
          "output_type": "stream",
          "name": "stderr",
          "text": [
            " 32%|███▏      | 6417/20000 [01:18<02:36, 86.94it/s]"
          ]
        },
        {
          "output_type": "stream",
          "name": "stdout",
          "text": [
            "loss -7.17846155166626\n",
            "outscale 1.6436450481414795\n",
            "mean_module -0.0014513609930872917\n",
            "noise 4.291442394256592\n"
          ]
        },
        {
          "output_type": "stream",
          "name": "stderr",
          "text": [
            " 33%|███▎      | 6508/20000 [01:19<02:55, 76.85it/s]"
          ]
        },
        {
          "output_type": "stream",
          "name": "stdout",
          "text": [
            "loss -7.190843105316162\n",
            "outscale 1.5989174842834473\n",
            "mean_module -0.0013962374068796635\n",
            "noise 4.358432292938232\n"
          ]
        },
        {
          "output_type": "stream",
          "name": "stderr",
          "text": [
            " 33%|███▎      | 6608/20000 [01:21<04:17, 51.94it/s]"
          ]
        },
        {
          "output_type": "stream",
          "name": "stdout",
          "text": [
            "loss -7.2051239013671875\n",
            "outscale 1.5546472072601318\n",
            "mean_module -0.00044163261190988123\n",
            "noise 4.425764083862305\n"
          ]
        },
        {
          "output_type": "stream",
          "name": "stderr",
          "text": [
            " 34%|███▎      | 6718/20000 [01:22<02:34, 85.71it/s]"
          ]
        },
        {
          "output_type": "stream",
          "name": "stdout",
          "text": [
            "loss -6.203628063201904\n",
            "outscale 1.5116517543792725\n",
            "mean_module -0.000217391163459979\n",
            "noise 4.493435859680176\n"
          ]
        },
        {
          "output_type": "stream",
          "name": "stderr",
          "text": [
            " 34%|███▍      | 6819/20000 [01:23<02:21, 93.16it/s]"
          ]
        },
        {
          "output_type": "stream",
          "name": "stdout",
          "text": [
            "loss -6.721261978149414\n",
            "outscale 1.4686849117279053\n",
            "mean_module -0.00018728704890236259\n",
            "noise 4.561461925506592\n"
          ]
        },
        {
          "output_type": "stream",
          "name": "stderr",
          "text": [
            " 35%|███▍      | 6918/20000 [01:24<02:26, 89.17it/s]"
          ]
        },
        {
          "output_type": "stream",
          "name": "stdout",
          "text": [
            "loss -7.244054794311523\n",
            "outscale 1.4260286092758179\n",
            "mean_module -5.019117088522762e-05\n",
            "noise 4.629823684692383\n"
          ]
        },
        {
          "output_type": "stream",
          "name": "stderr",
          "text": [
            " 35%|███▌      | 7018/20000 [01:25<02:20, 92.22it/s]"
          ]
        },
        {
          "output_type": "stream",
          "name": "stdout",
          "text": [
            "loss -7.2575201988220215\n",
            "outscale 1.3851512670516968\n",
            "mean_module 0.0006429452914744616\n",
            "noise 4.698544502258301\n"
          ]
        },
        {
          "output_type": "stream",
          "name": "stderr",
          "text": [
            " 36%|███▌      | 7119/20000 [01:26<02:12, 97.20it/s]"
          ]
        },
        {
          "output_type": "stream",
          "name": "stdout",
          "text": [
            "loss -7.2693610191345215\n",
            "outscale 1.3449748754501343\n",
            "mean_module 0.0006751493201591074\n",
            "noise 4.767613887786865\n"
          ]
        },
        {
          "output_type": "stream",
          "name": "stderr",
          "text": [
            " 36%|███▌      | 7205/20000 [01:28<04:57, 42.95it/s]"
          ]
        },
        {
          "output_type": "stream",
          "name": "stdout",
          "text": [
            "loss -7.281922817230225\n",
            "outscale 1.3055974245071411\n",
            "mean_module 0.00152558833360672\n",
            "noise 4.837033271789551\n"
          ]
        },
        {
          "output_type": "stream",
          "name": "stderr",
          "text": [
            " 36%|███▋      | 7300/20000 [01:30<05:36, 37.76it/s]"
          ]
        },
        {
          "output_type": "stream",
          "name": "stdout",
          "text": [
            "loss -7.293605804443359\n",
            "outscale 1.2675821781158447\n",
            "mean_module 0.000732088868971914\n",
            "noise 4.9067769050598145\n"
          ]
        },
        {
          "output_type": "stream",
          "name": "stderr",
          "text": [
            " 37%|███▋      | 7414/20000 [01:34<03:14, 64.74it/s]"
          ]
        },
        {
          "output_type": "stream",
          "name": "stdout",
          "text": [
            "loss -7.305123805999756\n",
            "outscale 1.229299783706665\n",
            "mean_module 0.0008672467665746808\n",
            "noise 4.9768829345703125\n"
          ]
        },
        {
          "output_type": "stream",
          "name": "stderr",
          "text": [
            " 38%|███▊      | 7506/20000 [01:35<03:29, 59.76it/s]"
          ]
        },
        {
          "output_type": "stream",
          "name": "stdout",
          "text": [
            "loss -7.316949844360352\n",
            "outscale 1.192229986190796\n",
            "mean_module 0.0009563743369653821\n",
            "noise 5.047327041625977\n"
          ]
        },
        {
          "output_type": "stream",
          "name": "stderr",
          "text": [
            " 38%|███▊      | 7619/20000 [01:37<02:14, 92.34it/s]"
          ]
        },
        {
          "output_type": "stream",
          "name": "stdout",
          "text": [
            "loss -7.327536582946777\n",
            "outscale 1.1555297374725342\n",
            "mean_module 0.0012601427733898163\n",
            "noise 5.118112564086914\n"
          ]
        },
        {
          "output_type": "stream",
          "name": "stderr",
          "text": [
            " 39%|███▊      | 7717/20000 [01:38<02:14, 91.60it/s]"
          ]
        },
        {
          "output_type": "stream",
          "name": "stdout",
          "text": [
            "loss -7.341146469116211\n",
            "outscale 1.1197210550308228\n",
            "mean_module 0.0024533893447369337\n",
            "noise 5.18923282623291\n"
          ]
        },
        {
          "output_type": "stream",
          "name": "stderr",
          "text": [
            " 39%|███▉      | 7818/20000 [01:39<02:09, 93.94it/s]"
          ]
        },
        {
          "output_type": "stream",
          "name": "stdout",
          "text": [
            "loss -6.850635051727295\n",
            "outscale 1.0850212574005127\n",
            "mean_module 0.0020962355192750692\n",
            "noise 5.260685920715332\n"
          ]
        },
        {
          "output_type": "stream",
          "name": "stderr",
          "text": [
            " 40%|███▉      | 7918/20000 [01:40<02:08, 94.05it/s]"
          ]
        },
        {
          "output_type": "stream",
          "name": "stdout",
          "text": [
            "loss -7.36370849609375\n",
            "outscale 1.0507721900939941\n",
            "mean_module 0.0032368595711886883\n",
            "noise 5.332498073577881\n"
          ]
        },
        {
          "output_type": "stream",
          "name": "stderr",
          "text": [
            " 40%|████      | 8020/20000 [01:41<02:06, 94.43it/s]"
          ]
        },
        {
          "output_type": "stream",
          "name": "stdout",
          "text": [
            "loss -7.374695777893066\n",
            "outscale 1.016878604888916\n",
            "mean_module 0.0027172707486897707\n",
            "noise 5.404628753662109\n"
          ]
        },
        {
          "output_type": "stream",
          "name": "stderr",
          "text": [
            " 41%|████      | 8111/20000 [01:42<02:07, 93.30it/s]"
          ]
        },
        {
          "output_type": "stream",
          "name": "stdout",
          "text": [
            "loss -7.384124279022217\n",
            "outscale 0.98349529504776\n",
            "mean_module 0.002798804547637701\n",
            "noise 5.477089881896973\n"
          ]
        },
        {
          "output_type": "stream",
          "name": "stderr",
          "text": [
            " 41%|████      | 8211/20000 [01:43<02:04, 94.84it/s]"
          ]
        },
        {
          "output_type": "stream",
          "name": "stdout",
          "text": [
            "loss -7.3960795402526855\n",
            "outscale 0.9519302845001221\n",
            "mean_module 0.003283721162006259\n",
            "noise 5.549882888793945\n"
          ]
        },
        {
          "output_type": "stream",
          "name": "stderr",
          "text": [
            " 42%|████▏     | 8313/20000 [01:44<02:00, 96.87it/s]"
          ]
        },
        {
          "output_type": "stream",
          "name": "stdout",
          "text": [
            "loss -7.406149387359619\n",
            "outscale 0.9211747646331787\n",
            "mean_module 0.004347141832113266\n",
            "noise 5.623006343841553\n"
          ]
        },
        {
          "output_type": "stream",
          "name": "stderr",
          "text": [
            " 42%|████▏     | 8415/20000 [01:45<02:00, 96.34it/s]"
          ]
        },
        {
          "output_type": "stream",
          "name": "stdout",
          "text": [
            "loss -7.417383670806885\n",
            "outscale 0.8916193842887878\n",
            "mean_module 0.004109309986233711\n",
            "noise 5.69644021987915\n"
          ]
        },
        {
          "output_type": "stream",
          "name": "stderr",
          "text": [
            " 43%|████▎     | 8512/20000 [01:46<02:47, 68.41it/s]"
          ]
        },
        {
          "output_type": "stream",
          "name": "stdout",
          "text": [
            "loss -7.4274444580078125\n",
            "outscale 0.8621315956115723\n",
            "mean_module 0.0038127959705889225\n",
            "noise 5.770185470581055\n"
          ]
        },
        {
          "output_type": "stream",
          "name": "stderr",
          "text": [
            " 43%|████▎     | 8610/20000 [01:48<03:08, 60.40it/s]"
          ]
        },
        {
          "output_type": "stream",
          "name": "stdout",
          "text": [
            "loss -7.437500476837158\n",
            "outscale 0.8333425521850586\n",
            "mean_module 0.004122013226151466\n",
            "noise 5.844266891479492\n"
          ]
        },
        {
          "output_type": "stream",
          "name": "stderr",
          "text": [
            " 44%|████▎     | 8713/20000 [01:49<02:01, 92.95it/s]"
          ]
        },
        {
          "output_type": "stream",
          "name": "stdout",
          "text": [
            "loss -7.4481964111328125\n",
            "outscale 0.8054817914962769\n",
            "mean_module 0.004634533543139696\n",
            "noise 5.918668746948242\n"
          ]
        },
        {
          "output_type": "stream",
          "name": "stderr",
          "text": [
            " 44%|████▍     | 8814/20000 [01:50<01:58, 94.16it/s]"
          ]
        },
        {
          "output_type": "stream",
          "name": "stdout",
          "text": [
            "loss -7.457500457763672\n",
            "outscale 0.7781047224998474\n",
            "mean_module 0.0049157836474478245\n",
            "noise 5.993380546569824\n"
          ]
        },
        {
          "output_type": "stream",
          "name": "stderr",
          "text": [
            " 45%|████▍     | 8915/20000 [01:51<01:58, 93.88it/s]"
          ]
        },
        {
          "output_type": "stream",
          "name": "stdout",
          "text": [
            "loss -7.467928886413574\n",
            "outscale 0.7520931959152222\n",
            "mean_module 0.005021735560148954\n",
            "noise 6.068398475646973\n"
          ]
        },
        {
          "output_type": "stream",
          "name": "stderr",
          "text": [
            " 45%|████▌     | 9015/20000 [01:53<01:58, 92.39it/s]"
          ]
        },
        {
          "output_type": "stream",
          "name": "stdout",
          "text": [
            "loss -6.975772857666016\n",
            "outscale 0.7265671491622925\n",
            "mean_module 0.0056463852524757385\n",
            "noise 6.143734455108643\n"
          ]
        },
        {
          "output_type": "stream",
          "name": "stderr",
          "text": [
            " 46%|████▌     | 9114/20000 [01:54<01:58, 92.20it/s]"
          ]
        },
        {
          "output_type": "stream",
          "name": "stdout",
          "text": [
            "loss -6.986093997955322\n",
            "outscale 0.7013341784477234\n",
            "mean_module 0.005213639233261347\n",
            "noise 6.219341278076172\n"
          ]
        },
        {
          "output_type": "stream",
          "name": "stderr",
          "text": [
            " 46%|████▌     | 9214/20000 [01:55<01:54, 94.13it/s]"
          ]
        },
        {
          "output_type": "stream",
          "name": "stdout",
          "text": [
            "loss -7.496455669403076\n",
            "outscale 0.6768015027046204\n",
            "mean_module 0.006319253705441952\n",
            "noise 6.295276641845703\n"
          ]
        },
        {
          "output_type": "stream",
          "name": "stderr",
          "text": [
            " 47%|████▋     | 9314/20000 [01:56<01:52, 94.95it/s]"
          ]
        },
        {
          "output_type": "stream",
          "name": "stdout",
          "text": [
            "loss -7.504924297332764\n",
            "outscale 0.6538820862770081\n",
            "mean_module 0.005530753172934055\n",
            "noise 6.371483325958252\n"
          ]
        },
        {
          "output_type": "stream",
          "name": "stderr",
          "text": [
            " 47%|████▋     | 9414/20000 [01:57<01:57, 90.12it/s]"
          ]
        },
        {
          "output_type": "stream",
          "name": "stdout",
          "text": [
            "loss -7.013920783996582\n",
            "outscale 0.6311014294624329\n",
            "mean_module 0.006429354660212994\n",
            "noise 6.448003768920898\n"
          ]
        },
        {
          "output_type": "stream",
          "name": "stderr",
          "text": [
            " 48%|████▊     | 9513/20000 [01:58<01:51, 93.74it/s]"
          ]
        },
        {
          "output_type": "stream",
          "name": "stdout",
          "text": [
            "loss -7.52445650100708\n",
            "outscale 0.6091631054878235\n",
            "mean_module 0.007440019864588976\n",
            "noise 6.52481746673584\n"
          ]
        },
        {
          "output_type": "stream",
          "name": "stderr",
          "text": [
            " 48%|████▊     | 9610/20000 [01:59<02:28, 69.73it/s]"
          ]
        },
        {
          "output_type": "stream",
          "name": "stdout",
          "text": [
            "loss -7.533820152282715\n",
            "outscale 0.5882841944694519\n",
            "mean_module 0.007032671011984348\n",
            "noise 6.601894378662109\n"
          ]
        },
        {
          "output_type": "stream",
          "name": "stderr",
          "text": [
            " 49%|████▊     | 9707/20000 [02:01<03:11, 53.87it/s]"
          ]
        },
        {
          "output_type": "stream",
          "name": "stdout",
          "text": [
            "loss -7.543020725250244\n",
            "outscale 0.5680869817733765\n",
            "mean_module 0.007759384345263243\n",
            "noise 6.679266452789307\n"
          ]
        },
        {
          "output_type": "stream",
          "name": "stderr",
          "text": [
            " 49%|████▉     | 9812/20000 [02:02<01:56, 87.31it/s]"
          ]
        },
        {
          "output_type": "stream",
          "name": "stdout",
          "text": [
            "loss -7.551393508911133\n",
            "outscale 0.5479509234428406\n",
            "mean_module 0.007660876959562302\n",
            "noise 6.756904602050781\n"
          ]
        },
        {
          "output_type": "stream",
          "name": "stderr",
          "text": [
            " 50%|████▉     | 9912/20000 [02:03<02:09, 77.85it/s]"
          ]
        },
        {
          "output_type": "stream",
          "name": "stdout",
          "text": [
            "loss -7.560502052307129\n",
            "outscale 0.5291678309440613\n",
            "mean_module 0.008565964177250862\n",
            "noise 6.834819793701172\n"
          ]
        },
        {
          "output_type": "stream",
          "name": "stderr",
          "text": [
            " 50%|█████     | 10010/20000 [02:05<01:48, 92.01it/s]"
          ]
        },
        {
          "output_type": "stream",
          "name": "stdout",
          "text": [
            "loss -7.062543869018555\n",
            "outscale 0.510836124420166\n",
            "mean_module 0.00792520772665739\n",
            "noise 6.9130144119262695\n"
          ]
        },
        {
          "output_type": "stream",
          "name": "stderr",
          "text": [
            " 51%|█████     | 10120/20000 [02:06<01:45, 93.52it/s]"
          ]
        },
        {
          "output_type": "stream",
          "name": "stdout",
          "text": [
            "loss -7.576606750488281\n",
            "outscale 0.49295204877853394\n",
            "mean_module 0.007779700681567192\n",
            "noise 6.991465091705322\n"
          ]
        },
        {
          "output_type": "stream",
          "name": "stderr",
          "text": [
            " 51%|█████     | 10217/20000 [02:07<01:51, 87.66it/s]"
          ]
        },
        {
          "output_type": "stream",
          "name": "stdout",
          "text": [
            "loss -7.5855913162231445\n",
            "outscale 0.4758026599884033\n",
            "mean_module 0.008579134941101074\n",
            "noise 7.070185661315918\n"
          ]
        },
        {
          "output_type": "stream",
          "name": "stderr",
          "text": [
            " 52%|█████▏    | 10311/20000 [02:08<01:48, 89.02it/s]"
          ]
        },
        {
          "output_type": "stream",
          "name": "stdout",
          "text": [
            "loss -7.091849327087402\n",
            "outscale 0.4593193531036377\n",
            "mean_module 0.009086652658879757\n",
            "noise 7.1491522789001465\n"
          ]
        },
        {
          "output_type": "stream",
          "name": "stderr",
          "text": [
            " 52%|█████▏    | 10412/20000 [02:09<01:42, 93.61it/s]"
          ]
        },
        {
          "output_type": "stream",
          "name": "stdout",
          "text": [
            "loss -7.60259485244751\n",
            "outscale 0.44334450364112854\n",
            "mean_module 0.009824953973293304\n",
            "noise 7.228382587432861\n"
          ]
        },
        {
          "output_type": "stream",
          "name": "stderr",
          "text": [
            " 53%|█████▎    | 10512/20000 [02:10<01:40, 94.75it/s]"
          ]
        },
        {
          "output_type": "stream",
          "name": "stdout",
          "text": [
            "loss -7.610637187957764\n",
            "outscale 0.42810240387916565\n",
            "mean_module 0.010220269672572613\n",
            "noise 7.307852745056152\n"
          ]
        },
        {
          "output_type": "stream",
          "name": "stderr",
          "text": [
            " 53%|█████▎    | 10612/20000 [02:11<01:41, 92.49it/s]"
          ]
        },
        {
          "output_type": "stream",
          "name": "stdout",
          "text": [
            "loss -7.6170830726623535\n",
            "outscale 0.4131397306919098\n",
            "mean_module 0.008888976648449898\n",
            "noise 7.387576580047607\n"
          ]
        },
        {
          "output_type": "stream",
          "name": "stderr",
          "text": [
            " 54%|█████▎    | 10708/20000 [02:12<02:16, 68.20it/s]"
          ]
        },
        {
          "output_type": "stream",
          "name": "stdout",
          "text": [
            "loss -7.626737117767334\n",
            "outscale 0.39848676323890686\n",
            "mean_module 0.010540462099015713\n",
            "noise 7.467564582824707\n"
          ]
        },
        {
          "output_type": "stream",
          "name": "stderr",
          "text": [
            " 54%|█████▍    | 10807/20000 [02:14<02:34, 59.44it/s]"
          ]
        },
        {
          "output_type": "stream",
          "name": "stdout",
          "text": [
            "loss -7.634435176849365\n",
            "outscale 0.3844946324825287\n",
            "mean_module 0.01004616916179657\n",
            "noise 7.547756195068359\n"
          ]
        },
        {
          "output_type": "stream",
          "name": "stderr",
          "text": [
            " 55%|█████▍    | 10914/20000 [02:15<01:44, 87.34it/s]"
          ]
        },
        {
          "output_type": "stream",
          "name": "stdout",
          "text": [
            "loss -7.642461776733398\n",
            "outscale 0.37109142541885376\n",
            "mean_module 0.010866649448871613\n",
            "noise 7.62820291519165\n"
          ]
        },
        {
          "output_type": "stream",
          "name": "stderr",
          "text": [
            " 55%|█████▌    | 11016/20000 [02:17<01:44, 86.26it/s]"
          ]
        },
        {
          "output_type": "stream",
          "name": "stdout",
          "text": [
            "loss -7.649868488311768\n",
            "outscale 0.3580572307109833\n",
            "mean_module 0.01091375108808279\n",
            "noise 7.708868026733398\n"
          ]
        },
        {
          "output_type": "stream",
          "name": "stderr",
          "text": [
            " 56%|█████▌    | 11112/20000 [02:18<01:36, 91.78it/s]"
          ]
        },
        {
          "output_type": "stream",
          "name": "stdout",
          "text": [
            "loss -7.153695583343506\n",
            "outscale 0.34583136439323425\n",
            "mean_module 0.01168551854789257\n",
            "noise 7.789767742156982\n"
          ]
        },
        {
          "output_type": "stream",
          "name": "stderr",
          "text": [
            " 56%|█████▌    | 11219/20000 [02:19<01:38, 88.78it/s]"
          ]
        },
        {
          "output_type": "stream",
          "name": "stdout",
          "text": [
            "loss -7.665457248687744\n",
            "outscale 0.3337310552597046\n",
            "mean_module 0.011500200256705284\n",
            "noise 7.870903015136719\n"
          ]
        },
        {
          "output_type": "stream",
          "name": "stderr",
          "text": [
            " 57%|█████▋    | 11314/20000 [02:20<01:39, 87.09it/s]"
          ]
        },
        {
          "output_type": "stream",
          "name": "stdout",
          "text": [
            "loss -7.167662620544434\n",
            "outscale 0.32202109694480896\n",
            "mean_module 0.011369297280907631\n",
            "noise 7.952245235443115\n"
          ]
        },
        {
          "output_type": "stream",
          "name": "stderr",
          "text": [
            " 57%|█████▋    | 11415/20000 [02:21<01:33, 91.60it/s]"
          ]
        },
        {
          "output_type": "stream",
          "name": "stdout",
          "text": [
            "loss -7.6802077293396\n",
            "outscale 0.3105941414833069\n",
            "mean_module 0.011829536408185959\n",
            "noise 8.033804893493652\n"
          ]
        },
        {
          "output_type": "stream",
          "name": "stderr",
          "text": [
            " 58%|█████▊    | 11516/20000 [02:22<01:32, 91.75it/s]"
          ]
        },
        {
          "output_type": "stream",
          "name": "stdout",
          "text": [
            "loss -7.687228202819824\n",
            "outscale 0.29958221316337585\n",
            "mean_module 0.01274945866316557\n",
            "noise 8.11559009552002\n"
          ]
        },
        {
          "output_type": "stream",
          "name": "stderr",
          "text": [
            " 58%|█████▊    | 11617/20000 [02:23<01:28, 95.19it/s]"
          ]
        },
        {
          "output_type": "stream",
          "name": "stdout",
          "text": [
            "loss -7.1936445236206055\n",
            "outscale 0.2892347574234009\n",
            "mean_module 0.01203149650245905\n",
            "noise 8.197574615478516\n"
          ]
        },
        {
          "output_type": "stream",
          "name": "stderr",
          "text": [
            " 59%|█████▊    | 11717/20000 [02:24<01:30, 91.20it/s]"
          ]
        },
        {
          "output_type": "stream",
          "name": "stdout",
          "text": [
            "loss -7.7016425132751465\n",
            "outscale 0.2786848545074463\n",
            "mean_module 0.012968749739229679\n",
            "noise 8.279768943786621\n"
          ]
        },
        {
          "output_type": "stream",
          "name": "stderr",
          "text": [
            " 59%|█████▉    | 11812/20000 [02:26<02:01, 67.50it/s]"
          ]
        },
        {
          "output_type": "stream",
          "name": "stdout",
          "text": [
            "loss -7.708865642547607\n",
            "outscale 0.26909786462783813\n",
            "mean_module 0.01346162986010313\n",
            "noise 8.362178802490234\n"
          ]
        },
        {
          "output_type": "stream",
          "name": "stderr",
          "text": [
            " 60%|█████▉    | 11908/20000 [02:27<02:20, 57.55it/s]"
          ]
        },
        {
          "output_type": "stream",
          "name": "stdout",
          "text": [
            "loss -7.716109752655029\n",
            "outscale 0.25975000858306885\n",
            "mean_module 0.013117372058331966\n",
            "noise 8.444757461547852\n"
          ]
        },
        {
          "output_type": "stream",
          "name": "stderr",
          "text": [
            " 60%|██████    | 12015/20000 [02:29<01:32, 86.76it/s]"
          ]
        },
        {
          "output_type": "stream",
          "name": "stdout",
          "text": [
            "loss -7.72165060043335\n",
            "outscale 0.25060659646987915\n",
            "mean_module 0.012665982358157635\n",
            "noise 8.52755069732666\n"
          ]
        },
        {
          "output_type": "stream",
          "name": "stderr",
          "text": [
            " 61%|██████    | 12115/20000 [02:30<01:24, 93.24it/s]"
          ]
        },
        {
          "output_type": "stream",
          "name": "stdout",
          "text": [
            "loss -7.225698471069336\n",
            "outscale 0.24185428023338318\n",
            "mean_module 0.01302347145974636\n",
            "noise 8.61053466796875\n"
          ]
        },
        {
          "output_type": "stream",
          "name": "stderr",
          "text": [
            " 61%|██████    | 12215/20000 [02:31<01:26, 89.88it/s]"
          ]
        },
        {
          "output_type": "stream",
          "name": "stdout",
          "text": [
            "loss -7.736433982849121\n",
            "outscale 0.2331753820180893\n",
            "mean_module 0.01402183249592781\n",
            "noise 8.69372272491455\n"
          ]
        },
        {
          "output_type": "stream",
          "name": "stderr",
          "text": [
            " 62%|██████▏   | 12311/20000 [02:32<01:24, 90.62it/s]"
          ]
        },
        {
          "output_type": "stream",
          "name": "stdout",
          "text": [
            "loss -7.743236541748047\n",
            "outscale 0.2250361442565918\n",
            "mean_module 0.014160651713609695\n",
            "noise 8.777085304260254\n"
          ]
        },
        {
          "output_type": "stream",
          "name": "stderr",
          "text": [
            " 62%|██████▏   | 12408/20000 [02:33<01:27, 87.10it/s]"
          ]
        },
        {
          "output_type": "stream",
          "name": "stdout",
          "text": [
            "loss -7.750161170959473\n",
            "outscale 0.21740348637104034\n",
            "mean_module 0.014133780263364315\n",
            "noise 8.86063003540039\n"
          ]
        },
        {
          "output_type": "stream",
          "name": "stderr",
          "text": [
            " 63%|██████▎   | 12512/20000 [02:34<01:21, 91.84it/s]"
          ]
        },
        {
          "output_type": "stream",
          "name": "stdout",
          "text": [
            "loss -7.756404876708984\n",
            "outscale 0.2096504271030426\n",
            "mean_module 0.014332067221403122\n",
            "noise 8.944366455078125\n"
          ]
        },
        {
          "output_type": "stream",
          "name": "stderr",
          "text": [
            " 63%|██████▎   | 12618/20000 [02:35<01:23, 88.79it/s]"
          ]
        },
        {
          "output_type": "stream",
          "name": "stdout",
          "text": [
            "loss -7.763179302215576\n",
            "outscale 0.20265837013721466\n",
            "mean_module 0.014996170066297054\n",
            "noise 9.028267860412598\n"
          ]
        },
        {
          "output_type": "stream",
          "name": "stderr",
          "text": [
            " 64%|██████▎   | 12715/20000 [02:36<01:24, 86.73it/s]"
          ]
        },
        {
          "output_type": "stream",
          "name": "stdout",
          "text": [
            "loss -7.769649505615234\n",
            "outscale 0.19565682113170624\n",
            "mean_module 0.015034954063594341\n",
            "noise 9.112334251403809\n"
          ]
        },
        {
          "output_type": "stream",
          "name": "stderr",
          "text": [
            " 64%|██████▍   | 12809/20000 [02:38<01:24, 85.45it/s]"
          ]
        },
        {
          "output_type": "stream",
          "name": "stdout",
          "text": [
            "loss -7.776008605957031\n",
            "outscale 0.18888874351978302\n",
            "mean_module 0.015175257809460163\n",
            "noise 9.196578979492188\n"
          ]
        },
        {
          "output_type": "stream",
          "name": "stderr",
          "text": [
            " 65%|██████▍   | 12910/20000 [02:39<01:52, 62.94it/s]"
          ]
        },
        {
          "output_type": "stream",
          "name": "stdout",
          "text": [
            "loss -7.782286167144775\n",
            "outscale 0.18239307403564453\n",
            "mean_module 0.014511953108012676\n",
            "noise 9.28100299835205\n"
          ]
        },
        {
          "output_type": "stream",
          "name": "stderr",
          "text": [
            " 65%|██████▌   | 13018/20000 [02:41<01:35, 73.16it/s]"
          ]
        },
        {
          "output_type": "stream",
          "name": "stdout",
          "text": [
            "loss -7.78821325302124\n",
            "outscale 0.17618155479431152\n",
            "mean_module 0.014392896555364132\n",
            "noise 9.365581512451172\n"
          ]
        },
        {
          "output_type": "stream",
          "name": "stderr",
          "text": [
            " 66%|██████▌   | 13115/20000 [02:42<01:15, 91.56it/s]"
          ]
        },
        {
          "output_type": "stream",
          "name": "stdout",
          "text": [
            "loss -7.794599533081055\n",
            "outscale 0.17019571363925934\n",
            "mean_module 0.01566394418478012\n",
            "noise 9.450359344482422\n"
          ]
        },
        {
          "output_type": "stream",
          "name": "stderr",
          "text": [
            " 66%|██████▌   | 13215/20000 [02:43<01:14, 90.92it/s]"
          ]
        },
        {
          "output_type": "stream",
          "name": "stdout",
          "text": [
            "loss -7.300095558166504\n",
            "outscale 0.16433846950531006\n",
            "mean_module 0.014836667105555534\n",
            "noise 9.535259246826172\n"
          ]
        },
        {
          "output_type": "stream",
          "name": "stderr",
          "text": [
            " 67%|██████▋   | 13315/20000 [02:44<01:12, 91.71it/s]"
          ]
        },
        {
          "output_type": "stream",
          "name": "stdout",
          "text": [
            "loss -7.806857109069824\n",
            "outscale 0.1587543785572052\n",
            "mean_module 0.015384030528366566\n",
            "noise 9.620349884033203\n"
          ]
        },
        {
          "output_type": "stream",
          "name": "stderr",
          "text": [
            " 67%|██████▋   | 13415/20000 [02:45<01:11, 92.00it/s]"
          ]
        },
        {
          "output_type": "stream",
          "name": "stdout",
          "text": [
            "loss -7.813037395477295\n",
            "outscale 0.15353289246559143\n",
            "mean_module 0.015430190600454807\n",
            "noise 9.705582618713379\n"
          ]
        },
        {
          "output_type": "stream",
          "name": "stderr",
          "text": [
            " 68%|██████▊   | 13512/20000 [02:46<01:10, 92.09it/s]"
          ]
        },
        {
          "output_type": "stream",
          "name": "stdout",
          "text": [
            "loss -7.818737030029297\n",
            "outscale 0.14821505546569824\n",
            "mean_module 0.015786243602633476\n",
            "noise 9.790971755981445\n"
          ]
        },
        {
          "output_type": "stream",
          "name": "stderr",
          "text": [
            " 68%|██████▊   | 13613/20000 [02:47<01:08, 93.39it/s]"
          ]
        },
        {
          "output_type": "stream",
          "name": "stdout",
          "text": [
            "loss -7.824891567230225\n",
            "outscale 0.1432822346687317\n",
            "mean_module 0.014838564209640026\n",
            "noise 9.876481056213379\n"
          ]
        },
        {
          "output_type": "stream",
          "name": "stderr",
          "text": [
            " 69%|██████▊   | 13714/20000 [02:48<01:05, 96.11it/s]"
          ]
        },
        {
          "output_type": "stream",
          "name": "stdout",
          "text": [
            "loss -7.8309173583984375\n",
            "outscale 0.1383933424949646\n",
            "mean_module 0.015081815421581268\n",
            "noise 9.962187767028809\n"
          ]
        },
        {
          "output_type": "stream",
          "name": "stderr",
          "text": [
            " 69%|██████▉   | 13814/20000 [02:50<01:05, 93.82it/s]"
          ]
        },
        {
          "output_type": "stream",
          "name": "stdout",
          "text": [
            "loss -7.336395263671875\n",
            "outscale 0.1337151676416397\n",
            "mean_module 0.015298137441277504\n",
            "noise 10.048025131225586\n"
          ]
        },
        {
          "output_type": "stream",
          "name": "stderr",
          "text": [
            " 70%|██████▉   | 13914/20000 [02:51<01:15, 80.38it/s]"
          ]
        },
        {
          "output_type": "stream",
          "name": "stdout",
          "text": [
            "loss -7.842318058013916\n",
            "outscale 0.12905599176883698\n",
            "mean_module 0.015148143284022808\n",
            "noise 10.134001731872559\n"
          ]
        },
        {
          "output_type": "stream",
          "name": "stderr",
          "text": [
            " 70%|███████   | 14008/20000 [02:52<01:37, 61.44it/s]"
          ]
        },
        {
          "output_type": "stream",
          "name": "stdout",
          "text": [
            "loss -7.848276615142822\n",
            "outscale 0.12476001679897308\n",
            "mean_module 0.015286058187484741\n",
            "noise 10.220122337341309\n"
          ]
        },
        {
          "output_type": "stream",
          "name": "stderr",
          "text": [
            " 71%|███████   | 14110/20000 [02:54<01:15, 77.64it/s]"
          ]
        },
        {
          "output_type": "stream",
          "name": "stdout",
          "text": [
            "loss -7.854020595550537\n",
            "outscale 0.12044475972652435\n",
            "mean_module 0.015369921922683716\n",
            "noise 10.306385040283203\n"
          ]
        },
        {
          "output_type": "stream",
          "name": "stderr",
          "text": [
            " 71%|███████   | 14212/20000 [02:55<01:05, 88.21it/s]"
          ]
        },
        {
          "output_type": "stream",
          "name": "stdout",
          "text": [
            "loss -7.859614849090576\n",
            "outscale 0.11630813032388687\n",
            "mean_module 0.015555549412965775\n",
            "noise 10.392781257629395\n"
          ]
        },
        {
          "output_type": "stream",
          "name": "stderr",
          "text": [
            " 72%|███████▏  | 14311/20000 [02:56<01:03, 89.45it/s]"
          ]
        },
        {
          "output_type": "stream",
          "name": "stdout",
          "text": [
            "loss -7.8654704093933105\n",
            "outscale 0.11250364780426025\n",
            "mean_module 0.01569577492773533\n",
            "noise 10.479302406311035\n"
          ]
        },
        {
          "output_type": "stream",
          "name": "stderr",
          "text": [
            " 72%|███████▏  | 14410/20000 [02:57<01:04, 86.74it/s]"
          ]
        },
        {
          "output_type": "stream",
          "name": "stdout",
          "text": [
            "loss -7.372043132781982\n",
            "outscale 0.10862797498703003\n",
            "mean_module 0.015059420838952065\n",
            "noise 10.565960884094238\n"
          ]
        },
        {
          "output_type": "stream",
          "name": "stderr",
          "text": [
            " 73%|███████▎  | 14519/20000 [02:59<01:01, 89.76it/s]"
          ]
        },
        {
          "output_type": "stream",
          "name": "stdout",
          "text": [
            "loss -7.876664638519287\n",
            "outscale 0.10499977320432663\n",
            "mean_module 0.01467859372496605\n",
            "noise 10.652754783630371\n"
          ]
        },
        {
          "output_type": "stream",
          "name": "stderr",
          "text": [
            " 73%|███████▎  | 14619/20000 [03:00<00:57, 93.60it/s]"
          ]
        },
        {
          "output_type": "stream",
          "name": "stdout",
          "text": [
            "loss -7.882048606872559\n",
            "outscale 0.10142563283443451\n",
            "mean_module 0.015119755640625954\n",
            "noise 10.739683151245117\n"
          ]
        },
        {
          "output_type": "stream",
          "name": "stderr",
          "text": [
            " 74%|███████▎  | 14719/20000 [03:01<00:56, 92.88it/s]"
          ]
        },
        {
          "output_type": "stream",
          "name": "stdout",
          "text": [
            "loss -7.887470722198486\n",
            "outscale 0.09799592941999435\n",
            "mean_module 0.015355794690549374\n",
            "noise 10.826730728149414\n"
          ]
        },
        {
          "output_type": "stream",
          "name": "stderr",
          "text": [
            " 74%|███████▍  | 14819/20000 [03:02<00:56, 90.95it/s]"
          ]
        },
        {
          "output_type": "stream",
          "name": "stdout",
          "text": [
            "loss -7.89296817779541\n",
            "outscale 0.09469082951545715\n",
            "mean_module 0.014348815195262432\n",
            "noise 10.913909912109375\n"
          ]
        },
        {
          "output_type": "stream",
          "name": "stderr",
          "text": [
            " 75%|███████▍  | 14918/20000 [03:03<00:53, 94.42it/s]"
          ]
        },
        {
          "output_type": "stream",
          "name": "stdout",
          "text": [
            "loss -7.898440361022949\n",
            "outscale 0.09151129424571991\n",
            "mean_module 0.014484484679996967\n",
            "noise 11.001199722290039\n"
          ]
        },
        {
          "output_type": "stream",
          "name": "stderr",
          "text": [
            " 75%|███████▌  | 15006/20000 [03:04<01:07, 74.10it/s]"
          ]
        },
        {
          "output_type": "stream",
          "name": "stdout",
          "text": [
            "loss -7.405453681945801\n",
            "outscale 0.08832590281963348\n",
            "mean_module 0.014166656881570816\n",
            "noise 11.088631629943848\n"
          ]
        },
        {
          "output_type": "stream",
          "name": "stderr",
          "text": [
            " 76%|███████▌  | 15110/20000 [03:06<01:18, 62.16it/s]"
          ]
        },
        {
          "output_type": "stream",
          "name": "stdout",
          "text": [
            "loss -7.909204006195068\n",
            "outscale 0.08537641912698746\n",
            "mean_module 0.014315909706056118\n",
            "noise 11.176151275634766\n"
          ]
        },
        {
          "output_type": "stream",
          "name": "stderr",
          "text": [
            " 76%|███████▌  | 15212/20000 [03:07<00:59, 80.66it/s]"
          ]
        },
        {
          "output_type": "stream",
          "name": "stdout",
          "text": [
            "loss -7.914509296417236\n",
            "outscale 0.08250824362039566\n",
            "mean_module 0.014634721912443638\n",
            "noise 11.263800621032715\n"
          ]
        },
        {
          "output_type": "stream",
          "name": "stderr",
          "text": [
            " 77%|███████▋  | 15318/20000 [03:08<00:52, 89.23it/s]"
          ]
        },
        {
          "output_type": "stream",
          "name": "stdout",
          "text": [
            "loss -7.919665336608887\n",
            "outscale 0.07970576733350754\n",
            "mean_module 0.014136800542473793\n",
            "noise 11.351569175720215\n"
          ]
        },
        {
          "output_type": "stream",
          "name": "stderr",
          "text": [
            " 77%|███████▋  | 15414/20000 [03:09<00:53, 86.38it/s]"
          ]
        },
        {
          "output_type": "stream",
          "name": "stdout",
          "text": [
            "loss -7.9246954917907715\n",
            "outscale 0.07693378627300262\n",
            "mean_module 0.014295740984380245\n",
            "noise 11.439460754394531\n"
          ]
        },
        {
          "output_type": "stream",
          "name": "stderr",
          "text": [
            " 78%|███████▊  | 15511/20000 [03:10<00:57, 78.45it/s]"
          ]
        },
        {
          "output_type": "stream",
          "name": "stdout",
          "text": [
            "loss -7.4325995445251465\n",
            "outscale 0.07448363304138184\n",
            "mean_module 0.01310827024281025\n",
            "noise 11.52744197845459\n"
          ]
        },
        {
          "output_type": "stream",
          "name": "stderr",
          "text": [
            " 78%|███████▊  | 15619/20000 [03:12<00:47, 92.12it/s]"
          ]
        },
        {
          "output_type": "stream",
          "name": "stdout",
          "text": [
            "loss -7.935123920440674\n",
            "outscale 0.07193326205015182\n",
            "mean_module 0.013837764970958233\n",
            "noise 11.615544319152832\n"
          ]
        },
        {
          "output_type": "stream",
          "name": "stderr",
          "text": [
            " 79%|███████▊  | 15719/20000 [03:13<00:46, 91.25it/s]"
          ]
        },
        {
          "output_type": "stream",
          "name": "stdout",
          "text": [
            "loss -7.441657543182373\n",
            "outscale 0.06963232159614563\n",
            "mean_module 0.013033131137490273\n",
            "noise 11.703753471374512\n"
          ]
        },
        {
          "output_type": "stream",
          "name": "stderr",
          "text": [
            " 79%|███████▉  | 15818/20000 [03:14<00:44, 93.39it/s]"
          ]
        },
        {
          "output_type": "stream",
          "name": "stdout",
          "text": [
            "loss -7.945345401763916\n",
            "outscale 0.06728608161211014\n",
            "mean_module 0.012606998905539513\n",
            "noise 11.792072296142578\n"
          ]
        },
        {
          "output_type": "stream",
          "name": "stderr",
          "text": [
            " 80%|███████▉  | 15918/20000 [03:15<00:44, 91.08it/s]"
          ]
        },
        {
          "output_type": "stream",
          "name": "stdout",
          "text": [
            "loss -7.950592517852783\n",
            "outscale 0.06503857672214508\n",
            "mean_module 0.012301341630518436\n",
            "noise 11.88049030303955\n"
          ]
        },
        {
          "output_type": "stream",
          "name": "stderr",
          "text": [
            " 80%|████████  | 16018/20000 [03:16<00:43, 90.80it/s]"
          ]
        },
        {
          "output_type": "stream",
          "name": "stdout",
          "text": [
            "loss -7.95534086227417\n",
            "outscale 0.06288415193557739\n",
            "mean_module 0.011826549656689167\n",
            "noise 11.969019889831543\n"
          ]
        },
        {
          "output_type": "stream",
          "name": "stderr",
          "text": [
            " 81%|████████  | 16111/20000 [03:17<00:56, 68.59it/s]"
          ]
        },
        {
          "output_type": "stream",
          "name": "stdout",
          "text": [
            "loss -7.96063232421875\n",
            "outscale 0.06077829748392105\n",
            "mean_module 0.012113361619412899\n",
            "noise 12.05765438079834\n"
          ]
        },
        {
          "output_type": "stream",
          "name": "stderr",
          "text": [
            " 81%|████████  | 16208/20000 [03:19<01:05, 58.03it/s]"
          ]
        },
        {
          "output_type": "stream",
          "name": "stdout",
          "text": [
            "loss -7.965717792510986\n",
            "outscale 0.05877884849905968\n",
            "mean_module 0.011931649409234524\n",
            "noise 12.146383285522461\n"
          ]
        },
        {
          "output_type": "stream",
          "name": "stderr",
          "text": [
            " 82%|████████▏ | 16318/20000 [03:20<00:41, 87.69it/s]"
          ]
        },
        {
          "output_type": "stream",
          "name": "stdout",
          "text": [
            "loss -7.970402717590332\n",
            "outscale 0.056805968284606934\n",
            "mean_module 0.010707384906709194\n",
            "noise 12.235214233398438\n"
          ]
        },
        {
          "output_type": "stream",
          "name": "stderr",
          "text": [
            " 82%|████████▏ | 16417/20000 [03:21<00:38, 93.31it/s]"
          ]
        },
        {
          "output_type": "stream",
          "name": "stdout",
          "text": [
            "loss -7.975444793701172\n",
            "outscale 0.05490858107805252\n",
            "mean_module 0.010094626806676388\n",
            "noise 12.3241605758667\n"
          ]
        },
        {
          "output_type": "stream",
          "name": "stderr",
          "text": [
            " 83%|████████▎ | 16518/20000 [03:23<00:37, 93.57it/s]"
          ]
        },
        {
          "output_type": "stream",
          "name": "stdout",
          "text": [
            "loss -7.980286121368408\n",
            "outscale 0.05299796164035797\n",
            "mean_module 0.01102443691343069\n",
            "noise 12.413206100463867\n"
          ]
        },
        {
          "output_type": "stream",
          "name": "stderr",
          "text": [
            " 83%|████████▎ | 16618/20000 [03:24<00:37, 91.14it/s]"
          ]
        },
        {
          "output_type": "stream",
          "name": "stdout",
          "text": [
            "loss -7.985286235809326\n",
            "outscale 0.05126200243830681\n",
            "mean_module 0.009179377928376198\n",
            "noise 12.502317428588867\n"
          ]
        },
        {
          "output_type": "stream",
          "name": "stderr",
          "text": [
            " 84%|████████▎ | 16717/20000 [03:25<00:36, 90.81it/s]"
          ]
        },
        {
          "output_type": "stream",
          "name": "stdout",
          "text": [
            "loss -7.990428924560547\n",
            "outscale 0.04952382668852806\n",
            "mean_module 0.009277569130063057\n",
            "noise 12.591548919677734\n"
          ]
        },
        {
          "output_type": "stream",
          "name": "stderr",
          "text": [
            " 84%|████████▍ | 16810/20000 [03:26<00:39, 80.43it/s]"
          ]
        },
        {
          "output_type": "stream",
          "name": "stdout",
          "text": [
            "loss -7.9954423904418945\n",
            "outscale 0.047802653163671494\n",
            "mean_module 0.009140599519014359\n",
            "noise 12.680871963500977\n"
          ]
        },
        {
          "output_type": "stream",
          "name": "stderr",
          "text": [
            " 85%|████████▍ | 16917/20000 [03:27<00:35, 88.06it/s]"
          ]
        },
        {
          "output_type": "stream",
          "name": "stdout",
          "text": [
            "loss -8.000120162963867\n",
            "outscale 0.04620617628097534\n",
            "mean_module 0.008013306185603142\n",
            "noise 12.770280838012695\n"
          ]
        },
        {
          "output_type": "stream",
          "name": "stderr",
          "text": [
            " 85%|████████▌ | 17016/20000 [03:28<00:32, 90.72it/s]"
          ]
        },
        {
          "output_type": "stream",
          "name": "stdout",
          "text": [
            "loss -8.004894256591797\n",
            "outscale 0.044688332825899124\n",
            "mean_module 0.007250722032040358\n",
            "noise 12.859781265258789\n"
          ]
        },
        {
          "output_type": "stream",
          "name": "stderr",
          "text": [
            " 86%|████████▌ | 17116/20000 [03:29<00:31, 92.50it/s]"
          ]
        },
        {
          "output_type": "stream",
          "name": "stdout",
          "text": [
            "loss -8.01014518737793\n",
            "outscale 0.04317410662770271\n",
            "mean_module 0.006820409558713436\n",
            "noise 12.949393272399902\n"
          ]
        },
        {
          "output_type": "stream",
          "name": "stderr",
          "text": [
            " 86%|████████▌ | 17212/20000 [03:31<00:42, 66.29it/s]"
          ]
        },
        {
          "output_type": "stream",
          "name": "stdout",
          "text": [
            "loss -8.01558780670166\n",
            "outscale 0.041707709431648254\n",
            "mean_module 0.006630727089941502\n",
            "noise 13.039092063903809\n"
          ]
        },
        {
          "output_type": "stream",
          "name": "stderr",
          "text": [
            " 87%|████████▋ | 17308/20000 [03:32<00:47, 56.29it/s]"
          ]
        },
        {
          "output_type": "stream",
          "name": "stdout",
          "text": [
            "loss -8.02065658569336\n",
            "outscale 0.04028703272342682\n",
            "mean_module 0.005846173968166113\n",
            "noise 13.128888130187988\n"
          ]
        },
        {
          "output_type": "stream",
          "name": "stderr",
          "text": [
            " 87%|████████▋ | 17413/20000 [03:34<00:29, 86.78it/s]"
          ]
        },
        {
          "output_type": "stream",
          "name": "stdout",
          "text": [
            "loss -7.521873950958252\n",
            "outscale 0.03892238438129425\n",
            "mean_module 0.0050238389521837234\n",
            "noise 13.218769073486328\n"
          ]
        },
        {
          "output_type": "stream",
          "name": "stderr",
          "text": [
            " 88%|████████▊ | 17511/20000 [03:35<00:26, 92.90it/s]"
          ]
        },
        {
          "output_type": "stream",
          "name": "stdout",
          "text": [
            "loss -8.030986785888672\n",
            "outscale 0.03758982941508293\n",
            "mean_module 0.0048140063881874084\n",
            "noise 13.30874252319336\n"
          ]
        },
        {
          "output_type": "stream",
          "name": "stderr",
          "text": [
            " 88%|████████▊ | 17611/20000 [03:36<00:25, 94.56it/s]"
          ]
        },
        {
          "output_type": "stream",
          "name": "stdout",
          "text": [
            "loss -8.035979270935059\n",
            "outscale 0.03626914322376251\n",
            "mean_module 0.0032177360262721777\n",
            "noise 13.398812294006348\n"
          ]
        },
        {
          "output_type": "stream",
          "name": "stderr",
          "text": [
            " 89%|████████▊ | 17718/20000 [03:37<00:26, 86.69it/s]"
          ]
        },
        {
          "output_type": "stream",
          "name": "stdout",
          "text": [
            "loss -8.04124927520752\n",
            "outscale 0.03500647470355034\n",
            "mean_module 0.0022557482589036226\n",
            "noise 13.488973617553711\n"
          ]
        },
        {
          "output_type": "stream",
          "name": "stderr",
          "text": [
            " 89%|████████▉ | 17819/20000 [03:38<00:24, 87.47it/s]"
          ]
        },
        {
          "output_type": "stream",
          "name": "stdout",
          "text": [
            "loss -8.047454833984375\n",
            "outscale 0.033799923956394196\n",
            "mean_module 0.0018622911302372813\n",
            "noise 13.579235076904297\n"
          ]
        },
        {
          "output_type": "stream",
          "name": "stderr",
          "text": [
            " 90%|████████▉ | 17919/20000 [03:39<00:22, 91.54it/s]"
          ]
        },
        {
          "output_type": "stream",
          "name": "stdout",
          "text": [
            "loss -8.052753448486328\n",
            "outscale 0.03258809447288513\n",
            "mean_module 0.0005805428372696042\n",
            "noise 13.669600486755371\n"
          ]
        },
        {
          "output_type": "stream",
          "name": "stderr",
          "text": [
            " 90%|█████████ | 18009/20000 [03:40<00:21, 92.75it/s]"
          ]
        },
        {
          "output_type": "stream",
          "name": "stdout",
          "text": [
            "loss -8.059667587280273\n",
            "outscale 0.031444352120161057\n",
            "mean_module -0.0002999766729772091\n",
            "noise 13.760075569152832\n"
          ]
        },
        {
          "output_type": "stream",
          "name": "stderr",
          "text": [
            " 91%|█████████ | 18119/20000 [03:41<00:20, 92.70it/s]"
          ]
        },
        {
          "output_type": "stream",
          "name": "stdout",
          "text": [
            "loss -8.06586742401123\n",
            "outscale 0.03028877265751362\n",
            "mean_module -0.0019122808007523417\n",
            "noise 13.85067367553711\n"
          ]
        },
        {
          "output_type": "stream",
          "name": "stderr",
          "text": [
            " 91%|█████████ | 18215/20000 [03:42<00:20, 88.29it/s]"
          ]
        },
        {
          "output_type": "stream",
          "name": "stdout",
          "text": [
            "loss -8.074092864990234\n",
            "outscale 0.029178261756896973\n",
            "mean_module -0.002829786390066147\n",
            "noise 13.941412925720215\n"
          ]
        },
        {
          "output_type": "stream",
          "name": "stderr",
          "text": [
            " 92%|█████████▏| 18308/20000 [03:44<00:25, 65.50it/s]"
          ]
        },
        {
          "output_type": "stream",
          "name": "stdout",
          "text": [
            "loss -8.082355499267578\n",
            "outscale 0.028073765337467194\n",
            "mean_module -0.0033047415781766176\n",
            "noise 14.032301902770996\n"
          ]
        },
        {
          "output_type": "stream",
          "name": "stderr",
          "text": [
            " 92%|█████████▏| 18407/20000 [03:45<00:27, 58.63it/s]"
          ]
        },
        {
          "output_type": "stream",
          "name": "stdout",
          "text": [
            "loss -8.092059135437012\n",
            "outscale 0.026989175006747246\n",
            "mean_module -0.0058807930909097195\n",
            "noise 14.123360633850098\n"
          ]
        },
        {
          "output_type": "stream",
          "name": "stderr",
          "text": [
            " 93%|█████████▎| 18517/20000 [03:47<00:17, 85.94it/s]"
          ]
        },
        {
          "output_type": "stream",
          "name": "stdout",
          "text": [
            "loss -7.607985019683838\n",
            "outscale 0.025909069925546646\n",
            "mean_module -0.00898090098053217\n",
            "noise 14.21463680267334\n"
          ]
        },
        {
          "output_type": "stream",
          "name": "stderr",
          "text": [
            " 93%|█████████▎| 18617/20000 [03:48<00:15, 90.38it/s]"
          ]
        },
        {
          "output_type": "stream",
          "name": "stdout",
          "text": [
            "loss -8.116008758544922\n",
            "outscale 0.02485646866261959\n",
            "mean_module -0.010302368551492691\n",
            "noise 14.30620002746582\n"
          ]
        },
        {
          "output_type": "stream",
          "name": "stderr",
          "text": [
            " 94%|█████████▎| 18717/20000 [03:49<00:13, 92.08it/s]"
          ]
        },
        {
          "output_type": "stream",
          "name": "stdout",
          "text": [
            "loss -8.130406379699707\n",
            "outscale 0.023808686062693596\n",
            "mean_module -0.012888507917523384\n",
            "noise 14.398086547851562\n"
          ]
        },
        {
          "output_type": "stream",
          "name": "stderr",
          "text": [
            " 94%|█████████▍| 18808/20000 [03:50<00:13, 91.22it/s]"
          ]
        },
        {
          "output_type": "stream",
          "name": "stdout",
          "text": [
            "loss -7.645254611968994\n",
            "outscale 0.02281828783452511\n",
            "mean_module -0.014345786534249783\n",
            "noise 14.49038314819336\n"
          ]
        },
        {
          "output_type": "stream",
          "name": "stderr",
          "text": [
            " 95%|█████████▍| 18917/20000 [03:51<00:11, 93.58it/s]"
          ]
        },
        {
          "output_type": "stream",
          "name": "stdout",
          "text": [
            "loss -7.66473388671875\n",
            "outscale 0.02183210663497448\n",
            "mean_module -0.018775729462504387\n",
            "noise 14.583105087280273\n"
          ]
        },
        {
          "output_type": "stream",
          "name": "stderr",
          "text": [
            " 95%|█████████▌| 19017/20000 [03:52<00:10, 93.66it/s]"
          ]
        },
        {
          "output_type": "stream",
          "name": "stdout",
          "text": [
            "loss -8.177948951721191\n",
            "outscale 0.020864395424723625\n",
            "mean_module -0.02207660675048828\n",
            "noise 14.676285743713379\n"
          ]
        },
        {
          "output_type": "stream",
          "name": "stderr",
          "text": [
            " 96%|█████████▌| 19116/20000 [03:53<00:10, 87.09it/s]"
          ]
        },
        {
          "output_type": "stream",
          "name": "stdout",
          "text": [
            "loss -8.19348430633545\n",
            "outscale 0.019996624439954758\n",
            "mean_module -0.023960886523127556\n",
            "noise 14.769801139831543\n"
          ]
        },
        {
          "output_type": "stream",
          "name": "stderr",
          "text": [
            " 96%|█████████▌| 19214/20000 [03:54<00:09, 82.48it/s]"
          ]
        },
        {
          "output_type": "stream",
          "name": "stdout",
          "text": [
            "loss -8.206197738647461\n",
            "outscale 0.01915849931538105\n",
            "mean_module -0.026735849678516388\n",
            "noise 14.86356258392334\n"
          ]
        },
        {
          "output_type": "stream",
          "name": "stderr",
          "text": [
            " 97%|█████████▋| 19317/20000 [03:56<00:07, 90.77it/s]"
          ]
        },
        {
          "output_type": "stream",
          "name": "stdout",
          "text": [
            "loss -8.216754913330078\n",
            "outscale 0.01835406757891178\n",
            "mean_module -0.029522161930799484\n",
            "noise 14.957464218139648\n"
          ]
        },
        {
          "output_type": "stream",
          "name": "stderr",
          "text": [
            " 97%|█████████▋| 19411/20000 [03:57<00:08, 68.63it/s]"
          ]
        },
        {
          "output_type": "stream",
          "name": "stdout",
          "text": [
            "loss -8.227557182312012\n",
            "outscale 0.017608344554901123\n",
            "mean_module -0.031051816418766975\n",
            "noise 15.051448822021484\n"
          ]
        },
        {
          "output_type": "stream",
          "name": "stderr",
          "text": [
            " 98%|█████████▊| 19506/20000 [03:59<00:08, 60.63it/s]"
          ]
        },
        {
          "output_type": "stream",
          "name": "stdout",
          "text": [
            "loss -8.23704719543457\n",
            "outscale 0.01689697615802288\n",
            "mean_module -0.0324941985309124\n",
            "noise 15.145464897155762\n"
          ]
        },
        {
          "output_type": "stream",
          "name": "stderr",
          "text": [
            " 98%|█████████▊| 19611/20000 [04:00<00:04, 93.51it/s]"
          ]
        },
        {
          "output_type": "stream",
          "name": "stdout",
          "text": [
            "loss -8.245489120483398\n",
            "outscale 0.01621033251285553\n",
            "mean_module -0.03379053622484207\n",
            "noise 15.23947525024414\n"
          ]
        },
        {
          "output_type": "stream",
          "name": "stderr",
          "text": [
            " 99%|█████████▊| 19708/20000 [04:01<00:03, 73.65it/s]"
          ]
        },
        {
          "output_type": "stream",
          "name": "stdout",
          "text": [
            "loss -7.747481822967529\n",
            "outscale 0.015587088651955128\n",
            "mean_module -0.035049352794885635\n",
            "noise 15.333456039428711\n"
          ]
        },
        {
          "output_type": "stream",
          "name": "stderr",
          "text": [
            " 99%|█████████▉| 19807/20000 [04:03<00:03, 51.04it/s]"
          ]
        },
        {
          "output_type": "stream",
          "name": "stdout",
          "text": [
            "loss -8.260688781738281\n",
            "outscale 0.014973064884543419\n",
            "mean_module -0.03662993386387825\n",
            "noise 15.427406311035156\n"
          ]
        },
        {
          "output_type": "stream",
          "name": "stderr",
          "text": [
            "100%|█████████▉| 19915/20000 [04:04<00:00, 87.33it/s]"
          ]
        },
        {
          "output_type": "stream",
          "name": "stdout",
          "text": [
            "loss -8.269100189208984\n",
            "outscale 0.014418398961424828\n",
            "mean_module -0.03635672479867935\n",
            "noise 15.521306991577148\n"
          ]
        },
        {
          "output_type": "stream",
          "name": "stderr",
          "text": [
            "100%|██████████| 20000/20000 [04:05<00:00, 81.44it/s]\n"
          ]
        }
      ]
    },
    {
      "cell_type": "code",
      "source": [
        "# MC benchmark\n",
        "# noise.noise : 1.1169327\n",
        "# mean_module.constant:  -0.2968234121799469\n",
        "# covar_module.outputscale: 14.430706024169922\n",
        "# covar_module.base_kernel.lengthscale: 0.09698801"
      ],
      "metadata": {
        "id": "-fhqXiHMclq4"
      },
      "execution_count": null,
      "outputs": []
    },
    {
      "cell_type": "code",
      "source": [
        "print_module(likelihood)\n",
        "print_module(model)"
      ],
      "metadata": {
        "colab": {
          "base_uri": "https://localhost:8080/"
        },
        "id": "swjwR2Z6KcDL",
        "outputId": "c4c51813-a7d7-4da4-e0a7-d3e54a3348c5"
      },
      "execution_count": 246,
      "outputs": [
        {
          "output_type": "stream",
          "name": "stdout",
          "text": [
            "noise.noise                         (1,)\n",
            "[15.614219]\n",
            "variational_strategy._variational_distribution.variational_mean (15,)\n",
            "[-0.15527773  0.37022507 -0.4469847   0.09626959  0.5103773   0.06868979\n",
            "  0.09207281 -0.01056694  0.23139353 -0.1041503   0.00094421 -0.0613551\n",
            " -0.06497703 -0.00860533 -0.51146287]\n",
            "variational_strategy._variational_distribution.chol_variational_covar (15, 15)\n",
            "[[ 2.6877126e-01  0.0000000e+00  0.0000000e+00  0.0000000e+00\n",
            "   0.0000000e+00  0.0000000e+00  0.0000000e+00  0.0000000e+00\n",
            "   0.0000000e+00  0.0000000e+00  0.0000000e+00  0.0000000e+00\n",
            "   0.0000000e+00  0.0000000e+00  0.0000000e+00]\n",
            " [-2.0323113e-01  6.2614518e-01  0.0000000e+00  0.0000000e+00\n",
            "   0.0000000e+00  0.0000000e+00  0.0000000e+00  0.0000000e+00\n",
            "   0.0000000e+00  0.0000000e+00  0.0000000e+00  0.0000000e+00\n",
            "   0.0000000e+00  0.0000000e+00  0.0000000e+00]\n",
            " [-6.4325050e-02 -2.6370507e-01  8.6171472e-01  0.0000000e+00\n",
            "   0.0000000e+00  0.0000000e+00  0.0000000e+00  0.0000000e+00\n",
            "   0.0000000e+00  0.0000000e+00  0.0000000e+00  0.0000000e+00\n",
            "   0.0000000e+00  0.0000000e+00  0.0000000e+00]\n",
            " [-2.0472273e-01  3.4177903e-02  6.6509597e-02  9.6459210e-01\n",
            "   0.0000000e+00  0.0000000e+00  0.0000000e+00  0.0000000e+00\n",
            "   0.0000000e+00  0.0000000e+00  0.0000000e+00  0.0000000e+00\n",
            "   0.0000000e+00  0.0000000e+00  0.0000000e+00]\n",
            " [-1.6015573e-01  8.3198674e-02  1.7084870e-01 -1.0454055e-01\n",
            "   8.7285757e-01  0.0000000e+00  0.0000000e+00  0.0000000e+00\n",
            "   0.0000000e+00  0.0000000e+00  0.0000000e+00  0.0000000e+00\n",
            "   0.0000000e+00  0.0000000e+00  0.0000000e+00]\n",
            " [-3.5020929e-02 -9.1433756e-02 -5.3993307e-02  6.4020124e-03\n",
            "   1.2936388e-02  9.8919374e-01  0.0000000e+00  0.0000000e+00\n",
            "   0.0000000e+00  0.0000000e+00  0.0000000e+00  0.0000000e+00\n",
            "   0.0000000e+00  0.0000000e+00  0.0000000e+00]\n",
            " [-3.7668362e-02  1.2072696e-02  2.7290177e-02 -1.7770397e-02\n",
            "  -3.6526263e-02  4.0195561e-03  9.9646854e-01  0.0000000e+00\n",
            "   0.0000000e+00  0.0000000e+00  0.0000000e+00  0.0000000e+00\n",
            "   0.0000000e+00  0.0000000e+00  0.0000000e+00]\n",
            " [-4.0493966e-03  1.6804287e-02  7.6521062e-03 -2.9614803e-03\n",
            "  -2.7589558e-03  3.4427685e-03 -9.2054688e-04  1.0016596e+00\n",
            "   0.0000000e+00  0.0000000e+00  0.0000000e+00  0.0000000e+00\n",
            "   0.0000000e+00  0.0000000e+00  0.0000000e+00]\n",
            " [ 1.7717222e-03 -8.0986470e-03 -8.1039630e-03  2.6333923e-03\n",
            "   2.0147439e-03 -3.8742181e-03  1.0481216e-03  5.0847847e-03\n",
            "   1.0007453e+00  0.0000000e+00  0.0000000e+00  0.0000000e+00\n",
            "   0.0000000e+00  0.0000000e+00  0.0000000e+00]\n",
            " [ 2.3279306e-02 -1.3074558e-02  4.1012880e-03  4.3113963e-03\n",
            "  -2.5921244e-02 -6.1597289e-03  3.5667147e-03  6.1924540e-04\n",
            "  -9.9143840e-04  9.8689240e-01  0.0000000e+00  0.0000000e+00\n",
            "   0.0000000e+00  0.0000000e+00  0.0000000e+00]\n",
            " [ 5.8243694e-03 -8.8314954e-03  7.7997921e-03 -1.1452202e-03\n",
            "  -5.1521906e-03  1.4399030e-03 -8.5148338e-04 -8.3902263e-04\n",
            "   8.9416339e-04 -6.7000301e-04  9.9882591e-01  0.0000000e+00\n",
            "   0.0000000e+00  0.0000000e+00  0.0000000e+00]\n",
            " [-7.0001580e-02  3.9971261e-03 -1.5194512e-03 -1.6973309e-02\n",
            "  -1.3290985e-02  6.4750062e-04 -3.7288324e-03 -1.3512396e-03\n",
            "   9.1805868e-04  1.8954444e-03  1.7773980e-04  9.9568969e-01\n",
            "   0.0000000e+00  0.0000000e+00  0.0000000e+00]\n",
            " [-5.3489067e-02 -1.6019965e-02 -1.6950855e-02 -8.1116166e-03\n",
            "  -3.4689461e-04 -4.3941597e-03 -1.6649280e-03 -6.2184998e-05\n",
            "  -4.8703281e-04  3.0515229e-04  8.0110820e-04 -5.3718695e-03\n",
            "   9.9767530e-01  0.0000000e+00  0.0000000e+00]\n",
            " [-8.2228822e-04  1.6201515e-03 -1.2374721e-03 -4.6262139e-04\n",
            "   1.0386532e-03  5.1975800e-05  3.6042070e-04  1.5546731e-04\n",
            "  -2.8418010e-04 -4.2935120e-04  3.8557910e-04 -6.1091722e-04\n",
            "  -2.9260261e-04  9.9964917e-01  0.0000000e+00]\n",
            " [ 4.9124560e-03 -1.8818292e-03 -2.9580251e-03  2.1665234e-03\n",
            "  -4.0003456e-02 -7.2030993e-03  1.5013053e-02 -5.3708241e-03\n",
            "   2.5907743e-03 -8.5519411e-02 -6.3980734e-03 -6.4754910e-03\n",
            "  -5.3910566e-03  1.2113641e-03  7.9560697e-01]]\n",
            "mean_module.constant                ()\n",
            "-0.03763003274798393\n",
            "covar_module.outputscale            ()\n",
            "0.01388542540371418\n",
            "covar_module.base_kernel.lengthscale (1, 1)\n",
            "[[0.15661974]]\n"
          ]
        }
      ]
    },
    {
      "cell_type": "code",
      "source": [
        "model.variational_strategy._variational_distribution.variational_mean"
      ],
      "metadata": {
        "colab": {
          "base_uri": "https://localhost:8080/"
        },
        "id": "nIn363-JV8kC",
        "outputId": "2c895e1e-0520-44e9-f30c-ca1c361c5388"
      },
      "execution_count": 247,
      "outputs": [
        {
          "output_type": "execute_result",
          "data": {
            "text/plain": [
              "Parameter containing:\n",
              "tensor([-0.1553,  0.3702, -0.4470,  0.0963,  0.5104,  0.0687,  0.0921, -0.0106,\n",
              "         0.2314, -0.1042,  0.0009, -0.0614, -0.0650, -0.0086, -0.5115],\n",
              "       requires_grad=True)"
            ]
          },
          "metadata": {},
          "execution_count": 247
        }
      ]
    },
    {
      "cell_type": "code",
      "source": [
        "model.eval()\n",
        "likelihood.eval()\n",
        "\n",
        "f_preds = model(domain[:,None])\n",
        "y_preds = likelihood(f_preds)\n",
        "\n",
        "f_mean = f_preds.loc\n",
        "f_var = f_preds.variance\n",
        "f_covar = f_preds.covariance_matrix\n",
        "\n",
        "N_samples = 1000\n",
        "breakpoints = torch.linspace(0, 1, N_samples+1)[:-1]\n",
        "breakpoints = breakpoints + breakpoints[1] * torch.rand_like(breakpoints)\n",
        "\n",
        "with torch.no_grad():\n",
        "    pred_samples = torch.distributions.Normal(f_mean, f_var.sqrt()).icdf(breakpoints[:,None])"
      ],
      "metadata": {
        "id": "L2hHuNav8cYE"
      },
      "execution_count": 248,
      "outputs": []
    },
    {
      "cell_type": "code",
      "source": [
        "def plot_result(pred_samples, censored=False):\n",
        "    if censored:\n",
        "        c_pred = pred_samples > MAX_VALUE\n",
        "        pred_samples[c_pred] = MAX_VALUE\n",
        "    with torch.no_grad(), gpytorch.settings.fast_pred_var():\n",
        "      pred_median = np.median(pred_samples, axis=0)\n",
        "      pred_quantiles = np.quantile(pred_samples, [0.025, 0.15, 0.85, 0.975], axis=0)\n",
        "\n",
        "      plt.figure(figsize=(6, 4))\n",
        "      plt.plot(domain, pred_median)\n",
        "\n",
        "      plt.fill_between(domain, pred_quantiles[0], pred_quantiles[-1], alpha=0.1, color='#33c');\n",
        "      plt.fill_between(domain, pred_quantiles[1], pred_quantiles[-2], alpha=0.1, color='#33c');\n",
        "      plt.plot(domain, y_preds.sample_n(n=100).mean([0,1]).numpy(force=True), 'r--')\n",
        "\n",
        "      plt.plot(x, y, 'k.');\n",
        "      plt.plot(domain, noise_free_target(domain).clamp_max(MAX_VALUE), 'k--', alpha=0.5);\n",
        "      plt.xlim(0, 1);\n",
        "      plt.ylim(-15, 5);\n",
        "      plt.title(\"Estimated function\")\n",
        "\n",
        "      plt.figure(figsize=(6, 2))\n",
        "      plt.title(\"Expected improvement\")\n",
        "      EI =  -(pred_samples*(pred_samples < y.min()).float()).mean(0)\n",
        "      plt.plot(domain, EI, 'r');\n",
        "      plt.fill_between(domain, torch.zeros_like(domain), EI, color='r', alpha=0.5)\n",
        "\n",
        "   # return f_covar, pred_samples\n",
        "\n",
        "plot_result(pred_samples)"
      ],
      "metadata": {
        "colab": {
          "base_uri": "https://localhost:8080/",
          "height": 648
        },
        "id": "qB1ZjUAr-e0c",
        "outputId": "fc6678e1-738f-42a5-c6a3-589bd62da82c"
      },
      "execution_count": 249,
      "outputs": [
        {
          "output_type": "stream",
          "name": "stderr",
          "text": [
            "/usr/local/lib/python3.10/dist-packages/torch/distributions/distribution.py:179: UserWarning: sample_n will be deprecated. Use .sample((n,)) instead\n",
            "  warnings.warn(\n"
          ]
        },
        {
          "output_type": "display_data",
          "data": {
            "text/plain": [
              "<Figure size 600x400 with 1 Axes>"
            ],
            "image/png": "[encoded data removed]"
          },
          "metadata": {}
        },
        {
          "output_type": "display_data",
          "data": {
            "text/plain": [
              "<Figure size 600x200 with 1 Axes>"
            ],
            "image/png": "[encoded data removed]"
          },
          "metadata": {}
        }
      ]
    },
    {
      "cell_type": "code",
      "source": [
        "# u,d = f_preds.confidence_region()\n",
        "# plt.plot(domain, f_preds.loc.numpy(force=True))\n",
        "# plt.fill_between(domain, u.numpy(force=True), d.numpy(force=True), alpha=0.1, color='#33c')\n",
        "# plt.plot(domain, y_preds.sample_n(n=100).mean([0,1]).numpy(force=True), 'r--')\n",
        "# plt.plot(x, y, 'k.');\n",
        "# plt.plot(domain, noise_free_target(domain).clamp_max(MAX_VALUE), 'k--', alpha=0.5);"
      ],
      "metadata": {
        "id": "NMXNNMQ4EzWm"
      },
      "execution_count": null,
      "outputs": []
    },
    {
      "cell_type": "markdown",
      "source": [
        "# MC Simulation"
      ],
      "metadata": {
        "id": "zAjpySlO8qql"
      }
    },
    {
      "cell_type": "code",
      "source": [
        "from gpytorch.models import ApproximateGP # handles basic variational inference\n",
        "from gpytorch.variational import CholeskyVariationalDistribution # distribution of the approximation q(f)\n",
        "from gpytorch.variational import VariationalStrategy # use when larger sample - transform q(u) to q(f) over inducing points\n",
        "\n",
        "class GPModel(ApproximateGP):\n",
        "    def __init__(self, inducing_points):\n",
        "        # defines approximation\n",
        "        variational_distribution = CholeskyVariationalDistribution(inducing_points.size(0))\n",
        "        variational_strategy = VariationalStrategy(self, inducing_points,\n",
        "                                                   variational_distribution, learn_inducing_locations=False)\n",
        "        super(GPModel, self).__init__(variational_strategy)\n",
        "        # defines the GP\n",
        "        self.mean_module = gpytorch.means.ConstantMean()\n",
        "        self.covar_module = gpytorch.kernels.ScaleKernel(gpytorch.kernels.RBFKernel())\n",
        "\n",
        "    def forward(self, x):\n",
        "        mean_x = self.mean_module(x)\n",
        "        covar_x = self.covar_module(x)\n",
        "        return gpytorch.distributions.MultivariateNormal(mean_x, covar_x)\n",
        "\n",
        "\n",
        "model = GPModel(inducing_points=x[:,None])\n",
        "# ElBO Likelihood\n",
        "likelihood = CensoredGaussianLikelihood(low=-1000., high=MAX_VALUE)\n",
        "\n",
        "if torch.cuda.is_available():\n",
        "    model = model.cuda()\n",
        "    likelihood = likelihood.cuda()"
      ],
      "metadata": {
        "id": "ytV96p1a8yv-"
      },
      "execution_count": null,
      "outputs": []
    },
    {
      "cell_type": "code",
      "source": [
        "print_module(model)"
      ],
      "metadata": {
        "colab": {
          "base_uri": "https://localhost:8080/"
        },
        "id": "QXlcTwmv9Wd0",
        "outputId": "802d2e2d-3e66-4acc-b93c-f957de93601d"
      },
      "execution_count": null,
      "outputs": [
        {
          "output_type": "stream",
          "name": "stdout",
          "text": [
            "variational_strategy._variational_distribution.variational_mean (15,)\n",
            "[0. 0. 0. 0. 0. 0. 0. 0. 0. 0. 0. 0. 0. 0. 0.]\n",
            "variational_strategy._variational_distribution.chol_variational_covar (15, 15)\n",
            "[[1. 0. 0. 0. 0. 0. 0. 0. 0. 0. 0. 0. 0. 0. 0.]\n",
            " [0. 1. 0. 0. 0. 0. 0. 0. 0. 0. 0. 0. 0. 0. 0.]\n",
            " [0. 0. 1. 0. 0. 0. 0. 0. 0. 0. 0. 0. 0. 0. 0.]\n",
            " [0. 0. 0. 1. 0. 0. 0. 0. 0. 0. 0. 0. 0. 0. 0.]\n",
            " [0. 0. 0. 0. 1. 0. 0. 0. 0. 0. 0. 0. 0. 0. 0.]\n",
            " [0. 0. 0. 0. 0. 1. 0. 0. 0. 0. 0. 0. 0. 0. 0.]\n",
            " [0. 0. 0. 0. 0. 0. 1. 0. 0. 0. 0. 0. 0. 0. 0.]\n",
            " [0. 0. 0. 0. 0. 0. 0. 1. 0. 0. 0. 0. 0. 0. 0.]\n",
            " [0. 0. 0. 0. 0. 0. 0. 0. 1. 0. 0. 0. 0. 0. 0.]\n",
            " [0. 0. 0. 0. 0. 0. 0. 0. 0. 1. 0. 0. 0. 0. 0.]\n",
            " [0. 0. 0. 0. 0. 0. 0. 0. 0. 0. 1. 0. 0. 0. 0.]\n",
            " [0. 0. 0. 0. 0. 0. 0. 0. 0. 0. 0. 1. 0. 0. 0.]\n",
            " [0. 0. 0. 0. 0. 0. 0. 0. 0. 0. 0. 0. 1. 0. 0.]\n",
            " [0. 0. 0. 0. 0. 0. 0. 0. 0. 0. 0. 0. 0. 1. 0.]\n",
            " [0. 0. 0. 0. 0. 0. 0. 0. 0. 0. 0. 0. 0. 0. 1.]]\n",
            "mean_module.constant                ()\n",
            "0.0\n",
            "covar_module.outputscale            ()\n",
            "0.6931471824645996\n",
            "covar_module.base_kernel.lengthscale (1, 1)\n",
            "[[0.6931472]]\n"
          ]
        }
      ]
    },
    {
      "cell_type": "code",
      "source": [
        "num_epochs = 30000\n",
        "pbar = tqdm.tqdm(range(num_epochs), position=0, leave=True)\n",
        "\n",
        "model.train()\n",
        "likelihood.train()\n",
        "\n",
        "optimizer = torch.optim.Adam([\n",
        "    {'params': model.parameters()},\n",
        "    {'params': likelihood.parameters()},\n",
        "], lr=0.01)\n",
        "\n",
        "mll = gpytorch.mlls.VariationalELBO(likelihood, model, num_data=y.size(0))\n",
        "\n",
        "mae_list = list()\n",
        "loss_list = list()\n",
        "\n",
        "for iter in pbar:\n",
        "    optimizer.zero_grad();\n",
        "    y_pred = model(x[:,None])\n",
        "    loss = -mll(y_pred, y)\n",
        "    loss.backward()\n",
        "    optimizer.step()\n",
        "    loss_list.append(loss.item())"
      ],
      "metadata": {
        "colab": {
          "base_uri": "https://localhost:8080/"
        },
        "id": "NjzLE17S9W82",
        "outputId": "11baf0db-610a-4c03-c8a7-fa0e55efcf71"
      },
      "execution_count": null,
      "outputs": [
        {
          "output_type": "stream",
          "name": "stderr",
          "text": [
            "100%|██████████| 30000/30000 [06:42<00:00, 74.47it/s]\n"
          ]
        }
      ]
    },
    {
      "cell_type": "code",
      "source": [
        "print_module(likelihood)\n",
        "print_module(model)"
      ],
      "metadata": {
        "colab": {
          "base_uri": "https://localhost:8080/"
        },
        "id": "_El5d8Ry5Nrc",
        "outputId": "d11142ff-7997-441d-e23f-6bbdd2831f1c"
      },
      "execution_count": null,
      "outputs": [
        {
          "output_type": "stream",
          "name": "stdout",
          "text": [
            "noise.noise                         (1,)\n",
            "[1.1169327]\n",
            "variational_strategy._variational_distribution.variational_mean (15,)\n",
            "[ 1.48839581e+00  3.39540482e-01  7.76903391e-01  4.24102545e-01\n",
            " -1.54411960e+00  8.45990956e-01  6.40983999e-01 -9.73686039e-01\n",
            " -3.42777818e-01 -3.83375168e-01 -6.15274727e-01 -9.16507933e-03\n",
            "  1.11113477e-03  1.34975985e-02  7.86047757e-01]\n",
            "variational_strategy._variational_distribution.chol_variational_covar (15, 15)\n",
            "[[ 2.2936320e-01  0.0000000e+00  0.0000000e+00  0.0000000e+00\n",
            "   0.0000000e+00  0.0000000e+00  0.0000000e+00  0.0000000e+00\n",
            "   0.0000000e+00  0.0000000e+00  0.0000000e+00  0.0000000e+00\n",
            "   0.0000000e+00  0.0000000e+00  0.0000000e+00]\n",
            " [-3.4455344e-01  2.6246265e-01  0.0000000e+00  0.0000000e+00\n",
            "   0.0000000e+00  0.0000000e+00  0.0000000e+00  0.0000000e+00\n",
            "   0.0000000e+00  0.0000000e+00  0.0000000e+00  0.0000000e+00\n",
            "   0.0000000e+00  0.0000000e+00  0.0000000e+00]\n",
            " [-3.0758467e-01 -2.2617280e-01  4.6102887e-01  0.0000000e+00\n",
            "   0.0000000e+00  0.0000000e+00  0.0000000e+00  0.0000000e+00\n",
            "   0.0000000e+00  0.0000000e+00  0.0000000e+00  0.0000000e+00\n",
            "   0.0000000e+00  0.0000000e+00  0.0000000e+00]\n",
            " [-3.6647084e-01  4.3624766e-02  1.4318600e-01  5.9835500e-01\n",
            "   0.0000000e+00  0.0000000e+00  0.0000000e+00  0.0000000e+00\n",
            "   0.0000000e+00  0.0000000e+00  0.0000000e+00  0.0000000e+00\n",
            "   0.0000000e+00  0.0000000e+00  0.0000000e+00]\n",
            " [-7.2847307e-02 -1.4568467e-01  1.6754360e-01 -5.1208556e-01\n",
            "   2.8629938e-01  0.0000000e+00  0.0000000e+00  0.0000000e+00\n",
            "   0.0000000e+00  0.0000000e+00  0.0000000e+00  0.0000000e+00\n",
            "   0.0000000e+00  0.0000000e+00  0.0000000e+00]\n",
            " [-7.1195394e-02  2.7637181e-01 -1.8879178e-01 -1.9801708e-01\n",
            "   1.0408170e-02  7.6917744e-01  0.0000000e+00  0.0000000e+00\n",
            "   0.0000000e+00  0.0000000e+00  0.0000000e+00  0.0000000e+00\n",
            "   0.0000000e+00  0.0000000e+00  0.0000000e+00]\n",
            " [-1.1700661e-01 -8.1494518e-02  1.1612169e-01 -1.5918188e-01\n",
            "   2.8246853e-01  8.9259185e-02  8.1005675e-01  0.0000000e+00\n",
            "   0.0000000e+00  0.0000000e+00  0.0000000e+00  0.0000000e+00\n",
            "   0.0000000e+00  0.0000000e+00  0.0000000e+00]\n",
            " [-2.3871413e-02 -9.2883473e-03  1.9860547e-02  5.5860359e-02\n",
            "  -2.2423577e-02  2.3012055e-01 -1.7112197e-02  2.2328153e-01\n",
            "   0.0000000e+00  0.0000000e+00  0.0000000e+00  0.0000000e+00\n",
            "   0.0000000e+00  0.0000000e+00  0.0000000e+00]\n",
            " [ 5.0905696e-03  3.3598535e-02 -2.8803047e-02 -5.9569512e-02\n",
            "   3.0864513e-02 -2.1015054e-01  1.9102346e-02 -2.9888320e-01\n",
            "   3.5415030e-01  0.0000000e+00  0.0000000e+00  0.0000000e+00\n",
            "   0.0000000e+00  0.0000000e+00  0.0000000e+00]\n",
            " [ 5.0542925e-02 -3.3063435e-03 -3.2566122e-03  7.2367810e-02\n",
            "  -1.1967639e-01  5.1095873e-02  1.3169357e-01 -1.5881518e-02\n",
            "   2.3394734e-02  9.6750766e-01  0.0000000e+00  0.0000000e+00\n",
            "   0.0000000e+00  0.0000000e+00  0.0000000e+00]\n",
            " [ 7.7606276e-02 -1.8999581e-01  1.1814954e-01  1.5113311e-01\n",
            "  -2.8330918e-02  3.2250103e-01 -3.3878356e-02 -1.3920626e-01\n",
            "   1.4152153e-01 -5.4336667e-02  7.9140610e-01  0.0000000e+00\n",
            "   0.0000000e+00  0.0000000e+00  0.0000000e+00]\n",
            " [-6.9524208e-04  2.5946300e-05 -5.4803211e-04  7.0569498e-05\n",
            "  -4.8288199e-05 -1.8552681e-04  6.4553802e-05 -2.3521913e-02\n",
            "  -1.9699592e-02  5.7074399e-04  8.5074306e-03  9.9871695e-01\n",
            "   0.0000000e+00  0.0000000e+00  0.0000000e+00]\n",
            " [ 6.3715001e-05 -5.5536069e-04  3.1561649e-04 -3.2338730e-04\n",
            "  -2.1457351e-04  1.1389884e-03 -6.1389401e-05  1.6305825e-02\n",
            "   8.1992466e-03 -6.2952668e-04 -5.2014356e-03  1.4225328e-03\n",
            "   9.9958700e-01  0.0000000e+00  0.0000000e+00]\n",
            " [-6.4892630e-04  1.6172233e-03 -2.8120452e-03 -4.6265973e-03\n",
            "   2.3437308e-03 -1.5426176e-03  1.2703950e-03 -7.3696621e-02\n",
            "  -5.1574960e-02  1.3192076e-03  2.6629690e-02 -7.2420752e-03\n",
            "   3.8043289e-03  9.8835999e-01  0.0000000e+00]\n",
            " [-1.0530925e-03 -1.2611550e-03  6.5358478e-04 -5.2575418e-04\n",
            "   3.6182725e-03  3.5766239e-04  8.8841189e-04  5.7817949e-04\n",
            "   1.2835800e-05 -1.9058215e-02  3.0959519e-03  1.1864432e-02\n",
            "  -2.8301247e-03 -1.4136529e-03 -5.2450323e-01]]\n",
            "mean_module.constant                ()\n",
            "-0.2968234121799469\n",
            "covar_module.outputscale            ()\n",
            "14.430706024169922\n",
            "covar_module.base_kernel.lengthscale (1, 1)\n",
            "[[0.09698801]]\n"
          ]
        }
      ]
    },
    {
      "cell_type": "code",
      "source": [
        "model.eval()\n",
        "likelihood.eval()\n",
        "\n",
        "f_preds = model(domain[:,None])\n",
        "y_preds = likelihood(f_preds)\n",
        "\n",
        "f_mean = f_preds.loc\n",
        "f_var = f_preds.variance\n",
        "f_covar = f_preds.covariance_matrix\n",
        "\n",
        "N_samples = 1000\n",
        "breakpoints = torch.linspace(0, 1, N_samples+1)[:-1]\n",
        "breakpoints = breakpoints + breakpoints[1] * torch.rand_like(breakpoints)\n",
        "\n",
        "with torch.no_grad():\n",
        "    pred_samples = torch.distributions.Normal(f_mean, f_var.sqrt()).icdf(breakpoints[:,None])\n",
        "\n",
        "plot_result(pred_samples)"
      ],
      "metadata": {
        "colab": {
          "base_uri": "https://localhost:8080/",
          "height": 611
        },
        "id": "IuxWy3fT9ktf",
        "outputId": "d7ba5c9b-96a4-4d8d-b902-86903b37c036"
      },
      "execution_count": null,
      "outputs": [
        {
          "output_type": "display_data",
          "data": {
            "text/plain": [
              "<Figure size 600x400 with 1 Axes>"
            ],
            "image/png": "[encoded data removed]"
          },
          "metadata": {}
        },
        {
          "output_type": "display_data",
          "data": {
            "text/plain": [
              "<Figure size 600x200 with 1 Axes>"
            ],
            "image/png": "[encoded data removed]"
          },
          "metadata": {}
        }
      ]
    }
  ]
}