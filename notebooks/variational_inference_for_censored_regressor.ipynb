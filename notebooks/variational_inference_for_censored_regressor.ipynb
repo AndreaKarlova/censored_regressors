{
  "nbformat": 4,
  "nbformat_minor": 0,
  "metadata": {
    "colab": {
      "provenance": [],
      "toc_visible": true
    },
    "kernelspec": {
      "name": "python3",
      "display_name": "Python 3"
    },
    "language_info": {
      "name": "python"
    }
  },
  "cells": [
    {
      "cell_type": "code",
      "execution_count": 98,
      "metadata": {
        "id": "Gh_fxrApqlBl"
      },
      "outputs": [],
      "source": [
        "!pip install -Uq gpytorch"
      ]
    },
    {
      "cell_type": "code",
      "source": [
        "import tqdm\n",
        "import math\n",
        "import torch\n",
        "import numpy as np\n",
        "\n",
        "import torch.distributions as dist\n",
        "\n",
        "import gpytorch\n",
        "import pandas as pd\n",
        "from matplotlib import pyplot as plt"
      ],
      "metadata": {
        "id": "EfRwvQMpttWI"
      },
      "execution_count": 139,
      "outputs": []
    },
    {
      "cell_type": "code",
      "source": [
        "import math\n",
        "from numbers import Number, Real\n",
        "\n",
        "import torch\n",
        "from torch.distributions import constraints\n",
        "from torch.distributions.exp_family import ExponentialFamily\n",
        "from torch.distributions.utils import _standard_normal, broadcast_all\n",
        "\n",
        "class CensoredNormal(ExponentialFamily):\n",
        "    \"\"\"\n",
        "    Creates a censored normal (also called Gaussian) distribution parameterized by\n",
        "    :attr:`loc` and :attr:`scale` and :attr:`low`  and :attr:`high`\n",
        "\n",
        "    Example::\n",
        "\n",
        "        >>> # xdoctest: +IGNORE_WANT(\"non-deterministic\")\n",
        "        >>> m = CensoredNormal(\n",
        "          torch.tensor([0.0]), torch.tensor([1.0]),\n",
        "          torch.tensor([-0.5]), torch.tensor([0.5])\n",
        "          )\n",
        "        >>> m.sample(sample_shape=(3,1))\n",
        "        tensor([[0.5000],\n",
        "            [0.5000],\n",
        "            [0.1836]])\n",
        "        tensor([ 0.1046])\n",
        "\n",
        "    Args:\n",
        "        loc (float or Tensor): mean of the base normal distribution (often referred to as mu) to which the censoring is applied\n",
        "        scale (float or Tensor): standard deviation of the base normal distribution to which the censoring is applied\n",
        "        low (float or Tensor): lower censoring boundary\n",
        "        high (float or Tensor): upper censoring boundary\n",
        "    \"\"\"\n",
        "    arg_constraints = {\n",
        "        \"loc\": constraints.real,\n",
        "        \"scale\": constraints.positive,\n",
        "        \"low\": constraints.dependent(is_discrete=False, event_dim=0),\n",
        "        \"high\": constraints.dependent(is_discrete=False, event_dim=0)}\n",
        "    has_rsample = True\n",
        "    _mean_carrier_measure = 0\n",
        "\n",
        "    @property\n",
        "    def mean(self):\n",
        "        x_high = (self.high - self.loc)/self.scale\n",
        "        cdf_high = self._normal_cdf(self.high)\n",
        "        pdf_high = math.exp(self._normal_log_prob(self.high))\n",
        "        x_low = (self.low - self.loc)/self.scale\n",
        "        cdf_low = self._normal_cdf(self.low)\n",
        "        pdf_low = math.exp(self._normal_log_prob(self.low))\n",
        "        term1 = cdf_high - cdf_low\n",
        "        term2 = pdf_high - pdf_low\n",
        "        return self.loc * term1 - self.scale * term2\n",
        "\n",
        "    @property\n",
        "    def stddev(self):\n",
        "        return self.variance.sqrt()\n",
        "\n",
        "    @property\n",
        "    def variance(self):\n",
        "        x_high = (self.high - self.loc)/self.scale\n",
        "        cdf_high = self._normal_cdf(self.high)\n",
        "        pdf_high = math.exp(self._normal_log_prob(self.high))\n",
        "        x_low = (self.low - self.loc)/self.scale\n",
        "        cdf_low = self._normal_cdf(self.low)\n",
        "        pdf_low = math.exp(self._normal_log_prob(self.low))\n",
        "        term1 = cdf_high - cdf_low\n",
        "        term2 = x_high * pdf_high - x_low * pdf_low\n",
        "        return  (self.scale ** 2) * (term1 - term2)\n",
        "\n",
        "\n",
        "    def __init__(self, loc, scale, low, high, validate_args=None):\n",
        "        self.loc, self.scale, self.low, self.high = broadcast_all(loc, scale, low, high)\n",
        "        if isinstance(loc, Number) and isinstance(scale, Number) and isinstance(low, Number) and isinstance(high, Number):\n",
        "            batch_shape = torch.Size()\n",
        "        else:\n",
        "            batch_shape = self.loc.size()\n",
        "        support = constraints.interval(low, high)\n",
        "        super().__init__(batch_shape, validate_args=validate_args)\n",
        "\n",
        "    def expand(self, batch_shape, _instance=None):\n",
        "        new = self._get_checked_instance(CensoredNormal, _instance)\n",
        "        batch_shape = torch.Size(batch_shape)\n",
        "        new.loc = self.loc.expand(batch_shape)\n",
        "        new.scale = self.scale.expand(batch_shape)\n",
        "        new.low = self.low.expand(batch_shape)\n",
        "        new.high = self.high.expand(batch_shape)\n",
        "        super(CensoredNormal, new).__init__(batch_shape, validate_args=False)\n",
        "        new._validate_args = self._validate_args\n",
        "        return new\n",
        "\n",
        "    @constraints.dependent_property(is_discrete=False, event_dim=0)\n",
        "    def support(self):\n",
        "        return constraints.interval(self.low, self.high)\n",
        "\n",
        "\n",
        "    def sample(self, sample_shape=torch.Size()):\n",
        "        shape = self._extended_shape(sample_shape)\n",
        "        with torch.no_grad():\n",
        "            samples = torch.normal(self.loc.expand(shape), self.scale.expand(shape))\n",
        "            return samples.clamp(min=self.low, max=self.high)\n",
        "\n",
        "\n",
        "    def rsample(self, sample_shape=torch.Size()):\n",
        "        shape = self._extended_shape(sample_shape)\n",
        "        eps = _standard_normal(shape, dtype=self.loc.dtype, device=self.loc.device)\n",
        "        rsamples =  self.loc + eps * self.scale\n",
        "        return rsamples.clamp(min=self.low, max=self.high)\n",
        "\n",
        "    def pdf(self, value):\n",
        "        if self._validate_args:\n",
        "            self._validate_sample(value)\n",
        "        probs = torch.exp(self.log_prob(value))\n",
        "        lower_cdf_mass = self._normal_cdf(self.low)\n",
        "        upper_cdf_mass = 1 - self._normal_cdf(self.high)\n",
        "        probs = torch.where(value <= self.low, lower_cdf_mass, probs)\n",
        "        probs = torch.where(value >= self.high, upper_cdf_mass, probs)\n",
        "        return probs\n",
        "\n",
        "    def log_prob(self, value, jitter=1e-12):\n",
        "        \"\"\"jitter: used to bounce off NormCDF from 0 before applying log \"\"\"\n",
        "        if self._validate_args:\n",
        "            self._validate_sample(value)\n",
        "        log_probs = self._normal_log_prob(value)\n",
        "        lower_log_cdf_mass = math.log(self._normal_cdf(self.low) + jitter) if isinstance(self._normal_cdf(self.low) + jitter,\n",
        "                                                                                                Number) else (self._normal_cdf(self.low) + jitter).log()\n",
        "        upper_log_cdf_mass = math.log(1 - self._normal_cdf(self.high) + jitter) if isinstance(1 - self._normal_cdf(self.high) + jitter,\n",
        "                                                                                                    Number) else (1 - self._normal_cdf(self.high) + jitter).log()\n",
        "        log_probs = torch.where(value <= self.low, lower_log_cdf_mass, log_probs)\n",
        "        log_probs = torch.where(value >= self.high, upper_log_cdf_mass, log_probs)\n",
        "        return log_probs\n",
        "\n",
        "    def cdf(self, value):\n",
        "        if self._validate_args:\n",
        "            self._validate_sample(value)\n",
        "        cdf_ = self._normal_cdf(value)\n",
        "        cdf_ = torch.where(value < self.low, 0, cdf_)\n",
        "        cdf_ = torch.where(value > self.high, 1, cdf_)\n",
        "        return cdf_\n",
        "\n",
        "    def icdf(self, value):\n",
        "        result = self._normal_icdf(value)\n",
        "        return result.clamp(min=self.low, max=self.high)\n",
        "\n",
        "    def entropy(self, jitter=1e-12):\n",
        "        x_low = (self.low - self.loc)/self.scale\n",
        "        x_high = (self.high - self.loc)/self.scale\n",
        "        logcdf_x_low = math.log(self._normal_cdf(self.low) + jitter) if isinstance(self._normal_cdf(self.low) + jitter,\n",
        "                                                                                                  Number) else (self._normal_cdf(self.low) + jitter).log()\n",
        "        logcdf_x_high = math.log(1 - self._normal_cdf(self.high) + jitter) if isinstance(1 - self._normal_cdf(self.high) + jitter,\n",
        "                                                                                                      Number) else (1 - self._normal_cdf(self.high) + jitter).log()\n",
        "\n",
        "        term1 = self._normal_entropy() * (self._normal_cdf(self.high)- self._normal_cdf(self.low))\n",
        "        term2 = 0.5 * (x_high * torch.exp(self._normal_log_prob(self.high)) - x_low * torch.exp(self._normal_log_prob(self.low)))\n",
        "        term3 = logcdf_x_high * (1. - self._normal_cdf(self.high)) -  logcdf_x_low * self._normal_cdf(self.low)\n",
        "        return term1 - term2 - term3\n",
        "\n",
        "\n",
        "    def _normal_log_prob(self, value):\n",
        "            # compute the variance\n",
        "            var = self.scale**2\n",
        "            log_scale = (\n",
        "                math.log(self.scale) if isinstance(self.scale, Real) else self.scale.log()\n",
        "            )\n",
        "            return (\n",
        "                -((value - self.loc) ** 2) / (2 * var)\n",
        "                - log_scale\n",
        "                - math.log(math.sqrt(2 * math.pi))\n",
        "            )\n",
        "\n",
        "    def _normal_cdf(self, value):\n",
        "        return 0.5 * (\n",
        "            1 + torch.erf((value - self.loc) * self.scale.reciprocal() / math.sqrt(2))\n",
        "        )\n",
        "\n",
        "    def _normal_icdf(self, value):\n",
        "        return self.loc + self.scale * torch.erfinv(2 * value - 1) * math.sqrt(2)\n",
        "\n",
        "\n",
        "    def _normal_entropy(self):\n",
        "        return 0.5 + 0.5 * math.log(2 * math.pi) + torch.log(self.scale)\n",
        "\n",
        "    @property\n",
        "    def _normal_natural_params(self):\n",
        "        return (self.loc / self.scale.pow(2), -0.5 * self.scale.pow(2).reciprocal())\n",
        "\n",
        "    def _log_normalizer(self, x, y):\n",
        "        return -0.25 * x.pow(2) / y + 0.5 * torch.log(-math.pi / y)"
      ],
      "metadata": {
        "id": "CtD-IF9LlYhh"
      },
      "execution_count": 140,
      "outputs": []
    },
    {
      "cell_type": "code",
      "source": [
        "import warnings\n",
        "from typing import Any\n",
        "\n",
        "import torch\n",
        "from linear_operator.operators import LinearOperator, ZeroLinearOperator\n",
        "from torch import Tensor\n",
        "from torch.distributions import Distribution, Normal\n",
        "\n",
        "from gpytorch.constraints import Interval\n",
        "from gpytorch.distributions import base_distributions, MultivariateNormal\n",
        "from gpytorch.priors import Prior\n",
        "from gpytorch.utils.warnings import GPInputWarning\n",
        "from gpytorch.likelihoods.likelihood import _Likelihood, _OneDimensionalLikelihood\n",
        "\n",
        "\n",
        "class CensoredGaussianLikelihood(_Likelihood):\n",
        "    \"\"\"Base class for Censored Gaussian Likelihoods.\"\"\"\n",
        "    def __init__(self, variance=None, low=None, high=None) -> None:\n",
        "        super().__init__()\n",
        "\n",
        "        variance = torch.tensor(1.) if variance is None else variance\n",
        "        self.noise = gpytorch.likelihoods.noise_models.HomoskedasticNoise()\n",
        "        self.noise.initialize(noise=variance)\n",
        "        self.low = low\n",
        "        self.high = high\n",
        "\n",
        "    @property\n",
        "    def variance(self):\n",
        "      return self.noise.noise\n",
        "\n",
        "    def forward(self, function_samples: Tensor, *params: Any, **kwargs: Any):\n",
        "        return CensoredNormal(function_samples, scale=self.variance.sqrt(), low=self.low, high=self.high)\n",
        "\n",
        "class CensoredGaussianLikelihoodAnalytic(CensoredGaussianLikelihood):\n",
        "    def __init__(self, variance=None, low=None, high=None) -> None:\n",
        "        super().__init__(variance, low, high)\n",
        "\n",
        "    def expected_log_prob(self, target: Tensor, input: MultivariateNormal, *params: Any, **kwargs: Any) -> Tensor:\n",
        "        noise = self.variance # likelihood\n",
        "        mean, variance = input.mean, input.variance # approximate posterior\n",
        "\n",
        "        upper_censor = lambda x, s: (self.high - x) / s\n",
        "        lower_censor = lambda x, s: (self.low - x) / s\n",
        "\n",
        "        standard_normal = dist.Normal(0,1)\n",
        "         # Gaussian term\n",
        "        term1 = torch.log(noise) + math.log(2 * math.pi)\n",
        "        term2 = ((target - mean).square() + variance) / noise\n",
        "        term3 = standard_normal.cdf(upper_censor(mean, variance.sqrt())) - standard_normal.cdf(lower_censor(mean, variance.sqrt()))\n",
        "        normal_part = (term1 - term2 * term3).mul(-0.5)\n",
        "        # upper term\n",
        "        x1 = (self.high + 2 * target - 3 * mean) * variance.sqrt()\n",
        "        term4 = torch.clamp_min(1. - standard_normal.cdf(upper_censor(target, variance.sqrt())), 1e-12).log() + 0.5 * x1 * noise.reciprocal()\n",
        "        upper_censored_part = term4 * standard_normal.log_prob(upper_censor(mean, variance.sqrt())).exp()\n",
        "\n",
        "        # lower term\n",
        "        x2 = (self.low + 2 * target - 3 * mean) * variance.sqrt()\n",
        "        term5 = torch.clamp_min(standard_normal.cdf(lower_censor(target, variance.sqrt())), 1e-12).log() - 0.5 * x2 * noise.reciprocal()\n",
        "        lower_censored_part = term5 * standard_normal.log_prob(lower_censor(mean, variance.sqrt())).exp()\n",
        "\n",
        "        res = normal_part - lower_censored_part - upper_censored_part\n",
        "        return res"
      ],
      "metadata": {
        "id": "roc6L9a_To9F"
      },
      "execution_count": 152,
      "outputs": []
    },
    {
      "cell_type": "code",
      "source": [
        "def rgetattr(o, k_list):\n",
        "  for k in k_list:\n",
        "    o = getattr(o,k)\n",
        "  return o\n",
        "\n",
        "def print_module(module):\n",
        "  with torch.no_grad():\n",
        "    for name, _ in module.named_parameters():\n",
        "      name = name.replace('raw_','')\n",
        "      param = rgetattr(module, name.split('.'))\n",
        "      print(f'{name:35} {tuple(param.shape)}\\n{param.numpy().round(10)}')"
      ],
      "metadata": {
        "id": "AsaHG4UbHapk"
      },
      "execution_count": 176,
      "outputs": []
    },
    {
      "cell_type": "markdown",
      "source": [
        "# Synthetic 1D"
      ],
      "metadata": {
        "id": "s2QOhsPCB1AS"
      }
    },
    {
      "cell_type": "code",
      "source": [
        "MAX_VALUE = 0.0\n",
        "\n",
        "def noise_free_target(x):\n",
        "    y = (x-2)*10\n",
        "    return y * torch.sin(y) / 2\n",
        "\n",
        "def oracle(x):\n",
        "    return torch.clamp_max(noise_free_target(x) + torch.randn(x.shape) , 0.0)"
      ],
      "metadata": {
        "id": "3GMFcYiDpYry"
      },
      "execution_count": 173,
      "outputs": []
    },
    {
      "cell_type": "code",
      "source": [
        "N_init = 15\n",
        "np.random.seed(0)\n",
        "x = torch.FloatTensor(np.random.rand(N_init))\n",
        "torch.sort(x)\n",
        "y = oracle(x)\n",
        "\n",
        "domain = torch.linspace(0, 1, 500)\n",
        "plt.plot(domain, noise_free_target(domain), '--');\n",
        "plt.plot(domain, torch.clamp_max(noise_free_target(domain), 0), '-');\n",
        "plt.plot(x, y, 'k.')"
      ],
      "metadata": {
        "colab": {
          "base_uri": "https://localhost:8080/",
          "height": 453
        },
        "id": "VGn55MQYqAum",
        "outputId": "799cc892-48d1-4b5d-a849-15d36c98c9b3"
      },
      "execution_count": 174,
      "outputs": [
        {
          "output_type": "execute_result",
          "data": {
            "text/plain": [
              "[<matplotlib.lines.Line2D at 0x78b7809064d0>]"
            ]
          },
          "metadata": {},
          "execution_count": 174
        },
        {
          "output_type": "display_data",
          "data": {
            "text/plain": [
              "<Figure size 640x480 with 1 Axes>"
            ],
            "image/png": "[encoded data removed]"
          },
          "metadata": {}
        }
      ]
    },
    {
      "cell_type": "markdown",
      "source": [
        "# MC Simulation"
      ],
      "metadata": {
        "id": "zAjpySlO8qql"
      }
    },
    {
      "cell_type": "code",
      "source": [
        "from gpytorch.models import ApproximateGP # handles basic variational inference\n",
        "from gpytorch.variational import CholeskyVariationalDistribution # distribution of the approximation q(f)\n",
        "from gpytorch.variational import VariationalStrategy # use when larger sample - transform q(u) to q(f) over inducing points\n",
        "\n",
        "class GPModel(ApproximateGP):\n",
        "    def __init__(self, inducing_points):\n",
        "        # defines approximation\n",
        "        variational_distribution = CholeskyVariationalDistribution(inducing_points.size(0))\n",
        "        variational_strategy = VariationalStrategy(self, inducing_points,\n",
        "                                                   variational_distribution, learn_inducing_locations=False)\n",
        "        super(GPModel, self).__init__(variational_strategy)\n",
        "        # defines the GP\n",
        "        self.mean_module = gpytorch.means.ConstantMean()\n",
        "        self.covar_module = gpytorch.kernels.ScaleKernel(gpytorch.kernels.RBFKernel())\n",
        "\n",
        "    def forward(self, x):\n",
        "        mean_x = self.mean_module(x)\n",
        "        covar_x = self.covar_module(x)\n",
        "        return gpytorch.distributions.MultivariateNormal(mean_x, covar_x)\n",
        "\n",
        "\n",
        "model = GPModel(inducing_points=x[:,None])\n",
        "likelihood = CensoredGaussianLikelihoodAnalytic(low=-1000., high=MAX_VALUE)\n",
        "\n",
        "if torch.cuda.is_available():\n",
        "    model = model.cuda()\n",
        "    likelihood = likelihood.cuda()"
      ],
      "metadata": {
        "id": "SN0H6-34CUqY"
      },
      "execution_count": 175,
      "outputs": []
    },
    {
      "cell_type": "code",
      "source": [
        "print_module(model)"
      ],
      "metadata": {
        "colab": {
          "base_uri": "https://localhost:8080/"
        },
        "id": "RQvx3Q_cIF4Y",
        "outputId": "707e7e69-1575-44a0-805d-b5cfcb5b2674"
      },
      "execution_count": 178,
      "outputs": [
        {
          "output_type": "stream",
          "name": "stdout",
          "text": [
            "variational_strategy._variational_distribution.variational_mean (15,)\n",
            "[0. 0. 0. 0. 0. 0. 0. 0. 0. 0. 0. 0. 0. 0. 0.]\n",
            "variational_strategy._variational_distribution.chol_variational_covar (15, 15)\n",
            "[[1. 0. 0. 0. 0. 0. 0. 0. 0. 0. 0. 0. 0. 0. 0.]\n",
            " [0. 1. 0. 0. 0. 0. 0. 0. 0. 0. 0. 0. 0. 0. 0.]\n",
            " [0. 0. 1. 0. 0. 0. 0. 0. 0. 0. 0. 0. 0. 0. 0.]\n",
            " [0. 0. 0. 1. 0. 0. 0. 0. 0. 0. 0. 0. 0. 0. 0.]\n",
            " [0. 0. 0. 0. 1. 0. 0. 0. 0. 0. 0. 0. 0. 0. 0.]\n",
            " [0. 0. 0. 0. 0. 1. 0. 0. 0. 0. 0. 0. 0. 0. 0.]\n",
            " [0. 0. 0. 0. 0. 0. 1. 0. 0. 0. 0. 0. 0. 0. 0.]\n",
            " [0. 0. 0. 0. 0. 0. 0. 1. 0. 0. 0. 0. 0. 0. 0.]\n",
            " [0. 0. 0. 0. 0. 0. 0. 0. 1. 0. 0. 0. 0. 0. 0.]\n",
            " [0. 0. 0. 0. 0. 0. 0. 0. 0. 1. 0. 0. 0. 0. 0.]\n",
            " [0. 0. 0. 0. 0. 0. 0. 0. 0. 0. 1. 0. 0. 0. 0.]\n",
            " [0. 0. 0. 0. 0. 0. 0. 0. 0. 0. 0. 1. 0. 0. 0.]\n",
            " [0. 0. 0. 0. 0. 0. 0. 0. 0. 0. 0. 0. 1. 0. 0.]\n",
            " [0. 0. 0. 0. 0. 0. 0. 0. 0. 0. 0. 0. 0. 1. 0.]\n",
            " [0. 0. 0. 0. 0. 0. 0. 0. 0. 0. 0. 0. 0. 0. 1.]]\n",
            "mean_module.constant                ()\n",
            "0.0\n",
            "covar_module.outputscale            ()\n",
            "0.6931471824645996\n",
            "covar_module.base_kernel.lengthscale (1, 1)\n",
            "[[0.6931472]]\n"
          ]
        }
      ]
    },
    {
      "cell_type": "code",
      "source": [
        "num_epochs = 30000\n",
        "pbar = tqdm.tqdm(range(num_epochs), position=0, leave=True)\n",
        "\n",
        "model.train()\n",
        "likelihood.train()\n",
        "\n",
        "optimizer = torch.optim.Adam([\n",
        "    {'params': model.parameters()},\n",
        "    {'params': likelihood.parameters()},\n",
        "], lr=0.01)\n",
        "\n",
        "mll = gpytorch.mlls.VariationalELBO(likelihood, model, num_data=y.size(0))\n",
        "\n",
        "mae_list = list()\n",
        "loss_list = list()\n",
        "\n",
        "for iter in pbar:\n",
        "    optimizer.zero_grad();\n",
        "    y_pred = model(x[:,None])\n",
        "    loss = -mll(y_pred, y)\n",
        "    loss.backward()\n",
        "    optimizer.step()\n",
        "    loss_list.append(loss.item())"
      ],
      "metadata": {
        "colab": {
          "base_uri": "https://localhost:8080/"
        },
        "id": "IEzI4NA027bQ",
        "outputId": "80f5935a-bcfa-4a98-9e94-5e077df4b72f"
      },
      "execution_count": null,
      "outputs": [
        {
          "output_type": "stream",
          "name": "stderr",
          "text": [
            " 54%|█████▍    | 16192/30000 [03:41<02:27, 93.76it/s]"
          ]
        }
      ]
    },
    {
      "cell_type": "code",
      "source": [
        "print_module(model)"
      ],
      "metadata": {
        "id": "swjwR2Z6KcDL"
      },
      "execution_count": null,
      "outputs": []
    },
    {
      "cell_type": "code",
      "source": [
        "plt.plot(list(range(num_epochs)), loss_list)"
      ],
      "metadata": {
        "id": "TUpFpMWq7tu4"
      },
      "execution_count": null,
      "outputs": []
    },
    {
      "cell_type": "code",
      "source": [
        "model.variational_strategy._variational_distribution.variational_mean"
      ],
      "metadata": {
        "colab": {
          "base_uri": "https://localhost:8080/"
        },
        "id": "nIn363-JV8kC",
        "outputId": "0db47648-37b2-4fcf-8fde-c319e8ba8b58"
      },
      "execution_count": 170,
      "outputs": [
        {
          "output_type": "execute_result",
          "data": {
            "text/plain": [
              "Parameter containing:\n",
              "tensor([ 359.6127,  339.7183, -336.8888,  320.5283,  339.7248, -335.2177,\n",
              "         273.2277,  327.0570,  330.4079,  335.2860, -331.0185, -265.2793,\n",
              "         265.8897, -293.9460,  333.1642], requires_grad=True)"
            ]
          },
          "metadata": {},
          "execution_count": 170
        }
      ]
    },
    {
      "cell_type": "code",
      "source": [
        "model.eval()\n",
        "likelihood.eval()\n",
        "\n",
        "f_preds = model(domain[:,None])\n",
        "y_preds = likelihood(f_preds)\n",
        "\n",
        "f_mean = f_preds.loc\n",
        "f_var = f_preds.variance\n",
        "f_covar = f_preds.covariance_matrix\n",
        "\n",
        "N_samples = 1000\n",
        "breakpoints = torch.linspace(0, 1, N_samples+1)[:-1]\n",
        "breakpoints = breakpoints + breakpoints[1] * torch.rand_like(breakpoints)\n",
        "\n",
        "with torch.no_grad():\n",
        "    pred_samples = torch.distributions.Normal(f_mean, f_var.sqrt()).icdf(breakpoints[:,None])"
      ],
      "metadata": {
        "id": "L2hHuNav8cYE"
      },
      "execution_count": null,
      "outputs": []
    },
    {
      "cell_type": "code",
      "source": [
        "def plot_result(pred_samples, censored=False):\n",
        "    if censored:\n",
        "        c_pred = pred_samples > MAX_VALUE\n",
        "        pred_samples[c_pred] = MAX_VALUE\n",
        "    with torch.no_grad(), gpytorch.settings.fast_pred_var():\n",
        "      pred_median = np.median(pred_samples, axis=0)\n",
        "      pred_quantiles = np.quantile(pred_samples, [0.025, 0.15, 0.85, 0.975], axis=0)\n",
        "\n",
        "      plt.figure(figsize=(6, 4))\n",
        "      plt.plot(domain, pred_median)\n",
        "\n",
        "      plt.fill_between(domain, pred_quantiles[0], pred_quantiles[-1], alpha=0.1, color='#33c');\n",
        "      plt.fill_between(domain, pred_quantiles[1], pred_quantiles[-2], alpha=0.1, color='#33c');\n",
        "      plt.plot(domain, y_preds.sample_n(n=100).mean([0,1]).numpy(force=True), 'r--')\n",
        "\n",
        "      plt.plot(x, y, 'k.');\n",
        "      plt.plot(domain, noise_free_target(domain).clamp_max(MAX_VALUE), 'k--', alpha=0.5);\n",
        "      plt.xlim(0, 1);\n",
        "      plt.ylim(-15, 5);\n",
        "      plt.title(\"Estimated function\")\n",
        "\n",
        "      plt.figure(figsize=(6, 2))\n",
        "      plt.title(\"Expected improvement\")\n",
        "      EI =  -(pred_samples*(pred_samples < y.min()).float()).mean(0)\n",
        "      plt.plot(domain, EI, 'r');\n",
        "      plt.fill_between(domain, torch.zeros_like(domain), EI, color='r', alpha=0.5)\n",
        "\n",
        "   # return f_covar, pred_samples\n",
        "\n",
        "plot_result(pred_samples)"
      ],
      "metadata": {
        "id": "qB1ZjUAr-e0c"
      },
      "execution_count": null,
      "outputs": []
    },
    {
      "cell_type": "code",
      "source": [
        "# u,d = f_preds.confidence_region()\n",
        "# plt.plot(domain, f_preds.loc.numpy(force=True))\n",
        "# plt.fill_between(domain, u.numpy(force=True), d.numpy(force=True), alpha=0.1, color='#33c')\n",
        "# plt.plot(domain, y_preds.sample_n(n=100).mean([0,1]).numpy(force=True), 'r--')\n",
        "# plt.plot(x, y, 'k.');\n",
        "# plt.plot(domain, noise_free_target(domain).clamp_max(MAX_VALUE), 'k--', alpha=0.5);"
      ],
      "metadata": {
        "id": "NMXNNMQ4EzWm"
      },
      "execution_count": 207,
      "outputs": []
    },
    {
      "cell_type": "markdown",
      "source": [
        "# ELBO Implementation"
      ],
      "metadata": {
        "id": "83pBrXgS8zcm"
      }
    },
    {
      "cell_type": "code",
      "source": [
        "from gpytorch.models import ApproximateGP # handles basic variational inference\n",
        "from gpytorch.variational import CholeskyVariationalDistribution # distribution of the approximation q(f)\n",
        "from gpytorch.variational import VariationalStrategy # use when larger sample - transform q(u) to q(f) over inducing points\n",
        "\n",
        "class GPModel(ApproximateGP):\n",
        "    def __init__(self, inducing_points):\n",
        "        # defines approximation\n",
        "        variational_distribution = CholeskyVariationalDistribution(inducing_points.size(0))\n",
        "        variational_strategy = VariationalStrategy(self, inducing_points,\n",
        "                                                   variational_distribution, learn_inducing_locations=False)\n",
        "        super(GPModel, self).__init__(variational_strategy)\n",
        "        # defines the GP\n",
        "        self.mean_module = gpytorch.means.ConstantMean()\n",
        "        self.covar_module = gpytorch.kernels.ScaleKernel(gpytorch.kernels.RBFKernel())\n",
        "\n",
        "    def forward(self, x):\n",
        "        mean_x = self.mean_module(x)\n",
        "        covar_x = self.covar_module(x)\n",
        "        return gpytorch.distributions.MultivariateNormal(mean_x, covar_x)\n",
        "\n",
        "\n",
        "model = GPModel(inducing_points=x[:,None])\n",
        "# ElBO Likelihood\n",
        "likelihood = CensoredGaussianLikelihoodAnalytic(low=-1000., high=MAX_VALUE)\n",
        "\n",
        "if torch.cuda.is_available():\n",
        "    model = model.cuda()\n",
        "    likelihood = likelihood.cuda()"
      ],
      "metadata": {
        "id": "ytV96p1a8yv-"
      },
      "execution_count": null,
      "outputs": []
    },
    {
      "cell_type": "code",
      "source": [
        "print_module(model)"
      ],
      "metadata": {
        "id": "QXlcTwmv9Wd0"
      },
      "execution_count": null,
      "outputs": []
    },
    {
      "cell_type": "code",
      "source": [
        "num_epochs = 30000\n",
        "pbar = tqdm.tqdm(range(num_epochs), position=0, leave=True)\n",
        "\n",
        "model.train()\n",
        "likelihood.train()\n",
        "\n",
        "optimizer = torch.optim.Adam([\n",
        "    {'params': model.parameters()},\n",
        "    {'params': likelihood.parameters()},\n",
        "], lr=0.01)\n",
        "\n",
        "mll = gpytorch.mlls.VariationalELBO(likelihood, model, num_data=y.size(0))\n",
        "\n",
        "mae_list = list()\n",
        "loss_list = list()\n",
        "\n",
        "for iter in pbar:\n",
        "    optimizer.zero_grad();\n",
        "    y_pred = model(x[:,None])\n",
        "    loss = -mll(y_pred, y)\n",
        "    loss.backward()\n",
        "    optimizer.step()\n",
        "    loss_list.append(loss.item())"
      ],
      "metadata": {
        "id": "NjzLE17S9W82"
      },
      "execution_count": null,
      "outputs": []
    },
    {
      "cell_type": "code",
      "source": [
        "model.eval()\n",
        "likelihood.eval()\n",
        "\n",
        "f_preds = model(domain[:,None])\n",
        "y_preds = likelihood(f_preds)\n",
        "\n",
        "f_mean = f_preds.loc\n",
        "f_var = f_preds.variance\n",
        "f_covar = f_preds.covariance_matrix\n",
        "\n",
        "N_samples = 1000\n",
        "breakpoints = torch.linspace(0, 1, N_samples+1)[:-1]\n",
        "breakpoints = breakpoints + breakpoints[1] * torch.rand_like(breakpoints)\n",
        "\n",
        "with torch.no_grad():\n",
        "    pred_samples = torch.distributions.Normal(f_mean, f_var.sqrt()).icdf(breakpoints[:,None])\n",
        "\n",
        "plot_result(pred_samples)"
      ],
      "metadata": {
        "id": "IuxWy3fT9ktf"
      },
      "execution_count": null,
      "outputs": []
    }
  ]
}