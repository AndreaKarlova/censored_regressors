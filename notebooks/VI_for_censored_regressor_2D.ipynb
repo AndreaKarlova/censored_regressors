{
  "nbformat": 4,
  "nbformat_minor": 0,
  "metadata": {
    "colab": {
      "provenance": [],
      "machine_shape": "hm"
    },
    "kernelspec": {
      "name": "python3",
      "display_name": "Python 3"
    },
    "language_info": {
      "name": "python"
    }
  },
  "cells": [
    {
      "cell_type": "code",
      "execution_count": 4,
      "metadata": {
        "id": "Gh_fxrApqlBl",
        "colab": {
          "base_uri": "https://localhost:8080/"
        },
        "outputId": "8ad15e93-8529-4f02-d61e-fd24b75acb5a"
      },
      "outputs": [
        {
          "output_type": "stream",
          "name": "stdout",
          "text": [
            "\u001b[?25l     \u001b[90m━━━━━━━━━━━━━━━━━━━━━━━━━━━━━━━━━━━━━━━━\u001b[0m \u001b[32m0.0/266.1 kB\u001b[0m \u001b[31m?\u001b[0m eta \u001b[36m-:--:--\u001b[0m\r\u001b[2K     \u001b[91m━━━━━━━━━━━━━━━━━━━━━━━━━━━━━━━━━━━━━━\u001b[0m\u001b[90m╺\u001b[0m\u001b[90m━\u001b[0m \u001b[32m256.0/266.1 kB\u001b[0m \u001b[31m8.6 MB/s\u001b[0m eta \u001b[36m0:00:01\u001b[0m\r\u001b[2K     \u001b[90m━━━━━━━━━━━━━━━━━━━━━━━━━━━━━━━━━━━━━━━━\u001b[0m \u001b[32m266.1/266.1 kB\u001b[0m \u001b[31m6.9 MB/s\u001b[0m eta \u001b[36m0:00:00\u001b[0m\n",
            "\u001b[2K     \u001b[90m━━━━━━━━━━━━━━━━━━━━━━━━━━━━━━━━━━━━━━━━\u001b[0m \u001b[32m175.6/175.6 kB\u001b[0m \u001b[31m19.4 MB/s\u001b[0m eta \u001b[36m0:00:00\u001b[0m\n",
            "\u001b[2K     \u001b[90m━━━━━━━━━━━━━━━━━━━━━━━━━━━━━━━━━━━━━━━━\u001b[0m \u001b[32m40.7/40.7 kB\u001b[0m \u001b[31m4.6 MB/s\u001b[0m eta \u001b[36m0:00:00\u001b[0m\n",
            "\u001b[?25h"
          ]
        }
      ],
      "source": [
        "!pip install -Uq gpytorch"
      ]
    },
    {
      "cell_type": "code",
      "source": [
        "import tqdm\n",
        "import math\n",
        "import torch\n",
        "import numpy as np\n",
        "\n",
        "import torch.distributions as dist\n",
        "\n",
        "import gpytorch\n",
        "import pandas as pd\n",
        "from matplotlib import pyplot as plt"
      ],
      "metadata": {
        "id": "EfRwvQMpttWI"
      },
      "execution_count": 5,
      "outputs": []
    },
    {
      "cell_type": "markdown",
      "source": [
        "# Code"
      ],
      "metadata": {
        "id": "prQCz5z1DDej"
      }
    },
    {
      "cell_type": "code",
      "source": [
        " import math\n",
        "from numbers import Number, Real\n",
        "\n",
        "import torch\n",
        "from torch.distributions import constraints\n",
        "from torch.distributions.exp_family import ExponentialFamily\n",
        "from torch.distributions.utils import _standard_normal, broadcast_all\n",
        "\n",
        "__all__ = [\"CensoredNormal\"]\n",
        "\n",
        "\n",
        "\n",
        "class CensoredNormal(ExponentialFamily):\n",
        "    \"\"\"\n",
        "    Creates a censored normal (also called Gaussian) distribution parameterized by\n",
        "    :attr:`loc` and :attr:`scale` and :attr:`low`  and :attr:`high`\n",
        "\n",
        "    Example::\n",
        "\n",
        "        >>> # xdoctest: +IGNORE_WANT(\"non-deterministic\")\n",
        "        >>> m = CensoredNormal(\n",
        "          torch.tensor([0.0]), torch.tensor([1.0]),\n",
        "          torch.tensor([-0.5]), torch.tensor([0.5])\n",
        "          )\n",
        "        >>> m.sample(sample_shape=(3,1))\n",
        "        tensor([[0.5000],\n",
        "            [0.5000],\n",
        "            [0.1836]])\n",
        "        tensor([ 0.1046])\n",
        "\n",
        "    Args:\n",
        "        loc (float or Tensor): mean of the base normal distribution (often referred to as mu) to which the censoring is applied\n",
        "        scale (float or Tensor): standard deviation of the base normal distribution to which the censoring is applied\n",
        "        low (float or Tensor): lower censoring boundary\n",
        "        high (float or Tensor): upper censoring boundary\n",
        "    \"\"\"\n",
        "    arg_constraints = {\n",
        "        \"loc\": constraints.real,\n",
        "        \"scale\": constraints.positive,\n",
        "        \"low\": constraints.dependent(is_discrete=False, event_dim=0),\n",
        "        \"high\": constraints.dependent(is_discrete=False, event_dim=0)}\n",
        "    has_rsample = True\n",
        "    _mean_carrier_measure = 0\n",
        "\n",
        "    @property\n",
        "    def mean(self):\n",
        "        x_high = (self.high - self.loc)/self.scale\n",
        "        cdf_high = self._normal_cdf(self.high)\n",
        "        pdf_high = math.exp(self._normal_log_prob(self.high))\n",
        "        x_low = (self.low - self.loc)/self.scale\n",
        "        cdf_low = self._normal_cdf(self.low)\n",
        "        pdf_low = math.exp(self._normal_log_prob(self.low))\n",
        "        term1 = cdf_high - cdf_low\n",
        "        term2 = pdf_high - pdf_low\n",
        "        return self.loc * term1 - self.scale * term2\n",
        "\n",
        "    @property\n",
        "    def stddev(self):\n",
        "        return self.variance.sqrt()\n",
        "\n",
        "    @property\n",
        "    def variance(self):\n",
        "        x_high = (self.high - self.loc)/self.scale\n",
        "        cdf_high = self._normal_cdf(self.high)\n",
        "        pdf_high = math.exp(self._normal_log_prob(self.high))\n",
        "        x_low = (self.low - self.loc)/self.scale\n",
        "        cdf_low = self._normal_cdf(self.low)\n",
        "        pdf_low = math.exp(self._normal_log_prob(self.low))\n",
        "        term1 = cdf_high - cdf_low\n",
        "        term2 = x_high * pdf_high - x_low * pdf_low\n",
        "        return  (self.scale ** 2) * (term1 - term2)\n",
        "\n",
        "\n",
        "    def __init__(self, loc, scale, low, high, validate_args=None):\n",
        "        self.loc, self.scale, self.low, self.high = broadcast_all(loc, scale, low, high)\n",
        "        if isinstance(loc, Number) and isinstance(scale, Number) and isinstance(low, Number) and isinstance(high, Number):\n",
        "            batch_shape = torch.Size()\n",
        "        else:\n",
        "            batch_shape = self.loc.size()\n",
        "        support = constraints.interval(low, high)\n",
        "        super().__init__(batch_shape, validate_args=validate_args)\n",
        "\n",
        "    def expand(self, batch_shape, _instance=None):\n",
        "        new = self._get_checked_instance(CensoredNormal, _instance)\n",
        "        batch_shape = torch.Size(batch_shape)\n",
        "        new.loc = self.loc.expand(batch_shape)\n",
        "        new.scale = self.scale.expand(batch_shape)\n",
        "        new.low = self.low.expand(batch_shape)\n",
        "        new.high = self.high.expand(batch_shape)\n",
        "        super(CensoredNormal, new).__init__(batch_shape, validate_args=False)\n",
        "        new._validate_args = self._validate_args\n",
        "        return new\n",
        "\n",
        "    @constraints.dependent_property(is_discrete=False, event_dim=0)\n",
        "    def support(self):\n",
        "        return constraints.interval(self.low, self.high)\n",
        "\n",
        "\n",
        "    def sample(self, sample_shape=torch.Size()):\n",
        "        shape = self._extended_shape(sample_shape)\n",
        "        with torch.no_grad():\n",
        "            samples = torch.normal(self.loc.expand(shape), self.scale.expand(shape))\n",
        "            return samples.clamp(min=self.low, max=self.high)\n",
        "\n",
        "\n",
        "    def rsample(self, sample_shape=torch.Size()):\n",
        "        shape = self._extended_shape(sample_shape)\n",
        "        eps = _standard_normal(shape, dtype=self.loc.dtype, device=self.loc.device)\n",
        "        rsamples =  self.loc + eps * self.scale\n",
        "        return rsamples.clamp(min=self.low, max=self.high)\n",
        "\n",
        "    def pdf(self, value):\n",
        "        if self._validate_args:\n",
        "            self._validate_sample(value)\n",
        "        probs = torch.exp(self.log_prob(value))\n",
        "        lower_cdf_mass = self._normal_cdf(self.low)\n",
        "        upper_cdf_mass = 1 - self._normal_cdf(self.high)\n",
        "        probs = torch.where(value <= self.low, lower_cdf_mass, probs)\n",
        "        probs = torch.where(value >= self.high, upper_cdf_mass, probs)\n",
        "        return probs\n",
        "\n",
        "    def log_prob(self, value, jitter=1e-12):\n",
        "        \"\"\"jitter: used to bounce off NormCDF from 0 before applying log \"\"\"\n",
        "        if self._validate_args:\n",
        "            self._validate_sample(value)\n",
        "        log_probs = self._normal_log_prob(value)\n",
        "        lower_log_cdf_mass = math.log(self._normal_cdf(self.low) + jitter) if isinstance(self._normal_cdf(self.low) + jitter,\n",
        "                                                                                                Number) else (self._normal_cdf(self.low) + jitter).log()\n",
        "        upper_log_cdf_mass = math.log(1 - self._normal_cdf(self.high) + jitter) if isinstance(1 - self._normal_cdf(self.high) + jitter,\n",
        "                                                                                                    Number) else (1 - self._normal_cdf(self.high) + jitter).log()\n",
        "        log_probs = torch.where(value <= self.low, lower_log_cdf_mass, log_probs)\n",
        "        log_probs = torch.where(value >= self.high, upper_log_cdf_mass, log_probs)\n",
        "        return log_probs\n",
        "\n",
        "    def cdf(self, value):\n",
        "        if self._validate_args:\n",
        "            self._validate_sample(value)\n",
        "        cdf_ = self._normal_cdf(value)\n",
        "        cdf_ = torch.where(value < self.low, 0, cdf_)\n",
        "        cdf_ = torch.where(value > self.high, 1, cdf_)\n",
        "        return cdf_\n",
        "\n",
        "    def icdf(self, value):\n",
        "        result = self._normal_icdf(value)\n",
        "        return result.clamp(min=self.low, max=self.high)\n",
        "\n",
        "    def entropy(self, jitter=1e-12):\n",
        "        x_low = (self.low - self.loc)/self.scale\n",
        "        x_high = (self.high - self.loc)/self.scale\n",
        "\n",
        "        logcdf_x_low = math.log(self._normal_cdf(self.low) + jitter) if isinstance(self._normal_cdf(self.low) + jitter,\n",
        "                                                                                                  Number) else (self._normal_cdf(self.low) + jitter).log()\n",
        "        logcdf_x_high = math.log(self._normal_cdf_standardized(-x_high) + jitter) if isinstance(self._normal_cdf_standardized(x_high) + jitter,\n",
        "                                                                                                      Number) else (self._normal_cdf_standardized(-x_high) + jitter).log()\n",
        "\n",
        "        term1 = self._normal_entropy() * (self._normal_cdf(self.high)- self._normal_cdf(self.low))\n",
        "        term2 = 0.5 * (x_high * torch.exp(self._normal_log_prob(self.high)) - x_low * torch.exp(self._normal_log_prob(self.low)))\n",
        "        term3 = logcdf_x_low * self._normal_cdf(self.low)\n",
        "        term4 = logcdf_x_high * (self._normal_cdf_standardized(-x_high))\n",
        "        return term1 - term2 - term3 - term4\n",
        "\n",
        "\n",
        "    def _normal_log_prob(self, value):\n",
        "            # compute the variance\n",
        "            var = self.scale**2\n",
        "            log_scale = (\n",
        "                math.log(self.scale) if isinstance(self.scale, Real) else self.scale.log()\n",
        "            )\n",
        "            return (\n",
        "                -((value - self.loc) ** 2) / (2 * var)\n",
        "                - log_scale\n",
        "                - math.log(math.sqrt(2 * math.pi))\n",
        "            )\n",
        "\n",
        "    def _normal_cdf(self, value):\n",
        "        return 0.5 * (\n",
        "            1 + torch.erf((value - self.loc) * self.scale.reciprocal() / math.sqrt(2))\n",
        "        )\n",
        "\n",
        "    def _normal_cdf_standardized(self, z):\n",
        "        return 0.5 * (\n",
        "            1 + torch.erf(z / math.sqrt(2))\n",
        "        )\n",
        "\n",
        "    def _normal_icdf(self, value):\n",
        "        return self.loc + self.scale * torch.erfinv(2 * value - 1) * math.sqrt(2)\n",
        "\n",
        "\n",
        "    def _normal_entropy(self):\\\n",
        "        # log(sqrt(2 pi e) * sigma) = 0.5 * log(2 pi e) + log(sigma) = 0.5 + 0.5 (log(2 pi)) + log(sigma)\n",
        "        return 0.5 + 0.5 * math.log(2 * math.pi) + torch.log(self.scale)\n",
        "\n",
        "    @property\n",
        "    def _normal_natural_params(self):\n",
        "        return (self.loc / self.scale.pow(2), -0.5 * self.scale.pow(2).reciprocal())\n",
        "\n",
        "    def _log_normalizer(self, x, y):\n",
        "        return -0.25 * x.pow(2) / y + 0.5 * torch.log(-math.pi / y)"
      ],
      "metadata": {
        "id": "bEwdAfsq4UKV"
      },
      "execution_count": 6,
      "outputs": []
    },
    {
      "cell_type": "code",
      "source": [
        "import math\n",
        "import warnings\n",
        "from copy import deepcopy\n",
        "from typing import Any, Optional, Tuple, Union\n",
        "\n",
        "import numpy as np\n",
        "import torch\n",
        "import torch.distributions as dist\n",
        "from torch import Tensor\n",
        "from gpytorch.likelihoods.likelihood import _Likelihood\n",
        "from gpytorch.likelihoods.noise_models import HomoskedasticNoise\n",
        "\n",
        "\n",
        "class CensoredGaussianLikelihood(_Likelihood):\n",
        "    \"\"\"Base class for Censored Gaussian Likelihoods.\"\"\"\n",
        "    def __init__(self, variance=None, low=None, high=None) -> None:\n",
        "        super().__init__()\n",
        "\n",
        "        variance = torch.tensor(1.) if variance is None else variance\n",
        "        self.noise = HomoskedasticNoise()\n",
        "        self.noise.initialize(noise=variance)\n",
        "        self.low = low\n",
        "        self.high = high\n",
        "\n",
        "    @property\n",
        "    def variance(self):\n",
        "      return self.noise.noise\n",
        "\n",
        "    def forward(self, function_samples: Tensor, *params: Any, **kwargs: Any):\n",
        "        return CensoredNormal(function_samples, scale=self.variance.sqrt(), low=self.low, high=self.high)\n",
        "\n",
        "\n",
        "class CensoredGaussianLikelihoodAnalytic(CensoredGaussianLikelihood):\n",
        "    def __init__(self, variance=None, low=None, high=None, alpha=1., gamma=1., dzeta=1., jitter_=1e-16) -> None:\n",
        "        super().__init__(variance, low, high)\n",
        "        self.alpha = alpha\n",
        "        self.gamma = gamma\n",
        "        self.dzeta = dzeta\n",
        "        self.jitter_ = jitter_\n",
        "\n",
        "    def _expected_log_prob_terms(self, target: Tensor, input: dist.MultivariateNormal, *params: Any, **kwargs: Any) -> Tensor:\n",
        "\n",
        "        noise = self.variance # likelihood\n",
        "        sigma = noise.sqrt()\n",
        "        mean, variance = input.mean, input.variance # approximate posterior\n",
        "        std = variance.sqrt()\n",
        "\n",
        "        upper_censor = lambda x, s: (self.high - x) / s\n",
        "        lower_censor = lambda x, s: (self.low - x) / s\n",
        "\n",
        "        standard_normal = dist.Normal(0,1)\n",
        "         # Gaussian term\n",
        "        res = ((target - mean).square() + variance) / noise + noise.log() + math.log(2 * math.pi)\n",
        "        res = res.mul(-0.5)\n",
        "        uncensored_cdf = standard_normal.cdf(upper_censor(mean, std)) - standard_normal.cdf(lower_censor(mean, std))\n",
        "        normal_part = res * uncensored_cdf  # maximized\n",
        "\n",
        "        # upper term\n",
        "        x = 0.5 * (self.high - 2*target + mean) * std * noise.reciprocal()  # minimized\n",
        "        upper_term_cdf = standard_normal.cdf(-upper_censor(target, sigma))\n",
        "        ln_cdf = torch.clamp_min(upper_term_cdf, self.jitter_).log()\n",
        "        upper_term_pdf = standard_normal.log_prob(upper_censor(mean, std)).exp()\n",
        "        upper_censored_part = (ln_cdf + x) * upper_term_pdf  # minimized\n",
        "\n",
        "        # lower term\n",
        "        x = 0.5 * (self.low - 2*target + mean) * std * noise.reciprocal()  # maximized\n",
        "        lower_term_cdf = standard_normal.cdf(lower_censor(target, sigma))\n",
        "        ln_cdf = torch.clamp_min(lower_term_cdf, self.jitter_).log()\n",
        "        lower_term_pdf = standard_normal.log_prob(lower_censor(mean, std)).exp()\n",
        "        lower_censored_part = (ln_cdf - x) * lower_term_pdf  # minimized\n",
        "\n",
        "        Phi = lambda m, s, a: torch.special.erf((a - m) / (np.sqrt(2) * s))\n",
        "\n",
        "        return dict(normal_part=normal_part, normal_part_cdf=uncensored_cdf,\n",
        "                    upper_censored_part=upper_censored_part, upper_term_pdf=upper_term_pdf,\n",
        "                    lower_censored_part=lower_censored_part, lower_term_pdf=lower_term_pdf,\n",
        "                    lower_cdf_pred=Phi(self.low, std, mean), upper_cdf_pred=Phi(self.high, std, mean),\n",
        "                    lower_cdf_target=Phi(self.low, sigma, target), upper_cdf_target=Phi(self.high, sigma, target)\n",
        "                    )\n",
        "\n",
        "    def expected_log_prob(self, target: Tensor, input: dist.MultivariateNormal, *params: Any, **kwargs: Any) -> Tensor:\n",
        "      terms = self._expected_log_prob_terms(target, input, *params, **kwargs)\n",
        "      return self.alpha * terms['normal_part'] + self.gamma * terms['upper_censored_part'] + self.dzeta * terms['lower_censored_part']\n",
        "\n",
        "\n",
        "class CensoredGaussianLikelihoodMathematica(CensoredGaussianLikelihood):\n",
        "    # Dani's original implementation\n",
        "    def __init__(self, variance=None, low=None, high=None) -> None:\n",
        "        super().__init__(variance, low, high)\n",
        "\n",
        "    def expected_log_prob(self, target: Tensor, input: dist.MultivariateNormal, *params: Any, **kwargs: Any) -> Tensor:\n",
        "        noise = self.variance # likelihood\n",
        "        mean, variance = input.mean, input.variance # approximate posterior\n",
        "\n",
        "        jitter_=1e-16\n",
        "\n",
        "        upper_censor = lambda x, s: (self.high - x) / s\n",
        "        lower_censor = lambda x, s: (self.low - x) / s\n",
        "\n",
        "        standard_normal = dist.Normal(0,1)\n",
        "         # Gaussian term\n",
        "        term1 = 2. + torch.log(noise) + math.log(2 * math.pi)\n",
        "        term2 = ((target - mean).square() + variance) * noise.reciprocal()\n",
        "        term3 = standard_normal.cdf(upper_censor(mean, variance.sqrt())) - standard_normal.cdf(lower_censor(mean, variance.sqrt()))\n",
        "        normal_part_unscaled = (term1 - term2).mul(0.5)\n",
        "        normal_part = normal_part_unscaled * term3\n",
        "\n",
        "        # upper term\n",
        "        x1 = (self.high - 2*target + mean) * variance.sqrt()\n",
        "        term4 = torch.clamp_min(standard_normal.cdf(-upper_censor(target, variance.sqrt())), jitter_).log() + 0.5 * x1 * noise.reciprocal()\n",
        "        upper_censored_part = term4 * standard_normal.log_prob(upper_censor(mean, variance.sqrt())).exp()\n",
        "\n",
        "        # lower term\n",
        "        x2 = (self.low - 2*target + mean) * variance.sqrt()\n",
        "        term5 = torch.clamp_min(standard_normal.cdf(lower_censor(target, variance.sqrt())), jitter_).log() - 0.5 * x2 * noise.reciprocal()\n",
        "        lower_censored_part = term5 * standard_normal.log_prob(lower_censor(mean, variance.sqrt())).exp()\n",
        "\n",
        "        res = normal_part - lower_censored_part - upper_censored_part\n",
        "        return res\n",
        "\n",
        "\n",
        "class CensoredGaussianLikelihoodMathematica(CensoredGaussianLikelihoodAnalytic):\n",
        "    # Updated implementation -- overwrites previous\n",
        "    def expected_log_prob(self, target: Tensor, input: dist.MultivariateNormal, *params: Any, **kwargs: Any) -> Tensor:\n",
        "        noise = self.variance  # likelihood\n",
        "        sigma = torch.sqrt(noise)\n",
        "        sigma2 = noise\n",
        "\n",
        "        mean, variance = input.mean, input.variance  # approximate posterior\n",
        "        m = mean\n",
        "        s = variance\n",
        "\n",
        "        mu = target\n",
        "        l = self.low\n",
        "        u = self.high\n",
        "\n",
        "        log = lambda x: torch.log(torch.maximum(x,torch.as_tensor(1e-8).to(x)))\n",
        "        phi = lambda m, s, u: torch.exp(-((m - u) ** 2 / (2 * s ** 2)))\n",
        "        Phi = lambda m, s, a: torch.special.erf((a - m) / (np.sqrt(2) * s))\n",
        "\n",
        "        sqrt2pi = np.sqrt(2 * np.pi)\n",
        "        log2 = np.log(2)\n",
        "        logpi = np.log(np.pi)\n",
        "\n",
        "        return (\n",
        "                (log((1 / 2) * (1 - Phi(l, sigma, mu))) * phi(l, s, m)) / (sqrt2pi * s) +\n",
        "                (log(1 + (1 / 2) * (-1 + Phi(u, sigma, mu))) * phi(u, s, m)) / (sqrt2pi * s) +\n",
        "                (1 / (4 * sqrt2pi * sigma2)) * (\n",
        "                        -2 * s * (l + m - 2 * mu) * phi(l, s, m) +\n",
        "                        2 * s * (m + u - 2 * mu) * phi(m, s, u) -\n",
        "                        sqrt2pi * Phi(m, s, l) * (\n",
        "                                l ** 2 - m ** 2 - s ** 2 - 2 * l * mu + 2 * m * mu - sigma2 * log2 - sigma2 * logpi +\n",
        "                                2 * sigma2 * log(phi(l, sigma, mu) / sigma)\n",
        "                        ) +\n",
        "                        sqrt2pi * Phi(u, s, m) * (\n",
        "                                m ** 2 + s ** 2 - u ** 2 - 2 * m * mu + 2 * u * mu + sigma2 * log2 + sigma2 * logpi -\n",
        "                                2 * sigma2 * log(phi(u, sigma, mu) / sigma)\n",
        "                        )\n",
        "                )\n",
        "        )"
      ],
      "metadata": {
        "id": "mzrc2FnMulU2"
      },
      "execution_count": 103,
      "outputs": []
    },
    {
      "cell_type": "code",
      "source": [
        "def rgetattr(o, k_list):\n",
        "  for k in k_list:\n",
        "    o = getattr(o,k)\n",
        "  return o\n",
        "\n",
        "def print_module(module):\n",
        "  with torch.no_grad():\n",
        "    for name, _ in module.named_parameters():\n",
        "      name = name.replace('raw_','')\n",
        "      param = rgetattr(module, name.split('.'))\n",
        "      print(f'{name:35} {tuple(param.shape)}\\n{param.numpy().round(10)}')\n",
        "\n",
        "def get_module(module):\n",
        "  ret = {}\n",
        "  with torch.no_grad():\n",
        "    for name, _ in module.named_parameters():\n",
        "      name = name.replace('raw_','')\n",
        "      param = rgetattr(module, name.split('.'))\n",
        "      ret[name] = param.numpy()\n",
        "  return ret"
      ],
      "metadata": {
        "id": "AsaHG4UbHapk"
      },
      "execution_count": 104,
      "outputs": []
    },
    {
      "cell_type": "code",
      "source": [
        "def branin_hoo(x):\n",
        "    \"\"\"\n",
        "    Branin-Hoo test function (2d)\n",
        "    http://www.sfu.ca/~ssurjano/branin.html\n",
        "    \"\"\"\n",
        "    x1 = x[:,0]\n",
        "    x2 = x[:,1]\n",
        "    try:\n",
        "        x1 = x1.numpy()\n",
        "        x2 = x2.numpy()\n",
        "    except:\n",
        "        pass\n",
        "    x1 = 15 * x1 - 5\n",
        "    x2 = 15 * x2\n",
        "    b = 5.1 / (4 * np.pi**2)\n",
        "    c = 5.0 / np.pi\n",
        "    r = 6\n",
        "    s = 10\n",
        "    t = 1/(8 * np.pi)\n",
        "    v = (x2 - b*x1**2 + c*x1 - r)**2 + s * (1 - t) * np.cos(x1) + s\n",
        "    if isinstance(x, torch.Tensor):\n",
        "        return torch.FloatTensor(v)\n",
        "    else:\n",
        "        return v"
      ],
      "metadata": {
        "id": "VIkVPU8cCrby"
      },
      "execution_count": 105,
      "outputs": []
    },
    {
      "cell_type": "code",
      "source": [
        "MAX_VALUE= 50.0\n",
        "\n",
        "def oracle(x, output_noise=0.0):\n",
        "    r = branin_hoo(x)\n",
        "#     r = r + torch.randn(r.shape)*output_noise\n",
        "    r[r > MAX_VALUE] = MAX_VALUE\n",
        "    return r\n",
        "\n",
        "def oracle_binarized(x):\n",
        "    r = oracle(x)\n",
        "    fail = r >= MAX_VALUE\n",
        "    r[fail] = 0\n",
        "    r[~fail] = 1\n",
        "    return r\n",
        "\n",
        "def plot_test_function(fn):\n",
        "    domain = torch.linspace(0, 1, 100)\n",
        "    xx, yy = torch.meshgrid(domain, domain)\n",
        "    xxyy = torch.stack((xx.ravel(), yy.ravel())).T\n",
        "    zz = fn(xxyy).reshape(xx.shape)\n",
        "    if zz.max() == 1.0:\n",
        "        plt.contourf(xx, yy, zz)\n",
        "    else:\n",
        "        plt.contourf(xx, yy, zz) # , levels=2**np.arange(0, int(np.ceil(np.log2(zz.max()))), 0.5)-1)\n",
        "    plt.colorbar()"
      ],
      "metadata": {
        "id": "DDijZaRMCwHv"
      },
      "execution_count": 106,
      "outputs": []
    },
    {
      "cell_type": "markdown",
      "source": [
        "# Synthetic 2D"
      ],
      "metadata": {
        "id": "s2QOhsPCB1AS"
      }
    },
    {
      "cell_type": "code",
      "source": [
        "MAX_VALUE= 50.0\n",
        "\n",
        "N_init = 10\n",
        "np.random.seed(4)\n",
        "x = torch.FloatTensor(np.random.rand(N_init, 2))\n",
        "y = oracle(x)\n",
        "\n",
        "# test data\n",
        "domain = torch.linspace(0, 1, 100)\n",
        "xx, yy = torch.meshgrid(domain, domain)\n",
        "xxyy = torch.stack((xx.ravel(), yy.ravel())).T\n",
        "y_test = branin_hoo(xxyy)\n",
        "y_test_censored = oracle(xxyy)"
      ],
      "metadata": {
        "id": "4_BvHM1zQ2pP"
      },
      "execution_count": 107,
      "outputs": []
    },
    {
      "cell_type": "markdown",
      "source": [
        "# MC Simulation"
      ],
      "metadata": {
        "id": "zAjpySlO8qql"
      }
    },
    {
      "cell_type": "code",
      "source": [
        "from gpytorch.models import ApproximateGP # handles basic variational inference\n",
        "from gpytorch.variational import CholeskyVariationalDistribution # distribution of the approximation q(f)\n",
        "from gpytorch.variational import VariationalStrategy # use when larger sample - transform q(u) to q(f) over inducing points\n",
        "\n",
        "class GPModel(ApproximateGP):\n",
        "    def __init__(self, inducing_points):\n",
        "        # defines approximation\n",
        "        variational_distribution = CholeskyVariationalDistribution(inducing_points.size(0))\n",
        "        variational_strategy = VariationalStrategy(self, inducing_points,\n",
        "                                                   variational_distribution, learn_inducing_locations=False)\n",
        "        super(GPModel, self).__init__(variational_strategy)\n",
        "        # defines the GP\n",
        "        self.mean_module = gpytorch.means.ConstantMean()\n",
        "        self.covar_module = gpytorch.kernels.ScaleKernel(gpytorch.kernels.RBFKernel())\n",
        "\n",
        "    def forward(self, x):\n",
        "        mean_x = self.mean_module(x)\n",
        "        covar_x = self.covar_module(x)\n",
        "        return gpytorch.distributions.MultivariateNormal(mean_x, covar_x)\n",
        "\n",
        "model = GPModel(inducing_points=x[:,:])\n",
        "\n",
        "# ELBO Likelihood\n",
        "likelihood = CensoredGaussianLikelihoodAnalytic(low=-1000., high=MAX_VALUE)\n",
        "\n",
        "if torch.cuda.is_available():\n",
        "    model = model.cuda()\n",
        "    likelihood = likelihood.cuda()"
      ],
      "metadata": {
        "id": "ytV96p1a8yv-"
      },
      "execution_count": 108,
      "outputs": []
    },
    {
      "cell_type": "code",
      "source": [
        "num_epochs = 30_000\n",
        "pbar = tqdm.tqdm(range(num_epochs), position=0, leave=True)\n",
        "\n",
        "model.train()\n",
        "likelihood.train()\n",
        "\n",
        "optimizer = torch.optim.Adam([\n",
        "    {'params': model.parameters()},\n",
        "    {'params': likelihood.parameters()},\n",
        "], lr=0.001)\n",
        "\n",
        "mll = gpytorch.mlls.VariationalELBO(likelihood, model, beta=1., combine_terms=False, num_data=y.size(0))\n",
        "\n",
        "params_log = dict()\n",
        "metrics = dict()\n",
        "for iter in pbar:\n",
        "    optimizer.zero_grad()\n",
        "    y_pred = model(x)\n",
        "    log_likelihood, kl_divergence, log_prior  = mll(y_pred, y)\n",
        "    loss = -(log_likelihood - kl_divergence + log_prior)\n",
        "    loss.backward()\n",
        "    optimizer.step()\n",
        "    params_log[iter] = {\n",
        "        'loss': loss.item(),\n",
        "        'log_likelihood': log_likelihood.item(),\n",
        "        'kl_divergence': kl_divergence.item(),\n",
        "        'log_prior': log_prior.item(),\n",
        "        'outscale': model.covar_module.outputscale.item(),\n",
        "        'mean_module': model.mean_module.constant.item(),\n",
        "        'noise': likelihood.noise.noise.item()\n",
        "        }\n",
        "\n",
        "    if iter%500==0:\n",
        "      for key, val in params_log[iter].items():\n",
        "        print(key, val)\n",
        "\n",
        "      model.eval()\n",
        "      likelihood.eval()\n",
        "      metrics[iter] = {\n",
        "        'mae': gpytorch.metrics.mean_absolute_error(model(xxyy), y_test).numpy(force=True),\n",
        "        'posterior_log_prob': model(xxyy).log_prob(y_test).mean().numpy(force=True),\n",
        "        'npld_posterior': gpytorch.metrics.negative_log_predictive_density(model(xxyy), y_test).mean().numpy(force=True),\n",
        "        'npld_predictive_posterior': gpytorch.metrics.negative_log_predictive_density(likelihood(model(xxyy)), y_test_censored).mean().numpy(force=True)\n",
        "      }\n",
        "      model.train()"
      ],
      "metadata": {
        "colab": {
          "base_uri": "https://localhost:8080/"
        },
        "id": "NjzLE17S9W82",
        "outputId": "1fd7f3a2-78c4-4bf7-c1dc-a599b44e0b6a"
      },
      "execution_count": 109,
      "outputs": [
        {
          "metadata": {
            "tags": null
          },
          "name": "stderr",
          "output_type": "stream",
          "text": [
            "\r  0%|          | 0/30000 [00:00<?, ?it/s]"
          ]
        },
        {
          "metadata": {
            "tags": null
          },
          "name": "stdout",
          "output_type": "stream",
          "text": [
            "loss 495.2884826660156\n",
            "log_likelihood -495.2884826660156\n",
            "kl_divergence 4.76837158203125e-07\n",
            "log_prior 0.0\n",
            "outscale 0.6926472783088684\n",
            "mean_module 0.0009999999310821295\n",
            "noise 1.0006321668624878\n"
          ]
        },
        {
          "metadata": {
            "tags": null
          },
          "name": "stderr",
          "output_type": "stream",
          "text": [
            "  2%|▏         | 500/30000 [00:19<05:44, 85.67it/s]"
          ]
        },
        {
          "metadata": {
            "tags": null
          },
          "name": "stdout",
          "output_type": "stream",
          "text": [
            "loss 355.2098693847656\n",
            "log_likelihood -354.97918701171875\n",
            "kl_divergence 0.23068752884864807\n",
            "log_prior 0.0\n",
            "outscale 1.120112419128418\n",
            "mean_module 0.46647778153419495\n",
            "noise 1.3075947761535645\n"
          ]
        },
        {
          "metadata": {
            "tags": null
          },
          "name": "stderr",
          "output_type": "stream",
          "text": [
            "  3%|▎         | 994/30000 [00:50<05:14, 92.29it/s]"
          ]
        },
        {
          "metadata": {
            "tags": null
          },
          "name": "stdout",
          "output_type": "stream",
          "text": [
            "loss 269.32098388671875\n",
            "log_likelihood -268.5758056640625\n",
            "kl_divergence 0.7451812028884888\n",
            "log_prior 0.0\n",
            "outscale 1.6693408489227295\n",
            "mean_module 0.8788995146751404\n",
            "noise 1.5901367664337158\n"
          ]
        },
        {
          "metadata": {
            "tags": null
          },
          "name": "stderr",
          "output_type": "stream",
          "text": [
            "  3%|▎         | 994/30000 [01:06<05:14, 92.29it/s]/usr/local/lib/python3.10/dist-packages/linear_operator/utils/linear_cg.py:338: NumericalWarning: CG terminated in 1000 iterations with average residual norm 2.479015350341797 which is larger than the tolerance of 1 specified by linear_operator.settings.cg_tolerance. If performance is affected, consider raising the maximum number of CG iterations by running code in a linear_operator.settings.max_cg_iterations(value) context.\n",
            "  warnings.warn(\n",
            "/usr/local/lib/python3.10/dist-packages/linear_operator/utils/linear_cg.py:338: NumericalWarning: CG terminated in 1000 iterations with average residual norm 2.7977821826934814 which is larger than the tolerance of 1 specified by linear_operator.settings.cg_tolerance. If performance is affected, consider raising the maximum number of CG iterations by running code in a linear_operator.settings.max_cg_iterations(value) context.\n",
            "  warnings.warn(\n",
            "  5%|▍         | 1494/30000 [01:52<05:10, 91.80it/s]"
          ]
        },
        {
          "metadata": {
            "tags": null
          },
          "name": "stdout",
          "output_type": "stream",
          "text": [
            "loss 212.12811279296875\n",
            "log_likelihood -210.75552368164062\n",
            "kl_divergence 1.372584581375122\n",
            "log_prior 0.0\n",
            "outscale 2.214663505554199\n",
            "mean_module 1.2585794925689697\n",
            "noise 1.8516285419464111\n"
          ]
        },
        {
          "metadata": {
            "tags": null
          },
          "name": "stderr",
          "output_type": "stream",
          "text": [
            "  5%|▍         | 1494/30000 [02:06<05:10, 91.80it/s]/usr/local/lib/python3.10/dist-packages/linear_operator/utils/linear_cg.py:338: NumericalWarning: CG terminated in 1000 iterations with average residual norm 3.4553475379943848 which is larger than the tolerance of 1 specified by linear_operator.settings.cg_tolerance. If performance is affected, consider raising the maximum number of CG iterations by running code in a linear_operator.settings.max_cg_iterations(value) context.\n",
            "  warnings.warn(\n",
            "/usr/local/lib/python3.10/dist-packages/linear_operator/utils/linear_cg.py:338: NumericalWarning: CG terminated in 1000 iterations with average residual norm 3.034780740737915 which is larger than the tolerance of 1 specified by linear_operator.settings.cg_tolerance. If performance is affected, consider raising the maximum number of CG iterations by running code in a linear_operator.settings.max_cg_iterations(value) context.\n",
            "  warnings.warn(\n",
            "  7%|▋         | 1998/30000 [02:53<05:09, 90.44it/s]"
          ]
        },
        {
          "metadata": {
            "tags": null
          },
          "name": "stdout",
          "output_type": "stream",
          "text": [
            "loss 170.89486694335938\n",
            "log_likelihood -168.8248748779297\n",
            "kl_divergence 2.0699925422668457\n",
            "log_prior 0.0\n",
            "outscale 2.73956561088562\n",
            "mean_module 1.61698579788208\n",
            "noise 2.096001625061035\n"
          ]
        },
        {
          "metadata": {
            "tags": null
          },
          "name": "stderr",
          "output_type": "stream",
          "text": [
            "  7%|▋         | 1998/30000 [03:06<05:09, 90.44it/s]/usr/local/lib/python3.10/dist-packages/linear_operator/utils/linear_cg.py:338: NumericalWarning: CG terminated in 1000 iterations with average residual norm 2.7329063415527344 which is larger than the tolerance of 1 specified by linear_operator.settings.cg_tolerance. If performance is affected, consider raising the maximum number of CG iterations by running code in a linear_operator.settings.max_cg_iterations(value) context.\n",
            "  warnings.warn(\n",
            "/usr/local/lib/python3.10/dist-packages/linear_operator/utils/linear_cg.py:338: NumericalWarning: CG terminated in 1000 iterations with average residual norm 3.58779239654541 which is larger than the tolerance of 1 specified by linear_operator.settings.cg_tolerance. If performance is affected, consider raising the maximum number of CG iterations by running code in a linear_operator.settings.max_cg_iterations(value) context.\n",
            "  warnings.warn(\n",
            "  8%|▊         | 2500/30000 [03:56<04:59, 91.92it/s]"
          ]
        },
        {
          "metadata": {
            "tags": null
          },
          "name": "stdout",
          "output_type": "stream",
          "text": [
            "loss 139.7557373046875\n",
            "log_likelihood -136.9467010498047\n",
            "kl_divergence 2.8090434074401855\n",
            "log_prior 0.0\n",
            "outscale 3.2413058280944824\n",
            "mean_module 1.9610589742660522\n",
            "noise 2.3264660835266113\n"
          ]
        },
        {
          "metadata": {
            "tags": null
          },
          "name": "stderr",
          "output_type": "stream",
          "text": [
            "  8%|▊         | 2500/30000 [04:16<04:59, 91.92it/s]/usr/local/lib/python3.10/dist-packages/linear_operator/utils/linear_cg.py:338: NumericalWarning: CG terminated in 1000 iterations with average residual norm 5.652374744415283 which is larger than the tolerance of 1 specified by linear_operator.settings.cg_tolerance. If performance is affected, consider raising the maximum number of CG iterations by running code in a linear_operator.settings.max_cg_iterations(value) context.\n",
            "  warnings.warn(\n",
            "/usr/local/lib/python3.10/dist-packages/linear_operator/utils/linear_cg.py:338: NumericalWarning: CG terminated in 1000 iterations with average residual norm 6.651199817657471 which is larger than the tolerance of 1 specified by linear_operator.settings.cg_tolerance. If performance is affected, consider raising the maximum number of CG iterations by running code in a linear_operator.settings.max_cg_iterations(value) context.\n",
            "  warnings.warn(\n",
            " 10%|█         | 3000/30000 [04:58<05:09, 87.27it/s]"
          ]
        },
        {
          "metadata": {
            "tags": null
          },
          "name": "stdout",
          "output_type": "stream",
          "text": [
            "loss 115.53007507324219\n",
            "log_likelihood -111.94937896728516\n",
            "kl_divergence 3.580692768096924\n",
            "log_prior 0.0\n",
            "outscale 3.721242666244507\n",
            "mean_module 2.2952582836151123\n",
            "noise 2.545586585998535\n"
          ]
        },
        {
          "metadata": {
            "tags": null
          },
          "name": "stderr",
          "output_type": "stream",
          "text": [
            " 10%|█         | 3000/30000 [05:16<05:09, 87.27it/s]/usr/local/lib/python3.10/dist-packages/linear_operator/utils/linear_cg.py:338: NumericalWarning: CG terminated in 1000 iterations with average residual norm 6.764892101287842 which is larger than the tolerance of 1 specified by linear_operator.settings.cg_tolerance. If performance is affected, consider raising the maximum number of CG iterations by running code in a linear_operator.settings.max_cg_iterations(value) context.\n",
            "  warnings.warn(\n",
            "/usr/local/lib/python3.10/dist-packages/linear_operator/utils/linear_cg.py:338: NumericalWarning: CG terminated in 1000 iterations with average residual norm 5.524168014526367 which is larger than the tolerance of 1 specified by linear_operator.settings.cg_tolerance. If performance is affected, consider raising the maximum number of CG iterations by running code in a linear_operator.settings.max_cg_iterations(value) context.\n",
            "  warnings.warn(\n",
            " 12%|█▏        | 3500/30000 [05:59<04:45, 92.66it/s]"
          ]
        },
        {
          "metadata": {
            "tags": null
          },
          "name": "stdout",
          "output_type": "stream",
          "text": [
            "loss 96.30335998535156\n",
            "log_likelihood -91.93262481689453\n",
            "kl_divergence 4.370737552642822\n",
            "log_prior 0.0\n",
            "outscale 4.1819562911987305\n",
            "mean_module 2.6224825382232666\n",
            "noise 2.7553393840789795\n"
          ]
        },
        {
          "metadata": {
            "tags": null
          },
          "name": "stderr",
          "output_type": "stream",
          "text": [
            " 12%|█▏        | 3500/30000 [06:16<04:45, 92.66it/s]/usr/local/lib/python3.10/dist-packages/linear_operator/utils/linear_cg.py:338: NumericalWarning: CG terminated in 1000 iterations with average residual norm 6.8712158203125 which is larger than the tolerance of 1 specified by linear_operator.settings.cg_tolerance. If performance is affected, consider raising the maximum number of CG iterations by running code in a linear_operator.settings.max_cg_iterations(value) context.\n",
            "  warnings.warn(\n",
            "/usr/local/lib/python3.10/dist-packages/linear_operator/utils/linear_cg.py:338: NumericalWarning: CG terminated in 1000 iterations with average residual norm 8.882365226745605 which is larger than the tolerance of 1 specified by linear_operator.settings.cg_tolerance. If performance is affected, consider raising the maximum number of CG iterations by running code in a linear_operator.settings.max_cg_iterations(value) context.\n",
            "  warnings.warn(\n",
            " 13%|█▎        | 3993/30000 [07:01<04:44, 91.55it/s]"
          ]
        },
        {
          "metadata": {
            "tags": null
          },
          "name": "stdout",
          "output_type": "stream",
          "text": [
            "loss 80.84033203125\n",
            "log_likelihood -75.66702270507812\n",
            "kl_divergence 5.173305988311768\n",
            "log_prior 0.0\n",
            "outscale 4.626145839691162\n",
            "mean_module 2.944636821746826\n",
            "noise 2.957183599472046\n"
          ]
        },
        {
          "metadata": {
            "tags": null
          },
          "name": "stderr",
          "output_type": "stream",
          "text": [
            " 13%|█▎        | 3993/30000 [07:16<04:44, 91.55it/s]/usr/local/lib/python3.10/dist-packages/linear_operator/utils/linear_cg.py:338: NumericalWarning: CG terminated in 1000 iterations with average residual norm 11.376376152038574 which is larger than the tolerance of 1 specified by linear_operator.settings.cg_tolerance. If performance is affected, consider raising the maximum number of CG iterations by running code in a linear_operator.settings.max_cg_iterations(value) context.\n",
            "  warnings.warn(\n",
            "/usr/local/lib/python3.10/dist-packages/linear_operator/utils/linear_cg.py:338: NumericalWarning: CG terminated in 1000 iterations with average residual norm 6.577270030975342 which is larger than the tolerance of 1 specified by linear_operator.settings.cg_tolerance. If performance is affected, consider raising the maximum number of CG iterations by running code in a linear_operator.settings.max_cg_iterations(value) context.\n",
            "  warnings.warn(\n",
            " 15%|█▍        | 4496/30000 [08:03<04:44, 89.67it/s]"
          ]
        },
        {
          "metadata": {
            "tags": null
          },
          "name": "stdout",
          "output_type": "stream",
          "text": [
            "loss 68.3254165649414\n",
            "log_likelihood -62.326820373535156\n",
            "kl_divergence 5.998593330383301\n",
            "log_prior 0.0\n",
            "outscale 5.056063175201416\n",
            "mean_module 3.2628300189971924\n",
            "noise 3.152161121368408\n"
          ]
        },
        {
          "metadata": {
            "tags": null
          },
          "name": "stderr",
          "output_type": "stream",
          "text": [
            " 15%|█▍        | 4496/30000 [08:16<04:44, 89.67it/s]/usr/local/lib/python3.10/dist-packages/linear_operator/utils/linear_cg.py:338: NumericalWarning: CG terminated in 1000 iterations with average residual norm 8.986989974975586 which is larger than the tolerance of 1 specified by linear_operator.settings.cg_tolerance. If performance is affected, consider raising the maximum number of CG iterations by running code in a linear_operator.settings.max_cg_iterations(value) context.\n",
            "  warnings.warn(\n",
            "/usr/local/lib/python3.10/dist-packages/linear_operator/utils/linear_cg.py:338: NumericalWarning: CG terminated in 1000 iterations with average residual norm 13.088601112365723 which is larger than the tolerance of 1 specified by linear_operator.settings.cg_tolerance. If performance is affected, consider raising the maximum number of CG iterations by running code in a linear_operator.settings.max_cg_iterations(value) context.\n",
            "  warnings.warn(\n",
            " 17%|█▋        | 4996/30000 [09:04<04:21, 95.56it/s]"
          ]
        },
        {
          "metadata": {
            "tags": null
          },
          "name": "stdout",
          "output_type": "stream",
          "text": [
            "loss 58.19777297973633\n",
            "log_likelihood -51.34624481201172\n",
            "kl_divergence 6.851529121398926\n",
            "log_prior 0.0\n",
            "outscale 5.473317623138428\n",
            "mean_module 3.5775067806243896\n",
            "noise 3.3410215377807617\n"
          ]
        },
        {
          "metadata": {
            "tags": null
          },
          "name": "stderr",
          "output_type": "stream",
          "text": [
            " 17%|█▋        | 4996/30000 [09:16<04:21, 95.56it/s]/usr/local/lib/python3.10/dist-packages/linear_operator/utils/linear_cg.py:338: NumericalWarning: CG terminated in 1000 iterations with average residual norm 10.309233665466309 which is larger than the tolerance of 1 specified by linear_operator.settings.cg_tolerance. If performance is affected, consider raising the maximum number of CG iterations by running code in a linear_operator.settings.max_cg_iterations(value) context.\n",
            "  warnings.warn(\n",
            "/usr/local/lib/python3.10/dist-packages/linear_operator/utils/linear_cg.py:338: NumericalWarning: CG terminated in 1000 iterations with average residual norm 13.031205177307129 which is larger than the tolerance of 1 specified by linear_operator.settings.cg_tolerance. If performance is affected, consider raising the maximum number of CG iterations by running code in a linear_operator.settings.max_cg_iterations(value) context.\n",
            "  warnings.warn(\n",
            " 18%|█▊        | 5493/30000 [10:06<04:30, 90.56it/s]"
          ]
        },
        {
          "metadata": {
            "tags": null
          },
          "name": "stdout",
          "output_type": "stream",
          "text": [
            "loss 50.0330696105957\n",
            "log_likelihood -42.31494140625\n",
            "kl_divergence 7.7181267738342285\n",
            "log_prior 0.0\n",
            "outscale 5.879072666168213\n",
            "mean_module 3.888768434524536\n",
            "noise 3.5243797302246094\n"
          ]
        },
        {
          "metadata": {
            "tags": null
          },
          "name": "stderr",
          "output_type": "stream",
          "text": [
            " 18%|█▊        | 5493/30000 [10:16<04:30, 90.56it/s]/usr/local/lib/python3.10/dist-packages/linear_operator/utils/linear_cg.py:338: NumericalWarning: CG terminated in 1000 iterations with average residual norm 15.630684852600098 which is larger than the tolerance of 1 specified by linear_operator.settings.cg_tolerance. If performance is affected, consider raising the maximum number of CG iterations by running code in a linear_operator.settings.max_cg_iterations(value) context.\n",
            "  warnings.warn(\n",
            "/usr/local/lib/python3.10/dist-packages/linear_operator/utils/linear_cg.py:338: NumericalWarning: CG terminated in 1000 iterations with average residual norm 10.95346450805664 which is larger than the tolerance of 1 specified by linear_operator.settings.cg_tolerance. If performance is affected, consider raising the maximum number of CG iterations by running code in a linear_operator.settings.max_cg_iterations(value) context.\n",
            "  warnings.warn(\n",
            " 20%|█▉        | 5991/30000 [11:08<04:13, 94.87it/s]"
          ]
        },
        {
          "metadata": {
            "tags": null
          },
          "name": "stdout",
          "output_type": "stream",
          "text": [
            "loss 43.47770690917969\n",
            "log_likelihood -34.9108772277832\n",
            "kl_divergence 8.566829681396484\n",
            "log_prior 0.0\n",
            "outscale 6.27439022064209\n",
            "mean_module 4.196768283843994\n",
            "noise 3.702810287475586\n"
          ]
        },
        {
          "metadata": {
            "tags": null
          },
          "name": "stderr",
          "output_type": "stream",
          "text": [
            " 20%|█▉        | 5991/30000 [11:26<04:13, 94.87it/s]/usr/local/lib/python3.10/dist-packages/linear_operator/utils/linear_cg.py:338: NumericalWarning: CG terminated in 1000 iterations with average residual norm 16.34919548034668 which is larger than the tolerance of 1 specified by linear_operator.settings.cg_tolerance. If performance is affected, consider raising the maximum number of CG iterations by running code in a linear_operator.settings.max_cg_iterations(value) context.\n",
            "  warnings.warn(\n",
            "/usr/local/lib/python3.10/dist-packages/linear_operator/utils/linear_cg.py:338: NumericalWarning: CG terminated in 1000 iterations with average residual norm 17.093204498291016 which is larger than the tolerance of 1 specified by linear_operator.settings.cg_tolerance. If performance is affected, consider raising the maximum number of CG iterations by running code in a linear_operator.settings.max_cg_iterations(value) context.\n",
            "  warnings.warn(\n",
            " 22%|██▏       | 6495/30000 [12:10<04:09, 94.35it/s]"
          ]
        },
        {
          "metadata": {
            "tags": null
          },
          "name": "stdout",
          "output_type": "stream",
          "text": [
            "loss 38.22227478027344\n",
            "log_likelihood -28.864700317382812\n",
            "kl_divergence 9.357576370239258\n",
            "log_prior 0.0\n",
            "outscale 6.660493850708008\n",
            "mean_module 4.502060413360596\n",
            "noise 3.8769032955169678\n"
          ]
        },
        {
          "output_type": "stream",
          "name": "stderr",
          "text": [
            "\r 22%|██▏       | 6495/30000 [12:26<04:09, 94.35it/s]/usr/local/lib/python3.10/dist-packages/linear_operator/utils/linear_cg.py:338: NumericalWarning: CG terminated in 1000 iterations with average residual norm 11.904690742492676 which is larger than the tolerance of 1 specified by linear_operator.settings.cg_tolerance. If performance is affected, consider raising the maximum number of CG iterations by running code in a linear_operator.settings.max_cg_iterations(value) context.\n",
            "  warnings.warn(\n",
            "/usr/local/lib/python3.10/dist-packages/linear_operator/utils/linear_cg.py:338: NumericalWarning: CG terminated in 1000 iterations with average residual norm 9.374638557434082 which is larger than the tolerance of 1 specified by linear_operator.settings.cg_tolerance. If performance is affected, consider raising the maximum number of CG iterations by running code in a linear_operator.settings.max_cg_iterations(value) context.\n",
            "  warnings.warn(\n",
            " 23%|██▎       | 6991/30000 [13:13<03:57, 97.07it/s]"
          ]
        },
        {
          "output_type": "stream",
          "name": "stdout",
          "text": [
            "loss 33.998687744140625\n",
            "log_likelihood -23.942996978759766\n",
            "kl_divergence 10.055692672729492\n",
            "log_prior 0.0\n",
            "outscale 7.038869857788086\n",
            "mean_module 4.805819034576416\n",
            "noise 4.04726505279541\n"
          ]
        },
        {
          "output_type": "stream",
          "name": "stderr",
          "text": [
            "\r 23%|██▎       | 6991/30000 [13:26<03:57, 97.07it/s]/usr/local/lib/python3.10/dist-packages/linear_operator/utils/linear_cg.py:338: NumericalWarning: CG terminated in 1000 iterations with average residual norm 8.1747407913208 which is larger than the tolerance of 1 specified by linear_operator.settings.cg_tolerance. If performance is affected, consider raising the maximum number of CG iterations by running code in a linear_operator.settings.max_cg_iterations(value) context.\n",
            "  warnings.warn(\n",
            "/usr/local/lib/python3.10/dist-packages/linear_operator/utils/linear_cg.py:338: NumericalWarning: CG terminated in 1000 iterations with average residual norm 9.456974029541016 which is larger than the tolerance of 1 specified by linear_operator.settings.cg_tolerance. If performance is affected, consider raising the maximum number of CG iterations by running code in a linear_operator.settings.max_cg_iterations(value) context.\n",
            "  warnings.warn(\n",
            " 25%|██▍       | 7498/30000 [14:17<03:55, 95.53it/s]"
          ]
        },
        {
          "output_type": "stream",
          "name": "stdout",
          "text": [
            "loss 30.587238311767578\n",
            "log_likelihood -19.94474220275879\n",
            "kl_divergence 10.642497062683105\n",
            "log_prior 0.0\n",
            "outscale 7.41115665435791\n",
            "mean_module 5.109857559204102\n",
            "noise 4.214498996734619\n"
          ]
        },
        {
          "output_type": "stream",
          "name": "stderr",
          "text": [
            "\r 25%|██▍       | 7498/30000 [14:36<03:55, 95.53it/s]/usr/local/lib/python3.10/dist-packages/linear_operator/utils/linear_cg.py:338: NumericalWarning: CG terminated in 1000 iterations with average residual norm 16.35198211669922 which is larger than the tolerance of 1 specified by linear_operator.settings.cg_tolerance. If performance is affected, consider raising the maximum number of CG iterations by running code in a linear_operator.settings.max_cg_iterations(value) context.\n",
            "  warnings.warn(\n",
            "/usr/local/lib/python3.10/dist-packages/linear_operator/utils/linear_cg.py:338: NumericalWarning: CG terminated in 1000 iterations with average residual norm 8.268156051635742 which is larger than the tolerance of 1 specified by linear_operator.settings.cg_tolerance. If performance is affected, consider raising the maximum number of CG iterations by running code in a linear_operator.settings.max_cg_iterations(value) context.\n",
            "  warnings.warn(\n",
            " 27%|██▋       | 7991/30000 [15:21<03:54, 93.89it/s]"
          ]
        },
        {
          "output_type": "stream",
          "name": "stdout",
          "text": [
            "loss 27.81796646118164\n",
            "log_likelihood -16.706510543823242\n",
            "kl_divergence 11.111454963684082\n",
            "log_prior 0.0\n",
            "outscale 7.778878211975098\n",
            "mean_module 5.416228294372559\n",
            "noise 4.379210472106934\n"
          ]
        },
        {
          "output_type": "stream",
          "name": "stderr",
          "text": [
            "\r 27%|██▋       | 7991/30000 [15:36<03:54, 93.89it/s]/usr/local/lib/python3.10/dist-packages/linear_operator/utils/linear_cg.py:338: NumericalWarning: CG terminated in 1000 iterations with average residual norm 19.1645450592041 which is larger than the tolerance of 1 specified by linear_operator.settings.cg_tolerance. If performance is affected, consider raising the maximum number of CG iterations by running code in a linear_operator.settings.max_cg_iterations(value) context.\n",
            "  warnings.warn(\n",
            "/usr/local/lib/python3.10/dist-packages/linear_operator/utils/linear_cg.py:338: NumericalWarning: CG terminated in 1000 iterations with average residual norm 8.478653907775879 which is larger than the tolerance of 1 specified by linear_operator.settings.cg_tolerance. If performance is affected, consider raising the maximum number of CG iterations by running code in a linear_operator.settings.max_cg_iterations(value) context.\n",
            "  warnings.warn(\n",
            " 28%|██▊       | 8495/30000 [16:25<03:53, 92.14it/s]"
          ]
        },
        {
          "output_type": "stream",
          "name": "stdout",
          "text": [
            "loss 25.562686920166016\n",
            "log_likelihood -14.102925300598145\n",
            "kl_divergence 11.459760665893555\n",
            "log_prior 0.0\n",
            "outscale 8.143203735351562\n",
            "mean_module 5.726869583129883\n",
            "noise 4.542123317718506\n"
          ]
        },
        {
          "output_type": "stream",
          "name": "stderr",
          "text": [
            "\r 28%|██▊       | 8495/30000 [16:36<03:53, 92.14it/s]/usr/local/lib/python3.10/dist-packages/linear_operator/utils/linear_cg.py:338: NumericalWarning: CG terminated in 1000 iterations with average residual norm 12.675278663635254 which is larger than the tolerance of 1 specified by linear_operator.settings.cg_tolerance. If performance is affected, consider raising the maximum number of CG iterations by running code in a linear_operator.settings.max_cg_iterations(value) context.\n",
            "  warnings.warn(\n",
            "/usr/local/lib/python3.10/dist-packages/linear_operator/utils/linear_cg.py:338: NumericalWarning: CG terminated in 1000 iterations with average residual norm 13.51021957397461 which is larger than the tolerance of 1 specified by linear_operator.settings.cg_tolerance. If performance is affected, consider raising the maximum number of CG iterations by running code in a linear_operator.settings.max_cg_iterations(value) context.\n",
            "  warnings.warn(\n",
            " 30%|███       | 9000/30000 [17:30<03:47, 92.32it/s]"
          ]
        },
        {
          "output_type": "stream",
          "name": "stdout",
          "text": [
            "loss 23.72470474243164\n",
            "log_likelihood -12.037904739379883\n",
            "kl_divergence 11.686799049377441\n",
            "log_prior 0.0\n",
            "outscale 8.504897117614746\n",
            "mean_module 6.043315887451172\n",
            "noise 4.7042975425720215\n"
          ]
        },
        {
          "output_type": "stream",
          "name": "stderr",
          "text": [
            "\r 30%|███       | 9000/30000 [17:46<03:47, 92.32it/s]/usr/local/lib/python3.10/dist-packages/linear_operator/utils/linear_cg.py:338: NumericalWarning: CG terminated in 1000 iterations with average residual norm 28.768531799316406 which is larger than the tolerance of 1 specified by linear_operator.settings.cg_tolerance. If performance is affected, consider raising the maximum number of CG iterations by running code in a linear_operator.settings.max_cg_iterations(value) context.\n",
            "  warnings.warn(\n",
            "/usr/local/lib/python3.10/dist-packages/linear_operator/utils/linear_cg.py:338: NumericalWarning: CG terminated in 1000 iterations with average residual norm 22.479734420776367 which is larger than the tolerance of 1 specified by linear_operator.settings.cg_tolerance. If performance is affected, consider raising the maximum number of CG iterations by running code in a linear_operator.settings.max_cg_iterations(value) context.\n",
            "  warnings.warn(\n",
            " 32%|███▏      | 9495/30000 [18:34<03:55, 86.91it/s]"
          ]
        },
        {
          "output_type": "stream",
          "name": "stdout",
          "text": [
            "loss 22.225811004638672\n",
            "log_likelihood -10.434297561645508\n",
            "kl_divergence 11.791512489318848\n",
            "log_prior 0.0\n",
            "outscale 8.864391326904297\n",
            "mean_module 6.36659574508667\n",
            "noise 4.867325305938721\n"
          ]
        },
        {
          "output_type": "stream",
          "name": "stderr",
          "text": [
            "\r 32%|███▏      | 9495/30000 [18:46<03:55, 86.91it/s]/usr/local/lib/python3.10/dist-packages/linear_operator/utils/linear_cg.py:338: NumericalWarning: CG terminated in 1000 iterations with average residual norm 25.97895622253418 which is larger than the tolerance of 1 specified by linear_operator.settings.cg_tolerance. If performance is affected, consider raising the maximum number of CG iterations by running code in a linear_operator.settings.max_cg_iterations(value) context.\n",
            "  warnings.warn(\n",
            "/usr/local/lib/python3.10/dist-packages/linear_operator/utils/linear_cg.py:338: NumericalWarning: CG terminated in 1000 iterations with average residual norm 21.697744369506836 which is larger than the tolerance of 1 specified by linear_operator.settings.cg_tolerance. If performance is affected, consider raising the maximum number of CG iterations by running code in a linear_operator.settings.max_cg_iterations(value) context.\n",
            "  warnings.warn(\n",
            " 33%|███▎      | 9994/30000 [19:41<03:56, 84.66it/s]"
          ]
        },
        {
          "output_type": "stream",
          "name": "stdout",
          "text": [
            "loss 20.993484497070312\n",
            "log_likelihood -9.225473403930664\n",
            "kl_divergence 11.768010139465332\n",
            "log_prior 0.0\n",
            "outscale 9.222077369689941\n",
            "mean_module 6.697333335876465\n",
            "noise 5.033675670623779\n"
          ]
        },
        {
          "output_type": "stream",
          "name": "stderr",
          "text": [
            "\r 33%|███▎      | 9994/30000 [19:56<03:56, 84.66it/s]/usr/local/lib/python3.10/dist-packages/linear_operator/utils/linear_cg.py:338: NumericalWarning: CG terminated in 1000 iterations with average residual norm 28.334814071655273 which is larger than the tolerance of 1 specified by linear_operator.settings.cg_tolerance. If performance is affected, consider raising the maximum number of CG iterations by running code in a linear_operator.settings.max_cg_iterations(value) context.\n",
            "  warnings.warn(\n",
            "/usr/local/lib/python3.10/dist-packages/linear_operator/utils/linear_cg.py:338: NumericalWarning: CG terminated in 1000 iterations with average residual norm 13.363415718078613 which is larger than the tolerance of 1 specified by linear_operator.settings.cg_tolerance. If performance is affected, consider raising the maximum number of CG iterations by running code in a linear_operator.settings.max_cg_iterations(value) context.\n",
            "  warnings.warn(\n",
            " 35%|███▍      | 10492/30000 [20:46<03:28, 93.56it/s]"
          ]
        },
        {
          "output_type": "stream",
          "name": "stdout",
          "text": [
            "loss 19.95659637451172\n",
            "log_likelihood -8.350686073303223\n",
            "kl_divergence 11.605911254882812\n",
            "log_prior 0.0\n",
            "outscale 9.578584671020508\n",
            "mean_module 7.0360870361328125\n",
            "noise 5.206833839416504\n"
          ]
        },
        {
          "output_type": "stream",
          "name": "stderr",
          "text": [
            "\r 35%|███▍      | 10492/30000 [20:56<03:28, 93.56it/s]/usr/local/lib/python3.10/dist-packages/linear_operator/utils/linear_cg.py:338: NumericalWarning: CG terminated in 1000 iterations with average residual norm 22.982879638671875 which is larger than the tolerance of 1 specified by linear_operator.settings.cg_tolerance. If performance is affected, consider raising the maximum number of CG iterations by running code in a linear_operator.settings.max_cg_iterations(value) context.\n",
            "  warnings.warn(\n",
            "/usr/local/lib/python3.10/dist-packages/linear_operator/utils/linear_cg.py:338: NumericalWarning: CG terminated in 1000 iterations with average residual norm 27.327112197875977 which is larger than the tolerance of 1 specified by linear_operator.settings.cg_tolerance. If performance is affected, consider raising the maximum number of CG iterations by running code in a linear_operator.settings.max_cg_iterations(value) context.\n",
            "  warnings.warn(\n",
            " 37%|███▋      | 10993/30000 [21:50<03:19, 95.50it/s]"
          ]
        },
        {
          "output_type": "stream",
          "name": "stdout",
          "text": [
            "loss 19.04916763305664\n",
            "log_likelihood -7.750594139099121\n",
            "kl_divergence 11.29857349395752\n",
            "log_prior 0.0\n",
            "outscale 9.935323715209961\n",
            "mean_module 7.3838629722595215\n",
            "noise 5.391391754150391\n"
          ]
        },
        {
          "output_type": "stream",
          "name": "stderr",
          "text": [
            "\r 37%|███▋      | 10993/30000 [22:06<03:19, 95.50it/s]/usr/local/lib/python3.10/dist-packages/linear_operator/utils/linear_cg.py:338: NumericalWarning: CG terminated in 1000 iterations with average residual norm 23.6162166595459 which is larger than the tolerance of 1 specified by linear_operator.settings.cg_tolerance. If performance is affected, consider raising the maximum number of CG iterations by running code in a linear_operator.settings.max_cg_iterations(value) context.\n",
            "  warnings.warn(\n",
            "/usr/local/lib/python3.10/dist-packages/linear_operator/utils/linear_cg.py:338: NumericalWarning: CG terminated in 1000 iterations with average residual norm 16.122329711914062 which is larger than the tolerance of 1 specified by linear_operator.settings.cg_tolerance. If performance is affected, consider raising the maximum number of CG iterations by running code in a linear_operator.settings.max_cg_iterations(value) context.\n",
            "  warnings.warn(\n",
            " 38%|███▊      | 11494/30000 [22:53<03:15, 94.77it/s]"
          ]
        },
        {
          "output_type": "stream",
          "name": "stdout",
          "text": [
            "loss 18.21904754638672\n",
            "log_likelihood -7.362274169921875\n",
            "kl_divergence 10.856772422790527\n",
            "log_prior 0.0\n",
            "outscale 10.294170379638672\n",
            "mean_module 7.742394924163818\n",
            "noise 5.592741012573242\n"
          ]
        },
        {
          "output_type": "stream",
          "name": "stderr",
          "text": [
            "\r 38%|███▊      | 11494/30000 [23:06<03:15, 94.77it/s]/usr/local/lib/python3.10/dist-packages/linear_operator/utils/linear_cg.py:338: NumericalWarning: CG terminated in 1000 iterations with average residual norm 14.544586181640625 which is larger than the tolerance of 1 specified by linear_operator.settings.cg_tolerance. If performance is affected, consider raising the maximum number of CG iterations by running code in a linear_operator.settings.max_cg_iterations(value) context.\n",
            "  warnings.warn(\n",
            "/usr/local/lib/python3.10/dist-packages/linear_operator/utils/linear_cg.py:338: NumericalWarning: CG terminated in 1000 iterations with average residual norm 16.011051177978516 which is larger than the tolerance of 1 specified by linear_operator.settings.cg_tolerance. If performance is affected, consider raising the maximum number of CG iterations by running code in a linear_operator.settings.max_cg_iterations(value) context.\n",
            "  warnings.warn(\n",
            " 40%|███▉      | 11992/30000 [23:57<03:16, 91.87it/s]"
          ]
        },
        {
          "output_type": "stream",
          "name": "stdout",
          "text": [
            "loss 17.432979583740234\n",
            "log_likelihood -7.11818790435791\n",
            "kl_divergence 10.31479263305664\n",
            "log_prior 0.0\n",
            "outscale 10.657116889953613\n",
            "mean_module 8.113753318786621\n",
            "noise 5.816152095794678\n"
          ]
        },
        {
          "output_type": "stream",
          "name": "stderr",
          "text": [
            "\r 40%|███▉      | 11992/30000 [24:16<03:16, 91.87it/s]/usr/local/lib/python3.10/dist-packages/linear_operator/utils/linear_cg.py:338: NumericalWarning: CG terminated in 1000 iterations with average residual norm 18.323402404785156 which is larger than the tolerance of 1 specified by linear_operator.settings.cg_tolerance. If performance is affected, consider raising the maximum number of CG iterations by running code in a linear_operator.settings.max_cg_iterations(value) context.\n",
            "  warnings.warn(\n",
            "/usr/local/lib/python3.10/dist-packages/linear_operator/utils/linear_cg.py:338: NumericalWarning: CG terminated in 1000 iterations with average residual norm 23.429790496826172 which is larger than the tolerance of 1 specified by linear_operator.settings.cg_tolerance. If performance is affected, consider raising the maximum number of CG iterations by running code in a linear_operator.settings.max_cg_iterations(value) context.\n",
            "  warnings.warn(\n",
            " 42%|████▏     | 12498/30000 [25:01<03:37, 80.63it/s]"
          ]
        },
        {
          "output_type": "stream",
          "name": "stdout",
          "text": [
            "loss 16.675033569335938\n",
            "log_likelihood -6.954218864440918\n",
            "kl_divergence 9.72081470489502\n",
            "log_prior 0.0\n",
            "outscale 11.025672912597656\n",
            "mean_module 8.499491691589355\n",
            "noise 6.065383434295654\n"
          ]
        },
        {
          "output_type": "stream",
          "name": "stderr",
          "text": [
            "\r 42%|████▏     | 12498/30000 [25:16<03:37, 80.63it/s]/usr/local/lib/python3.10/dist-packages/linear_operator/utils/linear_cg.py:338: NumericalWarning: CG terminated in 1000 iterations with average residual norm 15.310576438903809 which is larger than the tolerance of 1 specified by linear_operator.settings.cg_tolerance. If performance is affected, consider raising the maximum number of CG iterations by running code in a linear_operator.settings.max_cg_iterations(value) context.\n",
            "  warnings.warn(\n",
            "/usr/local/lib/python3.10/dist-packages/linear_operator/utils/linear_cg.py:338: NumericalWarning: CG terminated in 1000 iterations with average residual norm 17.913536071777344 which is larger than the tolerance of 1 specified by linear_operator.settings.cg_tolerance. If performance is affected, consider raising the maximum number of CG iterations by running code in a linear_operator.settings.max_cg_iterations(value) context.\n",
            "  warnings.warn(\n",
            " 43%|████▎     | 12992/30000 [26:04<03:06, 90.97it/s]"
          ]
        },
        {
          "output_type": "stream",
          "name": "stdout",
          "text": [
            "loss 15.941485404968262\n",
            "log_likelihood -6.8213958740234375\n",
            "kl_divergence 9.120089530944824\n",
            "log_prior 0.0\n",
            "outscale 11.400519371032715\n",
            "mean_module 8.899890899658203\n",
            "noise 6.341561794281006\n"
          ]
        },
        {
          "output_type": "stream",
          "name": "stderr",
          "text": [
            "\r 43%|████▎     | 12992/30000 [26:16<03:06, 90.97it/s]/usr/local/lib/python3.10/dist-packages/linear_operator/utils/linear_cg.py:338: NumericalWarning: CG terminated in 1000 iterations with average residual norm 25.98492431640625 which is larger than the tolerance of 1 specified by linear_operator.settings.cg_tolerance. If performance is affected, consider raising the maximum number of CG iterations by running code in a linear_operator.settings.max_cg_iterations(value) context.\n",
            "  warnings.warn(\n",
            "/usr/local/lib/python3.10/dist-packages/linear_operator/utils/linear_cg.py:338: NumericalWarning: CG terminated in 1000 iterations with average residual norm 12.098082542419434 which is larger than the tolerance of 1 specified by linear_operator.settings.cg_tolerance. If performance is affected, consider raising the maximum number of CG iterations by running code in a linear_operator.settings.max_cg_iterations(value) context.\n",
            "  warnings.warn(\n",
            " 45%|████▍     | 13495/30000 [27:09<03:00, 91.63it/s]"
          ]
        },
        {
          "output_type": "stream",
          "name": "stdout",
          "text": [
            "loss 15.235249519348145\n",
            "log_likelihood -6.692150115966797\n",
            "kl_divergence 8.543099403381348\n",
            "log_prior 0.0\n",
            "outscale 11.781478881835938\n",
            "mean_module 9.313738822937012\n",
            "noise 6.643065452575684\n"
          ]
        },
        {
          "output_type": "stream",
          "name": "stderr",
          "text": [
            "\r 45%|████▍     | 13495/30000 [27:26<03:00, 91.63it/s]/usr/local/lib/python3.10/dist-packages/linear_operator/utils/linear_cg.py:338: NumericalWarning: CG terminated in 1000 iterations with average residual norm 25.04773712158203 which is larger than the tolerance of 1 specified by linear_operator.settings.cg_tolerance. If performance is affected, consider raising the maximum number of CG iterations by running code in a linear_operator.settings.max_cg_iterations(value) context.\n",
            "  warnings.warn(\n",
            "/usr/local/lib/python3.10/dist-packages/linear_operator/utils/linear_cg.py:338: NumericalWarning: CG terminated in 1000 iterations with average residual norm 32.57183837890625 which is larger than the tolerance of 1 specified by linear_operator.settings.cg_tolerance. If performance is affected, consider raising the maximum number of CG iterations by running code in a linear_operator.settings.max_cg_iterations(value) context.\n",
            "  warnings.warn(\n",
            " 47%|████▋     | 13996/30000 [28:18<03:02, 87.93it/s]"
          ]
        },
        {
          "output_type": "stream",
          "name": "stdout",
          "text": [
            "loss 14.561296463012695\n",
            "log_likelihood -6.557287693023682\n",
            "kl_divergence 8.004009246826172\n",
            "log_prior 0.0\n",
            "outscale 12.167804718017578\n",
            "mean_module 9.738718032836914\n",
            "noise 6.96643590927124\n"
          ]
        },
        {
          "output_type": "stream",
          "name": "stderr",
          "text": [
            "\r 47%|████▋     | 13996/30000 [28:36<03:02, 87.93it/s]/usr/local/lib/python3.10/dist-packages/linear_operator/utils/linear_cg.py:338: NumericalWarning: CG terminated in 1000 iterations with average residual norm 14.54561996459961 which is larger than the tolerance of 1 specified by linear_operator.settings.cg_tolerance. If performance is affected, consider raising the maximum number of CG iterations by running code in a linear_operator.settings.max_cg_iterations(value) context.\n",
            "  warnings.warn(\n",
            "/usr/local/lib/python3.10/dist-packages/linear_operator/utils/linear_cg.py:338: NumericalWarning: CG terminated in 1000 iterations with average residual norm 10.71345329284668 which is larger than the tolerance of 1 specified by linear_operator.settings.cg_tolerance. If performance is affected, consider raising the maximum number of CG iterations by running code in a linear_operator.settings.max_cg_iterations(value) context.\n",
            "  warnings.warn(\n",
            " 48%|████▊     | 14493/30000 [29:27<03:09, 81.79it/s]"
          ]
        },
        {
          "output_type": "stream",
          "name": "stdout",
          "text": [
            "loss 13.923812866210938\n",
            "log_likelihood -6.4176025390625\n",
            "kl_divergence 7.5062103271484375\n",
            "log_prior 0.0\n",
            "outscale 12.55851936340332\n",
            "mean_module 10.172076225280762\n",
            "noise 7.307635307312012\n"
          ]
        },
        {
          "output_type": "stream",
          "name": "stderr",
          "text": [
            "\r 48%|████▊     | 14493/30000 [29:46<03:09, 81.79it/s]/usr/local/lib/python3.10/dist-packages/linear_operator/utils/linear_cg.py:338: NumericalWarning: CG terminated in 1000 iterations with average residual norm 23.088685989379883 which is larger than the tolerance of 1 specified by linear_operator.settings.cg_tolerance. If performance is affected, consider raising the maximum number of CG iterations by running code in a linear_operator.settings.max_cg_iterations(value) context.\n",
            "  warnings.warn(\n",
            "/usr/local/lib/python3.10/dist-packages/linear_operator/utils/linear_cg.py:338: NumericalWarning: CG terminated in 1000 iterations with average residual norm 10.89391040802002 which is larger than the tolerance of 1 specified by linear_operator.settings.cg_tolerance. If performance is affected, consider raising the maximum number of CG iterations by running code in a linear_operator.settings.max_cg_iterations(value) context.\n",
            "  warnings.warn(\n",
            " 50%|████▉     | 14997/30000 [30:34<02:48, 88.93it/s]"
          ]
        },
        {
          "output_type": "stream",
          "name": "stdout",
          "text": [
            "loss 13.325050354003906\n",
            "log_likelihood -6.276707649230957\n",
            "kl_divergence 7.048342704772949\n",
            "log_prior 0.0\n",
            "outscale 12.952702522277832\n",
            "mean_module 10.61122989654541\n",
            "noise 7.662932395935059\n"
          ]
        },
        {
          "output_type": "stream",
          "name": "stderr",
          "text": [
            "\r 50%|████▉     | 14997/30000 [30:46<02:48, 88.93it/s]/usr/local/lib/python3.10/dist-packages/linear_operator/utils/linear_cg.py:338: NumericalWarning: CG terminated in 1000 iterations with average residual norm 42.00979995727539 which is larger than the tolerance of 1 specified by linear_operator.settings.cg_tolerance. If performance is affected, consider raising the maximum number of CG iterations by running code in a linear_operator.settings.max_cg_iterations(value) context.\n",
            "  warnings.warn(\n",
            "/usr/local/lib/python3.10/dist-packages/linear_operator/utils/linear_cg.py:338: NumericalWarning: CG terminated in 1000 iterations with average residual norm 32.8484992980957 which is larger than the tolerance of 1 specified by linear_operator.settings.cg_tolerance. If performance is affected, consider raising the maximum number of CG iterations by running code in a linear_operator.settings.max_cg_iterations(value) context.\n",
            "  warnings.warn(\n",
            " 52%|█████▏    | 15494/30000 [31:39<02:46, 87.36it/s]"
          ]
        },
        {
          "output_type": "stream",
          "name": "stdout",
          "text": [
            "loss 12.765380859375\n",
            "log_likelihood -6.137753009796143\n",
            "kl_divergence 6.627627372741699\n",
            "log_prior 0.0\n",
            "outscale 13.349608421325684\n",
            "mean_module 11.054056167602539\n",
            "noise 8.029261589050293\n"
          ]
        },
        {
          "output_type": "stream",
          "name": "stderr",
          "text": [
            "\r 52%|█████▏    | 15494/30000 [31:56<02:46, 87.36it/s]/usr/local/lib/python3.10/dist-packages/linear_operator/utils/linear_cg.py:338: NumericalWarning: CG terminated in 1000 iterations with average residual norm 22.907142639160156 which is larger than the tolerance of 1 specified by linear_operator.settings.cg_tolerance. If performance is affected, consider raising the maximum number of CG iterations by running code in a linear_operator.settings.max_cg_iterations(value) context.\n",
            "  warnings.warn(\n",
            "/usr/local/lib/python3.10/dist-packages/linear_operator/utils/linear_cg.py:338: NumericalWarning: CG terminated in 1000 iterations with average residual norm 32.17576217651367 which is larger than the tolerance of 1 specified by linear_operator.settings.cg_tolerance. If performance is affected, consider raising the maximum number of CG iterations by running code in a linear_operator.settings.max_cg_iterations(value) context.\n",
            "  warnings.warn(\n",
            " 53%|█████▎    | 15993/30000 [32:50<03:03, 76.42it/s]"
          ]
        },
        {
          "output_type": "stream",
          "name": "stdout",
          "text": [
            "loss 12.243799209594727\n",
            "log_likelihood -6.002723217010498\n",
            "kl_divergence 6.241076469421387\n",
            "log_prior 0.0\n",
            "outscale 13.748697280883789\n",
            "mean_module 11.498937606811523\n",
            "noise 8.404253005981445\n"
          ]
        },
        {
          "output_type": "stream",
          "name": "stderr",
          "text": [
            "\r 53%|█████▎    | 15993/30000 [33:06<03:03, 76.42it/s]/usr/local/lib/python3.10/dist-packages/linear_operator/utils/linear_cg.py:338: NumericalWarning: CG terminated in 1000 iterations with average residual norm 22.834794998168945 which is larger than the tolerance of 1 specified by linear_operator.settings.cg_tolerance. If performance is affected, consider raising the maximum number of CG iterations by running code in a linear_operator.settings.max_cg_iterations(value) context.\n",
            "  warnings.warn(\n",
            "/usr/local/lib/python3.10/dist-packages/linear_operator/utils/linear_cg.py:338: NumericalWarning: CG terminated in 1000 iterations with average residual norm 23.24073600769043 which is larger than the tolerance of 1 specified by linear_operator.settings.cg_tolerance. If performance is affected, consider raising the maximum number of CG iterations by running code in a linear_operator.settings.max_cg_iterations(value) context.\n",
            "  warnings.warn(\n",
            " 55%|█████▍    | 16495/30000 [34:04<02:43, 82.73it/s]"
          ]
        },
        {
          "output_type": "stream",
          "name": "stdout",
          "text": [
            "loss 11.758481979370117\n",
            "log_likelihood -5.872720241546631\n",
            "kl_divergence 5.8857622146606445\n",
            "log_prior 0.0\n",
            "outscale 14.149603843688965\n",
            "mean_module 11.944719314575195\n",
            "noise 8.786128044128418\n"
          ]
        },
        {
          "output_type": "stream",
          "name": "stderr",
          "text": [
            "\r 55%|█████▍    | 16495/30000 [34:16<02:43, 82.73it/s]/usr/local/lib/python3.10/dist-packages/linear_operator/utils/linear_cg.py:338: NumericalWarning: CG terminated in 1000 iterations with average residual norm 36.31821060180664 which is larger than the tolerance of 1 specified by linear_operator.settings.cg_tolerance. If performance is affected, consider raising the maximum number of CG iterations by running code in a linear_operator.settings.max_cg_iterations(value) context.\n",
            "  warnings.warn(\n",
            "/usr/local/lib/python3.10/dist-packages/linear_operator/utils/linear_cg.py:338: NumericalWarning: CG terminated in 1000 iterations with average residual norm 30.051740646362305 which is larger than the tolerance of 1 specified by linear_operator.settings.cg_tolerance. If performance is affected, consider raising the maximum number of CG iterations by running code in a linear_operator.settings.max_cg_iterations(value) context.\n",
            "  warnings.warn(\n",
            " 57%|█████▋    | 16994/30000 [35:11<02:25, 89.43it/s]"
          ]
        },
        {
          "output_type": "stream",
          "name": "stdout",
          "text": [
            "loss 11.30717658996582\n",
            "log_likelihood -5.748297214508057\n",
            "kl_divergence 5.558879375457764\n",
            "log_prior 0.0\n",
            "outscale 14.552164077758789\n",
            "mean_module 12.390562057495117\n",
            "noise 9.173567771911621\n"
          ]
        },
        {
          "output_type": "stream",
          "name": "stderr",
          "text": [
            "\r 57%|█████▋    | 16994/30000 [35:26<02:25, 89.43it/s]/usr/local/lib/python3.10/dist-packages/linear_operator/utils/linear_cg.py:338: NumericalWarning: CG terminated in 1000 iterations with average residual norm 12.270648956298828 which is larger than the tolerance of 1 specified by linear_operator.settings.cg_tolerance. If performance is affected, consider raising the maximum number of CG iterations by running code in a linear_operator.settings.max_cg_iterations(value) context.\n",
            "  warnings.warn(\n",
            "/usr/local/lib/python3.10/dist-packages/linear_operator/utils/linear_cg.py:338: NumericalWarning: CG terminated in 1000 iterations with average residual norm 21.821666717529297 which is larger than the tolerance of 1 specified by linear_operator.settings.cg_tolerance. If performance is affected, consider raising the maximum number of CG iterations by running code in a linear_operator.settings.max_cg_iterations(value) context.\n",
            "  warnings.warn(\n",
            " 58%|█████▊    | 17494/30000 [36:18<02:24, 86.76it/s]"
          ]
        },
        {
          "output_type": "stream",
          "name": "stdout",
          "text": [
            "loss 10.887422561645508\n",
            "log_likelihood -5.629683971405029\n",
            "kl_divergence 5.2577385902404785\n",
            "log_prior 0.0\n",
            "outscale 14.956233978271484\n",
            "mean_module 12.836202621459961\n",
            "noise 9.565600395202637\n"
          ]
        },
        {
          "output_type": "stream",
          "name": "stderr",
          "text": [
            "\r 58%|█████▊    | 17494/30000 [36:36<02:24, 86.76it/s]/usr/local/lib/python3.10/dist-packages/linear_operator/utils/linear_cg.py:338: NumericalWarning: CG terminated in 1000 iterations with average residual norm 30.962244033813477 which is larger than the tolerance of 1 specified by linear_operator.settings.cg_tolerance. If performance is affected, consider raising the maximum number of CG iterations by running code in a linear_operator.settings.max_cg_iterations(value) context.\n",
            "  warnings.warn(\n",
            "/usr/local/lib/python3.10/dist-packages/linear_operator/utils/linear_cg.py:338: NumericalWarning: CG terminated in 1000 iterations with average residual norm 37.88021469116211 which is larger than the tolerance of 1 specified by linear_operator.settings.cg_tolerance. If performance is affected, consider raising the maximum number of CG iterations by running code in a linear_operator.settings.max_cg_iterations(value) context.\n",
            "  warnings.warn(\n",
            " 60%|█████▉    | 17998/30000 [37:23<02:18, 86.49it/s]"
          ]
        },
        {
          "output_type": "stream",
          "name": "stdout",
          "text": [
            "loss 10.496879577636719\n",
            "log_likelihood -5.516964912414551\n",
            "kl_divergence 4.97991418838501\n",
            "log_prior 0.0\n",
            "outscale 15.361783981323242\n",
            "mean_module 13.281241416931152\n",
            "noise 9.961536407470703\n"
          ]
        },
        {
          "output_type": "stream",
          "name": "stderr",
          "text": [
            "\r 60%|█████▉    | 17998/30000 [37:36<02:18, 86.49it/s]/usr/local/lib/python3.10/dist-packages/linear_operator/utils/linear_cg.py:338: NumericalWarning: CG terminated in 1000 iterations with average residual norm 43.87123107910156 which is larger than the tolerance of 1 specified by linear_operator.settings.cg_tolerance. If performance is affected, consider raising the maximum number of CG iterations by running code in a linear_operator.settings.max_cg_iterations(value) context.\n",
            "  warnings.warn(\n",
            "/usr/local/lib/python3.10/dist-packages/linear_operator/utils/linear_cg.py:338: NumericalWarning: CG terminated in 1000 iterations with average residual norm 28.206892013549805 which is larger than the tolerance of 1 specified by linear_operator.settings.cg_tolerance. If performance is affected, consider raising the maximum number of CG iterations by running code in a linear_operator.settings.max_cg_iterations(value) context.\n",
            "  warnings.warn(\n",
            " 62%|██████▏   | 18492/30000 [38:29<02:03, 92.99it/s]"
          ]
        },
        {
          "output_type": "stream",
          "name": "stdout",
          "text": [
            "loss 10.133323669433594\n",
            "log_likelihood -5.410126209259033\n",
            "kl_divergence 4.7231974601745605\n",
            "log_prior 0.0\n",
            "outscale 15.768815994262695\n",
            "mean_module 13.725435256958008\n",
            "noise 10.360840797424316\n"
          ]
        },
        {
          "output_type": "stream",
          "name": "stderr",
          "text": [
            "\r 62%|██████▏   | 18492/30000 [38:46<02:03, 92.99it/s]/usr/local/lib/python3.10/dist-packages/linear_operator/utils/linear_cg.py:338: NumericalWarning: CG terminated in 1000 iterations with average residual norm 16.0678653717041 which is larger than the tolerance of 1 specified by linear_operator.settings.cg_tolerance. If performance is affected, consider raising the maximum number of CG iterations by running code in a linear_operator.settings.max_cg_iterations(value) context.\n",
            "  warnings.warn(\n",
            "/usr/local/lib/python3.10/dist-packages/linear_operator/utils/linear_cg.py:338: NumericalWarning: CG terminated in 1000 iterations with average residual norm 22.3820743560791 which is larger than the tolerance of 1 specified by linear_operator.settings.cg_tolerance. If performance is affected, consider raising the maximum number of CG iterations by running code in a linear_operator.settings.max_cg_iterations(value) context.\n",
            "  warnings.warn(\n",
            " 63%|██████▎   | 19000/30000 [39:34<01:56, 94.02it/s]"
          ]
        },
        {
          "output_type": "stream",
          "name": "stdout",
          "text": [
            "loss 9.794628143310547\n",
            "log_likelihood -5.309016227722168\n",
            "kl_divergence 4.485612392425537\n",
            "log_prior 0.0\n",
            "outscale 16.17741584777832\n",
            "mean_module 14.168729782104492\n",
            "noise 10.76314640045166\n"
          ]
        },
        {
          "output_type": "stream",
          "name": "stderr",
          "text": [
            "\r 63%|██████▎   | 19000/30000 [39:46<01:56, 94.02it/s]/usr/local/lib/python3.10/dist-packages/linear_operator/utils/linear_cg.py:338: NumericalWarning: CG terminated in 1000 iterations with average residual norm 48.335205078125 which is larger than the tolerance of 1 specified by linear_operator.settings.cg_tolerance. If performance is affected, consider raising the maximum number of CG iterations by running code in a linear_operator.settings.max_cg_iterations(value) context.\n",
            "  warnings.warn(\n",
            "/usr/local/lib/python3.10/dist-packages/linear_operator/utils/linear_cg.py:338: NumericalWarning: CG terminated in 1000 iterations with average residual norm 37.45354080200195 which is larger than the tolerance of 1 specified by linear_operator.settings.cg_tolerance. If performance is affected, consider raising the maximum number of CG iterations by running code in a linear_operator.settings.max_cg_iterations(value) context.\n",
            "  warnings.warn(\n",
            " 65%|██████▍   | 19498/30000 [40:39<02:30, 69.89it/s]"
          ]
        },
        {
          "output_type": "stream",
          "name": "stdout",
          "text": [
            "loss 9.478915214538574\n",
            "log_likelihood -5.213527679443359\n",
            "kl_divergence 4.265387535095215\n",
            "log_prior 0.0\n",
            "outscale 16.587472915649414\n",
            "mean_module 14.611050605773926\n",
            "noise 11.168180465698242\n"
          ]
        },
        {
          "output_type": "stream",
          "name": "stderr",
          "text": [
            "\r 65%|██████▍   | 19498/30000 [40:56<02:30, 69.89it/s]/usr/local/lib/python3.10/dist-packages/linear_operator/utils/linear_cg.py:338: NumericalWarning: CG terminated in 1000 iterations with average residual norm 37.44291687011719 which is larger than the tolerance of 1 specified by linear_operator.settings.cg_tolerance. If performance is affected, consider raising the maximum number of CG iterations by running code in a linear_operator.settings.max_cg_iterations(value) context.\n",
            "  warnings.warn(\n",
            "/usr/local/lib/python3.10/dist-packages/linear_operator/utils/linear_cg.py:338: NumericalWarning: CG terminated in 1000 iterations with average residual norm 28.58025550842285 which is larger than the tolerance of 1 specified by linear_operator.settings.cg_tolerance. If performance is affected, consider raising the maximum number of CG iterations by running code in a linear_operator.settings.max_cg_iterations(value) context.\n",
            "  warnings.warn(\n",
            " 67%|██████▋   | 19992/30000 [41:43<01:47, 93.41it/s]"
          ]
        },
        {
          "output_type": "stream",
          "name": "stdout",
          "text": [
            "loss 9.184440612792969\n",
            "log_likelihood -5.1234564781188965\n",
            "kl_divergence 4.060984134674072\n",
            "log_prior 0.0\n",
            "outscale 16.99904441833496\n",
            "mean_module 15.052290916442871\n",
            "noise 11.57572078704834\n"
          ]
        },
        {
          "output_type": "stream",
          "name": "stderr",
          "text": [
            "\r 67%|██████▋   | 19992/30000 [41:56<01:47, 93.41it/s]/usr/local/lib/python3.10/dist-packages/linear_operator/utils/linear_cg.py:338: NumericalWarning: CG terminated in 1000 iterations with average residual norm 58.2259635925293 which is larger than the tolerance of 1 specified by linear_operator.settings.cg_tolerance. If performance is affected, consider raising the maximum number of CG iterations by running code in a linear_operator.settings.max_cg_iterations(value) context.\n",
            "  warnings.warn(\n",
            "/usr/local/lib/python3.10/dist-packages/linear_operator/utils/linear_cg.py:338: NumericalWarning: CG terminated in 1000 iterations with average residual norm 60.997657775878906 which is larger than the tolerance of 1 specified by linear_operator.settings.cg_tolerance. If performance is affected, consider raising the maximum number of CG iterations by running code in a linear_operator.settings.max_cg_iterations(value) context.\n",
            "  warnings.warn(\n",
            " 68%|██████▊   | 20498/30000 [42:47<01:42, 93.00it/s]"
          ]
        },
        {
          "output_type": "stream",
          "name": "stdout",
          "text": [
            "loss 8.909587860107422\n",
            "log_likelihood -5.0385637283325195\n",
            "kl_divergence 3.8710238933563232\n",
            "log_prior 0.0\n",
            "outscale 17.412275314331055\n",
            "mean_module 15.492431640625\n",
            "noise 11.985617637634277\n"
          ]
        },
        {
          "output_type": "stream",
          "name": "stderr",
          "text": [
            "\r 68%|██████▊   | 20498/30000 [43:06<01:42, 93.00it/s]/usr/local/lib/python3.10/dist-packages/linear_operator/utils/linear_cg.py:338: NumericalWarning: CG terminated in 1000 iterations with average residual norm 34.98460388183594 which is larger than the tolerance of 1 specified by linear_operator.settings.cg_tolerance. If performance is affected, consider raising the maximum number of CG iterations by running code in a linear_operator.settings.max_cg_iterations(value) context.\n",
            "  warnings.warn(\n",
            "/usr/local/lib/python3.10/dist-packages/linear_operator/utils/linear_cg.py:338: NumericalWarning: CG terminated in 1000 iterations with average residual norm 27.516080856323242 which is larger than the tolerance of 1 specified by linear_operator.settings.cg_tolerance. If performance is affected, consider raising the maximum number of CG iterations by running code in a linear_operator.settings.max_cg_iterations(value) context.\n",
            "  warnings.warn(\n",
            " 70%|██████▉   | 20991/30000 [43:52<01:38, 91.56it/s]"
          ]
        },
        {
          "output_type": "stream",
          "name": "stdout",
          "text": [
            "loss 8.652961730957031\n",
            "log_likelihood -4.958648681640625\n",
            "kl_divergence 3.694312572479248\n",
            "log_prior 0.0\n",
            "outscale 17.827022552490234\n",
            "mean_module 15.93138599395752\n",
            "noise 12.397727966308594\n"
          ]
        },
        {
          "output_type": "stream",
          "name": "stderr",
          "text": [
            "\r 70%|██████▉   | 20991/30000 [44:06<01:38, 91.56it/s]/usr/local/lib/python3.10/dist-packages/linear_operator/utils/linear_cg.py:338: NumericalWarning: CG terminated in 1000 iterations with average residual norm 44.21929931640625 which is larger than the tolerance of 1 specified by linear_operator.settings.cg_tolerance. If performance is affected, consider raising the maximum number of CG iterations by running code in a linear_operator.settings.max_cg_iterations(value) context.\n",
            "  warnings.warn(\n",
            "/usr/local/lib/python3.10/dist-packages/linear_operator/utils/linear_cg.py:338: NumericalWarning: CG terminated in 1000 iterations with average residual norm 80.34839630126953 which is larger than the tolerance of 1 specified by linear_operator.settings.cg_tolerance. If performance is affected, consider raising the maximum number of CG iterations by running code in a linear_operator.settings.max_cg_iterations(value) context.\n",
            "  warnings.warn(\n",
            " 72%|███████▏  | 21495/30000 [44:57<01:32, 91.53it/s]"
          ]
        },
        {
          "output_type": "stream",
          "name": "stdout",
          "text": [
            "loss 8.413257598876953\n",
            "log_likelihood -4.883490562438965\n",
            "kl_divergence 3.5297675132751465\n",
            "log_prior 0.0\n",
            "outscale 18.243350982666016\n",
            "mean_module 16.3690128326416\n",
            "noise 12.811990737915039\n"
          ]
        },
        {
          "output_type": "stream",
          "name": "stderr",
          "text": [
            "\r 72%|███████▏  | 21495/30000 [45:16<01:32, 91.53it/s]/usr/local/lib/python3.10/dist-packages/linear_operator/utils/linear_cg.py:338: NumericalWarning: CG terminated in 1000 iterations with average residual norm 30.452613830566406 which is larger than the tolerance of 1 specified by linear_operator.settings.cg_tolerance. If performance is affected, consider raising the maximum number of CG iterations by running code in a linear_operator.settings.max_cg_iterations(value) context.\n",
            "  warnings.warn(\n",
            "/usr/local/lib/python3.10/dist-packages/linear_operator/utils/linear_cg.py:338: NumericalWarning: CG terminated in 1000 iterations with average residual norm 46.9329719543457 which is larger than the tolerance of 1 specified by linear_operator.settings.cg_tolerance. If performance is affected, consider raising the maximum number of CG iterations by running code in a linear_operator.settings.max_cg_iterations(value) context.\n",
            "  warnings.warn(\n",
            " 73%|███████▎  | 21996/30000 [46:03<01:34, 84.44it/s]"
          ]
        },
        {
          "output_type": "stream",
          "name": "stdout",
          "text": [
            "loss 8.18927001953125\n",
            "log_likelihood -4.812841415405273\n",
            "kl_divergence 3.3764281272888184\n",
            "log_prior 0.0\n",
            "outscale 18.66136360168457\n",
            "mean_module 16.8053035736084\n",
            "noise 13.228288650512695\n"
          ]
        },
        {
          "output_type": "stream",
          "name": "stderr",
          "text": [
            "\r 73%|███████▎  | 21996/30000 [46:16<01:34, 84.44it/s]/usr/local/lib/python3.10/dist-packages/linear_operator/utils/linear_cg.py:338: NumericalWarning: CG terminated in 1000 iterations with average residual norm 50.55058288574219 which is larger than the tolerance of 1 specified by linear_operator.settings.cg_tolerance. If performance is affected, consider raising the maximum number of CG iterations by running code in a linear_operator.settings.max_cg_iterations(value) context.\n",
            "  warnings.warn(\n",
            "/usr/local/lib/python3.10/dist-packages/linear_operator/utils/linear_cg.py:338: NumericalWarning: CG terminated in 1000 iterations with average residual norm 41.477272033691406 which is larger than the tolerance of 1 specified by linear_operator.settings.cg_tolerance. If performance is affected, consider raising the maximum number of CG iterations by running code in a linear_operator.settings.max_cg_iterations(value) context.\n",
            "  warnings.warn(\n",
            " 75%|███████▍  | 22491/30000 [47:08<01:22, 91.24it/s]"
          ]
        },
        {
          "output_type": "stream",
          "name": "stdout",
          "text": [
            "loss 7.979962348937988\n",
            "log_likelihood -4.746513843536377\n",
            "kl_divergence 3.2334487438201904\n",
            "log_prior 0.0\n",
            "outscale 19.0809268951416\n",
            "mean_module 17.24004364013672\n",
            "noise 13.646563529968262\n"
          ]
        },
        {
          "output_type": "stream",
          "name": "stderr",
          "text": [
            "\r 75%|███████▍  | 22491/30000 [47:26<01:22, 91.24it/s]/usr/local/lib/python3.10/dist-packages/linear_operator/utils/linear_cg.py:338: NumericalWarning: CG terminated in 1000 iterations with average residual norm 29.25922203063965 which is larger than the tolerance of 1 specified by linear_operator.settings.cg_tolerance. If performance is affected, consider raising the maximum number of CG iterations by running code in a linear_operator.settings.max_cg_iterations(value) context.\n",
            "  warnings.warn(\n",
            "/usr/local/lib/python3.10/dist-packages/linear_operator/utils/linear_cg.py:338: NumericalWarning: CG terminated in 1000 iterations with average residual norm 33.67450714111328 which is larger than the tolerance of 1 specified by linear_operator.settings.cg_tolerance. If performance is affected, consider raising the maximum number of CG iterations by running code in a linear_operator.settings.max_cg_iterations(value) context.\n",
            "  warnings.warn(\n",
            " 77%|███████▋  | 23000/30000 [48:16<01:22, 84.55it/s]"
          ]
        },
        {
          "output_type": "stream",
          "name": "stdout",
          "text": [
            "loss 7.784343242645264\n",
            "log_likelihood -4.684260368347168\n",
            "kl_divergence 3.1000828742980957\n",
            "log_prior 0.0\n",
            "outscale 19.50205421447754\n",
            "mean_module 17.673154830932617\n",
            "noise 14.066764831542969\n"
          ]
        },
        {
          "output_type": "stream",
          "name": "stderr",
          "text": [
            "\r 77%|███████▋  | 23000/30000 [48:26<01:22, 84.55it/s]/usr/local/lib/python3.10/dist-packages/linear_operator/utils/linear_cg.py:338: NumericalWarning: CG terminated in 1000 iterations with average residual norm 51.571495056152344 which is larger than the tolerance of 1 specified by linear_operator.settings.cg_tolerance. If performance is affected, consider raising the maximum number of CG iterations by running code in a linear_operator.settings.max_cg_iterations(value) context.\n",
            "  warnings.warn(\n",
            "/usr/local/lib/python3.10/dist-packages/linear_operator/utils/linear_cg.py:338: NumericalWarning: CG terminated in 1000 iterations with average residual norm 72.2003402709961 which is larger than the tolerance of 1 specified by linear_operator.settings.cg_tolerance. If performance is affected, consider raising the maximum number of CG iterations by running code in a linear_operator.settings.max_cg_iterations(value) context.\n",
            "  warnings.warn(\n",
            " 78%|███████▊  | 23500/30000 [49:23<01:27, 73.88it/s]"
          ]
        },
        {
          "output_type": "stream",
          "name": "stdout",
          "text": [
            "loss 7.601503849029541\n",
            "log_likelihood -4.625885486602783\n",
            "kl_divergence 2.975618362426758\n",
            "log_prior 0.0\n",
            "outscale 19.924915313720703\n",
            "mean_module 18.104413986206055\n",
            "noise 14.48884391784668\n"
          ]
        },
        {
          "output_type": "stream",
          "name": "stderr",
          "text": [
            "\r 78%|███████▊  | 23500/30000 [49:36<01:27, 73.88it/s]/usr/local/lib/python3.10/dist-packages/linear_operator/utils/linear_cg.py:338: NumericalWarning: CG terminated in 1000 iterations with average residual norm 37.555538177490234 which is larger than the tolerance of 1 specified by linear_operator.settings.cg_tolerance. If performance is affected, consider raising the maximum number of CG iterations by running code in a linear_operator.settings.max_cg_iterations(value) context.\n",
            "  warnings.warn(\n",
            "/usr/local/lib/python3.10/dist-packages/linear_operator/utils/linear_cg.py:338: NumericalWarning: CG terminated in 1000 iterations with average residual norm 43.728641510009766 which is larger than the tolerance of 1 specified by linear_operator.settings.cg_tolerance. If performance is affected, consider raising the maximum number of CG iterations by running code in a linear_operator.settings.max_cg_iterations(value) context.\n",
            "  warnings.warn(\n",
            " 80%|███████▉  | 23995/30000 [50:28<01:04, 92.77it/s]"
          ]
        },
        {
          "output_type": "stream",
          "name": "stdout",
          "text": [
            "loss 7.430647850036621\n",
            "log_likelihood -4.571205139160156\n",
            "kl_divergence 2.8594424724578857\n",
            "log_prior 0.0\n",
            "outscale 20.349348068237305\n",
            "mean_module 18.53363609313965\n",
            "noise 14.912752151489258\n"
          ]
        },
        {
          "output_type": "stream",
          "name": "stderr",
          "text": [
            "\r 80%|███████▉  | 23995/30000 [50:46<01:04, 92.77it/s]/usr/local/lib/python3.10/dist-packages/linear_operator/utils/linear_cg.py:338: NumericalWarning: CG terminated in 1000 iterations with average residual norm 55.967708587646484 which is larger than the tolerance of 1 specified by linear_operator.settings.cg_tolerance. If performance is affected, consider raising the maximum number of CG iterations by running code in a linear_operator.settings.max_cg_iterations(value) context.\n",
            "  warnings.warn(\n",
            "/usr/local/lib/python3.10/dist-packages/linear_operator/utils/linear_cg.py:338: NumericalWarning: CG terminated in 1000 iterations with average residual norm 52.75840759277344 which is larger than the tolerance of 1 specified by linear_operator.settings.cg_tolerance. If performance is affected, consider raising the maximum number of CG iterations by running code in a linear_operator.settings.max_cg_iterations(value) context.\n",
            "  warnings.warn(\n",
            " 82%|████████▏ | 24498/30000 [51:33<00:56, 97.26it/s]"
          ]
        },
        {
          "output_type": "stream",
          "name": "stdout",
          "text": [
            "loss 7.271014213562012\n",
            "log_likelihood -4.520028591156006\n",
            "kl_divergence 2.750985622406006\n",
            "log_prior 0.0\n",
            "outscale 20.775365829467773\n",
            "mean_module 18.960630416870117\n",
            "noise 15.33845043182373\n"
          ]
        },
        {
          "output_type": "stream",
          "name": "stderr",
          "text": [
            "\r 82%|████████▏ | 24498/30000 [51:46<00:56, 97.26it/s]/usr/local/lib/python3.10/dist-packages/linear_operator/utils/linear_cg.py:338: NumericalWarning: CG terminated in 1000 iterations with average residual norm 58.231483459472656 which is larger than the tolerance of 1 specified by linear_operator.settings.cg_tolerance. If performance is affected, consider raising the maximum number of CG iterations by running code in a linear_operator.settings.max_cg_iterations(value) context.\n",
            "  warnings.warn(\n",
            "/usr/local/lib/python3.10/dist-packages/linear_operator/utils/linear_cg.py:338: NumericalWarning: CG terminated in 1000 iterations with average residual norm 58.37222671508789 which is larger than the tolerance of 1 specified by linear_operator.settings.cg_tolerance. If performance is affected, consider raising the maximum number of CG iterations by running code in a linear_operator.settings.max_cg_iterations(value) context.\n",
            "  warnings.warn(\n",
            " 83%|████████▎ | 24991/30000 [52:38<00:54, 91.54it/s]"
          ]
        },
        {
          "output_type": "stream",
          "name": "stdout",
          "text": [
            "loss 7.121906280517578\n",
            "log_likelihood -4.472170829772949\n",
            "kl_divergence 2.649735689163208\n",
            "log_prior 0.0\n",
            "outscale 21.20307159423828\n",
            "mean_module 19.38505744934082\n",
            "noise 15.765924453735352\n"
          ]
        },
        {
          "output_type": "stream",
          "name": "stderr",
          "text": [
            "\r 83%|████████▎ | 24991/30000 [52:56<00:54, 91.54it/s]/usr/local/lib/python3.10/dist-packages/linear_operator/utils/linear_cg.py:338: NumericalWarning: CG terminated in 1000 iterations with average residual norm 65.00049591064453 which is larger than the tolerance of 1 specified by linear_operator.settings.cg_tolerance. If performance is affected, consider raising the maximum number of CG iterations by running code in a linear_operator.settings.max_cg_iterations(value) context.\n",
            "  warnings.warn(\n",
            "/usr/local/lib/python3.10/dist-packages/linear_operator/utils/linear_cg.py:338: NumericalWarning: CG terminated in 1000 iterations with average residual norm 50.82529067993164 which is larger than the tolerance of 1 specified by linear_operator.settings.cg_tolerance. If performance is affected, consider raising the maximum number of CG iterations by running code in a linear_operator.settings.max_cg_iterations(value) context.\n",
            "  warnings.warn(\n",
            " 85%|████████▍ | 25491/30000 [53:42<00:48, 92.29it/s]"
          ]
        },
        {
          "output_type": "stream",
          "name": "stdout",
          "text": [
            "loss 6.982677459716797\n",
            "log_likelihood -4.42747163772583\n",
            "kl_divergence 2.555206060409546\n",
            "log_prior 0.0\n",
            "outscale 21.6324405670166\n",
            "mean_module 19.806684494018555\n",
            "noise 16.195140838623047\n"
          ]
        },
        {
          "output_type": "stream",
          "name": "stderr",
          "text": [
            "\r 85%|████████▍ | 25491/30000 [53:56<00:48, 92.29it/s]/usr/local/lib/python3.10/dist-packages/linear_operator/utils/linear_cg.py:338: NumericalWarning: CG terminated in 1000 iterations with average residual norm 73.84143829345703 which is larger than the tolerance of 1 specified by linear_operator.settings.cg_tolerance. If performance is affected, consider raising the maximum number of CG iterations by running code in a linear_operator.settings.max_cg_iterations(value) context.\n",
            "  warnings.warn(\n",
            "/usr/local/lib/python3.10/dist-packages/linear_operator/utils/linear_cg.py:338: NumericalWarning: CG terminated in 1000 iterations with average residual norm 66.73332977294922 which is larger than the tolerance of 1 specified by linear_operator.settings.cg_tolerance. If performance is affected, consider raising the maximum number of CG iterations by running code in a linear_operator.settings.max_cg_iterations(value) context.\n",
            "  warnings.warn(\n",
            " 87%|████████▋ | 26000/30000 [54:47<00:48, 83.30it/s]"
          ]
        },
        {
          "output_type": "stream",
          "name": "stdout",
          "text": [
            "loss 6.852750301361084\n",
            "log_likelihood -4.385764122009277\n",
            "kl_divergence 2.4669861793518066\n",
            "log_prior 0.0\n",
            "outscale 22.063426971435547\n",
            "mean_module 20.2250919342041\n",
            "noise 16.626052856445312\n"
          ]
        },
        {
          "output_type": "stream",
          "name": "stderr",
          "text": [
            "\r 87%|████████▋ | 26000/30000 [55:06<00:48, 83.30it/s]/usr/local/lib/python3.10/dist-packages/linear_operator/utils/linear_cg.py:338: NumericalWarning: CG terminated in 1000 iterations with average residual norm 34.07482147216797 which is larger than the tolerance of 1 specified by linear_operator.settings.cg_tolerance. If performance is affected, consider raising the maximum number of CG iterations by running code in a linear_operator.settings.max_cg_iterations(value) context.\n",
            "  warnings.warn(\n",
            "/usr/local/lib/python3.10/dist-packages/linear_operator/utils/linear_cg.py:338: NumericalWarning: CG terminated in 1000 iterations with average residual norm 24.641263961791992 which is larger than the tolerance of 1 specified by linear_operator.settings.cg_tolerance. If performance is affected, consider raising the maximum number of CG iterations by running code in a linear_operator.settings.max_cg_iterations(value) context.\n",
            "  warnings.warn(\n",
            " 88%|████████▊ | 26492/30000 [55:51<00:37, 92.98it/s]"
          ]
        },
        {
          "output_type": "stream",
          "name": "stdout",
          "text": [
            "loss 6.731554985046387\n",
            "log_likelihood -4.346900463104248\n",
            "kl_divergence 2.3846545219421387\n",
            "log_prior 0.0\n",
            "outscale 22.496049880981445\n",
            "mean_module 20.639965057373047\n",
            "noise 17.058629989624023\n"
          ]
        },
        {
          "output_type": "stream",
          "name": "stderr",
          "text": [
            "\r 88%|████████▊ | 26492/30000 [56:06<00:37, 92.98it/s]/usr/local/lib/python3.10/dist-packages/linear_operator/utils/linear_cg.py:338: NumericalWarning: CG terminated in 1000 iterations with average residual norm 100.54495239257812 which is larger than the tolerance of 1 specified by linear_operator.settings.cg_tolerance. If performance is affected, consider raising the maximum number of CG iterations by running code in a linear_operator.settings.max_cg_iterations(value) context.\n",
            "  warnings.warn(\n",
            "/usr/local/lib/python3.10/dist-packages/linear_operator/utils/linear_cg.py:338: NumericalWarning: CG terminated in 1000 iterations with average residual norm 97.5426025390625 which is larger than the tolerance of 1 specified by linear_operator.settings.cg_tolerance. If performance is affected, consider raising the maximum number of CG iterations by running code in a linear_operator.settings.max_cg_iterations(value) context.\n",
            "  warnings.warn(\n",
            " 90%|████████▉ | 26995/30000 [56:56<00:33, 89.67it/s]"
          ]
        },
        {
          "output_type": "stream",
          "name": "stdout",
          "text": [
            "loss 6.618560791015625\n",
            "log_likelihood -4.31074857711792\n",
            "kl_divergence 2.307812452316284\n",
            "log_prior 0.0\n",
            "outscale 22.930418014526367\n",
            "mean_module 21.05082893371582\n",
            "noise 17.49297332763672\n"
          ]
        },
        {
          "output_type": "stream",
          "name": "stderr",
          "text": [
            "\r 90%|████████▉ | 26995/30000 [57:06<00:33, 89.67it/s]/usr/local/lib/python3.10/dist-packages/linear_operator/utils/linear_cg.py:338: NumericalWarning: CG terminated in 1000 iterations with average residual norm 57.35234069824219 which is larger than the tolerance of 1 specified by linear_operator.settings.cg_tolerance. If performance is affected, consider raising the maximum number of CG iterations by running code in a linear_operator.settings.max_cg_iterations(value) context.\n",
            "  warnings.warn(\n",
            "/usr/local/lib/python3.10/dist-packages/linear_operator/utils/linear_cg.py:338: NumericalWarning: CG terminated in 1000 iterations with average residual norm 32.75473403930664 which is larger than the tolerance of 1 specified by linear_operator.settings.cg_tolerance. If performance is affected, consider raising the maximum number of CG iterations by running code in a linear_operator.settings.max_cg_iterations(value) context.\n",
            "  warnings.warn(\n",
            " 92%|█████████▏| 27491/30000 [58:00<00:27, 91.89it/s]"
          ]
        },
        {
          "output_type": "stream",
          "name": "stdout",
          "text": [
            "loss 6.513301849365234\n",
            "log_likelihood -4.277150630950928\n",
            "kl_divergence 2.2361509799957275\n",
            "log_prior 0.0\n",
            "outscale 23.366479873657227\n",
            "mean_module 21.45707893371582\n",
            "noise 17.92896270751953\n"
          ]
        },
        {
          "output_type": "stream",
          "name": "stderr",
          "text": [
            "\r 92%|█████████▏| 27491/30000 [58:16<00:27, 91.89it/s]/usr/local/lib/python3.10/dist-packages/linear_operator/utils/linear_cg.py:338: NumericalWarning: CG terminated in 1000 iterations with average residual norm 66.07554626464844 which is larger than the tolerance of 1 specified by linear_operator.settings.cg_tolerance. If performance is affected, consider raising the maximum number of CG iterations by running code in a linear_operator.settings.max_cg_iterations(value) context.\n",
            "  warnings.warn(\n",
            "/usr/local/lib/python3.10/dist-packages/linear_operator/utils/linear_cg.py:338: NumericalWarning: CG terminated in 1000 iterations with average residual norm 75.17011260986328 which is larger than the tolerance of 1 specified by linear_operator.settings.cg_tolerance. If performance is affected, consider raising the maximum number of CG iterations by running code in a linear_operator.settings.max_cg_iterations(value) context.\n",
            "  warnings.warn(\n",
            " 93%|█████████▎| 27992/30000 [59:05<00:21, 92.62it/s]"
          ]
        },
        {
          "output_type": "stream",
          "name": "stdout",
          "text": [
            "loss 6.415316581726074\n",
            "log_likelihood -4.245999336242676\n",
            "kl_divergence 2.1693172454833984\n",
            "log_prior 0.0\n",
            "outscale 23.804216384887695\n",
            "mean_module 21.858125686645508\n",
            "noise 18.366567611694336\n"
          ]
        },
        {
          "output_type": "stream",
          "name": "stderr",
          "text": [
            "\r 93%|█████████▎| 27992/30000 [59:16<00:21, 92.62it/s]/usr/local/lib/python3.10/dist-packages/linear_operator/utils/linear_cg.py:338: NumericalWarning: CG terminated in 1000 iterations with average residual norm 54.37773132324219 which is larger than the tolerance of 1 specified by linear_operator.settings.cg_tolerance. If performance is affected, consider raising the maximum number of CG iterations by running code in a linear_operator.settings.max_cg_iterations(value) context.\n",
            "  warnings.warn(\n",
            "/usr/local/lib/python3.10/dist-packages/linear_operator/utils/linear_cg.py:338: NumericalWarning: CG terminated in 1000 iterations with average residual norm 98.26069641113281 which is larger than the tolerance of 1 specified by linear_operator.settings.cg_tolerance. If performance is affected, consider raising the maximum number of CG iterations by running code in a linear_operator.settings.max_cg_iterations(value) context.\n",
            "  warnings.warn(\n",
            " 95%|█████████▍| 28494/30000 [1:00:11<00:16, 89.68it/s]"
          ]
        },
        {
          "output_type": "stream",
          "name": "stdout",
          "text": [
            "loss 6.3241729736328125\n",
            "log_likelihood -4.217173099517822\n",
            "kl_divergence 2.106999635696411\n",
            "log_prior 0.0\n",
            "outscale 24.243640899658203\n",
            "mean_module 22.25318145751953\n",
            "noise 18.80579376220703\n"
          ]
        },
        {
          "output_type": "stream",
          "name": "stderr",
          "text": [
            "\r 95%|█████████▍| 28494/30000 [1:00:26<00:16, 89.68it/s]/usr/local/lib/python3.10/dist-packages/linear_operator/utils/linear_cg.py:338: NumericalWarning: CG terminated in 1000 iterations with average residual norm 48.07136154174805 which is larger than the tolerance of 1 specified by linear_operator.settings.cg_tolerance. If performance is affected, consider raising the maximum number of CG iterations by running code in a linear_operator.settings.max_cg_iterations(value) context.\n",
            "  warnings.warn(\n",
            "/usr/local/lib/python3.10/dist-packages/linear_operator/utils/linear_cg.py:338: NumericalWarning: CG terminated in 1000 iterations with average residual norm 44.25457000732422 which is larger than the tolerance of 1 specified by linear_operator.settings.cg_tolerance. If performance is affected, consider raising the maximum number of CG iterations by running code in a linear_operator.settings.max_cg_iterations(value) context.\n",
            "  warnings.warn(\n",
            " 97%|█████████▋| 28994/30000 [1:01:16<00:10, 92.83it/s]"
          ]
        },
        {
          "output_type": "stream",
          "name": "stdout",
          "text": [
            "loss 6.239444732666016\n",
            "log_likelihood -4.190556526184082\n",
            "kl_divergence 2.0488884449005127\n",
            "log_prior 0.0\n",
            "outscale 24.684764862060547\n",
            "mean_module 22.641372680664062\n",
            "noise 19.246749877929688\n"
          ]
        },
        {
          "output_type": "stream",
          "name": "stderr",
          "text": [
            "\r 97%|█████████▋| 28994/30000 [1:01:26<00:10, 92.83it/s]/usr/local/lib/python3.10/dist-packages/linear_operator/utils/linear_cg.py:338: NumericalWarning: CG terminated in 1000 iterations with average residual norm 62.68220138549805 which is larger than the tolerance of 1 specified by linear_operator.settings.cg_tolerance. If performance is affected, consider raising the maximum number of CG iterations by running code in a linear_operator.settings.max_cg_iterations(value) context.\n",
            "  warnings.warn(\n",
            "/usr/local/lib/python3.10/dist-packages/linear_operator/utils/linear_cg.py:338: NumericalWarning: CG terminated in 1000 iterations with average residual norm 69.87661743164062 which is larger than the tolerance of 1 specified by linear_operator.settings.cg_tolerance. If performance is affected, consider raising the maximum number of CG iterations by running code in a linear_operator.settings.max_cg_iterations(value) context.\n",
            "  warnings.warn(\n",
            " 98%|█████████▊| 29497/30000 [1:02:21<00:05, 89.24it/s]"
          ]
        },
        {
          "output_type": "stream",
          "name": "stdout",
          "text": [
            "loss 6.160739898681641\n",
            "log_likelihood -4.166031360626221\n",
            "kl_divergence 1.9947086572647095\n",
            "log_prior 0.0\n",
            "outscale 25.127687454223633\n",
            "mean_module 23.0216007232666\n",
            "noise 19.689287185668945\n"
          ]
        },
        {
          "output_type": "stream",
          "name": "stderr",
          "text": [
            "\r 98%|█████████▊| 29497/30000 [1:02:36<00:05, 89.24it/s]/usr/local/lib/python3.10/dist-packages/linear_operator/utils/linear_cg.py:338: NumericalWarning: CG terminated in 1000 iterations with average residual norm 47.5715217590332 which is larger than the tolerance of 1 specified by linear_operator.settings.cg_tolerance. If performance is affected, consider raising the maximum number of CG iterations by running code in a linear_operator.settings.max_cg_iterations(value) context.\n",
            "  warnings.warn(\n",
            "/usr/local/lib/python3.10/dist-packages/linear_operator/utils/linear_cg.py:338: NumericalWarning: CG terminated in 1000 iterations with average residual norm 63.266929626464844 which is larger than the tolerance of 1 specified by linear_operator.settings.cg_tolerance. If performance is affected, consider raising the maximum number of CG iterations by running code in a linear_operator.settings.max_cg_iterations(value) context.\n",
            "  warnings.warn(\n",
            "100%|██████████| 30000/30000 [1:03:26<00:00,  7.88it/s]\n"
          ]
        }
      ]
    },
    {
      "cell_type": "code",
      "source": [
        "method = 'ELBO'\n",
        "params_mc_benchmark = pd.DataFrame(params_log).T\n",
        "metrics_mc_benchmark = pd.DataFrame(metrics).T\n",
        "mc_benchmark_eval = pd.concat([params_mc_benchmark, metrics_mc_benchmark], axis=1)\n",
        "cols = mc_benchmark_eval.columns.to_list()\n",
        "cols.remove('log_prior')\n",
        "cols.remove('npld_posterior')\n",
        "\n",
        "fig, ax = plt.subplots(3,3, figsize=(15,11), sharex=True)\n",
        "for col_, ax_ in zip(cols, ax.flatten()):\n",
        "  mc_benchmark_eval[col_].dropna().astype('float').plot(title='%s -  %s: %.3f'%(method, col_,  mc_benchmark_eval[col_].dropna().astype('float').tail(1).values[0]), ax=ax_)"
      ],
      "metadata": {
        "colab": {
          "base_uri": "https://localhost:8080/",
          "height": 930
        },
        "id": "hkspPd7fnchT",
        "outputId": "a9f87947-2a40-48b6-b0c8-e3e0bef6a1f9"
      },
      "execution_count": 112,
      "outputs": [
        {
          "output_type": "display_data",
          "data": {
            "text/plain": [
              "<Figure size 1500x1100 with 9 Axes>"
            ],
            "image/png": "[encoded data removed]"
          },
          "metadata": {}
        }
      ]
    },
    {
      "cell_type": "code",
      "source": [
        "print_module(likelihood)\n",
        "print_module(model)"
      ],
      "metadata": {
        "colab": {
          "base_uri": "https://localhost:8080/"
        },
        "id": "_El5d8Ry5Nrc",
        "outputId": "4eac0f15-a8fb-405c-e3b6-a7d3e083f505"
      },
      "execution_count": 21,
      "outputs": [
        {
          "output_type": "stream",
          "name": "stdout",
          "text": [
            "noise.noise                         (1,)\n",
            "[4.7599425]\n",
            "variational_strategy._variational_distribution.variational_mean (30,)\n",
            "[ 6.738052    7.9601417   4.328383   -0.46038252  4.217004    4.1920586\n",
            "  7.2205386   0.03567842  5.9314427   1.4093813   8.022021    5.936168\n",
            "  6.778863   -7.6538086   5.154382    1.4801292  -1.9148163  -2.7005591\n",
            "  4.7160583   0.76401526 -0.09212496  1.2175506  -0.30904457 -0.2657467\n",
            "  0.10758509 -0.21583265  0.02524494 -0.31419936  0.07005301  0.125154  ]\n",
            "variational_strategy._variational_distribution.chol_variational_covar (30, 30)\n",
            "[[ 4.14845020e-01  0.00000000e+00  0.00000000e+00  0.00000000e+00\n",
            "   0.00000000e+00  0.00000000e+00  0.00000000e+00  0.00000000e+00\n",
            "   0.00000000e+00  0.00000000e+00  0.00000000e+00  0.00000000e+00\n",
            "   0.00000000e+00  0.00000000e+00  0.00000000e+00  0.00000000e+00\n",
            "   0.00000000e+00  0.00000000e+00  0.00000000e+00  0.00000000e+00\n",
            "   0.00000000e+00  0.00000000e+00  0.00000000e+00  0.00000000e+00\n",
            "   0.00000000e+00  0.00000000e+00  0.00000000e+00  0.00000000e+00\n",
            "   0.00000000e+00  0.00000000e+00]\n",
            " [-4.25777808e-02  6.20809972e-01  0.00000000e+00  0.00000000e+00\n",
            "   0.00000000e+00  0.00000000e+00  0.00000000e+00  0.00000000e+00\n",
            "   0.00000000e+00  0.00000000e+00  0.00000000e+00  0.00000000e+00\n",
            "   0.00000000e+00  0.00000000e+00  0.00000000e+00  0.00000000e+00\n",
            "   0.00000000e+00  0.00000000e+00  0.00000000e+00  0.00000000e+00\n",
            "   0.00000000e+00  0.00000000e+00  0.00000000e+00  0.00000000e+00\n",
            "   0.00000000e+00  0.00000000e+00  0.00000000e+00  0.00000000e+00\n",
            "   0.00000000e+00  0.00000000e+00]\n",
            " [-1.40640795e-01  1.32144168e-01  2.91721255e-01  0.00000000e+00\n",
            "   0.00000000e+00  0.00000000e+00  0.00000000e+00  0.00000000e+00\n",
            "   0.00000000e+00  0.00000000e+00  0.00000000e+00  0.00000000e+00\n",
            "   0.00000000e+00  0.00000000e+00  0.00000000e+00  0.00000000e+00\n",
            "   0.00000000e+00  0.00000000e+00  0.00000000e+00  0.00000000e+00\n",
            "   0.00000000e+00  0.00000000e+00  0.00000000e+00  0.00000000e+00\n",
            "   0.00000000e+00  0.00000000e+00  0.00000000e+00  0.00000000e+00\n",
            "   0.00000000e+00  0.00000000e+00]\n",
            " [-1.73103774e-03  1.89983137e-02 -8.36359039e-02  6.05008543e-01\n",
            "   0.00000000e+00  0.00000000e+00  0.00000000e+00  0.00000000e+00\n",
            "   0.00000000e+00  0.00000000e+00  0.00000000e+00  0.00000000e+00\n",
            "   0.00000000e+00  0.00000000e+00  0.00000000e+00  0.00000000e+00\n",
            "   0.00000000e+00  0.00000000e+00  0.00000000e+00  0.00000000e+00\n",
            "   0.00000000e+00  0.00000000e+00  0.00000000e+00  0.00000000e+00\n",
            "   0.00000000e+00  0.00000000e+00  0.00000000e+00  0.00000000e+00\n",
            "   0.00000000e+00  0.00000000e+00]\n",
            " [ 1.40373828e-02 -1.61551628e-02 -5.92902154e-02  3.54417413e-02\n",
            "   4.20335859e-01  0.00000000e+00  0.00000000e+00  0.00000000e+00\n",
            "   0.00000000e+00  0.00000000e+00  0.00000000e+00  0.00000000e+00\n",
            "   0.00000000e+00  0.00000000e+00  0.00000000e+00  0.00000000e+00\n",
            "   0.00000000e+00  0.00000000e+00  0.00000000e+00  0.00000000e+00\n",
            "   0.00000000e+00  0.00000000e+00  0.00000000e+00  0.00000000e+00\n",
            "   0.00000000e+00  0.00000000e+00  0.00000000e+00  0.00000000e+00\n",
            "   0.00000000e+00  0.00000000e+00]\n",
            " [-1.36383951e-01  8.77299756e-02  6.73349574e-02 -1.33332834e-01\n",
            "   7.25064352e-02  7.61694372e-01  0.00000000e+00  0.00000000e+00\n",
            "   0.00000000e+00  0.00000000e+00  0.00000000e+00  0.00000000e+00\n",
            "   0.00000000e+00  0.00000000e+00  0.00000000e+00  0.00000000e+00\n",
            "   0.00000000e+00  0.00000000e+00  0.00000000e+00  0.00000000e+00\n",
            "   0.00000000e+00  0.00000000e+00  0.00000000e+00  0.00000000e+00\n",
            "   0.00000000e+00  0.00000000e+00  0.00000000e+00  0.00000000e+00\n",
            "   0.00000000e+00  0.00000000e+00]\n",
            " [-7.99655765e-02 -3.07014167e-01 -3.39416265e-02  2.36844155e-03\n",
            "   6.46710722e-03 -5.50224073e-02  6.19371414e-01  0.00000000e+00\n",
            "   0.00000000e+00  0.00000000e+00  0.00000000e+00  0.00000000e+00\n",
            "   0.00000000e+00  0.00000000e+00  0.00000000e+00  0.00000000e+00\n",
            "   0.00000000e+00  0.00000000e+00  0.00000000e+00  0.00000000e+00\n",
            "   0.00000000e+00  0.00000000e+00  0.00000000e+00  0.00000000e+00\n",
            "   0.00000000e+00  0.00000000e+00  0.00000000e+00  0.00000000e+00\n",
            "   0.00000000e+00  0.00000000e+00]\n",
            " [ 1.24537647e-02 -4.39564465e-03  4.50809225e-02 -8.52994435e-03\n",
            "  -3.29605162e-01 -8.57247189e-02  7.69556966e-03  6.28462791e-01\n",
            "   0.00000000e+00  0.00000000e+00  0.00000000e+00  0.00000000e+00\n",
            "   0.00000000e+00  0.00000000e+00  0.00000000e+00  0.00000000e+00\n",
            "   0.00000000e+00  0.00000000e+00  0.00000000e+00  0.00000000e+00\n",
            "   0.00000000e+00  0.00000000e+00  0.00000000e+00  0.00000000e+00\n",
            "   0.00000000e+00  0.00000000e+00  0.00000000e+00  0.00000000e+00\n",
            "   0.00000000e+00  0.00000000e+00]\n",
            " [ 5.04256552e-03 -3.52464756e-03  2.62721274e-02 -4.59696306e-03\n",
            "  -9.91186127e-02 -7.09305406e-02 -1.12820603e-03 -3.84698436e-02\n",
            "   6.57430589e-01  0.00000000e+00  0.00000000e+00  0.00000000e+00\n",
            "   0.00000000e+00  0.00000000e+00  0.00000000e+00  0.00000000e+00\n",
            "   0.00000000e+00  0.00000000e+00  0.00000000e+00  0.00000000e+00\n",
            "   0.00000000e+00  0.00000000e+00  0.00000000e+00  0.00000000e+00\n",
            "   0.00000000e+00  0.00000000e+00  0.00000000e+00  0.00000000e+00\n",
            "   0.00000000e+00  0.00000000e+00]\n",
            " [-2.86607305e-03  7.20394729e-03 -1.35408258e-02  2.57442822e-03\n",
            "   6.72716945e-02  1.78873297e-02 -8.93646479e-03 -1.55790016e-01\n",
            "   1.70325767e-02  6.25499666e-01  0.00000000e+00  0.00000000e+00\n",
            "   0.00000000e+00  0.00000000e+00  0.00000000e+00  0.00000000e+00\n",
            "   0.00000000e+00  0.00000000e+00  0.00000000e+00  0.00000000e+00\n",
            "   0.00000000e+00  0.00000000e+00  0.00000000e+00  0.00000000e+00\n",
            "   0.00000000e+00  0.00000000e+00  0.00000000e+00  0.00000000e+00\n",
            "   0.00000000e+00  0.00000000e+00]\n",
            " [ 1.19565502e-02  1.09456358e-02  5.24062198e-03 -3.48812609e-04\n",
            "  -2.20554993e-02  1.15530621e-02 -1.58916652e-01 -9.19019505e-02\n",
            "   6.38910010e-02 -7.99600333e-02  5.12909353e-01  0.00000000e+00\n",
            "   0.00000000e+00  0.00000000e+00  0.00000000e+00  0.00000000e+00\n",
            "   0.00000000e+00  0.00000000e+00  0.00000000e+00  0.00000000e+00\n",
            "   0.00000000e+00  0.00000000e+00  0.00000000e+00  0.00000000e+00\n",
            "   0.00000000e+00  0.00000000e+00  0.00000000e+00  0.00000000e+00\n",
            "   0.00000000e+00  0.00000000e+00]\n",
            " [-7.44748935e-02 -1.01894282e-01 -3.33752930e-02  9.52374004e-03\n",
            "  -3.51248085e-02 -2.56061852e-02 -2.32292756e-01 -2.65729856e-02\n",
            "   2.18197629e-02  1.10303359e-02 -1.62966594e-01  8.43672395e-01\n",
            "   0.00000000e+00  0.00000000e+00  0.00000000e+00  0.00000000e+00\n",
            "   0.00000000e+00  0.00000000e+00  0.00000000e+00  0.00000000e+00\n",
            "   0.00000000e+00  0.00000000e+00  0.00000000e+00  0.00000000e+00\n",
            "   0.00000000e+00  0.00000000e+00  0.00000000e+00  0.00000000e+00\n",
            "   0.00000000e+00  0.00000000e+00]\n",
            " [ 1.24996295e-04 -5.42458473e-03 -4.76212278e-02  2.83734291e-03\n",
            "  -1.18175261e-01  8.99093598e-02  4.67469014e-04  1.16471440e-01\n",
            "  -1.18015677e-01 -3.50793004e-02 -8.65949411e-03  1.07196355e-02\n",
            "   6.34193957e-01  0.00000000e+00  0.00000000e+00  0.00000000e+00\n",
            "   0.00000000e+00  0.00000000e+00  0.00000000e+00  0.00000000e+00\n",
            "   0.00000000e+00  0.00000000e+00  0.00000000e+00  0.00000000e+00\n",
            "   0.00000000e+00  0.00000000e+00  0.00000000e+00  0.00000000e+00\n",
            "   0.00000000e+00  0.00000000e+00]\n",
            " [ 1.35204762e-01 -1.12276837e-01 -1.27989635e-01 -8.42612237e-03\n",
            "  -8.93513206e-03  2.40694702e-01  1.05045093e-02  2.69322116e-02\n",
            "   1.38761674e-03 -7.55773904e-03 -2.11211946e-03  5.58352657e-02\n",
            "  -1.30673885e-01  6.90991282e-01  0.00000000e+00  0.00000000e+00\n",
            "   0.00000000e+00  0.00000000e+00  0.00000000e+00  0.00000000e+00\n",
            "   0.00000000e+00  0.00000000e+00  0.00000000e+00  0.00000000e+00\n",
            "   0.00000000e+00  0.00000000e+00  0.00000000e+00  0.00000000e+00\n",
            "   0.00000000e+00  0.00000000e+00]\n",
            " [-1.88103765e-01  1.30175039e-01 -2.05073744e-01  3.77289616e-02\n",
            "  -1.09252900e-01  4.44502458e-02 -2.64009368e-02 -2.17717942e-02\n",
            "   6.50358349e-02 -9.36754281e-04  2.69097189e-04 -2.83787716e-02\n",
            "  -2.87719201e-02  1.30350396e-01  8.47780049e-01  0.00000000e+00\n",
            "   0.00000000e+00  0.00000000e+00  0.00000000e+00  0.00000000e+00\n",
            "   0.00000000e+00  0.00000000e+00  0.00000000e+00  0.00000000e+00\n",
            "   0.00000000e+00  0.00000000e+00  0.00000000e+00  0.00000000e+00\n",
            "   0.00000000e+00  0.00000000e+00]\n",
            " [ 2.41899639e-02  1.12533628e-03  5.85492514e-03  8.29664583e-04\n",
            "  -1.35122770e-02  6.06681081e-03 -2.14949418e-02 -1.17357960e-02\n",
            "   3.21580889e-03  1.35527807e-03 -1.37583181e-01 -3.25207673e-02\n",
            "   1.36562565e-03 -1.44809363e-02  3.56042162e-02  9.67455566e-01\n",
            "   0.00000000e+00  0.00000000e+00  0.00000000e+00  0.00000000e+00\n",
            "   0.00000000e+00  0.00000000e+00  0.00000000e+00  0.00000000e+00\n",
            "   0.00000000e+00  0.00000000e+00  0.00000000e+00  0.00000000e+00\n",
            "   0.00000000e+00  0.00000000e+00]\n",
            " [-2.89061628e-02  1.62435044e-02 -2.60992832e-02  3.94069403e-03\n",
            "   5.29053397e-02  1.76676586e-02 -7.20869750e-03  2.62795016e-02\n",
            "  -3.80259715e-02 -4.99809207e-03  2.13173255e-02 -1.62218027e-02\n",
            "  -2.50425581e-02 -7.23855123e-02 -2.77878493e-02 -3.80479870e-03\n",
            "   9.80244398e-01  0.00000000e+00  0.00000000e+00  0.00000000e+00\n",
            "   0.00000000e+00  0.00000000e+00  0.00000000e+00  0.00000000e+00\n",
            "   0.00000000e+00  0.00000000e+00  0.00000000e+00  0.00000000e+00\n",
            "   0.00000000e+00  0.00000000e+00]\n",
            " [-8.47941823e-03  6.22783322e-03  6.39903918e-03 -1.11032638e-03\n",
            "   1.12303294e-01 -4.81355414e-02 -2.08176635e-02  3.06956451e-02\n",
            "  -1.03878319e-01 -1.21280393e-02  7.00979754e-02  3.26756500e-02\n",
            "   2.60477886e-03 -5.70862181e-03  7.73051456e-02  5.89579996e-03\n",
            "  -5.38334511e-02  9.14994359e-01  0.00000000e+00  0.00000000e+00\n",
            "   0.00000000e+00  0.00000000e+00  0.00000000e+00  0.00000000e+00\n",
            "   0.00000000e+00  0.00000000e+00  0.00000000e+00  0.00000000e+00\n",
            "   0.00000000e+00  0.00000000e+00]\n",
            " [ 6.15636744e-02 -3.71761993e-02  3.38291340e-02 -5.03438758e-03\n",
            "  -1.77631214e-01  1.28727648e-02  2.45772582e-02 -1.41419590e-01\n",
            "   1.34426728e-01  2.16711294e-02 -9.22868922e-02  2.87676584e-02\n",
            "   1.40412524e-02  1.50759155e-02  6.89213211e-03  8.22600909e-03\n",
            "   5.56016564e-02  2.17486262e-01  8.53219867e-01  0.00000000e+00\n",
            "   0.00000000e+00  0.00000000e+00  0.00000000e+00  0.00000000e+00\n",
            "   0.00000000e+00  0.00000000e+00  0.00000000e+00  0.00000000e+00\n",
            "   0.00000000e+00  0.00000000e+00]\n",
            " [-4.07606959e-02  2.41748616e-02 -8.00576806e-03 -3.88176600e-03\n",
            "  -5.07390462e-02 -8.03536794e-04  1.35725522e-02 -3.54484543e-02\n",
            "   4.55619395e-02  1.11787207e-02 -4.49460708e-02 -6.43165931e-02\n",
            "   4.74779587e-03  4.95772511e-02 -1.06489800e-01 -1.08793722e-02\n",
            "   3.99152786e-02  9.67012793e-02 -2.03650132e-01  9.49462414e-01\n",
            "   0.00000000e+00  0.00000000e+00  0.00000000e+00  0.00000000e+00\n",
            "   0.00000000e+00  0.00000000e+00  0.00000000e+00  0.00000000e+00\n",
            "   0.00000000e+00  0.00000000e+00]\n",
            " [ 2.11395472e-02 -1.42454756e-02  6.08551875e-03 -3.56872013e-04\n",
            "  -7.72387460e-02  2.75927112e-02  7.58494623e-03  1.88165484e-03\n",
            "   2.98626330e-02  3.12048313e-03 -4.93666343e-03 -1.20402221e-02\n",
            "   9.95472632e-03  9.79299843e-03 -1.77870039e-02 -9.24055837e-03\n",
            "   2.58225594e-02  3.86273712e-02 -7.83826783e-02 -2.63555236e-02\n",
            "   9.75381494e-01  0.00000000e+00  0.00000000e+00  0.00000000e+00\n",
            "   0.00000000e+00  0.00000000e+00  0.00000000e+00  0.00000000e+00\n",
            "   0.00000000e+00  0.00000000e+00]\n",
            " [ 9.56469849e-02 -6.86393827e-02  5.88510968e-02 -4.33618762e-03\n",
            "   3.23058069e-02  3.47203994e-03  2.03425959e-02 -1.47548560e-02\n",
            "  -1.10414494e-02  4.18891571e-03 -8.79201398e-04  9.04540718e-03\n",
            "   1.80091318e-02  1.18876789e-02  7.60859102e-02 -8.28577299e-03\n",
            "   1.36760483e-02 -1.90124381e-02 -2.76946984e-02  1.71376187e-02\n",
            "  -4.50626435e-03  9.56424117e-01  0.00000000e+00  0.00000000e+00\n",
            "   0.00000000e+00  0.00000000e+00  0.00000000e+00  0.00000000e+00\n",
            "   0.00000000e+00  0.00000000e+00]\n",
            " [ 1.20126307e-02 -8.14463198e-03 -9.46011953e-03  2.81416997e-03\n",
            "  -3.57053950e-02  2.78758947e-02  2.23040627e-03  6.39114622e-03\n",
            "   1.19495094e-02 -4.19698801e-04 -3.65855987e-04 -1.99720194e-03\n",
            "  -2.38205004e-03 -1.64619703e-02 -5.56839677e-03 -3.71703831e-03\n",
            "   6.89867698e-03  1.47545328e-02 -1.94638558e-02 -2.51133717e-03\n",
            "  -1.73294414e-02  6.52373675e-03  9.94766772e-01  0.00000000e+00\n",
            "   0.00000000e+00  0.00000000e+00  0.00000000e+00  0.00000000e+00\n",
            "   0.00000000e+00  0.00000000e+00]\n",
            " [ 3.34491618e-02 -2.19481681e-02 -4.96531650e-03  4.11242759e-03\n",
            "  -9.11515765e-03  3.30641493e-02  4.57914267e-03  2.63741543e-03\n",
            "   3.03663337e-03 -8.72340286e-04 -1.14139030e-03  5.72969578e-03\n",
            "  -6.07468933e-03 -3.34696099e-02  2.09890362e-02 -3.55791044e-03\n",
            "   1.27383403e-03  4.42737807e-03 -5.38530340e-03  9.09726135e-03\n",
            "  -2.51832698e-03 -2.68927449e-03 -6.07383111e-03  9.94412661e-01\n",
            "   0.00000000e+00  0.00000000e+00  0.00000000e+00  0.00000000e+00\n",
            "   0.00000000e+00  0.00000000e+00]\n",
            " [ 4.13438939e-02 -2.80444100e-02  1.46367587e-02  2.79381685e-03\n",
            "  -7.55424204e-04  2.21729334e-02  6.79600891e-03 -1.83876744e-03\n",
            "   2.03652802e-04  3.20113293e-04 -5.96211292e-04  7.03974068e-03\n",
            "   5.00706607e-04 -1.70099996e-02  3.00714374e-02 -3.54832551e-03\n",
            "   3.28470580e-03 -9.71787027e-04 -7.62572419e-03  8.40026140e-03\n",
            "  -3.61858727e-03 -2.01237407e-02 -2.63952184e-03 -7.20698247e-03\n",
            "   9.95594621e-01  0.00000000e+00  0.00000000e+00  0.00000000e+00\n",
            "   0.00000000e+00  0.00000000e+00]\n",
            " [-7.32352212e-02  5.16541190e-02 -2.03282908e-02 -9.06190183e-03\n",
            "   5.21213608e-03 -5.57324477e-02 -1.36805996e-02 -2.77124404e-04\n",
            "  -1.39465823e-03 -1.06473999e-04  1.57399522e-03 -5.94790140e-03\n",
            "   3.36579210e-03  3.53856757e-02 -3.87115516e-02  7.39677623e-03\n",
            "  -5.76390279e-03 -9.40104306e-04  1.66542511e-02 -1.64935831e-02\n",
            "   4.85769799e-03  3.45585570e-02  5.87181933e-03  1.41778002e-02\n",
            "   1.63923819e-02  9.82704520e-01  0.00000000e+00  0.00000000e+00\n",
            "   0.00000000e+00  0.00000000e+00]\n",
            " [-2.21409005e-04 -2.30092992e-05  5.95491983e-05 -6.07618480e-04\n",
            "   1.88339525e-03 -3.26582952e-03  5.65543014e-05 -8.64405825e-04\n",
            "  -5.90938376e-04  2.59452703e-04  2.45330993e-05  2.17709006e-04\n",
            "   1.62224949e-03  3.38301598e-03  1.94234482e-03 -2.17189995e-06\n",
            "   7.16415409e-04 -9.23514308e-04 -1.00079342e-03 -4.47271188e-04\n",
            "  -4.08768305e-04 -2.13091425e-03  6.65093597e-04  8.16101616e-04\n",
            "   6.53309035e-05 -9.11809620e-04  9.99868810e-01  0.00000000e+00\n",
            "   0.00000000e+00  0.00000000e+00]\n",
            " [-9.28548165e-03  4.77097183e-03 -1.78420153e-02  4.41340124e-03\n",
            "  -1.34961186e-02  2.43966896e-02 -1.98138878e-03  6.45609619e-03\n",
            "   4.40949947e-03 -1.97699922e-03 -3.57879297e-04 -1.37832435e-03\n",
            "  -1.14119342e-02 -2.86383815e-02 -1.51788192e-02  6.77496602e-04\n",
            "  -4.35374537e-03  7.07671978e-03  7.67615670e-03  1.95325096e-03\n",
            "   2.90591619e-03  1.85084064e-02 -4.88835108e-03 -5.23432065e-03\n",
            "   1.15265523e-03  2.89863069e-03  1.71408046e-03  9.94081378e-01\n",
            "   0.00000000e+00  0.00000000e+00]\n",
            " [-1.54301357e-02  8.80814996e-03 -5.48670860e-03  5.24749281e-04\n",
            "   2.18076195e-04 -3.88448429e-03 -1.98664097e-03  6.55714015e-04\n",
            "  -1.49074403e-04 -1.50231499e-04  3.81178310e-04 -2.95187230e-03\n",
            "  -4.39553813e-04  6.62667723e-03 -1.25378706e-02  1.47982105e-03\n",
            "  -1.33680226e-03 -5.04329000e-05  3.72172846e-03 -2.82997591e-03\n",
            "   1.67267490e-03  4.32759337e-03  1.07907224e-03  2.89931474e-03\n",
            "   2.87873461e-03 -4.05919366e-03  4.19325988e-05 -1.07868761e-03\n",
            "   9.99173760e-01  0.00000000e+00]\n",
            " [-7.92593043e-03  4.96919034e-03 -5.34199364e-03  1.16293039e-03\n",
            "   3.69837100e-04 -1.18996832e-03 -8.73644778e-04  6.68180583e-04\n",
            "  -2.61505687e-04 -1.03973900e-04  3.65762011e-04 -3.19894007e-03\n",
            "  -4.31021210e-04  7.01624062e-03 -1.20531116e-02  9.91031411e-04\n",
            "  -1.20344025e-03 -2.37842294e-04  2.85689603e-03 -2.03159009e-03\n",
            "   1.52290310e-03  1.66911166e-03  1.02421001e-03  2.39753374e-03\n",
            "   1.84046500e-03 -1.50744431e-03  1.65346195e-04 -8.83215282e-04\n",
            "  -1.32887124e-03  9.99145806e-01]]\n",
            "mean_module.constant                ()\n",
            "6.051416397094727\n",
            "covar_module.outputscale            ()\n",
            "8.664335250854492\n",
            "covar_module.base_kernel.lengthscale (1, 1)\n",
            "[[0.2506074]]\n"
          ]
        }
      ]
    },
    {
      "cell_type": "code",
      "source": [
        "model.eval()\n",
        "likelihood.eval()\n",
        "\n",
        "domain = torch.linspace(0, 1, 100)\n",
        "xx, yy = torch.meshgrid(domain, domain)\n",
        "xxyy = torch.stack((xx.ravel(), yy.ravel())).T\n",
        "\n",
        "f_preds = model(xxyy)\n",
        "y_preds = likelihood(f_preds)\n",
        "\n",
        "f_mean = f_preds.loc\n",
        "f_var = f_preds.variance\n",
        "f_covar = f_preds.covariance_matrix\n",
        "\n",
        "# N_samples = 1000\n",
        "# breakpoints = torch.linspace(0, 100, N_samples+1)[:-1]\n",
        "# breakpoints = breakpoints + breakpoints[1] * torch.rand_like(breakpoints)\n",
        "# xx_, yy_ = torch.meshgrid(domain, domain)\n",
        "# xxyy_breakpoints = torch.stack((xx.ravel(), yy.ravel())).T\n",
        "\n",
        "# with torch.no_grad():\n",
        "#     pred_samples = torch.distributions.MultivariateNormal(f_mean, f_covar).icdf(breakpoints[:,None])"
      ],
      "metadata": {
        "id": "IuxWy3fT9ktf"
      },
      "execution_count": 119,
      "outputs": []
    },
    {
      "cell_type": "code",
      "source": [
        "# y_test = branin_hoo(xxyy)\n",
        "# model(xxyy).log_prob(y_test).mean().numpy(force=True)\n",
        "# nlpd_posterior = gpytorch.metrics.negative_log_predictive_density(model(xxyy), y_test).mean().numpy(force=True)\n",
        "\n",
        "# y_test = branin_hoo(xxyy)\n",
        "# y_test_censored = oracle(xxyy)\n",
        "# nlpd_predictive_post = gpytorch.metrics.negative_log_predictive_density(likelihood(model(xxyy)), y_test_censored).mean().numpy(force=True)\n",
        "\n",
        "# print('nlpd posterior: ', nlpd_posterior, 'nlpd predictive posterior: ', nlpd_predictive_post)"
      ],
      "metadata": {
        "id": "VMNOWyIKHM2P"
      },
      "execution_count": null,
      "outputs": []
    },
    {
      "cell_type": "code",
      "source": [
        "fig, ax = plt.subplots(2,5, figsize=(24, 8))\n",
        "# plt.set_cmap(cmap='Purples_r')\n",
        "# plt.set_cmap(cmap='PiYG')\n",
        "plt.set_cmap(cmap='plasma')\n",
        "\n",
        "cs = list(range(10))\n",
        "#kwargs = dict(vmin=0, vmax=320)\n",
        "\n",
        "zz = branin_hoo(xxyy).reshape(xx.shape)\n",
        "#cs0 = ax[0,0].contourf(xx, yy, zz, **kwargs)\n",
        "cs[0] = ax[0,0].contourf(xx, yy, zz,)\n",
        "ax[0,0].scatter(x[:,0], x[:,1], s=60, marker='.', color='r')\n",
        "ax[0,0].set_title('real data')\n",
        "fig.colorbar(cs[0])\n",
        "ax[0,0].axis('off')\n",
        "\n",
        "zz = oracle(xxyy).reshape(xx.shape)\n",
        "cs[1] = ax[1,0].contourf(xx, yy, zz)\n",
        "ax[1,0].scatter(x[:,0], x[:,1], s=60, marker='.', color='r')\n",
        "ax[1,0].set_title('censored data at %s'%(MAX_VALUE))\n",
        "fig.colorbar(cs[1])\n",
        "ax[1,0].axis('off')\n",
        "\n",
        "zz = branin_hoo(xxyy).reshape(xx.shape) - f_mean.numpy(force=True).reshape(xx.shape)\n",
        "cs[2] = ax[0,1].contourf(xx, yy, zz)\n",
        "ax[0,1].scatter(x[:,0], x[:,1], s=60, marker='.', color='r')\n",
        "ax[0,1].set_title('real data - posterior mean')\n",
        "fig.colorbar(cs[2])\n",
        "ax[0,1].axis('off')\n",
        "\n",
        "zz = oracle(xxyy).reshape(xx.shape) - y_preds.sample_n(n=100).mean([0,1]).numpy(force=True).reshape(xx.shape)\n",
        "cs[3] = ax[1,1].contourf(xx, yy, zz)\n",
        "ax[1,1].scatter(x[:,0], x[:,1], s=60, marker='.', color='r')\n",
        "ax[1,1].set_title('censored data - pred posterior mean')\n",
        "fig.colorbar(cs[3])\n",
        "ax[1,1].axis('off')\n",
        "\n",
        "zz = f_mean.numpy(force=True).reshape(xx.shape)\n",
        "cs[4] = ax[0,2].contourf(xx, yy, zz)\n",
        "ax[0,2].scatter(x[:,0], x[:,1], s=60, marker='.', color='r')\n",
        "ax[0,2].set_title('posterior mean')\n",
        "fig.colorbar(cs[4])\n",
        "ax[0,2].axis('off')\n",
        "\n",
        "zz = f_var.numpy(force=True).reshape(xx.shape)\n",
        "cs[5] = ax[0,3].contourf(xx, yy, zz)\n",
        "ax[0,3].scatter(x[:,0], x[:,1], s=60, marker='.', color='r')\n",
        "ax[0,3].set_title('posterior variance')\n",
        "fig.colorbar(cs[5])\n",
        "ax[0,3].axis('off')\n",
        "\n",
        "final_nlpd = gpytorch.metrics.negative_log_predictive_density(likelihood(model(xxyy)), y_test_censored)#.numpy(force=True)\n",
        "zz = final_nlpd.reshape([10,xx.shape[0],xx.shape[1]]).mean(0).numpy(force=True)\n",
        "cs[6] = ax[1,4].contourf(xx, yy, zz)\n",
        "ax[1,4].scatter(x[:,0], x[:,1], s=60, marker='.', color='r')\n",
        "ax[1,4].set_title('nlpd: %.3f'%(final_nldp))\n",
        "fig.colorbar(cs[6])\n",
        "ax[1,4].axis('off')\n",
        "\n",
        "zz = y_preds.sample_n(n=100).mean([0,1]).numpy(force=True).reshape(xx.shape)\n",
        "cs[7] = ax[1,2].contourf(xx, yy, zz)\n",
        "cmin, cmax = cs[4].get_clim()\n",
        "cs[7].set_clim(cmin, cmax)\n",
        "ax[1,2].scatter(x[:,0], x[:,1], s=60, marker='.', color='r')\n",
        "ax[1,2].set_title('predictive mean')\n",
        "fig.colorbar(cs[7])\n",
        "ax[1,2].axis('off')\n",
        "\n",
        "zz = y_preds.sample_n(n=100).var([0,1]).numpy(force=True).reshape(xx.shape)\n",
        "cs[8] = ax[1,3].contourf(xx, yy, zz)\n",
        "cmin1, cmax1 = cs[5].get_clim()\n",
        "cs[8].set_clim(cmin1, cmax1)\n",
        "ax[1,3].scatter(x[:,0], x[:,1], s=60, marker='.', color='r')\n",
        "ax[1,3].set_title('predictive variance')\n",
        "fig.colorbar(cs[8])\n",
        "ax[1,3].axis('off')\n",
        "\n",
        "zz = y_preds.entropy().mean(0).numpy(force=True).reshape(xx.shape)\n",
        "cs[9] = ax[0,4].contourf(xx, yy, zz)\n",
        "ax[0,4].scatter(x[:,0], x[:,1], s=60, marker='.', color='r')\n",
        "ax[0,4].set_title('entropy likelihood')\n",
        "fig.colorbar(cs[9])\n",
        "ax[0,4].axis('off')\n"
      ],
      "metadata": {
        "colab": {
          "base_uri": "https://localhost:8080/",
          "height": 701
        },
        "id": "Af9jV0WbDO0m",
        "outputId": "3db11652-10a8-4880-e907-192f951d05c3"
      },
      "execution_count": 138,
      "outputs": [
        {
          "output_type": "execute_result",
          "data": {
            "text/plain": [
              "(0.0, 1.0, 0.0, 1.0)"
            ]
          },
          "metadata": {},
          "execution_count": 138
        },
        {
          "output_type": "display_data",
          "data": {
            "text/plain": [
              "<Figure size 2400x800 with 20 Axes>"
            ],
            "image/png": "[encoded data removed]"
          },
          "metadata": {}
        }
      ]
    },
    {
      "cell_type": "code",
      "source": [],
      "metadata": {
        "id": "VK9nm2zTKJ5H"
      },
      "execution_count": null,
      "outputs": []
    }
  ]
}