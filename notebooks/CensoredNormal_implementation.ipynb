{
  "nbformat": 4,
  "nbformat_minor": 0,
  "metadata": {
    "colab": {
      "provenance": [],
      "machine_shape": "hm"
    },
    "kernelspec": {
      "name": "python3",
      "display_name": "Python 3"
    },
    "language_info": {
      "name": "python"
    },
    "widgets": {
      "application/vnd.jupyter.widget-state+json": {
        "0ee5a50dc6df42b49da8d8642a80b912": {
          "model_module": "@jupyter-widgets/controls",
          "model_name": "HBoxModel",
          "model_module_version": "1.5.0",
          "state": {
            "_dom_classes": [],
            "_model_module": "@jupyter-widgets/controls",
            "_model_module_version": "1.5.0",
            "_model_name": "HBoxModel",
            "_view_count": null,
            "_view_module": "@jupyter-widgets/controls",
            "_view_module_version": "1.5.0",
            "_view_name": "HBoxView",
            "box_style": "",
            "children": [
              "IPY_MODEL_d4a09b19e6de4d70a84013a32af4e03d",
              "IPY_MODEL_8553825a2dc84f99989199e23869c0e9",
              "IPY_MODEL_9dc8a0a515a64074b0431c7c6bc5e01d"
            ],
            "layout": "IPY_MODEL_04135e3cc5604cf1a7ff420505406673"
          }
        },
        "d4a09b19e6de4d70a84013a32af4e03d": {
          "model_module": "@jupyter-widgets/controls",
          "model_name": "HTMLModel",
          "model_module_version": "1.5.0",
          "state": {
            "_dom_classes": [],
            "_model_module": "@jupyter-widgets/controls",
            "_model_module_version": "1.5.0",
            "_model_name": "HTMLModel",
            "_view_count": null,
            "_view_module": "@jupyter-widgets/controls",
            "_view_module_version": "1.5.0",
            "_view_name": "HTMLView",
            "description": "",
            "description_tooltip": null,
            "layout": "IPY_MODEL_84025d96ad6a41098770fd484bf7c9dd",
            "placeholder": "​",
            "style": "IPY_MODEL_66275562b6f24f9388a0cb2ee276923e",
            "value": "100%"
          }
        },
        "8553825a2dc84f99989199e23869c0e9": {
          "model_module": "@jupyter-widgets/controls",
          "model_name": "FloatProgressModel",
          "model_module_version": "1.5.0",
          "state": {
            "_dom_classes": [],
            "_model_module": "@jupyter-widgets/controls",
            "_model_module_version": "1.5.0",
            "_model_name": "FloatProgressModel",
            "_view_count": null,
            "_view_module": "@jupyter-widgets/controls",
            "_view_module_version": "1.5.0",
            "_view_name": "ProgressView",
            "bar_style": "success",
            "description": "",
            "description_tooltip": null,
            "layout": "IPY_MODEL_c0451627cc784108b61c4c12a30cc037",
            "max": 10000,
            "min": 0,
            "orientation": "horizontal",
            "style": "IPY_MODEL_4f3924e0cf004611aa1d94aa032c5e25",
            "value": 10000
          }
        },
        "9dc8a0a515a64074b0431c7c6bc5e01d": {
          "model_module": "@jupyter-widgets/controls",
          "model_name": "HTMLModel",
          "model_module_version": "1.5.0",
          "state": {
            "_dom_classes": [],
            "_model_module": "@jupyter-widgets/controls",
            "_model_module_version": "1.5.0",
            "_model_name": "HTMLModel",
            "_view_count": null,
            "_view_module": "@jupyter-widgets/controls",
            "_view_module_version": "1.5.0",
            "_view_name": "HTMLView",
            "description": "",
            "description_tooltip": null,
            "layout": "IPY_MODEL_0baa66e091c2468a9f85b6adc8839123",
            "placeholder": "​",
            "style": "IPY_MODEL_10709fca07c34973b1ef21b0d7fda10f",
            "value": " 10000/10000 [00:20&lt;00:00, 475.28it/s]"
          }
        },
        "04135e3cc5604cf1a7ff420505406673": {
          "model_module": "@jupyter-widgets/base",
          "model_name": "LayoutModel",
          "model_module_version": "1.2.0",
          "state": {
            "_model_module": "@jupyter-widgets/base",
            "_model_module_version": "1.2.0",
            "_model_name": "LayoutModel",
            "_view_count": null,
            "_view_module": "@jupyter-widgets/base",
            "_view_module_version": "1.2.0",
            "_view_name": "LayoutView",
            "align_content": null,
            "align_items": null,
            "align_self": null,
            "border": null,
            "bottom": null,
            "display": null,
            "flex": null,
            "flex_flow": null,
            "grid_area": null,
            "grid_auto_columns": null,
            "grid_auto_flow": null,
            "grid_auto_rows": null,
            "grid_column": null,
            "grid_gap": null,
            "grid_row": null,
            "grid_template_areas": null,
            "grid_template_columns": null,
            "grid_template_rows": null,
            "height": null,
            "justify_content": null,
            "justify_items": null,
            "left": null,
            "margin": null,
            "max_height": null,
            "max_width": null,
            "min_height": null,
            "min_width": null,
            "object_fit": null,
            "object_position": null,
            "order": null,
            "overflow": null,
            "overflow_x": null,
            "overflow_y": null,
            "padding": null,
            "right": null,
            "top": null,
            "visibility": null,
            "width": null
          }
        },
        "84025d96ad6a41098770fd484bf7c9dd": {
          "model_module": "@jupyter-widgets/base",
          "model_name": "LayoutModel",
          "model_module_version": "1.2.0",
          "state": {
            "_model_module": "@jupyter-widgets/base",
            "_model_module_version": "1.2.0",
            "_model_name": "LayoutModel",
            "_view_count": null,
            "_view_module": "@jupyter-widgets/base",
            "_view_module_version": "1.2.0",
            "_view_name": "LayoutView",
            "align_content": null,
            "align_items": null,
            "align_self": null,
            "border": null,
            "bottom": null,
            "display": null,
            "flex": null,
            "flex_flow": null,
            "grid_area": null,
            "grid_auto_columns": null,
            "grid_auto_flow": null,
            "grid_auto_rows": null,
            "grid_column": null,
            "grid_gap": null,
            "grid_row": null,
            "grid_template_areas": null,
            "grid_template_columns": null,
            "grid_template_rows": null,
            "height": null,
            "justify_content": null,
            "justify_items": null,
            "left": null,
            "margin": null,
            "max_height": null,
            "max_width": null,
            "min_height": null,
            "min_width": null,
            "object_fit": null,
            "object_position": null,
            "order": null,
            "overflow": null,
            "overflow_x": null,
            "overflow_y": null,
            "padding": null,
            "right": null,
            "top": null,
            "visibility": null,
            "width": null
          }
        },
        "66275562b6f24f9388a0cb2ee276923e": {
          "model_module": "@jupyter-widgets/controls",
          "model_name": "DescriptionStyleModel",
          "model_module_version": "1.5.0",
          "state": {
            "_model_module": "@jupyter-widgets/controls",
            "_model_module_version": "1.5.0",
            "_model_name": "DescriptionStyleModel",
            "_view_count": null,
            "_view_module": "@jupyter-widgets/base",
            "_view_module_version": "1.2.0",
            "_view_name": "StyleView",
            "description_width": ""
          }
        },
        "c0451627cc784108b61c4c12a30cc037": {
          "model_module": "@jupyter-widgets/base",
          "model_name": "LayoutModel",
          "model_module_version": "1.2.0",
          "state": {
            "_model_module": "@jupyter-widgets/base",
            "_model_module_version": "1.2.0",
            "_model_name": "LayoutModel",
            "_view_count": null,
            "_view_module": "@jupyter-widgets/base",
            "_view_module_version": "1.2.0",
            "_view_name": "LayoutView",
            "align_content": null,
            "align_items": null,
            "align_self": null,
            "border": null,
            "bottom": null,
            "display": null,
            "flex": null,
            "flex_flow": null,
            "grid_area": null,
            "grid_auto_columns": null,
            "grid_auto_flow": null,
            "grid_auto_rows": null,
            "grid_column": null,
            "grid_gap": null,
            "grid_row": null,
            "grid_template_areas": null,
            "grid_template_columns": null,
            "grid_template_rows": null,
            "height": null,
            "justify_content": null,
            "justify_items": null,
            "left": null,
            "margin": null,
            "max_height": null,
            "max_width": null,
            "min_height": null,
            "min_width": null,
            "object_fit": null,
            "object_position": null,
            "order": null,
            "overflow": null,
            "overflow_x": null,
            "overflow_y": null,
            "padding": null,
            "right": null,
            "top": null,
            "visibility": null,
            "width": null
          }
        },
        "4f3924e0cf004611aa1d94aa032c5e25": {
          "model_module": "@jupyter-widgets/controls",
          "model_name": "ProgressStyleModel",
          "model_module_version": "1.5.0",
          "state": {
            "_model_module": "@jupyter-widgets/controls",
            "_model_module_version": "1.5.0",
            "_model_name": "ProgressStyleModel",
            "_view_count": null,
            "_view_module": "@jupyter-widgets/base",
            "_view_module_version": "1.2.0",
            "_view_name": "StyleView",
            "bar_color": null,
            "description_width": ""
          }
        },
        "0baa66e091c2468a9f85b6adc8839123": {
          "model_module": "@jupyter-widgets/base",
          "model_name": "LayoutModel",
          "model_module_version": "1.2.0",
          "state": {
            "_model_module": "@jupyter-widgets/base",
            "_model_module_version": "1.2.0",
            "_model_name": "LayoutModel",
            "_view_count": null,
            "_view_module": "@jupyter-widgets/base",
            "_view_module_version": "1.2.0",
            "_view_name": "LayoutView",
            "align_content": null,
            "align_items": null,
            "align_self": null,
            "border": null,
            "bottom": null,
            "display": null,
            "flex": null,
            "flex_flow": null,
            "grid_area": null,
            "grid_auto_columns": null,
            "grid_auto_flow": null,
            "grid_auto_rows": null,
            "grid_column": null,
            "grid_gap": null,
            "grid_row": null,
            "grid_template_areas": null,
            "grid_template_columns": null,
            "grid_template_rows": null,
            "height": null,
            "justify_content": null,
            "justify_items": null,
            "left": null,
            "margin": null,
            "max_height": null,
            "max_width": null,
            "min_height": null,
            "min_width": null,
            "object_fit": null,
            "object_position": null,
            "order": null,
            "overflow": null,
            "overflow_x": null,
            "overflow_y": null,
            "padding": null,
            "right": null,
            "top": null,
            "visibility": null,
            "width": null
          }
        },
        "10709fca07c34973b1ef21b0d7fda10f": {
          "model_module": "@jupyter-widgets/controls",
          "model_name": "DescriptionStyleModel",
          "model_module_version": "1.5.0",
          "state": {
            "_model_module": "@jupyter-widgets/controls",
            "_model_module_version": "1.5.0",
            "_model_name": "DescriptionStyleModel",
            "_view_count": null,
            "_view_module": "@jupyter-widgets/base",
            "_view_module_version": "1.2.0",
            "_view_name": "StyleView",
            "description_width": ""
          }
        },
        "2cacad78497e4240ae9a4932f8b35853": {
          "model_module": "@jupyter-widgets/controls",
          "model_name": "HBoxModel",
          "model_module_version": "1.5.0",
          "state": {
            "_dom_classes": [],
            "_model_module": "@jupyter-widgets/controls",
            "_model_module_version": "1.5.0",
            "_model_name": "HBoxModel",
            "_view_count": null,
            "_view_module": "@jupyter-widgets/controls",
            "_view_module_version": "1.5.0",
            "_view_name": "HBoxView",
            "box_style": "",
            "children": [
              "IPY_MODEL_86f2f7f146dd4307a559607215b5c23b",
              "IPY_MODEL_3666a4dc68c14f558fd99bd7960c566d",
              "IPY_MODEL_32c19da61429467ba556549232618c31"
            ],
            "layout": "IPY_MODEL_f572705b321149d1b113255adaaf37d3"
          }
        },
        "86f2f7f146dd4307a559607215b5c23b": {
          "model_module": "@jupyter-widgets/controls",
          "model_name": "HTMLModel",
          "model_module_version": "1.5.0",
          "state": {
            "_dom_classes": [],
            "_model_module": "@jupyter-widgets/controls",
            "_model_module_version": "1.5.0",
            "_model_name": "HTMLModel",
            "_view_count": null,
            "_view_module": "@jupyter-widgets/controls",
            "_view_module_version": "1.5.0",
            "_view_name": "HTMLView",
            "description": "",
            "description_tooltip": null,
            "layout": "IPY_MODEL_31b535f201d14d10a459bf870c5507df",
            "placeholder": "​",
            "style": "IPY_MODEL_f793e463418240428a7045fa32503acf",
            "value": "100%"
          }
        },
        "3666a4dc68c14f558fd99bd7960c566d": {
          "model_module": "@jupyter-widgets/controls",
          "model_name": "FloatProgressModel",
          "model_module_version": "1.5.0",
          "state": {
            "_dom_classes": [],
            "_model_module": "@jupyter-widgets/controls",
            "_model_module_version": "1.5.0",
            "_model_name": "FloatProgressModel",
            "_view_count": null,
            "_view_module": "@jupyter-widgets/controls",
            "_view_module_version": "1.5.0",
            "_view_name": "ProgressView",
            "bar_style": "success",
            "description": "",
            "description_tooltip": null,
            "layout": "IPY_MODEL_af70ed8ca4c94881a5d6b9b3dd8f9055",
            "max": 12000,
            "min": 0,
            "orientation": "horizontal",
            "style": "IPY_MODEL_05cd21f8ad3d485a9eb81336c13b2e1a",
            "value": 12000
          }
        },
        "32c19da61429467ba556549232618c31": {
          "model_module": "@jupyter-widgets/controls",
          "model_name": "HTMLModel",
          "model_module_version": "1.5.0",
          "state": {
            "_dom_classes": [],
            "_model_module": "@jupyter-widgets/controls",
            "_model_module_version": "1.5.0",
            "_model_name": "HTMLModel",
            "_view_count": null,
            "_view_module": "@jupyter-widgets/controls",
            "_view_module_version": "1.5.0",
            "_view_name": "HTMLView",
            "description": "",
            "description_tooltip": null,
            "layout": "IPY_MODEL_587c58a55ffa4a5f9257e6da5bc4163e",
            "placeholder": "​",
            "style": "IPY_MODEL_2b11127ad2ea4b86885dcc1e4481ec58",
            "value": " 12000/12000 [00:25&lt;00:00, 485.21it/s]"
          }
        },
        "f572705b321149d1b113255adaaf37d3": {
          "model_module": "@jupyter-widgets/base",
          "model_name": "LayoutModel",
          "model_module_version": "1.2.0",
          "state": {
            "_model_module": "@jupyter-widgets/base",
            "_model_module_version": "1.2.0",
            "_model_name": "LayoutModel",
            "_view_count": null,
            "_view_module": "@jupyter-widgets/base",
            "_view_module_version": "1.2.0",
            "_view_name": "LayoutView",
            "align_content": null,
            "align_items": null,
            "align_self": null,
            "border": null,
            "bottom": null,
            "display": null,
            "flex": null,
            "flex_flow": null,
            "grid_area": null,
            "grid_auto_columns": null,
            "grid_auto_flow": null,
            "grid_auto_rows": null,
            "grid_column": null,
            "grid_gap": null,
            "grid_row": null,
            "grid_template_areas": null,
            "grid_template_columns": null,
            "grid_template_rows": null,
            "height": null,
            "justify_content": null,
            "justify_items": null,
            "left": null,
            "margin": null,
            "max_height": null,
            "max_width": null,
            "min_height": null,
            "min_width": null,
            "object_fit": null,
            "object_position": null,
            "order": null,
            "overflow": null,
            "overflow_x": null,
            "overflow_y": null,
            "padding": null,
            "right": null,
            "top": null,
            "visibility": null,
            "width": null
          }
        },
        "31b535f201d14d10a459bf870c5507df": {
          "model_module": "@jupyter-widgets/base",
          "model_name": "LayoutModel",
          "model_module_version": "1.2.0",
          "state": {
            "_model_module": "@jupyter-widgets/base",
            "_model_module_version": "1.2.0",
            "_model_name": "LayoutModel",
            "_view_count": null,
            "_view_module": "@jupyter-widgets/base",
            "_view_module_version": "1.2.0",
            "_view_name": "LayoutView",
            "align_content": null,
            "align_items": null,
            "align_self": null,
            "border": null,
            "bottom": null,
            "display": null,
            "flex": null,
            "flex_flow": null,
            "grid_area": null,
            "grid_auto_columns": null,
            "grid_auto_flow": null,
            "grid_auto_rows": null,
            "grid_column": null,
            "grid_gap": null,
            "grid_row": null,
            "grid_template_areas": null,
            "grid_template_columns": null,
            "grid_template_rows": null,
            "height": null,
            "justify_content": null,
            "justify_items": null,
            "left": null,
            "margin": null,
            "max_height": null,
            "max_width": null,
            "min_height": null,
            "min_width": null,
            "object_fit": null,
            "object_position": null,
            "order": null,
            "overflow": null,
            "overflow_x": null,
            "overflow_y": null,
            "padding": null,
            "right": null,
            "top": null,
            "visibility": null,
            "width": null
          }
        },
        "f793e463418240428a7045fa32503acf": {
          "model_module": "@jupyter-widgets/controls",
          "model_name": "DescriptionStyleModel",
          "model_module_version": "1.5.0",
          "state": {
            "_model_module": "@jupyter-widgets/controls",
            "_model_module_version": "1.5.0",
            "_model_name": "DescriptionStyleModel",
            "_view_count": null,
            "_view_module": "@jupyter-widgets/base",
            "_view_module_version": "1.2.0",
            "_view_name": "StyleView",
            "description_width": ""
          }
        },
        "af70ed8ca4c94881a5d6b9b3dd8f9055": {
          "model_module": "@jupyter-widgets/base",
          "model_name": "LayoutModel",
          "model_module_version": "1.2.0",
          "state": {
            "_model_module": "@jupyter-widgets/base",
            "_model_module_version": "1.2.0",
            "_model_name": "LayoutModel",
            "_view_count": null,
            "_view_module": "@jupyter-widgets/base",
            "_view_module_version": "1.2.0",
            "_view_name": "LayoutView",
            "align_content": null,
            "align_items": null,
            "align_self": null,
            "border": null,
            "bottom": null,
            "display": null,
            "flex": null,
            "flex_flow": null,
            "grid_area": null,
            "grid_auto_columns": null,
            "grid_auto_flow": null,
            "grid_auto_rows": null,
            "grid_column": null,
            "grid_gap": null,
            "grid_row": null,
            "grid_template_areas": null,
            "grid_template_columns": null,
            "grid_template_rows": null,
            "height": null,
            "justify_content": null,
            "justify_items": null,
            "left": null,
            "margin": null,
            "max_height": null,
            "max_width": null,
            "min_height": null,
            "min_width": null,
            "object_fit": null,
            "object_position": null,
            "order": null,
            "overflow": null,
            "overflow_x": null,
            "overflow_y": null,
            "padding": null,
            "right": null,
            "top": null,
            "visibility": null,
            "width": null
          }
        },
        "05cd21f8ad3d485a9eb81336c13b2e1a": {
          "model_module": "@jupyter-widgets/controls",
          "model_name": "ProgressStyleModel",
          "model_module_version": "1.5.0",
          "state": {
            "_model_module": "@jupyter-widgets/controls",
            "_model_module_version": "1.5.0",
            "_model_name": "ProgressStyleModel",
            "_view_count": null,
            "_view_module": "@jupyter-widgets/base",
            "_view_module_version": "1.2.0",
            "_view_name": "StyleView",
            "bar_color": null,
            "description_width": ""
          }
        },
        "587c58a55ffa4a5f9257e6da5bc4163e": {
          "model_module": "@jupyter-widgets/base",
          "model_name": "LayoutModel",
          "model_module_version": "1.2.0",
          "state": {
            "_model_module": "@jupyter-widgets/base",
            "_model_module_version": "1.2.0",
            "_model_name": "LayoutModel",
            "_view_count": null,
            "_view_module": "@jupyter-widgets/base",
            "_view_module_version": "1.2.0",
            "_view_name": "LayoutView",
            "align_content": null,
            "align_items": null,
            "align_self": null,
            "border": null,
            "bottom": null,
            "display": null,
            "flex": null,
            "flex_flow": null,
            "grid_area": null,
            "grid_auto_columns": null,
            "grid_auto_flow": null,
            "grid_auto_rows": null,
            "grid_column": null,
            "grid_gap": null,
            "grid_row": null,
            "grid_template_areas": null,
            "grid_template_columns": null,
            "grid_template_rows": null,
            "height": null,
            "justify_content": null,
            "justify_items": null,
            "left": null,
            "margin": null,
            "max_height": null,
            "max_width": null,
            "min_height": null,
            "min_width": null,
            "object_fit": null,
            "object_position": null,
            "order": null,
            "overflow": null,
            "overflow_x": null,
            "overflow_y": null,
            "padding": null,
            "right": null,
            "top": null,
            "visibility": null,
            "width": null
          }
        },
        "2b11127ad2ea4b86885dcc1e4481ec58": {
          "model_module": "@jupyter-widgets/controls",
          "model_name": "DescriptionStyleModel",
          "model_module_version": "1.5.0",
          "state": {
            "_model_module": "@jupyter-widgets/controls",
            "_model_module_version": "1.5.0",
            "_model_name": "DescriptionStyleModel",
            "_view_count": null,
            "_view_module": "@jupyter-widgets/base",
            "_view_module_version": "1.2.0",
            "_view_name": "StyleView",
            "description_width": ""
          }
        },
        "1bbbfb76cc8445fab76536c2feb96949": {
          "model_module": "@jupyter-widgets/controls",
          "model_name": "HBoxModel",
          "model_module_version": "1.5.0",
          "state": {
            "_dom_classes": [],
            "_model_module": "@jupyter-widgets/controls",
            "_model_module_version": "1.5.0",
            "_model_name": "HBoxModel",
            "_view_count": null,
            "_view_module": "@jupyter-widgets/controls",
            "_view_module_version": "1.5.0",
            "_view_name": "HBoxView",
            "box_style": "",
            "children": [
              "IPY_MODEL_03e5510e24a5424385e02bc180671bcc",
              "IPY_MODEL_3e163d9cea054ac3b4bb63bd871cd6df",
              "IPY_MODEL_f1999fc3ed1b49f39a7ff61a7b092d45"
            ],
            "layout": "IPY_MODEL_50c79a64fa874236920d434b87abe5a4"
          }
        },
        "03e5510e24a5424385e02bc180671bcc": {
          "model_module": "@jupyter-widgets/controls",
          "model_name": "HTMLModel",
          "model_module_version": "1.5.0",
          "state": {
            "_dom_classes": [],
            "_model_module": "@jupyter-widgets/controls",
            "_model_module_version": "1.5.0",
            "_model_name": "HTMLModel",
            "_view_count": null,
            "_view_module": "@jupyter-widgets/controls",
            "_view_module_version": "1.5.0",
            "_view_name": "HTMLView",
            "description": "",
            "description_tooltip": null,
            "layout": "IPY_MODEL_d01464e85e9b46cfbfde7a82945efd84",
            "placeholder": "​",
            "style": "IPY_MODEL_b1474e1b3328471faa83780dcd71b507",
            "value": "100%"
          }
        },
        "3e163d9cea054ac3b4bb63bd871cd6df": {
          "model_module": "@jupyter-widgets/controls",
          "model_name": "FloatProgressModel",
          "model_module_version": "1.5.0",
          "state": {
            "_dom_classes": [],
            "_model_module": "@jupyter-widgets/controls",
            "_model_module_version": "1.5.0",
            "_model_name": "FloatProgressModel",
            "_view_count": null,
            "_view_module": "@jupyter-widgets/controls",
            "_view_module_version": "1.5.0",
            "_view_name": "ProgressView",
            "bar_style": "success",
            "description": "",
            "description_tooltip": null,
            "layout": "IPY_MODEL_d2a270b300e24c7494ec136627bc4ac6",
            "max": 10000,
            "min": 0,
            "orientation": "horizontal",
            "style": "IPY_MODEL_c58a4769e5a64bad8e4584019eb36682",
            "value": 10000
          }
        },
        "f1999fc3ed1b49f39a7ff61a7b092d45": {
          "model_module": "@jupyter-widgets/controls",
          "model_name": "HTMLModel",
          "model_module_version": "1.5.0",
          "state": {
            "_dom_classes": [],
            "_model_module": "@jupyter-widgets/controls",
            "_model_module_version": "1.5.0",
            "_model_name": "HTMLModel",
            "_view_count": null,
            "_view_module": "@jupyter-widgets/controls",
            "_view_module_version": "1.5.0",
            "_view_name": "HTMLView",
            "description": "",
            "description_tooltip": null,
            "layout": "IPY_MODEL_4122da75f8164a4eb85b8f6ba686c340",
            "placeholder": "​",
            "style": "IPY_MODEL_2bb9af80d037415d9a3c202cba3f3a83",
            "value": " 10000/10000 [00:10&lt;00:00, 936.14it/s]"
          }
        },
        "50c79a64fa874236920d434b87abe5a4": {
          "model_module": "@jupyter-widgets/base",
          "model_name": "LayoutModel",
          "model_module_version": "1.2.0",
          "state": {
            "_model_module": "@jupyter-widgets/base",
            "_model_module_version": "1.2.0",
            "_model_name": "LayoutModel",
            "_view_count": null,
            "_view_module": "@jupyter-widgets/base",
            "_view_module_version": "1.2.0",
            "_view_name": "LayoutView",
            "align_content": null,
            "align_items": null,
            "align_self": null,
            "border": null,
            "bottom": null,
            "display": null,
            "flex": null,
            "flex_flow": null,
            "grid_area": null,
            "grid_auto_columns": null,
            "grid_auto_flow": null,
            "grid_auto_rows": null,
            "grid_column": null,
            "grid_gap": null,
            "grid_row": null,
            "grid_template_areas": null,
            "grid_template_columns": null,
            "grid_template_rows": null,
            "height": null,
            "justify_content": null,
            "justify_items": null,
            "left": null,
            "margin": null,
            "max_height": null,
            "max_width": null,
            "min_height": null,
            "min_width": null,
            "object_fit": null,
            "object_position": null,
            "order": null,
            "overflow": null,
            "overflow_x": null,
            "overflow_y": null,
            "padding": null,
            "right": null,
            "top": null,
            "visibility": null,
            "width": null
          }
        },
        "d01464e85e9b46cfbfde7a82945efd84": {
          "model_module": "@jupyter-widgets/base",
          "model_name": "LayoutModel",
          "model_module_version": "1.2.0",
          "state": {
            "_model_module": "@jupyter-widgets/base",
            "_model_module_version": "1.2.0",
            "_model_name": "LayoutModel",
            "_view_count": null,
            "_view_module": "@jupyter-widgets/base",
            "_view_module_version": "1.2.0",
            "_view_name": "LayoutView",
            "align_content": null,
            "align_items": null,
            "align_self": null,
            "border": null,
            "bottom": null,
            "display": null,
            "flex": null,
            "flex_flow": null,
            "grid_area": null,
            "grid_auto_columns": null,
            "grid_auto_flow": null,
            "grid_auto_rows": null,
            "grid_column": null,
            "grid_gap": null,
            "grid_row": null,
            "grid_template_areas": null,
            "grid_template_columns": null,
            "grid_template_rows": null,
            "height": null,
            "justify_content": null,
            "justify_items": null,
            "left": null,
            "margin": null,
            "max_height": null,
            "max_width": null,
            "min_height": null,
            "min_width": null,
            "object_fit": null,
            "object_position": null,
            "order": null,
            "overflow": null,
            "overflow_x": null,
            "overflow_y": null,
            "padding": null,
            "right": null,
            "top": null,
            "visibility": null,
            "width": null
          }
        },
        "b1474e1b3328471faa83780dcd71b507": {
          "model_module": "@jupyter-widgets/controls",
          "model_name": "DescriptionStyleModel",
          "model_module_version": "1.5.0",
          "state": {
            "_model_module": "@jupyter-widgets/controls",
            "_model_module_version": "1.5.0",
            "_model_name": "DescriptionStyleModel",
            "_view_count": null,
            "_view_module": "@jupyter-widgets/base",
            "_view_module_version": "1.2.0",
            "_view_name": "StyleView",
            "description_width": ""
          }
        },
        "d2a270b300e24c7494ec136627bc4ac6": {
          "model_module": "@jupyter-widgets/base",
          "model_name": "LayoutModel",
          "model_module_version": "1.2.0",
          "state": {
            "_model_module": "@jupyter-widgets/base",
            "_model_module_version": "1.2.0",
            "_model_name": "LayoutModel",
            "_view_count": null,
            "_view_module": "@jupyter-widgets/base",
            "_view_module_version": "1.2.0",
            "_view_name": "LayoutView",
            "align_content": null,
            "align_items": null,
            "align_self": null,
            "border": null,
            "bottom": null,
            "display": null,
            "flex": null,
            "flex_flow": null,
            "grid_area": null,
            "grid_auto_columns": null,
            "grid_auto_flow": null,
            "grid_auto_rows": null,
            "grid_column": null,
            "grid_gap": null,
            "grid_row": null,
            "grid_template_areas": null,
            "grid_template_columns": null,
            "grid_template_rows": null,
            "height": null,
            "justify_content": null,
            "justify_items": null,
            "left": null,
            "margin": null,
            "max_height": null,
            "max_width": null,
            "min_height": null,
            "min_width": null,
            "object_fit": null,
            "object_position": null,
            "order": null,
            "overflow": null,
            "overflow_x": null,
            "overflow_y": null,
            "padding": null,
            "right": null,
            "top": null,
            "visibility": null,
            "width": null
          }
        },
        "c58a4769e5a64bad8e4584019eb36682": {
          "model_module": "@jupyter-widgets/controls",
          "model_name": "ProgressStyleModel",
          "model_module_version": "1.5.0",
          "state": {
            "_model_module": "@jupyter-widgets/controls",
            "_model_module_version": "1.5.0",
            "_model_name": "ProgressStyleModel",
            "_view_count": null,
            "_view_module": "@jupyter-widgets/base",
            "_view_module_version": "1.2.0",
            "_view_name": "StyleView",
            "bar_color": null,
            "description_width": ""
          }
        },
        "4122da75f8164a4eb85b8f6ba686c340": {
          "model_module": "@jupyter-widgets/base",
          "model_name": "LayoutModel",
          "model_module_version": "1.2.0",
          "state": {
            "_model_module": "@jupyter-widgets/base",
            "_model_module_version": "1.2.0",
            "_model_name": "LayoutModel",
            "_view_count": null,
            "_view_module": "@jupyter-widgets/base",
            "_view_module_version": "1.2.0",
            "_view_name": "LayoutView",
            "align_content": null,
            "align_items": null,
            "align_self": null,
            "border": null,
            "bottom": null,
            "display": null,
            "flex": null,
            "flex_flow": null,
            "grid_area": null,
            "grid_auto_columns": null,
            "grid_auto_flow": null,
            "grid_auto_rows": null,
            "grid_column": null,
            "grid_gap": null,
            "grid_row": null,
            "grid_template_areas": null,
            "grid_template_columns": null,
            "grid_template_rows": null,
            "height": null,
            "justify_content": null,
            "justify_items": null,
            "left": null,
            "margin": null,
            "max_height": null,
            "max_width": null,
            "min_height": null,
            "min_width": null,
            "object_fit": null,
            "object_position": null,
            "order": null,
            "overflow": null,
            "overflow_x": null,
            "overflow_y": null,
            "padding": null,
            "right": null,
            "top": null,
            "visibility": null,
            "width": null
          }
        },
        "2bb9af80d037415d9a3c202cba3f3a83": {
          "model_module": "@jupyter-widgets/controls",
          "model_name": "DescriptionStyleModel",
          "model_module_version": "1.5.0",
          "state": {
            "_model_module": "@jupyter-widgets/controls",
            "_model_module_version": "1.5.0",
            "_model_name": "DescriptionStyleModel",
            "_view_count": null,
            "_view_module": "@jupyter-widgets/base",
            "_view_module_version": "1.2.0",
            "_view_name": "StyleView",
            "description_width": ""
          }
        },
        "1b37256b5cc849c4a45ce396f94dd82c": {
          "model_module": "@jupyter-widgets/controls",
          "model_name": "HBoxModel",
          "model_module_version": "1.5.0",
          "state": {
            "_dom_classes": [],
            "_model_module": "@jupyter-widgets/controls",
            "_model_module_version": "1.5.0",
            "_model_name": "HBoxModel",
            "_view_count": null,
            "_view_module": "@jupyter-widgets/controls",
            "_view_module_version": "1.5.0",
            "_view_name": "HBoxView",
            "box_style": "",
            "children": [
              "IPY_MODEL_aac611c680a74f6f85a3f124253cf81a",
              "IPY_MODEL_ea782055132f400f981d7240c6a9cb63",
              "IPY_MODEL_d537c89aa64341ca9c869c35a42319f9"
            ],
            "layout": "IPY_MODEL_1b3690b155344f9dad1043388c78edc5"
          }
        },
        "aac611c680a74f6f85a3f124253cf81a": {
          "model_module": "@jupyter-widgets/controls",
          "model_name": "HTMLModel",
          "model_module_version": "1.5.0",
          "state": {
            "_dom_classes": [],
            "_model_module": "@jupyter-widgets/controls",
            "_model_module_version": "1.5.0",
            "_model_name": "HTMLModel",
            "_view_count": null,
            "_view_module": "@jupyter-widgets/controls",
            "_view_module_version": "1.5.0",
            "_view_name": "HTMLView",
            "description": "",
            "description_tooltip": null,
            "layout": "IPY_MODEL_5f740b9969a54030bc517431f188ad4d",
            "placeholder": "​",
            "style": "IPY_MODEL_f836e2e1d0074c7d9414ab251f1fd8e2",
            "value": "100%"
          }
        },
        "ea782055132f400f981d7240c6a9cb63": {
          "model_module": "@jupyter-widgets/controls",
          "model_name": "FloatProgressModel",
          "model_module_version": "1.5.0",
          "state": {
            "_dom_classes": [],
            "_model_module": "@jupyter-widgets/controls",
            "_model_module_version": "1.5.0",
            "_model_name": "FloatProgressModel",
            "_view_count": null,
            "_view_module": "@jupyter-widgets/controls",
            "_view_module_version": "1.5.0",
            "_view_name": "ProgressView",
            "bar_style": "success",
            "description": "",
            "description_tooltip": null,
            "layout": "IPY_MODEL_b4fdaba1f37440a08ec8b671faae992c",
            "max": 10000,
            "min": 0,
            "orientation": "horizontal",
            "style": "IPY_MODEL_3c53f64d3c344e8f9e5a18d94add3122",
            "value": 10000
          }
        },
        "d537c89aa64341ca9c869c35a42319f9": {
          "model_module": "@jupyter-widgets/controls",
          "model_name": "HTMLModel",
          "model_module_version": "1.5.0",
          "state": {
            "_dom_classes": [],
            "_model_module": "@jupyter-widgets/controls",
            "_model_module_version": "1.5.0",
            "_model_name": "HTMLModel",
            "_view_count": null,
            "_view_module": "@jupyter-widgets/controls",
            "_view_module_version": "1.5.0",
            "_view_name": "HTMLView",
            "description": "",
            "description_tooltip": null,
            "layout": "IPY_MODEL_0af9e19931bc442788820d8733b63de5",
            "placeholder": "​",
            "style": "IPY_MODEL_523ec8197ec7411f817d89e704ff345a",
            "value": " 10000/10000 [00:10&lt;00:00, 913.16it/s]"
          }
        },
        "1b3690b155344f9dad1043388c78edc5": {
          "model_module": "@jupyter-widgets/base",
          "model_name": "LayoutModel",
          "model_module_version": "1.2.0",
          "state": {
            "_model_module": "@jupyter-widgets/base",
            "_model_module_version": "1.2.0",
            "_model_name": "LayoutModel",
            "_view_count": null,
            "_view_module": "@jupyter-widgets/base",
            "_view_module_version": "1.2.0",
            "_view_name": "LayoutView",
            "align_content": null,
            "align_items": null,
            "align_self": null,
            "border": null,
            "bottom": null,
            "display": null,
            "flex": null,
            "flex_flow": null,
            "grid_area": null,
            "grid_auto_columns": null,
            "grid_auto_flow": null,
            "grid_auto_rows": null,
            "grid_column": null,
            "grid_gap": null,
            "grid_row": null,
            "grid_template_areas": null,
            "grid_template_columns": null,
            "grid_template_rows": null,
            "height": null,
            "justify_content": null,
            "justify_items": null,
            "left": null,
            "margin": null,
            "max_height": null,
            "max_width": null,
            "min_height": null,
            "min_width": null,
            "object_fit": null,
            "object_position": null,
            "order": null,
            "overflow": null,
            "overflow_x": null,
            "overflow_y": null,
            "padding": null,
            "right": null,
            "top": null,
            "visibility": null,
            "width": null
          }
        },
        "5f740b9969a54030bc517431f188ad4d": {
          "model_module": "@jupyter-widgets/base",
          "model_name": "LayoutModel",
          "model_module_version": "1.2.0",
          "state": {
            "_model_module": "@jupyter-widgets/base",
            "_model_module_version": "1.2.0",
            "_model_name": "LayoutModel",
            "_view_count": null,
            "_view_module": "@jupyter-widgets/base",
            "_view_module_version": "1.2.0",
            "_view_name": "LayoutView",
            "align_content": null,
            "align_items": null,
            "align_self": null,
            "border": null,
            "bottom": null,
            "display": null,
            "flex": null,
            "flex_flow": null,
            "grid_area": null,
            "grid_auto_columns": null,
            "grid_auto_flow": null,
            "grid_auto_rows": null,
            "grid_column": null,
            "grid_gap": null,
            "grid_row": null,
            "grid_template_areas": null,
            "grid_template_columns": null,
            "grid_template_rows": null,
            "height": null,
            "justify_content": null,
            "justify_items": null,
            "left": null,
            "margin": null,
            "max_height": null,
            "max_width": null,
            "min_height": null,
            "min_width": null,
            "object_fit": null,
            "object_position": null,
            "order": null,
            "overflow": null,
            "overflow_x": null,
            "overflow_y": null,
            "padding": null,
            "right": null,
            "top": null,
            "visibility": null,
            "width": null
          }
        },
        "f836e2e1d0074c7d9414ab251f1fd8e2": {
          "model_module": "@jupyter-widgets/controls",
          "model_name": "DescriptionStyleModel",
          "model_module_version": "1.5.0",
          "state": {
            "_model_module": "@jupyter-widgets/controls",
            "_model_module_version": "1.5.0",
            "_model_name": "DescriptionStyleModel",
            "_view_count": null,
            "_view_module": "@jupyter-widgets/base",
            "_view_module_version": "1.2.0",
            "_view_name": "StyleView",
            "description_width": ""
          }
        },
        "b4fdaba1f37440a08ec8b671faae992c": {
          "model_module": "@jupyter-widgets/base",
          "model_name": "LayoutModel",
          "model_module_version": "1.2.0",
          "state": {
            "_model_module": "@jupyter-widgets/base",
            "_model_module_version": "1.2.0",
            "_model_name": "LayoutModel",
            "_view_count": null,
            "_view_module": "@jupyter-widgets/base",
            "_view_module_version": "1.2.0",
            "_view_name": "LayoutView",
            "align_content": null,
            "align_items": null,
            "align_self": null,
            "border": null,
            "bottom": null,
            "display": null,
            "flex": null,
            "flex_flow": null,
            "grid_area": null,
            "grid_auto_columns": null,
            "grid_auto_flow": null,
            "grid_auto_rows": null,
            "grid_column": null,
            "grid_gap": null,
            "grid_row": null,
            "grid_template_areas": null,
            "grid_template_columns": null,
            "grid_template_rows": null,
            "height": null,
            "justify_content": null,
            "justify_items": null,
            "left": null,
            "margin": null,
            "max_height": null,
            "max_width": null,
            "min_height": null,
            "min_width": null,
            "object_fit": null,
            "object_position": null,
            "order": null,
            "overflow": null,
            "overflow_x": null,
            "overflow_y": null,
            "padding": null,
            "right": null,
            "top": null,
            "visibility": null,
            "width": null
          }
        },
        "3c53f64d3c344e8f9e5a18d94add3122": {
          "model_module": "@jupyter-widgets/controls",
          "model_name": "ProgressStyleModel",
          "model_module_version": "1.5.0",
          "state": {
            "_model_module": "@jupyter-widgets/controls",
            "_model_module_version": "1.5.0",
            "_model_name": "ProgressStyleModel",
            "_view_count": null,
            "_view_module": "@jupyter-widgets/base",
            "_view_module_version": "1.2.0",
            "_view_name": "StyleView",
            "bar_color": null,
            "description_width": ""
          }
        },
        "0af9e19931bc442788820d8733b63de5": {
          "model_module": "@jupyter-widgets/base",
          "model_name": "LayoutModel",
          "model_module_version": "1.2.0",
          "state": {
            "_model_module": "@jupyter-widgets/base",
            "_model_module_version": "1.2.0",
            "_model_name": "LayoutModel",
            "_view_count": null,
            "_view_module": "@jupyter-widgets/base",
            "_view_module_version": "1.2.0",
            "_view_name": "LayoutView",
            "align_content": null,
            "align_items": null,
            "align_self": null,
            "border": null,
            "bottom": null,
            "display": null,
            "flex": null,
            "flex_flow": null,
            "grid_area": null,
            "grid_auto_columns": null,
            "grid_auto_flow": null,
            "grid_auto_rows": null,
            "grid_column": null,
            "grid_gap": null,
            "grid_row": null,
            "grid_template_areas": null,
            "grid_template_columns": null,
            "grid_template_rows": null,
            "height": null,
            "justify_content": null,
            "justify_items": null,
            "left": null,
            "margin": null,
            "max_height": null,
            "max_width": null,
            "min_height": null,
            "min_width": null,
            "object_fit": null,
            "object_position": null,
            "order": null,
            "overflow": null,
            "overflow_x": null,
            "overflow_y": null,
            "padding": null,
            "right": null,
            "top": null,
            "visibility": null,
            "width": null
          }
        },
        "523ec8197ec7411f817d89e704ff345a": {
          "model_module": "@jupyter-widgets/controls",
          "model_name": "DescriptionStyleModel",
          "model_module_version": "1.5.0",
          "state": {
            "_model_module": "@jupyter-widgets/controls",
            "_model_module_version": "1.5.0",
            "_model_name": "DescriptionStyleModel",
            "_view_count": null,
            "_view_module": "@jupyter-widgets/base",
            "_view_module_version": "1.2.0",
            "_view_name": "StyleView",
            "description_width": ""
          }
        },
        "dc5ecffb5c724e45bdc62b7412d2a68a": {
          "model_module": "@jupyter-widgets/controls",
          "model_name": "HBoxModel",
          "model_module_version": "1.5.0",
          "state": {
            "_dom_classes": [],
            "_model_module": "@jupyter-widgets/controls",
            "_model_module_version": "1.5.0",
            "_model_name": "HBoxModel",
            "_view_count": null,
            "_view_module": "@jupyter-widgets/controls",
            "_view_module_version": "1.5.0",
            "_view_name": "HBoxView",
            "box_style": "",
            "children": [
              "IPY_MODEL_dbc470bde98842c98c54c7392b4c37a9",
              "IPY_MODEL_2f8a6c3211c94e769e9b0a077c242edc",
              "IPY_MODEL_3611354fc4254b2ab190e13c1aa3b9e8"
            ],
            "layout": "IPY_MODEL_156432de83b6416193462860d3bb39e7"
          }
        },
        "dbc470bde98842c98c54c7392b4c37a9": {
          "model_module": "@jupyter-widgets/controls",
          "model_name": "HTMLModel",
          "model_module_version": "1.5.0",
          "state": {
            "_dom_classes": [],
            "_model_module": "@jupyter-widgets/controls",
            "_model_module_version": "1.5.0",
            "_model_name": "HTMLModel",
            "_view_count": null,
            "_view_module": "@jupyter-widgets/controls",
            "_view_module_version": "1.5.0",
            "_view_name": "HTMLView",
            "description": "",
            "description_tooltip": null,
            "layout": "IPY_MODEL_9c50bf4650f14b8baf3446a8d2bf9740",
            "placeholder": "​",
            "style": "IPY_MODEL_a6e3be48c50449dbb4db490d28c6d49a",
            "value": "100%"
          }
        },
        "2f8a6c3211c94e769e9b0a077c242edc": {
          "model_module": "@jupyter-widgets/controls",
          "model_name": "FloatProgressModel",
          "model_module_version": "1.5.0",
          "state": {
            "_dom_classes": [],
            "_model_module": "@jupyter-widgets/controls",
            "_model_module_version": "1.5.0",
            "_model_name": "FloatProgressModel",
            "_view_count": null,
            "_view_module": "@jupyter-widgets/controls",
            "_view_module_version": "1.5.0",
            "_view_name": "ProgressView",
            "bar_style": "success",
            "description": "",
            "description_tooltip": null,
            "layout": "IPY_MODEL_0640810cda064f268add339eb4a402b2",
            "max": 10000,
            "min": 0,
            "orientation": "horizontal",
            "style": "IPY_MODEL_15276530000145d3bbbf502ec44f0181",
            "value": 10000
          }
        },
        "3611354fc4254b2ab190e13c1aa3b9e8": {
          "model_module": "@jupyter-widgets/controls",
          "model_name": "HTMLModel",
          "model_module_version": "1.5.0",
          "state": {
            "_dom_classes": [],
            "_model_module": "@jupyter-widgets/controls",
            "_model_module_version": "1.5.0",
            "_model_name": "HTMLModel",
            "_view_count": null,
            "_view_module": "@jupyter-widgets/controls",
            "_view_module_version": "1.5.0",
            "_view_name": "HTMLView",
            "description": "",
            "description_tooltip": null,
            "layout": "IPY_MODEL_7d07b36cf79642abbc1bd9deb06c9564",
            "placeholder": "​",
            "style": "IPY_MODEL_f51a9d21da4d4779a0c946e832620d97",
            "value": " 10000/10000 [00:11&lt;00:00, 840.71it/s]"
          }
        },
        "156432de83b6416193462860d3bb39e7": {
          "model_module": "@jupyter-widgets/base",
          "model_name": "LayoutModel",
          "model_module_version": "1.2.0",
          "state": {
            "_model_module": "@jupyter-widgets/base",
            "_model_module_version": "1.2.0",
            "_model_name": "LayoutModel",
            "_view_count": null,
            "_view_module": "@jupyter-widgets/base",
            "_view_module_version": "1.2.0",
            "_view_name": "LayoutView",
            "align_content": null,
            "align_items": null,
            "align_self": null,
            "border": null,
            "bottom": null,
            "display": null,
            "flex": null,
            "flex_flow": null,
            "grid_area": null,
            "grid_auto_columns": null,
            "grid_auto_flow": null,
            "grid_auto_rows": null,
            "grid_column": null,
            "grid_gap": null,
            "grid_row": null,
            "grid_template_areas": null,
            "grid_template_columns": null,
            "grid_template_rows": null,
            "height": null,
            "justify_content": null,
            "justify_items": null,
            "left": null,
            "margin": null,
            "max_height": null,
            "max_width": null,
            "min_height": null,
            "min_width": null,
            "object_fit": null,
            "object_position": null,
            "order": null,
            "overflow": null,
            "overflow_x": null,
            "overflow_y": null,
            "padding": null,
            "right": null,
            "top": null,
            "visibility": null,
            "width": null
          }
        },
        "9c50bf4650f14b8baf3446a8d2bf9740": {
          "model_module": "@jupyter-widgets/base",
          "model_name": "LayoutModel",
          "model_module_version": "1.2.0",
          "state": {
            "_model_module": "@jupyter-widgets/base",
            "_model_module_version": "1.2.0",
            "_model_name": "LayoutModel",
            "_view_count": null,
            "_view_module": "@jupyter-widgets/base",
            "_view_module_version": "1.2.0",
            "_view_name": "LayoutView",
            "align_content": null,
            "align_items": null,
            "align_self": null,
            "border": null,
            "bottom": null,
            "display": null,
            "flex": null,
            "flex_flow": null,
            "grid_area": null,
            "grid_auto_columns": null,
            "grid_auto_flow": null,
            "grid_auto_rows": null,
            "grid_column": null,
            "grid_gap": null,
            "grid_row": null,
            "grid_template_areas": null,
            "grid_template_columns": null,
            "grid_template_rows": null,
            "height": null,
            "justify_content": null,
            "justify_items": null,
            "left": null,
            "margin": null,
            "max_height": null,
            "max_width": null,
            "min_height": null,
            "min_width": null,
            "object_fit": null,
            "object_position": null,
            "order": null,
            "overflow": null,
            "overflow_x": null,
            "overflow_y": null,
            "padding": null,
            "right": null,
            "top": null,
            "visibility": null,
            "width": null
          }
        },
        "a6e3be48c50449dbb4db490d28c6d49a": {
          "model_module": "@jupyter-widgets/controls",
          "model_name": "DescriptionStyleModel",
          "model_module_version": "1.5.0",
          "state": {
            "_model_module": "@jupyter-widgets/controls",
            "_model_module_version": "1.5.0",
            "_model_name": "DescriptionStyleModel",
            "_view_count": null,
            "_view_module": "@jupyter-widgets/base",
            "_view_module_version": "1.2.0",
            "_view_name": "StyleView",
            "description_width": ""
          }
        },
        "0640810cda064f268add339eb4a402b2": {
          "model_module": "@jupyter-widgets/base",
          "model_name": "LayoutModel",
          "model_module_version": "1.2.0",
          "state": {
            "_model_module": "@jupyter-widgets/base",
            "_model_module_version": "1.2.0",
            "_model_name": "LayoutModel",
            "_view_count": null,
            "_view_module": "@jupyter-widgets/base",
            "_view_module_version": "1.2.0",
            "_view_name": "LayoutView",
            "align_content": null,
            "align_items": null,
            "align_self": null,
            "border": null,
            "bottom": null,
            "display": null,
            "flex": null,
            "flex_flow": null,
            "grid_area": null,
            "grid_auto_columns": null,
            "grid_auto_flow": null,
            "grid_auto_rows": null,
            "grid_column": null,
            "grid_gap": null,
            "grid_row": null,
            "grid_template_areas": null,
            "grid_template_columns": null,
            "grid_template_rows": null,
            "height": null,
            "justify_content": null,
            "justify_items": null,
            "left": null,
            "margin": null,
            "max_height": null,
            "max_width": null,
            "min_height": null,
            "min_width": null,
            "object_fit": null,
            "object_position": null,
            "order": null,
            "overflow": null,
            "overflow_x": null,
            "overflow_y": null,
            "padding": null,
            "right": null,
            "top": null,
            "visibility": null,
            "width": null
          }
        },
        "15276530000145d3bbbf502ec44f0181": {
          "model_module": "@jupyter-widgets/controls",
          "model_name": "ProgressStyleModel",
          "model_module_version": "1.5.0",
          "state": {
            "_model_module": "@jupyter-widgets/controls",
            "_model_module_version": "1.5.0",
            "_model_name": "ProgressStyleModel",
            "_view_count": null,
            "_view_module": "@jupyter-widgets/base",
            "_view_module_version": "1.2.0",
            "_view_name": "StyleView",
            "bar_color": null,
            "description_width": ""
          }
        },
        "7d07b36cf79642abbc1bd9deb06c9564": {
          "model_module": "@jupyter-widgets/base",
          "model_name": "LayoutModel",
          "model_module_version": "1.2.0",
          "state": {
            "_model_module": "@jupyter-widgets/base",
            "_model_module_version": "1.2.0",
            "_model_name": "LayoutModel",
            "_view_count": null,
            "_view_module": "@jupyter-widgets/base",
            "_view_module_version": "1.2.0",
            "_view_name": "LayoutView",
            "align_content": null,
            "align_items": null,
            "align_self": null,
            "border": null,
            "bottom": null,
            "display": null,
            "flex": null,
            "flex_flow": null,
            "grid_area": null,
            "grid_auto_columns": null,
            "grid_auto_flow": null,
            "grid_auto_rows": null,
            "grid_column": null,
            "grid_gap": null,
            "grid_row": null,
            "grid_template_areas": null,
            "grid_template_columns": null,
            "grid_template_rows": null,
            "height": null,
            "justify_content": null,
            "justify_items": null,
            "left": null,
            "margin": null,
            "max_height": null,
            "max_width": null,
            "min_height": null,
            "min_width": null,
            "object_fit": null,
            "object_position": null,
            "order": null,
            "overflow": null,
            "overflow_x": null,
            "overflow_y": null,
            "padding": null,
            "right": null,
            "top": null,
            "visibility": null,
            "width": null
          }
        },
        "f51a9d21da4d4779a0c946e832620d97": {
          "model_module": "@jupyter-widgets/controls",
          "model_name": "DescriptionStyleModel",
          "model_module_version": "1.5.0",
          "state": {
            "_model_module": "@jupyter-widgets/controls",
            "_model_module_version": "1.5.0",
            "_model_name": "DescriptionStyleModel",
            "_view_count": null,
            "_view_module": "@jupyter-widgets/base",
            "_view_module_version": "1.2.0",
            "_view_name": "StyleView",
            "description_width": ""
          }
        },
        "870a26b38e0b4336a993e0f110f4cd12": {
          "model_module": "@jupyter-widgets/controls",
          "model_name": "HBoxModel",
          "model_module_version": "1.5.0",
          "state": {
            "_dom_classes": [],
            "_model_module": "@jupyter-widgets/controls",
            "_model_module_version": "1.5.0",
            "_model_name": "HBoxModel",
            "_view_count": null,
            "_view_module": "@jupyter-widgets/controls",
            "_view_module_version": "1.5.0",
            "_view_name": "HBoxView",
            "box_style": "",
            "children": [
              "IPY_MODEL_f6a31d16c88e40569e0bca6ef79c6ef9",
              "IPY_MODEL_d6db4db025d2471aac19bb8aec7fdcb8",
              "IPY_MODEL_f6fc797ec9fd49468b564b9357767500"
            ],
            "layout": "IPY_MODEL_2d90bb296d2c4625b2a4bd2f877c4c3d"
          }
        },
        "f6a31d16c88e40569e0bca6ef79c6ef9": {
          "model_module": "@jupyter-widgets/controls",
          "model_name": "HTMLModel",
          "model_module_version": "1.5.0",
          "state": {
            "_dom_classes": [],
            "_model_module": "@jupyter-widgets/controls",
            "_model_module_version": "1.5.0",
            "_model_name": "HTMLModel",
            "_view_count": null,
            "_view_module": "@jupyter-widgets/controls",
            "_view_module_version": "1.5.0",
            "_view_name": "HTMLView",
            "description": "",
            "description_tooltip": null,
            "layout": "IPY_MODEL_4b74372adb534354911839b82a87644c",
            "placeholder": "​",
            "style": "IPY_MODEL_51e3f13c9f8444dab199d8b776897174",
            "value": "100%"
          }
        },
        "d6db4db025d2471aac19bb8aec7fdcb8": {
          "model_module": "@jupyter-widgets/controls",
          "model_name": "FloatProgressModel",
          "model_module_version": "1.5.0",
          "state": {
            "_dom_classes": [],
            "_model_module": "@jupyter-widgets/controls",
            "_model_module_version": "1.5.0",
            "_model_name": "FloatProgressModel",
            "_view_count": null,
            "_view_module": "@jupyter-widgets/controls",
            "_view_module_version": "1.5.0",
            "_view_name": "ProgressView",
            "bar_style": "success",
            "description": "",
            "description_tooltip": null,
            "layout": "IPY_MODEL_12ef378db92847e699fa44abc4fd5eb0",
            "max": 10000,
            "min": 0,
            "orientation": "horizontal",
            "style": "IPY_MODEL_86f90dbb26784889bc43d4f23ed59bee",
            "value": 10000
          }
        },
        "f6fc797ec9fd49468b564b9357767500": {
          "model_module": "@jupyter-widgets/controls",
          "model_name": "HTMLModel",
          "model_module_version": "1.5.0",
          "state": {
            "_dom_classes": [],
            "_model_module": "@jupyter-widgets/controls",
            "_model_module_version": "1.5.0",
            "_model_name": "HTMLModel",
            "_view_count": null,
            "_view_module": "@jupyter-widgets/controls",
            "_view_module_version": "1.5.0",
            "_view_name": "HTMLView",
            "description": "",
            "description_tooltip": null,
            "layout": "IPY_MODEL_9d18a67518ad455da6843dc6e68448e0",
            "placeholder": "​",
            "style": "IPY_MODEL_a760cce9bc9f4ab395e281d52a0fd61a",
            "value": " 10000/10000 [00:10&lt;00:00, 955.53it/s]"
          }
        },
        "2d90bb296d2c4625b2a4bd2f877c4c3d": {
          "model_module": "@jupyter-widgets/base",
          "model_name": "LayoutModel",
          "model_module_version": "1.2.0",
          "state": {
            "_model_module": "@jupyter-widgets/base",
            "_model_module_version": "1.2.0",
            "_model_name": "LayoutModel",
            "_view_count": null,
            "_view_module": "@jupyter-widgets/base",
            "_view_module_version": "1.2.0",
            "_view_name": "LayoutView",
            "align_content": null,
            "align_items": null,
            "align_self": null,
            "border": null,
            "bottom": null,
            "display": null,
            "flex": null,
            "flex_flow": null,
            "grid_area": null,
            "grid_auto_columns": null,
            "grid_auto_flow": null,
            "grid_auto_rows": null,
            "grid_column": null,
            "grid_gap": null,
            "grid_row": null,
            "grid_template_areas": null,
            "grid_template_columns": null,
            "grid_template_rows": null,
            "height": null,
            "justify_content": null,
            "justify_items": null,
            "left": null,
            "margin": null,
            "max_height": null,
            "max_width": null,
            "min_height": null,
            "min_width": null,
            "object_fit": null,
            "object_position": null,
            "order": null,
            "overflow": null,
            "overflow_x": null,
            "overflow_y": null,
            "padding": null,
            "right": null,
            "top": null,
            "visibility": null,
            "width": null
          }
        },
        "4b74372adb534354911839b82a87644c": {
          "model_module": "@jupyter-widgets/base",
          "model_name": "LayoutModel",
          "model_module_version": "1.2.0",
          "state": {
            "_model_module": "@jupyter-widgets/base",
            "_model_module_version": "1.2.0",
            "_model_name": "LayoutModel",
            "_view_count": null,
            "_view_module": "@jupyter-widgets/base",
            "_view_module_version": "1.2.0",
            "_view_name": "LayoutView",
            "align_content": null,
            "align_items": null,
            "align_self": null,
            "border": null,
            "bottom": null,
            "display": null,
            "flex": null,
            "flex_flow": null,
            "grid_area": null,
            "grid_auto_columns": null,
            "grid_auto_flow": null,
            "grid_auto_rows": null,
            "grid_column": null,
            "grid_gap": null,
            "grid_row": null,
            "grid_template_areas": null,
            "grid_template_columns": null,
            "grid_template_rows": null,
            "height": null,
            "justify_content": null,
            "justify_items": null,
            "left": null,
            "margin": null,
            "max_height": null,
            "max_width": null,
            "min_height": null,
            "min_width": null,
            "object_fit": null,
            "object_position": null,
            "order": null,
            "overflow": null,
            "overflow_x": null,
            "overflow_y": null,
            "padding": null,
            "right": null,
            "top": null,
            "visibility": null,
            "width": null
          }
        },
        "51e3f13c9f8444dab199d8b776897174": {
          "model_module": "@jupyter-widgets/controls",
          "model_name": "DescriptionStyleModel",
          "model_module_version": "1.5.0",
          "state": {
            "_model_module": "@jupyter-widgets/controls",
            "_model_module_version": "1.5.0",
            "_model_name": "DescriptionStyleModel",
            "_view_count": null,
            "_view_module": "@jupyter-widgets/base",
            "_view_module_version": "1.2.0",
            "_view_name": "StyleView",
            "description_width": ""
          }
        },
        "12ef378db92847e699fa44abc4fd5eb0": {
          "model_module": "@jupyter-widgets/base",
          "model_name": "LayoutModel",
          "model_module_version": "1.2.0",
          "state": {
            "_model_module": "@jupyter-widgets/base",
            "_model_module_version": "1.2.0",
            "_model_name": "LayoutModel",
            "_view_count": null,
            "_view_module": "@jupyter-widgets/base",
            "_view_module_version": "1.2.0",
            "_view_name": "LayoutView",
            "align_content": null,
            "align_items": null,
            "align_self": null,
            "border": null,
            "bottom": null,
            "display": null,
            "flex": null,
            "flex_flow": null,
            "grid_area": null,
            "grid_auto_columns": null,
            "grid_auto_flow": null,
            "grid_auto_rows": null,
            "grid_column": null,
            "grid_gap": null,
            "grid_row": null,
            "grid_template_areas": null,
            "grid_template_columns": null,
            "grid_template_rows": null,
            "height": null,
            "justify_content": null,
            "justify_items": null,
            "left": null,
            "margin": null,
            "max_height": null,
            "max_width": null,
            "min_height": null,
            "min_width": null,
            "object_fit": null,
            "object_position": null,
            "order": null,
            "overflow": null,
            "overflow_x": null,
            "overflow_y": null,
            "padding": null,
            "right": null,
            "top": null,
            "visibility": null,
            "width": null
          }
        },
        "86f90dbb26784889bc43d4f23ed59bee": {
          "model_module": "@jupyter-widgets/controls",
          "model_name": "ProgressStyleModel",
          "model_module_version": "1.5.0",
          "state": {
            "_model_module": "@jupyter-widgets/controls",
            "_model_module_version": "1.5.0",
            "_model_name": "ProgressStyleModel",
            "_view_count": null,
            "_view_module": "@jupyter-widgets/base",
            "_view_module_version": "1.2.0",
            "_view_name": "StyleView",
            "bar_color": null,
            "description_width": ""
          }
        },
        "9d18a67518ad455da6843dc6e68448e0": {
          "model_module": "@jupyter-widgets/base",
          "model_name": "LayoutModel",
          "model_module_version": "1.2.0",
          "state": {
            "_model_module": "@jupyter-widgets/base",
            "_model_module_version": "1.2.0",
            "_model_name": "LayoutModel",
            "_view_count": null,
            "_view_module": "@jupyter-widgets/base",
            "_view_module_version": "1.2.0",
            "_view_name": "LayoutView",
            "align_content": null,
            "align_items": null,
            "align_self": null,
            "border": null,
            "bottom": null,
            "display": null,
            "flex": null,
            "flex_flow": null,
            "grid_area": null,
            "grid_auto_columns": null,
            "grid_auto_flow": null,
            "grid_auto_rows": null,
            "grid_column": null,
            "grid_gap": null,
            "grid_row": null,
            "grid_template_areas": null,
            "grid_template_columns": null,
            "grid_template_rows": null,
            "height": null,
            "justify_content": null,
            "justify_items": null,
            "left": null,
            "margin": null,
            "max_height": null,
            "max_width": null,
            "min_height": null,
            "min_width": null,
            "object_fit": null,
            "object_position": null,
            "order": null,
            "overflow": null,
            "overflow_x": null,
            "overflow_y": null,
            "padding": null,
            "right": null,
            "top": null,
            "visibility": null,
            "width": null
          }
        },
        "a760cce9bc9f4ab395e281d52a0fd61a": {
          "model_module": "@jupyter-widgets/controls",
          "model_name": "DescriptionStyleModel",
          "model_module_version": "1.5.0",
          "state": {
            "_model_module": "@jupyter-widgets/controls",
            "_model_module_version": "1.5.0",
            "_model_name": "DescriptionStyleModel",
            "_view_count": null,
            "_view_module": "@jupyter-widgets/base",
            "_view_module_version": "1.2.0",
            "_view_name": "StyleView",
            "description_width": ""
          }
        }
      }
    }
  },
  "cells": [
    {
      "cell_type": "markdown",
      "source": [
        "# CensoredNormal_Implementation\n",
        "\n",
        "This notebook is protoype for developing and testing Pytorch and PYro compatible implementation of the censored normal distribution."
      ],
      "metadata": {
        "id": "Iopc07LJzwND"
      }
    },
    {
      "cell_type": "code",
      "execution_count": null,
      "metadata": {
        "id": "vmM3Rp0ZazQf",
        "colab": {
          "base_uri": "https://localhost:8080/"
        },
        "outputId": "d1431ccc-c0bf-43f8-ce31-ea53aa344b85"
      },
      "outputs": [
        {
          "output_type": "stream",
          "name": "stdout",
          "text": [
            "\u001b[?25l     \u001b[90m━━━━━━━━━━━━━━━━━━━━━━━━━━━━━━━━━━━━━━━━\u001b[0m \u001b[32m0.0/745.2 kB\u001b[0m \u001b[31m?\u001b[0m eta \u001b[36m-:--:--\u001b[0m\r\u001b[2K     \u001b[91m━━━━━━━━━━\u001b[0m\u001b[91m╸\u001b[0m\u001b[90m━━━━━━━━━━━━━━━━━━━━━━━━━━━━━\u001b[0m \u001b[32m204.8/745.2 kB\u001b[0m \u001b[31m6.0 MB/s\u001b[0m eta \u001b[36m0:00:01\u001b[0m\r\u001b[2K     \u001b[91m━━━━━━━━━━━━━━━━━━━━━━━━━━━━━━━━━━━━━━━\u001b[0m\u001b[91m╸\u001b[0m \u001b[32m737.3/745.2 kB\u001b[0m \u001b[31m13.2 MB/s\u001b[0m eta \u001b[36m0:00:01\u001b[0m\r\u001b[2K     \u001b[90m━━━━━━━━━━━━━━━━━━━━━━━━━━━━━━━━━━━━━━━━\u001b[0m \u001b[32m745.2/745.2 kB\u001b[0m \u001b[31m10.4 MB/s\u001b[0m eta \u001b[36m0:00:00\u001b[0m\n",
            "\u001b[?25h"
          ]
        }
      ],
      "source": [
        "!pip install -q pyro-ppl"
      ]
    },
    {
      "cell_type": "code",
      "source": [
        "import os\n",
        "from functools import partial\n",
        "\n",
        "import torch\n",
        "import torch.nn as nn\n",
        "import torch.distributions.constraints as constraints\n",
        "\n",
        "import numpy as np\n",
        "\n",
        "import pyro\n",
        "import pyro\n",
        "import pyro.infer\n",
        "import pyro.optim\n",
        "import pyro.distributions as dist\n",
        "from pyro.nn import PyroModule, PyroSample\n",
        "from pyro.infer.autoguide import AutoDiagonalNormal\n",
        "from pyro.infer import SVI, Trace_ELBO, Predictive\n",
        "from tqdm.auto import trange, tqdm\n",
        "\n",
        "import matplotlib.pyplot as plt\n",
        "from mpl_toolkits.axes_grid1 import make_axes_locatable\n",
        "import seaborn as sns\n",
        "\n",
        "smoke_test = \"CI\" in os.environ  # ignore; used to check code integrity in the Pyro repo\n",
        "#assert pyro.__version__.startswith('1.8.6')\n",
        "pyro.set_rng_seed(0)\n",
        "torch.set_default_tensor_type(torch.DoubleTensor)"
      ],
      "metadata": {
        "id": "c-dBX_WLfuxa",
        "colab": {
          "base_uri": "https://localhost:8080/"
        },
        "outputId": "882c8072-9251-4741-f54f-a44eefdeed05"
      },
      "execution_count": null,
      "outputs": [
        {
          "output_type": "stream",
          "name": "stderr",
          "text": [
            "/usr/local/lib/python3.10/dist-packages/torch/__init__.py:696: UserWarning: torch.set_default_tensor_type() is deprecated as of PyTorch 2.1, please use torch.set_default_dtype() and torch.set_default_device() as alternatives. (Triggered internally at ../torch/csrc/tensor/python_tensor.cpp:451.)\n",
            "  _C._set_default_tensor_type(t)\n"
          ]
        }
      ]
    },
    {
      "cell_type": "markdown",
      "source": [
        "## Sampling From Normal Distribution\n",
        "\n",
        "* likelihood estimation of the parameters of censored and truncated distribution to demonstrate the impact of the transformations on the underlying normal distribution"
      ],
      "metadata": {
        "id": "UwrkEGZXNb6u"
      }
    },
    {
      "cell_type": "code",
      "source": [
        "def optimise_likelihood(x, num_iterations=1000):\n",
        "    pyro.clear_param_store()\n",
        "    loc_ = torch.tensor([0.], requires_grad=True)\n",
        "    scale_ = torch.tensor([1.], requires_grad=True)\n",
        "    optimizer = torch.optim.Adam([loc_, scale_], lr=0.05)\n",
        "\n",
        "    pbar = tqdm(range(num_iterations), position=0, leave=True)\n",
        "\n",
        "    losses = []\n",
        "    for epoch in pbar:\n",
        "        optimizer.zero_grad()\n",
        "        pX = dist.Normal( loc_, scale_)\n",
        "        loss = -pX.log_prob(x).mean()     # \"forward\" compute the loss (neg avg log-likelihood)\n",
        "        loss.backward()\n",
        "        optimizer.step()\n",
        "        optimizer.zero_grad()                   # \"backward\" compute the gradient (& unfortunately clear stuff)\n",
        "        losses.append(loss.item())\n",
        "    res = {\n",
        "        'loc': loc_.item(),\n",
        "        'scale' : scale_.item()\n",
        "        }\n",
        "    return res"
      ],
      "metadata": {
        "id": "J6M4-B55QbFl"
      },
      "execution_count": null,
      "outputs": []
    },
    {
      "cell_type": "code",
      "source": [
        "N = 500\n",
        "true_sigma = 5.0\n",
        "true_loc = 13.\n",
        "\n",
        "\n",
        "# generate the data\n",
        "X = dist.Uniform(torch.tensor([-5.]), torch.tensor([35.0]))\n",
        "Y = dist.Normal(torch.tensor([true_loc]), torch.tensor([true_sigma]))\n",
        "\n",
        "x = X.sample(sample_shape=(N,))\n",
        "y = Y.sample(sample_shape=(N,))\n",
        "\n",
        "# censor the data\n",
        "lower_bound = 3.\n",
        "upper_bound = 16.\n",
        "\n",
        "y_censored = torch.clamp(y, min=lower_bound, max=upper_bound)\n",
        "mask = (y < lower_bound)  | (y > upper_bound)\n",
        "y_censored_indices = torch.nonzero(mask, as_tuple=True)[0]\n",
        "y_truncated_indices = torch.nonzero(~mask, as_tuple=True)[0]\n",
        "\n",
        "x_truncated = x[y_truncated_indices]\n",
        "y_truncated = y[y_truncated_indices]"
      ],
      "metadata": {
        "id": "Bea5mjOC_E_A"
      },
      "execution_count": null,
      "outputs": []
    },
    {
      "cell_type": "code",
      "source": [
        "# Visualize uncensored, censored and truncated data\n",
        "_, ax = plt.subplots(1,2, figsize=(12, 4))\n",
        "edges = np.linspace(-5, 35, 30)\n",
        "for ax_ in ax:\n",
        "  ax_.hist(y.numpy(), bins=edges, density=True, histtype=\"stepfilled\", alpha=0.4, label=\"Data\")\n",
        "  [ax_.axvline(x=x, c=\"k\", ls=\"--\") for x in [lower_bound, upper_bound]]\n",
        "\n",
        "ax[0].hist(y_censored.numpy(), bins=edges, density=True, histtype=\"stepfilled\", alpha=0.4, label=\"Censored\")\n",
        "ax[0].legend()\n",
        "_ = ax[0].set(title=\"Censored data\")\n",
        "\n",
        "ax[1].hist(y_truncated.numpy(), bins=edges, density=True, histtype=\"stepfilled\", alpha=0.4, label=\"Truncated\")\n",
        "ax[1].legend()\n",
        "_ = ax[1].set(title=\"Truncated data\")\n",
        "\n",
        "#plt.savefig('dists.pdf', format='pdf')"
      ],
      "metadata": {
        "colab": {
          "base_uri": "https://localhost:8080/",
          "height": 275
        },
        "id": "DgwE2RGvAo5A",
        "outputId": "f87c5df0-5b5b-4db2-b776-e799bf6f5154"
      },
      "execution_count": null,
      "outputs": [
        {
          "output_type": "display_data",
          "data": {
            "text/plain": [
              "<Figure size 1200x400 with 2 Axes>"
            ],
            "image/png": "[encoded data removed]"
          },
          "metadata": {}
        }
      ]
    },
    {
      "cell_type": "code",
      "source": [
        "# parameters for non-censored data are: loc = 13., scale =5.\n",
        "print(\" all data\")\n",
        "print(optimise_likelihood(y, 10000))\n",
        "print('sample mean: {: .5f}, sample std: {: .5f}'.format(y.mean().item(), y.std().item()))"
      ],
      "metadata": {
        "colab": {
          "base_uri": "https://localhost:8080/",
          "height": 104,
          "referenced_widgets": [
            "1b37256b5cc849c4a45ce396f94dd82c",
            "aac611c680a74f6f85a3f124253cf81a",
            "ea782055132f400f981d7240c6a9cb63",
            "d537c89aa64341ca9c869c35a42319f9",
            "1b3690b155344f9dad1043388c78edc5",
            "5f740b9969a54030bc517431f188ad4d",
            "f836e2e1d0074c7d9414ab251f1fd8e2",
            "b4fdaba1f37440a08ec8b671faae992c",
            "3c53f64d3c344e8f9e5a18d94add3122",
            "0af9e19931bc442788820d8733b63de5",
            "523ec8197ec7411f817d89e704ff345a"
          ]
        },
        "id": "ut0Nnu2lhTof",
        "outputId": "b44661f8-32a9-4f7f-d9b8-d828d1b1028e"
      },
      "execution_count": null,
      "outputs": [
        {
          "output_type": "stream",
          "name": "stdout",
          "text": [
            " all data\n"
          ]
        },
        {
          "output_type": "display_data",
          "data": {
            "text/plain": [
              "  0%|          | 0/10000 [00:00<?, ?it/s]"
            ],
            "application/vnd.jupyter.widget-view+json": {
              "version_major": 2,
              "version_minor": 0,
              "model_id": "1b37256b5cc849c4a45ce396f94dd82c"
            }
          },
          "metadata": {}
        },
        {
          "output_type": "stream",
          "name": "stdout",
          "text": [
            "{'loc': 13.006156005290995, 'scale': 5.096483645363328}\n",
            "sample mean:  13.00616, sample std:  5.10159\n"
          ]
        }
      ]
    },
    {
      "cell_type": "code",
      "source": [
        "# parameters for non-censored data are: loc = 13., scale =5.\n",
        "print(\"censored\")\n",
        "print(optimise_likelihood(y_censored, 10000))\n",
        "print('sample mean: {: .5f}, sample std: {: .5f}'.format(y_censored.mean().item(), y_censored.std().item()))"
      ],
      "metadata": {
        "colab": {
          "base_uri": "https://localhost:8080/",
          "height": 104,
          "referenced_widgets": [
            "dc5ecffb5c724e45bdc62b7412d2a68a",
            "dbc470bde98842c98c54c7392b4c37a9",
            "2f8a6c3211c94e769e9b0a077c242edc",
            "3611354fc4254b2ab190e13c1aa3b9e8",
            "156432de83b6416193462860d3bb39e7",
            "9c50bf4650f14b8baf3446a8d2bf9740",
            "a6e3be48c50449dbb4db490d28c6d49a",
            "0640810cda064f268add339eb4a402b2",
            "15276530000145d3bbbf502ec44f0181",
            "7d07b36cf79642abbc1bd9deb06c9564",
            "f51a9d21da4d4779a0c946e832620d97"
          ]
        },
        "id": "BJ3nCOhOh__3",
        "outputId": "b834af38-f739-4c50-849f-e293e50618ef"
      },
      "execution_count": null,
      "outputs": [
        {
          "output_type": "stream",
          "name": "stdout",
          "text": [
            "censored\n"
          ]
        },
        {
          "output_type": "display_data",
          "data": {
            "text/plain": [
              "  0%|          | 0/10000 [00:00<?, ?it/s]"
            ],
            "application/vnd.jupyter.widget-view+json": {
              "version_major": 2,
              "version_minor": 0,
              "model_id": "dc5ecffb5c724e45bdc62b7412d2a68a"
            }
          },
          "metadata": {}
        },
        {
          "output_type": "stream",
          "name": "stdout",
          "text": [
            "{'loc': 12.218376445648877, 'scale': 3.715105177834418}\n",
            "sample mean:  12.21838, sample std:  3.71883\n"
          ]
        }
      ]
    },
    {
      "cell_type": "code",
      "source": [
        "# parameters for non-censored data are: loc = 13., scale =5.\n",
        "print(\"truncated\")\n",
        "print(optimise_likelihood(y_truncated, 10000))\n",
        "print('sample mean: {: .5f}, sample std: {: .5f}'.format(y_truncated.mean().item(), y_truncated.std().item()))"
      ],
      "metadata": {
        "colab": {
          "base_uri": "https://localhost:8080/",
          "height": 104,
          "referenced_widgets": [
            "870a26b38e0b4336a993e0f110f4cd12",
            "f6a31d16c88e40569e0bca6ef79c6ef9",
            "d6db4db025d2471aac19bb8aec7fdcb8",
            "f6fc797ec9fd49468b564b9357767500",
            "2d90bb296d2c4625b2a4bd2f877c4c3d",
            "4b74372adb534354911839b82a87644c",
            "51e3f13c9f8444dab199d8b776897174",
            "12ef378db92847e699fa44abc4fd5eb0",
            "86f90dbb26784889bc43d4f23ed59bee",
            "9d18a67518ad455da6843dc6e68448e0",
            "a760cce9bc9f4ab395e281d52a0fd61a"
          ]
        },
        "id": "SvrqXDDmiCVY",
        "outputId": "dfd55a52-7f18-4cfb-a679-c86eaf5e71a9"
      },
      "execution_count": null,
      "outputs": [
        {
          "output_type": "stream",
          "name": "stdout",
          "text": [
            "truncated\n"
          ]
        },
        {
          "output_type": "display_data",
          "data": {
            "text/plain": [
              "  0%|          | 0/10000 [00:00<?, ?it/s]"
            ],
            "application/vnd.jupyter.widget-view+json": {
              "version_major": 2,
              "version_minor": 0,
              "model_id": "870a26b38e0b4336a993e0f110f4cd12"
            }
          },
          "metadata": {}
        },
        {
          "output_type": "stream",
          "name": "stdout",
          "text": [
            "{'loc': 11.03133955973232, 'scale': 3.2266715811525906}\n",
            "sample mean:  11.03134, sample std:  3.23120\n"
          ]
        }
      ]
    },
    {
      "cell_type": "markdown",
      "source": [
        "## Implementing Censored Normal"
      ],
      "metadata": {
        "id": "5Slcy7CDNQ7b"
      }
    },
    {
      "cell_type": "code",
      "source": [
        "import math\n",
        "from numbers import Number, Real\n",
        "\n",
        "import torch\n",
        "from torch.distributions import constraints\n",
        "from torch.distributions.exp_family import ExponentialFamily\n",
        "from torch.distributions.utils import _standard_normal, broadcast_all\n",
        "\n",
        "from pyro.distributions.torch_distribution import TorchDistribution\n",
        "from pyro.distributions.util import broadcast_shape\n",
        "\n",
        "__all__ = [\"CensoredNormal\"]\n",
        "\n",
        "\n",
        "class CensoredNormal(ExponentialFamily):\n",
        "    \"\"\"\n",
        "    Creates a censored normal (also called Gaussian) distribution parameterized by\n",
        "    :attr:`loc` and :attr:`scale` and :attr:`low`  and :attr:`high`\n",
        "\n",
        "    Example::\n",
        "\n",
        "        >>> # xdoctest: +IGNORE_WANT(\"non-deterministic\")\n",
        "        >>> m = CensoredNormal(\n",
        "          torch.tensor([0.0]), torch.tensor([1.0]),\n",
        "          torch.tensor([-0.5]), torch.tensor([0.5])\n",
        "          )\n",
        "        >>> m.sample(sample_shape=(3,1))\n",
        "        tensor([[0.5000],\n",
        "            [0.5000],\n",
        "            [0.1836]])\n",
        "        tensor([ 0.1046])\n",
        "\n",
        "    Args:\n",
        "        loc (float or Tensor): mean of the base normal distribution (often referred to as mu) to which the censoring is applied\n",
        "        scale (float or Tensor): standard deviation of the base normal distribution to which the censoring is applied\n",
        "        low (float or Tensor): lower censoring boundary\n",
        "        high (float or Tensor): upper censoring boundary\n",
        "    \"\"\"\n",
        "    arg_constraints = {\n",
        "        \"loc\": constraints.real,\n",
        "        \"scale\": constraints.positive,\n",
        "        \"low\": constraints.dependent(is_discrete=False, event_dim=0),\n",
        "        \"high\": constraints.dependent(is_discrete=False, event_dim=0)}\n",
        "    has_rsample = True\n",
        "    _mean_carrier_measure = 0\n",
        "\n",
        "    @property\n",
        "    def mean(self):\n",
        "      x1 = (self.low - self.loc)/self.scale\n",
        "      x2 = (self.high - self.loc)/self.scale\n",
        "      term1 = math.exp(self._normal_log_prob(x2)) - math.exp(self._normal_log_prob(x1))\n",
        "      term2 = self._normal_cdf(x2) - self._normal_cdf(x1)\n",
        "      return self.loc * term1 - self.scale * term2\n",
        "\n",
        "    @property\n",
        "    def stddev(self):\n",
        "        return self.variance.sqrt()\n",
        "\n",
        "    @property\n",
        "    def variance(self):\n",
        "        x1 = (self.low - self.loc)/self.scale\n",
        "        x2 = (self.high - self.loc)/self.scale\n",
        "        term1 = x2 * math.exp(self._normal_log_prob(x2)) - x1 * math.exp(self._normal_log_prob(x1))\n",
        "        term2 = self._normal_cdf(x2) - self._normal_cdf(x1)\n",
        "        return  self.scale * (term1 - term2)\n",
        "\n",
        "\n",
        "    def __init__(self, loc, scale, low, high, validate_args=None):\n",
        "        self.loc, self.scale, self.low, self.high = broadcast_all(loc, scale, low, high)\n",
        "        if isinstance(loc, Number) and isinstance(scale, Number) and isinstance(low, Number) and isinstance(high, Number):\n",
        "            batch_shape = torch.Size()\n",
        "        else:\n",
        "            batch_shape = self.loc.size()\n",
        "        support = constraints.interval(low, high)\n",
        "        super().__init__(batch_shape, validate_args=validate_args)\n",
        "\n",
        "    def expand(self, batch_shape, _instance=None):\n",
        "        new = self._get_checked_instance(CensoredNormal, _instance)\n",
        "        batch_shape = torch.Size(batch_shape)\n",
        "        new.loc = self.loc.expand(batch_shape)\n",
        "        new.scale = self.scale.expand(batch_shape)\n",
        "        new.low = self.low.expand(batch_shape)\n",
        "        new.high = self.high.expand(batch_shape)\n",
        "        super(CensoredNormal, new).__init__(batch_shape, validate_args=False)\n",
        "        new._validate_args = self._validate_args\n",
        "        return new\n",
        "\n",
        "    @constraints.dependent_property(is_discrete=False, event_dim=0)\n",
        "    def support(self):\n",
        "        return constraints.interval(self.low, self.high)\n",
        "\n",
        "\n",
        "    def sample(self, sample_shape=torch.Size()):\n",
        "        shape = self._extended_shape(sample_shape)\n",
        "        with torch.no_grad():\n",
        "            samples = torch.normal(self.loc.expand(shape), self.scale.expand(shape))\n",
        "            return samples.clamp(min=self.low, max=self.high)\n",
        "\n",
        "\n",
        "    def rsample(self, sample_shape=torch.Size()):\n",
        "        shape = self._extended_shape(sample_shape)\n",
        "        eps = _standard_normal(shape, dtype=self.loc.dtype, device=self.loc.device)\n",
        "        rsamples =  self.loc + eps * self.scale\n",
        "        return rsamples.clamp(min=self.low, max=self.high)\n",
        "\n",
        "    def pdf(self, value):\n",
        "        if self._validate_args:\n",
        "            self._validate_sample(value)\n",
        "        probs = torch.exp(self.log_prob(value))\n",
        "        lower_cdf_mass = self._normal_cdf(self.low)\n",
        "        upper_cdf_mass = 1 - self._normal_cdf(self.high)\n",
        "        probs = torch.where(value <= self.low, lower_cdf_mass, probs)\n",
        "        probs = torch.where(value >= self.high, upper_cdf_mass, probs)\n",
        "        return probs\n",
        "\n",
        "    def log_prob(self, value, jitter=1e-12):\n",
        "        \"\"\"jitter: used to bounce off NormCDF from 0 before applying log \"\"\"\n",
        "        if self._validate_args:\n",
        "            self._validate_sample(value)\n",
        "        log_probs = self._normal_log_prob(value)\n",
        "        lower_log_cdf_mass = math.log(self._normal_cdf(self.low) + jitter) if isinstance(self._normal_cdf(self.low) + jitter,\n",
        "                                                                                                Number) else (self._normal_cdf(self.low) + jitter).log()\n",
        "        upper_log_cdf_mass = math.log(1 - self._normal_cdf(self.high) + jitter) if isinstance(1 - self._normal_cdf(self.high) + jitter,\n",
        "                                                                                                    Number) else (1 - self._normal_cdf(self.high) + jitter).log()\n",
        "        log_probs = torch.where(value <= self.low, lower_log_cdf_mass, log_probs)\n",
        "        log_probs = torch.where(value >= self.high, upper_log_cdf_mass, log_probs)\n",
        "        return log_probs\n",
        "\n",
        "    def cdf(self, value):\n",
        "        if self._validate_args:\n",
        "            self._validate_sample(value)\n",
        "        cdf_ = self._normal_cdf(value)\n",
        "        cdf_ = torch.where(value < self.low, 0, cdf_)\n",
        "        cdf_ = torch.where(value > self.high, 1, cdf_)\n",
        "        return cdf_\n",
        "\n",
        "    def icdf(self, value):\n",
        "        result = self._normal_icdf(value)\n",
        "        return result.clamp(min=self.low, max=self.high)\n",
        "\n",
        "    def entropy(self, jitter=1e-12):\n",
        "        x_low = (self.low - self.loc)/self.scale\n",
        "        x_high = (self.high - self.loc)/self.scale\n",
        "        logcdf_x_low = math.log(self._normal_cdf(x_low) + jitter) if isinstance(self._normal_cdf(x_low) + jitter,\n",
        "                                                                                                  Number) else (self._normal_cdf(x_low) + jitter).log()\n",
        "        logcdf_x_high = math.log(1 - self._normal_cdf(x_high) + jitter) if isinstance(1 - self._normal_cdf(x_high) + jitter,\n",
        "                                                                                                      Number) else (1 - self._normal_cdf(x_high) + jitter).log()\n",
        "\n",
        "        term1 = self._normal_entropy() * (self._normal_cdf(x_high)- self._normal_cdf(x_low))\n",
        "        term2 = 0.5 * (x_high * torch.exp(self._normal_log_prob(x_high)) - x_low * torch.exp(self._normal_log_prob(x_low)))\n",
        "        term3 = logcdf_x_high * (1. - self._normal_cdf(x_high)) -  logcdf_x_low * self._normal_cdf(x_low)\n",
        "        return term1 - term2 - term3\n",
        "\n",
        "\n",
        "    def _normal_log_prob(self, value):\n",
        "            # compute the variance\n",
        "            var = self.scale**2\n",
        "            log_scale = (\n",
        "                math.log(self.scale) if isinstance(self.scale, Real) else self.scale.log()\n",
        "            )\n",
        "            return (\n",
        "                -((value - self.loc) ** 2) / (2 * var)\n",
        "                - log_scale\n",
        "                - math.log(math.sqrt(2 * math.pi))\n",
        "            )\n",
        "\n",
        "    def _normal_cdf(self, value):\n",
        "        return 0.5 * (\n",
        "            1 + torch.erf((value - self.loc) * self.scale.reciprocal() / math.sqrt(2))\n",
        "        )\n",
        "\n",
        "    def _normal_icdf(self, value):\n",
        "        return self.loc + self.scale * torch.erfinv(2 * value - 1) * math.sqrt(2)\n",
        "\n",
        "\n",
        "    def _normal_entropy(self):\n",
        "        return 0.5 + 0.5 * math.log(2 * math.pi) + torch.log(self.scale)\n",
        "\n",
        "    @property\n",
        "    def _normal_natural_params(self):\n",
        "        return (self.loc / self.scale.pow(2), -0.5 * self.scale.pow(2).reciprocal())\n",
        "\n",
        "    def _log_normalizer(self, x, y):\n",
        "        return -0.25 * x.pow(2) / y + 0.5 * torch.log(-math.pi / y)\n",
        "\n",
        "\n",
        "class PyroCensoredNormal(CensoredNormal, TorchDistribution):\n",
        "    def __init__(self, loc, scale, low, high, validate_args=None, **kwargs):\n",
        "        self._unbroadcasted_loc = loc\n",
        "        self._unbroadcasted_scale = scale\n",
        "        self._unbroadcasted_low = low\n",
        "        self._unbroadcasted_high = high\n",
        "        super().__init__(loc, scale, low, high, validate_args=validate_args)\n",
        "\n",
        "    def expand(self, batch_shape, _instance=None):\n",
        "        new = self._get_checked_instance(type(self), _instance)\n",
        "        new = super().expand(batch_shape, _instance=new)\n",
        "        new._unbroadcasted_loc = self._unbroadcasted_loc\n",
        "        new._unbroadcasted_scale = self._unbroadcasted_scale\n",
        "        new._unbroadcasted_low = self._unbroadcasted_low\n",
        "        new._unbroadcasted_high = self._unbroadcasted_high\n",
        "        return new\n",
        "\n",
        "    @constraints.dependent_property(is_discrete=False, event_dim=0)\n",
        "    def support(self):\n",
        "        return constraints.interval(self._unbroadcasted_low, self._unbroadcasted_high)"
      ],
      "metadata": {
        "id": "ZKEx7ooK-7bR"
      },
      "execution_count": 159,
      "outputs": []
    },
    {
      "cell_type": "code",
      "source": [
        "m = CensoredNormal(\n",
        "          torch.tensor([0.0]), torch.tensor([1.0]), torch.tensor([-0.5]), torch.tensor([0.5]))\n",
        "\n",
        "data = m.sample(sample_shape=(10,))\n",
        "data"
      ],
      "metadata": {
        "id": "VvNSIeitdQyZ",
        "colab": {
          "base_uri": "https://localhost:8080/"
        },
        "outputId": "26e1c8fc-4f99-4430-c08c-1cd3a6ab8023"
      },
      "execution_count": 160,
      "outputs": [
        {
          "output_type": "execute_result",
          "data": {
            "text/plain": [
              "tensor([[-0.5000],\n",
              "        [ 0.5000],\n",
              "        [ 0.5000],\n",
              "        [ 0.5000],\n",
              "        [ 0.5000],\n",
              "        [ 0.1309],\n",
              "        [ 0.5000],\n",
              "        [ 0.2569],\n",
              "        [-0.3283],\n",
              "        [ 0.5000]])"
            ]
          },
          "metadata": {},
          "execution_count": 160
        }
      ]
    },
    {
      "cell_type": "code",
      "source": [
        "m.pdf(data), m.log_prob(data), m.cdf(data), m.icdf(m.cdf(data)), m.entropy(), m._normal_entropy(), m.mean, m.variance"
      ],
      "metadata": {
        "colab": {
          "base_uri": "https://localhost:8080/"
        },
        "id": "ifMDw2mJcPlP",
        "outputId": "906389d0-ce22-4300-b388-cacd424a6948"
      },
      "execution_count": 161,
      "outputs": [
        {
          "output_type": "execute_result",
          "data": {
            "text/plain": [
              "(tensor([[0.3085],\n",
              "         [0.3085],\n",
              "         [0.3085],\n",
              "         [0.3085],\n",
              "         [0.3085],\n",
              "         [0.3955],\n",
              "         [0.3085],\n",
              "         [0.3860],\n",
              "         [0.3780],\n",
              "         [0.3085]]),\n",
              " tensor([[-1.1759],\n",
              "         [-1.1759],\n",
              "         [-1.1759],\n",
              "         [-1.1759],\n",
              "         [-1.1759],\n",
              "         [-0.9275],\n",
              "         [-1.1759],\n",
              "         [-0.9519],\n",
              "         [-0.9728],\n",
              "         [-1.1759]]),\n",
              " tensor([[0.3085],\n",
              "         [0.6915],\n",
              "         [0.6915],\n",
              "         [0.6915],\n",
              "         [0.6915],\n",
              "         [0.5521],\n",
              "         [0.6915],\n",
              "         [0.6014],\n",
              "         [0.3713],\n",
              "         [0.6915]]),\n",
              " tensor([[-0.5000],\n",
              "         [ 0.5000],\n",
              "         [ 0.5000],\n",
              "         [ 0.5000],\n",
              "         [ 0.5000],\n",
              "         [ 0.1309],\n",
              "         [ 0.5000],\n",
              "         [ 0.2569],\n",
              "         [-0.3283],\n",
              "         [ 0.5000]]),\n",
              " tensor([0.3673]),\n",
              " tensor([1.4189]),\n",
              " tensor([-0.3829]),\n",
              " tensor([-0.0309]))"
            ]
          },
          "metadata": {},
          "execution_count": 161
        }
      ]
    },
    {
      "cell_type": "code",
      "source": [
        "N = 500\n",
        "true_sigma = 1.0\n",
        "true_loc = .5\n",
        "\n",
        "# censor the data\n",
        "lower_bound = -0.5\n",
        "upper_bound = 2.\n",
        "\n",
        "torch.Generator().manual_seed(42)\n",
        "\n",
        "# generate the data\n",
        "X = dist.Uniform(torch.tensor([-7.]), torch.tensor([7]))\n",
        "\n",
        "torch.manual_seed(42)\n",
        "Y = dist.Normal(torch.Tensor([true_loc]), torch.Tensor([true_sigma]))\n",
        "\n",
        "torch.manual_seed(42)\n",
        "Z = CensoredNormal(torch.Tensor([true_loc]), torch.Tensor([true_sigma]),\n",
        "                   torch.tensor([lower_bound]), high=torch.tensor([upper_bound]))\n",
        "\n",
        "W = dist.HalfNormal(torch.tensor([true_sigma]))\n",
        "\n",
        "x = X.sample(sample_shape=(N,))\n",
        "\n",
        "torch.manual_seed(42)\n",
        "y = Y.sample(sample_shape=(N,))\n",
        "\n",
        "torch.manual_seed(42)\n",
        "z = Z.sample(sample_shape=(N,))\n",
        "\n",
        "torch.manual_seed(42)\n",
        "w = W.sample(sample_shape=(N,))\n",
        "\n",
        "y_censored = torch.clamp(y, min=lower_bound, max=upper_bound)\n",
        "mask = (y < lower_bound)  | (y > upper_bound)\n",
        "y_censored_indices = torch.nonzero(mask, as_tuple=True)[0]\n",
        "y_truncated_indices = torch.nonzero(~mask, as_tuple=True)[0]\n",
        "\n",
        "x_truncated = x[y_truncated_indices]\n",
        "y_truncated = y[y_truncated_indices]"
      ],
      "metadata": {
        "id": "XpQT8kKENzET"
      },
      "execution_count": 162,
      "outputs": []
    },
    {
      "cell_type": "markdown",
      "source": [
        "## moments and entropy sanity check"
      ],
      "metadata": {
        "id": "a_W8ujETE4ZZ"
      }
    },
    {
      "cell_type": "code",
      "source": [
        "grid = torch.linspace(lower_bound,upper_bound, 20000)\n",
        "h = torch.linspace(lower_bound,upper_bound, 20000).diff()[0]\n",
        "sample = Z.sample(sample_shape=[10000])"
      ],
      "metadata": {
        "id": "D_2iBjz0TNV2"
      },
      "execution_count": 163,
      "outputs": []
    },
    {
      "cell_type": "code",
      "source": [
        "grid[1:-1], grid"
      ],
      "metadata": {
        "colab": {
          "base_uri": "https://localhost:8080/"
        },
        "id": "iZ02gXql12fH",
        "outputId": "30ac8ce6-9a37-4f5b-8970-2a9a58294050"
      },
      "execution_count": null,
      "outputs": [
        {
          "output_type": "execute_result",
          "data": {
            "text/plain": [
              "(tensor([-0.4997, -0.4995, -0.4992,  ...,  1.9992,  1.9995,  1.9997]),\n",
              " tensor([-0.5000, -0.4997, -0.4995,  ...,  1.9995,  1.9997,  2.0000]))"
            ]
          },
          "metadata": {},
          "execution_count": 99
        }
      ]
    },
    {
      "cell_type": "code",
      "source": [
        "plt.plot(grid.numpy(), Z.pdf(grid).numpy())"
      ],
      "metadata": {
        "colab": {
          "base_uri": "https://localhost:8080/",
          "height": 448
        },
        "id": "FEuwcaIHUToD",
        "outputId": "d9d7c83a-91b2-479d-d4e1-850ffed37d65"
      },
      "execution_count": 165,
      "outputs": [
        {
          "output_type": "execute_result",
          "data": {
            "text/plain": [
              "[<matplotlib.lines.Line2D at 0x7b2cbe04dab0>]"
            ]
          },
          "metadata": {},
          "execution_count": 165
        },
        {
          "output_type": "display_data",
          "data": {
            "text/plain": [
              "<Figure size 640x480 with 1 Axes>"
            ],
            "image/png": "[encoded data removed]"
          },
          "metadata": {}
        }
      ]
    },
    {
      "cell_type": "markdown",
      "source": [
        "### pdf and logpdf implementation"
      ],
      "metadata": {
        "id": "82aeoOFg5vdf"
      }
    },
    {
      "cell_type": "code",
      "source": [
        "(Z.pdf(grid[1:-1])*h).sum(0) + Z._normal_cdf(lower_bound) + 1. - Z._normal_cdf(upper_bound), (Z.pdf(grid[1:-1])*h).sum(0) + Z.pdf(grid[0]).item() + Z.pdf(grid[-1]).item()"
      ],
      "metadata": {
        "colab": {
          "base_uri": "https://localhost:8080/"
        },
        "id": "C5qxJSHBWXtQ",
        "outputId": "52756954-2f0f-4ce4-9bd0-0836cfcd0747"
      },
      "execution_count": 166,
      "outputs": [
        {
          "output_type": "execute_result",
          "data": {
            "text/plain": [
              "(tensor([1.0000]), tensor(1.0000))"
            ]
          },
          "metadata": {},
          "execution_count": 166
        }
      ]
    },
    {
      "cell_type": "code",
      "source": [
        "(Z.pdf(grid)*h).sum(0)"
      ],
      "metadata": {
        "colab": {
          "base_uri": "https://localhost:8080/"
        },
        "id": "6DUCXoZk9Kbw",
        "outputId": "79271abe-beb1-44a6-8777-8dc2ef5e1087"
      },
      "execution_count": 167,
      "outputs": [
        {
          "output_type": "execute_result",
          "data": {
            "text/plain": [
              "tensor(0.7745)"
            ]
          },
          "metadata": {},
          "execution_count": 167
        }
      ]
    },
    {
      "cell_type": "code",
      "source": [
        "Z.pdf(grid), 1. - Z._normal_cdf(upper_bound), Z._normal_cdf(lower_bound)"
      ],
      "metadata": {
        "colab": {
          "base_uri": "https://localhost:8080/"
        },
        "id": "ku8JUaBe2QC0",
        "outputId": "8487d6c3-7dc5-4c45-bd6e-3f2db4e885b0"
      },
      "execution_count": null,
      "outputs": [
        {
          "output_type": "execute_result",
          "data": {
            "text/plain": [
              "(tensor([0.1587, 0.2420, 0.2421,  ..., 0.1296, 0.1296, 0.0668]),\n",
              " tensor([0.0668]),\n",
              " tensor([0.1587]))"
            ]
          },
          "metadata": {},
          "execution_count": 106
        }
      ]
    },
    {
      "cell_type": "code",
      "source": [
        "(Z.log_prob(grid[1:-1]).exp()*h).sum(0) + Z.log_prob(grid[0]).exp().item() + Z.log_prob(grid[-1]).exp().item()"
      ],
      "metadata": {
        "colab": {
          "base_uri": "https://localhost:8080/"
        },
        "id": "k2W-hFi94nEn",
        "outputId": "58912e93-8431-4257-8358-481af3a331a2"
      },
      "execution_count": null,
      "outputs": [
        {
          "output_type": "execute_result",
          "data": {
            "text/plain": [
              "tensor(1.0000)"
            ]
          },
          "metadata": {},
          "execution_count": 122
        }
      ]
    },
    {
      "cell_type": "code",
      "source": [
        "Z.log_prob(grid), (1. - Z._normal_cdf(upper_bound)).log(), Z._normal_cdf(lower_bound).log()"
      ],
      "metadata": {
        "colab": {
          "base_uri": "https://localhost:8080/"
        },
        "id": "S7P_DHSt4ZiE",
        "outputId": "10176bb0-3263-4022-f50b-5214e9ee6c85"
      },
      "execution_count": null,
      "outputs": [
        {
          "output_type": "execute_result",
          "data": {
            "text/plain": [
              "(tensor([-1.8410, -1.4187, -1.4184,  ..., -2.0432, -2.0436, -2.7059]),\n",
              " tensor([-2.7059]),\n",
              " tensor([-1.8410]))"
            ]
          },
          "metadata": {},
          "execution_count": 116
        }
      ]
    },
    {
      "cell_type": "code",
      "source": [
        "(grid[1:-1] * Z.pdf(grid[1:-1])* h).sum(0) + grid[0] * Z.pdf(grid[0]) + grid[-1] * Z.pdf(grid[-1]), Z.mean"
      ],
      "metadata": {
        "colab": {
          "base_uri": "https://localhost:8080/"
        },
        "id": "OCCJ_SjzSZm9",
        "outputId": "ff454be7-2589-4f21-bd8e-eb8e7b48340e"
      },
      "execution_count": 168,
      "outputs": [
        {
          "output_type": "execute_result",
          "data": {
            "text/plain": [
              "(tensor([0.5540]), tensor([-0.7183]))"
            ]
          },
          "metadata": {},
          "execution_count": 168
        }
      ]
    },
    {
      "cell_type": "code",
      "source": [
        "(h * (Z.pdf(grid[1:-1])*(grid[1:-1]-Z.loc)**2)).sum(0) + Z.pdf(grid[0]).item()*(grid[0]-Z.loc).item()**2 + Z.pdf(grid[-1]).item()*(grid[-1] - Z.loc).item()**2, Z.variance"
      ],
      "metadata": {
        "colab": {
          "base_uri": "https://localhost:8080/"
        },
        "id": "l7dcxR3DN0Sj",
        "outputId": "e173e7d4-979d-4eb7-b7ae-0eb9809e545a"
      },
      "execution_count": 169,
      "outputs": [
        {
          "output_type": "execute_result",
          "data": {
            "text/plain": [
              "(tensor(0.6472), tensor([-0.2821]))"
            ]
          },
          "metadata": {},
          "execution_count": 169
        }
      ]
    },
    {
      "cell_type": "code",
      "source": [
        "(-Z.pdf(grid)*Z.log_prob(grid)*h).sum(0), Z.entropy()"
      ],
      "metadata": {
        "colab": {
          "base_uri": "https://localhost:8080/"
        },
        "id": "WfTSpMU1IFU0",
        "outputId": "dcfef5b3-802e-47ff-f11e-db681c8e2af5"
      },
      "execution_count": 171,
      "outputs": [
        {
          "output_type": "execute_result",
          "data": {
            "text/plain": [
              "(tensor(0.8809), tensor([0.9641]))"
            ]
          },
          "metadata": {},
          "execution_count": 171
        }
      ]
    },
    {
      "cell_type": "code",
      "source": [
        "-(Z.pdf(grid)*Z.log_prob(grid)*h).sum(0), -(Z.log_prob(grid).exp() *Z.log_prob(grid) * h).sum(0),"
      ],
      "metadata": {
        "colab": {
          "base_uri": "https://localhost:8080/"
        },
        "id": "Fa9lnhfJffdZ",
        "outputId": "01cc0ac5-ca80-4502-b7a8-201be25ff119"
      },
      "execution_count": 170,
      "outputs": [
        {
          "output_type": "execute_result",
          "data": {
            "text/plain": [
              "(tensor(0.8809), tensor(0.8809))"
            ]
          },
          "metadata": {},
          "execution_count": 170
        }
      ]
    },
    {
      "cell_type": "code",
      "source": [
        "torch.linspace(lower_bound,upper_bound,10000).diff()[0]"
      ],
      "metadata": {
        "colab": {
          "base_uri": "https://localhost:8080/"
        },
        "id": "gk7l22VOE9tN",
        "outputId": "bd36c48e-fd8f-4c08-9310-fc08a4bbc36d"
      },
      "execution_count": null,
      "outputs": [
        {
          "output_type": "execute_result",
          "data": {
            "text/plain": [
              "tensor(0.0003)"
            ]
          },
          "metadata": {},
          "execution_count": 44
        }
      ]
    },
    {
      "cell_type": "code",
      "source": [
        "(Z.pdf(torch.linspace(lower_bound,upper_bound,10000)) * torch.linspace(lower_bound,upper_bound,10000)).mean(0)"
      ],
      "metadata": {
        "colab": {
          "base_uri": "https://localhost:8080/"
        },
        "id": "8K1jQ-xhJ8vn",
        "outputId": "09cf1f7b-749a-449a-a111-c0d8bb445be5"
      },
      "execution_count": null,
      "outputs": [
        {
          "output_type": "execute_result",
          "data": {
            "text/plain": [
              "tensor(0.2094)"
            ]
          },
          "metadata": {},
          "execution_count": 30
        }
      ]
    },
    {
      "cell_type": "code",
      "source": [
        "Z.mean"
      ],
      "metadata": {
        "colab": {
          "base_uri": "https://localhost:8080/"
        },
        "id": "7jJl7ctKIl26",
        "outputId": "dbf6a634-deeb-4ddc-9690-0bcca4ef4fd0"
      },
      "execution_count": null,
      "outputs": [
        {
          "output_type": "execute_result",
          "data": {
            "text/plain": [
              "-0.06344364101144456"
            ]
          },
          "metadata": {},
          "execution_count": 22
        }
      ]
    },
    {
      "cell_type": "markdown",
      "source": [
        "## sampling sanity check"
      ],
      "metadata": {
        "id": "TPllr7DNEqh4"
      }
    },
    {
      "cell_type": "code",
      "source": [
        "# Visualize uncensored, censored and truncated data\n",
        "_, ax = plt.subplots(1,2, figsize=(12, 4))\n",
        "edges = np.linspace(-5, 7, 30)\n",
        "for ax_ in ax:\n",
        "  ax_.hist(y.numpy(), bins=edges, density=True, histtype=\"stepfilled\", alpha=0.4, label=\"Data\")\n",
        "  [ax_.axvline(x=x, c=\"k\", ls=\"--\") for x in [lower_bound, upper_bound]]\n",
        "\n",
        "ax[0].hist(y_censored.numpy(), bins=edges, density=True, histtype=\"stepfilled\", alpha=0.4, label=\"Censored\")\n",
        "ax[0].legend()\n",
        "_ = ax[0].set(title=\"Censored data\")\n",
        "\n",
        "ax[1].hist(z.numpy(), bins=edges, density=True, histtype=\"stepfilled\", alpha=0.4, label=\"Censored - Pytorch\")\n",
        "ax[1].legend()\n",
        "_ = ax[1].set(title=\"Censored - own Pytorch module\")\n"
      ],
      "metadata": {
        "id": "B_aNxww3NGC9",
        "outputId": "e0e276aa-1eed-42e5-ebfa-5711d59d5522",
        "colab": {
          "base_uri": "https://localhost:8080/",
          "height": 391
        }
      },
      "execution_count": null,
      "outputs": [
        {
          "output_type": "display_data",
          "data": {
            "text/plain": [
              "<Figure size 1200x400 with 2 Axes>"
            ],
            "image/png": "[encoded data removed]"
          },
          "metadata": {}
        }
      ]
    },
    {
      "cell_type": "code",
      "source": [
        "def optimise_likelihood_censored(x, num_iterations=1000, loc_init_=0., scale_init_=1., low_=-0.5, high_=3.):\n",
        "    pyro.clear_param_store()\n",
        "    loc_ = torch.tensor([loc_init_], requires_grad=True)\n",
        "    scale_ = torch.tensor([scale_init_], requires_grad=True)\n",
        "    lower_ = torch.tensor([low_], requires_grad=False)\n",
        "    upper_ = torch.tensor([high_], requires_grad=False)\n",
        "    optimizer = torch.optim.Adam([loc_, scale_], lr=0.05)\n",
        "\n",
        "    pbar = tqdm(range(num_iterations), position=0, leave=True)\n",
        "\n",
        "    losses = []\n",
        "    for epoch in pbar:\n",
        "        optimizer.zero_grad()\n",
        "        pX = CensoredNormal(loc_, scale_,lower_, upper_)\n",
        "        loss = -pX.log_prob(x).mean()     # \"forward\" compute the loss (neg avg log-likelihood)\n",
        "        loss.backward()\n",
        "        optimizer.step()\n",
        "        optimizer.zero_grad()                   # \"backward\" compute the gradient (& unfortunately clear stuff)\n",
        "        losses.append(loss.item())\n",
        "    res = {\n",
        "        'loc': loc_.item(),\n",
        "        'scale' : scale_.item()\n",
        "        }\n",
        "    return res"
      ],
      "metadata": {
        "id": "GrsfTwguQDoC"
      },
      "execution_count": null,
      "outputs": []
    },
    {
      "cell_type": "code",
      "source": [
        "print(\"optimised with censored likelihood\")\n",
        "print(optimise_likelihood_censored(z, 10000))\n",
        "print('sample mean: {: .5f}, sample std: {: .5f}'.format(z.mean().item(), z.std().item()))"
      ],
      "metadata": {
        "id": "0UhnuZX8VVL7",
        "outputId": "676235e4-df40-46a9-f63c-fff344782e12",
        "colab": {
          "base_uri": "https://localhost:8080/",
          "height": 104,
          "referenced_widgets": [
            "0ee5a50dc6df42b49da8d8642a80b912",
            "d4a09b19e6de4d70a84013a32af4e03d",
            "8553825a2dc84f99989199e23869c0e9",
            "9dc8a0a515a64074b0431c7c6bc5e01d",
            "04135e3cc5604cf1a7ff420505406673",
            "84025d96ad6a41098770fd484bf7c9dd",
            "66275562b6f24f9388a0cb2ee276923e",
            "c0451627cc784108b61c4c12a30cc037",
            "4f3924e0cf004611aa1d94aa032c5e25",
            "0baa66e091c2468a9f85b6adc8839123",
            "10709fca07c34973b1ef21b0d7fda10f"
          ]
        }
      },
      "execution_count": null,
      "outputs": [
        {
          "output_type": "stream",
          "name": "stdout",
          "text": [
            "optimised with censored likelihood\n"
          ]
        },
        {
          "output_type": "display_data",
          "data": {
            "text/plain": [
              "  0%|          | 0/10000 [00:00<?, ?it/s]"
            ],
            "application/vnd.jupyter.widget-view+json": {
              "version_major": 2,
              "version_minor": 0,
              "model_id": "0ee5a50dc6df42b49da8d8642a80b912"
            }
          },
          "metadata": {}
        },
        {
          "output_type": "stream",
          "name": "stdout",
          "text": [
            "{'loc': 1.1341561612063789, 'scale': 1.9297464941537388}\n",
            "sample mean:  1.17665, sample std:  1.30551\n"
          ]
        }
      ]
    },
    {
      "cell_type": "code",
      "source": [
        "print(\"optimised with censored likelihood\")\n",
        "print(optimise_likelihood_censored(z, 12000, 1., 3.))\n",
        "print('sample mean: {: .5f}, sample std: {: .5f}'.format(z.mean().item(), z.std().item()))"
      ],
      "metadata": {
        "colab": {
          "base_uri": "https://localhost:8080/",
          "height": 104,
          "referenced_widgets": [
            "2cacad78497e4240ae9a4932f8b35853",
            "86f2f7f146dd4307a559607215b5c23b",
            "3666a4dc68c14f558fd99bd7960c566d",
            "32c19da61429467ba556549232618c31",
            "f572705b321149d1b113255adaaf37d3",
            "31b535f201d14d10a459bf870c5507df",
            "f793e463418240428a7045fa32503acf",
            "af70ed8ca4c94881a5d6b9b3dd8f9055",
            "05cd21f8ad3d485a9eb81336c13b2e1a",
            "587c58a55ffa4a5f9257e6da5bc4163e",
            "2b11127ad2ea4b86885dcc1e4481ec58"
          ]
        },
        "id": "AOyjfny3fkd4",
        "outputId": "0ebac7a9-08fb-4fd4-9792-7a167393b389"
      },
      "execution_count": null,
      "outputs": [
        {
          "output_type": "stream",
          "name": "stdout",
          "text": [
            "optimised with censored likelihood\n"
          ]
        },
        {
          "output_type": "display_data",
          "data": {
            "text/plain": [
              "  0%|          | 0/12000 [00:00<?, ?it/s]"
            ],
            "application/vnd.jupyter.widget-view+json": {
              "version_major": 2,
              "version_minor": 0,
              "model_id": "2cacad78497e4240ae9a4932f8b35853"
            }
          },
          "metadata": {}
        },
        {
          "output_type": "stream",
          "name": "stdout",
          "text": [
            "{'loc': 1.1368221703714803, 'scale': 1.932409694628056}\n",
            "sample mean:  1.17665, sample std:  1.30551\n"
          ]
        }
      ]
    },
    {
      "cell_type": "code",
      "source": [
        "print(\"censored with normal likelihood\")\n",
        "print(optimise_likelihood(y_censored, 10000))\n",
        "print('sample mean: {: .5f}, sample std: {: .5f}'.format(z.mean().item(), z.std().item()))"
      ],
      "metadata": {
        "id": "a8mKQhxgVYBX",
        "outputId": "db2e15c9-27f0-431a-d82e-74cd60e5a7a0",
        "colab": {
          "base_uri": "https://localhost:8080/",
          "height": 104,
          "referenced_widgets": [
            "1bbbfb76cc8445fab76536c2feb96949",
            "03e5510e24a5424385e02bc180671bcc",
            "3e163d9cea054ac3b4bb63bd871cd6df",
            "f1999fc3ed1b49f39a7ff61a7b092d45",
            "50c79a64fa874236920d434b87abe5a4",
            "d01464e85e9b46cfbfde7a82945efd84",
            "b1474e1b3328471faa83780dcd71b507",
            "d2a270b300e24c7494ec136627bc4ac6",
            "c58a4769e5a64bad8e4584019eb36682",
            "4122da75f8164a4eb85b8f6ba686c340",
            "2bb9af80d037415d9a3c202cba3f3a83"
          ]
        }
      },
      "execution_count": null,
      "outputs": [
        {
          "output_type": "stream",
          "name": "stdout",
          "text": [
            "censored with normal likelihood\n"
          ]
        },
        {
          "output_type": "display_data",
          "data": {
            "text/plain": [
              "  0%|          | 0/10000 [00:00<?, ?it/s]"
            ],
            "application/vnd.jupyter.widget-view+json": {
              "version_major": 2,
              "version_minor": 0,
              "model_id": "1bbbfb76cc8445fab76536c2feb96949"
            }
          },
          "metadata": {}
        },
        {
          "output_type": "stream",
          "name": "stdout",
          "text": [
            "{'loc': 1.1818130023961506, 'scale': 1.3042182164939307}\n",
            "sample mean:  1.17665, sample std:  1.30551\n"
          ]
        }
      ]
    },
    {
      "cell_type": "markdown",
      "source": [
        "How does the log likelihood behave?"
      ],
      "metadata": {
        "id": "JlonNG7AgG1e"
      }
    },
    {
      "cell_type": "code",
      "source": [
        "math.log(Z._normal_cdf(torch.Tensor([lower_bound]))), math.log(1. - Z._normal_cdf(torch.Tensor([upper_bound])))"
      ],
      "metadata": {
        "id": "s_03GD3Ocn9s",
        "outputId": "aa4989ae-eba4-47dd-8b88-8bc0ef670089",
        "colab": {
          "base_uri": "https://localhost:8080/"
        }
      },
      "execution_count": null,
      "outputs": [
        {
          "output_type": "execute_result",
          "data": {
            "text/plain": [
              "(-1.4844482299196562, -1.8410216450092634)"
            ]
          },
          "metadata": {},
          "execution_count": 20
        }
      ]
    },
    {
      "cell_type": "code",
      "source": [
        "# likelihood of censored normal on the censored sample\n",
        "_ = plt.hist(Z.log_prob(z).numpy()), Z.log_prob(z).numpy().mean()"
      ],
      "metadata": {
        "id": "CPXP5BWyZaMc",
        "outputId": "47b62740-83ea-4e65-f7f3-56cee6404c5c",
        "colab": {
          "base_uri": "https://localhost:8080/",
          "height": 430
        }
      },
      "execution_count": null,
      "outputs": [
        {
          "output_type": "display_data",
          "data": {
            "text/plain": [
              "<Figure size 640x480 with 1 Axes>"
            ],
            "image/png": "[encoded data removed]"
          },
          "metadata": {}
        }
      ]
    },
    {
      "cell_type": "code",
      "source": [
        "# likelihood of censored normal on the uncensored sample --> expected behaviour\n",
        "_ = plt.hist(Z.log_prob(y).numpy()), Z.log_prob(y).numpy().mean()"
      ],
      "metadata": {
        "colab": {
          "base_uri": "https://localhost:8080/",
          "height": 1000
        },
        "id": "34HFzYOYg02O",
        "outputId": "74cfa84f-24ff-4cd8-e9a2-32f918ef771d"
      },
      "execution_count": null,
      "outputs": [
        {
          "output_type": "error",
          "ename": "ValueError",
          "evalue": "Expected value argument (Tensor of shape (500, 1)) to be within the support (Interval(lower_bound=tensor([-0.5000]), upper_bound=tensor([3.]))) of the distribution CensoredNormal(loc: tensor([1.]), scale: tensor([2.]), low: tensor([-0.5000]), high: tensor([3.])), but found invalid values:\ntensor([[ 1.5991e+00],\n        [ 1.4848e+00],\n        [ 1.5664e+00],\n        [ 5.3412e-01],\n        [ 2.3423e+00],\n        [ 2.5635e+00],\n        [-2.5806e+00],\n        [-2.4968e+00],\n        [ 1.3470e+00],\n        [ 1.5337e+00],\n        [ 1.8570e+00],\n        [ 1.4637e+00],\n        [-1.0429e+00],\n        [-6.5453e-01],\n        [ 4.4684e+00],\n        [-1.9841e+00],\n        [ 1.8424e+00],\n        [ 4.0091e+00],\n        [ 3.5432e+00],\n        [ 2.2373e+00],\n        [ 9.2559e-01],\n        [ 3.0705e+00],\n        [ 9.7983e-01],\n        [ 1.1790e+00],\n        [ 1.1681e+00],\n        [ 1.7800e+00],\n        [-1.5968e-01],\n        [ 2.7518e+00],\n        [ 1.7848e+00],\n        [ 3.2169e+00],\n        [ 2.7303e+00],\n        [ 2.7104e+00],\n        [ 2.3102e+00],\n        [ 2.2570e+00],\n        [-1.4811e+00],\n        [ 3.5860e-01],\n        [ 4.8624e+00],\n        [ 1.2906e+00],\n        [-2.8531e-01],\n        [ 2.7272e+00],\n        [ 4.2615e-01],\n        [ 2.2152e+00],\n        [ 2.2117e+00],\n        [ 3.6219e+00],\n        [ 5.4657e-01],\n        [ 5.7596e-01],\n        [ 2.1436e+00],\n        [ 2.2434e+00],\n        [ 1.3210e+00],\n        [-8.4300e-01],\n        [-1.2163e+00],\n        [ 6.2524e-01],\n        [ 1.8857e+00],\n        [ 5.3578e-01],\n        [ 9.3470e-01],\n        [-3.8945e+00],\n        [ 3.9309e+00],\n        [ 2.8922e+00],\n        [-1.2299e+00],\n        [ 3.2292e+00],\n        [ 1.0618e+00],\n        [-1.6915e+00],\n        [ 3.3510e+00],\n        [-4.2656e+00],\n        [ 3.1946e-01],\n        [ 2.9814e+00],\n        [-7.0450e-01],\n        [ 5.2828e+00],\n        [-1.7943e+00],\n        [ 3.0665e-01],\n        [ 2.6544e+00],\n        [-6.2894e-01],\n        [ 2.7410e+00],\n        [ 1.8575e+00],\n        [-1.1646e+00],\n        [ 1.1796e+00],\n        [-1.4023e-01],\n        [ 1.2406e-01],\n        [ 2.9446e+00],\n        [ 6.0323e+00],\n        [ 3.8350e+00],\n        [ 2.9788e+00],\n        [ 3.7206e+00],\n        [ 8.1294e-01],\n        [ 4.5925e+00],\n        [-4.4436e+00],\n        [ 2.3586e+00],\n        [ 1.4362e-01],\n        [ 1.2088e+00],\n        [ 2.3660e+00],\n        [-3.0108e-01],\n        [-1.9650e-01],\n        [ 3.2099e+00],\n        [ 1.1468e+00],\n        [ 4.6992e-01],\n        [ 4.0635e+00],\n        [ 1.5307e-01],\n        [-1.5865e+00],\n        [ 3.2381e-01],\n        [-2.4666e+00],\n        [-6.8387e-01],\n        [-7.9277e-02],\n        [-2.0464e+00],\n        [ 2.0631e+00],\n        [-1.4069e+00],\n        [ 1.5085e-01],\n        [ 1.1546e+00],\n        [ 4.7509e+00],\n        [ 9.3067e-02],\n        [-5.8513e-01],\n        [ 2.9071e+00],\n        [ 3.3038e+00],\n        [ 7.3369e-01],\n        [ 1.1688e+00],\n        [ 8.1798e-01],\n        [-1.5211e+00],\n        [ 2.6884e+00],\n        [ 8.1425e-01],\n        [-3.9713e-01],\n        [ 1.4281e+00],\n        [ 6.8840e-01],\n        [ 1.4687e+00],\n        [ 2.3645e+00],\n        [ 3.1853e+00],\n        [-3.1710e+00],\n        [ 1.2347e-01],\n        [ 5.8956e+00],\n        [-1.5735e+00],\n        [-4.6627e-01],\n        [ 1.0594e+00],\n        [ 1.0047e-01],\n        [ 2.0251e+00],\n        [ 2.9272e+00],\n        [-2.5631e-01],\n        [ 4.6341e-01],\n        [ 2.4203e+00],\n        [ 1.1554e+00],\n        [ 7.1596e-01],\n        [-2.8459e+00],\n        [ 4.9623e+00],\n        [ 2.2584e+00],\n        [-7.3248e-01],\n        [ 1.6092e+00],\n        [ 5.2603e+00],\n        [ 9.3772e-01],\n        [-1.0221e+00],\n        [-5.0940e-01],\n        [ 6.9905e-01],\n        [-1.0686e+00],\n        [ 1.8638e+00],\n        [ 5.6349e-01],\n        [-1.1188e+00],\n        [-8.6639e-01],\n        [ 2.4837e+00],\n        [-2.8320e-01],\n        [-1.2899e+00],\n        [ 5.5666e-01],\n        [-1.8414e+00],\n        [ 4.6060e-02],\n        [ 2.8192e+00],\n        [-4.0778e-01],\n        [ 4.0429e+00],\n        [-3.0147e-01],\n        [ 2.5502e+00],\n        [ 1.4599e+00],\n        [ 3.0268e+00],\n        [-9.6457e-01],\n        [ 5.8500e+00],\n        [ 9.3369e-01],\n        [ 5.1198e+00],\n        [-8.3515e-01],\n        [ 7.2313e-01],\n        [-3.4005e+00],\n        [-1.3475e+00],\n        [ 5.6283e+00],\n        [ 4.6387e+00],\n        [ 9.4786e-01],\n        [ 6.8373e-01],\n        [ 1.8284e-03],\n        [ 3.7225e+00],\n        [ 6.2065e-01],\n        [ 2.2290e-01],\n        [-5.7291e-01],\n        [-2.5385e+00],\n        [ 1.5726e+00],\n        [ 5.7967e-01],\n        [-8.4476e-01],\n        [ 1.9086e+00],\n        [-1.3375e+00],\n        [ 2.8440e+00],\n        [-2.0614e+00],\n        [ 1.0474e+00],\n        [ 1.4981e+00],\n        [-1.1918e-01],\n        [ 2.7913e+00],\n        [ 1.0876e+00],\n        [ 4.2919e+00],\n        [ 1.8333e+00],\n        [ 2.3036e+00],\n        [ 1.7626e+00],\n        [ 5.3700e-01],\n        [ 3.4321e+00],\n        [ 1.1761e+00],\n        [ 2.2616e+00],\n        [ 3.0132e-01],\n        [-3.9777e-01],\n        [-2.0802e+00],\n        [-2.7652e-02],\n        [-6.6534e-01],\n        [ 1.7111e+00],\n        [-2.4361e+00],\n        [ 1.0263e+00],\n        [ 1.3578e+00],\n        [ 2.3508e+00],\n        [ 2.4189e+00],\n        [ 4.6283e+00],\n        [ 1.9349e+00],\n        [-6.6038e-01],\n        [ 2.1600e+00],\n        [ 1.1013e+00],\n        [-3.5107e-01],\n        [-3.4105e-02],\n        [-1.0621e+00],\n        [ 3.0534e+00],\n        [-7.4776e-02],\n        [-3.6986e-01],\n        [ 3.0132e+00],\n        [ 3.6618e-01],\n        [ 5.3615e+00],\n        [ 1.7909e+00],\n        [ 4.0933e+00],\n        [ 6.5406e-01],\n        [ 1.0057e+00],\n        [-1.7410e+00],\n        [-1.5085e+00],\n        [ 6.4143e-01],\n        [ 1.6011e+00],\n        [-1.4823e+00],\n        [-5.2095e-01],\n        [-9.9430e-01],\n        [ 3.0192e-01],\n        [ 3.8053e+00],\n        [ 3.8123e+00],\n        [ 6.4179e-01],\n        [ 3.0255e+00],\n        [ 2.2408e+00],\n        [ 4.2636e+00],\n        [-4.9658e-01],\n        [ 1.0276e+00],\n        [ 3.4260e-01],\n        [ 1.5611e+00],\n        [ 2.3684e-01],\n        [ 3.1010e+00],\n        [ 1.4580e+00],\n        [ 4.1095e+00],\n        [ 3.7636e+00],\n        [ 1.9561e+00],\n        [ 2.8682e+00],\n        [-1.2987e+00],\n        [ 8.5610e-01],\n        [ 1.1883e+00],\n        [ 5.3928e-01],\n        [-2.7996e+00],\n        [ 2.8957e+00],\n        [-1.5499e-01],\n        [ 2.2546e+00],\n        [ 1.1702e+00],\n        [ 6.5321e-01],\n        [ 3.4672e+00],\n        [ 3.7835e+00],\n        [-8.3635e-01],\n        [ 2.6135e+00],\n        [ 5.9372e-01],\n        [ 1.3904e+00],\n        [ 1.4983e+00],\n        [ 6.7795e-02],\n        [-8.0580e-01],\n        [ 1.9888e-01],\n        [-1.7028e+00],\n        [-8.0360e-01],\n        [-2.3749e+00],\n        [ 2.7011e+00],\n        [ 2.3545e+00],\n        [ 1.1476e+00],\n        [ 4.9841e+00],\n        [ 3.3910e-01],\n        [ 2.1936e-01],\n        [ 3.9974e+00],\n        [ 4.5955e+00],\n        [ 1.4637e+00],\n        [ 4.4300e-02],\n        [ 1.5989e+00],\n        [ 2.6978e+00],\n        [ 1.6630e+00],\n        [ 1.2578e+00],\n        [-1.4476e+00],\n        [-2.4865e-01],\n        [ 1.0042e+00],\n        [-1.0207e+00],\n        [-1.2392e+00],\n        [-1.5265e+00],\n        [ 3.9052e+00],\n        [ 2.3859e+00],\n        [ 1.6870e+00],\n        [ 1.4655e+00],\n        [-1.5093e+00],\n        [ 2.6775e+00],\n        [-2.7081e-01],\n        [-1.4347e+00],\n        [ 3.4629e+00],\n        [ 7.5559e-01],\n        [-2.0133e+00],\n        [ 7.3766e-01],\n        [ 9.3753e-01],\n        [ 2.0250e+00],\n        [ 2.6348e+00],\n        [ 4.4550e-01],\n        [-6.3412e-01],\n        [ 1.2208e+00],\n        [ 1.0482e+00],\n        [-9.9083e-01],\n        [-4.0511e-01],\n        [ 1.8220e+00],\n        [ 2.5478e+00],\n        [-1.5525e+00],\n        [ 7.1319e-01],\n        [ 1.3981e+00],\n        [-2.0801e+00],\n        [ 4.0966e+00],\n        [ 2.8577e+00],\n        [ 1.1678e+00],\n        [ 1.7146e+00],\n        [ 1.3572e+00],\n        [-3.5378e-01],\n        [ 2.7009e+00],\n        [ 2.8851e+00],\n        [ 4.7095e+00],\n        [ 9.3961e-01],\n        [ 5.4876e-01],\n        [ 1.3874e+00],\n        [ 2.0117e+00],\n        [ 1.2077e+00],\n        [-1.8153e+00],\n        [ 3.0599e+00],\n        [ 5.3547e+00],\n        [ 1.8731e+00],\n        [ 1.5693e-01],\n        [-8.6412e-01],\n        [ 4.6221e+00],\n        [-1.9716e+00],\n        [ 2.4779e+00],\n        [ 2.3289e+00],\n        [ 1.1880e+00],\n        [-1.9343e+00],\n        [-1.4395e+00],\n        [-1.6548e+00],\n        [ 2.2200e+00],\n        [ 7.7971e-01],\n        [-1.6587e+00],\n        [ 2.4204e+00],\n        [ 9.6658e-01],\n        [ 1.8669e+00],\n        [ 9.7076e-01],\n        [ 2.3912e+00],\n        [ 2.1445e+00],\n        [-1.9634e+00],\n        [ 6.9353e-01],\n        [ 3.1806e+00],\n        [-8.8601e-01],\n        [ 6.5320e-01],\n        [ 2.9607e+00],\n        [ 1.1256e+00],\n        [ 3.0847e+00],\n        [ 4.1090e+00],\n        [ 4.1699e+00],\n        [ 2.4399e+00],\n        [ 6.2762e+00],\n        [ 4.4639e-01],\n        [ 1.3926e+00],\n        [ 2.7463e+00],\n        [ 1.0204e+00],\n        [-7.6768e-01],\n        [ 2.6137e+00],\n        [ 1.5985e+00],\n        [ 2.6478e+00],\n        [ 3.0405e+00],\n        [ 3.6693e+00],\n        [ 1.7277e+00],\n        [ 2.5224e+00],\n        [-7.6584e-01],\n        [ 1.5383e+00],\n        [ 8.0801e-01],\n        [-3.1094e-01],\n        [ 2.3632e+00],\n        [ 4.1475e-01],\n        [ 2.8725e+00],\n        [ 1.2836e+00],\n        [ 3.2606e-02],\n        [-1.4858e+00],\n        [ 1.5460e+00],\n        [ 1.2300e+00],\n        [ 3.0316e+00],\n        [ 4.2259e+00],\n        [ 6.1650e-01],\n        [ 2.2329e+00],\n        [ 5.8859e-01],\n        [ 1.8431e+00],\n        [-1.4151e-01],\n        [ 2.3073e+00],\n        [ 4.1135e-01],\n        [ 4.7792e-02],\n        [-1.6242e+00],\n        [-8.5284e-01],\n        [ 1.2958e+00],\n        [ 1.0139e+00],\n        [ 1.6612e+00],\n        [ 2.7091e+00],\n        [ 1.3508e-01],\n        [ 9.5101e-01],\n        [ 4.9620e+00],\n        [ 4.6826e-01],\n        [ 1.0222e+00],\n        [ 3.0222e+00],\n        [-1.3332e+00],\n        [-5.9836e-01],\n        [ 1.3732e+00],\n        [ 2.7485e+00],\n        [ 1.4543e+00],\n        [-2.6647e-02],\n        [-8.9584e-02],\n        [-1.8982e+00],\n        [-1.6611e-01],\n        [ 9.8562e-01],\n        [ 4.0770e-01],\n        [-5.1834e-01],\n        [ 3.3619e+00],\n        [ 7.0663e-01],\n        [ 2.1893e+00],\n        [ 4.9426e-02],\n        [ 3.3677e+00],\n        [ 3.1840e-02],\n        [ 3.0335e-01],\n        [ 9.3715e-01],\n        [ 2.2054e+00],\n        [ 7.4618e-01],\n        [ 7.3484e-01],\n        [ 2.7244e+00],\n        [-3.3050e-01],\n        [ 9.6254e-01],\n        [ 1.1128e+00],\n        [ 2.1577e-02],\n        [-4.6120e-01],\n        [-2.5490e-01],\n        [-2.0411e-01],\n        [ 3.6262e+00],\n        [ 7.1222e-01],\n        [ 3.6328e+00],\n        [ 7.4812e-01],\n        [ 3.5122e+00],\n        [ 3.3317e+00],\n        [-2.4019e+00],\n        [ 3.1127e-01],\n        [-9.1053e-01],\n        [-3.2474e+00],\n        [-9.0679e-01],\n        [ 4.0220e+00],\n        [ 8.7592e-01],\n        [-2.5284e+00],\n        [ 3.9970e+00],\n        [ 1.8413e-01],\n        [ 3.8595e+00],\n        [ 4.2051e-01],\n        [ 2.5472e+00],\n        [ 2.2208e+00],\n        [-8.4406e-02],\n        [-1.2985e+00],\n        [ 4.4151e+00],\n        [ 3.9058e+00],\n        [ 4.1071e+00],\n        [ 2.6291e+00],\n        [ 7.5669e-01],\n        [ 7.2830e-01],\n        [ 2.7041e+00],\n        [ 2.4490e+00],\n        [ 2.3931e+00],\n        [ 3.2799e-01],\n        [ 3.2811e-01],\n        [-1.6908e+00],\n        [ 1.2471e+00],\n        [ 8.2062e-01],\n        [-1.0493e+00],\n        [ 3.5496e+00],\n        [ 4.5332e+00],\n        [ 5.5066e+00],\n        [ 5.3637e+00],\n        [-9.9477e-02],\n        [ 2.7709e+00],\n        [ 4.6124e-01],\n        [-6.4898e-01],\n        [ 9.9308e-01]])",
          "traceback": [
            "\u001b[0;31m---------------------------------------------------------------------------\u001b[0m",
            "\u001b[0;31mValueError\u001b[0m                                Traceback (most recent call last)",
            "\u001b[0;32m<ipython-input-22-cf975ef5de72>\u001b[0m in \u001b[0;36m<cell line: 2>\u001b[0;34m()\u001b[0m\n\u001b[1;32m      1\u001b[0m \u001b[0;31m# likelihood of censored normal on the uncensored sample --> expected behaviour\u001b[0m\u001b[0;34m\u001b[0m\u001b[0;34m\u001b[0m\u001b[0m\n\u001b[0;32m----> 2\u001b[0;31m \u001b[0m_\u001b[0m \u001b[0;34m=\u001b[0m \u001b[0mplt\u001b[0m\u001b[0;34m.\u001b[0m\u001b[0mhist\u001b[0m\u001b[0;34m(\u001b[0m\u001b[0mZ\u001b[0m\u001b[0;34m.\u001b[0m\u001b[0mlog_prob\u001b[0m\u001b[0;34m(\u001b[0m\u001b[0my\u001b[0m\u001b[0;34m)\u001b[0m\u001b[0;34m.\u001b[0m\u001b[0mnumpy\u001b[0m\u001b[0;34m(\u001b[0m\u001b[0;34m)\u001b[0m\u001b[0;34m)\u001b[0m\u001b[0;34m,\u001b[0m \u001b[0mZ\u001b[0m\u001b[0;34m.\u001b[0m\u001b[0mlog_prob\u001b[0m\u001b[0;34m(\u001b[0m\u001b[0my\u001b[0m\u001b[0;34m)\u001b[0m\u001b[0;34m.\u001b[0m\u001b[0mnumpy\u001b[0m\u001b[0;34m(\u001b[0m\u001b[0;34m)\u001b[0m\u001b[0;34m.\u001b[0m\u001b[0mmean\u001b[0m\u001b[0;34m(\u001b[0m\u001b[0;34m)\u001b[0m\u001b[0;34m\u001b[0m\u001b[0;34m\u001b[0m\u001b[0m\n\u001b[0m",
            "\u001b[0;32m<ipython-input-11-87373836717e>\u001b[0m in \u001b[0;36mlog_prob\u001b[0;34m(self, value, jitter)\u001b[0m\n\u001b[1;32m    110\u001b[0m         \u001b[0;34m\"\"\"jitter: used to bounce off NormCDF from 0 before applying log \"\"\"\u001b[0m\u001b[0;34m\u001b[0m\u001b[0;34m\u001b[0m\u001b[0m\n\u001b[1;32m    111\u001b[0m         \u001b[0;32mif\u001b[0m \u001b[0mself\u001b[0m\u001b[0;34m.\u001b[0m\u001b[0m_validate_args\u001b[0m\u001b[0;34m:\u001b[0m\u001b[0;34m\u001b[0m\u001b[0;34m\u001b[0m\u001b[0m\n\u001b[0;32m--> 112\u001b[0;31m             \u001b[0mself\u001b[0m\u001b[0;34m.\u001b[0m\u001b[0m_validate_sample\u001b[0m\u001b[0;34m(\u001b[0m\u001b[0mvalue\u001b[0m\u001b[0;34m)\u001b[0m\u001b[0;34m\u001b[0m\u001b[0;34m\u001b[0m\u001b[0m\n\u001b[0m\u001b[1;32m    113\u001b[0m         \u001b[0;31m# compute the variance\u001b[0m\u001b[0;34m\u001b[0m\u001b[0;34m\u001b[0m\u001b[0m\n\u001b[1;32m    114\u001b[0m         \u001b[0mvar\u001b[0m \u001b[0;34m=\u001b[0m \u001b[0mself\u001b[0m\u001b[0;34m.\u001b[0m\u001b[0mscale\u001b[0m\u001b[0;34m**\u001b[0m\u001b[0;36m2\u001b[0m\u001b[0;34m\u001b[0m\u001b[0;34m\u001b[0m\u001b[0m\n",
            "\u001b[0;32m/usr/local/lib/python3.10/dist-packages/torch/distributions/distribution.py\u001b[0m in \u001b[0;36m_validate_sample\u001b[0;34m(self, value)\u001b[0m\n\u001b[1;32m    310\u001b[0m         \u001b[0mvalid\u001b[0m \u001b[0;34m=\u001b[0m \u001b[0msupport\u001b[0m\u001b[0;34m.\u001b[0m\u001b[0mcheck\u001b[0m\u001b[0;34m(\u001b[0m\u001b[0mvalue\u001b[0m\u001b[0;34m)\u001b[0m\u001b[0;34m\u001b[0m\u001b[0;34m\u001b[0m\u001b[0m\n\u001b[1;32m    311\u001b[0m         \u001b[0;32mif\u001b[0m \u001b[0;32mnot\u001b[0m \u001b[0mvalid\u001b[0m\u001b[0;34m.\u001b[0m\u001b[0mall\u001b[0m\u001b[0;34m(\u001b[0m\u001b[0;34m)\u001b[0m\u001b[0;34m:\u001b[0m\u001b[0;34m\u001b[0m\u001b[0;34m\u001b[0m\u001b[0m\n\u001b[0;32m--> 312\u001b[0;31m             raise ValueError(\n\u001b[0m\u001b[1;32m    313\u001b[0m                 \u001b[0;34m\"Expected value argument \"\u001b[0m\u001b[0;34m\u001b[0m\u001b[0;34m\u001b[0m\u001b[0m\n\u001b[1;32m    314\u001b[0m                 \u001b[0;34mf\"({type(value).__name__} of shape {tuple(value.shape)}) \"\u001b[0m\u001b[0;34m\u001b[0m\u001b[0;34m\u001b[0m\u001b[0m\n",
            "\u001b[0;31mValueError\u001b[0m: Expected value argument (Tensor of shape (500, 1)) to be within the support (Interval(lower_bound=tensor([-0.5000]), upper_bound=tensor([3.]))) of the distribution CensoredNormal(loc: tensor([1.]), scale: tensor([2.]), low: tensor([-0.5000]), high: tensor([3.])), but found invalid values:\ntensor([[ 1.5991e+00],\n        [ 1.4848e+00],\n        [ 1.5664e+00],\n        [ 5.3412e-01],\n        [ 2.3423e+00],\n        [ 2.5635e+00],\n        [-2.5806e+00],\n        [-2.4968e+00],\n        [ 1.3470e+00],\n        [ 1.5337e+00],\n        [ 1.8570e+00],\n        [ 1.4637e+00],\n        [-1.0429e+00],\n        [-6.5453e-01],\n        [ 4.4684e+00],\n        [-1.9841e+00],\n        [ 1.8424e+00],\n        [ 4.0091e+00],\n        [ 3.5432e+00],\n        [ 2.2373e+00],\n        [ 9.2559e-01],\n        [ 3.0705e+00],\n        [ 9.7983e-01],\n        [ 1.1790e+00],\n        [ 1.1681e+00],\n        [ 1.7800e+00],\n        [-1.5968e-01],\n        [ 2.7518e+00],\n        [ 1.7848e+00],\n        [ 3.2169e+00],\n        [ 2.7303e+00],\n        [ 2.7104e+00],\n        [ 2.3102e+00],\n        [ 2.2570e+00],\n        [-1.4811e+00],\n        [ 3.5860e-01],\n        [ 4.8624e+00],\n        [ 1.2906e+00],\n        [-2.8531e-01],\n        [ 2.7272e+00],\n        [ 4.2615e-01],\n        [ 2.2152e+00],\n        [ 2.2117e+00],\n        [ 3.6219e+00],\n        [ 5.4657e-01],\n        [ 5.7596e-01],\n        [ 2.1436e+00],\n        [ 2.2434e+00],\n        [ 1.3210e+00],\n        [-8.4300e-01],\n        [-1.2163e+00],\n        [ 6.2524e-01],\n        [ 1.8857e+00],\n        [ 5.3578e-01],\n        [ 9.3470e-01],\n        [-3.8945e+00],\n        [ 3.9309e+00],\n        [ 2.8922e+00],\n        [-1.2299e+00],\n        [ 3.2292e+00],\n        [ 1.0618e+00],\n        [-1.6915e+00],\n        [ 3.3510e+00],\n        [-4.2656e+00],\n        [ 3.1946e-01],\n        [ 2.9814e+00],\n        [-7.0450e-01],\n        [ 5.2828e+00],\n        [-1.7943e+00],\n        [ 3.0665e-01],\n        [ 2.6544e+00],\n        [-6.2894e-01],\n        [ 2.7410e+00],\n        [ 1.8575e+00],\n        [-1.1646e+00],\n        [ 1.1796e+00],\n        [-1.4023e-01],\n        [ 1.2406e-01],\n        [ 2.9446e+00],\n        [ 6.0323e+00],\n        [ 3.8350e+00],\n        [ 2.9788e+00],\n        [ 3.7206e+00],\n        [ 8.1294e-01],\n        [ 4.5925e+00],\n        [-4.4436e+00],\n        [ 2.3586e+00],\n        [ 1.4362e-01],\n        [ 1.2088e+00],\n        [ 2.3660e+00],\n        [-3.0108e-01],\n        [-1.9650e-01],\n        [ 3.2099e+00],\n        [ 1.1468e+00],\n        [ 4.6992e-01],\n        [ 4.0635e+00],\n        [ 1.5307e-01],\n        [-1.5865e+00],\n        [ 3.2381e-01],\n        [-2.4666e+00],\n        [-6.8387e-01],\n        [-7.9277e-02],\n        [-2.0464e+00],\n        [ 2.0631e+00],\n        [-1.4069e+00],\n        [ 1.5085e-01],\n        [ 1.1546e+00],\n        [ 4.7509e+00],\n        [ 9.3067e-02],\n        [-5.8513e-01],\n        [ 2.9071e+00],\n        [ 3.3038e+00],\n        [ 7.3369e-01],\n        [ 1.1688e+00],\n        [ 8.1798e-01],\n        [-1.5211e+00],\n        [ 2.6884e+00],\n        [ 8.1425e-01],\n        [-3.9713e-01],\n        [ 1.4281e+00],\n        [ 6.8840e-01],\n        [ 1.4687e+00],\n        [ 2.3645e+00],\n        [ 3.1853e+00],\n        [-3.1710e+00],\n        [ 1.2347e-01],\n        [ 5.8956e+00],\n        [-1.5735e+00],\n        [-4.6627e-01],\n        [ 1.0594e+00],\n        [ 1.0047e-01],\n        [ 2.0251e+00],\n        [ 2.9272e+00],\n        [-2.5631e-01],\n        [ 4.6341e-01],\n        [ 2.4203e+00],\n        [ 1.1554e+00],\n        [ 7.1596e-01],\n        [-2.8459e+00],\n        [ 4.9623e+00],\n        [ 2.2584e+00],\n        [-7.3248e-01],\n        [ 1.6092e+00],\n        [ 5.2603e+00],\n        [ 9.3772e-01],\n        [-1.0221e+00],\n        [-5.0940e-01],\n        [ 6.9905e-01],\n        [-1.0686e+00],\n        [ 1.8638e+00],\n        [ 5.6349e-01],\n        [-1.1188e+00],\n        [-8.6639e-01],\n        [ 2.4837e+00],\n        [-2.8320e-01],\n        [-1.2899e+00],\n        [ 5.5666e-01],\n        [-1.8414e+00],\n        [ 4.6060e-02],\n        [ 2.8192e+00],\n        [-4.0778e-01],\n        [ 4.0429e+00],\n        [-3.0147e-01],\n        [ 2.5502e+00],\n        [ 1.4599e+00],\n        [ 3.0268e+00],\n        [-9.6457e-01],\n        [ 5.8500e+00],\n        [ 9.3369e-01],\n        [ 5.1198e+00],\n        [-8.3515e-01],\n        [ 7.2313e-01],\n        [-3.4005e+00],\n        [-1.3475e+00],\n        [ 5.6283e+00],\n        [ 4.6387e+00],\n        [ 9.4786e-01],\n        [ 6.8373e-01],\n        [ 1.8284e-03],\n        [ 3.7225e+00],\n        [ 6.2065e-01],\n        [ 2.2290e-01],\n        [-5.7291e-01],\n        [-2.5385e+00],\n        [ 1.5726e+00],\n        [ 5.7967e-01],\n        [-8.4476e-01],\n        [ 1.9086e+00],\n        [-1.3375e+00],\n        [ 2.8440e+00],\n        [-2.0614e+00],\n        [ 1.0474e+00],\n        [ 1.4981e+00],\n        [-1.1918e-01],\n        [ 2.7913e+00],\n        [ 1.0876e+00],\n        [ 4.2919e+00],\n        [ 1.8333e+00],\n        [ 2.3036e+00],\n        [ 1.7626e+00],\n        [ 5.3700e-01],\n        [ 3.4321e+00],\n        [ 1.1761e+00],\n        [ 2.2616e+00],\n        [ 3.0132e-01],\n        [-3.9777e-01],\n        [-2.0802e+00],\n        [-2.7652e-02],\n        [-6.6534e-01],\n        [ 1.7111e+00],\n        [-2.4361e+00],\n        [ 1.0263e+00],\n        [ 1.3578e+00],\n        [ 2.3508e+00],\n        [ 2.4189e+00],\n        [ 4.6283e+00],\n        [ 1.9349e+00],\n        [-6.6038e-01],\n        [ 2.1600e+00],\n        [ 1.1013e+00],\n        [-3.5107e-01],\n        [-3.4105e-02],\n        [-1.0621e+00],\n        [ 3.0534e+00],\n        [-7.4776e-02],\n        [-3.6986e-01],\n        [ 3.0132e+00],\n        [ 3.6618e-01],\n        [ 5.3615e+00],\n        [ 1.7909e+00],\n        [ 4.0933e+00],\n        [ 6.5406e-01],\n        [ 1.0057e+00],\n        [-1.7410e+00],\n        [-1.5085e+00],\n        [ 6.4143e-01],\n        [ 1.6011e+00],\n        [-1.4823e+00],\n        [-5.2095e-01],\n        [-9.9430e-01],\n        [ 3.0192e-01],\n        [ 3.8053e+00],\n        [ 3.8123e+00],\n        [ 6.4179e-01],\n        [ 3.0255e+00],\n        [ 2.2408e+00],\n        [ 4.2636e+00],\n        [-4.9658e-01],\n        [ 1.0276e+00],\n        [ 3.4260e-01],\n        [ 1.5611e+00],\n        [ 2.3684e-01],\n        [ 3.1010e+00],\n        [ 1.4580e+00],\n        [ 4.1095e+00],\n        [ 3.7636e+00],\n        [ 1.9561e+00],\n        [ 2.8682e+00],\n        [-1.2987e+00],\n        [ 8.5610e-01],\n        [ 1.1883e+00],\n        [ 5.3928e-01],\n        [-2.7996e+00],\n        [ 2.8957e+00],\n        [-1.5499e-01],\n        [ 2.2546e+00],\n        [ 1.1702e+00],\n        [ 6.5321e-01],\n        [ 3.4672e+00],\n        [ 3.7835e+00],\n        [-8.3635e-01],\n        [ 2.6135e+00],\n        [ 5.9372e-01],\n        [ 1.3904e+00],\n        [ 1.4983e+00],\n        [ 6.7795e-02],\n        [-8.0580e-01],\n        [ 1.9888e-01],\n        [-1.7028e+00],\n        [-8.0360e-01],\n        [-2.3749e+00],\n        [ 2.7011e+00],\n        [ 2.3545e+00],\n        [ 1.1476e+00],\n        [ 4.9841e+00],\n        [ 3.3910e-01],\n        [ 2.1936e-01],\n        [ 3.9974e+00],\n        [ 4.5955e+00],\n        [ 1.4637e+00],\n        [ 4.4300e-02],\n        [ 1.5989e+00],\n        [ 2.6978e+00],\n        [ 1.6630e+00],\n        [ 1.2578e+00],\n        [-1.4476e+00],\n        [-2.4865e-01],\n        [ 1.0042e+00],\n        [-1.0207e+00],\n        [-1.2392e+00],\n        [-1.5265e+00],\n        [ 3.9052e+00],\n        [ 2.3859e+00],\n        [ 1.6870e+00],\n        [ 1.4655e+00],\n        [-1.5093e+00],\n        [ 2.6775e+00],\n        [-2.7081e-01],\n        [-1.4347e+00],\n        [ 3.4629e+00],\n        [ 7.5559e-01],\n        [-2.0133e+00],\n        [ 7.3766e-01],\n        [ 9.3753e-01],\n        [ 2.0250e+00],\n        [ 2.6348e+00],\n        [ 4.4550e-01],\n        [-6.3412e-01],\n        [ 1.2208e+00],\n        [ 1.0482e+00],\n        [-9.9083e-01],\n        [-4.0511e-01],\n        [ 1.8220e+00],\n        [ 2.5478e+00],\n        [-1.5525e+00],\n        [ 7.1319e-01],\n        [ 1.3981e+00],\n        [-2.0801e+00],\n        [ 4.0966e+00],\n        [ 2.8577e+00],\n        [ 1.1678e+00],\n        [ 1.7146e+00],\n        [ 1.3572e+00],\n        [-3.5378e-01],\n        [ 2.7009e+00],\n        [ 2.8851e+00],\n        [ 4.7095e+00],\n        [ 9.3961e-01],\n        [ 5.4876e-01],\n        [ 1.3874e+00],\n        [ 2.0117e+00],\n        [ 1.2077e+00],\n        [-1.8153e+00],\n        [ 3.0599e+00],\n        [ 5.3547e+00],\n        [ 1.8731e+00],\n        [ 1.5693e-01],\n        [-8.6412e-01],\n        [ 4.6221e+00],\n        [-1.9716e+00],\n        [ 2.4779e+00],\n        [ 2.3289e+00],\n        [ 1.1880e+00],\n        [-1.9343e+00],\n        [-1.4395e+00],\n        [-1.6548e+00],\n        [ 2.2200e+00],\n        [ 7.7971e-01],\n        [-1.6587e+00],\n        [ 2.4204e+00],\n        [ 9.6658e-01],\n        [ 1.8669e+00],\n        [ 9.7076e-01],\n        [ 2.3912e+00],\n        [ 2.1445e+00],\n        [-1.9634e+00],\n        [ 6.9353e-01],\n        [ 3.1806e+00],\n        [-8.8601e-01],\n        [ 6.5320e-01],\n        [ 2.9607e+00],\n        [ 1.1256e+00],\n        [ 3.0847e+00],\n        [ 4.1090e+00],\n        [ 4.1699e+00],\n        [ 2.4399e+00],\n        [ 6.2762e+00],\n        [ 4.4639e-01],\n        [ 1.3926e+00],\n        [ 2.7463e+00],\n        [ 1.0204e+00],\n        [-7.6768e-01],\n        [ 2.6137e+00],\n        [ 1.5985e+00],\n        [ 2.6478e+00],\n        [ 3.0405e+00],\n        [ 3.6693e+00],\n        [ 1.7277e+00],\n        [ 2.5224e+00],\n        [-7.6584e-01],\n        [ 1.5383e+00],\n        [ 8.0801e-01],\n        [-3.1094e-01],\n        [ 2.3632e+00],\n        [ 4.1475e-01],\n        [ 2.8725e+00],\n        [ 1.2836e+00],\n        [ 3.2606e-02],\n        [-1.4858e+00],\n        [ 1.5460e+00],\n        [ 1.2300e+00],\n        [ 3.0316e+00],\n        [ 4.2259e+00],\n        [ 6.1650e-01],\n        [ 2.2329e+00],\n        [ 5.8859e-01],\n        [ 1.8431e+00],\n        [-1.4151e-01],\n        [ 2.3073e+00],\n        [ 4.1135e-01],\n        [ 4.7792e-02],\n        [-1.6242e+00],\n        [-8.5284e-01],\n        [ 1.2958e+00],\n        [ 1.0139e+00],\n        [ 1.6612e+00],\n        [ 2.7091e+00],\n        [ 1.3508e-01],\n        [ 9.5101e-01],\n        [ 4.9620e+00],\n        [ 4.6826e-01],\n        [ 1.0222e+00],\n        [ 3.0222e+00],\n        [-1.3332e+00],\n        [-5.9836e-01],\n        [ 1.3732e+00],\n        [ 2.7485e+00],\n        [ 1.4543e+00],\n        [-2.6647e-02],\n        [-8.9584e-02],\n        [-1.8982e+00],\n        [-1.6611e-01],\n        [ 9.8562e-01],\n        [ 4.0770e-01],\n        [-5.1834e-01],\n        [ 3.3619e+00],\n        [ 7.0663e-01],\n        [ 2.1893e+00],\n        [ 4.9426e-02],\n        [ 3.3677e+00],\n        [ 3.1840e-02],\n        [ 3.0335e-01],\n        [ 9.3715e-01],\n        [ 2.2054e+00],\n        [ 7.4618e-01],\n        [ 7.3484e-01],\n        [ 2.7244e+00],\n        [-3.3050e-01],\n        [ 9.6254e-01],\n        [ 1.1128e+00],\n        [ 2.1577e-02],\n        [-4.6120e-01],\n        [-2.5490e-01],\n        [-2.0411e-01],\n        [ 3.6262e+00],\n        [ 7.1222e-01],\n        [ 3.6328e+00],\n        [ 7.4812e-01],\n        [ 3.5122e+00],\n        [ 3.3317e+00],\n        [-2.4019e+00],\n        [ 3.1127e-01],\n        [-9.1053e-01],\n        [-3.2474e+00],\n        [-9.0679e-01],\n        [ 4.0220e+00],\n        [ 8.7592e-01],\n        [-2.5284e+00],\n        [ 3.9970e+00],\n        [ 1.8413e-01],\n        [ 3.8595e+00],\n        [ 4.2051e-01],\n        [ 2.5472e+00],\n        [ 2.2208e+00],\n        [-8.4406e-02],\n        [-1.2985e+00],\n        [ 4.4151e+00],\n        [ 3.9058e+00],\n        [ 4.1071e+00],\n        [ 2.6291e+00],\n        [ 7.5669e-01],\n        [ 7.2830e-01],\n        [ 2.7041e+00],\n        [ 2.4490e+00],\n        [ 2.3931e+00],\n        [ 3.2799e-01],\n        [ 3.2811e-01],\n        [-1.6908e+00],\n        [ 1.2471e+00],\n        [ 8.2062e-01],\n        [-1.0493e+00],\n        [ 3.5496e+00],\n        [ 4.5332e+00],\n        [ 5.5066e+00],\n        [ 5.3637e+00],\n        [-9.9477e-02],\n        [ 2.7709e+00],\n        [ 4.6124e-01],\n        [-6.4898e-01],\n        [ 9.9308e-01]])"
          ]
        }
      ]
    },
    {
      "cell_type": "code",
      "source": [
        "# likelihood of normal on the uncensored sample: behaviour of HalfNormal as implemented in Pytorch\n",
        "_ = plt.hist(W.log_prob(y).numpy()), W.log_prob(y).numpy().mean()"
      ],
      "metadata": {
        "id": "8TICRXASi8ZN",
        "colab": {
          "base_uri": "https://localhost:8080/",
          "height": 1000
        },
        "outputId": "51beedec-94f5-46d6-b6f5-78332a92935d"
      },
      "execution_count": null,
      "outputs": [
        {
          "output_type": "error",
          "ename": "ValueError",
          "evalue": "Expected value argument (Tensor of shape (500, 1)) to be within the support (GreaterThanEq(lower_bound=0.0)) of the distribution HalfNormal(), but found invalid values:\ntensor([[ 1.5991e+00],\n        [ 1.4848e+00],\n        [ 1.5664e+00],\n        [ 5.3412e-01],\n        [ 2.3423e+00],\n        [ 2.5635e+00],\n        [-2.5806e+00],\n        [-2.4968e+00],\n        [ 1.3470e+00],\n        [ 1.5337e+00],\n        [ 1.8570e+00],\n        [ 1.4637e+00],\n        [-1.0429e+00],\n        [-6.5453e-01],\n        [ 4.4684e+00],\n        [-1.9841e+00],\n        [ 1.8424e+00],\n        [ 4.0091e+00],\n        [ 3.5432e+00],\n        [ 2.2373e+00],\n        [ 9.2559e-01],\n        [ 3.0705e+00],\n        [ 9.7983e-01],\n        [ 1.1790e+00],\n        [ 1.1681e+00],\n        [ 1.7800e+00],\n        [-1.5968e-01],\n        [ 2.7518e+00],\n        [ 1.7848e+00],\n        [ 3.2169e+00],\n        [ 2.7303e+00],\n        [ 2.7104e+00],\n        [ 2.3102e+00],\n        [ 2.2570e+00],\n        [-1.4811e+00],\n        [ 3.5860e-01],\n        [ 4.8624e+00],\n        [ 1.2906e+00],\n        [-2.8531e-01],\n        [ 2.7272e+00],\n        [ 4.2615e-01],\n        [ 2.2152e+00],\n        [ 2.2117e+00],\n        [ 3.6219e+00],\n        [ 5.4657e-01],\n        [ 5.7596e-01],\n        [ 2.1436e+00],\n        [ 2.2434e+00],\n        [ 1.3210e+00],\n        [-8.4300e-01],\n        [-1.2163e+00],\n        [ 6.2524e-01],\n        [ 1.8857e+00],\n        [ 5.3578e-01],\n        [ 9.3470e-01],\n        [-3.8945e+00],\n        [ 3.9309e+00],\n        [ 2.8922e+00],\n        [-1.2299e+00],\n        [ 3.2292e+00],\n        [ 1.0618e+00],\n        [-1.6915e+00],\n        [ 3.3510e+00],\n        [-4.2656e+00],\n        [ 3.1946e-01],\n        [ 2.9814e+00],\n        [-7.0450e-01],\n        [ 5.2828e+00],\n        [-1.7943e+00],\n        [ 3.0665e-01],\n        [ 2.6544e+00],\n        [-6.2894e-01],\n        [ 2.7410e+00],\n        [ 1.8575e+00],\n        [-1.1646e+00],\n        [ 1.1796e+00],\n        [-1.4023e-01],\n        [ 1.2406e-01],\n        [ 2.9446e+00],\n        [ 6.0323e+00],\n        [ 3.8350e+00],\n        [ 2.9788e+00],\n        [ 3.7206e+00],\n        [ 8.1294e-01],\n        [ 4.5925e+00],\n        [-4.4436e+00],\n        [ 2.3586e+00],\n        [ 1.4362e-01],\n        [ 1.2088e+00],\n        [ 2.3660e+00],\n        [-3.0108e-01],\n        [-1.9650e-01],\n        [ 3.2099e+00],\n        [ 1.1468e+00],\n        [ 4.6992e-01],\n        [ 4.0635e+00],\n        [ 1.5307e-01],\n        [-1.5865e+00],\n        [ 3.2381e-01],\n        [-2.4666e+00],\n        [-6.8387e-01],\n        [-7.9277e-02],\n        [-2.0464e+00],\n        [ 2.0631e+00],\n        [-1.4069e+00],\n        [ 1.5085e-01],\n        [ 1.1546e+00],\n        [ 4.7509e+00],\n        [ 9.3067e-02],\n        [-5.8513e-01],\n        [ 2.9071e+00],\n        [ 3.3038e+00],\n        [ 7.3369e-01],\n        [ 1.1688e+00],\n        [ 8.1798e-01],\n        [-1.5211e+00],\n        [ 2.6884e+00],\n        [ 8.1425e-01],\n        [-3.9713e-01],\n        [ 1.4281e+00],\n        [ 6.8840e-01],\n        [ 1.4687e+00],\n        [ 2.3645e+00],\n        [ 3.1853e+00],\n        [-3.1710e+00],\n        [ 1.2347e-01],\n        [ 5.8956e+00],\n        [-1.5735e+00],\n        [-4.6627e-01],\n        [ 1.0594e+00],\n        [ 1.0047e-01],\n        [ 2.0251e+00],\n        [ 2.9272e+00],\n        [-2.5631e-01],\n        [ 4.6341e-01],\n        [ 2.4203e+00],\n        [ 1.1554e+00],\n        [ 7.1596e-01],\n        [-2.8459e+00],\n        [ 4.9623e+00],\n        [ 2.2584e+00],\n        [-7.3248e-01],\n        [ 1.6092e+00],\n        [ 5.2603e+00],\n        [ 9.3772e-01],\n        [-1.0221e+00],\n        [-5.0940e-01],\n        [ 6.9905e-01],\n        [-1.0686e+00],\n        [ 1.8638e+00],\n        [ 5.6349e-01],\n        [-1.1188e+00],\n        [-8.6639e-01],\n        [ 2.4837e+00],\n        [-2.8320e-01],\n        [-1.2899e+00],\n        [ 5.5666e-01],\n        [-1.8414e+00],\n        [ 4.6060e-02],\n        [ 2.8192e+00],\n        [-4.0778e-01],\n        [ 4.0429e+00],\n        [-3.0147e-01],\n        [ 2.5502e+00],\n        [ 1.4599e+00],\n        [ 3.0268e+00],\n        [-9.6457e-01],\n        [ 5.8500e+00],\n        [ 9.3369e-01],\n        [ 5.1198e+00],\n        [-8.3515e-01],\n        [ 7.2313e-01],\n        [-3.4005e+00],\n        [-1.3475e+00],\n        [ 5.6283e+00],\n        [ 4.6387e+00],\n        [ 9.4786e-01],\n        [ 6.8373e-01],\n        [ 1.8284e-03],\n        [ 3.7225e+00],\n        [ 6.2065e-01],\n        [ 2.2290e-01],\n        [-5.7291e-01],\n        [-2.5385e+00],\n        [ 1.5726e+00],\n        [ 5.7967e-01],\n        [-8.4476e-01],\n        [ 1.9086e+00],\n        [-1.3375e+00],\n        [ 2.8440e+00],\n        [-2.0614e+00],\n        [ 1.0474e+00],\n        [ 1.4981e+00],\n        [-1.1918e-01],\n        [ 2.7913e+00],\n        [ 1.0876e+00],\n        [ 4.2919e+00],\n        [ 1.8333e+00],\n        [ 2.3036e+00],\n        [ 1.7626e+00],\n        [ 5.3700e-01],\n        [ 3.4321e+00],\n        [ 1.1761e+00],\n        [ 2.2616e+00],\n        [ 3.0132e-01],\n        [-3.9777e-01],\n        [-2.0802e+00],\n        [-2.7652e-02],\n        [-6.6534e-01],\n        [ 1.7111e+00],\n        [-2.4361e+00],\n        [ 1.0263e+00],\n        [ 1.3578e+00],\n        [ 2.3508e+00],\n        [ 2.4189e+00],\n        [ 4.6283e+00],\n        [ 1.9349e+00],\n        [-6.6038e-01],\n        [ 2.1600e+00],\n        [ 1.1013e+00],\n        [-3.5107e-01],\n        [-3.4105e-02],\n        [-1.0621e+00],\n        [ 3.0534e+00],\n        [-7.4776e-02],\n        [-3.6986e-01],\n        [ 3.0132e+00],\n        [ 3.6618e-01],\n        [ 5.3615e+00],\n        [ 1.7909e+00],\n        [ 4.0933e+00],\n        [ 6.5406e-01],\n        [ 1.0057e+00],\n        [-1.7410e+00],\n        [-1.5085e+00],\n        [ 6.4143e-01],\n        [ 1.6011e+00],\n        [-1.4823e+00],\n        [-5.2095e-01],\n        [-9.9430e-01],\n        [ 3.0192e-01],\n        [ 3.8053e+00],\n        [ 3.8123e+00],\n        [ 6.4179e-01],\n        [ 3.0255e+00],\n        [ 2.2408e+00],\n        [ 4.2636e+00],\n        [-4.9658e-01],\n        [ 1.0276e+00],\n        [ 3.4260e-01],\n        [ 1.5611e+00],\n        [ 2.3684e-01],\n        [ 3.1010e+00],\n        [ 1.4580e+00],\n        [ 4.1095e+00],\n        [ 3.7636e+00],\n        [ 1.9561e+00],\n        [ 2.8682e+00],\n        [-1.2987e+00],\n        [ 8.5610e-01],\n        [ 1.1883e+00],\n        [ 5.3928e-01],\n        [-2.7996e+00],\n        [ 2.8957e+00],\n        [-1.5499e-01],\n        [ 2.2546e+00],\n        [ 1.1702e+00],\n        [ 6.5321e-01],\n        [ 3.4672e+00],\n        [ 3.7835e+00],\n        [-8.3635e-01],\n        [ 2.6135e+00],\n        [ 5.9372e-01],\n        [ 1.3904e+00],\n        [ 1.4983e+00],\n        [ 6.7795e-02],\n        [-8.0580e-01],\n        [ 1.9888e-01],\n        [-1.7028e+00],\n        [-8.0360e-01],\n        [-2.3749e+00],\n        [ 2.7011e+00],\n        [ 2.3545e+00],\n        [ 1.1476e+00],\n        [ 4.9841e+00],\n        [ 3.3910e-01],\n        [ 2.1936e-01],\n        [ 3.9974e+00],\n        [ 4.5955e+00],\n        [ 1.4637e+00],\n        [ 4.4300e-02],\n        [ 1.5989e+00],\n        [ 2.6978e+00],\n        [ 1.6630e+00],\n        [ 1.2578e+00],\n        [-1.4476e+00],\n        [-2.4865e-01],\n        [ 1.0042e+00],\n        [-1.0207e+00],\n        [-1.2392e+00],\n        [-1.5265e+00],\n        [ 3.9052e+00],\n        [ 2.3859e+00],\n        [ 1.6870e+00],\n        [ 1.4655e+00],\n        [-1.5093e+00],\n        [ 2.6775e+00],\n        [-2.7081e-01],\n        [-1.4347e+00],\n        [ 3.4629e+00],\n        [ 7.5559e-01],\n        [-2.0133e+00],\n        [ 7.3766e-01],\n        [ 9.3753e-01],\n        [ 2.0250e+00],\n        [ 2.6348e+00],\n        [ 4.4550e-01],\n        [-6.3412e-01],\n        [ 1.2208e+00],\n        [ 1.0482e+00],\n        [-9.9083e-01],\n        [-4.0511e-01],\n        [ 1.8220e+00],\n        [ 2.5478e+00],\n        [-1.5525e+00],\n        [ 7.1319e-01],\n        [ 1.3981e+00],\n        [-2.0801e+00],\n        [ 4.0966e+00],\n        [ 2.8577e+00],\n        [ 1.1678e+00],\n        [ 1.7146e+00],\n        [ 1.3572e+00],\n        [-3.5378e-01],\n        [ 2.7009e+00],\n        [ 2.8851e+00],\n        [ 4.7095e+00],\n        [ 9.3961e-01],\n        [ 5.4876e-01],\n        [ 1.3874e+00],\n        [ 2.0117e+00],\n        [ 1.2077e+00],\n        [-1.8153e+00],\n        [ 3.0599e+00],\n        [ 5.3547e+00],\n        [ 1.8731e+00],\n        [ 1.5693e-01],\n        [-8.6412e-01],\n        [ 4.6221e+00],\n        [-1.9716e+00],\n        [ 2.4779e+00],\n        [ 2.3289e+00],\n        [ 1.1880e+00],\n        [-1.9343e+00],\n        [-1.4395e+00],\n        [-1.6548e+00],\n        [ 2.2200e+00],\n        [ 7.7971e-01],\n        [-1.6587e+00],\n        [ 2.4204e+00],\n        [ 9.6658e-01],\n        [ 1.8669e+00],\n        [ 9.7076e-01],\n        [ 2.3912e+00],\n        [ 2.1445e+00],\n        [-1.9634e+00],\n        [ 6.9353e-01],\n        [ 3.1806e+00],\n        [-8.8601e-01],\n        [ 6.5320e-01],\n        [ 2.9607e+00],\n        [ 1.1256e+00],\n        [ 3.0847e+00],\n        [ 4.1090e+00],\n        [ 4.1699e+00],\n        [ 2.4399e+00],\n        [ 6.2762e+00],\n        [ 4.4639e-01],\n        [ 1.3926e+00],\n        [ 2.7463e+00],\n        [ 1.0204e+00],\n        [-7.6768e-01],\n        [ 2.6137e+00],\n        [ 1.5985e+00],\n        [ 2.6478e+00],\n        [ 3.0405e+00],\n        [ 3.6693e+00],\n        [ 1.7277e+00],\n        [ 2.5224e+00],\n        [-7.6584e-01],\n        [ 1.5383e+00],\n        [ 8.0801e-01],\n        [-3.1094e-01],\n        [ 2.3632e+00],\n        [ 4.1475e-01],\n        [ 2.8725e+00],\n        [ 1.2836e+00],\n        [ 3.2606e-02],\n        [-1.4858e+00],\n        [ 1.5460e+00],\n        [ 1.2300e+00],\n        [ 3.0316e+00],\n        [ 4.2259e+00],\n        [ 6.1650e-01],\n        [ 2.2329e+00],\n        [ 5.8859e-01],\n        [ 1.8431e+00],\n        [-1.4151e-01],\n        [ 2.3073e+00],\n        [ 4.1135e-01],\n        [ 4.7792e-02],\n        [-1.6242e+00],\n        [-8.5284e-01],\n        [ 1.2958e+00],\n        [ 1.0139e+00],\n        [ 1.6612e+00],\n        [ 2.7091e+00],\n        [ 1.3508e-01],\n        [ 9.5101e-01],\n        [ 4.9620e+00],\n        [ 4.6826e-01],\n        [ 1.0222e+00],\n        [ 3.0222e+00],\n        [-1.3332e+00],\n        [-5.9836e-01],\n        [ 1.3732e+00],\n        [ 2.7485e+00],\n        [ 1.4543e+00],\n        [-2.6647e-02],\n        [-8.9584e-02],\n        [-1.8982e+00],\n        [-1.6611e-01],\n        [ 9.8562e-01],\n        [ 4.0770e-01],\n        [-5.1834e-01],\n        [ 3.3619e+00],\n        [ 7.0663e-01],\n        [ 2.1893e+00],\n        [ 4.9426e-02],\n        [ 3.3677e+00],\n        [ 3.1840e-02],\n        [ 3.0335e-01],\n        [ 9.3715e-01],\n        [ 2.2054e+00],\n        [ 7.4618e-01],\n        [ 7.3484e-01],\n        [ 2.7244e+00],\n        [-3.3050e-01],\n        [ 9.6254e-01],\n        [ 1.1128e+00],\n        [ 2.1577e-02],\n        [-4.6120e-01],\n        [-2.5490e-01],\n        [-2.0411e-01],\n        [ 3.6262e+00],\n        [ 7.1222e-01],\n        [ 3.6328e+00],\n        [ 7.4812e-01],\n        [ 3.5122e+00],\n        [ 3.3317e+00],\n        [-2.4019e+00],\n        [ 3.1127e-01],\n        [-9.1053e-01],\n        [-3.2474e+00],\n        [-9.0679e-01],\n        [ 4.0220e+00],\n        [ 8.7592e-01],\n        [-2.5284e+00],\n        [ 3.9970e+00],\n        [ 1.8413e-01],\n        [ 3.8595e+00],\n        [ 4.2051e-01],\n        [ 2.5472e+00],\n        [ 2.2208e+00],\n        [-8.4406e-02],\n        [-1.2985e+00],\n        [ 4.4151e+00],\n        [ 3.9058e+00],\n        [ 4.1071e+00],\n        [ 2.6291e+00],\n        [ 7.5669e-01],\n        [ 7.2830e-01],\n        [ 2.7041e+00],\n        [ 2.4490e+00],\n        [ 2.3931e+00],\n        [ 3.2799e-01],\n        [ 3.2811e-01],\n        [-1.6908e+00],\n        [ 1.2471e+00],\n        [ 8.2062e-01],\n        [-1.0493e+00],\n        [ 3.5496e+00],\n        [ 4.5332e+00],\n        [ 5.5066e+00],\n        [ 5.3637e+00],\n        [-9.9477e-02],\n        [ 2.7709e+00],\n        [ 4.6124e-01],\n        [-6.4898e-01],\n        [ 9.9308e-01]])",
          "traceback": [
            "\u001b[0;31m---------------------------------------------------------------------------\u001b[0m",
            "\u001b[0;31mValueError\u001b[0m                                Traceback (most recent call last)",
            "\u001b[0;32m<ipython-input-23-32f57ee24aec>\u001b[0m in \u001b[0;36m<cell line: 2>\u001b[0;34m()\u001b[0m\n\u001b[1;32m      1\u001b[0m \u001b[0;31m# likelihood of normal on the uncensored sample: behaviour of HalfNormal as implemented in Pytorch\u001b[0m\u001b[0;34m\u001b[0m\u001b[0;34m\u001b[0m\u001b[0m\n\u001b[0;32m----> 2\u001b[0;31m \u001b[0m_\u001b[0m \u001b[0;34m=\u001b[0m \u001b[0mplt\u001b[0m\u001b[0;34m.\u001b[0m\u001b[0mhist\u001b[0m\u001b[0;34m(\u001b[0m\u001b[0mW\u001b[0m\u001b[0;34m.\u001b[0m\u001b[0mlog_prob\u001b[0m\u001b[0;34m(\u001b[0m\u001b[0my\u001b[0m\u001b[0;34m)\u001b[0m\u001b[0;34m.\u001b[0m\u001b[0mnumpy\u001b[0m\u001b[0;34m(\u001b[0m\u001b[0;34m)\u001b[0m\u001b[0;34m)\u001b[0m\u001b[0;34m,\u001b[0m \u001b[0mW\u001b[0m\u001b[0;34m.\u001b[0m\u001b[0mlog_prob\u001b[0m\u001b[0;34m(\u001b[0m\u001b[0my\u001b[0m\u001b[0;34m)\u001b[0m\u001b[0;34m.\u001b[0m\u001b[0mnumpy\u001b[0m\u001b[0;34m(\u001b[0m\u001b[0;34m)\u001b[0m\u001b[0;34m.\u001b[0m\u001b[0mmean\u001b[0m\u001b[0;34m(\u001b[0m\u001b[0;34m)\u001b[0m\u001b[0;34m\u001b[0m\u001b[0;34m\u001b[0m\u001b[0m\n\u001b[0m",
            "\u001b[0;32m/usr/local/lib/python3.10/dist-packages/torch/distributions/half_normal.py\u001b[0m in \u001b[0;36mlog_prob\u001b[0;34m(self, value)\u001b[0m\n\u001b[1;32m     58\u001b[0m     \u001b[0;32mdef\u001b[0m \u001b[0mlog_prob\u001b[0m\u001b[0;34m(\u001b[0m\u001b[0mself\u001b[0m\u001b[0;34m,\u001b[0m \u001b[0mvalue\u001b[0m\u001b[0;34m)\u001b[0m\u001b[0;34m:\u001b[0m\u001b[0;34m\u001b[0m\u001b[0;34m\u001b[0m\u001b[0m\n\u001b[1;32m     59\u001b[0m         \u001b[0;32mif\u001b[0m \u001b[0mself\u001b[0m\u001b[0;34m.\u001b[0m\u001b[0m_validate_args\u001b[0m\u001b[0;34m:\u001b[0m\u001b[0;34m\u001b[0m\u001b[0;34m\u001b[0m\u001b[0m\n\u001b[0;32m---> 60\u001b[0;31m             \u001b[0mself\u001b[0m\u001b[0;34m.\u001b[0m\u001b[0m_validate_sample\u001b[0m\u001b[0;34m(\u001b[0m\u001b[0mvalue\u001b[0m\u001b[0;34m)\u001b[0m\u001b[0;34m\u001b[0m\u001b[0;34m\u001b[0m\u001b[0m\n\u001b[0m\u001b[1;32m     61\u001b[0m         \u001b[0mlog_prob\u001b[0m \u001b[0;34m=\u001b[0m \u001b[0mself\u001b[0m\u001b[0;34m.\u001b[0m\u001b[0mbase_dist\u001b[0m\u001b[0;34m.\u001b[0m\u001b[0mlog_prob\u001b[0m\u001b[0;34m(\u001b[0m\u001b[0mvalue\u001b[0m\u001b[0;34m)\u001b[0m \u001b[0;34m+\u001b[0m \u001b[0mmath\u001b[0m\u001b[0;34m.\u001b[0m\u001b[0mlog\u001b[0m\u001b[0;34m(\u001b[0m\u001b[0;36m2\u001b[0m\u001b[0;34m)\u001b[0m\u001b[0;34m\u001b[0m\u001b[0;34m\u001b[0m\u001b[0m\n\u001b[1;32m     62\u001b[0m         \u001b[0mlog_prob\u001b[0m \u001b[0;34m=\u001b[0m \u001b[0mtorch\u001b[0m\u001b[0;34m.\u001b[0m\u001b[0mwhere\u001b[0m\u001b[0;34m(\u001b[0m\u001b[0mvalue\u001b[0m \u001b[0;34m>=\u001b[0m \u001b[0;36m0\u001b[0m\u001b[0;34m,\u001b[0m \u001b[0mlog_prob\u001b[0m\u001b[0;34m,\u001b[0m \u001b[0;34m-\u001b[0m\u001b[0minf\u001b[0m\u001b[0;34m)\u001b[0m\u001b[0;34m\u001b[0m\u001b[0;34m\u001b[0m\u001b[0m\n",
            "\u001b[0;32m/usr/local/lib/python3.10/dist-packages/torch/distributions/distribution.py\u001b[0m in \u001b[0;36m_validate_sample\u001b[0;34m(self, value)\u001b[0m\n\u001b[1;32m    310\u001b[0m         \u001b[0mvalid\u001b[0m \u001b[0;34m=\u001b[0m \u001b[0msupport\u001b[0m\u001b[0;34m.\u001b[0m\u001b[0mcheck\u001b[0m\u001b[0;34m(\u001b[0m\u001b[0mvalue\u001b[0m\u001b[0;34m)\u001b[0m\u001b[0;34m\u001b[0m\u001b[0;34m\u001b[0m\u001b[0m\n\u001b[1;32m    311\u001b[0m         \u001b[0;32mif\u001b[0m \u001b[0;32mnot\u001b[0m \u001b[0mvalid\u001b[0m\u001b[0;34m.\u001b[0m\u001b[0mall\u001b[0m\u001b[0;34m(\u001b[0m\u001b[0;34m)\u001b[0m\u001b[0;34m:\u001b[0m\u001b[0;34m\u001b[0m\u001b[0;34m\u001b[0m\u001b[0m\n\u001b[0;32m--> 312\u001b[0;31m             raise ValueError(\n\u001b[0m\u001b[1;32m    313\u001b[0m                 \u001b[0;34m\"Expected value argument \"\u001b[0m\u001b[0;34m\u001b[0m\u001b[0;34m\u001b[0m\u001b[0m\n\u001b[1;32m    314\u001b[0m                 \u001b[0;34mf\"({type(value).__name__} of shape {tuple(value.shape)}) \"\u001b[0m\u001b[0;34m\u001b[0m\u001b[0;34m\u001b[0m\u001b[0m\n",
            "\u001b[0;31mValueError\u001b[0m: Expected value argument (Tensor of shape (500, 1)) to be within the support (GreaterThanEq(lower_bound=0.0)) of the distribution HalfNormal(), but found invalid values:\ntensor([[ 1.5991e+00],\n        [ 1.4848e+00],\n        [ 1.5664e+00],\n        [ 5.3412e-01],\n        [ 2.3423e+00],\n        [ 2.5635e+00],\n        [-2.5806e+00],\n        [-2.4968e+00],\n        [ 1.3470e+00],\n        [ 1.5337e+00],\n        [ 1.8570e+00],\n        [ 1.4637e+00],\n        [-1.0429e+00],\n        [-6.5453e-01],\n        [ 4.4684e+00],\n        [-1.9841e+00],\n        [ 1.8424e+00],\n        [ 4.0091e+00],\n        [ 3.5432e+00],\n        [ 2.2373e+00],\n        [ 9.2559e-01],\n        [ 3.0705e+00],\n        [ 9.7983e-01],\n        [ 1.1790e+00],\n        [ 1.1681e+00],\n        [ 1.7800e+00],\n        [-1.5968e-01],\n        [ 2.7518e+00],\n        [ 1.7848e+00],\n        [ 3.2169e+00],\n        [ 2.7303e+00],\n        [ 2.7104e+00],\n        [ 2.3102e+00],\n        [ 2.2570e+00],\n        [-1.4811e+00],\n        [ 3.5860e-01],\n        [ 4.8624e+00],\n        [ 1.2906e+00],\n        [-2.8531e-01],\n        [ 2.7272e+00],\n        [ 4.2615e-01],\n        [ 2.2152e+00],\n        [ 2.2117e+00],\n        [ 3.6219e+00],\n        [ 5.4657e-01],\n        [ 5.7596e-01],\n        [ 2.1436e+00],\n        [ 2.2434e+00],\n        [ 1.3210e+00],\n        [-8.4300e-01],\n        [-1.2163e+00],\n        [ 6.2524e-01],\n        [ 1.8857e+00],\n        [ 5.3578e-01],\n        [ 9.3470e-01],\n        [-3.8945e+00],\n        [ 3.9309e+00],\n        [ 2.8922e+00],\n        [-1.2299e+00],\n        [ 3.2292e+00],\n        [ 1.0618e+00],\n        [-1.6915e+00],\n        [ 3.3510e+00],\n        [-4.2656e+00],\n        [ 3.1946e-01],\n        [ 2.9814e+00],\n        [-7.0450e-01],\n        [ 5.2828e+00],\n        [-1.7943e+00],\n        [ 3.0665e-01],\n        [ 2.6544e+00],\n        [-6.2894e-01],\n        [ 2.7410e+00],\n        [ 1.8575e+00],\n        [-1.1646e+00],\n        [ 1.1796e+00],\n        [-1.4023e-01],\n        [ 1.2406e-01],\n        [ 2.9446e+00],\n        [ 6.0323e+00],\n        [ 3.8350e+00],\n        [ 2.9788e+00],\n        [ 3.7206e+00],\n        [ 8.1294e-01],\n        [ 4.5925e+00],\n        [-4.4436e+00],\n        [ 2.3586e+00],\n        [ 1.4362e-01],\n        [ 1.2088e+00],\n        [ 2.3660e+00],\n        [-3.0108e-01],\n        [-1.9650e-01],\n        [ 3.2099e+00],\n        [ 1.1468e+00],\n        [ 4.6992e-01],\n        [ 4.0635e+00],\n        [ 1.5307e-01],\n        [-1.5865e+00],\n        [ 3.2381e-01],\n        [-2.4666e+00],\n        [-6.8387e-01],\n        [-7.9277e-02],\n        [-2.0464e+00],\n        [ 2.0631e+00],\n        [-1.4069e+00],\n        [ 1.5085e-01],\n        [ 1.1546e+00],\n        [ 4.7509e+00],\n        [ 9.3067e-02],\n        [-5.8513e-01],\n        [ 2.9071e+00],\n        [ 3.3038e+00],\n        [ 7.3369e-01],\n        [ 1.1688e+00],\n        [ 8.1798e-01],\n        [-1.5211e+00],\n        [ 2.6884e+00],\n        [ 8.1425e-01],\n        [-3.9713e-01],\n        [ 1.4281e+00],\n        [ 6.8840e-01],\n        [ 1.4687e+00],\n        [ 2.3645e+00],\n        [ 3.1853e+00],\n        [-3.1710e+00],\n        [ 1.2347e-01],\n        [ 5.8956e+00],\n        [-1.5735e+00],\n        [-4.6627e-01],\n        [ 1.0594e+00],\n        [ 1.0047e-01],\n        [ 2.0251e+00],\n        [ 2.9272e+00],\n        [-2.5631e-01],\n        [ 4.6341e-01],\n        [ 2.4203e+00],\n        [ 1.1554e+00],\n        [ 7.1596e-01],\n        [-2.8459e+00],\n        [ 4.9623e+00],\n        [ 2.2584e+00],\n        [-7.3248e-01],\n        [ 1.6092e+00],\n        [ 5.2603e+00],\n        [ 9.3772e-01],\n        [-1.0221e+00],\n        [-5.0940e-01],\n        [ 6.9905e-01],\n        [-1.0686e+00],\n        [ 1.8638e+00],\n        [ 5.6349e-01],\n        [-1.1188e+00],\n        [-8.6639e-01],\n        [ 2.4837e+00],\n        [-2.8320e-01],\n        [-1.2899e+00],\n        [ 5.5666e-01],\n        [-1.8414e+00],\n        [ 4.6060e-02],\n        [ 2.8192e+00],\n        [-4.0778e-01],\n        [ 4.0429e+00],\n        [-3.0147e-01],\n        [ 2.5502e+00],\n        [ 1.4599e+00],\n        [ 3.0268e+00],\n        [-9.6457e-01],\n        [ 5.8500e+00],\n        [ 9.3369e-01],\n        [ 5.1198e+00],\n        [-8.3515e-01],\n        [ 7.2313e-01],\n        [-3.4005e+00],\n        [-1.3475e+00],\n        [ 5.6283e+00],\n        [ 4.6387e+00],\n        [ 9.4786e-01],\n        [ 6.8373e-01],\n        [ 1.8284e-03],\n        [ 3.7225e+00],\n        [ 6.2065e-01],\n        [ 2.2290e-01],\n        [-5.7291e-01],\n        [-2.5385e+00],\n        [ 1.5726e+00],\n        [ 5.7967e-01],\n        [-8.4476e-01],\n        [ 1.9086e+00],\n        [-1.3375e+00],\n        [ 2.8440e+00],\n        [-2.0614e+00],\n        [ 1.0474e+00],\n        [ 1.4981e+00],\n        [-1.1918e-01],\n        [ 2.7913e+00],\n        [ 1.0876e+00],\n        [ 4.2919e+00],\n        [ 1.8333e+00],\n        [ 2.3036e+00],\n        [ 1.7626e+00],\n        [ 5.3700e-01],\n        [ 3.4321e+00],\n        [ 1.1761e+00],\n        [ 2.2616e+00],\n        [ 3.0132e-01],\n        [-3.9777e-01],\n        [-2.0802e+00],\n        [-2.7652e-02],\n        [-6.6534e-01],\n        [ 1.7111e+00],\n        [-2.4361e+00],\n        [ 1.0263e+00],\n        [ 1.3578e+00],\n        [ 2.3508e+00],\n        [ 2.4189e+00],\n        [ 4.6283e+00],\n        [ 1.9349e+00],\n        [-6.6038e-01],\n        [ 2.1600e+00],\n        [ 1.1013e+00],\n        [-3.5107e-01],\n        [-3.4105e-02],\n        [-1.0621e+00],\n        [ 3.0534e+00],\n        [-7.4776e-02],\n        [-3.6986e-01],\n        [ 3.0132e+00],\n        [ 3.6618e-01],\n        [ 5.3615e+00],\n        [ 1.7909e+00],\n        [ 4.0933e+00],\n        [ 6.5406e-01],\n        [ 1.0057e+00],\n        [-1.7410e+00],\n        [-1.5085e+00],\n        [ 6.4143e-01],\n        [ 1.6011e+00],\n        [-1.4823e+00],\n        [-5.2095e-01],\n        [-9.9430e-01],\n        [ 3.0192e-01],\n        [ 3.8053e+00],\n        [ 3.8123e+00],\n        [ 6.4179e-01],\n        [ 3.0255e+00],\n        [ 2.2408e+00],\n        [ 4.2636e+00],\n        [-4.9658e-01],\n        [ 1.0276e+00],\n        [ 3.4260e-01],\n        [ 1.5611e+00],\n        [ 2.3684e-01],\n        [ 3.1010e+00],\n        [ 1.4580e+00],\n        [ 4.1095e+00],\n        [ 3.7636e+00],\n        [ 1.9561e+00],\n        [ 2.8682e+00],\n        [-1.2987e+00],\n        [ 8.5610e-01],\n        [ 1.1883e+00],\n        [ 5.3928e-01],\n        [-2.7996e+00],\n        [ 2.8957e+00],\n        [-1.5499e-01],\n        [ 2.2546e+00],\n        [ 1.1702e+00],\n        [ 6.5321e-01],\n        [ 3.4672e+00],\n        [ 3.7835e+00],\n        [-8.3635e-01],\n        [ 2.6135e+00],\n        [ 5.9372e-01],\n        [ 1.3904e+00],\n        [ 1.4983e+00],\n        [ 6.7795e-02],\n        [-8.0580e-01],\n        [ 1.9888e-01],\n        [-1.7028e+00],\n        [-8.0360e-01],\n        [-2.3749e+00],\n        [ 2.7011e+00],\n        [ 2.3545e+00],\n        [ 1.1476e+00],\n        [ 4.9841e+00],\n        [ 3.3910e-01],\n        [ 2.1936e-01],\n        [ 3.9974e+00],\n        [ 4.5955e+00],\n        [ 1.4637e+00],\n        [ 4.4300e-02],\n        [ 1.5989e+00],\n        [ 2.6978e+00],\n        [ 1.6630e+00],\n        [ 1.2578e+00],\n        [-1.4476e+00],\n        [-2.4865e-01],\n        [ 1.0042e+00],\n        [-1.0207e+00],\n        [-1.2392e+00],\n        [-1.5265e+00],\n        [ 3.9052e+00],\n        [ 2.3859e+00],\n        [ 1.6870e+00],\n        [ 1.4655e+00],\n        [-1.5093e+00],\n        [ 2.6775e+00],\n        [-2.7081e-01],\n        [-1.4347e+00],\n        [ 3.4629e+00],\n        [ 7.5559e-01],\n        [-2.0133e+00],\n        [ 7.3766e-01],\n        [ 9.3753e-01],\n        [ 2.0250e+00],\n        [ 2.6348e+00],\n        [ 4.4550e-01],\n        [-6.3412e-01],\n        [ 1.2208e+00],\n        [ 1.0482e+00],\n        [-9.9083e-01],\n        [-4.0511e-01],\n        [ 1.8220e+00],\n        [ 2.5478e+00],\n        [-1.5525e+00],\n        [ 7.1319e-01],\n        [ 1.3981e+00],\n        [-2.0801e+00],\n        [ 4.0966e+00],\n        [ 2.8577e+00],\n        [ 1.1678e+00],\n        [ 1.7146e+00],\n        [ 1.3572e+00],\n        [-3.5378e-01],\n        [ 2.7009e+00],\n        [ 2.8851e+00],\n        [ 4.7095e+00],\n        [ 9.3961e-01],\n        [ 5.4876e-01],\n        [ 1.3874e+00],\n        [ 2.0117e+00],\n        [ 1.2077e+00],\n        [-1.8153e+00],\n        [ 3.0599e+00],\n        [ 5.3547e+00],\n        [ 1.8731e+00],\n        [ 1.5693e-01],\n        [-8.6412e-01],\n        [ 4.6221e+00],\n        [-1.9716e+00],\n        [ 2.4779e+00],\n        [ 2.3289e+00],\n        [ 1.1880e+00],\n        [-1.9343e+00],\n        [-1.4395e+00],\n        [-1.6548e+00],\n        [ 2.2200e+00],\n        [ 7.7971e-01],\n        [-1.6587e+00],\n        [ 2.4204e+00],\n        [ 9.6658e-01],\n        [ 1.8669e+00],\n        [ 9.7076e-01],\n        [ 2.3912e+00],\n        [ 2.1445e+00],\n        [-1.9634e+00],\n        [ 6.9353e-01],\n        [ 3.1806e+00],\n        [-8.8601e-01],\n        [ 6.5320e-01],\n        [ 2.9607e+00],\n        [ 1.1256e+00],\n        [ 3.0847e+00],\n        [ 4.1090e+00],\n        [ 4.1699e+00],\n        [ 2.4399e+00],\n        [ 6.2762e+00],\n        [ 4.4639e-01],\n        [ 1.3926e+00],\n        [ 2.7463e+00],\n        [ 1.0204e+00],\n        [-7.6768e-01],\n        [ 2.6137e+00],\n        [ 1.5985e+00],\n        [ 2.6478e+00],\n        [ 3.0405e+00],\n        [ 3.6693e+00],\n        [ 1.7277e+00],\n        [ 2.5224e+00],\n        [-7.6584e-01],\n        [ 1.5383e+00],\n        [ 8.0801e-01],\n        [-3.1094e-01],\n        [ 2.3632e+00],\n        [ 4.1475e-01],\n        [ 2.8725e+00],\n        [ 1.2836e+00],\n        [ 3.2606e-02],\n        [-1.4858e+00],\n        [ 1.5460e+00],\n        [ 1.2300e+00],\n        [ 3.0316e+00],\n        [ 4.2259e+00],\n        [ 6.1650e-01],\n        [ 2.2329e+00],\n        [ 5.8859e-01],\n        [ 1.8431e+00],\n        [-1.4151e-01],\n        [ 2.3073e+00],\n        [ 4.1135e-01],\n        [ 4.7792e-02],\n        [-1.6242e+00],\n        [-8.5284e-01],\n        [ 1.2958e+00],\n        [ 1.0139e+00],\n        [ 1.6612e+00],\n        [ 2.7091e+00],\n        [ 1.3508e-01],\n        [ 9.5101e-01],\n        [ 4.9620e+00],\n        [ 4.6826e-01],\n        [ 1.0222e+00],\n        [ 3.0222e+00],\n        [-1.3332e+00],\n        [-5.9836e-01],\n        [ 1.3732e+00],\n        [ 2.7485e+00],\n        [ 1.4543e+00],\n        [-2.6647e-02],\n        [-8.9584e-02],\n        [-1.8982e+00],\n        [-1.6611e-01],\n        [ 9.8562e-01],\n        [ 4.0770e-01],\n        [-5.1834e-01],\n        [ 3.3619e+00],\n        [ 7.0663e-01],\n        [ 2.1893e+00],\n        [ 4.9426e-02],\n        [ 3.3677e+00],\n        [ 3.1840e-02],\n        [ 3.0335e-01],\n        [ 9.3715e-01],\n        [ 2.2054e+00],\n        [ 7.4618e-01],\n        [ 7.3484e-01],\n        [ 2.7244e+00],\n        [-3.3050e-01],\n        [ 9.6254e-01],\n        [ 1.1128e+00],\n        [ 2.1577e-02],\n        [-4.6120e-01],\n        [-2.5490e-01],\n        [-2.0411e-01],\n        [ 3.6262e+00],\n        [ 7.1222e-01],\n        [ 3.6328e+00],\n        [ 7.4812e-01],\n        [ 3.5122e+00],\n        [ 3.3317e+00],\n        [-2.4019e+00],\n        [ 3.1127e-01],\n        [-9.1053e-01],\n        [-3.2474e+00],\n        [-9.0679e-01],\n        [ 4.0220e+00],\n        [ 8.7592e-01],\n        [-2.5284e+00],\n        [ 3.9970e+00],\n        [ 1.8413e-01],\n        [ 3.8595e+00],\n        [ 4.2051e-01],\n        [ 2.5472e+00],\n        [ 2.2208e+00],\n        [-8.4406e-02],\n        [-1.2985e+00],\n        [ 4.4151e+00],\n        [ 3.9058e+00],\n        [ 4.1071e+00],\n        [ 2.6291e+00],\n        [ 7.5669e-01],\n        [ 7.2830e-01],\n        [ 2.7041e+00],\n        [ 2.4490e+00],\n        [ 2.3931e+00],\n        [ 3.2799e-01],\n        [ 3.2811e-01],\n        [-1.6908e+00],\n        [ 1.2471e+00],\n        [ 8.2062e-01],\n        [-1.0493e+00],\n        [ 3.5496e+00],\n        [ 4.5332e+00],\n        [ 5.5066e+00],\n        [ 5.3637e+00],\n        [-9.9477e-02],\n        [ 2.7709e+00],\n        [ 4.6124e-01],\n        [-6.4898e-01],\n        [ 9.9308e-01]])"
          ]
        }
      ]
    },
    {
      "cell_type": "code",
      "source": [
        "# likelihood of normal on the uncensored sample\n",
        "_ = plt.hist(Y.log_prob(y).numpy()), Y.log_prob(y).numpy().mean()"
      ],
      "metadata": {
        "id": "DITTLkc5dDNo",
        "colab": {
          "base_uri": "https://localhost:8080/",
          "height": 430
        },
        "outputId": "892a0d9e-66cb-4236-bcdd-c71f8ace0043"
      },
      "execution_count": null,
      "outputs": [
        {
          "output_type": "display_data",
          "data": {
            "text/plain": [
              "<Figure size 640x480 with 1 Axes>"
            ],
            "image/png": "[encoded data removed]"
          },
          "metadata": {}
        }
      ]
    },
    {
      "cell_type": "code",
      "source": [
        "# likelihood of normal on the censored sample\n",
        "_ = plt.hist(Y.log_prob(z).numpy()), Y.log_prob(z).numpy().mean()"
      ],
      "metadata": {
        "id": "Ul_m-ZVjgqMG",
        "colab": {
          "base_uri": "https://localhost:8080/",
          "height": 430
        },
        "outputId": "82ef4811-7812-4302-dcef-54f27566d34d"
      },
      "execution_count": null,
      "outputs": [
        {
          "output_type": "display_data",
          "data": {
            "text/plain": [
              "<Figure size 640x480 with 1 Axes>"
            ],
            "image/png": "[encoded data removed]"
          },
          "metadata": {}
        }
      ]
    },
    {
      "cell_type": "code",
      "source": [
        "plt.scatter(y, W.icdf(Y.cdf(y)))"
      ],
      "metadata": {
        "id": "wHfmmvJpibo6",
        "colab": {
          "base_uri": "https://localhost:8080/",
          "height": 452
        },
        "outputId": "19423587-208a-4e02-a2ef-89d22a52aa44"
      },
      "execution_count": null,
      "outputs": [
        {
          "output_type": "execute_result",
          "data": {
            "text/plain": [
              "<matplotlib.collections.PathCollection at 0x7c3feba07220>"
            ]
          },
          "metadata": {},
          "execution_count": 26
        },
        {
          "output_type": "display_data",
          "data": {
            "text/plain": [
              "<Figure size 640x480 with 1 Axes>"
            ],
            "image/png": "[encoded data removed]"
          },
          "metadata": {}
        }
      ]
    },
    {
      "cell_type": "code",
      "source": [
        "plt.scatter(y, Z.icdf(Y.cdf(y)))"
      ],
      "metadata": {
        "id": "GPBMrlksjT0H",
        "colab": {
          "base_uri": "https://localhost:8080/",
          "height": 448
        },
        "outputId": "de168a50-3811-418d-dc6a-20df721728de"
      },
      "execution_count": null,
      "outputs": [
        {
          "output_type": "execute_result",
          "data": {
            "text/plain": [
              "<matplotlib.collections.PathCollection at 0x7c3feb885a20>"
            ]
          },
          "metadata": {},
          "execution_count": 27
        },
        {
          "output_type": "display_data",
          "data": {
            "text/plain": [
              "<Figure size 640x480 with 1 Axes>"
            ],
            "image/png": "[encoded data removed]"
          },
          "metadata": {}
        }
      ]
    },
    {
      "cell_type": "code",
      "source": [],
      "metadata": {
        "id": "ZWMrz57b2m8w"
      },
      "execution_count": null,
      "outputs": []
    }
  ]
}