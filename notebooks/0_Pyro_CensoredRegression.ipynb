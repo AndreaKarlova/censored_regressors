{
  "nbformat": 4,
  "nbformat_minor": 0,
  "metadata": {
    "colab": {
      "provenance": [],
      "machine_shape": "hm",
      "toc_visible": true
    },
    "kernelspec": {
      "name": "python3",
      "display_name": "Python 3"
    },
    "language_info": {
      "name": "python"
    },
    "widgets": {
      "application/vnd.jupyter.widget-state+json": {
        "0af70f85207b4897b6e03ff7ac0d0a0c": {
          "model_module": "@jupyter-widgets/controls",
          "model_name": "HBoxModel",
          "model_module_version": "1.5.0",
          "state": {
            "_dom_classes": [],
            "_model_module": "@jupyter-widgets/controls",
            "_model_module_version": "1.5.0",
            "_model_name": "HBoxModel",
            "_view_count": null,
            "_view_module": "@jupyter-widgets/controls",
            "_view_module_version": "1.5.0",
            "_view_name": "HBoxView",
            "box_style": "",
            "children": [
              "IPY_MODEL_e6cece659ac34e12ad956a25a311674c",
              "IPY_MODEL_6b20770e56d9406eaffc98c8465817da",
              "IPY_MODEL_1b9163f71b374fbba86d22f66cb0c3b9"
            ],
            "layout": "IPY_MODEL_844ade7304334d5a9b222d1c07f08dd5"
          }
        },
        "e6cece659ac34e12ad956a25a311674c": {
          "model_module": "@jupyter-widgets/controls",
          "model_name": "HTMLModel",
          "model_module_version": "1.5.0",
          "state": {
            "_dom_classes": [],
            "_model_module": "@jupyter-widgets/controls",
            "_model_module_version": "1.5.0",
            "_model_name": "HTMLModel",
            "_view_count": null,
            "_view_module": "@jupyter-widgets/controls",
            "_view_module_version": "1.5.0",
            "_view_name": "HTMLView",
            "description": "",
            "description_tooltip": null,
            "layout": "IPY_MODEL_00068e3a22fe48b1925dd83be54fec18",
            "placeholder": "​",
            "style": "IPY_MODEL_5d8688369032481eaa5f8078da4ff383",
            "value": "100%"
          }
        },
        "6b20770e56d9406eaffc98c8465817da": {
          "model_module": "@jupyter-widgets/controls",
          "model_name": "FloatProgressModel",
          "model_module_version": "1.5.0",
          "state": {
            "_dom_classes": [],
            "_model_module": "@jupyter-widgets/controls",
            "_model_module_version": "1.5.0",
            "_model_name": "FloatProgressModel",
            "_view_count": null,
            "_view_module": "@jupyter-widgets/controls",
            "_view_module_version": "1.5.0",
            "_view_name": "ProgressView",
            "bar_style": "success",
            "description": "",
            "description_tooltip": null,
            "layout": "IPY_MODEL_b268701363394951a64dcc1650bc2fe6",
            "max": 10000,
            "min": 0,
            "orientation": "horizontal",
            "style": "IPY_MODEL_ba17cbac6dce41759dc0bd5303430ec6",
            "value": 10000
          }
        },
        "1b9163f71b374fbba86d22f66cb0c3b9": {
          "model_module": "@jupyter-widgets/controls",
          "model_name": "HTMLModel",
          "model_module_version": "1.5.0",
          "state": {
            "_dom_classes": [],
            "_model_module": "@jupyter-widgets/controls",
            "_model_module_version": "1.5.0",
            "_model_name": "HTMLModel",
            "_view_count": null,
            "_view_module": "@jupyter-widgets/controls",
            "_view_module_version": "1.5.0",
            "_view_name": "HTMLView",
            "description": "",
            "description_tooltip": null,
            "layout": "IPY_MODEL_6e4c0c4bca2a4d50acda4d18c3318cc7",
            "placeholder": "​",
            "style": "IPY_MODEL_5cc520fdd4534aea9ff903948e389683",
            "value": " 10000/10000 [00:10&lt;00:00, 960.48it/s]"
          }
        },
        "844ade7304334d5a9b222d1c07f08dd5": {
          "model_module": "@jupyter-widgets/base",
          "model_name": "LayoutModel",
          "model_module_version": "1.2.0",
          "state": {
            "_model_module": "@jupyter-widgets/base",
            "_model_module_version": "1.2.0",
            "_model_name": "LayoutModel",
            "_view_count": null,
            "_view_module": "@jupyter-widgets/base",
            "_view_module_version": "1.2.0",
            "_view_name": "LayoutView",
            "align_content": null,
            "align_items": null,
            "align_self": null,
            "border": null,
            "bottom": null,
            "display": null,
            "flex": null,
            "flex_flow": null,
            "grid_area": null,
            "grid_auto_columns": null,
            "grid_auto_flow": null,
            "grid_auto_rows": null,
            "grid_column": null,
            "grid_gap": null,
            "grid_row": null,
            "grid_template_areas": null,
            "grid_template_columns": null,
            "grid_template_rows": null,
            "height": null,
            "justify_content": null,
            "justify_items": null,
            "left": null,
            "margin": null,
            "max_height": null,
            "max_width": null,
            "min_height": null,
            "min_width": null,
            "object_fit": null,
            "object_position": null,
            "order": null,
            "overflow": null,
            "overflow_x": null,
            "overflow_y": null,
            "padding": null,
            "right": null,
            "top": null,
            "visibility": null,
            "width": null
          }
        },
        "00068e3a22fe48b1925dd83be54fec18": {
          "model_module": "@jupyter-widgets/base",
          "model_name": "LayoutModel",
          "model_module_version": "1.2.0",
          "state": {
            "_model_module": "@jupyter-widgets/base",
            "_model_module_version": "1.2.0",
            "_model_name": "LayoutModel",
            "_view_count": null,
            "_view_module": "@jupyter-widgets/base",
            "_view_module_version": "1.2.0",
            "_view_name": "LayoutView",
            "align_content": null,
            "align_items": null,
            "align_self": null,
            "border": null,
            "bottom": null,
            "display": null,
            "flex": null,
            "flex_flow": null,
            "grid_area": null,
            "grid_auto_columns": null,
            "grid_auto_flow": null,
            "grid_auto_rows": null,
            "grid_column": null,
            "grid_gap": null,
            "grid_row": null,
            "grid_template_areas": null,
            "grid_template_columns": null,
            "grid_template_rows": null,
            "height": null,
            "justify_content": null,
            "justify_items": null,
            "left": null,
            "margin": null,
            "max_height": null,
            "max_width": null,
            "min_height": null,
            "min_width": null,
            "object_fit": null,
            "object_position": null,
            "order": null,
            "overflow": null,
            "overflow_x": null,
            "overflow_y": null,
            "padding": null,
            "right": null,
            "top": null,
            "visibility": null,
            "width": null
          }
        },
        "5d8688369032481eaa5f8078da4ff383": {
          "model_module": "@jupyter-widgets/controls",
          "model_name": "DescriptionStyleModel",
          "model_module_version": "1.5.0",
          "state": {
            "_model_module": "@jupyter-widgets/controls",
            "_model_module_version": "1.5.0",
            "_model_name": "DescriptionStyleModel",
            "_view_count": null,
            "_view_module": "@jupyter-widgets/base",
            "_view_module_version": "1.2.0",
            "_view_name": "StyleView",
            "description_width": ""
          }
        },
        "b268701363394951a64dcc1650bc2fe6": {
          "model_module": "@jupyter-widgets/base",
          "model_name": "LayoutModel",
          "model_module_version": "1.2.0",
          "state": {
            "_model_module": "@jupyter-widgets/base",
            "_model_module_version": "1.2.0",
            "_model_name": "LayoutModel",
            "_view_count": null,
            "_view_module": "@jupyter-widgets/base",
            "_view_module_version": "1.2.0",
            "_view_name": "LayoutView",
            "align_content": null,
            "align_items": null,
            "align_self": null,
            "border": null,
            "bottom": null,
            "display": null,
            "flex": null,
            "flex_flow": null,
            "grid_area": null,
            "grid_auto_columns": null,
            "grid_auto_flow": null,
            "grid_auto_rows": null,
            "grid_column": null,
            "grid_gap": null,
            "grid_row": null,
            "grid_template_areas": null,
            "grid_template_columns": null,
            "grid_template_rows": null,
            "height": null,
            "justify_content": null,
            "justify_items": null,
            "left": null,
            "margin": null,
            "max_height": null,
            "max_width": null,
            "min_height": null,
            "min_width": null,
            "object_fit": null,
            "object_position": null,
            "order": null,
            "overflow": null,
            "overflow_x": null,
            "overflow_y": null,
            "padding": null,
            "right": null,
            "top": null,
            "visibility": null,
            "width": null
          }
        },
        "ba17cbac6dce41759dc0bd5303430ec6": {
          "model_module": "@jupyter-widgets/controls",
          "model_name": "ProgressStyleModel",
          "model_module_version": "1.5.0",
          "state": {
            "_model_module": "@jupyter-widgets/controls",
            "_model_module_version": "1.5.0",
            "_model_name": "ProgressStyleModel",
            "_view_count": null,
            "_view_module": "@jupyter-widgets/base",
            "_view_module_version": "1.2.0",
            "_view_name": "StyleView",
            "bar_color": null,
            "description_width": ""
          }
        },
        "6e4c0c4bca2a4d50acda4d18c3318cc7": {
          "model_module": "@jupyter-widgets/base",
          "model_name": "LayoutModel",
          "model_module_version": "1.2.0",
          "state": {
            "_model_module": "@jupyter-widgets/base",
            "_model_module_version": "1.2.0",
            "_model_name": "LayoutModel",
            "_view_count": null,
            "_view_module": "@jupyter-widgets/base",
            "_view_module_version": "1.2.0",
            "_view_name": "LayoutView",
            "align_content": null,
            "align_items": null,
            "align_self": null,
            "border": null,
            "bottom": null,
            "display": null,
            "flex": null,
            "flex_flow": null,
            "grid_area": null,
            "grid_auto_columns": null,
            "grid_auto_flow": null,
            "grid_auto_rows": null,
            "grid_column": null,
            "grid_gap": null,
            "grid_row": null,
            "grid_template_areas": null,
            "grid_template_columns": null,
            "grid_template_rows": null,
            "height": null,
            "justify_content": null,
            "justify_items": null,
            "left": null,
            "margin": null,
            "max_height": null,
            "max_width": null,
            "min_height": null,
            "min_width": null,
            "object_fit": null,
            "object_position": null,
            "order": null,
            "overflow": null,
            "overflow_x": null,
            "overflow_y": null,
            "padding": null,
            "right": null,
            "top": null,
            "visibility": null,
            "width": null
          }
        },
        "5cc520fdd4534aea9ff903948e389683": {
          "model_module": "@jupyter-widgets/controls",
          "model_name": "DescriptionStyleModel",
          "model_module_version": "1.5.0",
          "state": {
            "_model_module": "@jupyter-widgets/controls",
            "_model_module_version": "1.5.0",
            "_model_name": "DescriptionStyleModel",
            "_view_count": null,
            "_view_module": "@jupyter-widgets/base",
            "_view_module_version": "1.2.0",
            "_view_name": "StyleView",
            "description_width": ""
          }
        },
        "0cf49f19c7664167b9e10d4dcf38727e": {
          "model_module": "@jupyter-widgets/controls",
          "model_name": "HBoxModel",
          "model_module_version": "1.5.0",
          "state": {
            "_dom_classes": [],
            "_model_module": "@jupyter-widgets/controls",
            "_model_module_version": "1.5.0",
            "_model_name": "HBoxModel",
            "_view_count": null,
            "_view_module": "@jupyter-widgets/controls",
            "_view_module_version": "1.5.0",
            "_view_name": "HBoxView",
            "box_style": "",
            "children": [
              "IPY_MODEL_14af5f7f48d142d985d5c23579bf6da0",
              "IPY_MODEL_534977d51cbc4c7eb1ee515d80cc0777",
              "IPY_MODEL_4fd3e7840c3e44a39d86f8c23d68e0ca"
            ],
            "layout": "IPY_MODEL_ea53ea42f6814f85888d61f01d2d854c"
          }
        },
        "14af5f7f48d142d985d5c23579bf6da0": {
          "model_module": "@jupyter-widgets/controls",
          "model_name": "HTMLModel",
          "model_module_version": "1.5.0",
          "state": {
            "_dom_classes": [],
            "_model_module": "@jupyter-widgets/controls",
            "_model_module_version": "1.5.0",
            "_model_name": "HTMLModel",
            "_view_count": null,
            "_view_module": "@jupyter-widgets/controls",
            "_view_module_version": "1.5.0",
            "_view_name": "HTMLView",
            "description": "",
            "description_tooltip": null,
            "layout": "IPY_MODEL_2f2d764c49964de08ff4a9adbf843446",
            "placeholder": "​",
            "style": "IPY_MODEL_abd1773163dc471c9374e65cf09e80ff",
            "value": "100%"
          }
        },
        "534977d51cbc4c7eb1ee515d80cc0777": {
          "model_module": "@jupyter-widgets/controls",
          "model_name": "FloatProgressModel",
          "model_module_version": "1.5.0",
          "state": {
            "_dom_classes": [],
            "_model_module": "@jupyter-widgets/controls",
            "_model_module_version": "1.5.0",
            "_model_name": "FloatProgressModel",
            "_view_count": null,
            "_view_module": "@jupyter-widgets/controls",
            "_view_module_version": "1.5.0",
            "_view_name": "ProgressView",
            "bar_style": "success",
            "description": "",
            "description_tooltip": null,
            "layout": "IPY_MODEL_bc9a5068360f4c4fb1cdd2a461ecfd9c",
            "max": 10000,
            "min": 0,
            "orientation": "horizontal",
            "style": "IPY_MODEL_df126248760c4eb0a3015e02ff9b9354",
            "value": 10000
          }
        },
        "4fd3e7840c3e44a39d86f8c23d68e0ca": {
          "model_module": "@jupyter-widgets/controls",
          "model_name": "HTMLModel",
          "model_module_version": "1.5.0",
          "state": {
            "_dom_classes": [],
            "_model_module": "@jupyter-widgets/controls",
            "_model_module_version": "1.5.0",
            "_model_name": "HTMLModel",
            "_view_count": null,
            "_view_module": "@jupyter-widgets/controls",
            "_view_module_version": "1.5.0",
            "_view_name": "HTMLView",
            "description": "",
            "description_tooltip": null,
            "layout": "IPY_MODEL_c1eaccaf889b4beeb646dc9c4555d16f",
            "placeholder": "​",
            "style": "IPY_MODEL_aacdf2b435b84284b3a9171991bb9e58",
            "value": " 10000/10000 [00:10&lt;00:00, 993.08it/s]"
          }
        },
        "ea53ea42f6814f85888d61f01d2d854c": {
          "model_module": "@jupyter-widgets/base",
          "model_name": "LayoutModel",
          "model_module_version": "1.2.0",
          "state": {
            "_model_module": "@jupyter-widgets/base",
            "_model_module_version": "1.2.0",
            "_model_name": "LayoutModel",
            "_view_count": null,
            "_view_module": "@jupyter-widgets/base",
            "_view_module_version": "1.2.0",
            "_view_name": "LayoutView",
            "align_content": null,
            "align_items": null,
            "align_self": null,
            "border": null,
            "bottom": null,
            "display": null,
            "flex": null,
            "flex_flow": null,
            "grid_area": null,
            "grid_auto_columns": null,
            "grid_auto_flow": null,
            "grid_auto_rows": null,
            "grid_column": null,
            "grid_gap": null,
            "grid_row": null,
            "grid_template_areas": null,
            "grid_template_columns": null,
            "grid_template_rows": null,
            "height": null,
            "justify_content": null,
            "justify_items": null,
            "left": null,
            "margin": null,
            "max_height": null,
            "max_width": null,
            "min_height": null,
            "min_width": null,
            "object_fit": null,
            "object_position": null,
            "order": null,
            "overflow": null,
            "overflow_x": null,
            "overflow_y": null,
            "padding": null,
            "right": null,
            "top": null,
            "visibility": null,
            "width": null
          }
        },
        "2f2d764c49964de08ff4a9adbf843446": {
          "model_module": "@jupyter-widgets/base",
          "model_name": "LayoutModel",
          "model_module_version": "1.2.0",
          "state": {
            "_model_module": "@jupyter-widgets/base",
            "_model_module_version": "1.2.0",
            "_model_name": "LayoutModel",
            "_view_count": null,
            "_view_module": "@jupyter-widgets/base",
            "_view_module_version": "1.2.0",
            "_view_name": "LayoutView",
            "align_content": null,
            "align_items": null,
            "align_self": null,
            "border": null,
            "bottom": null,
            "display": null,
            "flex": null,
            "flex_flow": null,
            "grid_area": null,
            "grid_auto_columns": null,
            "grid_auto_flow": null,
            "grid_auto_rows": null,
            "grid_column": null,
            "grid_gap": null,
            "grid_row": null,
            "grid_template_areas": null,
            "grid_template_columns": null,
            "grid_template_rows": null,
            "height": null,
            "justify_content": null,
            "justify_items": null,
            "left": null,
            "margin": null,
            "max_height": null,
            "max_width": null,
            "min_height": null,
            "min_width": null,
            "object_fit": null,
            "object_position": null,
            "order": null,
            "overflow": null,
            "overflow_x": null,
            "overflow_y": null,
            "padding": null,
            "right": null,
            "top": null,
            "visibility": null,
            "width": null
          }
        },
        "abd1773163dc471c9374e65cf09e80ff": {
          "model_module": "@jupyter-widgets/controls",
          "model_name": "DescriptionStyleModel",
          "model_module_version": "1.5.0",
          "state": {
            "_model_module": "@jupyter-widgets/controls",
            "_model_module_version": "1.5.0",
            "_model_name": "DescriptionStyleModel",
            "_view_count": null,
            "_view_module": "@jupyter-widgets/base",
            "_view_module_version": "1.2.0",
            "_view_name": "StyleView",
            "description_width": ""
          }
        },
        "bc9a5068360f4c4fb1cdd2a461ecfd9c": {
          "model_module": "@jupyter-widgets/base",
          "model_name": "LayoutModel",
          "model_module_version": "1.2.0",
          "state": {
            "_model_module": "@jupyter-widgets/base",
            "_model_module_version": "1.2.0",
            "_model_name": "LayoutModel",
            "_view_count": null,
            "_view_module": "@jupyter-widgets/base",
            "_view_module_version": "1.2.0",
            "_view_name": "LayoutView",
            "align_content": null,
            "align_items": null,
            "align_self": null,
            "border": null,
            "bottom": null,
            "display": null,
            "flex": null,
            "flex_flow": null,
            "grid_area": null,
            "grid_auto_columns": null,
            "grid_auto_flow": null,
            "grid_auto_rows": null,
            "grid_column": null,
            "grid_gap": null,
            "grid_row": null,
            "grid_template_areas": null,
            "grid_template_columns": null,
            "grid_template_rows": null,
            "height": null,
            "justify_content": null,
            "justify_items": null,
            "left": null,
            "margin": null,
            "max_height": null,
            "max_width": null,
            "min_height": null,
            "min_width": null,
            "object_fit": null,
            "object_position": null,
            "order": null,
            "overflow": null,
            "overflow_x": null,
            "overflow_y": null,
            "padding": null,
            "right": null,
            "top": null,
            "visibility": null,
            "width": null
          }
        },
        "df126248760c4eb0a3015e02ff9b9354": {
          "model_module": "@jupyter-widgets/controls",
          "model_name": "ProgressStyleModel",
          "model_module_version": "1.5.0",
          "state": {
            "_model_module": "@jupyter-widgets/controls",
            "_model_module_version": "1.5.0",
            "_model_name": "ProgressStyleModel",
            "_view_count": null,
            "_view_module": "@jupyter-widgets/base",
            "_view_module_version": "1.2.0",
            "_view_name": "StyleView",
            "bar_color": null,
            "description_width": ""
          }
        },
        "c1eaccaf889b4beeb646dc9c4555d16f": {
          "model_module": "@jupyter-widgets/base",
          "model_name": "LayoutModel",
          "model_module_version": "1.2.0",
          "state": {
            "_model_module": "@jupyter-widgets/base",
            "_model_module_version": "1.2.0",
            "_model_name": "LayoutModel",
            "_view_count": null,
            "_view_module": "@jupyter-widgets/base",
            "_view_module_version": "1.2.0",
            "_view_name": "LayoutView",
            "align_content": null,
            "align_items": null,
            "align_self": null,
            "border": null,
            "bottom": null,
            "display": null,
            "flex": null,
            "flex_flow": null,
            "grid_area": null,
            "grid_auto_columns": null,
            "grid_auto_flow": null,
            "grid_auto_rows": null,
            "grid_column": null,
            "grid_gap": null,
            "grid_row": null,
            "grid_template_areas": null,
            "grid_template_columns": null,
            "grid_template_rows": null,
            "height": null,
            "justify_content": null,
            "justify_items": null,
            "left": null,
            "margin": null,
            "max_height": null,
            "max_width": null,
            "min_height": null,
            "min_width": null,
            "object_fit": null,
            "object_position": null,
            "order": null,
            "overflow": null,
            "overflow_x": null,
            "overflow_y": null,
            "padding": null,
            "right": null,
            "top": null,
            "visibility": null,
            "width": null
          }
        },
        "aacdf2b435b84284b3a9171991bb9e58": {
          "model_module": "@jupyter-widgets/controls",
          "model_name": "DescriptionStyleModel",
          "model_module_version": "1.5.0",
          "state": {
            "_model_module": "@jupyter-widgets/controls",
            "_model_module_version": "1.5.0",
            "_model_name": "DescriptionStyleModel",
            "_view_count": null,
            "_view_module": "@jupyter-widgets/base",
            "_view_module_version": "1.2.0",
            "_view_name": "StyleView",
            "description_width": ""
          }
        },
        "814f2fd808604fe7886dcbca7c799198": {
          "model_module": "@jupyter-widgets/controls",
          "model_name": "HBoxModel",
          "model_module_version": "1.5.0",
          "state": {
            "_dom_classes": [],
            "_model_module": "@jupyter-widgets/controls",
            "_model_module_version": "1.5.0",
            "_model_name": "HBoxModel",
            "_view_count": null,
            "_view_module": "@jupyter-widgets/controls",
            "_view_module_version": "1.5.0",
            "_view_name": "HBoxView",
            "box_style": "",
            "children": [
              "IPY_MODEL_6cb4b5f1ca3440f18f121ec29fb0a969",
              "IPY_MODEL_ed4f23036801463cb40cf0d3c3e5d0b4",
              "IPY_MODEL_c2fb593fe5e0491d83581c372b2715d2"
            ],
            "layout": "IPY_MODEL_1cf9b3011e8240299f626ebc14d0c368"
          }
        },
        "6cb4b5f1ca3440f18f121ec29fb0a969": {
          "model_module": "@jupyter-widgets/controls",
          "model_name": "HTMLModel",
          "model_module_version": "1.5.0",
          "state": {
            "_dom_classes": [],
            "_model_module": "@jupyter-widgets/controls",
            "_model_module_version": "1.5.0",
            "_model_name": "HTMLModel",
            "_view_count": null,
            "_view_module": "@jupyter-widgets/controls",
            "_view_module_version": "1.5.0",
            "_view_name": "HTMLView",
            "description": "",
            "description_tooltip": null,
            "layout": "IPY_MODEL_e982bd8c84d64ce0a453b2b504f813f7",
            "placeholder": "​",
            "style": "IPY_MODEL_9fd93a4af04f47a0a9e0a28f6bc8ec24",
            "value": "100%"
          }
        },
        "ed4f23036801463cb40cf0d3c3e5d0b4": {
          "model_module": "@jupyter-widgets/controls",
          "model_name": "FloatProgressModel",
          "model_module_version": "1.5.0",
          "state": {
            "_dom_classes": [],
            "_model_module": "@jupyter-widgets/controls",
            "_model_module_version": "1.5.0",
            "_model_name": "FloatProgressModel",
            "_view_count": null,
            "_view_module": "@jupyter-widgets/controls",
            "_view_module_version": "1.5.0",
            "_view_name": "ProgressView",
            "bar_style": "success",
            "description": "",
            "description_tooltip": null,
            "layout": "IPY_MODEL_5ade5125d5854ad8b6def7c9ae8c03ee",
            "max": 10000,
            "min": 0,
            "orientation": "horizontal",
            "style": "IPY_MODEL_be7fd901f24a40cd8b2ffcff3903c1ba",
            "value": 10000
          }
        },
        "c2fb593fe5e0491d83581c372b2715d2": {
          "model_module": "@jupyter-widgets/controls",
          "model_name": "HTMLModel",
          "model_module_version": "1.5.0",
          "state": {
            "_dom_classes": [],
            "_model_module": "@jupyter-widgets/controls",
            "_model_module_version": "1.5.0",
            "_model_name": "HTMLModel",
            "_view_count": null,
            "_view_module": "@jupyter-widgets/controls",
            "_view_module_version": "1.5.0",
            "_view_name": "HTMLView",
            "description": "",
            "description_tooltip": null,
            "layout": "IPY_MODEL_9354390328a14b22b03a59e8828c1e81",
            "placeholder": "​",
            "style": "IPY_MODEL_5fa49484624d40228a7b008e5dad7f1e",
            "value": " 10000/10000 [00:10&lt;00:00, 978.07it/s]"
          }
        },
        "1cf9b3011e8240299f626ebc14d0c368": {
          "model_module": "@jupyter-widgets/base",
          "model_name": "LayoutModel",
          "model_module_version": "1.2.0",
          "state": {
            "_model_module": "@jupyter-widgets/base",
            "_model_module_version": "1.2.0",
            "_model_name": "LayoutModel",
            "_view_count": null,
            "_view_module": "@jupyter-widgets/base",
            "_view_module_version": "1.2.0",
            "_view_name": "LayoutView",
            "align_content": null,
            "align_items": null,
            "align_self": null,
            "border": null,
            "bottom": null,
            "display": null,
            "flex": null,
            "flex_flow": null,
            "grid_area": null,
            "grid_auto_columns": null,
            "grid_auto_flow": null,
            "grid_auto_rows": null,
            "grid_column": null,
            "grid_gap": null,
            "grid_row": null,
            "grid_template_areas": null,
            "grid_template_columns": null,
            "grid_template_rows": null,
            "height": null,
            "justify_content": null,
            "justify_items": null,
            "left": null,
            "margin": null,
            "max_height": null,
            "max_width": null,
            "min_height": null,
            "min_width": null,
            "object_fit": null,
            "object_position": null,
            "order": null,
            "overflow": null,
            "overflow_x": null,
            "overflow_y": null,
            "padding": null,
            "right": null,
            "top": null,
            "visibility": null,
            "width": null
          }
        },
        "e982bd8c84d64ce0a453b2b504f813f7": {
          "model_module": "@jupyter-widgets/base",
          "model_name": "LayoutModel",
          "model_module_version": "1.2.0",
          "state": {
            "_model_module": "@jupyter-widgets/base",
            "_model_module_version": "1.2.0",
            "_model_name": "LayoutModel",
            "_view_count": null,
            "_view_module": "@jupyter-widgets/base",
            "_view_module_version": "1.2.0",
            "_view_name": "LayoutView",
            "align_content": null,
            "align_items": null,
            "align_self": null,
            "border": null,
            "bottom": null,
            "display": null,
            "flex": null,
            "flex_flow": null,
            "grid_area": null,
            "grid_auto_columns": null,
            "grid_auto_flow": null,
            "grid_auto_rows": null,
            "grid_column": null,
            "grid_gap": null,
            "grid_row": null,
            "grid_template_areas": null,
            "grid_template_columns": null,
            "grid_template_rows": null,
            "height": null,
            "justify_content": null,
            "justify_items": null,
            "left": null,
            "margin": null,
            "max_height": null,
            "max_width": null,
            "min_height": null,
            "min_width": null,
            "object_fit": null,
            "object_position": null,
            "order": null,
            "overflow": null,
            "overflow_x": null,
            "overflow_y": null,
            "padding": null,
            "right": null,
            "top": null,
            "visibility": null,
            "width": null
          }
        },
        "9fd93a4af04f47a0a9e0a28f6bc8ec24": {
          "model_module": "@jupyter-widgets/controls",
          "model_name": "DescriptionStyleModel",
          "model_module_version": "1.5.0",
          "state": {
            "_model_module": "@jupyter-widgets/controls",
            "_model_module_version": "1.5.0",
            "_model_name": "DescriptionStyleModel",
            "_view_count": null,
            "_view_module": "@jupyter-widgets/base",
            "_view_module_version": "1.2.0",
            "_view_name": "StyleView",
            "description_width": ""
          }
        },
        "5ade5125d5854ad8b6def7c9ae8c03ee": {
          "model_module": "@jupyter-widgets/base",
          "model_name": "LayoutModel",
          "model_module_version": "1.2.0",
          "state": {
            "_model_module": "@jupyter-widgets/base",
            "_model_module_version": "1.2.0",
            "_model_name": "LayoutModel",
            "_view_count": null,
            "_view_module": "@jupyter-widgets/base",
            "_view_module_version": "1.2.0",
            "_view_name": "LayoutView",
            "align_content": null,
            "align_items": null,
            "align_self": null,
            "border": null,
            "bottom": null,
            "display": null,
            "flex": null,
            "flex_flow": null,
            "grid_area": null,
            "grid_auto_columns": null,
            "grid_auto_flow": null,
            "grid_auto_rows": null,
            "grid_column": null,
            "grid_gap": null,
            "grid_row": null,
            "grid_template_areas": null,
            "grid_template_columns": null,
            "grid_template_rows": null,
            "height": null,
            "justify_content": null,
            "justify_items": null,
            "left": null,
            "margin": null,
            "max_height": null,
            "max_width": null,
            "min_height": null,
            "min_width": null,
            "object_fit": null,
            "object_position": null,
            "order": null,
            "overflow": null,
            "overflow_x": null,
            "overflow_y": null,
            "padding": null,
            "right": null,
            "top": null,
            "visibility": null,
            "width": null
          }
        },
        "be7fd901f24a40cd8b2ffcff3903c1ba": {
          "model_module": "@jupyter-widgets/controls",
          "model_name": "ProgressStyleModel",
          "model_module_version": "1.5.0",
          "state": {
            "_model_module": "@jupyter-widgets/controls",
            "_model_module_version": "1.5.0",
            "_model_name": "ProgressStyleModel",
            "_view_count": null,
            "_view_module": "@jupyter-widgets/base",
            "_view_module_version": "1.2.0",
            "_view_name": "StyleView",
            "bar_color": null,
            "description_width": ""
          }
        },
        "9354390328a14b22b03a59e8828c1e81": {
          "model_module": "@jupyter-widgets/base",
          "model_name": "LayoutModel",
          "model_module_version": "1.2.0",
          "state": {
            "_model_module": "@jupyter-widgets/base",
            "_model_module_version": "1.2.0",
            "_model_name": "LayoutModel",
            "_view_count": null,
            "_view_module": "@jupyter-widgets/base",
            "_view_module_version": "1.2.0",
            "_view_name": "LayoutView",
            "align_content": null,
            "align_items": null,
            "align_self": null,
            "border": null,
            "bottom": null,
            "display": null,
            "flex": null,
            "flex_flow": null,
            "grid_area": null,
            "grid_auto_columns": null,
            "grid_auto_flow": null,
            "grid_auto_rows": null,
            "grid_column": null,
            "grid_gap": null,
            "grid_row": null,
            "grid_template_areas": null,
            "grid_template_columns": null,
            "grid_template_rows": null,
            "height": null,
            "justify_content": null,
            "justify_items": null,
            "left": null,
            "margin": null,
            "max_height": null,
            "max_width": null,
            "min_height": null,
            "min_width": null,
            "object_fit": null,
            "object_position": null,
            "order": null,
            "overflow": null,
            "overflow_x": null,
            "overflow_y": null,
            "padding": null,
            "right": null,
            "top": null,
            "visibility": null,
            "width": null
          }
        },
        "5fa49484624d40228a7b008e5dad7f1e": {
          "model_module": "@jupyter-widgets/controls",
          "model_name": "DescriptionStyleModel",
          "model_module_version": "1.5.0",
          "state": {
            "_model_module": "@jupyter-widgets/controls",
            "_model_module_version": "1.5.0",
            "_model_name": "DescriptionStyleModel",
            "_view_count": null,
            "_view_module": "@jupyter-widgets/base",
            "_view_module_version": "1.2.0",
            "_view_name": "StyleView",
            "description_width": ""
          }
        },
        "ee3160517b654c48b6a98ecf3e0bf24e": {
          "model_module": "@jupyter-widgets/controls",
          "model_name": "HBoxModel",
          "model_module_version": "1.5.0",
          "state": {
            "_dom_classes": [],
            "_model_module": "@jupyter-widgets/controls",
            "_model_module_version": "1.5.0",
            "_model_name": "HBoxModel",
            "_view_count": null,
            "_view_module": "@jupyter-widgets/controls",
            "_view_module_version": "1.5.0",
            "_view_name": "HBoxView",
            "box_style": "",
            "children": [
              "IPY_MODEL_61c996f8db68498b879c40f71054177f",
              "IPY_MODEL_21cd8ff5b60e4780a1beb77dfad08cf9",
              "IPY_MODEL_a59abcb983ea4d52b67e8f28176ba5f0"
            ],
            "layout": "IPY_MODEL_e47cff6fdc724edf829e13702c004137"
          }
        },
        "61c996f8db68498b879c40f71054177f": {
          "model_module": "@jupyter-widgets/controls",
          "model_name": "HTMLModel",
          "model_module_version": "1.5.0",
          "state": {
            "_dom_classes": [],
            "_model_module": "@jupyter-widgets/controls",
            "_model_module_version": "1.5.0",
            "_model_name": "HTMLModel",
            "_view_count": null,
            "_view_module": "@jupyter-widgets/controls",
            "_view_module_version": "1.5.0",
            "_view_name": "HTMLView",
            "description": "",
            "description_tooltip": null,
            "layout": "IPY_MODEL_c19a628d531c4d3292787eeb62a05a6c",
            "placeholder": "​",
            "style": "IPY_MODEL_dafeaf99791f428bb162e6b7142e61dd",
            "value": "100%"
          }
        },
        "21cd8ff5b60e4780a1beb77dfad08cf9": {
          "model_module": "@jupyter-widgets/controls",
          "model_name": "FloatProgressModel",
          "model_module_version": "1.5.0",
          "state": {
            "_dom_classes": [],
            "_model_module": "@jupyter-widgets/controls",
            "_model_module_version": "1.5.0",
            "_model_name": "FloatProgressModel",
            "_view_count": null,
            "_view_module": "@jupyter-widgets/controls",
            "_view_module_version": "1.5.0",
            "_view_name": "ProgressView",
            "bar_style": "success",
            "description": "",
            "description_tooltip": null,
            "layout": "IPY_MODEL_c492556e68484225b1de297deac4a1e1",
            "max": 5000,
            "min": 0,
            "orientation": "horizontal",
            "style": "IPY_MODEL_2e92e6ede938469991b1c67852e43034",
            "value": 5000
          }
        },
        "a59abcb983ea4d52b67e8f28176ba5f0": {
          "model_module": "@jupyter-widgets/controls",
          "model_name": "HTMLModel",
          "model_module_version": "1.5.0",
          "state": {
            "_dom_classes": [],
            "_model_module": "@jupyter-widgets/controls",
            "_model_module_version": "1.5.0",
            "_model_name": "HTMLModel",
            "_view_count": null,
            "_view_module": "@jupyter-widgets/controls",
            "_view_module_version": "1.5.0",
            "_view_name": "HTMLView",
            "description": "",
            "description_tooltip": null,
            "layout": "IPY_MODEL_793ea153d85b45e08ee132a8f91fc81f",
            "placeholder": "​",
            "style": "IPY_MODEL_51b106b3489f4ff0a4f86412d3733a1e",
            "value": " 5000/5000 [00:03&lt;00:00, 1401.30it/s]"
          }
        },
        "e47cff6fdc724edf829e13702c004137": {
          "model_module": "@jupyter-widgets/base",
          "model_name": "LayoutModel",
          "model_module_version": "1.2.0",
          "state": {
            "_model_module": "@jupyter-widgets/base",
            "_model_module_version": "1.2.0",
            "_model_name": "LayoutModel",
            "_view_count": null,
            "_view_module": "@jupyter-widgets/base",
            "_view_module_version": "1.2.0",
            "_view_name": "LayoutView",
            "align_content": null,
            "align_items": null,
            "align_self": null,
            "border": null,
            "bottom": null,
            "display": null,
            "flex": null,
            "flex_flow": null,
            "grid_area": null,
            "grid_auto_columns": null,
            "grid_auto_flow": null,
            "grid_auto_rows": null,
            "grid_column": null,
            "grid_gap": null,
            "grid_row": null,
            "grid_template_areas": null,
            "grid_template_columns": null,
            "grid_template_rows": null,
            "height": null,
            "justify_content": null,
            "justify_items": null,
            "left": null,
            "margin": null,
            "max_height": null,
            "max_width": null,
            "min_height": null,
            "min_width": null,
            "object_fit": null,
            "object_position": null,
            "order": null,
            "overflow": null,
            "overflow_x": null,
            "overflow_y": null,
            "padding": null,
            "right": null,
            "top": null,
            "visibility": null,
            "width": null
          }
        },
        "c19a628d531c4d3292787eeb62a05a6c": {
          "model_module": "@jupyter-widgets/base",
          "model_name": "LayoutModel",
          "model_module_version": "1.2.0",
          "state": {
            "_model_module": "@jupyter-widgets/base",
            "_model_module_version": "1.2.0",
            "_model_name": "LayoutModel",
            "_view_count": null,
            "_view_module": "@jupyter-widgets/base",
            "_view_module_version": "1.2.0",
            "_view_name": "LayoutView",
            "align_content": null,
            "align_items": null,
            "align_self": null,
            "border": null,
            "bottom": null,
            "display": null,
            "flex": null,
            "flex_flow": null,
            "grid_area": null,
            "grid_auto_columns": null,
            "grid_auto_flow": null,
            "grid_auto_rows": null,
            "grid_column": null,
            "grid_gap": null,
            "grid_row": null,
            "grid_template_areas": null,
            "grid_template_columns": null,
            "grid_template_rows": null,
            "height": null,
            "justify_content": null,
            "justify_items": null,
            "left": null,
            "margin": null,
            "max_height": null,
            "max_width": null,
            "min_height": null,
            "min_width": null,
            "object_fit": null,
            "object_position": null,
            "order": null,
            "overflow": null,
            "overflow_x": null,
            "overflow_y": null,
            "padding": null,
            "right": null,
            "top": null,
            "visibility": null,
            "width": null
          }
        },
        "dafeaf99791f428bb162e6b7142e61dd": {
          "model_module": "@jupyter-widgets/controls",
          "model_name": "DescriptionStyleModel",
          "model_module_version": "1.5.0",
          "state": {
            "_model_module": "@jupyter-widgets/controls",
            "_model_module_version": "1.5.0",
            "_model_name": "DescriptionStyleModel",
            "_view_count": null,
            "_view_module": "@jupyter-widgets/base",
            "_view_module_version": "1.2.0",
            "_view_name": "StyleView",
            "description_width": ""
          }
        },
        "c492556e68484225b1de297deac4a1e1": {
          "model_module": "@jupyter-widgets/base",
          "model_name": "LayoutModel",
          "model_module_version": "1.2.0",
          "state": {
            "_model_module": "@jupyter-widgets/base",
            "_model_module_version": "1.2.0",
            "_model_name": "LayoutModel",
            "_view_count": null,
            "_view_module": "@jupyter-widgets/base",
            "_view_module_version": "1.2.0",
            "_view_name": "LayoutView",
            "align_content": null,
            "align_items": null,
            "align_self": null,
            "border": null,
            "bottom": null,
            "display": null,
            "flex": null,
            "flex_flow": null,
            "grid_area": null,
            "grid_auto_columns": null,
            "grid_auto_flow": null,
            "grid_auto_rows": null,
            "grid_column": null,
            "grid_gap": null,
            "grid_row": null,
            "grid_template_areas": null,
            "grid_template_columns": null,
            "grid_template_rows": null,
            "height": null,
            "justify_content": null,
            "justify_items": null,
            "left": null,
            "margin": null,
            "max_height": null,
            "max_width": null,
            "min_height": null,
            "min_width": null,
            "object_fit": null,
            "object_position": null,
            "order": null,
            "overflow": null,
            "overflow_x": null,
            "overflow_y": null,
            "padding": null,
            "right": null,
            "top": null,
            "visibility": null,
            "width": null
          }
        },
        "2e92e6ede938469991b1c67852e43034": {
          "model_module": "@jupyter-widgets/controls",
          "model_name": "ProgressStyleModel",
          "model_module_version": "1.5.0",
          "state": {
            "_model_module": "@jupyter-widgets/controls",
            "_model_module_version": "1.5.0",
            "_model_name": "ProgressStyleModel",
            "_view_count": null,
            "_view_module": "@jupyter-widgets/base",
            "_view_module_version": "1.2.0",
            "_view_name": "StyleView",
            "bar_color": null,
            "description_width": ""
          }
        },
        "793ea153d85b45e08ee132a8f91fc81f": {
          "model_module": "@jupyter-widgets/base",
          "model_name": "LayoutModel",
          "model_module_version": "1.2.0",
          "state": {
            "_model_module": "@jupyter-widgets/base",
            "_model_module_version": "1.2.0",
            "_model_name": "LayoutModel",
            "_view_count": null,
            "_view_module": "@jupyter-widgets/base",
            "_view_module_version": "1.2.0",
            "_view_name": "LayoutView",
            "align_content": null,
            "align_items": null,
            "align_self": null,
            "border": null,
            "bottom": null,
            "display": null,
            "flex": null,
            "flex_flow": null,
            "grid_area": null,
            "grid_auto_columns": null,
            "grid_auto_flow": null,
            "grid_auto_rows": null,
            "grid_column": null,
            "grid_gap": null,
            "grid_row": null,
            "grid_template_areas": null,
            "grid_template_columns": null,
            "grid_template_rows": null,
            "height": null,
            "justify_content": null,
            "justify_items": null,
            "left": null,
            "margin": null,
            "max_height": null,
            "max_width": null,
            "min_height": null,
            "min_width": null,
            "object_fit": null,
            "object_position": null,
            "order": null,
            "overflow": null,
            "overflow_x": null,
            "overflow_y": null,
            "padding": null,
            "right": null,
            "top": null,
            "visibility": null,
            "width": null
          }
        },
        "51b106b3489f4ff0a4f86412d3733a1e": {
          "model_module": "@jupyter-widgets/controls",
          "model_name": "DescriptionStyleModel",
          "model_module_version": "1.5.0",
          "state": {
            "_model_module": "@jupyter-widgets/controls",
            "_model_module_version": "1.5.0",
            "_model_name": "DescriptionStyleModel",
            "_view_count": null,
            "_view_module": "@jupyter-widgets/base",
            "_view_module_version": "1.2.0",
            "_view_name": "StyleView",
            "description_width": ""
          }
        },
        "aeb90b2a09f94b7691166b522140c7fe": {
          "model_module": "@jupyter-widgets/controls",
          "model_name": "HBoxModel",
          "model_module_version": "1.5.0",
          "state": {
            "_dom_classes": [],
            "_model_module": "@jupyter-widgets/controls",
            "_model_module_version": "1.5.0",
            "_model_name": "HBoxModel",
            "_view_count": null,
            "_view_module": "@jupyter-widgets/controls",
            "_view_module_version": "1.5.0",
            "_view_name": "HBoxView",
            "box_style": "",
            "children": [
              "IPY_MODEL_a904c6376a2d47a69bd1b6e0069c8cc3",
              "IPY_MODEL_531997aa7106453ea579586e57e4dd73",
              "IPY_MODEL_c780e9f93ca34dec9959b34a0bf2dd33"
            ],
            "layout": "IPY_MODEL_19d36e825e9a4a17a68017a134d30615"
          }
        },
        "a904c6376a2d47a69bd1b6e0069c8cc3": {
          "model_module": "@jupyter-widgets/controls",
          "model_name": "HTMLModel",
          "model_module_version": "1.5.0",
          "state": {
            "_dom_classes": [],
            "_model_module": "@jupyter-widgets/controls",
            "_model_module_version": "1.5.0",
            "_model_name": "HTMLModel",
            "_view_count": null,
            "_view_module": "@jupyter-widgets/controls",
            "_view_module_version": "1.5.0",
            "_view_name": "HTMLView",
            "description": "",
            "description_tooltip": null,
            "layout": "IPY_MODEL_5ebfc8bf8d5d4ef49e698497bb590835",
            "placeholder": "​",
            "style": "IPY_MODEL_12d98c0d255340fd85209a232d9e3e63",
            "value": "100%"
          }
        },
        "531997aa7106453ea579586e57e4dd73": {
          "model_module": "@jupyter-widgets/controls",
          "model_name": "FloatProgressModel",
          "model_module_version": "1.5.0",
          "state": {
            "_dom_classes": [],
            "_model_module": "@jupyter-widgets/controls",
            "_model_module_version": "1.5.0",
            "_model_name": "FloatProgressModel",
            "_view_count": null,
            "_view_module": "@jupyter-widgets/controls",
            "_view_module_version": "1.5.0",
            "_view_name": "ProgressView",
            "bar_style": "success",
            "description": "",
            "description_tooltip": null,
            "layout": "IPY_MODEL_5558ce67e2334f95b83fc925b6778595",
            "max": 5000,
            "min": 0,
            "orientation": "horizontal",
            "style": "IPY_MODEL_6bf703069f2a4526a93508b021e84ba5",
            "value": 5000
          }
        },
        "c780e9f93ca34dec9959b34a0bf2dd33": {
          "model_module": "@jupyter-widgets/controls",
          "model_name": "HTMLModel",
          "model_module_version": "1.5.0",
          "state": {
            "_dom_classes": [],
            "_model_module": "@jupyter-widgets/controls",
            "_model_module_version": "1.5.0",
            "_model_name": "HTMLModel",
            "_view_count": null,
            "_view_module": "@jupyter-widgets/controls",
            "_view_module_version": "1.5.0",
            "_view_name": "HTMLView",
            "description": "",
            "description_tooltip": null,
            "layout": "IPY_MODEL_3233600280274c07a71b28321c6b671b",
            "placeholder": "​",
            "style": "IPY_MODEL_1a416b83f9144f2b82469a297d04e886",
            "value": " 5000/5000 [00:03&lt;00:00, 1552.29it/s]"
          }
        },
        "19d36e825e9a4a17a68017a134d30615": {
          "model_module": "@jupyter-widgets/base",
          "model_name": "LayoutModel",
          "model_module_version": "1.2.0",
          "state": {
            "_model_module": "@jupyter-widgets/base",
            "_model_module_version": "1.2.0",
            "_model_name": "LayoutModel",
            "_view_count": null,
            "_view_module": "@jupyter-widgets/base",
            "_view_module_version": "1.2.0",
            "_view_name": "LayoutView",
            "align_content": null,
            "align_items": null,
            "align_self": null,
            "border": null,
            "bottom": null,
            "display": null,
            "flex": null,
            "flex_flow": null,
            "grid_area": null,
            "grid_auto_columns": null,
            "grid_auto_flow": null,
            "grid_auto_rows": null,
            "grid_column": null,
            "grid_gap": null,
            "grid_row": null,
            "grid_template_areas": null,
            "grid_template_columns": null,
            "grid_template_rows": null,
            "height": null,
            "justify_content": null,
            "justify_items": null,
            "left": null,
            "margin": null,
            "max_height": null,
            "max_width": null,
            "min_height": null,
            "min_width": null,
            "object_fit": null,
            "object_position": null,
            "order": null,
            "overflow": null,
            "overflow_x": null,
            "overflow_y": null,
            "padding": null,
            "right": null,
            "top": null,
            "visibility": null,
            "width": null
          }
        },
        "5ebfc8bf8d5d4ef49e698497bb590835": {
          "model_module": "@jupyter-widgets/base",
          "model_name": "LayoutModel",
          "model_module_version": "1.2.0",
          "state": {
            "_model_module": "@jupyter-widgets/base",
            "_model_module_version": "1.2.0",
            "_model_name": "LayoutModel",
            "_view_count": null,
            "_view_module": "@jupyter-widgets/base",
            "_view_module_version": "1.2.0",
            "_view_name": "LayoutView",
            "align_content": null,
            "align_items": null,
            "align_self": null,
            "border": null,
            "bottom": null,
            "display": null,
            "flex": null,
            "flex_flow": null,
            "grid_area": null,
            "grid_auto_columns": null,
            "grid_auto_flow": null,
            "grid_auto_rows": null,
            "grid_column": null,
            "grid_gap": null,
            "grid_row": null,
            "grid_template_areas": null,
            "grid_template_columns": null,
            "grid_template_rows": null,
            "height": null,
            "justify_content": null,
            "justify_items": null,
            "left": null,
            "margin": null,
            "max_height": null,
            "max_width": null,
            "min_height": null,
            "min_width": null,
            "object_fit": null,
            "object_position": null,
            "order": null,
            "overflow": null,
            "overflow_x": null,
            "overflow_y": null,
            "padding": null,
            "right": null,
            "top": null,
            "visibility": null,
            "width": null
          }
        },
        "12d98c0d255340fd85209a232d9e3e63": {
          "model_module": "@jupyter-widgets/controls",
          "model_name": "DescriptionStyleModel",
          "model_module_version": "1.5.0",
          "state": {
            "_model_module": "@jupyter-widgets/controls",
            "_model_module_version": "1.5.0",
            "_model_name": "DescriptionStyleModel",
            "_view_count": null,
            "_view_module": "@jupyter-widgets/base",
            "_view_module_version": "1.2.0",
            "_view_name": "StyleView",
            "description_width": ""
          }
        },
        "5558ce67e2334f95b83fc925b6778595": {
          "model_module": "@jupyter-widgets/base",
          "model_name": "LayoutModel",
          "model_module_version": "1.2.0",
          "state": {
            "_model_module": "@jupyter-widgets/base",
            "_model_module_version": "1.2.0",
            "_model_name": "LayoutModel",
            "_view_count": null,
            "_view_module": "@jupyter-widgets/base",
            "_view_module_version": "1.2.0",
            "_view_name": "LayoutView",
            "align_content": null,
            "align_items": null,
            "align_self": null,
            "border": null,
            "bottom": null,
            "display": null,
            "flex": null,
            "flex_flow": null,
            "grid_area": null,
            "grid_auto_columns": null,
            "grid_auto_flow": null,
            "grid_auto_rows": null,
            "grid_column": null,
            "grid_gap": null,
            "grid_row": null,
            "grid_template_areas": null,
            "grid_template_columns": null,
            "grid_template_rows": null,
            "height": null,
            "justify_content": null,
            "justify_items": null,
            "left": null,
            "margin": null,
            "max_height": null,
            "max_width": null,
            "min_height": null,
            "min_width": null,
            "object_fit": null,
            "object_position": null,
            "order": null,
            "overflow": null,
            "overflow_x": null,
            "overflow_y": null,
            "padding": null,
            "right": null,
            "top": null,
            "visibility": null,
            "width": null
          }
        },
        "6bf703069f2a4526a93508b021e84ba5": {
          "model_module": "@jupyter-widgets/controls",
          "model_name": "ProgressStyleModel",
          "model_module_version": "1.5.0",
          "state": {
            "_model_module": "@jupyter-widgets/controls",
            "_model_module_version": "1.5.0",
            "_model_name": "ProgressStyleModel",
            "_view_count": null,
            "_view_module": "@jupyter-widgets/base",
            "_view_module_version": "1.2.0",
            "_view_name": "StyleView",
            "bar_color": null,
            "description_width": ""
          }
        },
        "3233600280274c07a71b28321c6b671b": {
          "model_module": "@jupyter-widgets/base",
          "model_name": "LayoutModel",
          "model_module_version": "1.2.0",
          "state": {
            "_model_module": "@jupyter-widgets/base",
            "_model_module_version": "1.2.0",
            "_model_name": "LayoutModel",
            "_view_count": null,
            "_view_module": "@jupyter-widgets/base",
            "_view_module_version": "1.2.0",
            "_view_name": "LayoutView",
            "align_content": null,
            "align_items": null,
            "align_self": null,
            "border": null,
            "bottom": null,
            "display": null,
            "flex": null,
            "flex_flow": null,
            "grid_area": null,
            "grid_auto_columns": null,
            "grid_auto_flow": null,
            "grid_auto_rows": null,
            "grid_column": null,
            "grid_gap": null,
            "grid_row": null,
            "grid_template_areas": null,
            "grid_template_columns": null,
            "grid_template_rows": null,
            "height": null,
            "justify_content": null,
            "justify_items": null,
            "left": null,
            "margin": null,
            "max_height": null,
            "max_width": null,
            "min_height": null,
            "min_width": null,
            "object_fit": null,
            "object_position": null,
            "order": null,
            "overflow": null,
            "overflow_x": null,
            "overflow_y": null,
            "padding": null,
            "right": null,
            "top": null,
            "visibility": null,
            "width": null
          }
        },
        "1a416b83f9144f2b82469a297d04e886": {
          "model_module": "@jupyter-widgets/controls",
          "model_name": "DescriptionStyleModel",
          "model_module_version": "1.5.0",
          "state": {
            "_model_module": "@jupyter-widgets/controls",
            "_model_module_version": "1.5.0",
            "_model_name": "DescriptionStyleModel",
            "_view_count": null,
            "_view_module": "@jupyter-widgets/base",
            "_view_module_version": "1.2.0",
            "_view_name": "StyleView",
            "description_width": ""
          }
        },
        "4c9ceee80100446da7e42ef6a99ada56": {
          "model_module": "@jupyter-widgets/controls",
          "model_name": "HBoxModel",
          "model_module_version": "1.5.0",
          "state": {
            "_dom_classes": [],
            "_model_module": "@jupyter-widgets/controls",
            "_model_module_version": "1.5.0",
            "_model_name": "HBoxModel",
            "_view_count": null,
            "_view_module": "@jupyter-widgets/controls",
            "_view_module_version": "1.5.0",
            "_view_name": "HBoxView",
            "box_style": "",
            "children": [
              "IPY_MODEL_000d4767e1b74b84b4efe1b99ec1aa63",
              "IPY_MODEL_079fc37d928546299d4b080a144d9d8b",
              "IPY_MODEL_0bf930cd7f4d45e4b29c98c160229973"
            ],
            "layout": "IPY_MODEL_4e13941edc264748b52bb81ba279ae53"
          }
        },
        "000d4767e1b74b84b4efe1b99ec1aa63": {
          "model_module": "@jupyter-widgets/controls",
          "model_name": "HTMLModel",
          "model_module_version": "1.5.0",
          "state": {
            "_dom_classes": [],
            "_model_module": "@jupyter-widgets/controls",
            "_model_module_version": "1.5.0",
            "_model_name": "HTMLModel",
            "_view_count": null,
            "_view_module": "@jupyter-widgets/controls",
            "_view_module_version": "1.5.0",
            "_view_name": "HTMLView",
            "description": "",
            "description_tooltip": null,
            "layout": "IPY_MODEL_66d20a751d97416b8276a079d0a84faa",
            "placeholder": "​",
            "style": "IPY_MODEL_e1a7ce362cf846578cc5bd5c9b67f186",
            "value": "100%"
          }
        },
        "079fc37d928546299d4b080a144d9d8b": {
          "model_module": "@jupyter-widgets/controls",
          "model_name": "FloatProgressModel",
          "model_module_version": "1.5.0",
          "state": {
            "_dom_classes": [],
            "_model_module": "@jupyter-widgets/controls",
            "_model_module_version": "1.5.0",
            "_model_name": "FloatProgressModel",
            "_view_count": null,
            "_view_module": "@jupyter-widgets/controls",
            "_view_module_version": "1.5.0",
            "_view_name": "ProgressView",
            "bar_style": "success",
            "description": "",
            "description_tooltip": null,
            "layout": "IPY_MODEL_511db520de5448cb93067624528af6c3",
            "max": 5000,
            "min": 0,
            "orientation": "horizontal",
            "style": "IPY_MODEL_36a4ccb6406548078c48568f6196d203",
            "value": 5000
          }
        },
        "0bf930cd7f4d45e4b29c98c160229973": {
          "model_module": "@jupyter-widgets/controls",
          "model_name": "HTMLModel",
          "model_module_version": "1.5.0",
          "state": {
            "_dom_classes": [],
            "_model_module": "@jupyter-widgets/controls",
            "_model_module_version": "1.5.0",
            "_model_name": "HTMLModel",
            "_view_count": null,
            "_view_module": "@jupyter-widgets/controls",
            "_view_module_version": "1.5.0",
            "_view_name": "HTMLView",
            "description": "",
            "description_tooltip": null,
            "layout": "IPY_MODEL_c2774618bbb24bd5be6698d88846f06a",
            "placeholder": "​",
            "style": "IPY_MODEL_1b1bab3a44674c818ae75998e3dbf2eb",
            "value": " 5000/5000 [00:03&lt;00:00, 1607.27it/s]"
          }
        },
        "4e13941edc264748b52bb81ba279ae53": {
          "model_module": "@jupyter-widgets/base",
          "model_name": "LayoutModel",
          "model_module_version": "1.2.0",
          "state": {
            "_model_module": "@jupyter-widgets/base",
            "_model_module_version": "1.2.0",
            "_model_name": "LayoutModel",
            "_view_count": null,
            "_view_module": "@jupyter-widgets/base",
            "_view_module_version": "1.2.0",
            "_view_name": "LayoutView",
            "align_content": null,
            "align_items": null,
            "align_self": null,
            "border": null,
            "bottom": null,
            "display": null,
            "flex": null,
            "flex_flow": null,
            "grid_area": null,
            "grid_auto_columns": null,
            "grid_auto_flow": null,
            "grid_auto_rows": null,
            "grid_column": null,
            "grid_gap": null,
            "grid_row": null,
            "grid_template_areas": null,
            "grid_template_columns": null,
            "grid_template_rows": null,
            "height": null,
            "justify_content": null,
            "justify_items": null,
            "left": null,
            "margin": null,
            "max_height": null,
            "max_width": null,
            "min_height": null,
            "min_width": null,
            "object_fit": null,
            "object_position": null,
            "order": null,
            "overflow": null,
            "overflow_x": null,
            "overflow_y": null,
            "padding": null,
            "right": null,
            "top": null,
            "visibility": null,
            "width": null
          }
        },
        "66d20a751d97416b8276a079d0a84faa": {
          "model_module": "@jupyter-widgets/base",
          "model_name": "LayoutModel",
          "model_module_version": "1.2.0",
          "state": {
            "_model_module": "@jupyter-widgets/base",
            "_model_module_version": "1.2.0",
            "_model_name": "LayoutModel",
            "_view_count": null,
            "_view_module": "@jupyter-widgets/base",
            "_view_module_version": "1.2.0",
            "_view_name": "LayoutView",
            "align_content": null,
            "align_items": null,
            "align_self": null,
            "border": null,
            "bottom": null,
            "display": null,
            "flex": null,
            "flex_flow": null,
            "grid_area": null,
            "grid_auto_columns": null,
            "grid_auto_flow": null,
            "grid_auto_rows": null,
            "grid_column": null,
            "grid_gap": null,
            "grid_row": null,
            "grid_template_areas": null,
            "grid_template_columns": null,
            "grid_template_rows": null,
            "height": null,
            "justify_content": null,
            "justify_items": null,
            "left": null,
            "margin": null,
            "max_height": null,
            "max_width": null,
            "min_height": null,
            "min_width": null,
            "object_fit": null,
            "object_position": null,
            "order": null,
            "overflow": null,
            "overflow_x": null,
            "overflow_y": null,
            "padding": null,
            "right": null,
            "top": null,
            "visibility": null,
            "width": null
          }
        },
        "e1a7ce362cf846578cc5bd5c9b67f186": {
          "model_module": "@jupyter-widgets/controls",
          "model_name": "DescriptionStyleModel",
          "model_module_version": "1.5.0",
          "state": {
            "_model_module": "@jupyter-widgets/controls",
            "_model_module_version": "1.5.0",
            "_model_name": "DescriptionStyleModel",
            "_view_count": null,
            "_view_module": "@jupyter-widgets/base",
            "_view_module_version": "1.2.0",
            "_view_name": "StyleView",
            "description_width": ""
          }
        },
        "511db520de5448cb93067624528af6c3": {
          "model_module": "@jupyter-widgets/base",
          "model_name": "LayoutModel",
          "model_module_version": "1.2.0",
          "state": {
            "_model_module": "@jupyter-widgets/base",
            "_model_module_version": "1.2.0",
            "_model_name": "LayoutModel",
            "_view_count": null,
            "_view_module": "@jupyter-widgets/base",
            "_view_module_version": "1.2.0",
            "_view_name": "LayoutView",
            "align_content": null,
            "align_items": null,
            "align_self": null,
            "border": null,
            "bottom": null,
            "display": null,
            "flex": null,
            "flex_flow": null,
            "grid_area": null,
            "grid_auto_columns": null,
            "grid_auto_flow": null,
            "grid_auto_rows": null,
            "grid_column": null,
            "grid_gap": null,
            "grid_row": null,
            "grid_template_areas": null,
            "grid_template_columns": null,
            "grid_template_rows": null,
            "height": null,
            "justify_content": null,
            "justify_items": null,
            "left": null,
            "margin": null,
            "max_height": null,
            "max_width": null,
            "min_height": null,
            "min_width": null,
            "object_fit": null,
            "object_position": null,
            "order": null,
            "overflow": null,
            "overflow_x": null,
            "overflow_y": null,
            "padding": null,
            "right": null,
            "top": null,
            "visibility": null,
            "width": null
          }
        },
        "36a4ccb6406548078c48568f6196d203": {
          "model_module": "@jupyter-widgets/controls",
          "model_name": "ProgressStyleModel",
          "model_module_version": "1.5.0",
          "state": {
            "_model_module": "@jupyter-widgets/controls",
            "_model_module_version": "1.5.0",
            "_model_name": "ProgressStyleModel",
            "_view_count": null,
            "_view_module": "@jupyter-widgets/base",
            "_view_module_version": "1.2.0",
            "_view_name": "StyleView",
            "bar_color": null,
            "description_width": ""
          }
        },
        "c2774618bbb24bd5be6698d88846f06a": {
          "model_module": "@jupyter-widgets/base",
          "model_name": "LayoutModel",
          "model_module_version": "1.2.0",
          "state": {
            "_model_module": "@jupyter-widgets/base",
            "_model_module_version": "1.2.0",
            "_model_name": "LayoutModel",
            "_view_count": null,
            "_view_module": "@jupyter-widgets/base",
            "_view_module_version": "1.2.0",
            "_view_name": "LayoutView",
            "align_content": null,
            "align_items": null,
            "align_self": null,
            "border": null,
            "bottom": null,
            "display": null,
            "flex": null,
            "flex_flow": null,
            "grid_area": null,
            "grid_auto_columns": null,
            "grid_auto_flow": null,
            "grid_auto_rows": null,
            "grid_column": null,
            "grid_gap": null,
            "grid_row": null,
            "grid_template_areas": null,
            "grid_template_columns": null,
            "grid_template_rows": null,
            "height": null,
            "justify_content": null,
            "justify_items": null,
            "left": null,
            "margin": null,
            "max_height": null,
            "max_width": null,
            "min_height": null,
            "min_width": null,
            "object_fit": null,
            "object_position": null,
            "order": null,
            "overflow": null,
            "overflow_x": null,
            "overflow_y": null,
            "padding": null,
            "right": null,
            "top": null,
            "visibility": null,
            "width": null
          }
        },
        "1b1bab3a44674c818ae75998e3dbf2eb": {
          "model_module": "@jupyter-widgets/controls",
          "model_name": "DescriptionStyleModel",
          "model_module_version": "1.5.0",
          "state": {
            "_model_module": "@jupyter-widgets/controls",
            "_model_module_version": "1.5.0",
            "_model_name": "DescriptionStyleModel",
            "_view_count": null,
            "_view_module": "@jupyter-widgets/base",
            "_view_module_version": "1.2.0",
            "_view_name": "StyleView",
            "description_width": ""
          }
        },
        "5ae166ef91bf4f0e8bf3da189ce25ed3": {
          "model_module": "@jupyter-widgets/controls",
          "model_name": "HBoxModel",
          "model_module_version": "1.5.0",
          "state": {
            "_dom_classes": [],
            "_model_module": "@jupyter-widgets/controls",
            "_model_module_version": "1.5.0",
            "_model_name": "HBoxModel",
            "_view_count": null,
            "_view_module": "@jupyter-widgets/controls",
            "_view_module_version": "1.5.0",
            "_view_name": "HBoxView",
            "box_style": "",
            "children": [
              "IPY_MODEL_b78f8fbfb45b4e65a75c88622d50be59",
              "IPY_MODEL_ce6ae3771bb34f1c9e21247fe2e06c5f",
              "IPY_MODEL_b26aa4038c4a41318bd04f8b389cb1a6"
            ],
            "layout": "IPY_MODEL_6c6ca57b2ce94dc1a024975e2ebdbf24"
          }
        },
        "b78f8fbfb45b4e65a75c88622d50be59": {
          "model_module": "@jupyter-widgets/controls",
          "model_name": "HTMLModel",
          "model_module_version": "1.5.0",
          "state": {
            "_dom_classes": [],
            "_model_module": "@jupyter-widgets/controls",
            "_model_module_version": "1.5.0",
            "_model_name": "HTMLModel",
            "_view_count": null,
            "_view_module": "@jupyter-widgets/controls",
            "_view_module_version": "1.5.0",
            "_view_name": "HTMLView",
            "description": "",
            "description_tooltip": null,
            "layout": "IPY_MODEL_38539557eff149eb995a83b144d369e0",
            "placeholder": "​",
            "style": "IPY_MODEL_736ee3c432d0431ea4ae85b8ecd31309",
            "value": "100%"
          }
        },
        "ce6ae3771bb34f1c9e21247fe2e06c5f": {
          "model_module": "@jupyter-widgets/controls",
          "model_name": "FloatProgressModel",
          "model_module_version": "1.5.0",
          "state": {
            "_dom_classes": [],
            "_model_module": "@jupyter-widgets/controls",
            "_model_module_version": "1.5.0",
            "_model_name": "FloatProgressModel",
            "_view_count": null,
            "_view_module": "@jupyter-widgets/controls",
            "_view_module_version": "1.5.0",
            "_view_name": "ProgressView",
            "bar_style": "success",
            "description": "",
            "description_tooltip": null,
            "layout": "IPY_MODEL_910b40195825418480df63ee1cbabb17",
            "max": 5000,
            "min": 0,
            "orientation": "horizontal",
            "style": "IPY_MODEL_baaa907d3d7040e2a30dc5082a6a8444",
            "value": 5000
          }
        },
        "b26aa4038c4a41318bd04f8b389cb1a6": {
          "model_module": "@jupyter-widgets/controls",
          "model_name": "HTMLModel",
          "model_module_version": "1.5.0",
          "state": {
            "_dom_classes": [],
            "_model_module": "@jupyter-widgets/controls",
            "_model_module_version": "1.5.0",
            "_model_name": "HTMLModel",
            "_view_count": null,
            "_view_module": "@jupyter-widgets/controls",
            "_view_module_version": "1.5.0",
            "_view_name": "HTMLView",
            "description": "",
            "description_tooltip": null,
            "layout": "IPY_MODEL_f86d10a88f4d4860b777b80029d5ab0f",
            "placeholder": "​",
            "style": "IPY_MODEL_60f3a8bbd92b443989ec41cd69ae0ed6",
            "value": " 5000/5000 [00:29&lt;00:00, 170.52it/s]"
          }
        },
        "6c6ca57b2ce94dc1a024975e2ebdbf24": {
          "model_module": "@jupyter-widgets/base",
          "model_name": "LayoutModel",
          "model_module_version": "1.2.0",
          "state": {
            "_model_module": "@jupyter-widgets/base",
            "_model_module_version": "1.2.0",
            "_model_name": "LayoutModel",
            "_view_count": null,
            "_view_module": "@jupyter-widgets/base",
            "_view_module_version": "1.2.0",
            "_view_name": "LayoutView",
            "align_content": null,
            "align_items": null,
            "align_self": null,
            "border": null,
            "bottom": null,
            "display": null,
            "flex": null,
            "flex_flow": null,
            "grid_area": null,
            "grid_auto_columns": null,
            "grid_auto_flow": null,
            "grid_auto_rows": null,
            "grid_column": null,
            "grid_gap": null,
            "grid_row": null,
            "grid_template_areas": null,
            "grid_template_columns": null,
            "grid_template_rows": null,
            "height": null,
            "justify_content": null,
            "justify_items": null,
            "left": null,
            "margin": null,
            "max_height": null,
            "max_width": null,
            "min_height": null,
            "min_width": null,
            "object_fit": null,
            "object_position": null,
            "order": null,
            "overflow": null,
            "overflow_x": null,
            "overflow_y": null,
            "padding": null,
            "right": null,
            "top": null,
            "visibility": null,
            "width": null
          }
        },
        "38539557eff149eb995a83b144d369e0": {
          "model_module": "@jupyter-widgets/base",
          "model_name": "LayoutModel",
          "model_module_version": "1.2.0",
          "state": {
            "_model_module": "@jupyter-widgets/base",
            "_model_module_version": "1.2.0",
            "_model_name": "LayoutModel",
            "_view_count": null,
            "_view_module": "@jupyter-widgets/base",
            "_view_module_version": "1.2.0",
            "_view_name": "LayoutView",
            "align_content": null,
            "align_items": null,
            "align_self": null,
            "border": null,
            "bottom": null,
            "display": null,
            "flex": null,
            "flex_flow": null,
            "grid_area": null,
            "grid_auto_columns": null,
            "grid_auto_flow": null,
            "grid_auto_rows": null,
            "grid_column": null,
            "grid_gap": null,
            "grid_row": null,
            "grid_template_areas": null,
            "grid_template_columns": null,
            "grid_template_rows": null,
            "height": null,
            "justify_content": null,
            "justify_items": null,
            "left": null,
            "margin": null,
            "max_height": null,
            "max_width": null,
            "min_height": null,
            "min_width": null,
            "object_fit": null,
            "object_position": null,
            "order": null,
            "overflow": null,
            "overflow_x": null,
            "overflow_y": null,
            "padding": null,
            "right": null,
            "top": null,
            "visibility": null,
            "width": null
          }
        },
        "736ee3c432d0431ea4ae85b8ecd31309": {
          "model_module": "@jupyter-widgets/controls",
          "model_name": "DescriptionStyleModel",
          "model_module_version": "1.5.0",
          "state": {
            "_model_module": "@jupyter-widgets/controls",
            "_model_module_version": "1.5.0",
            "_model_name": "DescriptionStyleModel",
            "_view_count": null,
            "_view_module": "@jupyter-widgets/base",
            "_view_module_version": "1.2.0",
            "_view_name": "StyleView",
            "description_width": ""
          }
        },
        "910b40195825418480df63ee1cbabb17": {
          "model_module": "@jupyter-widgets/base",
          "model_name": "LayoutModel",
          "model_module_version": "1.2.0",
          "state": {
            "_model_module": "@jupyter-widgets/base",
            "_model_module_version": "1.2.0",
            "_model_name": "LayoutModel",
            "_view_count": null,
            "_view_module": "@jupyter-widgets/base",
            "_view_module_version": "1.2.0",
            "_view_name": "LayoutView",
            "align_content": null,
            "align_items": null,
            "align_self": null,
            "border": null,
            "bottom": null,
            "display": null,
            "flex": null,
            "flex_flow": null,
            "grid_area": null,
            "grid_auto_columns": null,
            "grid_auto_flow": null,
            "grid_auto_rows": null,
            "grid_column": null,
            "grid_gap": null,
            "grid_row": null,
            "grid_template_areas": null,
            "grid_template_columns": null,
            "grid_template_rows": null,
            "height": null,
            "justify_content": null,
            "justify_items": null,
            "left": null,
            "margin": null,
            "max_height": null,
            "max_width": null,
            "min_height": null,
            "min_width": null,
            "object_fit": null,
            "object_position": null,
            "order": null,
            "overflow": null,
            "overflow_x": null,
            "overflow_y": null,
            "padding": null,
            "right": null,
            "top": null,
            "visibility": null,
            "width": null
          }
        },
        "baaa907d3d7040e2a30dc5082a6a8444": {
          "model_module": "@jupyter-widgets/controls",
          "model_name": "ProgressStyleModel",
          "model_module_version": "1.5.0",
          "state": {
            "_model_module": "@jupyter-widgets/controls",
            "_model_module_version": "1.5.0",
            "_model_name": "ProgressStyleModel",
            "_view_count": null,
            "_view_module": "@jupyter-widgets/base",
            "_view_module_version": "1.2.0",
            "_view_name": "StyleView",
            "bar_color": null,
            "description_width": ""
          }
        },
        "f86d10a88f4d4860b777b80029d5ab0f": {
          "model_module": "@jupyter-widgets/base",
          "model_name": "LayoutModel",
          "model_module_version": "1.2.0",
          "state": {
            "_model_module": "@jupyter-widgets/base",
            "_model_module_version": "1.2.0",
            "_model_name": "LayoutModel",
            "_view_count": null,
            "_view_module": "@jupyter-widgets/base",
            "_view_module_version": "1.2.0",
            "_view_name": "LayoutView",
            "align_content": null,
            "align_items": null,
            "align_self": null,
            "border": null,
            "bottom": null,
            "display": null,
            "flex": null,
            "flex_flow": null,
            "grid_area": null,
            "grid_auto_columns": null,
            "grid_auto_flow": null,
            "grid_auto_rows": null,
            "grid_column": null,
            "grid_gap": null,
            "grid_row": null,
            "grid_template_areas": null,
            "grid_template_columns": null,
            "grid_template_rows": null,
            "height": null,
            "justify_content": null,
            "justify_items": null,
            "left": null,
            "margin": null,
            "max_height": null,
            "max_width": null,
            "min_height": null,
            "min_width": null,
            "object_fit": null,
            "object_position": null,
            "order": null,
            "overflow": null,
            "overflow_x": null,
            "overflow_y": null,
            "padding": null,
            "right": null,
            "top": null,
            "visibility": null,
            "width": null
          }
        },
        "60f3a8bbd92b443989ec41cd69ae0ed6": {
          "model_module": "@jupyter-widgets/controls",
          "model_name": "DescriptionStyleModel",
          "model_module_version": "1.5.0",
          "state": {
            "_model_module": "@jupyter-widgets/controls",
            "_model_module_version": "1.5.0",
            "_model_name": "DescriptionStyleModel",
            "_view_count": null,
            "_view_module": "@jupyter-widgets/base",
            "_view_module_version": "1.2.0",
            "_view_name": "StyleView",
            "description_width": ""
          }
        },
        "ab71d82feebe44809da3f744e9541f30": {
          "model_module": "@jupyter-widgets/controls",
          "model_name": "HBoxModel",
          "model_module_version": "1.5.0",
          "state": {
            "_dom_classes": [],
            "_model_module": "@jupyter-widgets/controls",
            "_model_module_version": "1.5.0",
            "_model_name": "HBoxModel",
            "_view_count": null,
            "_view_module": "@jupyter-widgets/controls",
            "_view_module_version": "1.5.0",
            "_view_name": "HBoxView",
            "box_style": "",
            "children": [
              "IPY_MODEL_eeaeaebea0fa45919605f1d2ac3759a7",
              "IPY_MODEL_9c59d342f83b4b448e6b67137fa5fcc1",
              "IPY_MODEL_25ffbf84af2249c18087d8742d4c1d87"
            ],
            "layout": "IPY_MODEL_df6548fff38849c2b19c47da3e13ff06"
          }
        },
        "eeaeaebea0fa45919605f1d2ac3759a7": {
          "model_module": "@jupyter-widgets/controls",
          "model_name": "HTMLModel",
          "model_module_version": "1.5.0",
          "state": {
            "_dom_classes": [],
            "_model_module": "@jupyter-widgets/controls",
            "_model_module_version": "1.5.0",
            "_model_name": "HTMLModel",
            "_view_count": null,
            "_view_module": "@jupyter-widgets/controls",
            "_view_module_version": "1.5.0",
            "_view_name": "HTMLView",
            "description": "",
            "description_tooltip": null,
            "layout": "IPY_MODEL_114518396d524b40a9bbf9f906aa8fba",
            "placeholder": "​",
            "style": "IPY_MODEL_54a1a6567a8541639ca8f7b214141605",
            "value": "100%"
          }
        },
        "9c59d342f83b4b448e6b67137fa5fcc1": {
          "model_module": "@jupyter-widgets/controls",
          "model_name": "FloatProgressModel",
          "model_module_version": "1.5.0",
          "state": {
            "_dom_classes": [],
            "_model_module": "@jupyter-widgets/controls",
            "_model_module_version": "1.5.0",
            "_model_name": "FloatProgressModel",
            "_view_count": null,
            "_view_module": "@jupyter-widgets/controls",
            "_view_module_version": "1.5.0",
            "_view_name": "ProgressView",
            "bar_style": "success",
            "description": "",
            "description_tooltip": null,
            "layout": "IPY_MODEL_c0b376522c5f49a188dc29a87deac8fd",
            "max": 5000,
            "min": 0,
            "orientation": "horizontal",
            "style": "IPY_MODEL_bcafb2404f754befa61c8c9486483c96",
            "value": 5000
          }
        },
        "25ffbf84af2249c18087d8742d4c1d87": {
          "model_module": "@jupyter-widgets/controls",
          "model_name": "HTMLModel",
          "model_module_version": "1.5.0",
          "state": {
            "_dom_classes": [],
            "_model_module": "@jupyter-widgets/controls",
            "_model_module_version": "1.5.0",
            "_model_name": "HTMLModel",
            "_view_count": null,
            "_view_module": "@jupyter-widgets/controls",
            "_view_module_version": "1.5.0",
            "_view_name": "HTMLView",
            "description": "",
            "description_tooltip": null,
            "layout": "IPY_MODEL_a6b390ee508f410e895ad71a81b2d539",
            "placeholder": "​",
            "style": "IPY_MODEL_4e52105c49b44c87a62f1f2b64a6dac0",
            "value": " 5000/5000 [00:30&lt;00:00, 167.38it/s]"
          }
        },
        "df6548fff38849c2b19c47da3e13ff06": {
          "model_module": "@jupyter-widgets/base",
          "model_name": "LayoutModel",
          "model_module_version": "1.2.0",
          "state": {
            "_model_module": "@jupyter-widgets/base",
            "_model_module_version": "1.2.0",
            "_model_name": "LayoutModel",
            "_view_count": null,
            "_view_module": "@jupyter-widgets/base",
            "_view_module_version": "1.2.0",
            "_view_name": "LayoutView",
            "align_content": null,
            "align_items": null,
            "align_self": null,
            "border": null,
            "bottom": null,
            "display": null,
            "flex": null,
            "flex_flow": null,
            "grid_area": null,
            "grid_auto_columns": null,
            "grid_auto_flow": null,
            "grid_auto_rows": null,
            "grid_column": null,
            "grid_gap": null,
            "grid_row": null,
            "grid_template_areas": null,
            "grid_template_columns": null,
            "grid_template_rows": null,
            "height": null,
            "justify_content": null,
            "justify_items": null,
            "left": null,
            "margin": null,
            "max_height": null,
            "max_width": null,
            "min_height": null,
            "min_width": null,
            "object_fit": null,
            "object_position": null,
            "order": null,
            "overflow": null,
            "overflow_x": null,
            "overflow_y": null,
            "padding": null,
            "right": null,
            "top": null,
            "visibility": null,
            "width": null
          }
        },
        "114518396d524b40a9bbf9f906aa8fba": {
          "model_module": "@jupyter-widgets/base",
          "model_name": "LayoutModel",
          "model_module_version": "1.2.0",
          "state": {
            "_model_module": "@jupyter-widgets/base",
            "_model_module_version": "1.2.0",
            "_model_name": "LayoutModel",
            "_view_count": null,
            "_view_module": "@jupyter-widgets/base",
            "_view_module_version": "1.2.0",
            "_view_name": "LayoutView",
            "align_content": null,
            "align_items": null,
            "align_self": null,
            "border": null,
            "bottom": null,
            "display": null,
            "flex": null,
            "flex_flow": null,
            "grid_area": null,
            "grid_auto_columns": null,
            "grid_auto_flow": null,
            "grid_auto_rows": null,
            "grid_column": null,
            "grid_gap": null,
            "grid_row": null,
            "grid_template_areas": null,
            "grid_template_columns": null,
            "grid_template_rows": null,
            "height": null,
            "justify_content": null,
            "justify_items": null,
            "left": null,
            "margin": null,
            "max_height": null,
            "max_width": null,
            "min_height": null,
            "min_width": null,
            "object_fit": null,
            "object_position": null,
            "order": null,
            "overflow": null,
            "overflow_x": null,
            "overflow_y": null,
            "padding": null,
            "right": null,
            "top": null,
            "visibility": null,
            "width": null
          }
        },
        "54a1a6567a8541639ca8f7b214141605": {
          "model_module": "@jupyter-widgets/controls",
          "model_name": "DescriptionStyleModel",
          "model_module_version": "1.5.0",
          "state": {
            "_model_module": "@jupyter-widgets/controls",
            "_model_module_version": "1.5.0",
            "_model_name": "DescriptionStyleModel",
            "_view_count": null,
            "_view_module": "@jupyter-widgets/base",
            "_view_module_version": "1.2.0",
            "_view_name": "StyleView",
            "description_width": ""
          }
        },
        "c0b376522c5f49a188dc29a87deac8fd": {
          "model_module": "@jupyter-widgets/base",
          "model_name": "LayoutModel",
          "model_module_version": "1.2.0",
          "state": {
            "_model_module": "@jupyter-widgets/base",
            "_model_module_version": "1.2.0",
            "_model_name": "LayoutModel",
            "_view_count": null,
            "_view_module": "@jupyter-widgets/base",
            "_view_module_version": "1.2.0",
            "_view_name": "LayoutView",
            "align_content": null,
            "align_items": null,
            "align_self": null,
            "border": null,
            "bottom": null,
            "display": null,
            "flex": null,
            "flex_flow": null,
            "grid_area": null,
            "grid_auto_columns": null,
            "grid_auto_flow": null,
            "grid_auto_rows": null,
            "grid_column": null,
            "grid_gap": null,
            "grid_row": null,
            "grid_template_areas": null,
            "grid_template_columns": null,
            "grid_template_rows": null,
            "height": null,
            "justify_content": null,
            "justify_items": null,
            "left": null,
            "margin": null,
            "max_height": null,
            "max_width": null,
            "min_height": null,
            "min_width": null,
            "object_fit": null,
            "object_position": null,
            "order": null,
            "overflow": null,
            "overflow_x": null,
            "overflow_y": null,
            "padding": null,
            "right": null,
            "top": null,
            "visibility": null,
            "width": null
          }
        },
        "bcafb2404f754befa61c8c9486483c96": {
          "model_module": "@jupyter-widgets/controls",
          "model_name": "ProgressStyleModel",
          "model_module_version": "1.5.0",
          "state": {
            "_model_module": "@jupyter-widgets/controls",
            "_model_module_version": "1.5.0",
            "_model_name": "ProgressStyleModel",
            "_view_count": null,
            "_view_module": "@jupyter-widgets/base",
            "_view_module_version": "1.2.0",
            "_view_name": "StyleView",
            "bar_color": null,
            "description_width": ""
          }
        },
        "a6b390ee508f410e895ad71a81b2d539": {
          "model_module": "@jupyter-widgets/base",
          "model_name": "LayoutModel",
          "model_module_version": "1.2.0",
          "state": {
            "_model_module": "@jupyter-widgets/base",
            "_model_module_version": "1.2.0",
            "_model_name": "LayoutModel",
            "_view_count": null,
            "_view_module": "@jupyter-widgets/base",
            "_view_module_version": "1.2.0",
            "_view_name": "LayoutView",
            "align_content": null,
            "align_items": null,
            "align_self": null,
            "border": null,
            "bottom": null,
            "display": null,
            "flex": null,
            "flex_flow": null,
            "grid_area": null,
            "grid_auto_columns": null,
            "grid_auto_flow": null,
            "grid_auto_rows": null,
            "grid_column": null,
            "grid_gap": null,
            "grid_row": null,
            "grid_template_areas": null,
            "grid_template_columns": null,
            "grid_template_rows": null,
            "height": null,
            "justify_content": null,
            "justify_items": null,
            "left": null,
            "margin": null,
            "max_height": null,
            "max_width": null,
            "min_height": null,
            "min_width": null,
            "object_fit": null,
            "object_position": null,
            "order": null,
            "overflow": null,
            "overflow_x": null,
            "overflow_y": null,
            "padding": null,
            "right": null,
            "top": null,
            "visibility": null,
            "width": null
          }
        },
        "4e52105c49b44c87a62f1f2b64a6dac0": {
          "model_module": "@jupyter-widgets/controls",
          "model_name": "DescriptionStyleModel",
          "model_module_version": "1.5.0",
          "state": {
            "_model_module": "@jupyter-widgets/controls",
            "_model_module_version": "1.5.0",
            "_model_name": "DescriptionStyleModel",
            "_view_count": null,
            "_view_module": "@jupyter-widgets/base",
            "_view_module_version": "1.2.0",
            "_view_name": "StyleView",
            "description_width": ""
          }
        },
        "4ad38bd50bdf4550acf0d040e112c2c6": {
          "model_module": "@jupyter-widgets/controls",
          "model_name": "HBoxModel",
          "model_module_version": "1.5.0",
          "state": {
            "_dom_classes": [],
            "_model_module": "@jupyter-widgets/controls",
            "_model_module_version": "1.5.0",
            "_model_name": "HBoxModel",
            "_view_count": null,
            "_view_module": "@jupyter-widgets/controls",
            "_view_module_version": "1.5.0",
            "_view_name": "HBoxView",
            "box_style": "",
            "children": [
              "IPY_MODEL_d28db031a5cd4ca6895aa95952836d53",
              "IPY_MODEL_09fd05920afe4e67a35bd6f7440b201a",
              "IPY_MODEL_3bc7b8ed83e3461bb6f39d2424085b2b"
            ],
            "layout": "IPY_MODEL_16778762c2a843e7a7d2e3370d852d7f"
          }
        },
        "d28db031a5cd4ca6895aa95952836d53": {
          "model_module": "@jupyter-widgets/controls",
          "model_name": "HTMLModel",
          "model_module_version": "1.5.0",
          "state": {
            "_dom_classes": [],
            "_model_module": "@jupyter-widgets/controls",
            "_model_module_version": "1.5.0",
            "_model_name": "HTMLModel",
            "_view_count": null,
            "_view_module": "@jupyter-widgets/controls",
            "_view_module_version": "1.5.0",
            "_view_name": "HTMLView",
            "description": "",
            "description_tooltip": null,
            "layout": "IPY_MODEL_8d6e3ca4f3af44d9bd1df9b2b758a281",
            "placeholder": "​",
            "style": "IPY_MODEL_75e79ec5e15343db88ce57db19ec2cbc",
            "value": "100%"
          }
        },
        "09fd05920afe4e67a35bd6f7440b201a": {
          "model_module": "@jupyter-widgets/controls",
          "model_name": "FloatProgressModel",
          "model_module_version": "1.5.0",
          "state": {
            "_dom_classes": [],
            "_model_module": "@jupyter-widgets/controls",
            "_model_module_version": "1.5.0",
            "_model_name": "FloatProgressModel",
            "_view_count": null,
            "_view_module": "@jupyter-widgets/controls",
            "_view_module_version": "1.5.0",
            "_view_name": "ProgressView",
            "bar_style": "success",
            "description": "",
            "description_tooltip": null,
            "layout": "IPY_MODEL_759d90d77c4b47cd82ff9fcae38b9401",
            "max": 5000,
            "min": 0,
            "orientation": "horizontal",
            "style": "IPY_MODEL_d6b7146a216b4381a54d059d9ca6fb23",
            "value": 5000
          }
        },
        "3bc7b8ed83e3461bb6f39d2424085b2b": {
          "model_module": "@jupyter-widgets/controls",
          "model_name": "HTMLModel",
          "model_module_version": "1.5.0",
          "state": {
            "_dom_classes": [],
            "_model_module": "@jupyter-widgets/controls",
            "_model_module_version": "1.5.0",
            "_model_name": "HTMLModel",
            "_view_count": null,
            "_view_module": "@jupyter-widgets/controls",
            "_view_module_version": "1.5.0",
            "_view_name": "HTMLView",
            "description": "",
            "description_tooltip": null,
            "layout": "IPY_MODEL_c376e6fb797e4a6993f1b93ce8f53432",
            "placeholder": "​",
            "style": "IPY_MODEL_d7c5bbd3b9ce4c148ccec18d2abd5c87",
            "value": " 5000/5000 [00:29&lt;00:00, 175.56it/s]"
          }
        },
        "16778762c2a843e7a7d2e3370d852d7f": {
          "model_module": "@jupyter-widgets/base",
          "model_name": "LayoutModel",
          "model_module_version": "1.2.0",
          "state": {
            "_model_module": "@jupyter-widgets/base",
            "_model_module_version": "1.2.0",
            "_model_name": "LayoutModel",
            "_view_count": null,
            "_view_module": "@jupyter-widgets/base",
            "_view_module_version": "1.2.0",
            "_view_name": "LayoutView",
            "align_content": null,
            "align_items": null,
            "align_self": null,
            "border": null,
            "bottom": null,
            "display": null,
            "flex": null,
            "flex_flow": null,
            "grid_area": null,
            "grid_auto_columns": null,
            "grid_auto_flow": null,
            "grid_auto_rows": null,
            "grid_column": null,
            "grid_gap": null,
            "grid_row": null,
            "grid_template_areas": null,
            "grid_template_columns": null,
            "grid_template_rows": null,
            "height": null,
            "justify_content": null,
            "justify_items": null,
            "left": null,
            "margin": null,
            "max_height": null,
            "max_width": null,
            "min_height": null,
            "min_width": null,
            "object_fit": null,
            "object_position": null,
            "order": null,
            "overflow": null,
            "overflow_x": null,
            "overflow_y": null,
            "padding": null,
            "right": null,
            "top": null,
            "visibility": null,
            "width": null
          }
        },
        "8d6e3ca4f3af44d9bd1df9b2b758a281": {
          "model_module": "@jupyter-widgets/base",
          "model_name": "LayoutModel",
          "model_module_version": "1.2.0",
          "state": {
            "_model_module": "@jupyter-widgets/base",
            "_model_module_version": "1.2.0",
            "_model_name": "LayoutModel",
            "_view_count": null,
            "_view_module": "@jupyter-widgets/base",
            "_view_module_version": "1.2.0",
            "_view_name": "LayoutView",
            "align_content": null,
            "align_items": null,
            "align_self": null,
            "border": null,
            "bottom": null,
            "display": null,
            "flex": null,
            "flex_flow": null,
            "grid_area": null,
            "grid_auto_columns": null,
            "grid_auto_flow": null,
            "grid_auto_rows": null,
            "grid_column": null,
            "grid_gap": null,
            "grid_row": null,
            "grid_template_areas": null,
            "grid_template_columns": null,
            "grid_template_rows": null,
            "height": null,
            "justify_content": null,
            "justify_items": null,
            "left": null,
            "margin": null,
            "max_height": null,
            "max_width": null,
            "min_height": null,
            "min_width": null,
            "object_fit": null,
            "object_position": null,
            "order": null,
            "overflow": null,
            "overflow_x": null,
            "overflow_y": null,
            "padding": null,
            "right": null,
            "top": null,
            "visibility": null,
            "width": null
          }
        },
        "75e79ec5e15343db88ce57db19ec2cbc": {
          "model_module": "@jupyter-widgets/controls",
          "model_name": "DescriptionStyleModel",
          "model_module_version": "1.5.0",
          "state": {
            "_model_module": "@jupyter-widgets/controls",
            "_model_module_version": "1.5.0",
            "_model_name": "DescriptionStyleModel",
            "_view_count": null,
            "_view_module": "@jupyter-widgets/base",
            "_view_module_version": "1.2.0",
            "_view_name": "StyleView",
            "description_width": ""
          }
        },
        "759d90d77c4b47cd82ff9fcae38b9401": {
          "model_module": "@jupyter-widgets/base",
          "model_name": "LayoutModel",
          "model_module_version": "1.2.0",
          "state": {
            "_model_module": "@jupyter-widgets/base",
            "_model_module_version": "1.2.0",
            "_model_name": "LayoutModel",
            "_view_count": null,
            "_view_module": "@jupyter-widgets/base",
            "_view_module_version": "1.2.0",
            "_view_name": "LayoutView",
            "align_content": null,
            "align_items": null,
            "align_self": null,
            "border": null,
            "bottom": null,
            "display": null,
            "flex": null,
            "flex_flow": null,
            "grid_area": null,
            "grid_auto_columns": null,
            "grid_auto_flow": null,
            "grid_auto_rows": null,
            "grid_column": null,
            "grid_gap": null,
            "grid_row": null,
            "grid_template_areas": null,
            "grid_template_columns": null,
            "grid_template_rows": null,
            "height": null,
            "justify_content": null,
            "justify_items": null,
            "left": null,
            "margin": null,
            "max_height": null,
            "max_width": null,
            "min_height": null,
            "min_width": null,
            "object_fit": null,
            "object_position": null,
            "order": null,
            "overflow": null,
            "overflow_x": null,
            "overflow_y": null,
            "padding": null,
            "right": null,
            "top": null,
            "visibility": null,
            "width": null
          }
        },
        "d6b7146a216b4381a54d059d9ca6fb23": {
          "model_module": "@jupyter-widgets/controls",
          "model_name": "ProgressStyleModel",
          "model_module_version": "1.5.0",
          "state": {
            "_model_module": "@jupyter-widgets/controls",
            "_model_module_version": "1.5.0",
            "_model_name": "ProgressStyleModel",
            "_view_count": null,
            "_view_module": "@jupyter-widgets/base",
            "_view_module_version": "1.2.0",
            "_view_name": "StyleView",
            "bar_color": null,
            "description_width": ""
          }
        },
        "c376e6fb797e4a6993f1b93ce8f53432": {
          "model_module": "@jupyter-widgets/base",
          "model_name": "LayoutModel",
          "model_module_version": "1.2.0",
          "state": {
            "_model_module": "@jupyter-widgets/base",
            "_model_module_version": "1.2.0",
            "_model_name": "LayoutModel",
            "_view_count": null,
            "_view_module": "@jupyter-widgets/base",
            "_view_module_version": "1.2.0",
            "_view_name": "LayoutView",
            "align_content": null,
            "align_items": null,
            "align_self": null,
            "border": null,
            "bottom": null,
            "display": null,
            "flex": null,
            "flex_flow": null,
            "grid_area": null,
            "grid_auto_columns": null,
            "grid_auto_flow": null,
            "grid_auto_rows": null,
            "grid_column": null,
            "grid_gap": null,
            "grid_row": null,
            "grid_template_areas": null,
            "grid_template_columns": null,
            "grid_template_rows": null,
            "height": null,
            "justify_content": null,
            "justify_items": null,
            "left": null,
            "margin": null,
            "max_height": null,
            "max_width": null,
            "min_height": null,
            "min_width": null,
            "object_fit": null,
            "object_position": null,
            "order": null,
            "overflow": null,
            "overflow_x": null,
            "overflow_y": null,
            "padding": null,
            "right": null,
            "top": null,
            "visibility": null,
            "width": null
          }
        },
        "d7c5bbd3b9ce4c148ccec18d2abd5c87": {
          "model_module": "@jupyter-widgets/controls",
          "model_name": "DescriptionStyleModel",
          "model_module_version": "1.5.0",
          "state": {
            "_model_module": "@jupyter-widgets/controls",
            "_model_module_version": "1.5.0",
            "_model_name": "DescriptionStyleModel",
            "_view_count": null,
            "_view_module": "@jupyter-widgets/base",
            "_view_module_version": "1.2.0",
            "_view_name": "StyleView",
            "description_width": ""
          }
        }
      }
    }
  },
  "cells": [
    {
      "cell_type": "markdown",
      "source": [
        "# 0_Impact_of_Censoring_and_Truncating_on_the_Estimator\n",
        "\n",
        "This notebook demostrates the impact of the censoring and truncation on the Linear Bayesian Regression.\n"
      ],
      "metadata": {
        "id": "Iopc07LJzwND"
      }
    },
    {
      "cell_type": "code",
      "execution_count": 1,
      "metadata": {
        "id": "vmM3Rp0ZazQf",
        "colab": {
          "base_uri": "https://localhost:8080/"
        },
        "outputId": "6f9e9a5a-eb69-47ea-9187-03627f889d23"
      },
      "outputs": [
        {
          "output_type": "stream",
          "name": "stdout",
          "text": [
            "\u001b[?25l     \u001b[90m━━━━━━━━━━━━━━━━━━━━━━━━━━━━━━━━━━━━━━━━\u001b[0m \u001b[32m0.0/732.8 kB\u001b[0m \u001b[31m?\u001b[0m eta \u001b[36m-:--:--\u001b[0m\r\u001b[2K     \u001b[91m━━━━\u001b[0m\u001b[90m╺\u001b[0m\u001b[90m━━━━━━━━━━━━━━━━━━━━━━━━━━━━━━━━━━━\u001b[0m \u001b[32m81.9/732.8 kB\u001b[0m \u001b[31m2.5 MB/s\u001b[0m eta \u001b[36m0:00:01\u001b[0m\r\u001b[2K     \u001b[91m━━━━━━━━━━━━━━━━━━━━\u001b[0m\u001b[91m╸\u001b[0m\u001b[90m━━━━━━━━━━━━━━━━━━━\u001b[0m \u001b[32m378.9/732.8 kB\u001b[0m \u001b[31m5.5 MB/s\u001b[0m eta \u001b[36m0:00:01\u001b[0m\r\u001b[2K     \u001b[91m━━━━━━━━━━━━━━━━━━━━━━━━━━━━━━━━━━━━━━\u001b[0m\u001b[90m╺\u001b[0m\u001b[90m━\u001b[0m \u001b[32m696.3/732.8 kB\u001b[0m \u001b[31m6.7 MB/s\u001b[0m eta \u001b[36m0:00:01\u001b[0m\r\u001b[2K     \u001b[90m━━━━━━━━━━━━━━━━━━━━━━━━━━━━━━━━━━━━━━━━\u001b[0m \u001b[32m732.8/732.8 kB\u001b[0m \u001b[31m6.2 MB/s\u001b[0m eta \u001b[36m0:00:00\u001b[0m\n",
            "\u001b[?25h"
          ]
        }
      ],
      "source": [
        "!pip install -q pyro-ppl"
      ]
    },
    {
      "cell_type": "code",
      "source": [
        "import os\n",
        "from functools import partial\n",
        "\n",
        "import torch\n",
        "import torch.nn as nn\n",
        "import torch.distributions.constraints as constraints\n",
        "\n",
        "import numpy as np\n",
        "\n",
        "import pyro\n",
        "import pyro\n",
        "import pyro.infer\n",
        "import pyro.optim\n",
        "import pyro.distributions as dist\n",
        "from pyro.nn import PyroModule, PyroSample\n",
        "from pyro.infer.autoguide import AutoDiagonalNormal\n",
        "from pyro.infer import SVI, Trace_ELBO, Predictive\n",
        "from tqdm.auto import trange, tqdm\n",
        "\n",
        "import matplotlib.pyplot as plt\n",
        "from mpl_toolkits.axes_grid1 import make_axes_locatable\n",
        "import seaborn as sns\n",
        "\n",
        "smoke_test = \"CI\" in os.environ  # ignore; used to check code integrity in the Pyro repo\n",
        "assert pyro.__version__.startswith('1.8.6')\n",
        "pyro.set_rng_seed(0)\n",
        "torch.set_default_tensor_type(torch.DoubleTensor)"
      ],
      "metadata": {
        "id": "c-dBX_WLfuxa"
      },
      "execution_count": 188,
      "outputs": []
    },
    {
      "cell_type": "markdown",
      "source": [
        "## Sampling From Normal Distribution\n",
        "\n",
        "* likelihood estimation of the parameters of censored and truncated distribution to demonstrate the impact of the transformations on the underlying normal distribution"
      ],
      "metadata": {
        "id": "UwrkEGZXNb6u"
      }
    },
    {
      "cell_type": "code",
      "source": [
        "def optimise_likelihood(x, num_iterations=1000):\n",
        "    pyro.clear_param_store()\n",
        "    loc_ = torch.tensor([0.], requires_grad=True)\n",
        "    scale_ = torch.tensor([1.], requires_grad=True)\n",
        "    optimizer = torch.optim.Adam([loc_, scale_], lr=0.05)\n",
        "\n",
        "    pbar = tqdm(range(num_iterations), position=0, leave=True)\n",
        "\n",
        "    losses = []\n",
        "    for epoch in pbar:\n",
        "        optimizer.zero_grad()\n",
        "        pX = dist.torch.Normal( loc_, scale_)\n",
        "        loss = -pX.log_prob(x).mean()     # \"forward\" compute the loss (neg avg log-likelihood)\n",
        "        loss.backward()\n",
        "        optimizer.step()\n",
        "        optimizer.zero_grad()                   # \"backward\" compute the gradient (& unfortunately clear stuff)\n",
        "        losses.append(loss.item())\n",
        "    res = {\n",
        "        'loc': loc_.item(),\n",
        "        'scale' : scale_.item()\n",
        "        }\n",
        "    return res"
      ],
      "metadata": {
        "id": "J6M4-B55QbFl"
      },
      "execution_count": 328,
      "outputs": []
    },
    {
      "cell_type": "code",
      "source": [
        "N = 500\n",
        "true_sigma = 5.0\n",
        "true_loc = 13.\n",
        "\n",
        "\n",
        "# generate the data\n",
        "X = dist.Uniform(torch.tensor([-5.]), torch.tensor([35.0]))\n",
        "Y = dist.Normal(torch.Tensor([true_loc]), torch.Tensor([true_sigma]))\n",
        "\n",
        "x = X.sample(sample_shape=(N,))\n",
        "y = Y.sample(sample_shape=(N,))\n",
        "\n",
        "# censor the data\n",
        "lower_bound = 3.\n",
        "upper_bound = 16.\n",
        "\n",
        "y_censored = torch.clamp(y, min=lower_bound, max=upper_bound)\n",
        "mask = (y < lower_bound)  | (y > upper_bound)\n",
        "y_censored_indices = torch.nonzero(mask, as_tuple=True)[0]\n",
        "y_truncated_indices = torch.nonzero(~mask, as_tuple=True)[0]\n",
        "\n",
        "x_truncated = x[y_truncated_indices]\n",
        "y_truncated = y[y_truncated_indices]"
      ],
      "metadata": {
        "id": "Bea5mjOC_E_A"
      },
      "execution_count": 491,
      "outputs": []
    },
    {
      "cell_type": "code",
      "source": [
        "# Visualize uncensored, censored and truncated data\n",
        "_, ax = plt.subplots(1,2, figsize=(12, 4))\n",
        "edges = np.linspace(-5, 35, 30)\n",
        "for ax_ in ax:\n",
        "  ax_.hist(y.numpy(), bins=edges, density=True, histtype=\"stepfilled\", alpha=0.4, label=\"Data\")\n",
        "  [ax_.axvline(x=x, c=\"k\", ls=\"--\") for x in [lower_bound, upper_bound]]\n",
        "\n",
        "ax[0].hist(y_censored.numpy(), bins=edges, density=True, histtype=\"stepfilled\", alpha=0.4, label=\"Censored\")\n",
        "ax[0].legend()\n",
        "_ = ax[0].set(title=\"Censored data\")\n",
        "\n",
        "ax[1].hist(y_truncated.numpy(), bins=edges, density=True, histtype=\"stepfilled\", alpha=0.4, label=\"Truncated\")\n",
        "ax[1].legend()\n",
        "_ = ax[1].set(title=\"Truncated data\")"
      ],
      "metadata": {
        "colab": {
          "base_uri": "https://localhost:8080/",
          "height": 391
        },
        "id": "DgwE2RGvAo5A",
        "outputId": "94064f7d-309d-42a3-f50b-bbd6434f19a9"
      },
      "execution_count": 504,
      "outputs": [
        {
          "output_type": "display_data",
          "data": {
            "text/plain": [
              "<Figure size 1200x400 with 2 Axes>"
            ],
            "image/png": "[encoded data removed]"
          },
          "metadata": {}
        }
      ]
    },
    {
      "cell_type": "code",
      "source": [
        "# parameters for non-censored data are: loc = 13., scale =5.\n",
        "print(\" all data\")\n",
        "print(optimise_likelihood(y, 10000))\n",
        "print('sample mean: {: .5f}, sample std: {: .5f}'.format(y.mean().item(), y.std().item()))"
      ],
      "metadata": {
        "colab": {
          "base_uri": "https://localhost:8080/",
          "height": 103,
          "referenced_widgets": [
            "0af70f85207b4897b6e03ff7ac0d0a0c",
            "e6cece659ac34e12ad956a25a311674c",
            "6b20770e56d9406eaffc98c8465817da",
            "1b9163f71b374fbba86d22f66cb0c3b9",
            "844ade7304334d5a9b222d1c07f08dd5",
            "00068e3a22fe48b1925dd83be54fec18",
            "5d8688369032481eaa5f8078da4ff383",
            "b268701363394951a64dcc1650bc2fe6",
            "ba17cbac6dce41759dc0bd5303430ec6",
            "6e4c0c4bca2a4d50acda4d18c3318cc7",
            "5cc520fdd4534aea9ff903948e389683"
          ]
        },
        "id": "ut0Nnu2lhTof",
        "outputId": "3fccdedd-9b99-43aa-939a-b7cecc47ebdc"
      },
      "execution_count": 498,
      "outputs": [
        {
          "output_type": "stream",
          "name": "stdout",
          "text": [
            " all data\n"
          ]
        },
        {
          "output_type": "display_data",
          "data": {
            "text/plain": [
              "  0%|          | 0/10000 [00:00<?, ?it/s]"
            ],
            "application/vnd.jupyter.widget-view+json": {
              "version_major": 2,
              "version_minor": 0,
              "model_id": "0af70f85207b4897b6e03ff7ac0d0a0c"
            }
          },
          "metadata": {}
        },
        {
          "output_type": "stream",
          "name": "stdout",
          "text": [
            "{'loc': 12.657666346701298, 'scale': 5.1386838392769505}\n",
            "sample mean:  12.65767, sample std:  5.14383\n"
          ]
        }
      ]
    },
    {
      "cell_type": "code",
      "source": [
        "# parameters for non-censored data are: loc = 13., scale =5.\n",
        "print(\"censored\")\n",
        "print(optimise_likelihood(y_censored, 10000))\n",
        "print('sample mean: {: .5f}, sample std: {: .5f}'.format(y_censored.mean().item(), y_censored.std().item()))"
      ],
      "metadata": {
        "colab": {
          "base_uri": "https://localhost:8080/",
          "height": 103,
          "referenced_widgets": [
            "0cf49f19c7664167b9e10d4dcf38727e",
            "14af5f7f48d142d985d5c23579bf6da0",
            "534977d51cbc4c7eb1ee515d80cc0777",
            "4fd3e7840c3e44a39d86f8c23d68e0ca",
            "ea53ea42f6814f85888d61f01d2d854c",
            "2f2d764c49964de08ff4a9adbf843446",
            "abd1773163dc471c9374e65cf09e80ff",
            "bc9a5068360f4c4fb1cdd2a461ecfd9c",
            "df126248760c4eb0a3015e02ff9b9354",
            "c1eaccaf889b4beeb646dc9c4555d16f",
            "aacdf2b435b84284b3a9171991bb9e58"
          ]
        },
        "id": "BJ3nCOhOh__3",
        "outputId": "297902dc-b0a5-49f8-b8de-29637445e8a9"
      },
      "execution_count": 501,
      "outputs": [
        {
          "output_type": "stream",
          "name": "stdout",
          "text": [
            "censored\n"
          ]
        },
        {
          "output_type": "display_data",
          "data": {
            "text/plain": [
              "  0%|          | 0/10000 [00:00<?, ?it/s]"
            ],
            "application/vnd.jupyter.widget-view+json": {
              "version_major": 2,
              "version_minor": 0,
              "model_id": "0cf49f19c7664167b9e10d4dcf38727e"
            }
          },
          "metadata": {}
        },
        {
          "output_type": "stream",
          "name": "stdout",
          "text": [
            "{'loc': 12.005194732839353, 'scale': 3.8819625095408057}\n",
            "sample mean:  12.00519, sample std:  3.88585\n"
          ]
        }
      ]
    },
    {
      "cell_type": "code",
      "source": [
        "# parameters for non-censored data are: loc = 13., scale =5.\n",
        "print(\"truncated\")\n",
        "print(optimise_likelihood(y_truncated, 10000))\n",
        "print('sample mean: {: .5f}, sample std: {: .5f}'.format(y_truncated.mean().item(), y_truncated.std().item()))"
      ],
      "metadata": {
        "colab": {
          "base_uri": "https://localhost:8080/",
          "height": 103,
          "referenced_widgets": [
            "814f2fd808604fe7886dcbca7c799198",
            "6cb4b5f1ca3440f18f121ec29fb0a969",
            "ed4f23036801463cb40cf0d3c3e5d0b4",
            "c2fb593fe5e0491d83581c372b2715d2",
            "1cf9b3011e8240299f626ebc14d0c368",
            "e982bd8c84d64ce0a453b2b504f813f7",
            "9fd93a4af04f47a0a9e0a28f6bc8ec24",
            "5ade5125d5854ad8b6def7c9ae8c03ee",
            "be7fd901f24a40cd8b2ffcff3903c1ba",
            "9354390328a14b22b03a59e8828c1e81",
            "5fa49484624d40228a7b008e5dad7f1e"
          ]
        },
        "id": "SvrqXDDmiCVY",
        "outputId": "43e9311e-c13f-48db-ecea-4c5211c07fa5"
      },
      "execution_count": 503,
      "outputs": [
        {
          "output_type": "stream",
          "name": "stdout",
          "text": [
            "truncated\n"
          ]
        },
        {
          "output_type": "display_data",
          "data": {
            "text/plain": [
              "  0%|          | 0/10000 [00:00<?, ?it/s]"
            ],
            "application/vnd.jupyter.widget-view+json": {
              "version_major": 2,
              "version_minor": 0,
              "model_id": "814f2fd808604fe7886dcbca7c799198"
            }
          },
          "metadata": {}
        },
        {
          "output_type": "stream",
          "name": "stdout",
          "text": [
            "{'loc': 10.927265472230514, 'scale': 3.3792040666840895}\n",
            "sample mean:  10.92727, sample std:  3.38387\n"
          ]
        }
      ]
    },
    {
      "cell_type": "markdown",
      "source": [
        "## Regression Model\n",
        "* generate data for the regression model"
      ],
      "metadata": {
        "id": "MDvswTim-jSC"
      }
    },
    {
      "cell_type": "code",
      "source": [
        "N = 500\n",
        "slope = 1.\n",
        "true_sigma = 2.0\n",
        "intercept = 1.\n",
        "\n",
        "\n",
        "# generate the data\n",
        "X = dist.Uniform(torch.tensor([-10.]), torch.tensor([10.0]))\n",
        "eps = dist.Normal(torch.Tensor([0]), torch.Tensor([true_sigma]))\n",
        "\n",
        "x = X.sample(sample_shape=(N,))\n",
        "noise = eps.sample(sample_shape=(N,))\n",
        "y = intercept + slope * x + noise\n",
        "\n",
        "# censor the data\n",
        "lower_bound = -4.\n",
        "upper_bound = 4.\n",
        "\n",
        "y_censored = torch.clamp(y, min=lower_bound, max=upper_bound)\n",
        "mask = (y < lower_bound)  | (y > upper_bound)\n",
        "y_censored_indices = torch.nonzero(mask, as_tuple=True)[0]\n",
        "y_truncated_indices = torch.nonzero(~mask, as_tuple=True)[0]\n",
        "\n",
        "x_truncated = x[y_truncated_indices]\n",
        "y_truncated = y[y_truncated_indices]"
      ],
      "metadata": {
        "id": "Q5Ir41p_Nfih"
      },
      "execution_count": 334,
      "outputs": []
    },
    {
      "cell_type": "code",
      "source": [
        "# Visualize uncensored, censored and truncated data\n",
        "_, ax = plt.subplots(1,2, figsize=(12, 4))\n",
        "edges = np.linspace(-5, 5, 30)\n",
        "for ax_ in ax:\n",
        "  ax_.hist(y.numpy(), bins=edges, density=True, histtype=\"stepfilled\", alpha=0.4, label=\"Data\")\n",
        "  [ax_.axvline(x=x, c=\"k\", ls=\"--\") for x in [lower_bound, upper_bound]]\n",
        "\n",
        "ax[0].hist(y_censored.numpy(), bins=edges, density=True, histtype=\"stepfilled\", alpha=0.3, label=\"Censored\")\n",
        "ax[0].legend()\n",
        "_ = ax[0].set(title=\"Censored data\")\n",
        "\n",
        "ax[1].hist(y_truncated.numpy(), bins=edges, density=True, histtype=\"stepfilled\", alpha=0.5, label=\"Truncated\")\n",
        "ax[1].legend()\n",
        "_ = ax[1].set(title=\"Truncated data\")\n"
      ],
      "metadata": {
        "colab": {
          "base_uri": "https://localhost:8080/",
          "height": 391
        },
        "id": "JpL7a4O6NXqp",
        "outputId": "41575270-f6c2-47fb-863b-9de508a7471b"
      },
      "execution_count": 436,
      "outputs": [
        {
          "output_type": "display_data",
          "data": {
            "text/plain": [
              "<Figure size 1200x400 with 2 Axes>"
            ],
            "image/png": "[encoded data removed]"
          },
          "metadata": {}
        }
      ]
    },
    {
      "cell_type": "code",
      "source": [
        "fig, ax = plt.subplots(1, 2, figsize=(12, 4))\n",
        "\n",
        "for ax_ in ax:\n",
        "  ax_.plot(x, y, \".\", alpha=0.6, c=[0.7, 0.7, 0.7])\n",
        "  ax_.axhline(lower_bound, c='red', ls=\"--\")\n",
        "  ax_.axhline(upper_bound, c='red', ls=\"--\")\n",
        "  ax_.set(xlabel=\"x\", ylabel=\"y\")\n",
        "\n",
        "ax[0].plot(x.squeeze().numpy(), y_censored.numpy(), \".\", c='black')\n",
        "_ = ax[0].set(title=\"Censored data\")\n",
        "ax[1].plot(x_truncated.numpy(), y_truncated.numpy(), \".\", c='black')\n",
        "_ = ax[1].set(title=\"Truncated data\")"
      ],
      "metadata": {
        "colab": {
          "base_uri": "https://localhost:8080/",
          "height": 410
        },
        "id": "5EFnM7mcbVpQ",
        "outputId": "77665529-c823-48dd-e465-95f8909a3161"
      },
      "execution_count": 336,
      "outputs": [
        {
          "output_type": "display_data",
          "data": {
            "text/plain": [
              "<Figure size 1200x400 with 2 Axes>"
            ],
            "image/png": "[encoded data removed]"
          },
          "metadata": {}
        }
      ]
    },
    {
      "cell_type": "markdown",
      "source": [
        "### Linear Regression"
      ],
      "metadata": {
        "id": "2EDcF2dO-TTM"
      }
    },
    {
      "cell_type": "code",
      "source": [
        "class LinearRegressionModel(torch.nn.Module):\n",
        "    def __init__(self, in_features, out_features):\n",
        "        super().__init__()\n",
        "        self.linear = torch.nn.Linear(in_features, out_features)  # Single input feature, single output\n",
        "\n",
        "    def forward(self, x):\n",
        "        return self.linear(x)\n",
        "\n",
        "def optimise_lin_reg(model, x, y, num_iterations=1000):\n",
        "    optimizer = torch.optim.Adam(model.parameters(), lr=0.05)\n",
        "    oss_fn = torch.nn.MSELoss(reduction='sum')\n",
        "\n",
        "    pbar = tqdm(range(num_iterations), position=0, leave=True)\n",
        "\n",
        "    losses = []\n",
        "    for epoch in pbar:\n",
        "        optimizer.zero_grad()\n",
        "        y_pred = model(x) #forward pass\n",
        "        loss = loss_fn(y_pred, y)\n",
        "        loss.backward()\n",
        "        # take a gradient step\n",
        "        optimizer.step()\n",
        "        losses.append(loss.item())\n",
        "    res = {\n",
        "        'model': model,\n",
        "        'losses' : losses\n",
        "        }\n",
        "    for name, param in model.named_parameters():\n",
        "      print(name, param.data.numpy())\n",
        "    return res\n",
        "\n",
        "def plot_loss(loss):\n",
        "    plt.plot(loss)\n",
        "    plt.xlabel(\"Iterations\")\n",
        "    _ = plt.ylabel(\"Loss\")  # supress output text\n"
      ],
      "metadata": {
        "id": "GqYb81PMKQvn"
      },
      "execution_count": 337,
      "outputs": []
    },
    {
      "cell_type": "code",
      "source": [
        "# original parameters are: slope = 1., intercept = 1., sigma = 2.\n",
        "pyro.clear_param_store()\n",
        "\n",
        "model1 = LinearRegressionModel(1, 1)\n",
        "model1_res = optimise_lin_reg(model1, x, y, 5000)\n",
        "y_pred = model1(x).detach().cpu().numpy()"
      ],
      "metadata": {
        "colab": {
          "base_uri": "https://localhost:8080/",
          "height": 85,
          "referenced_widgets": [
            "ee3160517b654c48b6a98ecf3e0bf24e",
            "61c996f8db68498b879c40f71054177f",
            "21cd8ff5b60e4780a1beb77dfad08cf9",
            "a59abcb983ea4d52b67e8f28176ba5f0",
            "e47cff6fdc724edf829e13702c004137",
            "c19a628d531c4d3292787eeb62a05a6c",
            "dafeaf99791f428bb162e6b7142e61dd",
            "c492556e68484225b1de297deac4a1e1",
            "2e92e6ede938469991b1c67852e43034",
            "793ea153d85b45e08ee132a8f91fc81f",
            "51b106b3489f4ff0a4f86412d3733a1e"
          ]
        },
        "id": "2drC7r-zKUf6",
        "outputId": "49766948-47a4-4b24-fd72-56f3f066344e"
      },
      "execution_count": 370,
      "outputs": [
        {
          "output_type": "display_data",
          "data": {
            "text/plain": [
              "  0%|          | 0/5000 [00:00<?, ?it/s]"
            ],
            "application/vnd.jupyter.widget-view+json": {
              "version_major": 2,
              "version_minor": 0,
              "model_id": "ee3160517b654c48b6a98ecf3e0bf24e"
            }
          },
          "metadata": {}
        },
        {
          "output_type": "stream",
          "name": "stdout",
          "text": [
            "linear.weight [[1.0051764]]\n",
            "linear.bias [1.10702771]\n"
          ]
        }
      ]
    },
    {
      "cell_type": "code",
      "source": [
        "# original parameters are: slope = 1., intercept = 1., sigma = 2.\n",
        "pyro.clear_param_store()\n",
        "\n",
        "model2 = LinearRegressionModel(1, 1)\n",
        "model2_res = optimise_lin_reg(model2, x, y_censored, 5000)\n",
        "y_censored_pred = model2(x).detach().cpu().numpy()"
      ],
      "metadata": {
        "colab": {
          "base_uri": "https://localhost:8080/",
          "height": 85,
          "referenced_widgets": [
            "aeb90b2a09f94b7691166b522140c7fe",
            "a904c6376a2d47a69bd1b6e0069c8cc3",
            "531997aa7106453ea579586e57e4dd73",
            "c780e9f93ca34dec9959b34a0bf2dd33",
            "19d36e825e9a4a17a68017a134d30615",
            "5ebfc8bf8d5d4ef49e698497bb590835",
            "12d98c0d255340fd85209a232d9e3e63",
            "5558ce67e2334f95b83fc925b6778595",
            "6bf703069f2a4526a93508b021e84ba5",
            "3233600280274c07a71b28321c6b671b",
            "1a416b83f9144f2b82469a297d04e886"
          ]
        },
        "id": "LUoRiM3-ErdQ",
        "outputId": "844d0d01-f5ca-4aaa-f26d-05c83e46395b"
      },
      "execution_count": 371,
      "outputs": [
        {
          "output_type": "display_data",
          "data": {
            "text/plain": [
              "  0%|          | 0/5000 [00:00<?, ?it/s]"
            ],
            "application/vnd.jupyter.widget-view+json": {
              "version_major": 2,
              "version_minor": 0,
              "model_id": "aeb90b2a09f94b7691166b522140c7fe"
            }
          },
          "metadata": {}
        },
        {
          "output_type": "stream",
          "name": "stdout",
          "text": [
            "linear.weight [[0.53353152]]\n",
            "linear.bias [0.41369395]\n"
          ]
        }
      ]
    },
    {
      "cell_type": "code",
      "source": [
        "# original parameters are: slope = 1., intercept = 1., sigma = 2.\n",
        "pyro.clear_param_store()\n",
        "\n",
        "model3 = LinearRegressionModel(1, 1)\n",
        "model3_res = optimise_lin_reg(model3, x_truncated, y_truncated, 5000)\n",
        "y_truncated_pred = model3(x).detach().cpu().numpy()"
      ],
      "metadata": {
        "colab": {
          "base_uri": "https://localhost:8080/",
          "height": 85,
          "referenced_widgets": [
            "4c9ceee80100446da7e42ef6a99ada56",
            "000d4767e1b74b84b4efe1b99ec1aa63",
            "079fc37d928546299d4b080a144d9d8b",
            "0bf930cd7f4d45e4b29c98c160229973",
            "4e13941edc264748b52bb81ba279ae53",
            "66d20a751d97416b8276a079d0a84faa",
            "e1a7ce362cf846578cc5bd5c9b67f186",
            "511db520de5448cb93067624528af6c3",
            "36a4ccb6406548078c48568f6196d203",
            "c2774618bbb24bd5be6698d88846f06a",
            "1b1bab3a44674c818ae75998e3dbf2eb"
          ]
        },
        "id": "V0wajdzCEv3y",
        "outputId": "1bc4c5f0-ecfc-40b9-c132-3b2df4e3f823"
      },
      "execution_count": 372,
      "outputs": [
        {
          "output_type": "display_data",
          "data": {
            "text/plain": [
              "  0%|          | 0/5000 [00:00<?, ?it/s]"
            ],
            "application/vnd.jupyter.widget-view+json": {
              "version_major": 2,
              "version_minor": 0,
              "model_id": "4c9ceee80100446da7e42ef6a99ada56"
            }
          },
          "metadata": {}
        },
        {
          "output_type": "stream",
          "name": "stdout",
          "text": [
            "linear.weight [[0.55930052]]\n",
            "linear.bias [0.49965644]\n"
          ]
        }
      ]
    },
    {
      "cell_type": "code",
      "source": [
        "fig, ax = plt.subplots(1, 2, figsize=(12, 4))\n",
        "\n",
        "for ax_ in ax:\n",
        "  ax_.plot(x, y, \".\", alpha=0.6, c=[0.7, 0.7, 0.7])\n",
        "  ax_.axhline(lower_bound, c='red', ls=\"--\")\n",
        "  ax_.axhline(upper_bound, c='red', ls=\"--\")\n",
        "  ax_.set(xlabel=\"x\", ylabel=\"y\")\n",
        "\n",
        "ax[0].plot(x, y_pred, color=sns.color_palette()[1], ls=\":\", label='all data')\n",
        "ax[1].plot(x, y_pred, color=sns.color_palette()[1], ls=\":\", label='all data')\n",
        "ax[0].plot(x.squeeze().numpy(), y_censored.numpy(), \".\", c='black', alpha=0.4)\n",
        "_ = ax[0].set(title=\"Censored data: bias: {: .4f}, weight {: .4f}\".format(model2_res['model'].linear.weight.item(), model2_res['model'].linear.bias.item()))\n",
        "ax[0].plot(x, y_censored_pred, color=sns.color_palette()[0], label='censored')\n",
        "ax[1].plot(x_truncated.numpy(), y_truncated.numpy(), \".\", c='black', alpha=0.4)\n",
        "ax[1].plot(x, y_truncated_pred, color=sns.color_palette()[2], label='truncated')\n",
        "_ = ax[1].set(title=\"Truncated data: bias: {: .4f}, weight {: .4f}\".format(model3_res['model'].linear.weight.item(), model3_res['model'].linear.bias.item()))\n",
        "\n",
        "ax[0].legend(loc='upper left')\n",
        "ax[1].legend(loc='upper left')"
      ],
      "metadata": {
        "colab": {
          "base_uri": "https://localhost:8080/",
          "height": 428
        },
        "id": "djPbZtQJD7Dt",
        "outputId": "2e0bb0c4-20d9-42cd-b0dc-3e6f90bd07e3"
      },
      "execution_count": 374,
      "outputs": [
        {
          "output_type": "execute_result",
          "data": {
            "text/plain": [
              "<matplotlib.legend.Legend at 0x7a639c3e9570>"
            ]
          },
          "metadata": {},
          "execution_count": 374
        },
        {
          "output_type": "display_data",
          "data": {
            "text/plain": [
              "<Figure size 1200x400 with 2 Axes>"
            ],
            "image/png": "[encoded data removed]"
          },
          "metadata": {}
        }
      ]
    },
    {
      "cell_type": "markdown",
      "source": [
        "### Bayessian Regression"
      ],
      "metadata": {
        "id": "DyZ3VuTnH8uS"
      }
    },
    {
      "cell_type": "code",
      "source": [
        "from pyro.nn import PyroSample\n",
        "\n",
        "\n",
        "class BayesianRegression(PyroModule):\n",
        "    def __init__(self, in_features, out_features):\n",
        "        super().__init__()\n",
        "        self.linear = PyroModule[nn.Linear](in_features, out_features)\n",
        "        self.linear.weight = PyroSample(dist.Normal(0., 1.).expand([out_features, in_features]).to_event(2))\n",
        "        self.linear.bias = PyroSample(dist.Normal(0., 1.).expand([out_features]).to_event(1))\n",
        "\n",
        "    def forward(self, x, y=None):\n",
        "        sigma = pyro.sample(\"sigma\", dist.HalfNormal(1.))\n",
        "        mean = self.linear(x).squeeze(-1)\n",
        "        with pyro.plate(\"data\", x.shape[0]):\n",
        "            obs = pyro.sample(\"obs\", dist.Normal(mean, sigma), obs=y)\n",
        "        return mean\n",
        "\n",
        "\n",
        "def optimise_bayes_lin_reg(model, guide, x, y, num_iterations=1000):\n",
        "    pyro.clear_param_store()\n",
        "    optimizer = pyro.optim.Adam({'lr': 0.05})\n",
        "    loss_fn = pyro.infer.Trace_ELBO().differentiable_loss\n",
        "    svi = SVI(model, guide, optimizer, loss=loss_fn)\n",
        "\n",
        "    pbar = tqdm(range(num_iterations), position=0, leave=True)\n",
        "\n",
        "    losses = []\n",
        "    for epoch in pbar:\n",
        "        loss = svi.step(x, y)\n",
        "        losses.append(loss)\n",
        "\n",
        "    res = {\n",
        "        'model': model,\n",
        "        'guide': guide,\n",
        "        'losses': losses\n",
        "        }\n",
        "    return res\n",
        "\n",
        "\n",
        "def summary(samples):\n",
        "    site_stats = {}\n",
        "    for k, v in samples.items():\n",
        "        site_stats[k] = {\n",
        "            \"mean\": torch.mean(v, 0),\n",
        "            \"std\": torch.std(v, 0),\n",
        "            \"5%\": v.kthvalue(int(len(v) * 0.05), dim=0)[0],\n",
        "            \"95%\": v.kthvalue(int(len(v) * 0.95), dim=0)[0],\n",
        "        }\n",
        "    return site_stats"
      ],
      "metadata": {
        "id": "5PLSMWgj0ATb"
      },
      "execution_count": 393,
      "outputs": []
    },
    {
      "cell_type": "code",
      "source": [
        "from pyro.infer.autoguide import AutoDiagonalNormal\n",
        "from pyro.infer import SVI, Trace_ELBO\n",
        "\n",
        "pyro.clear_param_store()\n",
        "\n",
        "x_train = torch.Tensor(x.numpy())\n",
        "y_train = torch.Tensor(y.squeeze().numpy())\n",
        "model3 = BayesianRegression(1, 1)\n",
        "guide3 = AutoDiagonalNormal(model3) # posterior approximation\n",
        "\n",
        "pyro.render_model(model3, model_args=(x, y), render_distributions=True, render_params=True)"
      ],
      "metadata": {
        "colab": {
          "base_uri": "https://localhost:8080/",
          "height": 271
        },
        "id": "4-IZnbqeVTry",
        "outputId": "33e8e0b4-d332-4046-d52d-6c6421d163fe"
      },
      "execution_count": 384,
      "outputs": [
        {
          "output_type": "execute_result",
          "data": {
            "image/svg+xml": "<?xml version=\"1.0\" encoding=\"UTF-8\" standalone=\"no\"?>\n<!DOCTYPE svg PUBLIC \"-//W3C//DTD SVG 1.1//EN\"\n \"http://www.w3.org/Graphics/SVG/1.1/DTD/svg11.dtd\">\n<!-- Generated by graphviz version 2.43.0 (0)\n -->\n<!-- Title: %3 Pages: 1 -->\n<svg width=\"477pt\" height=\"187pt\"\n viewBox=\"0.00 0.00 477.50 187.00\" xmlns=\"http://www.w3.org/2000/svg\" xmlns:xlink=\"http://www.w3.org/1999/xlink\">\n<g id=\"graph0\" class=\"graph\" transform=\"scale(1 1) rotate(0) translate(4 183)\">\n<title>%3</title>\n<polygon fill=\"white\" stroke=\"transparent\" points=\"-4,4 -4,-183 473.5,-183 473.5,4 -4,4\"/>\n<g id=\"clust1\" class=\"cluster\">\n<title>cluster_data</title>\n<polygon fill=\"none\" stroke=\"black\" points=\"104.5,-8 104.5,-83 174.5,-83 174.5,-8 104.5,-8\"/>\n<text text-anchor=\"middle\" x=\"155\" y=\"-15.8\" font-family=\"Times,serif\" font-size=\"14.00\">data</text>\n</g>\n<!-- sigma -->\n<g id=\"node1\" class=\"node\">\n<title>sigma</title>\n<ellipse fill=\"white\" stroke=\"black\" cx=\"32.5\" cy=\"-145\" rx=\"32.49\" ry=\"18\"/>\n<text text-anchor=\"middle\" x=\"32.5\" y=\"-141.3\" font-family=\"Times,serif\" font-size=\"14.00\">sigma</text>\n</g>\n<!-- obs -->\n<g id=\"node4\" class=\"node\">\n<title>obs</title>\n<ellipse fill=\"gray\" stroke=\"black\" cx=\"139.5\" cy=\"-57\" rx=\"27\" ry=\"18\"/>\n<text text-anchor=\"middle\" x=\"139.5\" y=\"-53.3\" font-family=\"Times,serif\" font-size=\"14.00\">obs</text>\n</g>\n<!-- sigma&#45;&gt;obs -->\n<g id=\"edge2\" class=\"edge\">\n<title>sigma&#45;&gt;obs</title>\n<path fill=\"none\" stroke=\"black\" d=\"M50.46,-129.54C57.62,-123.77 65.95,-117.07 73.5,-111 87.18,-100 102.46,-87.73 114.87,-77.77\"/>\n<polygon fill=\"black\" stroke=\"black\" points=\"117.34,-80.27 122.95,-71.28 112.96,-74.81 117.34,-80.27\"/>\n</g>\n<!-- linear.weight -->\n<g id=\"node2\" class=\"node\">\n<title>linear.weight</title>\n<ellipse fill=\"white\" stroke=\"black\" cx=\"139.5\" cy=\"-145\" rx=\"56.59\" ry=\"18\"/>\n<text text-anchor=\"middle\" x=\"139.5\" y=\"-141.3\" font-family=\"Times,serif\" font-size=\"14.00\">linear.weight</text>\n</g>\n<!-- linear.weight&#45;&gt;obs -->\n<g id=\"edge1\" class=\"edge\">\n<title>linear.weight&#45;&gt;obs</title>\n<path fill=\"none\" stroke=\"black\" d=\"M139.5,-126.6C139.5,-114.75 139.5,-98.82 139.5,-85.29\"/>\n<polygon fill=\"black\" stroke=\"black\" points=\"143,-85.08 139.5,-75.08 136,-85.08 143,-85.08\"/>\n</g>\n<!-- linear.bias -->\n<g id=\"node3\" class=\"node\">\n<title>linear.bias</title>\n<ellipse fill=\"white\" stroke=\"black\" cx=\"260.5\" cy=\"-145\" rx=\"46.59\" ry=\"18\"/>\n<text text-anchor=\"middle\" x=\"260.5\" y=\"-141.3\" font-family=\"Times,serif\" font-size=\"14.00\">linear.bias</text>\n</g>\n<!-- linear.bias&#45;&gt;obs -->\n<g id=\"edge3\" class=\"edge\">\n<title>linear.bias&#45;&gt;obs</title>\n<path fill=\"none\" stroke=\"black\" d=\"M239.14,-128.82C218.66,-114.26 187.68,-92.25 165.71,-76.63\"/>\n<polygon fill=\"black\" stroke=\"black\" points=\"167.66,-73.72 157.48,-70.78 163.61,-79.43 167.66,-73.72\"/>\n</g>\n<!-- distribution_description_node -->\n<g id=\"node5\" class=\"node\">\n<title>distribution_description_node</title>\n<text text-anchor=\"start\" x=\"333.5\" y=\"-163.8\" font-family=\"Times,serif\" font-size=\"14.00\">sigma ~ HalfNormal</text>\n<text text-anchor=\"start\" x=\"333.5\" y=\"-148.8\" font-family=\"Times,serif\" font-size=\"14.00\">linear.weight ~ Normal</text>\n<text text-anchor=\"start\" x=\"333.5\" y=\"-133.8\" font-family=\"Times,serif\" font-size=\"14.00\">linear.bias ~ Normal</text>\n<text text-anchor=\"start\" x=\"333.5\" y=\"-118.8\" font-family=\"Times,serif\" font-size=\"14.00\">obs ~ Normal</text>\n</g>\n</g>\n</svg>\n",
            "text/plain": [
              "<graphviz.graphs.Digraph at 0x7a639c25b130>"
            ]
          },
          "metadata": {},
          "execution_count": 384
        }
      ]
    },
    {
      "cell_type": "code",
      "source": [
        "model3_res = optimise_bayes_lin_reg(model3, guide3, x_train, y_train, num_iterations=5000)\n",
        "print(model3.linear.weight, model3.linear.bias)"
      ],
      "metadata": {
        "colab": {
          "base_uri": "https://localhost:8080/",
          "height": 67,
          "referenced_widgets": [
            "5ae166ef91bf4f0e8bf3da189ce25ed3",
            "b78f8fbfb45b4e65a75c88622d50be59",
            "ce6ae3771bb34f1c9e21247fe2e06c5f",
            "b26aa4038c4a41318bd04f8b389cb1a6",
            "6c6ca57b2ce94dc1a024975e2ebdbf24",
            "38539557eff149eb995a83b144d369e0",
            "736ee3c432d0431ea4ae85b8ecd31309",
            "910b40195825418480df63ee1cbabb17",
            "baaa907d3d7040e2a30dc5082a6a8444",
            "f86d10a88f4d4860b777b80029d5ab0f",
            "60f3a8bbd92b443989ec41cd69ae0ed6"
          ]
        },
        "id": "ReipQQ1MFd_2",
        "outputId": "6925300f-a0d8-4ff9-dd19-08f70151aa46"
      },
      "execution_count": 385,
      "outputs": [
        {
          "output_type": "display_data",
          "data": {
            "text/plain": [
              "  0%|          | 0/5000 [00:00<?, ?it/s]"
            ],
            "application/vnd.jupyter.widget-view+json": {
              "version_major": 2,
              "version_minor": 0,
              "model_id": "5ae166ef91bf4f0e8bf3da189ce25ed3"
            }
          },
          "metadata": {}
        },
        {
          "output_type": "stream",
          "name": "stdout",
          "text": [
            "tensor([[0.3088]]) tensor([0.3473])\n"
          ]
        }
      ]
    },
    {
      "cell_type": "code",
      "source": [
        "pyro.clear_param_store()\n",
        "\n",
        "x_train = torch.Tensor(x.numpy())\n",
        "y_train = torch.Tensor(y_censored.squeeze().numpy())\n",
        "model4 = BayesianRegression(1, 1)\n",
        "guide4 = AutoDiagonalNormal(model4) # posterior approximation\n",
        "\n",
        "model4_res = optimise_bayes_lin_reg(model4, guide4, x_train, y_train, num_iterations=5000)\n",
        "print(model4.linear.weight, model4.linear.bias)\n"
      ],
      "metadata": {
        "colab": {
          "base_uri": "https://localhost:8080/",
          "height": 67,
          "referenced_widgets": [
            "ab71d82feebe44809da3f744e9541f30",
            "eeaeaebea0fa45919605f1d2ac3759a7",
            "9c59d342f83b4b448e6b67137fa5fcc1",
            "25ffbf84af2249c18087d8742d4c1d87",
            "df6548fff38849c2b19c47da3e13ff06",
            "114518396d524b40a9bbf9f906aa8fba",
            "54a1a6567a8541639ca8f7b214141605",
            "c0b376522c5f49a188dc29a87deac8fd",
            "bcafb2404f754befa61c8c9486483c96",
            "a6b390ee508f410e895ad71a81b2d539",
            "4e52105c49b44c87a62f1f2b64a6dac0"
          ]
        },
        "id": "nGmpLVlfLsoS",
        "outputId": "d72928df-2e79-4ab9-d91d-7b457c7c81ec"
      },
      "execution_count": 352,
      "outputs": [
        {
          "output_type": "display_data",
          "data": {
            "text/plain": [
              "  0%|          | 0/5000 [00:00<?, ?it/s]"
            ],
            "application/vnd.jupyter.widget-view+json": {
              "version_major": 2,
              "version_minor": 0,
              "model_id": "ab71d82feebe44809da3f744e9541f30"
            }
          },
          "metadata": {}
        },
        {
          "output_type": "stream",
          "name": "stdout",
          "text": [
            "tensor([[-0.1838]]) tensor([-0.9649])\n"
          ]
        }
      ]
    },
    {
      "cell_type": "code",
      "source": [
        "pyro.clear_param_store()\n",
        "\n",
        "x_train = torch.Tensor(x_truncated.numpy())\n",
        "y_train = torch.Tensor(y_truncated.squeeze().numpy())\n",
        "model5 = BayesianRegression(1, 1)\n",
        "guide5 = AutoDiagonalNormal(model5) # posterior approximation\n",
        "\n",
        "model5_res = optimise_bayes_lin_reg(model5, guide5, x_train, y_train, num_iterations=5000)\n",
        "print(model5.linear.weight, model5.linear.bias)"
      ],
      "metadata": {
        "colab": {
          "base_uri": "https://localhost:8080/",
          "height": 67,
          "referenced_widgets": [
            "4ad38bd50bdf4550acf0d040e112c2c6",
            "d28db031a5cd4ca6895aa95952836d53",
            "09fd05920afe4e67a35bd6f7440b201a",
            "3bc7b8ed83e3461bb6f39d2424085b2b",
            "16778762c2a843e7a7d2e3370d852d7f",
            "8d6e3ca4f3af44d9bd1df9b2b758a281",
            "75e79ec5e15343db88ce57db19ec2cbc",
            "759d90d77c4b47cd82ff9fcae38b9401",
            "d6b7146a216b4381a54d059d9ca6fb23",
            "c376e6fb797e4a6993f1b93ce8f53432",
            "d7c5bbd3b9ce4c148ccec18d2abd5c87"
          ]
        },
        "id": "29kuy22_NCx1",
        "outputId": "fb97b092-5cdd-418a-e233-c3e560605f88"
      },
      "execution_count": 353,
      "outputs": [
        {
          "output_type": "display_data",
          "data": {
            "text/plain": [
              "  0%|          | 0/5000 [00:00<?, ?it/s]"
            ],
            "application/vnd.jupyter.widget-view+json": {
              "version_major": 2,
              "version_minor": 0,
              "model_id": "4ad38bd50bdf4550acf0d040e112c2c6"
            }
          },
          "metadata": {}
        },
        {
          "output_type": "stream",
          "name": "stdout",
          "text": [
            "tensor([[-1.1794]]) tensor([-0.0603])\n"
          ]
        }
      ]
    },
    {
      "cell_type": "code",
      "source": [
        "pyro.clear_param_store()\n",
        "\n",
        "predictive_y = Predictive(model3, guide=guide3, num_samples=500)\n",
        "x_test = torch.linspace(-15, 15, 3000)\n",
        "\n",
        "samples_model3 = predictive_y(torch.Tensor(x_test.reshape(3000, 1)))\n",
        "\n",
        "pred_summary_model3 = summary(samples_model3)\n",
        "y_predicted = pred_summary_model3[\"obs\"]\n",
        "weights_predicted = pred_summary_model3[\"linear.weight\"]\n",
        "\n",
        "y_pred = y_predicted['mean']\n",
        "y_perc_5 = y_predicted[\"5%\"]\n",
        "y_perc_95 = y_predicted[\"95%\"]"
      ],
      "metadata": {
        "id": "VLS3lbF08RvE"
      },
      "execution_count": 441,
      "outputs": []
    },
    {
      "cell_type": "code",
      "source": [
        "pyro.clear_param_store()\n",
        "\n",
        "predictive_y_censored = Predictive(model4, guide=guide4, num_samples=500)\n",
        "x_test = torch.linspace(-15, 15, 3000)\n",
        "\n",
        "samples_model4 = predictive_y_censored(torch.Tensor(x_test.reshape(3000, 1)))\n",
        "\n",
        "pred_summary_model4 = summary(samples_model4)\n",
        "y_censored_predicted = pred_summary_model4[\"obs\"]\n",
        "weights_censored_predicted = pred_summary_model4[\"linear.weight\"]\n",
        "\n",
        "y_censored_pred = y_censored_predicted['mean']\n",
        "y_censored_perc_5 = y_censored_predicted[\"5%\"]\n",
        "y_censored_perc_95 = y_censored_predicted[\"95%\"]"
      ],
      "metadata": {
        "id": "HAMG3FR_EVpW"
      },
      "execution_count": 423,
      "outputs": []
    },
    {
      "cell_type": "code",
      "source": [
        "pyro.clear_param_store()\n",
        "\n",
        "predictive_y_truncated = Predictive(model5, guide=guide5, num_samples=500)\n",
        "x_test = torch.linspace(-15, 15, 3000)\n",
        "\n",
        "samples_model5 = predictive_y_censored(torch.Tensor(x_test.reshape(3000, 1)))\n",
        "\n",
        "pred_summary_model5 = summary(samples_model5)\n",
        "y_truncated_predicted = pred_summary_model5[\"obs\"]\n",
        "weights_truncated_predicted = pred_summary_model5[\"linear.weight\"]\n",
        "\n",
        "y_truncated_pred = y_truncated_predicted['mean']\n",
        "y_truncated_perc_5 = y_truncated_predicted[\"5%\"]\n",
        "y_truncated_perc_95 = y_truncated_predicted[\"95%\"]"
      ],
      "metadata": {
        "id": "Mc874hYTFM4j"
      },
      "execution_count": 427,
      "outputs": []
    },
    {
      "cell_type": "code",
      "source": [
        "\n",
        "fig, ax = plt.subplots(1, 2, figsize=(12, 4))\n",
        "\n",
        "for ax_ in ax:\n",
        "  ax_.plot(x, y, \".\", alpha=0.6, c=[0.7, 0.7, 0.7])\n",
        "  ax_.axhline(lower_bound, c='red', ls=\"--\")\n",
        "  ax_.axhline(upper_bound, c='red', ls=\"--\")\n",
        "  ax_.set(xlabel=\"x\", ylabel=\"y\")\n",
        "\n",
        "ax[0].plot(x_test, y_pred, color=sns.color_palette()[1], ls=\":\", label='all data')\n",
        "ax[0].fill_between(x_test, y_perc_5, y_perc_95, alpha=0.1, color=sns.color_palette()[1])\n",
        "\n",
        "_ = ax[0].set(title=\"Censored data\")\n",
        "ax[0].plot(x.squeeze().numpy(), y_censored.numpy(), \".\", c='black', alpha=0.4)\n",
        "ax[0].plot(x_test, y_censored_pred, color=sns.color_palette()[0], label='censored')\n",
        "ax[0].fill_between(x_test, y_censored_perc_5, y_censored_perc_95, alpha=0.1, color=sns.color_palette()[0])\n",
        "\n",
        "ax[1].plot(x_test, y_pred, color=sns.color_palette()[1], ls=\":\", label='all data')\n",
        "ax[1].fill_between(x_test, y_perc_5, y_perc_95, alpha=0.1, color=sns.color_palette()[1])\n",
        "\n",
        "_ = ax[1].set(title=\"Truncated data\")\n",
        "ax[1].plot(x_truncated.numpy(), y_truncated.numpy(), \".\", c='black', alpha=0.4)\n",
        "ax[1].plot(x_test, y_truncated_pred, color=sns.color_palette()[2], label='truncated')\n",
        "ax[1].fill_between(x_test, y_truncated_perc_5, y_truncated_perc_95, alpha=0.1, color=sns.color_palette()[2])\n",
        "\n",
        "\n",
        "ax[0].legend(loc='upper left')\n",
        "ax[1].legend(loc='upper left')"
      ],
      "metadata": {
        "id": "_UluDkP5tagX",
        "outputId": "be6650a2-5572-4dd3-c5ef-85ff2161c4c3",
        "colab": {
          "base_uri": "https://localhost:8080/",
          "height": 428
        }
      },
      "execution_count": 434,
      "outputs": [
        {
          "output_type": "execute_result",
          "data": {
            "text/plain": [
              "<matplotlib.legend.Legend at 0x7a63978e3dc0>"
            ]
          },
          "metadata": {},
          "execution_count": 434
        },
        {
          "output_type": "display_data",
          "data": {
            "text/plain": [
              "<Figure size 1200x400 with 2 Axes>"
            ],
            "image/png": "[encoded data removed]"
          },
          "metadata": {}
        }
      ]
    },
    {
      "cell_type": "markdown",
      "source": [
        "#### Posteriors Investigation"
      ],
      "metadata": {
        "id": "1uADqxGY3z0Z"
      }
    },
    {
      "cell_type": "code",
      "source": [
        "# Visualize uncensored, censored and truncated data\n",
        "param_ = 'linear.bias'\n",
        "_, ax = plt.subplots(1,3, figsize=(12, 4))\n",
        "ax[0].hist(samples_model3[param_].squeeze(), density=True, bins=30, alpha=0.4, color=sns.color_palette()[1], label=\"all data\")\n",
        "[ax[0].axvline(x=x, c=\"grey\", ls=\"--\") for x in guide3.quantiles([0.05, 0.95])[param_].squeeze()]\n",
        "_ = ax[0].set(title=\"all data - {}: \\nmean {: .4f}, std {: .4f}\".format(param_,\n",
        "    samples_model3[param_].squeeze().mean(), samples_model3[param_].squeeze().std()))\n",
        "\n",
        "ax[1].hist(samples_model4[param_].squeeze(), density=True, bins=30, alpha=0.4, color=sns.color_palette()[0],  label=\"censored\")\n",
        "[ax[1].axvline(x=x, c=\"grey\", ls=\"--\") for x in guide4.quantiles([0.05, 0.95])[param_].squeeze()]\n",
        "_ = ax[1].set(title=\"censored - {}: \\nmean {: .4f}, std {: .4f}\".format(param_,\n",
        "    samples_model4[param_].squeeze().mean(), samples_model4[param_].squeeze().std()))\n",
        "\n",
        "ax[2].hist(samples_model5[param_].squeeze(), density=True, bins=30, alpha=0.4, color=sns.color_palette()[2], label=\"truncated\")\n",
        "[ax[2].axvline(x=x, c=\"grey\", ls=\"--\") for x in guide5.quantiles([0.05, 0.95])[param_].squeeze()]\n",
        "_ = ax[2].set(title=\"truncated - {}: \\nmean {: .4f}, std {: .4f} \".format(param_,\n",
        "   samples_model5[param_].squeeze().mean(), samples_model5[param_].squeeze().std()))"
      ],
      "metadata": {
        "id": "Xrw_vwQQP6LN",
        "outputId": "6232b935-e661-4736-c689-d82fb860c07e",
        "colab": {
          "base_uri": "https://localhost:8080/",
          "height": 411
        }
      },
      "execution_count": 489,
      "outputs": [
        {
          "output_type": "display_data",
          "data": {
            "text/plain": [
              "<Figure size 1200x400 with 3 Axes>"
            ],
            "image/png": "[encoded data removed]"
          },
          "metadata": {}
        }
      ]
    },
    {
      "cell_type": "code",
      "source": [
        "# Visualize uncensored, censored and truncated data\n",
        "param_ = 'linear.weight'\n",
        "_, ax = plt.subplots(1,3, figsize=(12, 4))\n",
        "ax[0].hist(samples_model3[param_].squeeze(), density=True, bins=30, alpha=0.4, color=sns.color_palette()[1], label=\"all data\")\n",
        "[ax[0].axvline(x=x, c=\"grey\", ls=\"--\") for x in guide3.quantiles([0.05, 0.95])[param_].squeeze()]\n",
        "_ = ax[0].set(title=\"all data - {}: \\nmean {: .4f}, std {: .4f}\".format(param_,\n",
        "    samples_model3[param_].squeeze().mean(), samples_model3[param_].squeeze().std()))\n",
        "\n",
        "ax[1].hist(samples_model4[param_].squeeze(), density=True, bins=30, alpha=0.4, color=sns.color_palette()[0],  label=\"censored\")\n",
        "[ax[1].axvline(x=x, c=\"grey\", ls=\"--\") for x in guide4.quantiles([0.05, 0.95])[param_].squeeze()]\n",
        "_ = ax[1].set(title=\"censored - {}: \\nmean {: .4f}, std {: .4f}\".format(param_,\n",
        "    samples_model4[param_].squeeze().mean(), samples_model4[param_].squeeze().std()))\n",
        "\n",
        "ax[2].hist(samples_model5[param_].squeeze(), density=True, bins=30, alpha=0.4, color=sns.color_palette()[2], label=\"truncated\")\n",
        "[ax[2].axvline(x=x, c=\"grey\", ls=\"--\") for x in guide5.quantiles([0.05, 0.95])[param_].squeeze()]\n",
        "_ = ax[2].set(title=\"truncated - {}: \\nmean {: .4f}, std {: .4f} \".format(param_,\n",
        "   samples_model5[param_].squeeze().mean(), samples_model5[param_].squeeze().std()))"
      ],
      "metadata": {
        "id": "JzmwhwgZNq4M",
        "outputId": "7c37b150-5ae8-48f5-fd53-99b1928cd561",
        "colab": {
          "base_uri": "https://localhost:8080/",
          "height": 411
        }
      },
      "execution_count": 488,
      "outputs": [
        {
          "output_type": "display_data",
          "data": {
            "text/plain": [
              "<Figure size 1200x400 with 3 Axes>"
            ],
            "image/png": "[encoded data removed]"
          },
          "metadata": {}
        }
      ]
    },
    {
      "cell_type": "code",
      "source": [
        "# Visualize uncensored, censored and truncated data\n",
        "param_ = 'sigma'\n",
        "_, ax = plt.subplots(1,3, figsize=(12, 4))\n",
        "ax[0].hist(samples_model3[param_].squeeze(), density=True, bins=30, alpha=0.4, color=sns.color_palette()[1], label=\"all data\")\n",
        "[ax[0].axvline(x=x, c=\"grey\", ls=\"--\") for x in guide3.quantiles([0.05, 0.95])[param_].squeeze()]\n",
        "_ = ax[0].set(title=\"all data - {}: \\nmean {: .4f}, std {: .4f}\".format(param_,\n",
        "    samples_model3[param_].squeeze().mean(), samples_model3[param_].squeeze().std()))\n",
        "\n",
        "ax[1].hist(samples_model4[param_].squeeze(), density=True, bins=30, alpha=0.4, color=sns.color_palette()[0],  label=\"censored\")\n",
        "[ax[1].axvline(x=x, c=\"grey\", ls=\"--\") for x in guide4.quantiles([0.05, 0.95])[param_].squeeze()]\n",
        "_ = ax[1].set(title=\"censored - {}: \\nmean {: .4f}, std {: .4f}\".format(param_,\n",
        "    samples_model4[param_].squeeze().mean(), samples_model4[param_].squeeze().std()))\n",
        "\n",
        "ax[2].hist(samples_model5[param_].squeeze(), density=True, bins=30, alpha=0.4, color=sns.color_palette()[2], label=\"truncated\")\n",
        "[ax[2].axvline(x=x, c=\"grey\", ls=\"--\") for x in guide5.quantiles([0.05, 0.95])[param_].squeeze()]\n",
        "_ = ax[2].set(title=\"truncated - {}: \\nmean {: .4f}, std {: .4f} \".format(param_,\n",
        "   samples_model5[param_].squeeze().mean(), samples_model5[param_].squeeze().std()))\n"
      ],
      "metadata": {
        "colab": {
          "base_uri": "https://localhost:8080/",
          "height": 411
        },
        "id": "jGrKEbs2PhZC",
        "outputId": "f9d431cf-c9f0-4972-df88-3e507edfc6fe"
      },
      "execution_count": 487,
      "outputs": [
        {
          "output_type": "display_data",
          "data": {
            "text/plain": [
              "<Figure size 1200x400 with 3 Axes>"
            ],
            "image/png": "[encoded data removed]"
          },
          "metadata": {}
        }
      ]
    },
    {
      "cell_type": "code",
      "source": [],
      "metadata": {
        "id": "vdl3_5FvP322"
      },
      "execution_count": null,
      "outputs": []
    }
  ]
}