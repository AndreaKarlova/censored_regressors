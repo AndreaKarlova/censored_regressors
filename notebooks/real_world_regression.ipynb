{
  "nbformat": 4,
  "nbformat_minor": 0,
  "metadata": {
    "colab": {
      "provenance": [],
      "toc_visible": true,
      "authorship_tag": "ABX9TyPXfjETQofR+VaT8tSFHoOf",
      "include_colab_link": true
    },
    "kernelspec": {
      "name": "python3",
      "display_name": "Python 3"
    },
    "language_info": {
      "name": "python"
    }
  },
  "cells": [
    {
      "cell_type": "markdown",
      "metadata": {
        "id": "view-in-github",
        "colab_type": "text"
      },
      "source": [
        "<a href=\"https://colab.research.google.com/github/AndreaKarlova/censored_regressors/blob/main/notebooks/real_world_regression.ipynb\" target=\"_parent\"><img src=\"https://colab.research.google.com/assets/colab-badge.svg\" alt=\"Open In Colab\"/></a>"
      ]
    },
    {
      "cell_type": "code",
      "execution_count": null,
      "metadata": {
        "id": "Gh_fxrApqlBl",
        "colab": {
          "base_uri": "https://localhost:8080/"
        },
        "outputId": "789554b8-cdf6-429e-9014-37b3741748f0"
      },
      "outputs": [
        {
          "output_type": "stream",
          "name": "stdout",
          "text": [
            "\u001b[2K     \u001b[90m━━━━━━━━━━━━━━━━━━━━━━━━━━━━━━━━━━━━━━━━\u001b[0m \u001b[32m266.1/266.1 kB\u001b[0m \u001b[31m1.5 MB/s\u001b[0m eta \u001b[36m0:00:00\u001b[0m\n",
            "\u001b[2K     \u001b[90m━━━━━━━━━━━━━━━━━━━━━━━━━━━━━━━━━━━━━━━━\u001b[0m \u001b[32m175.6/175.6 kB\u001b[0m \u001b[31m16.2 MB/s\u001b[0m eta \u001b[36m0:00:00\u001b[0m\n",
            "\u001b[2K     \u001b[90m━━━━━━━━━━━━━━━━━━━━━━━━━━━━━━━━━━━━━━━━\u001b[0m \u001b[32m40.7/40.7 kB\u001b[0m \u001b[31m2.7 MB/s\u001b[0m eta \u001b[36m0:00:00\u001b[0m\n",
            "\u001b[?25h"
          ]
        }
      ],
      "source": [
        "!pip install -Uq gpytorch"
      ]
    },
    {
      "cell_type": "code",
      "source": [
        "!pip install -Uq botorch"
      ],
      "metadata": {
        "id": "s7Ud1cd0o5ie",
        "colab": {
          "base_uri": "https://localhost:8080/"
        },
        "outputId": "0dd49f0a-bf5d-46fc-f94d-529b12793c50"
      },
      "execution_count": null,
      "outputs": [
        {
          "output_type": "stream",
          "name": "stdout",
          "text": [
            "\u001b[2K     \u001b[90m━━━━━━━━━━━━━━━━━━━━━━━━━━━━━━━━━━━━━━━━\u001b[0m \u001b[32m625.0/625.0 kB\u001b[0m \u001b[31m9.5 MB/s\u001b[0m eta \u001b[36m0:00:00\u001b[0m\n",
            "\u001b[2K     \u001b[90m━━━━━━━━━━━━━━━━━━━━━━━━━━━━━━━━━━━━━━━━\u001b[0m \u001b[32m745.2/745.2 kB\u001b[0m \u001b[31m34.7 MB/s\u001b[0m eta \u001b[36m0:00:00\u001b[0m\n",
            "\u001b[2K     \u001b[90m━━━━━━━━━━━━━━━━━━━━━━━━━━━━━━━━━━━━━━━━\u001b[0m \u001b[32m174.5/174.5 kB\u001b[0m \u001b[31m14.8 MB/s\u001b[0m eta \u001b[36m0:00:00\u001b[0m\n",
            "\u001b[?25h"
          ]
        }
      ]
    },
    {
      "cell_type": "code",
      "execution_count": null,
      "metadata": {
        "colab": {
          "base_uri": "https://localhost:8080/"
        },
        "id": "jYInCMPn6Xf6",
        "outputId": "acd23b19-32ee-4209-be2f-e216eaf3d788"
      },
      "outputs": [
        {
          "output_type": "stream",
          "name": "stdout",
          "text": [
            "Cloning into 'censored_regressors'...\n",
            "remote: Enumerating objects: 162, done.\u001b[K\n",
            "remote: Counting objects: 100% (162/162), done.\u001b[K\n",
            "remote: Compressing objects: 100% (128/128), done.\u001b[K\n",
            "remote: Total 162 (delta 75), reused 108 (delta 30), pack-reused 0\u001b[K\n",
            "Receiving objects: 100% (162/162), 21.28 MiB | 25.46 MiB/s, done.\n",
            "Resolving deltas: 100% (75/75), done.\n"
          ]
        }
      ],
      "source": [
        "!rm -rf censored_regressors\n",
        "!git clone https://github.com/AndreaKarlova/censored_regressors.git"
      ]
    },
    {
      "cell_type": "code",
      "execution_count": null,
      "metadata": {
        "id": "EfRwvQMpttWI"
      },
      "outputs": [],
      "source": [
        "import tqdm\n",
        "import math\n",
        "import torch\n",
        "import numpy as np\n",
        "import gpytorch\n",
        "import pandas as pd\n",
        "from matplotlib import pyplot as plt"
      ]
    },
    {
      "cell_type": "code",
      "execution_count": null,
      "metadata": {
        "id": "w4MUmvskLP0w"
      },
      "outputs": [],
      "source": [
        "import math\n",
        "from numbers import Number, Real\n",
        "\n",
        "import botorch\n",
        "import torch\n",
        "from torch.distributions import constraints\n",
        "from torch.distributions.exp_family import ExponentialFamily\n",
        "from torch.distributions.utils import _standard_normal, broadcast_all\n",
        "\n",
        "import importlib\n",
        "from censored_regressors.src.censored_normal import CensoredNormal\n",
        "from censored_regressors.src.censored_likelihood import CensoredGaussianLikelihood, CensoredGaussianLikelihoodAnalytic, CensoredGaussianLikelihoodMathematica"
      ]
    },
    {
      "cell_type": "code",
      "execution_count": null,
      "metadata": {
        "id": "roc6L9a_To9F"
      },
      "outputs": [],
      "source": [
        "import warnings\n",
        "from typing import Any\n",
        "\n",
        "import torch\n",
        "from linear_operator.operators import LinearOperator, ZeroLinearOperator\n",
        "from torch import Tensor\n",
        "from torch.distributions import Distribution, Normal\n",
        "\n",
        "from gpytorch.constraints import Interval\n",
        "from gpytorch.distributions import base_distributions, MultivariateNormal\n",
        "from gpytorch.priors import Prior\n",
        "from gpytorch.utils.warnings import GPInputWarning\n",
        "from gpytorch.likelihoods.likelihood import _Likelihood, _OneDimensionalLikelihood"
      ]
    },
    {
      "cell_type": "code",
      "execution_count": null,
      "metadata": {
        "id": "dQUyEobiw9sZ"
      },
      "outputs": [],
      "source": [
        "import pandas as pd"
      ]
    },
    {
      "cell_type": "markdown",
      "source": [
        "# Credit Risk"
      ],
      "metadata": {
        "id": "n5UAa-tnyTTv"
      }
    },
    {
      "cell_type": "code",
      "source": [
        "df = pd.read_csv('https://github.com/square/pysurvival/raw/master/pysurvival/datasets/credit_risk.csv')"
      ],
      "metadata": {
        "id": "g6lVqkGNxBXs"
      },
      "execution_count": null,
      "outputs": []
    },
    {
      "cell_type": "code",
      "source": [
        "df"
      ],
      "metadata": {
        "colab": {
          "base_uri": "https://localhost:8080/",
          "height": 444
        },
        "id": "T_HHYSQ8wlUM",
        "outputId": "596573dd-cfc0-467e-e0f2-93917c8d845c"
      },
      "execution_count": 15,
      "outputs": [
        {
          "output_type": "execute_result",
          "data": {
            "text/plain": [
              "    checking_account_status  duration        credit_history  \\\n",
              "0                   below_0         6      critical_account   \n",
              "1                  0_to_200        48  existing_credit_paid   \n",
              "2                no_account        12      critical_account   \n",
              "3                   below_0        42  existing_credit_paid   \n",
              "4                   below_0        24       delay_in_paying   \n",
              "..                      ...       ...                   ...   \n",
              "995              no_account        12  existing_credit_paid   \n",
              "996                 below_0        30  existing_credit_paid   \n",
              "997              no_account        12  existing_credit_paid   \n",
              "998                 below_0        45  existing_credit_paid   \n",
              "999                0_to_200        45      critical_account   \n",
              "\n",
              "                 purpose  amount savings_account_status employment_years  \\\n",
              "0               radio_TV    1169                unknown          above_7   \n",
              "1               radio_TV    5951              below_100      between_1_4   \n",
              "2              education    2096              below_100      between_4_7   \n",
              "3    furniture_equipment    7882              below_100      between_4_7   \n",
              "4                car_new    4870              below_100      between_1_4   \n",
              "..                   ...     ...                    ...              ...   \n",
              "995  furniture_equipment    1736              below_100      between_4_7   \n",
              "996             car_used    3857              below_100      between_1_4   \n",
              "997             radio_TV     804              below_100          above_7   \n",
              "998             radio_TV    1845              below_100      between_1_4   \n",
              "999             car_used    4576        between_100_500       unemployed   \n",
              "\n",
              "     installment_rate personal_status other_debtors  ...          property  \\\n",
              "0                   4        M_single           NaN  ...      real_estate    \n",
              "1                   2    F_not_single           NaN  ...      real_estate    \n",
              "2                   2        M_single           NaN  ...      real_estate    \n",
              "3                   2        M_single     guarantor  ...  life_insurance     \n",
              "4                   3        M_single           NaN  ...       no_property   \n",
              "..                ...             ...           ...  ...               ...   \n",
              "995                 3    F_not_single           NaN  ...      real_estate    \n",
              "996                 4      M_divorced           NaN  ...  life_insurance     \n",
              "997                 4        M_single           NaN  ...             other   \n",
              "998                 4        M_single           NaN  ...       no_property   \n",
              "999                 3        M_single           NaN  ...             other   \n",
              "\n",
              "    age  other_installment_plans housing number_of_credits         job  \\\n",
              "0    67                      NaN     own                 2    official   \n",
              "1    22                      NaN     own                 1    official   \n",
              "2    49                      NaN     own                 1   unskilled   \n",
              "3    45                      NaN    free                 1    official   \n",
              "4    53                      NaN    free                 2    official   \n",
              "..   ..                      ...     ...               ...         ...   \n",
              "995  31                      NaN     own                 1   unskilled   \n",
              "996  40                      NaN     own                 1  management   \n",
              "997  38                      NaN     own                 1    official   \n",
              "998  23                      NaN    free                 1    official   \n",
              "999  27                      NaN     own                 1    official   \n",
              "\n",
              "    people_liable  telephone  foreign_worker  full_repaid  \n",
              "0               1          1               1            1  \n",
              "1               1          0               1            0  \n",
              "2               2          0               1            1  \n",
              "3               2          0               1            1  \n",
              "4               2          0               1            0  \n",
              "..            ...        ...             ...          ...  \n",
              "995             1          0               1            1  \n",
              "996             1          1               1            1  \n",
              "997             1          0               1            1  \n",
              "998             1          1               1            0  \n",
              "999             1          0               1            1  \n",
              "\n",
              "[1000 rows x 21 columns]"
            ],
            "text/html": [
              "\n",
              "  <div id=\"df-bc24f162-9f32-45d0-ad6c-9f600b2bd082\" class=\"colab-df-container\">\n",
              "    <div>\n",
              "<style scoped>\n",
              "    .dataframe tbody tr th:only-of-type {\n",
              "        vertical-align: middle;\n",
              "    }\n",
              "\n",
              "    .dataframe tbody tr th {\n",
              "        vertical-align: top;\n",
              "    }\n",
              "\n",
              "    .dataframe thead th {\n",
              "        text-align: right;\n",
              "    }\n",
              "</style>\n",
              "<table border=\"1\" class=\"dataframe\">\n",
              "  <thead>\n",
              "    <tr style=\"text-align: right;\">\n",
              "      <th></th>\n",
              "      <th>checking_account_status</th>\n",
              "      <th>duration</th>\n",
              "      <th>credit_history</th>\n",
              "      <th>purpose</th>\n",
              "      <th>amount</th>\n",
              "      <th>savings_account_status</th>\n",
              "      <th>employment_years</th>\n",
              "      <th>installment_rate</th>\n",
              "      <th>personal_status</th>\n",
              "      <th>other_debtors</th>\n",
              "      <th>...</th>\n",
              "      <th>property</th>\n",
              "      <th>age</th>\n",
              "      <th>other_installment_plans</th>\n",
              "      <th>housing</th>\n",
              "      <th>number_of_credits</th>\n",
              "      <th>job</th>\n",
              "      <th>people_liable</th>\n",
              "      <th>telephone</th>\n",
              "      <th>foreign_worker</th>\n",
              "      <th>full_repaid</th>\n",
              "    </tr>\n",
              "  </thead>\n",
              "  <tbody>\n",
              "    <tr>\n",
              "      <th>0</th>\n",
              "      <td>below_0</td>\n",
              "      <td>6</td>\n",
              "      <td>critical_account</td>\n",
              "      <td>radio_TV</td>\n",
              "      <td>1169</td>\n",
              "      <td>unknown</td>\n",
              "      <td>above_7</td>\n",
              "      <td>4</td>\n",
              "      <td>M_single</td>\n",
              "      <td>NaN</td>\n",
              "      <td>...</td>\n",
              "      <td>real_estate</td>\n",
              "      <td>67</td>\n",
              "      <td>NaN</td>\n",
              "      <td>own</td>\n",
              "      <td>2</td>\n",
              "      <td>official</td>\n",
              "      <td>1</td>\n",
              "      <td>1</td>\n",
              "      <td>1</td>\n",
              "      <td>1</td>\n",
              "    </tr>\n",
              "    <tr>\n",
              "      <th>1</th>\n",
              "      <td>0_to_200</td>\n",
              "      <td>48</td>\n",
              "      <td>existing_credit_paid</td>\n",
              "      <td>radio_TV</td>\n",
              "      <td>5951</td>\n",
              "      <td>below_100</td>\n",
              "      <td>between_1_4</td>\n",
              "      <td>2</td>\n",
              "      <td>F_not_single</td>\n",
              "      <td>NaN</td>\n",
              "      <td>...</td>\n",
              "      <td>real_estate</td>\n",
              "      <td>22</td>\n",
              "      <td>NaN</td>\n",
              "      <td>own</td>\n",
              "      <td>1</td>\n",
              "      <td>official</td>\n",
              "      <td>1</td>\n",
              "      <td>0</td>\n",
              "      <td>1</td>\n",
              "      <td>0</td>\n",
              "    </tr>\n",
              "    <tr>\n",
              "      <th>2</th>\n",
              "      <td>no_account</td>\n",
              "      <td>12</td>\n",
              "      <td>critical_account</td>\n",
              "      <td>education</td>\n",
              "      <td>2096</td>\n",
              "      <td>below_100</td>\n",
              "      <td>between_4_7</td>\n",
              "      <td>2</td>\n",
              "      <td>M_single</td>\n",
              "      <td>NaN</td>\n",
              "      <td>...</td>\n",
              "      <td>real_estate</td>\n",
              "      <td>49</td>\n",
              "      <td>NaN</td>\n",
              "      <td>own</td>\n",
              "      <td>1</td>\n",
              "      <td>unskilled</td>\n",
              "      <td>2</td>\n",
              "      <td>0</td>\n",
              "      <td>1</td>\n",
              "      <td>1</td>\n",
              "    </tr>\n",
              "    <tr>\n",
              "      <th>3</th>\n",
              "      <td>below_0</td>\n",
              "      <td>42</td>\n",
              "      <td>existing_credit_paid</td>\n",
              "      <td>furniture_equipment</td>\n",
              "      <td>7882</td>\n",
              "      <td>below_100</td>\n",
              "      <td>between_4_7</td>\n",
              "      <td>2</td>\n",
              "      <td>M_single</td>\n",
              "      <td>guarantor</td>\n",
              "      <td>...</td>\n",
              "      <td>life_insurance</td>\n",
              "      <td>45</td>\n",
              "      <td>NaN</td>\n",
              "      <td>free</td>\n",
              "      <td>1</td>\n",
              "      <td>official</td>\n",
              "      <td>2</td>\n",
              "      <td>0</td>\n",
              "      <td>1</td>\n",
              "      <td>1</td>\n",
              "    </tr>\n",
              "    <tr>\n",
              "      <th>4</th>\n",
              "      <td>below_0</td>\n",
              "      <td>24</td>\n",
              "      <td>delay_in_paying</td>\n",
              "      <td>car_new</td>\n",
              "      <td>4870</td>\n",
              "      <td>below_100</td>\n",
              "      <td>between_1_4</td>\n",
              "      <td>3</td>\n",
              "      <td>M_single</td>\n",
              "      <td>NaN</td>\n",
              "      <td>...</td>\n",
              "      <td>no_property</td>\n",
              "      <td>53</td>\n",
              "      <td>NaN</td>\n",
              "      <td>free</td>\n",
              "      <td>2</td>\n",
              "      <td>official</td>\n",
              "      <td>2</td>\n",
              "      <td>0</td>\n",
              "      <td>1</td>\n",
              "      <td>0</td>\n",
              "    </tr>\n",
              "    <tr>\n",
              "      <th>...</th>\n",
              "      <td>...</td>\n",
              "      <td>...</td>\n",
              "      <td>...</td>\n",
              "      <td>...</td>\n",
              "      <td>...</td>\n",
              "      <td>...</td>\n",
              "      <td>...</td>\n",
              "      <td>...</td>\n",
              "      <td>...</td>\n",
              "      <td>...</td>\n",
              "      <td>...</td>\n",
              "      <td>...</td>\n",
              "      <td>...</td>\n",
              "      <td>...</td>\n",
              "      <td>...</td>\n",
              "      <td>...</td>\n",
              "      <td>...</td>\n",
              "      <td>...</td>\n",
              "      <td>...</td>\n",
              "      <td>...</td>\n",
              "      <td>...</td>\n",
              "    </tr>\n",
              "    <tr>\n",
              "      <th>995</th>\n",
              "      <td>no_account</td>\n",
              "      <td>12</td>\n",
              "      <td>existing_credit_paid</td>\n",
              "      <td>furniture_equipment</td>\n",
              "      <td>1736</td>\n",
              "      <td>below_100</td>\n",
              "      <td>between_4_7</td>\n",
              "      <td>3</td>\n",
              "      <td>F_not_single</td>\n",
              "      <td>NaN</td>\n",
              "      <td>...</td>\n",
              "      <td>real_estate</td>\n",
              "      <td>31</td>\n",
              "      <td>NaN</td>\n",
              "      <td>own</td>\n",
              "      <td>1</td>\n",
              "      <td>unskilled</td>\n",
              "      <td>1</td>\n",
              "      <td>0</td>\n",
              "      <td>1</td>\n",
              "      <td>1</td>\n",
              "    </tr>\n",
              "    <tr>\n",
              "      <th>996</th>\n",
              "      <td>below_0</td>\n",
              "      <td>30</td>\n",
              "      <td>existing_credit_paid</td>\n",
              "      <td>car_used</td>\n",
              "      <td>3857</td>\n",
              "      <td>below_100</td>\n",
              "      <td>between_1_4</td>\n",
              "      <td>4</td>\n",
              "      <td>M_divorced</td>\n",
              "      <td>NaN</td>\n",
              "      <td>...</td>\n",
              "      <td>life_insurance</td>\n",
              "      <td>40</td>\n",
              "      <td>NaN</td>\n",
              "      <td>own</td>\n",
              "      <td>1</td>\n",
              "      <td>management</td>\n",
              "      <td>1</td>\n",
              "      <td>1</td>\n",
              "      <td>1</td>\n",
              "      <td>1</td>\n",
              "    </tr>\n",
              "    <tr>\n",
              "      <th>997</th>\n",
              "      <td>no_account</td>\n",
              "      <td>12</td>\n",
              "      <td>existing_credit_paid</td>\n",
              "      <td>radio_TV</td>\n",
              "      <td>804</td>\n",
              "      <td>below_100</td>\n",
              "      <td>above_7</td>\n",
              "      <td>4</td>\n",
              "      <td>M_single</td>\n",
              "      <td>NaN</td>\n",
              "      <td>...</td>\n",
              "      <td>other</td>\n",
              "      <td>38</td>\n",
              "      <td>NaN</td>\n",
              "      <td>own</td>\n",
              "      <td>1</td>\n",
              "      <td>official</td>\n",
              "      <td>1</td>\n",
              "      <td>0</td>\n",
              "      <td>1</td>\n",
              "      <td>1</td>\n",
              "    </tr>\n",
              "    <tr>\n",
              "      <th>998</th>\n",
              "      <td>below_0</td>\n",
              "      <td>45</td>\n",
              "      <td>existing_credit_paid</td>\n",
              "      <td>radio_TV</td>\n",
              "      <td>1845</td>\n",
              "      <td>below_100</td>\n",
              "      <td>between_1_4</td>\n",
              "      <td>4</td>\n",
              "      <td>M_single</td>\n",
              "      <td>NaN</td>\n",
              "      <td>...</td>\n",
              "      <td>no_property</td>\n",
              "      <td>23</td>\n",
              "      <td>NaN</td>\n",
              "      <td>free</td>\n",
              "      <td>1</td>\n",
              "      <td>official</td>\n",
              "      <td>1</td>\n",
              "      <td>1</td>\n",
              "      <td>1</td>\n",
              "      <td>0</td>\n",
              "    </tr>\n",
              "    <tr>\n",
              "      <th>999</th>\n",
              "      <td>0_to_200</td>\n",
              "      <td>45</td>\n",
              "      <td>critical_account</td>\n",
              "      <td>car_used</td>\n",
              "      <td>4576</td>\n",
              "      <td>between_100_500</td>\n",
              "      <td>unemployed</td>\n",
              "      <td>3</td>\n",
              "      <td>M_single</td>\n",
              "      <td>NaN</td>\n",
              "      <td>...</td>\n",
              "      <td>other</td>\n",
              "      <td>27</td>\n",
              "      <td>NaN</td>\n",
              "      <td>own</td>\n",
              "      <td>1</td>\n",
              "      <td>official</td>\n",
              "      <td>1</td>\n",
              "      <td>0</td>\n",
              "      <td>1</td>\n",
              "      <td>1</td>\n",
              "    </tr>\n",
              "  </tbody>\n",
              "</table>\n",
              "<p>1000 rows × 21 columns</p>\n",
              "</div>\n",
              "    <div class=\"colab-df-buttons\">\n",
              "\n",
              "  <div class=\"colab-df-container\">\n",
              "    <button class=\"colab-df-convert\" onclick=\"convertToInteractive('df-bc24f162-9f32-45d0-ad6c-9f600b2bd082')\"\n",
              "            title=\"Convert this dataframe to an interactive table.\"\n",
              "            style=\"display:none;\">\n",
              "\n",
              "  <svg xmlns=\"http://www.w3.org/2000/svg\" height=\"24px\" viewBox=\"0 -960 960 960\">\n",
              "    <path d=\"M120-120v-720h720v720H120Zm60-500h600v-160H180v160Zm220 220h160v-160H400v160Zm0 220h160v-160H400v160ZM180-400h160v-160H180v160Zm440 0h160v-160H620v160ZM180-180h160v-160H180v160Zm440 0h160v-160H620v160Z\"/>\n",
              "  </svg>\n",
              "    </button>\n",
              "\n",
              "  <style>\n",
              "    .colab-df-container {\n",
              "      display:flex;\n",
              "      gap: 12px;\n",
              "    }\n",
              "\n",
              "    .colab-df-convert {\n",
              "      background-color: #E8F0FE;\n",
              "      border: none;\n",
              "      border-radius: 50%;\n",
              "      cursor: pointer;\n",
              "      display: none;\n",
              "      fill: #1967D2;\n",
              "      height: 32px;\n",
              "      padding: 0 0 0 0;\n",
              "      width: 32px;\n",
              "    }\n",
              "\n",
              "    .colab-df-convert:hover {\n",
              "      background-color: #E2EBFA;\n",
              "      box-shadow: 0px 1px 2px rgba(60, 64, 67, 0.3), 0px 1px 3px 1px rgba(60, 64, 67, 0.15);\n",
              "      fill: #174EA6;\n",
              "    }\n",
              "\n",
              "    .colab-df-buttons div {\n",
              "      margin-bottom: 4px;\n",
              "    }\n",
              "\n",
              "    [theme=dark] .colab-df-convert {\n",
              "      background-color: #3B4455;\n",
              "      fill: #D2E3FC;\n",
              "    }\n",
              "\n",
              "    [theme=dark] .colab-df-convert:hover {\n",
              "      background-color: #434B5C;\n",
              "      box-shadow: 0px 1px 3px 1px rgba(0, 0, 0, 0.15);\n",
              "      filter: drop-shadow(0px 1px 2px rgba(0, 0, 0, 0.3));\n",
              "      fill: #FFFFFF;\n",
              "    }\n",
              "  </style>\n",
              "\n",
              "    <script>\n",
              "      const buttonEl =\n",
              "        document.querySelector('#df-bc24f162-9f32-45d0-ad6c-9f600b2bd082 button.colab-df-convert');\n",
              "      buttonEl.style.display =\n",
              "        google.colab.kernel.accessAllowed ? 'block' : 'none';\n",
              "\n",
              "      async function convertToInteractive(key) {\n",
              "        const element = document.querySelector('#df-bc24f162-9f32-45d0-ad6c-9f600b2bd082');\n",
              "        const dataTable =\n",
              "          await google.colab.kernel.invokeFunction('convertToInteractive',\n",
              "                                                    [key], {});\n",
              "        if (!dataTable) return;\n",
              "\n",
              "        const docLinkHtml = 'Like what you see? Visit the ' +\n",
              "          '<a target=\"_blank\" href=https://colab.research.google.com/notebooks/data_table.ipynb>data table notebook</a>'\n",
              "          + ' to learn more about interactive tables.';\n",
              "        element.innerHTML = '';\n",
              "        dataTable['output_type'] = 'display_data';\n",
              "        await google.colab.output.renderOutput(dataTable, element);\n",
              "        const docLink = document.createElement('div');\n",
              "        docLink.innerHTML = docLinkHtml;\n",
              "        element.appendChild(docLink);\n",
              "      }\n",
              "    </script>\n",
              "  </div>\n",
              "\n",
              "\n",
              "<div id=\"df-e974f8e9-2980-4036-b94e-04e402fad71b\">\n",
              "  <button class=\"colab-df-quickchart\" onclick=\"quickchart('df-e974f8e9-2980-4036-b94e-04e402fad71b')\"\n",
              "            title=\"Suggest charts\"\n",
              "            style=\"display:none;\">\n",
              "\n",
              "<svg xmlns=\"http://www.w3.org/2000/svg\" height=\"24px\"viewBox=\"0 0 24 24\"\n",
              "     width=\"24px\">\n",
              "    <g>\n",
              "        <path d=\"M19 3H5c-1.1 0-2 .9-2 2v14c0 1.1.9 2 2 2h14c1.1 0 2-.9 2-2V5c0-1.1-.9-2-2-2zM9 17H7v-7h2v7zm4 0h-2V7h2v10zm4 0h-2v-4h2v4z\"/>\n",
              "    </g>\n",
              "</svg>\n",
              "  </button>\n",
              "\n",
              "<style>\n",
              "  .colab-df-quickchart {\n",
              "      --bg-color: #E8F0FE;\n",
              "      --fill-color: #1967D2;\n",
              "      --hover-bg-color: #E2EBFA;\n",
              "      --hover-fill-color: #174EA6;\n",
              "      --disabled-fill-color: #AAA;\n",
              "      --disabled-bg-color: #DDD;\n",
              "  }\n",
              "\n",
              "  [theme=dark] .colab-df-quickchart {\n",
              "      --bg-color: #3B4455;\n",
              "      --fill-color: #D2E3FC;\n",
              "      --hover-bg-color: #434B5C;\n",
              "      --hover-fill-color: #FFFFFF;\n",
              "      --disabled-bg-color: #3B4455;\n",
              "      --disabled-fill-color: #666;\n",
              "  }\n",
              "\n",
              "  .colab-df-quickchart {\n",
              "    background-color: var(--bg-color);\n",
              "    border: none;\n",
              "    border-radius: 50%;\n",
              "    cursor: pointer;\n",
              "    display: none;\n",
              "    fill: var(--fill-color);\n",
              "    height: 32px;\n",
              "    padding: 0;\n",
              "    width: 32px;\n",
              "  }\n",
              "\n",
              "  .colab-df-quickchart:hover {\n",
              "    background-color: var(--hover-bg-color);\n",
              "    box-shadow: 0 1px 2px rgba(60, 64, 67, 0.3), 0 1px 3px 1px rgba(60, 64, 67, 0.15);\n",
              "    fill: var(--button-hover-fill-color);\n",
              "  }\n",
              "\n",
              "  .colab-df-quickchart-complete:disabled,\n",
              "  .colab-df-quickchart-complete:disabled:hover {\n",
              "    background-color: var(--disabled-bg-color);\n",
              "    fill: var(--disabled-fill-color);\n",
              "    box-shadow: none;\n",
              "  }\n",
              "\n",
              "  .colab-df-spinner {\n",
              "    border: 2px solid var(--fill-color);\n",
              "    border-color: transparent;\n",
              "    border-bottom-color: var(--fill-color);\n",
              "    animation:\n",
              "      spin 1s steps(1) infinite;\n",
              "  }\n",
              "\n",
              "  @keyframes spin {\n",
              "    0% {\n",
              "      border-color: transparent;\n",
              "      border-bottom-color: var(--fill-color);\n",
              "      border-left-color: var(--fill-color);\n",
              "    }\n",
              "    20% {\n",
              "      border-color: transparent;\n",
              "      border-left-color: var(--fill-color);\n",
              "      border-top-color: var(--fill-color);\n",
              "    }\n",
              "    30% {\n",
              "      border-color: transparent;\n",
              "      border-left-color: var(--fill-color);\n",
              "      border-top-color: var(--fill-color);\n",
              "      border-right-color: var(--fill-color);\n",
              "    }\n",
              "    40% {\n",
              "      border-color: transparent;\n",
              "      border-right-color: var(--fill-color);\n",
              "      border-top-color: var(--fill-color);\n",
              "    }\n",
              "    60% {\n",
              "      border-color: transparent;\n",
              "      border-right-color: var(--fill-color);\n",
              "    }\n",
              "    80% {\n",
              "      border-color: transparent;\n",
              "      border-right-color: var(--fill-color);\n",
              "      border-bottom-color: var(--fill-color);\n",
              "    }\n",
              "    90% {\n",
              "      border-color: transparent;\n",
              "      border-bottom-color: var(--fill-color);\n",
              "    }\n",
              "  }\n",
              "</style>\n",
              "\n",
              "  <script>\n",
              "    async function quickchart(key) {\n",
              "      const quickchartButtonEl =\n",
              "        document.querySelector('#' + key + ' button');\n",
              "      quickchartButtonEl.disabled = true;  // To prevent multiple clicks.\n",
              "      quickchartButtonEl.classList.add('colab-df-spinner');\n",
              "      try {\n",
              "        const charts = await google.colab.kernel.invokeFunction(\n",
              "            'suggestCharts', [key], {});\n",
              "      } catch (error) {\n",
              "        console.error('Error during call to suggestCharts:', error);\n",
              "      }\n",
              "      quickchartButtonEl.classList.remove('colab-df-spinner');\n",
              "      quickchartButtonEl.classList.add('colab-df-quickchart-complete');\n",
              "    }\n",
              "    (() => {\n",
              "      let quickchartButtonEl =\n",
              "        document.querySelector('#df-e974f8e9-2980-4036-b94e-04e402fad71b button');\n",
              "      quickchartButtonEl.style.display =\n",
              "        google.colab.kernel.accessAllowed ? 'block' : 'none';\n",
              "    })();\n",
              "  </script>\n",
              "</div>\n",
              "    </div>\n",
              "  </div>\n"
            ],
            "application/vnd.google.colaboratory.intrinsic+json": {
              "type": "dataframe",
              "variable_name": "df"
            }
          },
          "metadata": {},
          "execution_count": 15
        }
      ]
    },
    {
      "cell_type": "code",
      "source": [
        "ax = df['duration'].plot(kind='hist')\n",
        "ax.set_xlabel(\"Duration from credit risk dataset\")\n",
        "ax.set_title('Histogram')"
      ],
      "metadata": {
        "colab": {
          "base_uri": "https://localhost:8080/",
          "height": 490
        },
        "id": "EXA9kohUxC3D",
        "outputId": "a22a3fad-0463-45e0-a95a-292557097e1e"
      },
      "execution_count": null,
      "outputs": [
        {
          "output_type": "execute_result",
          "data": {
            "text/plain": [
              "Text(0.5, 1.0, 'Histogram')"
            ]
          },
          "metadata": {},
          "execution_count": 5
        },
        {
          "output_type": "display_data",
          "data": {
            "text/plain": [
              "<Figure size 640x480 with 1 Axes>"
            ],
            "image/png": "[encoded data removed]"
          },
          "metadata": {}
        }
      ]
    },
    {
      "cell_type": "code",
      "source": [
        "category_columns = [\n",
        "    'checking_account_status', 'credit_history', 'purpose',\n",
        "    'savings_account_status', 'employment_years', 'personal_status',\n",
        "    'other_debtors', 'property', 'other_installment_plans', 'housing', 'job']\n",
        "dataset = pd.get_dummies(df, columns=category_columns, drop_first=True)\n",
        "\n",
        "# Creating the time and event columns\n",
        "time_column = 'duration'\n",
        "event_column = 'full_repaid'\n",
        "\n",
        "# Creating the features\n",
        "features = np.setdiff1d(dataset.columns, [time_column, event_column] ).tolist()"
      ],
      "metadata": {
        "id": "Co1w0ohkxd88"
      },
      "execution_count": 17,
      "outputs": []
    },
    {
      "cell_type": "code",
      "source": [
        "# Checking for null values\n",
        "N_null = sum(dataset[features].isnull().sum())\n",
        "print(\"The raw_dataset contains {} null values\".format(N_null)) #0 null values\n",
        "\n",
        "# Removing duplicates if there exist\n",
        "N_dupli = sum(dataset.duplicated(keep='first'))\n",
        "dataset = dataset.drop_duplicates(keep='first').reset_index(drop=True)\n",
        "print(\"The raw_dataset contains {} duplicates\".format(N_dupli))\n",
        "\n",
        "# Number of samples in the dataset\n",
        "N = dataset.shape[0]"
      ],
      "metadata": {
        "colab": {
          "base_uri": "https://localhost:8080/"
        },
        "id": "Uy9Q337RyAhE",
        "outputId": "2ace3343-5c16-4cd2-a9c8-15aa69fa6c37"
      },
      "execution_count": 22,
      "outputs": [
        {
          "output_type": "stream",
          "name": "stdout",
          "text": [
            "The raw_dataset contains 0 null values\n",
            "The raw_dataset contains 0 duplicates\n"
          ]
        }
      ]
    },
    {
      "cell_type": "code",
      "source": [
        "from sklearn.model_selection import train_test_split\n",
        "\n",
        "to_remove = ['credit_history_existing_credit_paid', 'housing_own']\n",
        "features = np.setdiff1d(features, to_remove).tolist()\n",
        "index_train, index_test = train_test_split( range(N), test_size = 0.4)\n",
        "data_train = dataset.loc[index_train].reset_index( drop = True )\n",
        "data_test  = dataset.loc[index_test].reset_index( drop = True )\n",
        "\n",
        "# Creating the X, T and E inputs\n",
        "X_train, X_test = data_train[features], data_test[features]\n",
        "T_train, T_test = data_train[time_column], data_test[time_column]\n",
        "E_train, E_test = data_train[event_column], data_test[event_column]"
      ],
      "metadata": {
        "id": "EUFSh0_uksWN"
      },
      "execution_count": 23,
      "outputs": []
    },
    {
      "cell_type": "markdown",
      "source": [
        "## Fit"
      ],
      "metadata": {
        "id": "-RcjaIBJy33K"
      }
    },
    {
      "cell_type": "code",
      "source": [
        "from gpytorch.models import ApproximateGP # handles basic variational inference\n",
        "from gpytorch.variational import MeanFieldVariationalDistribution, CholeskyVariationalDistribution # distribution of the approximation q(f)\n",
        "from gpytorch.variational import VariationalStrategy # use when larger sample - transform q(u) to q(f) over inducing points\n",
        "\n",
        "class GPModel(ApproximateGP):\n",
        "    def __init__(self, inducing_points, covariance_type='cholesky'):\n",
        "        # defines approximation\n",
        "        if covariance_type == 'cholesky':\n",
        "          variational_distribution = CholeskyVariationalDistribution(inducing_points.size(0))\n",
        "        elif covariance_type == 'mean_field':\n",
        "          variational_distribution = MeanFieldVariationalDistribution(inducing_points.size(0))\n",
        "        else:\n",
        "          raise ValueError(\"Unknown covariance_type.\")\n",
        "        variational_strategy = VariationalStrategy(self, inducing_points,\n",
        "                                                   variational_distribution, learn_inducing_locations=False)\n",
        "        super(GPModel, self).__init__(variational_strategy)\n",
        "        # defines the GP prior\n",
        "        self.mean_module = gpytorch.means.ConstantMean()\n",
        "        self.covar_module = gpytorch.kernels.ScaleKernel(gpytorch.kernels.RBFKernel())\n",
        "\n",
        "    def forward(self, x):\n",
        "        # for line in traceback.format_stack():\n",
        "        #   print(line.strip())\n",
        "        mean_x = self.mean_module(x)\n",
        "        covar_x = self.covar_module(x)\n",
        "        return gpytorch.distributions.MultivariateNormal(mean_x, covar_x)"
      ],
      "metadata": {
        "id": "Vv0YIB8Yy7Gj"
      },
      "execution_count": 28,
      "outputs": []
    },
    {
      "cell_type": "code",
      "source": [
        "y.max()"
      ],
      "metadata": {
        "colab": {
          "base_uri": "https://localhost:8080/"
        },
        "id": "8b9lV07nzdeg",
        "outputId": "f56efa73-df1d-4acf-f450-5a92e845e661"
      },
      "execution_count": 41,
      "outputs": [
        {
          "output_type": "execute_result",
          "data": {
            "text/plain": [
              "tensor(60.)"
            ]
          },
          "metadata": {},
          "execution_count": 41
        }
      ]
    },
    {
      "cell_type": "code",
      "source": [
        "mll"
      ],
      "metadata": {
        "colab": {
          "base_uri": "https://localhost:8080/"
        },
        "id": "olP-JTh5zn-g",
        "outputId": "f493fd9c-65e4-4713-e87c-410614480a93"
      },
      "execution_count": 43,
      "outputs": [
        {
          "output_type": "execute_result",
          "data": {
            "text/plain": [
              "VariationalELBO(\n",
              "  (likelihood): CensoredGaussianLikelihoodAnalytic(\n",
              "    (noise): HomoskedasticNoise(\n",
              "      (raw_noise_constraint): GreaterThan(1.000E-04)\n",
              "    )\n",
              "  )\n",
              "  (model): GPModel(\n",
              "    (variational_strategy): VariationalStrategy(\n",
              "      (_variational_distribution): CholeskyVariationalDistribution()\n",
              "    )\n",
              "    (mean_module): ConstantMean()\n",
              "    (covar_module): ScaleKernel(\n",
              "      (base_kernel): RBFKernel(\n",
              "        (raw_lengthscale_constraint): Positive()\n",
              "      )\n",
              "      (raw_outputscale_constraint): Positive()\n",
              "    )\n",
              "  )\n",
              ")"
            ]
          },
          "metadata": {},
          "execution_count": 43
        }
      ]
    },
    {
      "cell_type": "code",
      "source": [
        "X_train.values.astype(np.float32)"
      ],
      "metadata": {
        "colab": {
          "base_uri": "https://localhost:8080/"
        },
        "id": "Ae1zLeHqzw9Y",
        "outputId": "66afcc96-ffe5-4625-c30b-7d8b93389bbc"
      },
      "execution_count": 47,
      "outputs": [
        {
          "output_type": "execute_result",
          "data": {
            "text/plain": [
              "array([[3.5000e+01, 1.4710e+03, 0.0000e+00, ..., 0.0000e+00, 0.0000e+00,\n",
              "        1.0000e+00],\n",
              "       [3.5000e+01, 1.0722e+04, 0.0000e+00, ..., 0.0000e+00, 0.0000e+00,\n",
              "        1.0000e+00],\n",
              "       [5.2000e+01, 6.4680e+03, 0.0000e+00, ..., 0.0000e+00, 1.0000e+00,\n",
              "        1.0000e+00],\n",
              "       ...,\n",
              "       [6.6000e+01, 7.9000e+02, 0.0000e+00, ..., 1.0000e+00, 0.0000e+00,\n",
              "        0.0000e+00],\n",
              "       [3.1000e+01, 1.9570e+03, 0.0000e+00, ..., 0.0000e+00, 0.0000e+00,\n",
              "        0.0000e+00],\n",
              "       [2.6000e+01, 1.9250e+03, 1.0000e+00, ..., 0.0000e+00, 0.0000e+00,\n",
              "        0.0000e+00]], dtype=float32)"
            ]
          },
          "metadata": {},
          "execution_count": 47
        }
      ]
    },
    {
      "cell_type": "code",
      "source": [
        "X_train.values.astype(np.float32).shape"
      ],
      "metadata": {
        "colab": {
          "base_uri": "https://localhost:8080/"
        },
        "id": "OBNwcx8R1g0d",
        "outputId": "d229ef5c-9556-4866-ab6e-ba17f9285222"
      },
      "execution_count": 56,
      "outputs": [
        {
          "output_type": "execute_result",
          "data": {
            "text/plain": [
              "(600, 42)"
            ]
          },
          "metadata": {},
          "execution_count": 56
        }
      ]
    },
    {
      "cell_type": "code",
      "source": [
        "x.std()/lmbd"
      ],
      "metadata": {
        "colab": {
          "base_uri": "https://localhost:8080/"
        },
        "id": "AyYtLCaC446F",
        "outputId": "2e1f7466-77c7-4c0c-cd20-4c1ebae3e80d"
      },
      "execution_count": 60,
      "outputs": [
        {
          "output_type": "execute_result",
          "data": {
            "text/plain": [
              "tensor(158.8951)"
            ]
          },
          "metadata": {},
          "execution_count": 60
        }
      ]
    },
    {
      "cell_type": "code",
      "source": [
        "del analytical_model, analytical_likelihood"
      ],
      "metadata": {
        "id": "rrOYfaoe9wYQ"
      },
      "execution_count": 85,
      "outputs": []
    },
    {
      "cell_type": "code",
      "source": [
        "x = torch.FloatTensor(X_train.values.astype(np.float32))\n",
        "y = torch.FloatTensor(T_train)\n",
        "MIN_VALUE, MAX_VALUE = y.min(), 72.\n",
        "\n",
        "censored_model = GPModel(inducing_points=x, covariance_type='cholesky')\n",
        "censored_likelihood = CensoredGaussianLikelihoodAnalytic(low=MIN_VALUE-1e-6, high=MAX_VALUE+1e-6,\n",
        "                                                              alpha=1., gamma=1., dzeta=1.)\n",
        "\n",
        "if torch.cuda.is_available():\n",
        "    censored_model = censored_model.cuda()\n",
        "    censored_likelihood = censored_likelihood.cuda()\n",
        "\n",
        "lmbd = 4 # lmbd in [1,10], 1 -> very linear, 10 -> very non-linear\n",
        "kappa = 10 # kappa in [2,100], this is the signal to noise ratio. kappa = 2 -> signal = 2*noise\n",
        "# censored_model.covar_module.base_kernel.initialize(lengthscale=x.std()/lmbd)\n",
        "censored_model.covar_module.initialize(outputscale=y.var());\n",
        "censored_model.mean_module.initialize(constant=y.mean())\n",
        "censored_likelihood.noise.initialize(noise=(y.std()/kappa).square());\n",
        "\n",
        "censored_model.train()\n",
        "censored_likelihood.train()\n",
        "censored_model.train_inputs = (x,)\n",
        "censored_model.train_targets = y\n",
        "mll = gpytorch.mlls.VariationalELBO(censored_likelihood, censored_model, num_data=y.size(0))\n",
        "res = botorch.fit.fit_gpytorch_mll_scipy(mll)\n",
        "print(res)"
      ],
      "metadata": {
        "colab": {
          "base_uri": "https://localhost:8080/"
        },
        "id": "JvFfAKWpy_u5",
        "outputId": "0121a49e-24fe-45c2-870e-a07554efd938"
      },
      "execution_count": 117,
      "outputs": [
        {
          "output_type": "stream",
          "name": "stdout",
          "text": [
            "OptimizationResult(step=78, fval=3.6336302757263184, status=<OptimizationStatus.SUCCESS: 2>, runtime=36.59468671899958, message='CONVERGENCE: REL_REDUCTION_OF_F_<=_FACTR*EPSMCH')\n"
          ]
        }
      ]
    },
    {
      "cell_type": "code",
      "source": [
        "domain = torch.FloatTensor(X_test.values.astype(np.float32))\n",
        "y_test = torch.FloatTensor(T_test)\n",
        "\n",
        "censored_model.eval()\n",
        "censored_likelihood.eval()\n",
        "\n",
        "censored_posterior_f = censored_model(domain)\n",
        "censored_posterior_y = censored_likelihood(censored_posterior_f)\n",
        "\n",
        "censored_posterior_y.log_prob(y_test).mean()"
      ],
      "metadata": {
        "colab": {
          "base_uri": "https://localhost:8080/"
        },
        "id": "EluWScAT55xX",
        "outputId": "c2738c41-e53e-4df8-ef54-96bed198d274"
      },
      "execution_count": 118,
      "outputs": [
        {
          "output_type": "execute_result",
          "data": {
            "text/plain": [
              "tensor(-24.7466, grad_fn=<MeanBackward0>)"
            ]
          },
          "metadata": {},
          "execution_count": 118
        }
      ]
    },
    {
      "cell_type": "code",
      "source": [
        "import copy\n",
        "censored_likelihood_replacement = copy.deepcopy(censored_likelihood)"
      ],
      "metadata": {
        "id": "N-gA83xhA3ih"
      },
      "execution_count": 119,
      "outputs": []
    },
    {
      "cell_type": "markdown",
      "source": [
        "Gaussian"
      ],
      "metadata": {
        "id": "isLYE_DF7Fkj"
      }
    },
    {
      "cell_type": "code",
      "source": [
        "x = torch.FloatTensor(X_train.values.astype(np.float32))\n",
        "y = torch.FloatTensor(T_train)\n",
        "MIN_VALUE, MAX_VALUE = y.min(), 72.\n",
        "\n",
        "uncensored_model = GPModel(inducing_points=x, covariance_type='cholesky')\n",
        "lmbd = 4 # lmbd in [1,10], 1 -> very linear, 10 -> very non-linear\n",
        "kappa = 10 # kappa in [2,100], this is the signal to noise ratio. kappa = 2 -> signal = 2*noise\n",
        "# uncensored_model.covar_module.base_kernel.initialize(lengthscale=x.std()/lmbd)\n",
        "uncensored_model.covar_module.initialize(outputscale=y.var());\n",
        "uncensored_model.mean_module.initialize(constant=y.mean())\n",
        "uncensored_likelihood = gpytorch.likelihoods.GaussianLikelihood(noise_prior=gpytorch.priors.NormalPrior(loc=(y.std()/kappa).square(), scale=1))\n",
        "# uncensored_likelihood.noise.initialize(noise=(y.std()/kappa).square());\n",
        "\n",
        "if torch.cuda.is_available():\n",
        "    uncensored_model = uncensored_model.cuda()\n",
        "    uncensored_likelihood = uncensored_likelihood.cuda()\n",
        "\n",
        "\n",
        "uncensored_model.train()\n",
        "uncensored_likelihood.train()\n",
        "uncensored_model.train_inputs = (x,)\n",
        "uncensored_model.train_targets = y\n",
        "mll = gpytorch.mlls.VariationalELBO(uncensored_likelihood, uncensored_model, num_data=y.size(0))\n",
        "res = botorch.fit.fit_gpytorch_mll_scipy(mll)\n",
        "print(res)"
      ],
      "metadata": {
        "colab": {
          "base_uri": "https://localhost:8080/"
        },
        "id": "qZ2L2gjs67WA",
        "outputId": "73295ecd-291e-4fa8-f34a-53d5752e4d9f"
      },
      "execution_count": 120,
      "outputs": [
        {
          "output_type": "stream",
          "name": "stdout",
          "text": [
            "OptimizationResult(step=28, fval=3.890211820602417, status=<OptimizationStatus.SUCCESS: 2>, runtime=13.648685168000156, message='CONVERGENCE: REL_REDUCTION_OF_F_<=_FACTR*EPSMCH')\n"
          ]
        }
      ]
    },
    {
      "cell_type": "code",
      "source": [
        "domain = torch.FloatTensor(X_test.values.astype(np.float32))\n",
        "y_test = torch.FloatTensor(T_test)\n",
        "\n",
        "uncensored_model.eval()\n",
        "uncensored_likelihood.eval()\n",
        "\n",
        "uncensored_posterior_f = uncensored_model(domain)\n",
        "uncensored_posterior_y = uncensored_likelihood(censored_posterior_f)\n",
        "\n",
        "uncensored_posterior_y.log_prob(y_test).mean()"
      ],
      "metadata": {
        "colab": {
          "base_uri": "https://localhost:8080/"
        },
        "id": "Lr5PWtm57Xs8",
        "outputId": "29d15993-252a-4ab1-b61c-ca50ca41521f"
      },
      "execution_count": 121,
      "outputs": [
        {
          "output_type": "execute_result",
          "data": {
            "text/plain": [
              "tensor(-1595.4829, grad_fn=<MeanBackward0>)"
            ]
          },
          "metadata": {},
          "execution_count": 121
        }
      ]
    },
    {
      "cell_type": "code",
      "source": [],
      "metadata": {
        "colab": {
          "base_uri": "https://localhost:8080/"
        },
        "id": "RGZQGKQcAlKl",
        "outputId": "89ba086d-bc2a-4857-90de-03bac05c9aee"
      },
      "execution_count": 114,
      "outputs": [
        {
          "output_type": "stream",
          "name": "stdout",
          "text": [
            "tensor([1.4386], grad_fn=<AddBackward0>) tensor([1.4386], grad_fn=<AddBackward0>) tensor([7.6358], grad_fn=<AddBackward0>)\n"
          ]
        }
      ]
    },
    {
      "cell_type": "code",
      "source": [],
      "metadata": {
        "colab": {
          "base_uri": "https://localhost:8080/"
        },
        "id": "Xdl0fGxrB1Tp",
        "outputId": "798f2c94-fb05-429b-eafd-9aa19b551b34"
      },
      "execution_count": 112,
      "outputs": [
        {
          "output_type": "execute_result",
          "data": {
            "text/plain": [
              "tensor([1.4386], grad_fn=<AddBackward0>)"
            ]
          },
          "metadata": {},
          "execution_count": 112
        }
      ]
    },
    {
      "cell_type": "code",
      "source": [
        "censored_likelihood_replacement.noise.noise = uncensored_likelihood.noise\n",
        "print('Check noise replacement: ',\n",
        "      uncensored_likelihood.noise.detach().numpy(),\n",
        "      censored_likelihood_replacement.variance.detach().numpy(),\n",
        "      censored_likelihood.variance.detach().numpy())\n",
        "\n",
        "censored_posterior_y = censored_likelihood(censored_posterior_f)\n",
        "uncensored_posterior_y_diff_lik = censored_likelihood_replacement(uncensored_posterior_f)\n",
        "\n",
        "print('Censored NLPD: ', -censored_posterior_y.log_prob(y_test).mean())\n",
        "print('Uncensored NLPD: ', -uncensored_posterior_y_diff_lik.log_prob(y_test).mean())"
      ],
      "metadata": {
        "colab": {
          "base_uri": "https://localhost:8080/"
        },
        "id": "qL1LPOVdAgUv",
        "outputId": "8a461678-f073-4205-f0a0-18d7ec5e3ddb"
      },
      "execution_count": 128,
      "outputs": [
        {
          "output_type": "stream",
          "name": "stdout",
          "text": [
            "Check noise replacement:  [1.4455342] [1.4455342] [8.1678295]\n",
            "Censored NLPD:  tensor(25.0981, grad_fn=<NegBackward0>)\n",
            "Uncensored NLPD:  tensor(99.7946, grad_fn=<NegBackward0>)\n"
          ]
        }
      ]
    },
    {
      "cell_type": "markdown",
      "source": [
        "## Survival analysis"
      ],
      "metadata": {
        "id": "xogHGjrwyVOo"
      }
    },
    {
      "cell_type": "code",
      "source": [
        "!wget https://github.com/jaredleekatzman/DeepSurv/raw/master/experiments/data/gbsg/gbsg_cancer_train_test.h5"
      ],
      "metadata": {
        "colab": {
          "base_uri": "https://localhost:8080/"
        },
        "id": "aOzHsRAxyjL0",
        "outputId": "ccb8e4eb-7416-42cd-c0cf-2313c78ab280"
      },
      "execution_count": null,
      "outputs": [
        {
          "output_type": "stream",
          "name": "stdout",
          "text": [
            "--2024-05-20 11:36:53--  https://github.com/jaredleekatzman/DeepSurv/raw/master/experiments/data/gbsg/gbsg_cancer_train_test.h5\n",
            "Resolving github.com (github.com)... 140.82.112.4\n",
            "Connecting to github.com (github.com)|140.82.112.4|:443... connected.\n",
            "HTTP request sent, awaiting response... 302 Found\n",
            "Location: https://raw.githubusercontent.com/jaredleekatzman/DeepSurv/master/experiments/data/gbsg/gbsg_cancer_train_test.h5 [following]\n",
            "--2024-05-20 11:36:54--  https://raw.githubusercontent.com/jaredleekatzman/DeepSurv/master/experiments/data/gbsg/gbsg_cancer_train_test.h5\n",
            "Resolving raw.githubusercontent.com (raw.githubusercontent.com)... 185.199.108.133, 185.199.109.133, 185.199.110.133, ...\n",
            "Connecting to raw.githubusercontent.com (raw.githubusercontent.com)|185.199.108.133|:443... connected.\n",
            "HTTP request sent, awaiting response... 200 OK\n",
            "Length: 86592 (85K) [application/octet-stream]\n",
            "Saving to: ‘gbsg_cancer_train_test.h5’\n",
            "\n",
            "gbsg_cancer_train_t 100%[===================>]  84.56K  --.-KB/s    in 0.01s   \n",
            "\n",
            "2024-05-20 11:36:54 (5.81 MB/s) - ‘gbsg_cancer_train_test.h5’ saved [86592/86592]\n",
            "\n"
          ]
        }
      ]
    },
    {
      "cell_type": "code",
      "source": [
        "pd.read_hdf(\"gbsg_cancer_train_test.h5\")"
      ],
      "metadata": {
        "colab": {
          "base_uri": "https://localhost:8080/",
          "height": 294
        },
        "id": "tKUOOgc8xFnq",
        "outputId": "06dd4079-2e48-4184-f45b-bb0e41fe67d7"
      },
      "execution_count": null,
      "outputs": [
        {
          "output_type": "error",
          "ename": "ValueError",
          "evalue": "Dataset(s) incompatible with Pandas data types, not table, or no datasets found in HDF5 file.",
          "traceback": [
            "\u001b[0;31m---------------------------------------------------------------------------\u001b[0m",
            "\u001b[0;31mValueError\u001b[0m                                Traceback (most recent call last)",
            "\u001b[0;32m<ipython-input-8-226ff9ee7cb1>\u001b[0m in \u001b[0;36m<cell line: 1>\u001b[0;34m()\u001b[0m\n\u001b[0;32m----> 1\u001b[0;31m \u001b[0mpd\u001b[0m\u001b[0;34m.\u001b[0m\u001b[0mread_hdf\u001b[0m\u001b[0;34m(\u001b[0m\u001b[0;34m\"gbsg_cancer_train_test.h5\"\u001b[0m\u001b[0;34m)\u001b[0m\u001b[0;34m\u001b[0m\u001b[0;34m\u001b[0m\u001b[0m\n\u001b[0m",
            "\u001b[0;32m/usr/local/lib/python3.10/dist-packages/pandas/io/pytables.py\u001b[0m in \u001b[0;36mread_hdf\u001b[0;34m(path_or_buf, key, mode, errors, where, start, stop, columns, iterator, chunksize, **kwargs)\u001b[0m\n\u001b[1;32m    427\u001b[0m             \u001b[0mgroups\u001b[0m \u001b[0;34m=\u001b[0m \u001b[0mstore\u001b[0m\u001b[0;34m.\u001b[0m\u001b[0mgroups\u001b[0m\u001b[0;34m(\u001b[0m\u001b[0;34m)\u001b[0m\u001b[0;34m\u001b[0m\u001b[0;34m\u001b[0m\u001b[0m\n\u001b[1;32m    428\u001b[0m             \u001b[0;32mif\u001b[0m \u001b[0mlen\u001b[0m\u001b[0;34m(\u001b[0m\u001b[0mgroups\u001b[0m\u001b[0;34m)\u001b[0m \u001b[0;34m==\u001b[0m \u001b[0;36m0\u001b[0m\u001b[0;34m:\u001b[0m\u001b[0;34m\u001b[0m\u001b[0;34m\u001b[0m\u001b[0m\n\u001b[0;32m--> 429\u001b[0;31m                 raise ValueError(\n\u001b[0m\u001b[1;32m    430\u001b[0m                     \u001b[0;34m\"Dataset(s) incompatible with Pandas data types, \"\u001b[0m\u001b[0;34m\u001b[0m\u001b[0;34m\u001b[0m\u001b[0m\n\u001b[1;32m    431\u001b[0m                     \u001b[0;34m\"not table, or no datasets found in HDF5 file.\"\u001b[0m\u001b[0;34m\u001b[0m\u001b[0;34m\u001b[0m\u001b[0m\n",
            "\u001b[0;31mValueError\u001b[0m: Dataset(s) incompatible with Pandas data types, not table, or no datasets found in HDF5 file."
          ]
        }
      ]
    },
    {
      "cell_type": "code",
      "source": [
        "import h5py\n",
        "from collections import defaultdict\n",
        "datasets = defaultdict(dict)\n",
        "with h5py.File(\"gbsg_cancer_train_test.h5\", 'r') as fp:\n",
        "    for ds in fp:\n",
        "        for array in fp[ds]:\n",
        "            datasets[ds][array] = fp[ds][array][:]"
      ],
      "metadata": {
        "id": "7DsBGF4QyiKk"
      },
      "execution_count": null,
      "outputs": []
    },
    {
      "cell_type": "code",
      "source": [
        "{k: v.shape for k,v in datasets['train'].items()}"
      ],
      "metadata": {
        "colab": {
          "base_uri": "https://localhost:8080/"
        },
        "id": "MsFzZYP7y9hB",
        "outputId": "6eef6124-2d81-4df4-9262-1a36cb744b32"
      },
      "execution_count": null,
      "outputs": [
        {
          "output_type": "execute_result",
          "data": {
            "text/plain": [
              "{'e': (1546,), 't': (1546,), 'x': (1546, 7)}"
            ]
          },
          "metadata": {},
          "execution_count": 13
        }
      ]
    },
    {
      "cell_type": "code",
      "source": [
        "ax = pd.Series(datasets['train']['t']).plot(kind='hist')\n",
        "ax.set_xlabel(\"Dependent variable `t` from gbsg_cancer_train_test.h5\")\n",
        "ax.set_title(\"Histogram\")"
      ],
      "metadata": {
        "colab": {
          "base_uri": "https://localhost:8080/",
          "height": 490
        },
        "id": "AvzqdF1-zICo",
        "outputId": "f67a5024-c4d7-45d0-d341-47b6315a67f8"
      },
      "execution_count": null,
      "outputs": [
        {
          "output_type": "execute_result",
          "data": {
            "text/plain": [
              "Text(0.5, 1.0, 'Histogram')"
            ]
          },
          "metadata": {},
          "execution_count": 17
        },
        {
          "output_type": "display_data",
          "data": {
            "text/plain": [
              "<Figure size 640x480 with 1 Axes>"
            ],
            "image/png": "[encoded data removed]"
          },
          "metadata": {}
        }
      ]
    },
    {
      "cell_type": "code",
      "source": [],
      "metadata": {
        "id": "LGcRo477z6UK"
      },
      "execution_count": null,
      "outputs": []
    },
    {
      "cell_type": "code",
      "source": [],
      "metadata": {
        "id": "ga3__dDWzmCd"
      },
      "execution_count": null,
      "outputs": []
    },
    {
      "cell_type": "code",
      "source": [
        "ax = pd.Series(datasets['train']['e']).plot(kind='hist')\n",
        "ax.set_xlabel(\"Binary variable `e` from gbsg_cancer_train_test.h5\")\n",
        "ax.set_title(\"Histogram\")"
      ],
      "metadata": {
        "colab": {
          "base_uri": "https://localhost:8080/",
          "height": 490
        },
        "id": "GL1m3V9vzPbt",
        "outputId": "d7c382a7-c99a-4482-8676-fac8190f43dc"
      },
      "execution_count": null,
      "outputs": [
        {
          "output_type": "execute_result",
          "data": {
            "text/plain": [
              "Text(0.5, 1.0, 'Histogram')"
            ]
          },
          "metadata": {},
          "execution_count": 19
        },
        {
          "output_type": "display_data",
          "data": {
            "text/plain": [
              "<Figure size 640x480 with 1 Axes>"
            ],
            "image/png": "[encoded data removed]"
          },
          "metadata": {}
        }
      ]
    },
    {
      "cell_type": "code",
      "source": [],
      "metadata": {
        "id": "XFVOPCZezT-Y"
      },
      "execution_count": null,
      "outputs": []
    }
  ]
}